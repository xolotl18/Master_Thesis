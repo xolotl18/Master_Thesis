{
 "cells": [
  {
   "cell_type": "markdown",
   "metadata": {
    "colab_type": "text",
    "id": "view-in-github"
   },
   "source": [
    "<a href=\"https://colab.research.google.com/github/xolotl18/Master_Thesis/blob/main/training.ipynb\" target=\"_parent\"><img src=\"https://colab.research.google.com/assets/colab-badge.svg\" alt=\"Open In Colab\"/></a>"
   ]
  },
  {
   "cell_type": "markdown",
   "metadata": {
    "id": "Q0h5Lhdc8pCj"
   },
   "source": [
    "# Semantic Segmentation with FastSCNN"
   ]
  },
  {
   "cell_type": "markdown",
   "metadata": {
    "id": "3B_C0udn81Wl"
   },
   "source": [
    "The purpose of this model is to train the network on the train dataset and then export the model in onnx format and also save the state_dict of the pytorch model for later inference"
   ]
  },
  {
   "cell_type": "markdown",
   "metadata": {
    "id": "FkJXo9Fe8xaZ",
    "jp-MarkdownHeadingCollapsed": true,
    "tags": []
   },
   "source": [
    "## Installation of libraries for Google  Colab"
   ]
  },
  {
   "cell_type": "markdown",
   "metadata": {},
   "source": [
    "**Do not run this cell outside of Google Colaboratory**"
   ]
  },
  {
   "cell_type": "code",
   "execution_count": null,
   "metadata": {
    "colab": {
     "base_uri": "https://localhost:8080/"
    },
    "id": "MsUVejuD8NE4",
    "outputId": "259b9f11-9def-482c-aaff-65b76d14c9ff"
   },
   "outputs": [],
   "source": [
    "!pip3 install -q -U albumentations\n",
    "!echo \"$(pip freeze | grep albumentations) is successfully installed\"\n",
    "!pip uninstall opencv-python-headless==4.5.5.62\n",
    "!pip install opencv-python-headless==4.5.2.52\n",
    "!pip install torchmetrics\n",
    "!pip install torch==1.8.0+cu111 torchvision==0.9.0+cu111 torchaudio==0.8.0 -f https://download.pytorch.org/whl/torch_stable.html\n",
    "!git clone https://github.com/xolotl18/Master_Thesis\n",
    "!pip install onnx\n",
    "!pip install onnxruntime"
   ]
  },
  {
   "cell_type": "markdown",
   "metadata": {
    "id": "ToEHpxrS9YrK"
   },
   "source": [
    "## Imports"
   ]
  },
  {
   "cell_type": "code",
   "execution_count": 1,
   "metadata": {
    "id": "DNzYJzDG8oTS"
   },
   "outputs": [],
   "source": [
    "import copy\n",
    "import random\n",
    "import os\n",
    "import sys\n",
    "import shutil\n",
    "from urllib.request import urlretrieve\n",
    "\n",
    "import albumentations as A\n",
    "import albumentations.augmentations.functional as F\n",
    "from albumentations.pytorch import ToTensorV2\n",
    "import cv2\n",
    "import matplotlib.pyplot as plt\n",
    "import numpy as np\n",
    "from tqdm.notebook import tqdm\n",
    "import torch\n",
    "import torch.backends.cudnn as cudnn\n",
    "import torch.nn as nn\n",
    "import torch.optim\n",
    "from torch.utils.data import Dataset, DataLoader\n",
    "from torchmetrics import JaccardIndex\n",
    "from statistics import mean\n",
    "import torchvision.transforms as T\n",
    "import torch.onnx\n",
    "import onnx\n",
    "import onnxruntime\n",
    "from torchsummary import summary\n",
    "\n",
    "\n",
    "from utils.lr_scheduler import PolynomialLRDecay\n",
    "from models.fast_scnn import FastSCNN\n",
    "from models.small_scnn import SmallSCNN\n",
    "from models.super_small_scnn import SuperSmallSCNN\n",
    "\n",
    "from models.experiments.fast_scnn_mod import FastSCNN as fastscnn_mod\n",
    "\n",
    "from models.bisenetv2 import BiSeNetV2\n",
    "from utils.dataset import PackagesDataset, PackagesInferenceDataset\n",
    "from utils.evaluation import Evaluate\n",
    "cudnn.benchmark = True"
   ]
  },
  {
   "cell_type": "markdown",
   "metadata": {
    "id": "3ly8xqG0BpMa"
   },
   "source": [
    "## Load image and label files into Dataset objects"
   ]
  },
  {
   "cell_type": "markdown",
   "metadata": {
    "id": "o8zTRzUcB26B"
   },
   "source": [
    "The dataset has already been divided into train, validation and test folders in the notebook **Desktop/Master_Thesis/preparation/dataset_traintest_split.ipynb**"
   ]
  },
  {
   "cell_type": "code",
   "execution_count": 2,
   "metadata": {
    "colab": {
     "base_uri": "https://localhost:8080/"
    },
    "id": "Ht_TfMCX_YPU",
    "outputId": "90574f95-389a-4d0e-b9bb-087f6ee935ff"
   },
   "outputs": [
    {
     "name": "stdout",
     "output_type": "stream",
     "text": [
      "The size of the train set is : 300\n",
      "\n",
      "The size of the validation set is : 40\n",
      "\n",
      "The size of the test set is : 60\n",
      "\n"
     ]
    }
   ],
   "source": [
    "c_dir = os.getcwd()\n",
    "dataset_directory = os.path.join(c_dir, \"full_dataset\")\n",
    "\n",
    "train_images_directory = os.path.join(dataset_directory, \"train/images\")\n",
    "train_masks_directory = os.path.join(dataset_directory, \"train/labels\")\n",
    "val_images_directory = os.path.join(dataset_directory, \"val/images\")\n",
    "val_masks_directory = os.path.join(dataset_directory, \"val/labels\")\n",
    "test_images_directory = os.path.join(dataset_directory, \"test/images\")\n",
    "test_masks_directory = os.path.join(dataset_directory, \"test/labels\")\n",
    "\n",
    "#make sure that image_filenames only contains png files\n",
    "train_images_filenames = []\n",
    "train_images_filenames = [ item for item in os.listdir(train_images_directory) if item.endswith(\".png\") ]\n",
    "val_images_filenames = []\n",
    "val_images_filenames = [ item for item in os.listdir(val_images_directory) if item.endswith(\".png\") ]\n",
    "test_images_filenames = []\n",
    "test_images_filenames = [ item for item in os.listdir(test_images_directory) if item.endswith(\".png\") ]\n",
    "\n",
    "for names_list, split in zip((train_images_filenames, val_images_filenames, test_images_filenames), ('train', 'validation', 'test')):\n",
    "  print(f\"The size of the {split} set is : {len(names_list)}\")\n",
    "  print()"
   ]
  },
  {
   "cell_type": "markdown",
   "metadata": {
    "id": "HmSe1l8wDIgh"
   },
   "source": [
    "Select the transformations and create the Dataset objects. \n",
    "\n",
    "The test dataset is different from train and validation because it does not crop the image but applies a resize that will be reversed after the inference."
   ]
  },
  {
   "cell_type": "code",
   "execution_count": 3,
   "metadata": {
    "id": "u0mkcqVHA197"
   },
   "outputs": [],
   "source": [
    "train_transform = A.Compose(\n",
    "    [\n",
    "        A.PadIfNeeded(min_height=512, min_width=512),\n",
    "        A.RandomCrop(512, 512),\n",
    "        A.ShiftScaleRotate(shift_limit=0.05, scale_limit=0.05, rotate_limit=15, p=0.5),\n",
    "        A.RGBShift(r_shift_limit=15, g_shift_limit=15, b_shift_limit=15, p=0.3),\n",
    "        A.RandomBrightnessContrast(p=0.3),\n",
    "        A.Normalize(mean=(0.485, 0.456, 0.406), std=(0.229, 0.224, 0.225)),\n",
    "        ToTensorV2(),\n",
    "    ]\n",
    ")\n",
    "val_transform = A.Compose(\n",
    "    [\n",
    "        A.PadIfNeeded(min_height=512, min_width=512),\n",
    "        A.CenterCrop(512, 512),\n",
    "        A.Normalize(mean=(0.485, 0.456, 0.406), std=(0.229, 0.224, 0.225)),\n",
    "        ToTensorV2(),\n",
    "    ]\n",
    ")\n",
    "test_transform = A.Compose(\n",
    "    [\n",
    "        A.Resize(512, 512),\n",
    "        A.Normalize(mean=(0.485, 0.456, 0.406), std=(0.229, 0.224, 0.225)),\n",
    "        ToTensorV2(),\n",
    "    ]\n",
    ")\n",
    "\n",
    "train_dataset = PackagesDataset(train_images_filenames, train_images_directory, train_masks_directory, transform=train_transform,)\n",
    "val_dataset = PackagesDataset(val_images_filenames, val_images_directory, val_masks_directory, transform=val_transform,)\n",
    "test_dataset = PackagesInferenceDataset(test_images_filenames, test_images_directory, test_masks_directory, transform=test_transform,)"
   ]
  },
  {
   "cell_type": "markdown",
   "metadata": {
    "id": "5NMVGrX6FKCi",
    "tags": []
   },
   "source": [
    "## Training functions"
   ]
  },
  {
   "cell_type": "code",
   "execution_count": 4,
   "metadata": {
    "id": "DeDfSTgaFytR"
   },
   "outputs": [
    {
     "name": "stdout",
     "output_type": "stream",
     "text": [
      "The device is : cuda\n"
     ]
    }
   ],
   "source": [
    "if torch.cuda.is_available():\n",
    "  device = \"cuda\"\n",
    "else:\n",
    "  device = \"cpu\"\n",
    "\n",
    "params = {\n",
    "    \"device\" : device,\n",
    "    \"lr\" : 0.01,\n",
    "    \"batch_size\" : 8,\n",
    "    \"num_workers\" : 4,\n",
    "    \"epochs\" : 400,\n",
    "}\n",
    "print(f\"The device is : {device}\")"
   ]
  },
  {
   "cell_type": "code",
   "execution_count": 5,
   "metadata": {
    "id": "GeVIeZ9GDdu9"
   },
   "outputs": [],
   "source": [
    "#these functions are modified to show less information \n",
    "#the output of 400 epochs of training takes up too much space\n",
    "def train(train_loader, model, criterion, optimizer, scheduler, epoch, params):\n",
    "    model.train()\n",
    "    running_loss = 0.0\n",
    "    for i, data in enumerate(train_loader, 1):\n",
    "        optimizer.zero_grad()\n",
    "\n",
    "        images, targets = data\n",
    "        images = images.to(params[\"device\"], non_blocking=True)\n",
    "        targets = targets.to(params[\"device\"], non_blocking=True)\n",
    "\n",
    "        outputs = model(images)\n",
    "        targets = torch.unsqueeze(targets, 1)\n",
    "\n",
    "        loss = criterion(outputs, targets)\n",
    "        loss.backward()\n",
    "        optimizer.step()\n",
    "        scheduler.step(epoch)\n",
    "        running_loss += loss.item()*images.size(0)\n",
    "\n",
    "def validate(val_loader, model, criterion, epoch, params):\n",
    "    model.eval()\n",
    "    running_loss=0.0\n",
    "    with torch.no_grad():\n",
    "        for i, data in enumerate(val_loader, start=1):\n",
    "                images, targets = data\n",
    "                images = images.to(params[\"device\"], non_blocking=True)\n",
    "                targets = targets.to(params[\"device\"], non_blocking=True)\n",
    "                output = model(images).squeeze(1)\n",
    "                loss = criterion(output, targets)\n",
    "                running_loss += loss.item()*images.size(0)\n",
    "    return running_loss"
   ]
  },
  {
   "cell_type": "code",
   "execution_count": 6,
   "metadata": {},
   "outputs": [],
   "source": [
    "def predict(model, params, test_dataset):\n",
    "    test_loader = DataLoader(\n",
    "        test_dataset, batch_size=params[\"batch_size\"], shuffle=False, num_workers=params[\"num_workers\"], pin_memory=True,\n",
    "    )\n",
    "    model.eval()\n",
    "    predictions = []\n",
    "    with torch.no_grad():\n",
    "        for images, masks, (original_heights, original_widths) in test_loader:\n",
    "            images = images.to(params[\"device\"], non_blocking=True)\n",
    "            output = model(images)\n",
    "            probabilities = torch.sigmoid(output.squeeze(1))\n",
    "            predicted_masks = (probabilities >= 0.5).float() * 1\n",
    "            predicted_masks = predicted_masks.cpu().numpy()\n",
    "            for predicted_mask, gt, original_height, original_width in zip(\n",
    "                predicted_masks, masks.numpy(), original_heights.numpy(), original_widths.numpy()\n",
    "            ):\n",
    "                predictions.append((predicted_mask, gt, original_height, original_width))\n",
    "    return predictions"
   ]
  },
  {
   "cell_type": "code",
   "execution_count": 7,
   "metadata": {},
   "outputs": [],
   "source": [
    "def remove_initializer_from_input(model_path):\n",
    "\n",
    "    onnxmodel = onnx.load(model_path+\".onnx\")\n",
    "    if onnxmodel.ir_version < 4:\n",
    "        print(\"Model with ir_version below 4 requires to include initilizer in graph input\")\n",
    "        return\n",
    "\n",
    "    inputs = onnxmodel.graph.input\n",
    "    name_to_input = {}\n",
    "    for input in inputs:\n",
    "        name_to_input[input.name] = input\n",
    "\n",
    "    for initializer in onnxmodel.graph.initializer:\n",
    "        if initializer.name in name_to_input:\n",
    "            inputs.remove(name_to_input[initializer.name])\n",
    "    out_path = model_path+\"_noinit.onnx\"\n",
    "    onnx.save(onnxmodel, out_path)"
   ]
  },
  {
   "cell_type": "markdown",
   "metadata": {},
   "source": [
    "## Model selection"
   ]
  },
  {
   "cell_type": "markdown",
   "metadata": {},
   "source": [
    "In this section we will define a sequence of hyperparameters that will define the structure of the network. By iterating over these combinations of hyperparameters we will train different models one after the other and save the torch state_dict and the onnx model."
   ]
  },
  {
   "cell_type": "code",
   "execution_count": 8,
   "metadata": {},
   "outputs": [],
   "source": [
    "#the list of parameters contains tuples corresponding to a t r pp\n",
    "#these parameters make up the first 2 stages of simplification\n",
    "#after the models are trained and evaluated, a combination of the results from\n",
    "#these 2 stages will make up the third stage of simplification\n",
    "parameters =[\n",
    "    (1.0, 6, 3, True),    #baseline\n",
    "    (0.75, 6, 3, True),\n",
    "    (0.5, 6, 3, True),\n",
    "    (0.25, 6, 3, True),\n",
    "    (0.125, 6, 3, True),\n",
    "    (0.5, 4, 3, True),\n",
    "    (0.25, 4, 3, True),\n",
    "    (0.125, 4, 3, True),\n",
    "    (0.25, 2, 3, True),\n",
    "    (0.125, 2, 3, True),\n",
    "    (1.0, 6, 3, False),\n",
    "    (1.0, 6, 2, True),\n",
    "    (1.0, 6, 1, True),\n",
    "    (1.0, 6, 1, False),   \n",
    "]"
   ]
  },
  {
   "cell_type": "code",
   "execution_count": 9,
   "metadata": {},
   "outputs": [],
   "source": [
    "train_loader = DataLoader(\n",
    "    train_dataset,\n",
    "    batch_size=params[\"batch_size\"],\n",
    "    shuffle=True,\n",
    "    num_workers=params[\"num_workers\"],\n",
    "    pin_memory=False,\n",
    ")\n",
    "\n",
    "val_loader = DataLoader(\n",
    "    val_dataset,\n",
    "    batch_size=params[\"batch_size\"],\n",
    "    shuffle=True,\n",
    "    num_workers=params[\"num_workers\"],\n",
    "    pin_memory=False,\n",
    ")"
   ]
  },
  {
   "cell_type": "code",
   "execution_count": 10,
   "metadata": {},
   "outputs": [
    {
     "name": "stdout",
     "output_type": "stream",
     "text": [
      "The model has been initialized with parameters:\n",
      "\t Width multiplier a =  1.0\n",
      "\t Bottleneck expansion rate t =  6\n",
      "\t Bottleneck block repetition r =  3\n",
      "\t Presence of Pyramid Pooling module pp =  True\n"
     ]
    },
    {
     "data": {
      "application/vnd.jupyter.widget-view+json": {
       "model_id": "a6a25fc1c06540acb788a9ec2f2dd6a8",
       "version_major": 2,
       "version_minor": 0
      },
      "text/plain": [
       "  0%|          | 0/400 [00:00<?, ?it/s]"
      ]
     },
     "metadata": {},
     "output_type": "display_data"
    },
    {
     "name": "stdout",
     "output_type": "stream",
     "text": [
      "The Intersection over Union score is : 0.9770\n",
      "The Dice Coefficient is : 0.9884\n",
      "\n",
      "Torch state_dict saved\n",
      "Onnx model saved\n",
      "\n",
      "The model has been initialized with parameters:\n",
      "\t Width multiplier a =  0.75\n",
      "\t Bottleneck expansion rate t =  6\n",
      "\t Bottleneck block repetition r =  3\n",
      "\t Presence of Pyramid Pooling module pp =  True\n"
     ]
    },
    {
     "data": {
      "application/vnd.jupyter.widget-view+json": {
       "model_id": "445cd783295d489c9866e4397404e169",
       "version_major": 2,
       "version_minor": 0
      },
      "text/plain": [
       "  0%|          | 0/400 [00:00<?, ?it/s]"
      ]
     },
     "metadata": {},
     "output_type": "display_data"
    },
    {
     "name": "stdout",
     "output_type": "stream",
     "text": [
      "The Intersection over Union score is : 0.9763\n",
      "The Dice Coefficient is : 0.9880\n",
      "\n",
      "Torch state_dict saved\n",
      "Onnx model saved\n",
      "\n",
      "The model has been initialized with parameters:\n",
      "\t Width multiplier a =  0.5\n",
      "\t Bottleneck expansion rate t =  6\n",
      "\t Bottleneck block repetition r =  3\n",
      "\t Presence of Pyramid Pooling module pp =  True\n"
     ]
    },
    {
     "data": {
      "application/vnd.jupyter.widget-view+json": {
       "model_id": "f0667a9a49544e84aeec7884d2e0a915",
       "version_major": 2,
       "version_minor": 0
      },
      "text/plain": [
       "  0%|          | 0/400 [00:00<?, ?it/s]"
      ]
     },
     "metadata": {},
     "output_type": "display_data"
    },
    {
     "name": "stdout",
     "output_type": "stream",
     "text": [
      "The Intersection over Union score is : 0.9777\n",
      "The Dice Coefficient is : 0.9887\n",
      "\n",
      "Torch state_dict saved\n",
      "Onnx model saved\n",
      "\n",
      "The model has been initialized with parameters:\n",
      "\t Width multiplier a =  0.25\n",
      "\t Bottleneck expansion rate t =  6\n",
      "\t Bottleneck block repetition r =  3\n",
      "\t Presence of Pyramid Pooling module pp =  True\n"
     ]
    },
    {
     "data": {
      "application/vnd.jupyter.widget-view+json": {
       "model_id": "d89ad7b0127a42e192c54d26b006d183",
       "version_major": 2,
       "version_minor": 0
      },
      "text/plain": [
       "  0%|          | 0/400 [00:00<?, ?it/s]"
      ]
     },
     "metadata": {},
     "output_type": "display_data"
    },
    {
     "name": "stdout",
     "output_type": "stream",
     "text": [
      "The Intersection over Union score is : 0.9765\n",
      "The Dice Coefficient is : 0.9881\n",
      "\n",
      "Torch state_dict saved\n",
      "Onnx model saved\n",
      "\n",
      "The model has been initialized with parameters:\n",
      "\t Width multiplier a =  0.125\n",
      "\t Bottleneck expansion rate t =  6\n",
      "\t Bottleneck block repetition r =  3\n",
      "\t Presence of Pyramid Pooling module pp =  True\n"
     ]
    },
    {
     "data": {
      "application/vnd.jupyter.widget-view+json": {
       "model_id": "446a34a2cb0b4d458f2cc7bec1763d2b",
       "version_major": 2,
       "version_minor": 0
      },
      "text/plain": [
       "  0%|          | 0/400 [00:00<?, ?it/s]"
      ]
     },
     "metadata": {},
     "output_type": "display_data"
    },
    {
     "name": "stdout",
     "output_type": "stream",
     "text": [
      "The Intersection over Union score is : 0.9703\n",
      "The Dice Coefficient is : 0.9849\n",
      "\n",
      "Torch state_dict saved\n",
      "Onnx model saved\n",
      "\n",
      "The model has been initialized with parameters:\n",
      "\t Width multiplier a =  0.5\n",
      "\t Bottleneck expansion rate t =  4\n",
      "\t Bottleneck block repetition r =  3\n",
      "\t Presence of Pyramid Pooling module pp =  True\n"
     ]
    },
    {
     "data": {
      "application/vnd.jupyter.widget-view+json": {
       "model_id": "870f5c033e314a1a9870eb9aa356c796",
       "version_major": 2,
       "version_minor": 0
      },
      "text/plain": [
       "  0%|          | 0/400 [00:00<?, ?it/s]"
      ]
     },
     "metadata": {},
     "output_type": "display_data"
    },
    {
     "name": "stdout",
     "output_type": "stream",
     "text": [
      "The Intersection over Union score is : 0.9765\n",
      "The Dice Coefficient is : 0.9881\n",
      "\n",
      "Torch state_dict saved\n",
      "Onnx model saved\n",
      "\n",
      "The model has been initialized with parameters:\n",
      "\t Width multiplier a =  0.25\n",
      "\t Bottleneck expansion rate t =  4\n",
      "\t Bottleneck block repetition r =  3\n",
      "\t Presence of Pyramid Pooling module pp =  True\n"
     ]
    },
    {
     "data": {
      "application/vnd.jupyter.widget-view+json": {
       "model_id": "0bd389940a98416fb8df2e754b86a2c3",
       "version_major": 2,
       "version_minor": 0
      },
      "text/plain": [
       "  0%|          | 0/400 [00:00<?, ?it/s]"
      ]
     },
     "metadata": {},
     "output_type": "display_data"
    },
    {
     "name": "stdout",
     "output_type": "stream",
     "text": [
      "The Intersection over Union score is : 0.9723\n",
      "The Dice Coefficient is : 0.9859\n",
      "\n",
      "Torch state_dict saved\n",
      "Onnx model saved\n",
      "\n",
      "The model has been initialized with parameters:\n",
      "\t Width multiplier a =  0.125\n",
      "\t Bottleneck expansion rate t =  4\n",
      "\t Bottleneck block repetition r =  3\n",
      "\t Presence of Pyramid Pooling module pp =  True\n"
     ]
    },
    {
     "data": {
      "application/vnd.jupyter.widget-view+json": {
       "model_id": "92ea936507f6471894e95d9ddbd9e6ca",
       "version_major": 2,
       "version_minor": 0
      },
      "text/plain": [
       "  0%|          | 0/400 [00:00<?, ?it/s]"
      ]
     },
     "metadata": {},
     "output_type": "display_data"
    },
    {
     "name": "stdout",
     "output_type": "stream",
     "text": [
      "The Intersection over Union score is : 0.9707\n",
      "The Dice Coefficient is : 0.9851\n",
      "\n",
      "Torch state_dict saved\n",
      "Onnx model saved\n",
      "\n",
      "The model has been initialized with parameters:\n",
      "\t Width multiplier a =  0.25\n",
      "\t Bottleneck expansion rate t =  2\n",
      "\t Bottleneck block repetition r =  3\n",
      "\t Presence of Pyramid Pooling module pp =  True\n"
     ]
    },
    {
     "data": {
      "application/vnd.jupyter.widget-view+json": {
       "model_id": "a0e320b8763046728d0228948c57fcd7",
       "version_major": 2,
       "version_minor": 0
      },
      "text/plain": [
       "  0%|          | 0/400 [00:00<?, ?it/s]"
      ]
     },
     "metadata": {},
     "output_type": "display_data"
    },
    {
     "name": "stdout",
     "output_type": "stream",
     "text": [
      "The Intersection over Union score is : 0.9729\n",
      "The Dice Coefficient is : 0.9863\n",
      "\n",
      "Torch state_dict saved\n",
      "Onnx model saved\n",
      "\n",
      "The model has been initialized with parameters:\n",
      "\t Width multiplier a =  0.125\n",
      "\t Bottleneck expansion rate t =  2\n",
      "\t Bottleneck block repetition r =  3\n",
      "\t Presence of Pyramid Pooling module pp =  True\n"
     ]
    },
    {
     "data": {
      "application/vnd.jupyter.widget-view+json": {
       "model_id": "bc340ea3090949d6ba19c808ecc312b8",
       "version_major": 2,
       "version_minor": 0
      },
      "text/plain": [
       "  0%|          | 0/400 [00:00<?, ?it/s]"
      ]
     },
     "metadata": {},
     "output_type": "display_data"
    },
    {
     "name": "stdout",
     "output_type": "stream",
     "text": [
      "The Intersection over Union score is : 0.9670\n",
      "The Dice Coefficient is : 0.9832\n",
      "\n",
      "Torch state_dict saved\n",
      "Onnx model saved\n",
      "\n",
      "The model has been initialized with parameters:\n",
      "\t Width multiplier a =  0.125\n",
      "\t Bottleneck expansion rate t =  2\n",
      "\t Bottleneck block repetition r =  3\n",
      "\t Presence of Pyramid Pooling module pp =  True\n"
     ]
    },
    {
     "data": {
      "application/vnd.jupyter.widget-view+json": {
       "model_id": "dbad05bd12104952b921d1d8a842ca3b",
       "version_major": 2,
       "version_minor": 0
      },
      "text/plain": [
       "  0%|          | 0/400 [00:00<?, ?it/s]"
      ]
     },
     "metadata": {},
     "output_type": "display_data"
    },
    {
     "name": "stdout",
     "output_type": "stream",
     "text": [
      "The Intersection over Union score is : 0.9696\n",
      "The Dice Coefficient is : 0.9845\n",
      "\n",
      "Torch state_dict saved\n",
      "Onnx model saved\n",
      "\n",
      "The model has been initialized with parameters:\n",
      "\t Width multiplier a =  1.0\n",
      "\t Bottleneck expansion rate t =  6\n",
      "\t Bottleneck block repetition r =  3\n",
      "\t Presence of Pyramid Pooling module pp =  False\n"
     ]
    },
    {
     "data": {
      "application/vnd.jupyter.widget-view+json": {
       "model_id": "483b04aac67442bda55dcd282365d1ef",
       "version_major": 2,
       "version_minor": 0
      },
      "text/plain": [
       "  0%|          | 0/400 [00:00<?, ?it/s]"
      ]
     },
     "metadata": {},
     "output_type": "display_data"
    },
    {
     "name": "stdout",
     "output_type": "stream",
     "text": [
      "The Intersection over Union score is : 0.9784\n",
      "The Dice Coefficient is : 0.9891\n",
      "\n",
      "Torch state_dict saved\n",
      "Onnx model saved\n",
      "\n",
      "The model has been initialized with parameters:\n",
      "\t Width multiplier a =  1.0\n",
      "\t Bottleneck expansion rate t =  6\n",
      "\t Bottleneck block repetition r =  2\n",
      "\t Presence of Pyramid Pooling module pp =  True\n"
     ]
    },
    {
     "data": {
      "application/vnd.jupyter.widget-view+json": {
       "model_id": "2aa72c48e00046dd84265659c78ca52a",
       "version_major": 2,
       "version_minor": 0
      },
      "text/plain": [
       "  0%|          | 0/400 [00:00<?, ?it/s]"
      ]
     },
     "metadata": {},
     "output_type": "display_data"
    },
    {
     "name": "stdout",
     "output_type": "stream",
     "text": [
      "The Intersection over Union score is : 0.9726\n",
      "The Dice Coefficient is : 0.9861\n",
      "\n",
      "Torch state_dict saved\n",
      "Onnx model saved\n",
      "\n",
      "The model has been initialized with parameters:\n",
      "\t Width multiplier a =  1.0\n",
      "\t Bottleneck expansion rate t =  6\n",
      "\t Bottleneck block repetition r =  1\n",
      "\t Presence of Pyramid Pooling module pp =  True\n"
     ]
    },
    {
     "data": {
      "application/vnd.jupyter.widget-view+json": {
       "model_id": "4cd51c4c8497467c8bf7e3d90a865187",
       "version_major": 2,
       "version_minor": 0
      },
      "text/plain": [
       "  0%|          | 0/400 [00:00<?, ?it/s]"
      ]
     },
     "metadata": {},
     "output_type": "display_data"
    },
    {
     "name": "stdout",
     "output_type": "stream",
     "text": [
      "The Intersection over Union score is : 0.9769\n",
      "The Dice Coefficient is : 0.9883\n",
      "\n",
      "Torch state_dict saved\n",
      "Onnx model saved\n",
      "\n",
      "The model has been initialized with parameters:\n",
      "\t Width multiplier a =  1.0\n",
      "\t Bottleneck expansion rate t =  6\n",
      "\t Bottleneck block repetition r =  1\n",
      "\t Presence of Pyramid Pooling module pp =  False\n"
     ]
    },
    {
     "data": {
      "application/vnd.jupyter.widget-view+json": {
       "model_id": "573a7579d60546f6a0ed5f6739c12fda",
       "version_major": 2,
       "version_minor": 0
      },
      "text/plain": [
       "  0%|          | 0/400 [00:00<?, ?it/s]"
      ]
     },
     "metadata": {},
     "output_type": "display_data"
    },
    {
     "name": "stdout",
     "output_type": "stream",
     "text": [
      "The Intersection over Union score is : 0.9800\n",
      "The Dice Coefficient is : 0.9899\n",
      "\n",
      "Torch state_dict saved\n",
      "Onnx model saved\n",
      "\n"
     ]
    }
   ],
   "source": [
    "for a, t, r, pp in parameters:\n",
    "    model = fastscnn_mod(in_channels=3, num_classes=1, a=a, t=t, r=r, pp=pp).to(params[\"device\"])\n",
    "    criterion = nn.BCEWithLogitsLoss()\n",
    "    optimizer = torch.optim.Adam(model.parameters(), lr=params[\"lr\"])\n",
    "    scheduler = PolynomialLRDecay(optimizer, max_decay_steps=params[\"epochs\"], end_learning_rate=0.0001, power=0.9)\n",
    "\n",
    "    best_loss = sys.float_info.max\n",
    "    model_ckpt = copy.deepcopy(model.state_dict())\n",
    "    #train the current model\n",
    "    for epoch in tqdm(range(1, params[\"epochs\"]+1)):\n",
    "        train(train_loader, model, criterion, optimizer, scheduler, epoch, params)\n",
    "        epoch_loss = validate(val_loader, model, criterion, epoch, params)\n",
    "        #select the best model based on the loss on the validation set\n",
    "        if epoch_loss < best_loss:\n",
    "            best_loss = epoch_loss\n",
    "            model_ckpt = copy.deepcopy(model.state_dict())\n",
    "    \n",
    "    model.load_state_dict(model_ckpt)\n",
    "    predictions = predict(model, params, test_dataset)\n",
    "    #display the intersecion over union and the dice score for the current model\n",
    "    evaluator = Evaluate(predictions)\n",
    "    iou, dice = evaluator.get_metrics().values()\n",
    "    print(f\"The Intersection over Union score is : {iou:.4f}\")\n",
    "    print(f\"The Dice Coefficient is : {dice:.4f}\")\n",
    "    print()\n",
    "    #select the name that the model will be saved with\n",
    "    model_name = \"fastscnn_a\"+str(a)+\"t\"+str(t)+\"r\"+str(r)+\"pp\"+str(int(pp))\n",
    "    model_path = os.path.join(c_dir, \"model_checkpoints/experiments\", model_name)\n",
    "    torch.save(model.state_dict(), model_path+\".pt\")\n",
    "    print(\"Torch state_dict saved\")\n",
    "    #put the model in inference mode\n",
    "    model.eval()\n",
    "    #generate dummy input for onnx export\n",
    "    x = torch.randn(1, 3, 512, 512, requires_grad=True).to(params[\"device\"])\n",
    "\n",
    "    # Export the model\n",
    "    torch.onnx.export(model,                     # model being run\n",
    "                      x,                         # model input (or a tuple for multiple inputs)\n",
    "                      model_path+\".onnx\",       # where to save the model (can be a file or file-like object)\n",
    "                      export_params=True,        # store the trained parameter weights inside the model file\n",
    "                      opset_version=11,          # the ONNX version to export the model to\n",
    "                      do_constant_folding=True,  # whether to execute constant folding for optimization\n",
    "                      input_names = ['input'],   # the model's input names\n",
    "                      output_names = ['output'], # the model's output names\n",
    "                      operator_export_type=torch.onnx.OperatorExportTypes.ONNX,\n",
    "                      dynamic_axes={'input' : {0 : 'batch_size'},    # variable length axes\n",
    "                                    'output' : {0 : 'batch_size'}})\n",
    "    remove_initializer_from_input(model_path)\n",
    "    print(\"Onnx model saved\")\n",
    "    print()"
   ]
  },
  {
   "cell_type": "markdown",
   "metadata": {
    "id": "JLKe5BfuYSAx"
   },
   "source": [
    "# Model evaluation on test set\n"
   ]
  },
  {
   "cell_type": "code",
   "execution_count": 9,
   "metadata": {},
   "outputs": [],
   "source": [
    "def predict(model, params, test_dataset):\n",
    "    test_loader = DataLoader(\n",
    "        test_dataset, batch_size=params[\"batch_size\"], shuffle=False, num_workers=params[\"num_workers\"], pin_memory=True,\n",
    "    )\n",
    "    model.eval()\n",
    "    predictions = []\n",
    "    with torch.no_grad():\n",
    "        for images, masks, (original_heights, original_widths) in test_loader:\n",
    "            images = images.to(params[\"device\"], non_blocking=True)\n",
    "            output = model(images)\n",
    "            probabilities = torch.sigmoid(output.squeeze(1))\n",
    "            predicted_masks = (probabilities >= 0.5).float() * 1\n",
    "            predicted_masks = predicted_masks.cpu().numpy()\n",
    "            for predicted_mask, gt, original_height, original_width in zip(\n",
    "                predicted_masks, masks.numpy(), original_heights.numpy(), original_widths.numpy()\n",
    "            ):\n",
    "                predictions.append((predicted_mask, gt, original_height, original_width))\n",
    "    return predictions"
   ]
  },
  {
   "cell_type": "code",
   "execution_count": 10,
   "metadata": {},
   "outputs": [
    {
     "name": "stdout",
     "output_type": "stream",
     "text": [
      "The Intersection over Union score is : 0.9666\n",
      "The Dice Coefficient is : 0.9830\n"
     ]
    }
   ],
   "source": [
    "predictions = predict(model, params, test_dataset)\n",
    "\n",
    "evaluator = Evaluate(predictions)\n",
    "iou, dice = evaluator.get_metrics().values()\n",
    "print(f\"The Intersection over Union score is : {iou:.4f}\")\n",
    "print(f\"The Dice Coefficient is : {dice:.4f}\")"
   ]
  },
  {
   "cell_type": "markdown",
   "metadata": {},
   "source": [
    "## Visualize some of the predictions alongside the ground truth masks"
   ]
  },
  {
   "cell_type": "code",
   "execution_count": null,
   "metadata": {},
   "outputs": [],
   "source": [
    "predicted_masks = []\n",
    "gt_masks = []\n",
    "for predicted_256x256_mask, ground_truth, original_height, original_width in predictions:\n",
    "    full_sized_mask = A.resize(\n",
    "        predicted_256x256_mask, height=original_height, width=original_width, interpolation=cv2.INTER_NEAREST\n",
    "    )\n",
    "    full_sized_gt = A.resize(\n",
    "        ground_truth, height=original_height, width=original_width, interpolation=cv2.INTER_NEAREST\n",
    "    )\n",
    "    predicted_masks.append(full_sized_mask)\n",
    "    gt_masks.append(full_sized_gt)\n"
   ]
  },
  {
   "cell_type": "code",
   "execution_count": null,
   "metadata": {},
   "outputs": [],
   "source": [
    "cols = 3 \n",
    "rows = 4\n",
    "figure, ax = plt.subplots(nrows=rows, ncols=cols, figsize=(12, 10))\n",
    "for i, image_filename in enumerate(test_images_filenames[:rows]):\n",
    "    image = cv2.imread(os.path.join(test_images_directory, image_filename))\n",
    "    image = cv2.cvtColor(image, cv2.COLOR_BGR2RGB)\n",
    "\n",
    "    mask = gt_masks[i]\n",
    "    ax[i, 0].imshow(image)\n",
    "    ax[i, 1].imshow(mask, interpolation=\"nearest\")\n",
    "\n",
    "    ax[i, 0].set_title(\"Image\")\n",
    "    ax[i, 1].set_title(\"Ground truth mask\")\n",
    "\n",
    "    ax[i, 0].set_axis_off()\n",
    "    ax[i, 1].set_axis_off()\n",
    "\n",
    "    predicted_mask = predicted_masks[i]\n",
    "    ax[i, 2].imshow(predicted_mask, interpolation=\"nearest\")\n",
    "    ax[i, 2].set_title(\"Predicted mask\")\n",
    "    ax[i, 2].set_axis_off()\n",
    "plt.tight_layout()\n",
    "plt.show()"
   ]
  },
  {
   "cell_type": "markdown",
   "metadata": {
    "id": "D-T0K5ypbTsb",
    "tags": []
   },
   "source": [
    "## Export the model as torch state dict and ONNX graph"
   ]
  },
  {
   "cell_type": "code",
   "execution_count": null,
   "metadata": {
    "id": "d4gyJp7NfGXS"
   },
   "outputs": [],
   "source": [
    "#select the name that the model will be saved with\n",
    "model_name = \"small400e\"\n",
    "model_path = os.path.join(c_dir, \"model_checkpoints\", model_name)\n",
    "print(model_path)"
   ]
  },
  {
   "cell_type": "markdown",
   "metadata": {
    "id": "SL7COJLIcm3p"
   },
   "source": [
    "Save the model as torch state dict, when doing inference the paramenters in the state dict will be used to load the model to this state"
   ]
  },
  {
   "cell_type": "code",
   "execution_count": null,
   "metadata": {
    "id": "k4o-EvRTcg_E"
   },
   "outputs": [],
   "source": [
    "torch.save(model.state_dict(), model_path+\".pt\")"
   ]
  },
  {
   "cell_type": "markdown",
   "metadata": {
    "id": "QkdEKRP7c2ld"
   },
   "source": [
    "Export the model in onnx format and then check for errors with the built in onnx check_model function.\n",
    "\n",
    "In order to export the model a dummy input needs to be given as input"
   ]
  },
  {
   "cell_type": "code",
   "execution_count": null,
   "metadata": {
    "id": "amvNyP8sbcUo"
   },
   "outputs": [],
   "source": [
    "#put the model in inference mode\n",
    "model.eval()\n",
    "#generate dummy input for onnx export\n",
    "x = torch.randn(1, 3, 512, 512, requires_grad=True).cuda()\n",
    "torch_out = model(x)\n",
    "\n",
    "# Export the model\n",
    "torch.onnx.export(model,                     # model being run\n",
    "                  x,                         # model input (or a tuple for multiple inputs)\n",
    "                  model_path+\".onnx\",       # where to save the model (can be a file or file-like object)\n",
    "                  export_params=True,        # store the trained parameter weights inside the model file\n",
    "                  opset_version=11,          # the ONNX version to export the model to\n",
    "                  do_constant_folding=True,  # whether to execute constant folding for optimization\n",
    "                  input_names = ['input'],   # the model's input names\n",
    "                  output_names = ['output'], # the model's output names\n",
    "                  operator_export_type=torch.onnx.OperatorExportTypes.ONNX_ATEN_FALLBACK,\n",
    "                  dynamic_axes={'input' : {0 : 'batch_size'},    # variable length axes\n",
    "                                'output' : {0 : 'batch_size'}})"
   ]
  }
 ],
 "metadata": {
  "accelerator": "GPU",
  "colab": {
   "authorship_tag": "ABX9TyOUbNM9vv8a2lLIS9oTCmUR",
   "collapsed_sections": [],
   "include_colab_link": true,
   "name": "training.ipynb",
   "provenance": []
  },
  "kernelspec": {
   "display_name": "Python 3",
   "language": "python",
   "name": "python3"
  },
  "language_info": {
   "codemirror_mode": {
    "name": "ipython",
    "version": 3
   },
   "file_extension": ".py",
   "mimetype": "text/x-python",
   "name": "python",
   "nbconvert_exporter": "python",
   "pygments_lexer": "ipython3",
   "version": "3.9.12"
  },
  "widgets": {
   "application/vnd.jupyter.widget-state+json": {
    "state": {
     "000fd209bcef4b039d9b464e16e2f1e8": {
      "model_module": "@jupyter-widgets/base",
      "model_module_version": "1.2.0",
      "model_name": "LayoutModel",
      "state": {}
     },
     "04e002601cd34c8baa73b3a165d218fd": {
      "model_module": "@jupyter-widgets/base",
      "model_module_version": "1.2.0",
      "model_name": "LayoutModel",
      "state": {}
     },
     "055e51cbfc0f48f69acacb0b16c9495d": {
      "model_module": "@jupyter-widgets/base",
      "model_module_version": "1.2.0",
      "model_name": "LayoutModel",
      "state": {}
     },
     "0911e6424aca49398fccfaeef2b91aae": {
      "model_module": "@jupyter-widgets/base",
      "model_module_version": "1.2.0",
      "model_name": "LayoutModel",
      "state": {}
     },
     "0bc35371d1064398a3168c7db30c57e7": {
      "model_module": "@jupyter-widgets/controls",
      "model_module_version": "1.5.0",
      "model_name": "ProgressStyleModel",
      "state": {
       "description_width": ""
      }
     },
     "0bd389940a98416fb8df2e754b86a2c3": {
      "model_module": "@jupyter-widgets/controls",
      "model_module_version": "1.5.0",
      "model_name": "HBoxModel",
      "state": {
       "children": [
        "IPY_MODEL_1fddd48b82ec430b86f37080a7ad6e58",
        "IPY_MODEL_b7c1b322dc3b4e47afea9541c3bbd4f2",
        "IPY_MODEL_904e1c511cd245b4a096de4031e6fdcf"
       ],
       "layout": "IPY_MODEL_59e71d76f88a4845aa3da117afd66602"
      }
     },
     "0d51de75173846f8880753e2a22f66cf": {
      "model_module": "@jupyter-widgets/controls",
      "model_module_version": "1.5.0",
      "model_name": "ProgressStyleModel",
      "state": {
       "description_width": ""
      }
     },
     "0e1097a709664077a158795486a7b0d6": {
      "model_module": "@jupyter-widgets/controls",
      "model_module_version": "1.5.0",
      "model_name": "DescriptionStyleModel",
      "state": {
       "description_width": ""
      }
     },
     "1104fd60fa194bc7b3f6e08dff6e844d": {
      "model_module": "@jupyter-widgets/base",
      "model_module_version": "1.2.0",
      "model_name": "LayoutModel",
      "state": {}
     },
     "1331861579864ec09c1a38836d572cef": {
      "model_module": "@jupyter-widgets/base",
      "model_module_version": "1.2.0",
      "model_name": "LayoutModel",
      "state": {}
     },
     "15e17583cafd40fbba39b892c296473a": {
      "model_module": "@jupyter-widgets/controls",
      "model_module_version": "1.5.0",
      "model_name": "ProgressStyleModel",
      "state": {
       "description_width": ""
      }
     },
     "161bd2d27ba141bb9049ac147d721faf": {
      "model_module": "@jupyter-widgets/controls",
      "model_module_version": "1.5.0",
      "model_name": "HTMLModel",
      "state": {
       "layout": "IPY_MODEL_a8e03cdc42f84ffbaa7f10442271f750",
       "style": "IPY_MODEL_2c56d21bd7f74955a877a02557a50319",
       "value": "100%"
      }
     },
     "16441147a589414595c6de59fe58a9d3": {
      "model_module": "@jupyter-widgets/base",
      "model_module_version": "1.2.0",
      "model_name": "LayoutModel",
      "state": {}
     },
     "17311123d36643a0bd5a888c35e76bc5": {
      "model_module": "@jupyter-widgets/controls",
      "model_module_version": "1.5.0",
      "model_name": "FloatProgressModel",
      "state": {
       "bar_style": "success",
       "layout": "IPY_MODEL_89155b70481d485ea8f62ac9266b551f",
       "max": 400,
       "style": "IPY_MODEL_0bc35371d1064398a3168c7db30c57e7",
       "value": 400
      }
     },
     "174ae4e6c4254f4fb507b0e5907907d2": {
      "model_module": "@jupyter-widgets/controls",
      "model_module_version": "1.5.0",
      "model_name": "HTMLModel",
      "state": {
       "layout": "IPY_MODEL_dc2deb857aad465cad953da9f6edeefa",
       "style": "IPY_MODEL_251d721281e8476887d848dc17e84b11",
       "value": " 400/400 [12:55&lt;00:00,  1.93s/it]"
      }
     },
     "1c10b29751a64a109f59459f5fd852c2": {
      "model_module": "@jupyter-widgets/base",
      "model_module_version": "1.2.0",
      "model_name": "LayoutModel",
      "state": {}
     },
     "1e6b3ca826d147e3aa56f36b6803600c": {
      "model_module": "@jupyter-widgets/base",
      "model_module_version": "1.2.0",
      "model_name": "LayoutModel",
      "state": {}
     },
     "1fad0318ce9440f89aa1eff652fd4cb6": {
      "model_module": "@jupyter-widgets/controls",
      "model_module_version": "1.5.0",
      "model_name": "HTMLModel",
      "state": {
       "layout": "IPY_MODEL_d10070a597c544b9924fb3bb052f0ec7",
       "style": "IPY_MODEL_beb87752fea84894af6c0ecfabb67d4b",
       "value": "100%"
      }
     },
     "1fddd48b82ec430b86f37080a7ad6e58": {
      "model_module": "@jupyter-widgets/controls",
      "model_module_version": "1.5.0",
      "model_name": "HTMLModel",
      "state": {
       "layout": "IPY_MODEL_8f24e0d0a642483db42d43050ca81913",
       "style": "IPY_MODEL_45dd37ab67ba40f6a21c1c13ec4da9b9",
       "value": "100%"
      }
     },
     "2232b866df8a477eaebe8e1e184c289d": {
      "model_module": "@jupyter-widgets/base",
      "model_module_version": "1.2.0",
      "model_name": "LayoutModel",
      "state": {}
     },
     "2298c59723e34840bc5a8279d31a5d48": {
      "model_module": "@jupyter-widgets/controls",
      "model_module_version": "1.5.0",
      "model_name": "ProgressStyleModel",
      "state": {
       "description_width": ""
      }
     },
     "233c3d68cbc342ccb3fe62657a994e87": {
      "model_module": "@jupyter-widgets/controls",
      "model_module_version": "1.5.0",
      "model_name": "FloatProgressModel",
      "state": {
       "bar_style": "success",
       "layout": "IPY_MODEL_ebbb57092d7e4ebe83c08b44a29fb726",
       "max": 400,
       "style": "IPY_MODEL_850eb2279dc24befbec3c115544ba0d5",
       "value": 400
      }
     },
     "23fd1b4627fc46d5a506659566ca1ab4": {
      "model_module": "@jupyter-widgets/controls",
      "model_module_version": "1.5.0",
      "model_name": "DescriptionStyleModel",
      "state": {
       "description_width": ""
      }
     },
     "251d721281e8476887d848dc17e84b11": {
      "model_module": "@jupyter-widgets/controls",
      "model_module_version": "1.5.0",
      "model_name": "DescriptionStyleModel",
      "state": {
       "description_width": ""
      }
     },
     "2587aa8280f34b5695a7af2ea0c923ec": {
      "model_module": "@jupyter-widgets/base",
      "model_module_version": "1.2.0",
      "model_name": "LayoutModel",
      "state": {}
     },
     "2916c71cb724479d80b7fc3c348aa376": {
      "model_module": "@jupyter-widgets/controls",
      "model_module_version": "1.5.0",
      "model_name": "DescriptionStyleModel",
      "state": {
       "description_width": ""
      }
     },
     "2aa72c48e00046dd84265659c78ca52a": {
      "model_module": "@jupyter-widgets/controls",
      "model_module_version": "1.5.0",
      "model_name": "HBoxModel",
      "state": {
       "children": [
        "IPY_MODEL_cf9fccaf8c6140758e00fbe3e298867d",
        "IPY_MODEL_17311123d36643a0bd5a888c35e76bc5",
        "IPY_MODEL_39ec2f85bbbf429a8098a9d5f47f28c4"
       ],
       "layout": "IPY_MODEL_0911e6424aca49398fccfaeef2b91aae"
      }
     },
     "2c56d21bd7f74955a877a02557a50319": {
      "model_module": "@jupyter-widgets/controls",
      "model_module_version": "1.5.0",
      "model_name": "DescriptionStyleModel",
      "state": {
       "description_width": ""
      }
     },
     "2d11e9804ba745efb0ec6c64363b7d26": {
      "model_module": "@jupyter-widgets/controls",
      "model_module_version": "1.5.0",
      "model_name": "DescriptionStyleModel",
      "state": {
       "description_width": ""
      }
     },
     "2ea79f8df30f4b35ac588f6450e68b04": {
      "model_module": "@jupyter-widgets/controls",
      "model_module_version": "1.5.0",
      "model_name": "ProgressStyleModel",
      "state": {
       "description_width": ""
      }
     },
     "2f963313a84c4ebf88f059f6c380a2c4": {
      "model_module": "@jupyter-widgets/base",
      "model_module_version": "1.2.0",
      "model_name": "LayoutModel",
      "state": {}
     },
     "3068f9f1540f480388209969cca84907": {
      "model_module": "@jupyter-widgets/base",
      "model_module_version": "1.2.0",
      "model_name": "LayoutModel",
      "state": {}
     },
     "359cc91e93374fdcb91879a31264feae": {
      "model_module": "@jupyter-widgets/base",
      "model_module_version": "1.2.0",
      "model_name": "LayoutModel",
      "state": {}
     },
     "35f6953b148c42d08ea90503969233e7": {
      "model_module": "@jupyter-widgets/controls",
      "model_module_version": "1.5.0",
      "model_name": "ProgressStyleModel",
      "state": {
       "description_width": ""
      }
     },
     "362d82082d464b4faee6eef11e3c571d": {
      "model_module": "@jupyter-widgets/base",
      "model_module_version": "1.2.0",
      "model_name": "LayoutModel",
      "state": {}
     },
     "39e62ff24a4741e99d2f689a8749ab55": {
      "model_module": "@jupyter-widgets/controls",
      "model_module_version": "1.5.0",
      "model_name": "DescriptionStyleModel",
      "state": {
       "description_width": ""
      }
     },
     "39ec2f85bbbf429a8098a9d5f47f28c4": {
      "model_module": "@jupyter-widgets/controls",
      "model_module_version": "1.5.0",
      "model_name": "HTMLModel",
      "state": {
       "layout": "IPY_MODEL_52ab70b447664f939734c1b1932d1dbf",
       "style": "IPY_MODEL_7d3553495cab47bf89442a5c7894d1f8",
       "value": " 400/400 [14:27&lt;00:00,  2.16s/it]"
      }
     },
     "3aa11ffb08284c6eb70c7f9af4ba2da5": {
      "model_module": "@jupyter-widgets/controls",
      "model_module_version": "1.5.0",
      "model_name": "DescriptionStyleModel",
      "state": {
       "description_width": ""
      }
     },
     "3affd4e132a84ccc8c85626a365e3c1a": {
      "model_module": "@jupyter-widgets/controls",
      "model_module_version": "1.5.0",
      "model_name": "HTMLModel",
      "state": {
       "layout": "IPY_MODEL_e4899d2daffb4f999552703521f2dbad",
       "style": "IPY_MODEL_6bb768ab47d0407ba53a9122e6c13b5e",
       "value": " 400/400 [12:57&lt;00:00,  1.93s/it]"
      }
     },
     "3d24d634f211433dba43e8be5dcf91b8": {
      "model_module": "@jupyter-widgets/base",
      "model_module_version": "1.2.0",
      "model_name": "LayoutModel",
      "state": {}
     },
     "40bfa97cbaba4cdc8441e983dde53df1": {
      "model_module": "@jupyter-widgets/controls",
      "model_module_version": "1.5.0",
      "model_name": "FloatProgressModel",
      "state": {
       "bar_style": "success",
       "layout": "IPY_MODEL_8eb004483e5e4c56b85e447cc42814fa",
       "max": 400,
       "style": "IPY_MODEL_0d51de75173846f8880753e2a22f66cf",
       "value": 400
      }
     },
     "42c5cdee82d14aad9679b51d29bd83eb": {
      "model_module": "@jupyter-widgets/controls",
      "model_module_version": "1.5.0",
      "model_name": "DescriptionStyleModel",
      "state": {
       "description_width": ""
      }
     },
     "445cd783295d489c9866e4397404e169": {
      "model_module": "@jupyter-widgets/controls",
      "model_module_version": "1.5.0",
      "model_name": "HBoxModel",
      "state": {
       "children": [
        "IPY_MODEL_6c04f6beb3824fe58f53ad25be74efe9",
        "IPY_MODEL_e9798dc948874c439c6ffac4d694c93a",
        "IPY_MODEL_6b35d68aa10d446f98fa918362ec3eb2"
       ],
       "layout": "IPY_MODEL_b50a30a9fc7448acb831dcfde979edcf"
      }
     },
     "446a34a2cb0b4d458f2cc7bec1763d2b": {
      "model_module": "@jupyter-widgets/controls",
      "model_module_version": "1.5.0",
      "model_name": "HBoxModel",
      "state": {
       "children": [
        "IPY_MODEL_60d8bac43de14972a41663b8e04f059f",
        "IPY_MODEL_a663407b9813401ba9ce261ddaca75f2",
        "IPY_MODEL_55916a92c87d4588bc4bec30631e7858"
       ],
       "layout": "IPY_MODEL_c87d289a328f42b9bac7885973f7afa5"
      }
     },
     "4470d0cea63b4954900e82d1232ec6ee": {
      "model_module": "@jupyter-widgets/base",
      "model_module_version": "1.2.0",
      "model_name": "LayoutModel",
      "state": {}
     },
     "45ccf27968d742aba5b2a0887b0b6486": {
      "model_module": "@jupyter-widgets/controls",
      "model_module_version": "1.5.0",
      "model_name": "FloatProgressModel",
      "state": {
       "bar_style": "success",
       "layout": "IPY_MODEL_a3e9150a4e5f4bd9923ed41f3b49e5f9",
       "max": 400,
       "style": "IPY_MODEL_7110db536bdf4b3fa76aa5da724e8c4e",
       "value": 400
      }
     },
     "45dd37ab67ba40f6a21c1c13ec4da9b9": {
      "model_module": "@jupyter-widgets/controls",
      "model_module_version": "1.5.0",
      "model_name": "DescriptionStyleModel",
      "state": {
       "description_width": ""
      }
     },
     "469accac02644578b3d05051fbb9f89d": {
      "model_module": "@jupyter-widgets/controls",
      "model_module_version": "1.5.0",
      "model_name": "DescriptionStyleModel",
      "state": {
       "description_width": ""
      }
     },
     "483b04aac67442bda55dcd282365d1ef": {
      "model_module": "@jupyter-widgets/controls",
      "model_module_version": "1.5.0",
      "model_name": "HBoxModel",
      "state": {
       "children": [
        "IPY_MODEL_5533aa43fd7745a08ce52b7eff7b9339",
        "IPY_MODEL_e712e15754ee456ca97363104cfbd685",
        "IPY_MODEL_e316459f808f406f8096703a17e997bc"
       ],
       "layout": "IPY_MODEL_4caffe0c3a3446e4a9bef6fdc8d7fe61"
      }
     },
     "495973c7b0644172b8acc374970e4608": {
      "model_module": "@jupyter-widgets/base",
      "model_module_version": "1.2.0",
      "model_name": "LayoutModel",
      "state": {}
     },
     "499fef7347af468d9c112b2eb326e3fd": {
      "model_module": "@jupyter-widgets/controls",
      "model_module_version": "1.5.0",
      "model_name": "HTMLModel",
      "state": {
       "layout": "IPY_MODEL_9ebf28075d294942b8a52b5255aa62cf",
       "style": "IPY_MODEL_f7b1ebc97d3e46cda2957e3476dd07cf",
       "value": "100%"
      }
     },
     "4c2372eed62c4b2ebd21893392b91f00": {
      "model_module": "@jupyter-widgets/controls",
      "model_module_version": "1.5.0",
      "model_name": "FloatProgressModel",
      "state": {
       "bar_style": "success",
       "layout": "IPY_MODEL_04e002601cd34c8baa73b3a165d218fd",
       "max": 400,
       "style": "IPY_MODEL_b367aefb5adc42b3994c1bdafa694b1a",
       "value": 400
      }
     },
     "4caffe0c3a3446e4a9bef6fdc8d7fe61": {
      "model_module": "@jupyter-widgets/base",
      "model_module_version": "1.2.0",
      "model_name": "LayoutModel",
      "state": {}
     },
     "4cd51c4c8497467c8bf7e3d90a865187": {
      "model_module": "@jupyter-widgets/controls",
      "model_module_version": "1.5.0",
      "model_name": "HBoxModel",
      "state": {
       "children": [
        "IPY_MODEL_687c03030ea54a8da88d34ac47f52b8a",
        "IPY_MODEL_e86c863492bf4bad9649357c24b084b1",
        "IPY_MODEL_6917897c37ac4602aefb25d492c025d3"
       ],
       "layout": "IPY_MODEL_2f963313a84c4ebf88f059f6c380a2c4"
      }
     },
     "503752ddb83f4339bc72be3f15f13d57": {
      "model_module": "@jupyter-widgets/controls",
      "model_module_version": "1.5.0",
      "model_name": "HTMLModel",
      "state": {
       "layout": "IPY_MODEL_75caeb6ddeb5476d90036ba465691c6b",
       "style": "IPY_MODEL_8208d93d5f764eb4b257483712dbeb51",
       "value": " 400/400 [12:51&lt;00:00,  1.93s/it]"
      }
     },
     "50e43839e5984bcba8f3f48c7270d8c1": {
      "model_module": "@jupyter-widgets/base",
      "model_module_version": "1.2.0",
      "model_name": "LayoutModel",
      "state": {}
     },
     "528c23dc101c46a190c796b3698eb7d6": {
      "model_module": "@jupyter-widgets/base",
      "model_module_version": "1.2.0",
      "model_name": "LayoutModel",
      "state": {}
     },
     "52ab70b447664f939734c1b1932d1dbf": {
      "model_module": "@jupyter-widgets/base",
      "model_module_version": "1.2.0",
      "model_name": "LayoutModel",
      "state": {}
     },
     "53d8b0478e09424b8983df536e2133f9": {
      "model_module": "@jupyter-widgets/controls",
      "model_module_version": "1.5.0",
      "model_name": "HTMLModel",
      "state": {
       "layout": "IPY_MODEL_97c93f440a834600b82fab45fc6a7139",
       "style": "IPY_MODEL_42c5cdee82d14aad9679b51d29bd83eb",
       "value": "100%"
      }
     },
     "541ba888933e4897a01a076619dfcf85": {
      "model_module": "@jupyter-widgets/base",
      "model_module_version": "1.2.0",
      "model_name": "LayoutModel",
      "state": {}
     },
     "5533aa43fd7745a08ce52b7eff7b9339": {
      "model_module": "@jupyter-widgets/controls",
      "model_module_version": "1.5.0",
      "model_name": "HTMLModel",
      "state": {
       "layout": "IPY_MODEL_96242f0000344ff8b1e85e0d34c713a6",
       "style": "IPY_MODEL_0e1097a709664077a158795486a7b0d6",
       "value": "100%"
      }
     },
     "5536e76708b243b09490d1a9b0de5db9": {
      "model_module": "@jupyter-widgets/base",
      "model_module_version": "1.2.0",
      "model_name": "LayoutModel",
      "state": {}
     },
     "5578332f01e147829a587f7450ca086f": {
      "model_module": "@jupyter-widgets/controls",
      "model_module_version": "1.5.0",
      "model_name": "DescriptionStyleModel",
      "state": {
       "description_width": ""
      }
     },
     "55916a92c87d4588bc4bec30631e7858": {
      "model_module": "@jupyter-widgets/controls",
      "model_module_version": "1.5.0",
      "model_name": "HTMLModel",
      "state": {
       "layout": "IPY_MODEL_495973c7b0644172b8acc374970e4608",
       "style": "IPY_MODEL_9fea28d4d0da44118cfc556c086f5397",
       "value": " 400/400 [12:53&lt;00:00,  1.94s/it]"
      }
     },
     "567dcfa582de4f60ab045745765de6b6": {
      "model_module": "@jupyter-widgets/base",
      "model_module_version": "1.2.0",
      "model_name": "LayoutModel",
      "state": {}
     },
     "573a7579d60546f6a0ed5f6739c12fda": {
      "model_module": "@jupyter-widgets/controls",
      "model_module_version": "1.5.0",
      "model_name": "HBoxModel",
      "state": {
       "children": [
        "IPY_MODEL_161bd2d27ba141bb9049ac147d721faf",
        "IPY_MODEL_99119d669bda4d0a87e63fdb500cbaa7",
        "IPY_MODEL_648d6c6daf034b3bbd6e67077a9a6eef"
       ],
       "layout": "IPY_MODEL_eb602366dcc84867b3ccb5ad472bbe8c"
      }
     },
     "59e71d76f88a4845aa3da117afd66602": {
      "model_module": "@jupyter-widgets/base",
      "model_module_version": "1.2.0",
      "model_name": "LayoutModel",
      "state": {}
     },
     "5abde0c5fc834049bc006e964c58b844": {
      "model_module": "@jupyter-widgets/controls",
      "model_module_version": "1.5.0",
      "model_name": "HTMLModel",
      "state": {
       "layout": "IPY_MODEL_e6a91cbb8dfc4719842b837b753a71fd",
       "style": "IPY_MODEL_f817e15ca2eb48c4906b04df095d1d02",
       "value": " 400/400 [12:51&lt;00:00,  1.92s/it]"
      }
     },
     "5f51f70493ca4d8487d2c035dc9cc66e": {
      "model_module": "@jupyter-widgets/controls",
      "model_module_version": "1.5.0",
      "model_name": "FloatProgressModel",
      "state": {
       "bar_style": "success",
       "layout": "IPY_MODEL_2232b866df8a477eaebe8e1e184c289d",
       "max": 400,
       "style": "IPY_MODEL_8b1ab0d295564d6492f3b2581ebdf03c",
       "value": 400
      }
     },
     "60d8bac43de14972a41663b8e04f059f": {
      "model_module": "@jupyter-widgets/controls",
      "model_module_version": "1.5.0",
      "model_name": "HTMLModel",
      "state": {
       "layout": "IPY_MODEL_000fd209bcef4b039d9b464e16e2f1e8",
       "style": "IPY_MODEL_b11d0596785649f7af6e3e19b953cf0f",
       "value": "100%"
      }
     },
     "648d6c6daf034b3bbd6e67077a9a6eef": {
      "model_module": "@jupyter-widgets/controls",
      "model_module_version": "1.5.0",
      "model_name": "HTMLModel",
      "state": {
       "layout": "IPY_MODEL_3d24d634f211433dba43e8be5dcf91b8",
       "style": "IPY_MODEL_bfe68e5c329849daaa4275b56172ceec",
       "value": " 400/400 [13:01&lt;00:00,  1.96s/it]"
      }
     },
     "687c03030ea54a8da88d34ac47f52b8a": {
      "model_module": "@jupyter-widgets/controls",
      "model_module_version": "1.5.0",
      "model_name": "HTMLModel",
      "state": {
       "layout": "IPY_MODEL_bdcf3d6b7f3244308bab50af60852107",
       "style": "IPY_MODEL_23fd1b4627fc46d5a506659566ca1ab4",
       "value": "100%"
      }
     },
     "68836a81571346bebaa7588e259d8d19": {
      "model_module": "@jupyter-widgets/controls",
      "model_module_version": "1.5.0",
      "model_name": "FloatProgressModel",
      "state": {
       "bar_style": "success",
       "layout": "IPY_MODEL_567dcfa582de4f60ab045745765de6b6",
       "max": 400,
       "style": "IPY_MODEL_80a27e74a1124df291cfa5c2e1cdaea5",
       "value": 400
      }
     },
     "6917897c37ac4602aefb25d492c025d3": {
      "model_module": "@jupyter-widgets/controls",
      "model_module_version": "1.5.0",
      "model_name": "HTMLModel",
      "state": {
       "layout": "IPY_MODEL_1104fd60fa194bc7b3f6e08dff6e844d",
       "style": "IPY_MODEL_8bf08d8438484468a47c3b4cd6d2192e",
       "value": " 400/400 [13:13&lt;00:00,  1.98s/it]"
      }
     },
     "6a6d6a9e51ce44ba95e21bb716b1b11e": {
      "model_module": "@jupyter-widgets/controls",
      "model_module_version": "1.5.0",
      "model_name": "DescriptionStyleModel",
      "state": {
       "description_width": ""
      }
     },
     "6af1309c242041a0ae9c262feea84ead": {
      "model_module": "@jupyter-widgets/base",
      "model_module_version": "1.2.0",
      "model_name": "LayoutModel",
      "state": {}
     },
     "6b35d68aa10d446f98fa918362ec3eb2": {
      "model_module": "@jupyter-widgets/controls",
      "model_module_version": "1.5.0",
      "model_name": "HTMLModel",
      "state": {
       "layout": "IPY_MODEL_6e7cc3fb574a4862bae2e6c68e2d5c38",
       "style": "IPY_MODEL_2916c71cb724479d80b7fc3c348aa376",
       "value": " 400/400 [13:55&lt;00:00,  2.10s/it]"
      }
     },
     "6b5aa0f70ef1438da634c3c582555dbc": {
      "model_module": "@jupyter-widgets/base",
      "model_module_version": "1.2.0",
      "model_name": "LayoutModel",
      "state": {}
     },
     "6bb768ab47d0407ba53a9122e6c13b5e": {
      "model_module": "@jupyter-widgets/controls",
      "model_module_version": "1.5.0",
      "model_name": "DescriptionStyleModel",
      "state": {
       "description_width": ""
      }
     },
     "6c04f6beb3824fe58f53ad25be74efe9": {
      "model_module": "@jupyter-widgets/controls",
      "model_module_version": "1.5.0",
      "model_name": "HTMLModel",
      "state": {
       "layout": "IPY_MODEL_789004c4c70d45ec8a54f90778e2c44e",
       "style": "IPY_MODEL_5578332f01e147829a587f7450ca086f",
       "value": "100%"
      }
     },
     "6e7cc3fb574a4862bae2e6c68e2d5c38": {
      "model_module": "@jupyter-widgets/base",
      "model_module_version": "1.2.0",
      "model_name": "LayoutModel",
      "state": {}
     },
     "7110db536bdf4b3fa76aa5da724e8c4e": {
      "model_module": "@jupyter-widgets/controls",
      "model_module_version": "1.5.0",
      "model_name": "ProgressStyleModel",
      "state": {
       "description_width": ""
      }
     },
     "7140dd743eae4cbd8b1cf3342b9c2079": {
      "model_module": "@jupyter-widgets/controls",
      "model_module_version": "1.5.0",
      "model_name": "FloatProgressModel",
      "state": {
       "bar_style": "success",
       "layout": "IPY_MODEL_528c23dc101c46a190c796b3698eb7d6",
       "max": 400,
       "style": "IPY_MODEL_c0480abab0284965828d161b613bf351",
       "value": 400
      }
     },
     "743eec4fc1a34b6aa76ef52da6e72a68": {
      "model_module": "@jupyter-widgets/controls",
      "model_module_version": "1.5.0",
      "model_name": "DescriptionStyleModel",
      "state": {
       "description_width": ""
      }
     },
     "75caeb6ddeb5476d90036ba465691c6b": {
      "model_module": "@jupyter-widgets/base",
      "model_module_version": "1.2.0",
      "model_name": "LayoutModel",
      "state": {}
     },
     "789004c4c70d45ec8a54f90778e2c44e": {
      "model_module": "@jupyter-widgets/base",
      "model_module_version": "1.2.0",
      "model_name": "LayoutModel",
      "state": {}
     },
     "79a1f068b42440b1b43ec1ec32d7ac04": {
      "model_module": "@jupyter-widgets/controls",
      "model_module_version": "1.5.0",
      "model_name": "DescriptionStyleModel",
      "state": {
       "description_width": ""
      }
     },
     "7bd9d86ed93f4571864a11739816163e": {
      "model_module": "@jupyter-widgets/controls",
      "model_module_version": "1.5.0",
      "model_name": "ProgressStyleModel",
      "state": {
       "description_width": ""
      }
     },
     "7cb94a7485eb4755bbc8cbd89d13d71d": {
      "model_module": "@jupyter-widgets/controls",
      "model_module_version": "1.5.0",
      "model_name": "HTMLModel",
      "state": {
       "layout": "IPY_MODEL_a51896d5385449ef8f0ea0f1159ac660",
       "style": "IPY_MODEL_3aa11ffb08284c6eb70c7f9af4ba2da5",
       "value": " 400/400 [15:57&lt;00:00,  2.40s/it]"
      }
     },
     "7d3553495cab47bf89442a5c7894d1f8": {
      "model_module": "@jupyter-widgets/controls",
      "model_module_version": "1.5.0",
      "model_name": "DescriptionStyleModel",
      "state": {
       "description_width": ""
      }
     },
     "80a27e74a1124df291cfa5c2e1cdaea5": {
      "model_module": "@jupyter-widgets/controls",
      "model_module_version": "1.5.0",
      "model_name": "ProgressStyleModel",
      "state": {
       "description_width": ""
      }
     },
     "81eba2cbe3924cd78dffdbcd328a316a": {
      "model_module": "@jupyter-widgets/base",
      "model_module_version": "1.2.0",
      "model_name": "LayoutModel",
      "state": {}
     },
     "8208d93d5f764eb4b257483712dbeb51": {
      "model_module": "@jupyter-widgets/controls",
      "model_module_version": "1.5.0",
      "model_name": "DescriptionStyleModel",
      "state": {
       "description_width": ""
      }
     },
     "828586f352854a898508248aa6547340": {
      "model_module": "@jupyter-widgets/controls",
      "model_module_version": "1.5.0",
      "model_name": "HTMLModel",
      "state": {
       "layout": "IPY_MODEL_2587aa8280f34b5695a7af2ea0c923ec",
       "style": "IPY_MODEL_e9dce4c8cda74e8597735c3c01116f26",
       "value": "100%"
      }
     },
     "850eb2279dc24befbec3c115544ba0d5": {
      "model_module": "@jupyter-widgets/controls",
      "model_module_version": "1.5.0",
      "model_name": "ProgressStyleModel",
      "state": {
       "description_width": ""
      }
     },
     "85405c4543b54ed38850b54e8f4aa486": {
      "model_module": "@jupyter-widgets/base",
      "model_module_version": "1.2.0",
      "model_name": "LayoutModel",
      "state": {}
     },
     "858ffc3db4be4cfa8a74f1a4ad2ef6b2": {
      "model_module": "@jupyter-widgets/controls",
      "model_module_version": "1.5.0",
      "model_name": "DescriptionStyleModel",
      "state": {
       "description_width": ""
      }
     },
     "870f5c033e314a1a9870eb9aa356c796": {
      "model_module": "@jupyter-widgets/controls",
      "model_module_version": "1.5.0",
      "model_name": "HBoxModel",
      "state": {
       "children": [
        "IPY_MODEL_53d8b0478e09424b8983df536e2133f9",
        "IPY_MODEL_d5c0bd377e4d4891a33823406d750795",
        "IPY_MODEL_bad144e0c94a4b9c85419c29e8c2d578"
       ],
       "layout": "IPY_MODEL_6af1309c242041a0ae9c262feea84ead"
      }
     },
     "89155b70481d485ea8f62ac9266b551f": {
      "model_module": "@jupyter-widgets/base",
      "model_module_version": "1.2.0",
      "model_name": "LayoutModel",
      "state": {}
     },
     "8aa8ab3db62446fc86b9b0680415d65b": {
      "model_module": "@jupyter-widgets/controls",
      "model_module_version": "1.5.0",
      "model_name": "ProgressStyleModel",
      "state": {
       "description_width": ""
      }
     },
     "8b1ab0d295564d6492f3b2581ebdf03c": {
      "model_module": "@jupyter-widgets/controls",
      "model_module_version": "1.5.0",
      "model_name": "ProgressStyleModel",
      "state": {
       "description_width": ""
      }
     },
     "8bf08d8438484468a47c3b4cd6d2192e": {
      "model_module": "@jupyter-widgets/controls",
      "model_module_version": "1.5.0",
      "model_name": "DescriptionStyleModel",
      "state": {
       "description_width": ""
      }
     },
     "8eb004483e5e4c56b85e447cc42814fa": {
      "model_module": "@jupyter-widgets/base",
      "model_module_version": "1.2.0",
      "model_name": "LayoutModel",
      "state": {}
     },
     "8f24e0d0a642483db42d43050ca81913": {
      "model_module": "@jupyter-widgets/base",
      "model_module_version": "1.2.0",
      "model_name": "LayoutModel",
      "state": {}
     },
     "904e1c511cd245b4a096de4031e6fdcf": {
      "model_module": "@jupyter-widgets/controls",
      "model_module_version": "1.5.0",
      "model_name": "HTMLModel",
      "state": {
       "layout": "IPY_MODEL_9eb6d460a8b844988093c1e0f23d1e6f",
       "style": "IPY_MODEL_6a6d6a9e51ce44ba95e21bb716b1b11e",
       "value": " 400/400 [12:54&lt;00:00,  1.94s/it]"
      }
     },
     "92ea936507f6471894e95d9ddbd9e6ca": {
      "model_module": "@jupyter-widgets/controls",
      "model_module_version": "1.5.0",
      "model_name": "HBoxModel",
      "state": {
       "children": [
        "IPY_MODEL_828586f352854a898508248aa6547340",
        "IPY_MODEL_68836a81571346bebaa7588e259d8d19",
        "IPY_MODEL_e2f13a8d3fbc4dc5acf319a03fa14626"
       ],
       "layout": "IPY_MODEL_1331861579864ec09c1a38836d572cef"
      }
     },
     "94209e3c39ee433994ef25b06975a66f": {
      "model_module": "@jupyter-widgets/base",
      "model_module_version": "1.2.0",
      "model_name": "LayoutModel",
      "state": {}
     },
     "96242f0000344ff8b1e85e0d34c713a6": {
      "model_module": "@jupyter-widgets/base",
      "model_module_version": "1.2.0",
      "model_name": "LayoutModel",
      "state": {}
     },
     "97c93f440a834600b82fab45fc6a7139": {
      "model_module": "@jupyter-widgets/base",
      "model_module_version": "1.2.0",
      "model_name": "LayoutModel",
      "state": {}
     },
     "99119d669bda4d0a87e63fdb500cbaa7": {
      "model_module": "@jupyter-widgets/controls",
      "model_module_version": "1.5.0",
      "model_name": "FloatProgressModel",
      "state": {
       "bar_style": "success",
       "layout": "IPY_MODEL_5536e76708b243b09490d1a9b0de5db9",
       "max": 400,
       "style": "IPY_MODEL_15e17583cafd40fbba39b892c296473a",
       "value": 400
      }
     },
     "9ce87c2c0c7c4a968f86b1141021385a": {
      "model_module": "@jupyter-widgets/base",
      "model_module_version": "1.2.0",
      "model_name": "LayoutModel",
      "state": {}
     },
     "9eb6d460a8b844988093c1e0f23d1e6f": {
      "model_module": "@jupyter-widgets/base",
      "model_module_version": "1.2.0",
      "model_name": "LayoutModel",
      "state": {}
     },
     "9ebf28075d294942b8a52b5255aa62cf": {
      "model_module": "@jupyter-widgets/base",
      "model_module_version": "1.2.0",
      "model_name": "LayoutModel",
      "state": {}
     },
     "9fea28d4d0da44118cfc556c086f5397": {
      "model_module": "@jupyter-widgets/controls",
      "model_module_version": "1.5.0",
      "model_name": "DescriptionStyleModel",
      "state": {
       "description_width": ""
      }
     },
     "a0e320b8763046728d0228948c57fcd7": {
      "model_module": "@jupyter-widgets/controls",
      "model_module_version": "1.5.0",
      "model_name": "HBoxModel",
      "state": {
       "children": [
        "IPY_MODEL_ba77a5f3795d49fc89c65fe511c8ecd6",
        "IPY_MODEL_7140dd743eae4cbd8b1cf3342b9c2079",
        "IPY_MODEL_503752ddb83f4339bc72be3f15f13d57"
       ],
       "layout": "IPY_MODEL_85405c4543b54ed38850b54e8f4aa486"
      }
     },
     "a2de7dadbb9f404c94b0deee4896f982": {
      "model_module": "@jupyter-widgets/controls",
      "model_module_version": "1.5.0",
      "model_name": "DescriptionStyleModel",
      "state": {
       "description_width": ""
      }
     },
     "a3e9150a4e5f4bd9923ed41f3b49e5f9": {
      "model_module": "@jupyter-widgets/base",
      "model_module_version": "1.2.0",
      "model_name": "LayoutModel",
      "state": {}
     },
     "a51896d5385449ef8f0ea0f1159ac660": {
      "model_module": "@jupyter-widgets/base",
      "model_module_version": "1.2.0",
      "model_name": "LayoutModel",
      "state": {}
     },
     "a663407b9813401ba9ce261ddaca75f2": {
      "model_module": "@jupyter-widgets/controls",
      "model_module_version": "1.5.0",
      "model_name": "FloatProgressModel",
      "state": {
       "bar_style": "success",
       "layout": "IPY_MODEL_bbed334976f54e21b40b52ae1d5b2fb3",
       "max": 400,
       "style": "IPY_MODEL_2ea79f8df30f4b35ac588f6450e68b04",
       "value": 400
      }
     },
     "a6a25fc1c06540acb788a9ec2f2dd6a8": {
      "model_module": "@jupyter-widgets/controls",
      "model_module_version": "1.5.0",
      "model_name": "HBoxModel",
      "state": {
       "children": [
        "IPY_MODEL_1fad0318ce9440f89aa1eff652fd4cb6",
        "IPY_MODEL_233c3d68cbc342ccb3fe62657a994e87",
        "IPY_MODEL_7cb94a7485eb4755bbc8cbd89d13d71d"
       ],
       "layout": "IPY_MODEL_1e6b3ca826d147e3aa56f36b6803600c"
      }
     },
     "a834fb0d4ce64881a1e78f07d8c19d93": {
      "model_module": "@jupyter-widgets/controls",
      "model_module_version": "1.5.0",
      "model_name": "HTMLModel",
      "state": {
       "layout": "IPY_MODEL_9ce87c2c0c7c4a968f86b1141021385a",
       "style": "IPY_MODEL_79a1f068b42440b1b43ec1ec32d7ac04",
       "value": "100%"
      }
     },
     "a8e03cdc42f84ffbaa7f10442271f750": {
      "model_module": "@jupyter-widgets/base",
      "model_module_version": "1.2.0",
      "model_name": "LayoutModel",
      "state": {}
     },
     "ae0561f6048843acace080ae449c5277": {
      "model_module": "@jupyter-widgets/base",
      "model_module_version": "1.2.0",
      "model_name": "LayoutModel",
      "state": {}
     },
     "aef97fd1c9f1402d853b59032bed6ef5": {
      "model_module": "@jupyter-widgets/base",
      "model_module_version": "1.2.0",
      "model_name": "LayoutModel",
      "state": {}
     },
     "b11d0596785649f7af6e3e19b953cf0f": {
      "model_module": "@jupyter-widgets/controls",
      "model_module_version": "1.5.0",
      "model_name": "DescriptionStyleModel",
      "state": {
       "description_width": ""
      }
     },
     "b367aefb5adc42b3994c1bdafa694b1a": {
      "model_module": "@jupyter-widgets/controls",
      "model_module_version": "1.5.0",
      "model_name": "ProgressStyleModel",
      "state": {
       "description_width": ""
      }
     },
     "b50a30a9fc7448acb831dcfde979edcf": {
      "model_module": "@jupyter-widgets/base",
      "model_module_version": "1.2.0",
      "model_name": "LayoutModel",
      "state": {}
     },
     "b7c1b322dc3b4e47afea9541c3bbd4f2": {
      "model_module": "@jupyter-widgets/controls",
      "model_module_version": "1.5.0",
      "model_name": "FloatProgressModel",
      "state": {
       "bar_style": "success",
       "layout": "IPY_MODEL_50e43839e5984bcba8f3f48c7270d8c1",
       "max": 400,
       "style": "IPY_MODEL_d7741610ce1640178c6a5a2d6301c504",
       "value": 400
      }
     },
     "ba77a5f3795d49fc89c65fe511c8ecd6": {
      "model_module": "@jupyter-widgets/controls",
      "model_module_version": "1.5.0",
      "model_name": "HTMLModel",
      "state": {
       "layout": "IPY_MODEL_f10915a022284762b4dae9c54c9b356e",
       "style": "IPY_MODEL_743eec4fc1a34b6aa76ef52da6e72a68",
       "value": "100%"
      }
     },
     "bad144e0c94a4b9c85419c29e8c2d578": {
      "model_module": "@jupyter-widgets/controls",
      "model_module_version": "1.5.0",
      "model_name": "HTMLModel",
      "state": {
       "layout": "IPY_MODEL_055e51cbfc0f48f69acacb0b16c9495d",
       "style": "IPY_MODEL_39e62ff24a4741e99d2f689a8749ab55",
       "value": " 400/400 [12:58&lt;00:00,  1.96s/it]"
      }
     },
     "bbed334976f54e21b40b52ae1d5b2fb3": {
      "model_module": "@jupyter-widgets/base",
      "model_module_version": "1.2.0",
      "model_name": "LayoutModel",
      "state": {}
     },
     "bc340ea3090949d6ba19c808ecc312b8": {
      "model_module": "@jupyter-widgets/controls",
      "model_module_version": "1.5.0",
      "model_name": "HBoxModel",
      "state": {
       "children": [
        "IPY_MODEL_499fef7347af468d9c112b2eb326e3fd",
        "IPY_MODEL_40bfa97cbaba4cdc8441e983dde53df1",
        "IPY_MODEL_174ae4e6c4254f4fb507b0e5907907d2"
       ],
       "layout": "IPY_MODEL_81eba2cbe3924cd78dffdbcd328a316a"
      }
     },
     "bdcf3d6b7f3244308bab50af60852107": {
      "model_module": "@jupyter-widgets/base",
      "model_module_version": "1.2.0",
      "model_name": "LayoutModel",
      "state": {}
     },
     "beb87752fea84894af6c0ecfabb67d4b": {
      "model_module": "@jupyter-widgets/controls",
      "model_module_version": "1.5.0",
      "model_name": "DescriptionStyleModel",
      "state": {
       "description_width": ""
      }
     },
     "bfe68e5c329849daaa4275b56172ceec": {
      "model_module": "@jupyter-widgets/controls",
      "model_module_version": "1.5.0",
      "model_name": "DescriptionStyleModel",
      "state": {
       "description_width": ""
      }
     },
     "c0480abab0284965828d161b613bf351": {
      "model_module": "@jupyter-widgets/controls",
      "model_module_version": "1.5.0",
      "model_name": "ProgressStyleModel",
      "state": {
       "description_width": ""
      }
     },
     "c26171fd74d64dda99d5a279bd6dbf8f": {
      "model_module": "@jupyter-widgets/base",
      "model_module_version": "1.2.0",
      "model_name": "LayoutModel",
      "state": {}
     },
     "c87d289a328f42b9bac7885973f7afa5": {
      "model_module": "@jupyter-widgets/base",
      "model_module_version": "1.2.0",
      "model_name": "LayoutModel",
      "state": {}
     },
     "c9c3107c4a0341c6ad586969bc23bcc2": {
      "model_module": "@jupyter-widgets/controls",
      "model_module_version": "1.5.0",
      "model_name": "HTMLModel",
      "state": {
       "layout": "IPY_MODEL_362d82082d464b4faee6eef11e3c571d",
       "style": "IPY_MODEL_d202c29a89b041a5a4a24a65547f4657",
       "value": " 400/400 [12:58&lt;00:00,  1.94s/it]"
      }
     },
     "cf23ba985cf7449182db7cbede995801": {
      "model_module": "@jupyter-widgets/controls",
      "model_module_version": "1.5.0",
      "model_name": "HTMLModel",
      "state": {
       "layout": "IPY_MODEL_16441147a589414595c6de59fe58a9d3",
       "style": "IPY_MODEL_a2de7dadbb9f404c94b0deee4896f982",
       "value": "100%"
      }
     },
     "cf9fccaf8c6140758e00fbe3e298867d": {
      "model_module": "@jupyter-widgets/controls",
      "model_module_version": "1.5.0",
      "model_name": "HTMLModel",
      "state": {
       "layout": "IPY_MODEL_6b5aa0f70ef1438da634c3c582555dbc",
       "style": "IPY_MODEL_ed0c1e82166c4f3c9f17c879be462827",
       "value": "100%"
      }
     },
     "d10070a597c544b9924fb3bb052f0ec7": {
      "model_module": "@jupyter-widgets/base",
      "model_module_version": "1.2.0",
      "model_name": "LayoutModel",
      "state": {}
     },
     "d202c29a89b041a5a4a24a65547f4657": {
      "model_module": "@jupyter-widgets/controls",
      "model_module_version": "1.5.0",
      "model_name": "DescriptionStyleModel",
      "state": {
       "description_width": ""
      }
     },
     "d5c0bd377e4d4891a33823406d750795": {
      "model_module": "@jupyter-widgets/controls",
      "model_module_version": "1.5.0",
      "model_name": "FloatProgressModel",
      "state": {
       "bar_style": "success",
       "layout": "IPY_MODEL_aef97fd1c9f1402d853b59032bed6ef5",
       "max": 400,
       "style": "IPY_MODEL_2298c59723e34840bc5a8279d31a5d48",
       "value": 400
      }
     },
     "d7741610ce1640178c6a5a2d6301c504": {
      "model_module": "@jupyter-widgets/controls",
      "model_module_version": "1.5.0",
      "model_name": "ProgressStyleModel",
      "state": {
       "description_width": ""
      }
     },
     "d89ad7b0127a42e192c54d26b006d183": {
      "model_module": "@jupyter-widgets/controls",
      "model_module_version": "1.5.0",
      "model_name": "HBoxModel",
      "state": {
       "children": [
        "IPY_MODEL_e18794d9524e4e8da4c0d49c9f20d8c0",
        "IPY_MODEL_45ccf27968d742aba5b2a0887b0b6486",
        "IPY_MODEL_3affd4e132a84ccc8c85626a365e3c1a"
       ],
       "layout": "IPY_MODEL_1c10b29751a64a109f59459f5fd852c2"
      }
     },
     "dbad05bd12104952b921d1d8a842ca3b": {
      "model_module": "@jupyter-widgets/controls",
      "model_module_version": "1.5.0",
      "model_name": "HBoxModel",
      "state": {
       "children": [
        "IPY_MODEL_a834fb0d4ce64881a1e78f07d8c19d93",
        "IPY_MODEL_5f51f70493ca4d8487d2c035dc9cc66e",
        "IPY_MODEL_5abde0c5fc834049bc006e964c58b844"
       ],
       "layout": "IPY_MODEL_3068f9f1540f480388209969cca84907"
      }
     },
     "dc2deb857aad465cad953da9f6edeefa": {
      "model_module": "@jupyter-widgets/base",
      "model_module_version": "1.2.0",
      "model_name": "LayoutModel",
      "state": {}
     },
     "e18794d9524e4e8da4c0d49c9f20d8c0": {
      "model_module": "@jupyter-widgets/controls",
      "model_module_version": "1.5.0",
      "model_name": "HTMLModel",
      "state": {
       "layout": "IPY_MODEL_eb8be6b4224d41fc9cef66c20706e6a1",
       "style": "IPY_MODEL_469accac02644578b3d05051fbb9f89d",
       "value": "100%"
      }
     },
     "e2f13a8d3fbc4dc5acf319a03fa14626": {
      "model_module": "@jupyter-widgets/controls",
      "model_module_version": "1.5.0",
      "model_name": "HTMLModel",
      "state": {
       "layout": "IPY_MODEL_94209e3c39ee433994ef25b06975a66f",
       "style": "IPY_MODEL_2d11e9804ba745efb0ec6c64363b7d26",
       "value": " 400/400 [12:54&lt;00:00,  1.95s/it]"
      }
     },
     "e316459f808f406f8096703a17e997bc": {
      "model_module": "@jupyter-widgets/controls",
      "model_module_version": "1.5.0",
      "model_name": "HTMLModel",
      "state": {
       "layout": "IPY_MODEL_541ba888933e4897a01a076619dfcf85",
       "style": "IPY_MODEL_858ffc3db4be4cfa8a74f1a4ad2ef6b2",
       "value": " 400/400 [15:23&lt;00:00,  2.31s/it]"
      }
     },
     "e4899d2daffb4f999552703521f2dbad": {
      "model_module": "@jupyter-widgets/base",
      "model_module_version": "1.2.0",
      "model_name": "LayoutModel",
      "state": {}
     },
     "e6a91cbb8dfc4719842b837b753a71fd": {
      "model_module": "@jupyter-widgets/base",
      "model_module_version": "1.2.0",
      "model_name": "LayoutModel",
      "state": {}
     },
     "e712e15754ee456ca97363104cfbd685": {
      "model_module": "@jupyter-widgets/controls",
      "model_module_version": "1.5.0",
      "model_name": "FloatProgressModel",
      "state": {
       "bar_style": "success",
       "layout": "IPY_MODEL_359cc91e93374fdcb91879a31264feae",
       "max": 400,
       "style": "IPY_MODEL_7bd9d86ed93f4571864a11739816163e",
       "value": 400
      }
     },
     "e86c863492bf4bad9649357c24b084b1": {
      "model_module": "@jupyter-widgets/controls",
      "model_module_version": "1.5.0",
      "model_name": "FloatProgressModel",
      "state": {
       "bar_style": "success",
       "layout": "IPY_MODEL_4470d0cea63b4954900e82d1232ec6ee",
       "max": 400,
       "style": "IPY_MODEL_35f6953b148c42d08ea90503969233e7",
       "value": 400
      }
     },
     "e9798dc948874c439c6ffac4d694c93a": {
      "model_module": "@jupyter-widgets/controls",
      "model_module_version": "1.5.0",
      "model_name": "FloatProgressModel",
      "state": {
       "bar_style": "success",
       "layout": "IPY_MODEL_c26171fd74d64dda99d5a279bd6dbf8f",
       "max": 400,
       "style": "IPY_MODEL_8aa8ab3db62446fc86b9b0680415d65b",
       "value": 400
      }
     },
     "e9dce4c8cda74e8597735c3c01116f26": {
      "model_module": "@jupyter-widgets/controls",
      "model_module_version": "1.5.0",
      "model_name": "DescriptionStyleModel",
      "state": {
       "description_width": ""
      }
     },
     "eb602366dcc84867b3ccb5ad472bbe8c": {
      "model_module": "@jupyter-widgets/base",
      "model_module_version": "1.2.0",
      "model_name": "LayoutModel",
      "state": {}
     },
     "eb8be6b4224d41fc9cef66c20706e6a1": {
      "model_module": "@jupyter-widgets/base",
      "model_module_version": "1.2.0",
      "model_name": "LayoutModel",
      "state": {}
     },
     "ebbb57092d7e4ebe83c08b44a29fb726": {
      "model_module": "@jupyter-widgets/base",
      "model_module_version": "1.2.0",
      "model_name": "LayoutModel",
      "state": {}
     },
     "ed0c1e82166c4f3c9f17c879be462827": {
      "model_module": "@jupyter-widgets/controls",
      "model_module_version": "1.5.0",
      "model_name": "DescriptionStyleModel",
      "state": {
       "description_width": ""
      }
     },
     "f0667a9a49544e84aeec7884d2e0a915": {
      "model_module": "@jupyter-widgets/controls",
      "model_module_version": "1.5.0",
      "model_name": "HBoxModel",
      "state": {
       "children": [
        "IPY_MODEL_cf23ba985cf7449182db7cbede995801",
        "IPY_MODEL_4c2372eed62c4b2ebd21893392b91f00",
        "IPY_MODEL_c9c3107c4a0341c6ad586969bc23bcc2"
       ],
       "layout": "IPY_MODEL_ae0561f6048843acace080ae449c5277"
      }
     },
     "f10915a022284762b4dae9c54c9b356e": {
      "model_module": "@jupyter-widgets/base",
      "model_module_version": "1.2.0",
      "model_name": "LayoutModel",
      "state": {}
     },
     "f7b1ebc97d3e46cda2957e3476dd07cf": {
      "model_module": "@jupyter-widgets/controls",
      "model_module_version": "1.5.0",
      "model_name": "DescriptionStyleModel",
      "state": {
       "description_width": ""
      }
     },
     "f817e15ca2eb48c4906b04df095d1d02": {
      "model_module": "@jupyter-widgets/controls",
      "model_module_version": "1.5.0",
      "model_name": "DescriptionStyleModel",
      "state": {
       "description_width": ""
      }
     }
    },
    "version_major": 2,
    "version_minor": 0
   }
  }
 },
 "nbformat": 4,
 "nbformat_minor": 4
}
