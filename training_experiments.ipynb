{
 "cells": [
  {
   "cell_type": "markdown",
   "metadata": {
    "colab_type": "text",
    "id": "view-in-github"
   },
   "source": [
    "<a href=\"https://colab.research.google.com/github/xolotl18/Master_Thesis/blob/main/training.ipynb\" target=\"_parent\"><img src=\"https://colab.research.google.com/assets/colab-badge.svg\" alt=\"Open In Colab\"/></a>"
   ]
  },
  {
   "cell_type": "markdown",
   "metadata": {
    "id": "Q0h5Lhdc8pCj"
   },
   "source": [
    "# Semantic Segmentation with FastSCNN"
   ]
  },
  {
   "cell_type": "markdown",
   "metadata": {
    "id": "3B_C0udn81Wl"
   },
   "source": [
    "The purpose of this model is to train the network on the train dataset and then export the model in onnx format and also save the state_dict of the pytorch model for later inference"
   ]
  },
  {
   "cell_type": "markdown",
   "metadata": {
    "id": "FkJXo9Fe8xaZ",
    "jp-MarkdownHeadingCollapsed": true,
    "tags": []
   },
   "source": [
    "## Installation of libraries for Google  Colab"
   ]
  },
  {
   "cell_type": "markdown",
   "metadata": {},
   "source": [
    "**Do not run this cell outside of Google Colaboratory**"
   ]
  },
  {
   "cell_type": "code",
   "execution_count": null,
   "metadata": {
    "colab": {
     "base_uri": "https://localhost:8080/"
    },
    "id": "MsUVejuD8NE4",
    "outputId": "259b9f11-9def-482c-aaff-65b76d14c9ff"
   },
   "outputs": [],
   "source": [
    "!pip3 install -q -U albumentations\n",
    "!echo \"$(pip freeze | grep albumentations) is successfully installed\"\n",
    "!pip uninstall opencv-python-headless==4.5.5.62\n",
    "!pip install opencv-python-headless==4.5.2.52\n",
    "!pip install torchmetrics\n",
    "!pip install torch==1.8.0+cu111 torchvision==0.9.0+cu111 torchaudio==0.8.0 -f https://download.pytorch.org/whl/torch_stable.html\n",
    "!git clone https://github.com/xolotl18/Master_Thesis\n",
    "!pip install onnx\n",
    "!pip install onnxruntime"
   ]
  },
  {
   "cell_type": "markdown",
   "metadata": {
    "id": "ToEHpxrS9YrK"
   },
   "source": [
    "## Imports"
   ]
  },
  {
   "cell_type": "code",
   "execution_count": 1,
   "metadata": {
    "id": "DNzYJzDG8oTS"
   },
   "outputs": [],
   "source": [
    "import copy\n",
    "import random\n",
    "import os\n",
    "import sys\n",
    "import shutil\n",
    "from urllib.request import urlretrieve\n",
    "\n",
    "import albumentations as A\n",
    "import albumentations.augmentations.functional as F\n",
    "from albumentations.pytorch import ToTensorV2\n",
    "import cv2\n",
    "import matplotlib.pyplot as plt\n",
    "import numpy as np\n",
    "from tqdm.notebook import tqdm\n",
    "import torch\n",
    "import torch.backends.cudnn as cudnn\n",
    "import torch.nn as nn\n",
    "import torch.optim\n",
    "from torch.utils.data import Dataset, DataLoader\n",
    "from torchmetrics import JaccardIndex\n",
    "from statistics import mean\n",
    "import torchvision.transforms as T\n",
    "import torch.onnx\n",
    "import onnx\n",
    "import onnxruntime\n",
    "from torchsummary import summary\n",
    "\n",
    "\n",
    "from utils.lr_scheduler import PolynomialLRDecay\n",
    "from models.fast_scnn import FastSCNN\n",
    "from models.small_scnn import SmallSCNN\n",
    "from models.super_small_scnn import SuperSmallSCNN\n",
    "\n",
    "from models.experiments.fast_scnn_mod import FastSCNN as fastscnn_mod\n",
    "\n",
    "from models.bisenetv2 import BiSeNetV2\n",
    "from utils.dataset import PackagesDataset, PackagesInferenceDataset\n",
    "from utils.evaluation import Evaluate\n",
    "cudnn.benchmark = True"
   ]
  },
  {
   "cell_type": "markdown",
   "metadata": {
    "id": "3ly8xqG0BpMa"
   },
   "source": [
    "## Load image and label files into Dataset objects"
   ]
  },
  {
   "cell_type": "markdown",
   "metadata": {
    "id": "o8zTRzUcB26B"
   },
   "source": [
    "The dataset has already been divided into train, validation and test folders in the notebook **Desktop/Master_Thesis/preparation/dataset_traintest_split.ipynb**"
   ]
  },
  {
   "cell_type": "code",
   "execution_count": 2,
   "metadata": {
    "colab": {
     "base_uri": "https://localhost:8080/"
    },
    "id": "Ht_TfMCX_YPU",
    "outputId": "90574f95-389a-4d0e-b9bb-087f6ee935ff"
   },
   "outputs": [
    {
     "name": "stdout",
     "output_type": "stream",
     "text": [
      "The size of the train set is : 300\n",
      "\n",
      "The size of the validation set is : 40\n",
      "\n",
      "The size of the test set is : 60\n",
      "\n"
     ]
    }
   ],
   "source": [
    "c_dir = os.getcwd()\n",
    "dataset_directory = os.path.join(c_dir, \"full_dataset\")\n",
    "\n",
    "train_images_directory = os.path.join(dataset_directory, \"train/images\")\n",
    "train_masks_directory = os.path.join(dataset_directory, \"train/labels\")\n",
    "val_images_directory = os.path.join(dataset_directory, \"val/images\")\n",
    "val_masks_directory = os.path.join(dataset_directory, \"val/labels\")\n",
    "test_images_directory = os.path.join(dataset_directory, \"test/images\")\n",
    "test_masks_directory = os.path.join(dataset_directory, \"test/labels\")\n",
    "\n",
    "#make sure that image_filenames only contains png files\n",
    "train_images_filenames = []\n",
    "train_images_filenames = [ item for item in os.listdir(train_images_directory) if item.endswith(\".png\") ]\n",
    "val_images_filenames = []\n",
    "val_images_filenames = [ item for item in os.listdir(val_images_directory) if item.endswith(\".png\") ]\n",
    "test_images_filenames = []\n",
    "test_images_filenames = [ item for item in os.listdir(test_images_directory) if item.endswith(\".png\") ]\n",
    "\n",
    "for names_list, split in zip((train_images_filenames, val_images_filenames, test_images_filenames), ('train', 'validation', 'test')):\n",
    "  print(f\"The size of the {split} set is : {len(names_list)}\")\n",
    "  print()"
   ]
  },
  {
   "cell_type": "markdown",
   "metadata": {
    "id": "HmSe1l8wDIgh"
   },
   "source": [
    "Select the transformations and create the Dataset objects. \n",
    "\n",
    "The test dataset is different from train and validation because it does not crop the image but applies a resize that will be reversed after the inference."
   ]
  },
  {
   "cell_type": "code",
   "execution_count": 3,
   "metadata": {
    "id": "u0mkcqVHA197"
   },
   "outputs": [],
   "source": [
    "train_transform = A.Compose(\n",
    "    [\n",
    "        A.PadIfNeeded(min_height=512, min_width=512),\n",
    "        A.RandomCrop(512, 512),\n",
    "        A.ShiftScaleRotate(shift_limit=0.05, scale_limit=0.05, rotate_limit=15, p=0.5),\n",
    "        A.RGBShift(r_shift_limit=15, g_shift_limit=15, b_shift_limit=15, p=0.3),\n",
    "        A.RandomBrightnessContrast(p=0.3),\n",
    "        A.Normalize(mean=(0.485, 0.456, 0.406), std=(0.229, 0.224, 0.225)),\n",
    "        ToTensorV2(),\n",
    "    ]\n",
    ")\n",
    "val_transform = A.Compose(\n",
    "    [\n",
    "        A.PadIfNeeded(min_height=512, min_width=512),\n",
    "        A.CenterCrop(512, 512),\n",
    "        A.Normalize(mean=(0.485, 0.456, 0.406), std=(0.229, 0.224, 0.225)),\n",
    "        ToTensorV2(),\n",
    "    ]\n",
    ")\n",
    "test_transform = A.Compose(\n",
    "    [\n",
    "        A.Resize(512, 512),\n",
    "        A.Normalize(mean=(0.485, 0.456, 0.406), std=(0.229, 0.224, 0.225)),\n",
    "        ToTensorV2(),\n",
    "    ]\n",
    ")\n",
    "\n",
    "train_dataset = PackagesDataset(train_images_filenames, train_images_directory, train_masks_directory, transform=train_transform,)\n",
    "val_dataset = PackagesDataset(val_images_filenames, val_images_directory, val_masks_directory, transform=val_transform,)\n",
    "test_dataset = PackagesInferenceDataset(test_images_filenames, test_images_directory, test_masks_directory, transform=test_transform,)"
   ]
  },
  {
   "cell_type": "markdown",
   "metadata": {
    "id": "5NMVGrX6FKCi",
    "tags": []
   },
   "source": [
    "## Training functions"
   ]
  },
  {
   "cell_type": "code",
   "execution_count": 4,
   "metadata": {
    "id": "DeDfSTgaFytR"
   },
   "outputs": [
    {
     "name": "stdout",
     "output_type": "stream",
     "text": [
      "The device is : cuda\n"
     ]
    }
   ],
   "source": [
    "if torch.cuda.is_available():\n",
    "  device = \"cuda\"\n",
    "else:\n",
    "  device = \"cpu\"\n",
    "\n",
    "params = {\n",
    "    \"device\" : device,\n",
    "    \"lr\" : 0.01,\n",
    "    \"batch_size\" : 8,\n",
    "    \"num_workers\" : 4,\n",
    "    \"epochs\" : 400,\n",
    "}\n",
    "print(f\"The device is : {device}\")"
   ]
  },
  {
   "cell_type": "code",
   "execution_count": 5,
   "metadata": {
    "id": "GeVIeZ9GDdu9"
   },
   "outputs": [],
   "source": [
    "#these functions are modified to show less information \n",
    "#the output of 400 epochs of training takes up too much space\n",
    "def train(train_loader, model, criterion, optimizer, scheduler, epoch, params):\n",
    "    model.train()\n",
    "    running_loss = 0.0\n",
    "    for i, data in enumerate(train_loader, 1):\n",
    "        optimizer.zero_grad()\n",
    "\n",
    "        images, targets = data\n",
    "        images = images.to(params[\"device\"], non_blocking=True)\n",
    "        targets = targets.to(params[\"device\"], non_blocking=True)\n",
    "\n",
    "        outputs = model(images)\n",
    "        targets = torch.unsqueeze(targets, 1)\n",
    "\n",
    "        loss = criterion(outputs, targets)\n",
    "        loss.backward()\n",
    "        optimizer.step()\n",
    "        scheduler.step(epoch)\n",
    "        running_loss += loss.item()*images.size(0)\n",
    "\n",
    "def validate(val_loader, model, criterion, epoch, params):\n",
    "    model.eval()\n",
    "    running_loss=0.0\n",
    "    with torch.no_grad():\n",
    "        for i, data in enumerate(val_loader, start=1):\n",
    "                images, targets = data\n",
    "                images = images.to(params[\"device\"], non_blocking=True)\n",
    "                targets = targets.to(params[\"device\"], non_blocking=True)\n",
    "                output = model(images).squeeze(1)\n",
    "                loss = criterion(output, targets)\n",
    "                running_loss += loss.item()*images.size(0)\n",
    "    return running_loss"
   ]
  },
  {
   "cell_type": "code",
   "execution_count": 6,
   "metadata": {},
   "outputs": [],
   "source": [
    "def predict(model, params, test_dataset):\n",
    "    test_loader = DataLoader(\n",
    "        test_dataset, batch_size=params[\"batch_size\"], shuffle=False, num_workers=params[\"num_workers\"], pin_memory=True,\n",
    "    )\n",
    "    model.eval()\n",
    "    predictions = []\n",
    "    with torch.no_grad():\n",
    "        for images, masks, (original_heights, original_widths) in test_loader:\n",
    "            images = images.to(params[\"device\"], non_blocking=True)\n",
    "            output = model(images)\n",
    "            probabilities = torch.sigmoid(output.squeeze(1))\n",
    "            predicted_masks = (probabilities >= 0.5).float() * 1\n",
    "            predicted_masks = predicted_masks.cpu().numpy()\n",
    "            for predicted_mask, gt, original_height, original_width in zip(\n",
    "                predicted_masks, masks.numpy(), original_heights.numpy(), original_widths.numpy()\n",
    "            ):\n",
    "                predictions.append((predicted_mask, gt, original_height, original_width))\n",
    "    return predictions"
   ]
  },
  {
   "cell_type": "code",
   "execution_count": 7,
   "metadata": {},
   "outputs": [],
   "source": [
    "def remove_initializer_from_input(model_path):\n",
    "\n",
    "    onnxmodel = onnx.load(model_path+\".onnx\")\n",
    "    if onnxmodel.ir_version < 4:\n",
    "        print(\"Model with ir_version below 4 requires to include initilizer in graph input\")\n",
    "        return\n",
    "\n",
    "    inputs = onnxmodel.graph.input\n",
    "    name_to_input = {}\n",
    "    for input in inputs:\n",
    "        name_to_input[input.name] = input\n",
    "\n",
    "    for initializer in onnxmodel.graph.initializer:\n",
    "        if initializer.name in name_to_input:\n",
    "            inputs.remove(name_to_input[initializer.name])\n",
    "    out_path = model_path+\"_noinit.onnx\"\n",
    "    onnx.save(onnxmodel, out_path)"
   ]
  },
  {
   "cell_type": "markdown",
   "metadata": {},
   "source": [
    "## Model selection"
   ]
  },
  {
   "cell_type": "markdown",
   "metadata": {},
   "source": [
    "In this section we will define a sequence of hyperparameters that will define the structure of the network. By iterating over these combinations of hyperparameters we will train different models one after the other and save the torch state_dict and the onnx model."
   ]
  },
  {
   "cell_type": "code",
   "execution_count": 8,
   "metadata": {},
   "outputs": [],
   "source": [
    "#the list of parameters contains tuples corresponding to a t r pp\n",
    "#these parameters make up the first 2 stages of simplification\n",
    "#after the models are trained and evaluated, a combination of the results from\n",
    "#these 2 stages will make up the third stage of simplification\n",
    "parameters1_2 = [\n",
    "    (1.0, 6, 3, True),    #baseline\n",
    "    (0.75, 6, 3, True),\n",
    "    (0.5, 6, 3, True),\n",
    "    (0.25, 6, 3, True),\n",
    "    (0.125, 6, 3, True),\n",
    "    (0.5, 4, 3, True),\n",
    "    (0.25, 4, 3, True),\n",
    "    (0.125, 4, 3, True),\n",
    "    (0.25, 2, 3, True),\n",
    "    (0.125, 2, 3, True),\n",
    "    (1.0, 6, 3, False),\n",
    "    (1.0, 6, 2, True),\n",
    "    (1.0, 6, 1, True),\n",
    "    (1.0, 6, 1, False),   \n",
    "]\n",
    "\n",
    "parameters3 = [\n",
    "    (0.25, 6, 2, False),\n",
    "    (0.25, 6, 1, False),\n",
    "    (0.25, 4, 2, False),\n",
    "    (0.25, 4, 1, False),\n",
    "    (0.25, 2, 2, False),\n",
    "    (0.25, 2, 1, False),\n",
    "    (0.125, 6, 2, False),\n",
    "    (0.125, 6, 1, False),\n",
    "    (0.125, 4, 2, False),\n",
    "    (0.125, 4, 1, False),\n",
    "    (0.125, 2, 2, False),\n",
    "    (0.125, 2, 1, False),\n",
    "]"
   ]
  },
  {
   "cell_type": "code",
   "execution_count": 9,
   "metadata": {},
   "outputs": [],
   "source": [
    "train_loader = DataLoader(\n",
    "    train_dataset,\n",
    "    batch_size=params[\"batch_size\"],\n",
    "    shuffle=True,\n",
    "    num_workers=params[\"num_workers\"],\n",
    "    pin_memory=False,\n",
    ")\n",
    "\n",
    "val_loader = DataLoader(\n",
    "    val_dataset,\n",
    "    batch_size=params[\"batch_size\"],\n",
    "    shuffle=True,\n",
    "    num_workers=params[\"num_workers\"],\n",
    "    pin_memory=False,\n",
    ")"
   ]
  },
  {
   "cell_type": "code",
   "execution_count": 11,
   "metadata": {},
   "outputs": [
    {
     "name": "stdout",
     "output_type": "stream",
     "text": [
      "The model has been initialized with parameters:\n",
      "\t Width multiplier a =  0.25\n",
      "\t Bottleneck expansion rate t =  6\n",
      "\t Bottleneck block repetition r =  2\n",
      "\t Presence of Pyramid Pooling module pp =  False\n"
     ]
    },
    {
     "data": {
      "application/vnd.jupyter.widget-view+json": {
       "model_id": "ec237a3c34ec40fab835873003c2f8ff",
       "version_major": 2,
       "version_minor": 0
      },
      "text/plain": [
       "  0%|          | 0/400 [00:00<?, ?it/s]"
      ]
     },
     "metadata": {},
     "output_type": "display_data"
    },
    {
     "name": "stdout",
     "output_type": "stream",
     "text": [
      "The Intersection over Union score is : 0.9735\n",
      "The Dice Coefficient is : 0.9866\n",
      "\n",
      "Torch state_dict saved\n",
      "Onnx model saved\n",
      "\n",
      "The model has been initialized with parameters:\n",
      "\t Width multiplier a =  0.25\n",
      "\t Bottleneck expansion rate t =  6\n",
      "\t Bottleneck block repetition r =  1\n",
      "\t Presence of Pyramid Pooling module pp =  False\n"
     ]
    },
    {
     "data": {
      "application/vnd.jupyter.widget-view+json": {
       "model_id": "bed1685140684ea3a703f788f89c2cc6",
       "version_major": 2,
       "version_minor": 0
      },
      "text/plain": [
       "  0%|          | 0/400 [00:00<?, ?it/s]"
      ]
     },
     "metadata": {},
     "output_type": "display_data"
    },
    {
     "name": "stdout",
     "output_type": "stream",
     "text": [
      "The Intersection over Union score is : 0.9745\n",
      "The Dice Coefficient is : 0.9871\n",
      "\n",
      "Torch state_dict saved\n",
      "Onnx model saved\n",
      "\n",
      "The model has been initialized with parameters:\n",
      "\t Width multiplier a =  0.25\n",
      "\t Bottleneck expansion rate t =  4\n",
      "\t Bottleneck block repetition r =  2\n",
      "\t Presence of Pyramid Pooling module pp =  False\n"
     ]
    },
    {
     "data": {
      "application/vnd.jupyter.widget-view+json": {
       "model_id": "db0dd495873348f8b42ef116f3034a76",
       "version_major": 2,
       "version_minor": 0
      },
      "text/plain": [
       "  0%|          | 0/400 [00:00<?, ?it/s]"
      ]
     },
     "metadata": {},
     "output_type": "display_data"
    },
    {
     "name": "stdout",
     "output_type": "stream",
     "text": [
      "The Intersection over Union score is : 0.9705\n",
      "The Dice Coefficient is : 0.9850\n",
      "\n",
      "Torch state_dict saved\n",
      "Onnx model saved\n",
      "\n",
      "The model has been initialized with parameters:\n",
      "\t Width multiplier a =  0.25\n",
      "\t Bottleneck expansion rate t =  4\n",
      "\t Bottleneck block repetition r =  1\n",
      "\t Presence of Pyramid Pooling module pp =  False\n"
     ]
    },
    {
     "data": {
      "application/vnd.jupyter.widget-view+json": {
       "model_id": "93f3d9b7f8874e27b8e2622ab866f2d9",
       "version_major": 2,
       "version_minor": 0
      },
      "text/plain": [
       "  0%|          | 0/400 [00:00<?, ?it/s]"
      ]
     },
     "metadata": {},
     "output_type": "display_data"
    },
    {
     "name": "stdout",
     "output_type": "stream",
     "text": [
      "The Intersection over Union score is : 0.9735\n",
      "The Dice Coefficient is : 0.9866\n",
      "\n",
      "Torch state_dict saved\n",
      "Onnx model saved\n",
      "\n",
      "The model has been initialized with parameters:\n",
      "\t Width multiplier a =  0.25\n",
      "\t Bottleneck expansion rate t =  2\n",
      "\t Bottleneck block repetition r =  2\n",
      "\t Presence of Pyramid Pooling module pp =  False\n"
     ]
    },
    {
     "data": {
      "application/vnd.jupyter.widget-view+json": {
       "model_id": "d9f028ab13b84a76ba0353e9c8df8cb0",
       "version_major": 2,
       "version_minor": 0
      },
      "text/plain": [
       "  0%|          | 0/400 [00:00<?, ?it/s]"
      ]
     },
     "metadata": {},
     "output_type": "display_data"
    },
    {
     "name": "stdout",
     "output_type": "stream",
     "text": [
      "The Intersection over Union score is : 0.9723\n",
      "The Dice Coefficient is : 0.9859\n",
      "\n",
      "Torch state_dict saved\n",
      "Onnx model saved\n",
      "\n",
      "The model has been initialized with parameters:\n",
      "\t Width multiplier a =  0.25\n",
      "\t Bottleneck expansion rate t =  2\n",
      "\t Bottleneck block repetition r =  1\n",
      "\t Presence of Pyramid Pooling module pp =  False\n"
     ]
    },
    {
     "data": {
      "application/vnd.jupyter.widget-view+json": {
       "model_id": "c19420cc9ed242599fa87d1d39e6a42d",
       "version_major": 2,
       "version_minor": 0
      },
      "text/plain": [
       "  0%|          | 0/400 [00:00<?, ?it/s]"
      ]
     },
     "metadata": {},
     "output_type": "display_data"
    },
    {
     "name": "stdout",
     "output_type": "stream",
     "text": [
      "The Intersection over Union score is : 0.9694\n",
      "The Dice Coefficient is : 0.9844\n",
      "\n",
      "Torch state_dict saved\n",
      "Onnx model saved\n",
      "\n",
      "The model has been initialized with parameters:\n",
      "\t Width multiplier a =  0.125\n",
      "\t Bottleneck expansion rate t =  6\n",
      "\t Bottleneck block repetition r =  2\n",
      "\t Presence of Pyramid Pooling module pp =  False\n"
     ]
    },
    {
     "data": {
      "application/vnd.jupyter.widget-view+json": {
       "model_id": "d01d4d9cab1a469d8a57e816c6133512",
       "version_major": 2,
       "version_minor": 0
      },
      "text/plain": [
       "  0%|          | 0/400 [00:00<?, ?it/s]"
      ]
     },
     "metadata": {},
     "output_type": "display_data"
    },
    {
     "name": "stdout",
     "output_type": "stream",
     "text": [
      "The Intersection over Union score is : 0.9737\n",
      "The Dice Coefficient is : 0.9867\n",
      "\n",
      "Torch state_dict saved\n",
      "Onnx model saved\n",
      "\n",
      "The model has been initialized with parameters:\n",
      "\t Width multiplier a =  0.125\n",
      "\t Bottleneck expansion rate t =  6\n",
      "\t Bottleneck block repetition r =  1\n",
      "\t Presence of Pyramid Pooling module pp =  False\n"
     ]
    },
    {
     "data": {
      "application/vnd.jupyter.widget-view+json": {
       "model_id": "908a9f011a9a41d5af6cdc9c7a7ffefd",
       "version_major": 2,
       "version_minor": 0
      },
      "text/plain": [
       "  0%|          | 0/400 [00:00<?, ?it/s]"
      ]
     },
     "metadata": {},
     "output_type": "display_data"
    },
    {
     "name": "stdout",
     "output_type": "stream",
     "text": [
      "The Intersection over Union score is : 0.9694\n",
      "The Dice Coefficient is : 0.9844\n",
      "\n",
      "Torch state_dict saved\n",
      "Onnx model saved\n",
      "\n",
      "The model has been initialized with parameters:\n",
      "\t Width multiplier a =  0.125\n",
      "\t Bottleneck expansion rate t =  4\n",
      "\t Bottleneck block repetition r =  2\n",
      "\t Presence of Pyramid Pooling module pp =  False\n"
     ]
    },
    {
     "data": {
      "application/vnd.jupyter.widget-view+json": {
       "model_id": "92f8ba21f70a4be3b7c218bfda484444",
       "version_major": 2,
       "version_minor": 0
      },
      "text/plain": [
       "  0%|          | 0/400 [00:00<?, ?it/s]"
      ]
     },
     "metadata": {},
     "output_type": "display_data"
    },
    {
     "name": "stdout",
     "output_type": "stream",
     "text": [
      "The Intersection over Union score is : 0.9704\n",
      "The Dice Coefficient is : 0.9850\n",
      "\n",
      "Torch state_dict saved\n",
      "Onnx model saved\n",
      "\n",
      "The model has been initialized with parameters:\n",
      "\t Width multiplier a =  0.125\n",
      "\t Bottleneck expansion rate t =  4\n",
      "\t Bottleneck block repetition r =  1\n",
      "\t Presence of Pyramid Pooling module pp =  False\n"
     ]
    },
    {
     "data": {
      "application/vnd.jupyter.widget-view+json": {
       "model_id": "7de9746d1296497da0160d930156bb97",
       "version_major": 2,
       "version_minor": 0
      },
      "text/plain": [
       "  0%|          | 0/400 [00:00<?, ?it/s]"
      ]
     },
     "metadata": {},
     "output_type": "display_data"
    },
    {
     "name": "stdout",
     "output_type": "stream",
     "text": [
      "The Intersection over Union score is : 0.9613\n",
      "The Dice Coefficient is : 0.9802\n",
      "\n",
      "Torch state_dict saved\n",
      "Onnx model saved\n",
      "\n",
      "The model has been initialized with parameters:\n",
      "\t Width multiplier a =  0.125\n",
      "\t Bottleneck expansion rate t =  2\n",
      "\t Bottleneck block repetition r =  2\n",
      "\t Presence of Pyramid Pooling module pp =  False\n"
     ]
    },
    {
     "data": {
      "application/vnd.jupyter.widget-view+json": {
       "model_id": "dc3d20b70d4c40fda02832f72d441a43",
       "version_major": 2,
       "version_minor": 0
      },
      "text/plain": [
       "  0%|          | 0/400 [00:00<?, ?it/s]"
      ]
     },
     "metadata": {},
     "output_type": "display_data"
    },
    {
     "name": "stdout",
     "output_type": "stream",
     "text": [
      "The Intersection over Union score is : 0.9703\n",
      "The Dice Coefficient is : 0.9849\n",
      "\n",
      "Torch state_dict saved\n",
      "Onnx model saved\n",
      "\n",
      "The model has been initialized with parameters:\n",
      "\t Width multiplier a =  0.125\n",
      "\t Bottleneck expansion rate t =  2\n",
      "\t Bottleneck block repetition r =  1\n",
      "\t Presence of Pyramid Pooling module pp =  False\n"
     ]
    },
    {
     "data": {
      "application/vnd.jupyter.widget-view+json": {
       "model_id": "067f0543eb1c4acf82948b2fbfc6e180",
       "version_major": 2,
       "version_minor": 0
      },
      "text/plain": [
       "  0%|          | 0/400 [00:00<?, ?it/s]"
      ]
     },
     "metadata": {},
     "output_type": "display_data"
    },
    {
     "name": "stdout",
     "output_type": "stream",
     "text": [
      "The Intersection over Union score is : 0.9682\n",
      "The Dice Coefficient is : 0.9838\n",
      "\n",
      "Torch state_dict saved\n",
      "Onnx model saved\n",
      "\n"
     ]
    }
   ],
   "source": [
    "for a, t, r, pp in parameters3:\n",
    "    model = fastscnn_mod(in_channels=3, num_classes=1, a=a, t=t, r=r, pp=pp).to(params[\"device\"])\n",
    "    criterion = nn.BCEWithLogitsLoss()\n",
    "    optimizer = torch.optim.Adam(model.parameters(), lr=params[\"lr\"])\n",
    "    scheduler = PolynomialLRDecay(optimizer, max_decay_steps=params[\"epochs\"], end_learning_rate=0.0001, power=0.9)\n",
    "\n",
    "    best_loss = sys.float_info.max\n",
    "    model_ckpt = copy.deepcopy(model.state_dict())\n",
    "    #train the current model\n",
    "    for epoch in tqdm(range(1, params[\"epochs\"]+1)):\n",
    "        train(train_loader, model, criterion, optimizer, scheduler, epoch, params)\n",
    "        epoch_loss = validate(val_loader, model, criterion, epoch, params)\n",
    "        #select the best model based on the loss on the validation set\n",
    "        if epoch_loss < best_loss:\n",
    "            best_loss = epoch_loss\n",
    "            model_ckpt = copy.deepcopy(model.state_dict())\n",
    "    \n",
    "    model.load_state_dict(model_ckpt)\n",
    "    predictions = predict(model, params, test_dataset)\n",
    "    #display the intersecion over union and the dice score for the current model\n",
    "    evaluator = Evaluate(predictions)\n",
    "    iou, dice = evaluator.get_metrics().values()\n",
    "    print(f\"The Intersection over Union score is : {iou:.4f}\")\n",
    "    print(f\"The Dice Coefficient is : {dice:.4f}\")\n",
    "    print()\n",
    "    #select the name that the model will be saved with\n",
    "    model_name = \"fastscnn_a\"+str(a)+\"t\"+str(t)+\"r\"+str(r)+\"pp\"+str(int(pp))\n",
    "    model_path = os.path.join(c_dir, \"model_checkpoints/experiments\", model_name)\n",
    "    torch.save(model.state_dict(), model_path+\".pt\")\n",
    "    print(\"Torch state_dict saved\")\n",
    "    #put the model in inference mode\n",
    "    model.eval()\n",
    "    #generate dummy input for onnx export\n",
    "    x = torch.randn(1, 3, 512, 512, requires_grad=True).to(params[\"device\"])\n",
    "\n",
    "    # Export the model\n",
    "    torch.onnx.export(model,                     # model being run\n",
    "                      x,                         # model input (or a tuple for multiple inputs)\n",
    "                      model_path+\".onnx\",       # where to save the model (can be a file or file-like object)\n",
    "                      export_params=True,        # store the trained parameter weights inside the model file\n",
    "                      opset_version=11,          # the ONNX version to export the model to\n",
    "                      do_constant_folding=True,  # whether to execute constant folding for optimization\n",
    "                      input_names = ['input'],   # the model's input names\n",
    "                      output_names = ['output'], # the model's output names\n",
    "                      operator_export_type=torch.onnx.OperatorExportTypes.ONNX,\n",
    "                      dynamic_axes={'input' : {0 : 'batch_size'},    # variable length axes\n",
    "                                    'output' : {0 : 'batch_size'}})\n",
    "    remove_initializer_from_input(model_path)\n",
    "    print(\"Onnx model saved\")\n",
    "    print()"
   ]
  },
  {
   "cell_type": "markdown",
   "metadata": {
    "id": "JLKe5BfuYSAx"
   },
   "source": [
    "# Model evaluation on test set\n"
   ]
  },
  {
   "cell_type": "code",
   "execution_count": 9,
   "metadata": {},
   "outputs": [],
   "source": [
    "def predict(model, params, test_dataset):\n",
    "    test_loader = DataLoader(\n",
    "        test_dataset, batch_size=params[\"batch_size\"], shuffle=False, num_workers=params[\"num_workers\"], pin_memory=True,\n",
    "    )\n",
    "    model.eval()\n",
    "    predictions = []\n",
    "    with torch.no_grad():\n",
    "        for images, masks, (original_heights, original_widths) in test_loader:\n",
    "            images = images.to(params[\"device\"], non_blocking=True)\n",
    "            output = model(images)\n",
    "            probabilities = torch.sigmoid(output.squeeze(1))\n",
    "            predicted_masks = (probabilities >= 0.5).float() * 1\n",
    "            predicted_masks = predicted_masks.cpu().numpy()\n",
    "            for predicted_mask, gt, original_height, original_width in zip(\n",
    "                predicted_masks, masks.numpy(), original_heights.numpy(), original_widths.numpy()\n",
    "            ):\n",
    "                predictions.append((predicted_mask, gt, original_height, original_width))\n",
    "    return predictions"
   ]
  },
  {
   "cell_type": "code",
   "execution_count": 10,
   "metadata": {},
   "outputs": [
    {
     "name": "stdout",
     "output_type": "stream",
     "text": [
      "The Intersection over Union score is : 0.9666\n",
      "The Dice Coefficient is : 0.9830\n"
     ]
    }
   ],
   "source": [
    "predictions = predict(model, params, test_dataset)\n",
    "\n",
    "evaluator = Evaluate(predictions)\n",
    "iou, dice = evaluator.get_metrics().values()\n",
    "print(f\"The Intersection over Union score is : {iou:.4f}\")\n",
    "print(f\"The Dice Coefficient is : {dice:.4f}\")"
   ]
  },
  {
   "cell_type": "markdown",
   "metadata": {},
   "source": [
    "## Visualize some of the predictions alongside the ground truth masks"
   ]
  },
  {
   "cell_type": "code",
   "execution_count": null,
   "metadata": {},
   "outputs": [],
   "source": [
    "predicted_masks = []\n",
    "gt_masks = []\n",
    "for predicted_256x256_mask, ground_truth, original_height, original_width in predictions:\n",
    "    full_sized_mask = A.resize(\n",
    "        predicted_256x256_mask, height=original_height, width=original_width, interpolation=cv2.INTER_NEAREST\n",
    "    )\n",
    "    full_sized_gt = A.resize(\n",
    "        ground_truth, height=original_height, width=original_width, interpolation=cv2.INTER_NEAREST\n",
    "    )\n",
    "    predicted_masks.append(full_sized_mask)\n",
    "    gt_masks.append(full_sized_gt)\n"
   ]
  },
  {
   "cell_type": "code",
   "execution_count": null,
   "metadata": {},
   "outputs": [],
   "source": [
    "cols = 3 \n",
    "rows = 4\n",
    "figure, ax = plt.subplots(nrows=rows, ncols=cols, figsize=(12, 10))\n",
    "for i, image_filename in enumerate(test_images_filenames[:rows]):\n",
    "    image = cv2.imread(os.path.join(test_images_directory, image_filename))\n",
    "    image = cv2.cvtColor(image, cv2.COLOR_BGR2RGB)\n",
    "\n",
    "    mask = gt_masks[i]\n",
    "    ax[i, 0].imshow(image)\n",
    "    ax[i, 1].imshow(mask, interpolation=\"nearest\")\n",
    "\n",
    "    ax[i, 0].set_title(\"Image\")\n",
    "    ax[i, 1].set_title(\"Ground truth mask\")\n",
    "\n",
    "    ax[i, 0].set_axis_off()\n",
    "    ax[i, 1].set_axis_off()\n",
    "\n",
    "    predicted_mask = predicted_masks[i]\n",
    "    ax[i, 2].imshow(predicted_mask, interpolation=\"nearest\")\n",
    "    ax[i, 2].set_title(\"Predicted mask\")\n",
    "    ax[i, 2].set_axis_off()\n",
    "plt.tight_layout()\n",
    "plt.show()"
   ]
  },
  {
   "cell_type": "markdown",
   "metadata": {
    "id": "D-T0K5ypbTsb",
    "tags": []
   },
   "source": [
    "## Export the model as torch state dict and ONNX graph"
   ]
  },
  {
   "cell_type": "code",
   "execution_count": null,
   "metadata": {
    "id": "d4gyJp7NfGXS"
   },
   "outputs": [],
   "source": [
    "#select the name that the model will be saved with\n",
    "model_name = \"small400e\"\n",
    "model_path = os.path.join(c_dir, \"model_checkpoints\", model_name)\n",
    "print(model_path)"
   ]
  },
  {
   "cell_type": "markdown",
   "metadata": {
    "id": "SL7COJLIcm3p"
   },
   "source": [
    "Save the model as torch state dict, when doing inference the paramenters in the state dict will be used to load the model to this state"
   ]
  },
  {
   "cell_type": "code",
   "execution_count": null,
   "metadata": {
    "id": "k4o-EvRTcg_E"
   },
   "outputs": [],
   "source": [
    "torch.save(model.state_dict(), model_path+\".pt\")"
   ]
  },
  {
   "cell_type": "markdown",
   "metadata": {
    "id": "QkdEKRP7c2ld"
   },
   "source": [
    "Export the model in onnx format and then check for errors with the built in onnx check_model function.\n",
    "\n",
    "In order to export the model a dummy input needs to be given as input"
   ]
  },
  {
   "cell_type": "code",
   "execution_count": null,
   "metadata": {
    "id": "amvNyP8sbcUo"
   },
   "outputs": [],
   "source": [
    "#put the model in inference mode\n",
    "model.eval()\n",
    "#generate dummy input for onnx export\n",
    "x = torch.randn(1, 3, 512, 512, requires_grad=True).cuda()\n",
    "torch_out = model(x)\n",
    "\n",
    "# Export the model\n",
    "torch.onnx.export(model,                     # model being run\n",
    "                  x,                         # model input (or a tuple for multiple inputs)\n",
    "                  model_path+\".onnx\",       # where to save the model (can be a file or file-like object)\n",
    "                  export_params=True,        # store the trained parameter weights inside the model file\n",
    "                  opset_version=11,          # the ONNX version to export the model to\n",
    "                  do_constant_folding=True,  # whether to execute constant folding for optimization\n",
    "                  input_names = ['input'],   # the model's input names\n",
    "                  output_names = ['output'], # the model's output names\n",
    "                  operator_export_type=torch.onnx.OperatorExportTypes.ONNX_ATEN_FALLBACK,\n",
    "                  dynamic_axes={'input' : {0 : 'batch_size'},    # variable length axes\n",
    "                                'output' : {0 : 'batch_size'}})"
   ]
  }
 ],
 "metadata": {
  "accelerator": "GPU",
  "colab": {
   "authorship_tag": "ABX9TyOUbNM9vv8a2lLIS9oTCmUR",
   "collapsed_sections": [],
   "include_colab_link": true,
   "name": "training.ipynb",
   "provenance": []
  },
  "kernelspec": {
   "display_name": "Python 3",
   "language": "python",
   "name": "python3"
  },
  "language_info": {
   "codemirror_mode": {
    "name": "ipython",
    "version": 3
   },
   "file_extension": ".py",
   "mimetype": "text/x-python",
   "name": "python",
   "nbconvert_exporter": "python",
   "pygments_lexer": "ipython3",
   "version": "3.9.12"
  },
  "widgets": {
   "application/vnd.jupyter.widget-state+json": {
    "state": {
     "04027d0a0a8446dea79bcaeddc5dc68c": {
      "model_module": "@jupyter-widgets/base",
      "model_module_version": "1.2.0",
      "model_name": "LayoutModel",
      "state": {}
     },
     "048d96f28ed1431cad267d1e1ac3f696": {
      "model_module": "@jupyter-widgets/controls",
      "model_module_version": "1.5.0",
      "model_name": "DescriptionStyleModel",
      "state": {
       "description_width": ""
      }
     },
     "04db7b93b7f8415e9c23522425c67aca": {
      "model_module": "@jupyter-widgets/controls",
      "model_module_version": "1.5.0",
      "model_name": "HTMLModel",
      "state": {
       "layout": "IPY_MODEL_706d7bd182e441f5af639ffaac0057ee",
       "style": "IPY_MODEL_e60377e533164c93ae61cf360f316077",
       "value": " 400/400 [12:25&lt;00:00,  1.87s/it]"
      }
     },
     "067f0543eb1c4acf82948b2fbfc6e180": {
      "model_module": "@jupyter-widgets/controls",
      "model_module_version": "1.5.0",
      "model_name": "HBoxModel",
      "state": {
       "children": [
        "IPY_MODEL_1dc9e33e6b324d6cb7ad8cdfc3a050f9",
        "IPY_MODEL_a60ee8e75650413e8194c4a3ded78a8f",
        "IPY_MODEL_e1c2ac7871ba4a02bffb699511624b07"
       ],
       "layout": "IPY_MODEL_61a6e21711bf4bb7a004938bd7562536"
      }
     },
     "0b00118f2b11406c99a3c38ba40ba9cd": {
      "model_module": "@jupyter-widgets/controls",
      "model_module_version": "1.5.0",
      "model_name": "DescriptionStyleModel",
      "state": {
       "description_width": ""
      }
     },
     "0c8c6da2a7194c219872900bd95bef22": {
      "model_module": "@jupyter-widgets/controls",
      "model_module_version": "1.5.0",
      "model_name": "DescriptionStyleModel",
      "state": {
       "description_width": ""
      }
     },
     "0cf1f9a306834065ba62175c8f5b02e8": {
      "model_module": "@jupyter-widgets/controls",
      "model_module_version": "1.5.0",
      "model_name": "FloatProgressModel",
      "state": {
       "bar_style": "success",
       "layout": "IPY_MODEL_aab4df9be5d5422cba8cc47f2c6eb384",
       "max": 400,
       "style": "IPY_MODEL_eaf0782db89b40eaae9b0c0ee3168701",
       "value": 400
      }
     },
     "0e731117394d43a494dd9e59c360706d": {
      "model_module": "@jupyter-widgets/controls",
      "model_module_version": "1.5.0",
      "model_name": "DescriptionStyleModel",
      "state": {
       "description_width": ""
      }
     },
     "13a1be558d50476fabf432f00e18f2e7": {
      "model_module": "@jupyter-widgets/base",
      "model_module_version": "1.2.0",
      "model_name": "LayoutModel",
      "state": {}
     },
     "1a5ea8c156a74a388769267019228976": {
      "model_module": "@jupyter-widgets/base",
      "model_module_version": "1.2.0",
      "model_name": "LayoutModel",
      "state": {}
     },
     "1bd64e333f12457cac6201d3013aeb99": {
      "model_module": "@jupyter-widgets/controls",
      "model_module_version": "1.5.0",
      "model_name": "HTMLModel",
      "state": {
       "layout": "IPY_MODEL_659ee34b4818432c8502ae4ef6550e58",
       "style": "IPY_MODEL_cdf7920de04b41dea5ca1d79bab86262",
       "value": " 400/400 [12:20&lt;00:00,  1.87s/it]"
      }
     },
     "1d241a4525aa4b1a86c5f10bf46f4fb4": {
      "model_module": "@jupyter-widgets/base",
      "model_module_version": "1.2.0",
      "model_name": "LayoutModel",
      "state": {}
     },
     "1dc9e33e6b324d6cb7ad8cdfc3a050f9": {
      "model_module": "@jupyter-widgets/controls",
      "model_module_version": "1.5.0",
      "model_name": "HTMLModel",
      "state": {
       "layout": "IPY_MODEL_390f0df047864cb1aea18841a876968c",
       "style": "IPY_MODEL_0c8c6da2a7194c219872900bd95bef22",
       "value": "100%"
      }
     },
     "21378750591f4c13ab2c85623b8fbcfc": {
      "model_module": "@jupyter-widgets/controls",
      "model_module_version": "1.5.0",
      "model_name": "DescriptionStyleModel",
      "state": {
       "description_width": ""
      }
     },
     "240993824a8d4a679002e376156286ed": {
      "model_module": "@jupyter-widgets/controls",
      "model_module_version": "1.5.0",
      "model_name": "HTMLModel",
      "state": {
       "layout": "IPY_MODEL_1a5ea8c156a74a388769267019228976",
       "style": "IPY_MODEL_9857c361190e4249a3c4d7da060c48f7",
       "value": " 400/400 [12:20&lt;00:00,  1.85s/it]"
      }
     },
     "29ee2104c8e04e34aa546b728aa54e1a": {
      "model_module": "@jupyter-widgets/controls",
      "model_module_version": "1.5.0",
      "model_name": "DescriptionStyleModel",
      "state": {
       "description_width": ""
      }
     },
     "2a898736fb43471b980846df80f7bed7": {
      "model_module": "@jupyter-widgets/controls",
      "model_module_version": "1.5.0",
      "model_name": "DescriptionStyleModel",
      "state": {
       "description_width": ""
      }
     },
     "2afe6f01a499474a8437208e1062583c": {
      "model_module": "@jupyter-widgets/controls",
      "model_module_version": "1.5.0",
      "model_name": "FloatProgressModel",
      "state": {
       "bar_style": "success",
       "layout": "IPY_MODEL_38c66e73279341ec88b3c4269e86826c",
       "max": 400,
       "style": "IPY_MODEL_df7e2efd67414538a125e62e57f18b2a",
       "value": 400
      }
     },
     "2b4ff40686e54ff487e6f84c16a6a47c": {
      "model_module": "@jupyter-widgets/controls",
      "model_module_version": "1.5.0",
      "model_name": "ProgressStyleModel",
      "state": {
       "description_width": ""
      }
     },
     "2cd86111f9d240738df3e362a8cb1c81": {
      "model_module": "@jupyter-widgets/controls",
      "model_module_version": "1.5.0",
      "model_name": "FloatProgressModel",
      "state": {
       "bar_style": "success",
       "layout": "IPY_MODEL_de537c8d93574619af62dc1781e3fd33",
       "max": 400,
       "style": "IPY_MODEL_951bf2e1d1e54d34855197614b7be376",
       "value": 400
      }
     },
     "3172b5d1f93647ca993f42a501ee93c2": {
      "model_module": "@jupyter-widgets/controls",
      "model_module_version": "1.5.0",
      "model_name": "FloatProgressModel",
      "state": {
       "bar_style": "success",
       "layout": "IPY_MODEL_f284d5d91ba74655b2d599e2cf81dc20",
       "max": 400,
       "style": "IPY_MODEL_75c03ad47a054ce0adf4cfc54f2c6a0f",
       "value": 400
      }
     },
     "31aade595e8c49fc81659e8ff51b09b3": {
      "model_module": "@jupyter-widgets/controls",
      "model_module_version": "1.5.0",
      "model_name": "DescriptionStyleModel",
      "state": {
       "description_width": ""
      }
     },
     "353c49d2adad49329366e6b87bc4fe7f": {
      "model_module": "@jupyter-widgets/base",
      "model_module_version": "1.2.0",
      "model_name": "LayoutModel",
      "state": {}
     },
     "368e75dd781241d08ff5e534ed3285f5": {
      "model_module": "@jupyter-widgets/controls",
      "model_module_version": "1.5.0",
      "model_name": "HTMLModel",
      "state": {
       "layout": "IPY_MODEL_ca0c82a2b2d944a397ebd81e7d050c11",
       "style": "IPY_MODEL_29ee2104c8e04e34aa546b728aa54e1a",
       "value": "100%"
      }
     },
     "388c611ee8fb4d9ea9b1056681f5f1c5": {
      "model_module": "@jupyter-widgets/controls",
      "model_module_version": "1.5.0",
      "model_name": "HTMLModel",
      "state": {
       "layout": "IPY_MODEL_fa0d1ca2905646b4b17f9426470e9af4",
       "style": "IPY_MODEL_31aade595e8c49fc81659e8ff51b09b3",
       "value": " 400/400 [12:13&lt;00:00,  1.84s/it]"
      }
     },
     "38c66e73279341ec88b3c4269e86826c": {
      "model_module": "@jupyter-widgets/base",
      "model_module_version": "1.2.0",
      "model_name": "LayoutModel",
      "state": {}
     },
     "390f0df047864cb1aea18841a876968c": {
      "model_module": "@jupyter-widgets/base",
      "model_module_version": "1.2.0",
      "model_name": "LayoutModel",
      "state": {}
     },
     "3ad51d39ed084d8aa752c4a3063b800c": {
      "model_module": "@jupyter-widgets/base",
      "model_module_version": "1.2.0",
      "model_name": "LayoutModel",
      "state": {}
     },
     "3dbdf3222a5b4ce8a48719185372c24f": {
      "model_module": "@jupyter-widgets/controls",
      "model_module_version": "1.5.0",
      "model_name": "ProgressStyleModel",
      "state": {
       "description_width": ""
      }
     },
     "3f4deeeb43f34f7d8b7c1e31256d558d": {
      "model_module": "@jupyter-widgets/controls",
      "model_module_version": "1.5.0",
      "model_name": "HTMLModel",
      "state": {
       "layout": "IPY_MODEL_463b9a5525b4404889558aef22228802",
       "style": "IPY_MODEL_b1ca70744bce417084832ec3b36ea8ae",
       "value": " 400/400 [13:29&lt;00:00,  1.99s/it]"
      }
     },
     "41febb7611754d879084d37e1d7e4679": {
      "model_module": "@jupyter-widgets/controls",
      "model_module_version": "1.5.0",
      "model_name": "ProgressStyleModel",
      "state": {
       "description_width": ""
      }
     },
     "422e82e844f44a35b7c501de161dc385": {
      "model_module": "@jupyter-widgets/controls",
      "model_module_version": "1.5.0",
      "model_name": "HTMLModel",
      "state": {
       "layout": "IPY_MODEL_4f58c428e1f14d05b4a40b69252445e6",
       "style": "IPY_MODEL_fa63db6537404eefb99c83ba15a080a3",
       "value": " 400/400 [12:22&lt;00:00,  1.86s/it]"
      }
     },
     "429d2c2eae7e4d16990708c72063164a": {
      "model_module": "@jupyter-widgets/controls",
      "model_module_version": "1.5.0",
      "model_name": "DescriptionStyleModel",
      "state": {
       "description_width": ""
      }
     },
     "463b9a5525b4404889558aef22228802": {
      "model_module": "@jupyter-widgets/base",
      "model_module_version": "1.2.0",
      "model_name": "LayoutModel",
      "state": {}
     },
     "47a250f7ca1d4c428fc239601dbf81f4": {
      "model_module": "@jupyter-widgets/controls",
      "model_module_version": "1.5.0",
      "model_name": "ProgressStyleModel",
      "state": {
       "description_width": ""
      }
     },
     "48f7588c5ea44f24a4812504cac4c7f6": {
      "model_module": "@jupyter-widgets/controls",
      "model_module_version": "1.5.0",
      "model_name": "FloatProgressModel",
      "state": {
       "bar_style": "success",
       "layout": "IPY_MODEL_daff503d2f6046beb71aecd63d1a498d",
       "max": 400,
       "style": "IPY_MODEL_50eab60d3c384330831e30e9505d775b",
       "value": 400
      }
     },
     "4903e1ff03274fdf831d5125141b922a": {
      "model_module": "@jupyter-widgets/base",
      "model_module_version": "1.2.0",
      "model_name": "LayoutModel",
      "state": {}
     },
     "4a6cce993a9e417c85523daba081b40f": {
      "model_module": "@jupyter-widgets/controls",
      "model_module_version": "1.5.0",
      "model_name": "HTMLModel",
      "state": {
       "layout": "IPY_MODEL_dc3c24f4e9364d7e9262ec7449b19137",
       "style": "IPY_MODEL_21378750591f4c13ab2c85623b8fbcfc",
       "value": " 400/400 [12:20&lt;00:00,  1.85s/it]"
      }
     },
     "4eb1f463119d41479655738b22f7cdea": {
      "model_module": "@jupyter-widgets/base",
      "model_module_version": "1.2.0",
      "model_name": "LayoutModel",
      "state": {}
     },
     "4f58c428e1f14d05b4a40b69252445e6": {
      "model_module": "@jupyter-widgets/base",
      "model_module_version": "1.2.0",
      "model_name": "LayoutModel",
      "state": {}
     },
     "4f69f1c3aff54a56b3edd6da85508569": {
      "model_module": "@jupyter-widgets/controls",
      "model_module_version": "1.5.0",
      "model_name": "HTMLModel",
      "state": {
       "layout": "IPY_MODEL_829b8c9269824353a04e9498d8fe2793",
       "style": "IPY_MODEL_e154efd968c546009adb446cdc18d4a5",
       "value": " 400/400 [12:26&lt;00:00,  1.86s/it]"
      }
     },
     "50eab60d3c384330831e30e9505d775b": {
      "model_module": "@jupyter-widgets/controls",
      "model_module_version": "1.5.0",
      "model_name": "ProgressStyleModel",
      "state": {
       "description_width": ""
      }
     },
     "516c8e04b6bc4b70b1918eb15788fdb6": {
      "model_module": "@jupyter-widgets/base",
      "model_module_version": "1.2.0",
      "model_name": "LayoutModel",
      "state": {}
     },
     "57d8e2a8103e4f0e833cab508902aeb4": {
      "model_module": "@jupyter-widgets/controls",
      "model_module_version": "1.5.0",
      "model_name": "DescriptionStyleModel",
      "state": {
       "description_width": ""
      }
     },
     "58a4fb1f84c446829962a03a6dc19344": {
      "model_module": "@jupyter-widgets/base",
      "model_module_version": "1.2.0",
      "model_name": "LayoutModel",
      "state": {}
     },
     "5c77f8173ab645f0930810773d6a2e5c": {
      "model_module": "@jupyter-widgets/base",
      "model_module_version": "1.2.0",
      "model_name": "LayoutModel",
      "state": {}
     },
     "5e084b1fc5054f6d89dda5c02542facf": {
      "model_module": "@jupyter-widgets/controls",
      "model_module_version": "1.5.0",
      "model_name": "HTMLModel",
      "state": {
       "layout": "IPY_MODEL_c961dc842575418a9388357a50f66112",
       "style": "IPY_MODEL_e22cf23eddf74bea8a71f6e4ce057910",
       "value": "100%"
      }
     },
     "61a6e21711bf4bb7a004938bd7562536": {
      "model_module": "@jupyter-widgets/base",
      "model_module_version": "1.2.0",
      "model_name": "LayoutModel",
      "state": {}
     },
     "6279f17e60d34ecc9ad6c958ba670d89": {
      "model_module": "@jupyter-widgets/controls",
      "model_module_version": "1.5.0",
      "model_name": "FloatProgressModel",
      "state": {
       "bar_style": "success",
       "layout": "IPY_MODEL_5c77f8173ab645f0930810773d6a2e5c",
       "max": 400,
       "style": "IPY_MODEL_41febb7611754d879084d37e1d7e4679",
       "value": 400
      }
     },
     "640e355105ba4b11ba073ffe765ce8b7": {
      "model_module": "@jupyter-widgets/controls",
      "model_module_version": "1.5.0",
      "model_name": "HTMLModel",
      "state": {
       "layout": "IPY_MODEL_671448d7f86e473c8801d930d01756fd",
       "style": "IPY_MODEL_a0ac6d62cd2044749f317a4eaf8ab4e5",
       "value": "100%"
      }
     },
     "659ee34b4818432c8502ae4ef6550e58": {
      "model_module": "@jupyter-widgets/base",
      "model_module_version": "1.2.0",
      "model_name": "LayoutModel",
      "state": {}
     },
     "671448d7f86e473c8801d930d01756fd": {
      "model_module": "@jupyter-widgets/base",
      "model_module_version": "1.2.0",
      "model_name": "LayoutModel",
      "state": {}
     },
     "67a59b0fd9214b60b7232746f4dba67a": {
      "model_module": "@jupyter-widgets/controls",
      "model_module_version": "1.5.0",
      "model_name": "DescriptionStyleModel",
      "state": {
       "description_width": ""
      }
     },
     "6aaacda6cfa14a61bb2936ccab43cf31": {
      "model_module": "@jupyter-widgets/controls",
      "model_module_version": "1.5.0",
      "model_name": "HTMLModel",
      "state": {
       "layout": "IPY_MODEL_4eb1f463119d41479655738b22f7cdea",
       "style": "IPY_MODEL_84242faaabf34c93a8d6bb6f79847587",
       "value": "100%"
      }
     },
     "6d81c586c3274fd38971b909a0e5b8dc": {
      "model_module": "@jupyter-widgets/base",
      "model_module_version": "1.2.0",
      "model_name": "LayoutModel",
      "state": {}
     },
     "6e9f0a1ea05e4b56be48359aea22284c": {
      "model_module": "@jupyter-widgets/controls",
      "model_module_version": "1.5.0",
      "model_name": "DescriptionStyleModel",
      "state": {
       "description_width": ""
      }
     },
     "6ea32bb64710418384219e421318228f": {
      "model_module": "@jupyter-widgets/controls",
      "model_module_version": "1.5.0",
      "model_name": "DescriptionStyleModel",
      "state": {
       "description_width": ""
      }
     },
     "706d7bd182e441f5af639ffaac0057ee": {
      "model_module": "@jupyter-widgets/base",
      "model_module_version": "1.2.0",
      "model_name": "LayoutModel",
      "state": {}
     },
     "72af2430abd347e5a0b8315725a0ce6f": {
      "model_module": "@jupyter-widgets/controls",
      "model_module_version": "1.5.0",
      "model_name": "HTMLModel",
      "state": {
       "layout": "IPY_MODEL_e632465b088f4530abdb0e7b8345c800",
       "style": "IPY_MODEL_0e731117394d43a494dd9e59c360706d",
       "value": "100%"
      }
     },
     "75c03ad47a054ce0adf4cfc54f2c6a0f": {
      "model_module": "@jupyter-widgets/controls",
      "model_module_version": "1.5.0",
      "model_name": "ProgressStyleModel",
      "state": {
       "description_width": ""
      }
     },
     "78929444de5b44ccb93e79fc5e2c6e70": {
      "model_module": "@jupyter-widgets/controls",
      "model_module_version": "1.5.0",
      "model_name": "HTMLModel",
      "state": {
       "layout": "IPY_MODEL_ca6f740ba922432bb8d057ecd562095c",
       "style": "IPY_MODEL_0b00118f2b11406c99a3c38ba40ba9cd",
       "value": " 400/400 [12:19&lt;00:00,  1.87s/it]"
      }
     },
     "7de9746d1296497da0160d930156bb97": {
      "model_module": "@jupyter-widgets/controls",
      "model_module_version": "1.5.0",
      "model_name": "HBoxModel",
      "state": {
       "children": [
        "IPY_MODEL_8561030f91464708a5989b493030ed15",
        "IPY_MODEL_9284057c7031459ba461e26096622e10",
        "IPY_MODEL_dc6e2f89bba24dcda4e0d3bf96c4875a"
       ],
       "layout": "IPY_MODEL_353c49d2adad49329366e6b87bc4fe7f"
      }
     },
     "7dec2e4447d5495c92630e63338fd93e": {
      "model_module": "@jupyter-widgets/controls",
      "model_module_version": "1.5.0",
      "model_name": "ProgressStyleModel",
      "state": {
       "description_width": ""
      }
     },
     "8111ff0af73c4757bb25b94ea2fe0c68": {
      "model_module": "@jupyter-widgets/controls",
      "model_module_version": "1.5.0",
      "model_name": "FloatProgressModel",
      "state": {
       "bar_style": "success",
       "layout": "IPY_MODEL_58a4fb1f84c446829962a03a6dc19344",
       "max": 400,
       "style": "IPY_MODEL_47a250f7ca1d4c428fc239601dbf81f4",
       "value": 400
      }
     },
     "829b8c9269824353a04e9498d8fe2793": {
      "model_module": "@jupyter-widgets/base",
      "model_module_version": "1.2.0",
      "model_name": "LayoutModel",
      "state": {}
     },
     "82c64af91c2e4528aa43b112da36fc89": {
      "model_module": "@jupyter-widgets/base",
      "model_module_version": "1.2.0",
      "model_name": "LayoutModel",
      "state": {}
     },
     "84242faaabf34c93a8d6bb6f79847587": {
      "model_module": "@jupyter-widgets/controls",
      "model_module_version": "1.5.0",
      "model_name": "DescriptionStyleModel",
      "state": {
       "description_width": ""
      }
     },
     "8561030f91464708a5989b493030ed15": {
      "model_module": "@jupyter-widgets/controls",
      "model_module_version": "1.5.0",
      "model_name": "HTMLModel",
      "state": {
       "layout": "IPY_MODEL_1d241a4525aa4b1a86c5f10bf46f4fb4",
       "style": "IPY_MODEL_6e9f0a1ea05e4b56be48359aea22284c",
       "value": "100%"
      }
     },
     "85c522c5cc40480b9f5bb48671edcec1": {
      "model_module": "@jupyter-widgets/base",
      "model_module_version": "1.2.0",
      "model_name": "LayoutModel",
      "state": {}
     },
     "8d756de7958341f59e856b9a523ed3df": {
      "model_module": "@jupyter-widgets/base",
      "model_module_version": "1.2.0",
      "model_name": "LayoutModel",
      "state": {}
     },
     "908a9f011a9a41d5af6cdc9c7a7ffefd": {
      "model_module": "@jupyter-widgets/controls",
      "model_module_version": "1.5.0",
      "model_name": "HBoxModel",
      "state": {
       "children": [
        "IPY_MODEL_5e084b1fc5054f6d89dda5c02542facf",
        "IPY_MODEL_3172b5d1f93647ca993f42a501ee93c2",
        "IPY_MODEL_240993824a8d4a679002e376156286ed"
       ],
       "layout": "IPY_MODEL_99a8c995e0e4491e8975363ae8f4f070"
      }
     },
     "9138dfc9484e4cdea6eb5b4235055b57": {
      "model_module": "@jupyter-widgets/base",
      "model_module_version": "1.2.0",
      "model_name": "LayoutModel",
      "state": {}
     },
     "914406f0c7b44e96a53f2a32400a94be": {
      "model_module": "@jupyter-widgets/base",
      "model_module_version": "1.2.0",
      "model_name": "LayoutModel",
      "state": {}
     },
     "9284057c7031459ba461e26096622e10": {
      "model_module": "@jupyter-widgets/controls",
      "model_module_version": "1.5.0",
      "model_name": "FloatProgressModel",
      "state": {
       "bar_style": "success",
       "layout": "IPY_MODEL_a4ba5a66202544849304958a82c82750",
       "max": 400,
       "style": "IPY_MODEL_e7bac8ac8b7c47a48b02eb79b512e205",
       "value": 400
      }
     },
     "92f8ba21f70a4be3b7c218bfda484444": {
      "model_module": "@jupyter-widgets/controls",
      "model_module_version": "1.5.0",
      "model_name": "HBoxModel",
      "state": {
       "children": [
        "IPY_MODEL_f95901be25524483bcad753128b3e6bc",
        "IPY_MODEL_48f7588c5ea44f24a4812504cac4c7f6",
        "IPY_MODEL_04db7b93b7f8415e9c23522425c67aca"
       ],
       "layout": "IPY_MODEL_fd3a8d743dd146c39b4a50b34a583116"
      }
     },
     "937ecbd37bd647738019c231d808d453": {
      "model_module": "@jupyter-widgets/base",
      "model_module_version": "1.2.0",
      "model_name": "LayoutModel",
      "state": {}
     },
     "93f3d9b7f8874e27b8e2622ab866f2d9": {
      "model_module": "@jupyter-widgets/controls",
      "model_module_version": "1.5.0",
      "model_name": "HBoxModel",
      "state": {
       "children": [
        "IPY_MODEL_368e75dd781241d08ff5e534ed3285f5",
        "IPY_MODEL_f99055633888476da3763b4631b01b72",
        "IPY_MODEL_4a6cce993a9e417c85523daba081b40f"
       ],
       "layout": "IPY_MODEL_04027d0a0a8446dea79bcaeddc5dc68c"
      }
     },
     "951bf2e1d1e54d34855197614b7be376": {
      "model_module": "@jupyter-widgets/controls",
      "model_module_version": "1.5.0",
      "model_name": "ProgressStyleModel",
      "state": {
       "description_width": ""
      }
     },
     "9857c361190e4249a3c4d7da060c48f7": {
      "model_module": "@jupyter-widgets/controls",
      "model_module_version": "1.5.0",
      "model_name": "DescriptionStyleModel",
      "state": {
       "description_width": ""
      }
     },
     "99a8c995e0e4491e8975363ae8f4f070": {
      "model_module": "@jupyter-widgets/base",
      "model_module_version": "1.2.0",
      "model_name": "LayoutModel",
      "state": {}
     },
     "9d2dd2a97d434b528c3d873f6448e908": {
      "model_module": "@jupyter-widgets/base",
      "model_module_version": "1.2.0",
      "model_name": "LayoutModel",
      "state": {}
     },
     "9fca81d3b50b4cc4b1486abdd4902255": {
      "model_module": "@jupyter-widgets/controls",
      "model_module_version": "1.5.0",
      "model_name": "ProgressStyleModel",
      "state": {
       "description_width": ""
      }
     },
     "a0ac6d62cd2044749f317a4eaf8ab4e5": {
      "model_module": "@jupyter-widgets/controls",
      "model_module_version": "1.5.0",
      "model_name": "DescriptionStyleModel",
      "state": {
       "description_width": ""
      }
     },
     "a4ba5a66202544849304958a82c82750": {
      "model_module": "@jupyter-widgets/base",
      "model_module_version": "1.2.0",
      "model_name": "LayoutModel",
      "state": {}
     },
     "a5243f3b24d24e38981b17bb1f3ff55c": {
      "model_module": "@jupyter-widgets/controls",
      "model_module_version": "1.5.0",
      "model_name": "FloatProgressModel",
      "state": {
       "bar_style": "success",
       "layout": "IPY_MODEL_3ad51d39ed084d8aa752c4a3063b800c",
       "max": 400,
       "style": "IPY_MODEL_9fca81d3b50b4cc4b1486abdd4902255",
       "value": 400
      }
     },
     "a60ee8e75650413e8194c4a3ded78a8f": {
      "model_module": "@jupyter-widgets/controls",
      "model_module_version": "1.5.0",
      "model_name": "FloatProgressModel",
      "state": {
       "bar_style": "success",
       "layout": "IPY_MODEL_8d756de7958341f59e856b9a523ed3df",
       "max": 400,
       "style": "IPY_MODEL_7dec2e4447d5495c92630e63338fd93e",
       "value": 400
      }
     },
     "a6949c56104a45f6a261ee612b78ab91": {
      "model_module": "@jupyter-widgets/base",
      "model_module_version": "1.2.0",
      "model_name": "LayoutModel",
      "state": {}
     },
     "aab4df9be5d5422cba8cc47f2c6eb384": {
      "model_module": "@jupyter-widgets/base",
      "model_module_version": "1.2.0",
      "model_name": "LayoutModel",
      "state": {}
     },
     "aadf74d2484d433a80bcc8641f954ff8": {
      "model_module": "@jupyter-widgets/controls",
      "model_module_version": "1.5.0",
      "model_name": "DescriptionStyleModel",
      "state": {
       "description_width": ""
      }
     },
     "af14e99f4ecd439599235425d0b51035": {
      "model_module": "@jupyter-widgets/controls",
      "model_module_version": "1.5.0",
      "model_name": "HTMLModel",
      "state": {
       "layout": "IPY_MODEL_13a1be558d50476fabf432f00e18f2e7",
       "style": "IPY_MODEL_f50660e419394b3f84054059c4254e97",
       "value": "100%"
      }
     },
     "b1ca70744bce417084832ec3b36ea8ae": {
      "model_module": "@jupyter-widgets/controls",
      "model_module_version": "1.5.0",
      "model_name": "DescriptionStyleModel",
      "state": {
       "description_width": ""
      }
     },
     "bb08e5e9dc9d42b0b497a3efc88b91cc": {
      "model_module": "@jupyter-widgets/base",
      "model_module_version": "1.2.0",
      "model_name": "LayoutModel",
      "state": {}
     },
     "bed1685140684ea3a703f788f89c2cc6": {
      "model_module": "@jupyter-widgets/controls",
      "model_module_version": "1.5.0",
      "model_name": "HBoxModel",
      "state": {
       "children": [
        "IPY_MODEL_af14e99f4ecd439599235425d0b51035",
        "IPY_MODEL_0cf1f9a306834065ba62175c8f5b02e8",
        "IPY_MODEL_388c611ee8fb4d9ea9b1056681f5f1c5"
       ],
       "layout": "IPY_MODEL_9d2dd2a97d434b528c3d873f6448e908"
      }
     },
     "bf3f33748e6c48daa70af300f209083d": {
      "model_module": "@jupyter-widgets/base",
      "model_module_version": "1.2.0",
      "model_name": "LayoutModel",
      "state": {}
     },
     "c19420cc9ed242599fa87d1d39e6a42d": {
      "model_module": "@jupyter-widgets/controls",
      "model_module_version": "1.5.0",
      "model_name": "HBoxModel",
      "state": {
       "children": [
        "IPY_MODEL_640e355105ba4b11ba073ffe765ce8b7",
        "IPY_MODEL_6279f17e60d34ecc9ad6c958ba670d89",
        "IPY_MODEL_1bd64e333f12457cac6201d3013aeb99"
       ],
       "layout": "IPY_MODEL_e2d0867cbe0f45f3b8e00ed4349763e5"
      }
     },
     "c961dc842575418a9388357a50f66112": {
      "model_module": "@jupyter-widgets/base",
      "model_module_version": "1.2.0",
      "model_name": "LayoutModel",
      "state": {}
     },
     "ca0c82a2b2d944a397ebd81e7d050c11": {
      "model_module": "@jupyter-widgets/base",
      "model_module_version": "1.2.0",
      "model_name": "LayoutModel",
      "state": {}
     },
     "ca6f740ba922432bb8d057ecd562095c": {
      "model_module": "@jupyter-widgets/base",
      "model_module_version": "1.2.0",
      "model_name": "LayoutModel",
      "state": {}
     },
     "ca8a386ca44d45d8a7727a43540d3ce2": {
      "model_module": "@jupyter-widgets/controls",
      "model_module_version": "1.5.0",
      "model_name": "HTMLModel",
      "state": {
       "layout": "IPY_MODEL_937ecbd37bd647738019c231d808d453",
       "style": "IPY_MODEL_67a59b0fd9214b60b7232746f4dba67a",
       "value": "100%"
      }
     },
     "cdf7920de04b41dea5ca1d79bab86262": {
      "model_module": "@jupyter-widgets/controls",
      "model_module_version": "1.5.0",
      "model_name": "DescriptionStyleModel",
      "state": {
       "description_width": ""
      }
     },
     "ce3fb90d38d843a99be9f7b5ba841fba": {
      "model_module": "@jupyter-widgets/base",
      "model_module_version": "1.2.0",
      "model_name": "LayoutModel",
      "state": {}
     },
     "d01d4d9cab1a469d8a57e816c6133512": {
      "model_module": "@jupyter-widgets/controls",
      "model_module_version": "1.5.0",
      "model_name": "HBoxModel",
      "state": {
       "children": [
        "IPY_MODEL_ca8a386ca44d45d8a7727a43540d3ce2",
        "IPY_MODEL_2cd86111f9d240738df3e362a8cb1c81",
        "IPY_MODEL_422e82e844f44a35b7c501de161dc385"
       ],
       "layout": "IPY_MODEL_4903e1ff03274fdf831d5125141b922a"
      }
     },
     "d9f028ab13b84a76ba0353e9c8df8cb0": {
      "model_module": "@jupyter-widgets/controls",
      "model_module_version": "1.5.0",
      "model_name": "HBoxModel",
      "state": {
       "children": [
        "IPY_MODEL_dd7d6f3f248c48ddb8ca4062d87cc294",
        "IPY_MODEL_a5243f3b24d24e38981b17bb1f3ff55c",
        "IPY_MODEL_78929444de5b44ccb93e79fc5e2c6e70"
       ],
       "layout": "IPY_MODEL_6d81c586c3274fd38971b909a0e5b8dc"
      }
     },
     "daff503d2f6046beb71aecd63d1a498d": {
      "model_module": "@jupyter-widgets/base",
      "model_module_version": "1.2.0",
      "model_name": "LayoutModel",
      "state": {}
     },
     "db0dd495873348f8b42ef116f3034a76": {
      "model_module": "@jupyter-widgets/controls",
      "model_module_version": "1.5.0",
      "model_name": "HBoxModel",
      "state": {
       "children": [
        "IPY_MODEL_6aaacda6cfa14a61bb2936ccab43cf31",
        "IPY_MODEL_f164b37bb0b04b86a187f3a98d8865e2",
        "IPY_MODEL_e779e412a54345169d8dd5ab3a5945c1"
       ],
       "layout": "IPY_MODEL_f535db5a78f44140afc1d61bc9a172eb"
      }
     },
     "dc3c24f4e9364d7e9262ec7449b19137": {
      "model_module": "@jupyter-widgets/base",
      "model_module_version": "1.2.0",
      "model_name": "LayoutModel",
      "state": {}
     },
     "dc3d20b70d4c40fda02832f72d441a43": {
      "model_module": "@jupyter-widgets/controls",
      "model_module_version": "1.5.0",
      "model_name": "HBoxModel",
      "state": {
       "children": [
        "IPY_MODEL_72af2430abd347e5a0b8315725a0ce6f",
        "IPY_MODEL_2afe6f01a499474a8437208e1062583c",
        "IPY_MODEL_4f69f1c3aff54a56b3edd6da85508569"
       ],
       "layout": "IPY_MODEL_dfdc161587594d9da5df1b9fe7303475"
      }
     },
     "dc6e2f89bba24dcda4e0d3bf96c4875a": {
      "model_module": "@jupyter-widgets/controls",
      "model_module_version": "1.5.0",
      "model_name": "HTMLModel",
      "state": {
       "layout": "IPY_MODEL_914406f0c7b44e96a53f2a32400a94be",
       "style": "IPY_MODEL_048d96f28ed1431cad267d1e1ac3f696",
       "value": " 400/400 [12:21&lt;00:00,  1.85s/it]"
      }
     },
     "dd7d6f3f248c48ddb8ca4062d87cc294": {
      "model_module": "@jupyter-widgets/controls",
      "model_module_version": "1.5.0",
      "model_name": "HTMLModel",
      "state": {
       "layout": "IPY_MODEL_85c522c5cc40480b9f5bb48671edcec1",
       "style": "IPY_MODEL_2a898736fb43471b980846df80f7bed7",
       "value": "100%"
      }
     },
     "de537c8d93574619af62dc1781e3fd33": {
      "model_module": "@jupyter-widgets/base",
      "model_module_version": "1.2.0",
      "model_name": "LayoutModel",
      "state": {}
     },
     "df7e2efd67414538a125e62e57f18b2a": {
      "model_module": "@jupyter-widgets/controls",
      "model_module_version": "1.5.0",
      "model_name": "ProgressStyleModel",
      "state": {
       "description_width": ""
      }
     },
     "dfdc161587594d9da5df1b9fe7303475": {
      "model_module": "@jupyter-widgets/base",
      "model_module_version": "1.2.0",
      "model_name": "LayoutModel",
      "state": {}
     },
     "e154efd968c546009adb446cdc18d4a5": {
      "model_module": "@jupyter-widgets/controls",
      "model_module_version": "1.5.0",
      "model_name": "DescriptionStyleModel",
      "state": {
       "description_width": ""
      }
     },
     "e1c2ac7871ba4a02bffb699511624b07": {
      "model_module": "@jupyter-widgets/controls",
      "model_module_version": "1.5.0",
      "model_name": "HTMLModel",
      "state": {
       "layout": "IPY_MODEL_516c8e04b6bc4b70b1918eb15788fdb6",
       "style": "IPY_MODEL_aadf74d2484d433a80bcc8641f954ff8",
       "value": " 400/400 [12:21&lt;00:00,  1.85s/it]"
      }
     },
     "e22cf23eddf74bea8a71f6e4ce057910": {
      "model_module": "@jupyter-widgets/controls",
      "model_module_version": "1.5.0",
      "model_name": "DescriptionStyleModel",
      "state": {
       "description_width": ""
      }
     },
     "e2d0867cbe0f45f3b8e00ed4349763e5": {
      "model_module": "@jupyter-widgets/base",
      "model_module_version": "1.2.0",
      "model_name": "LayoutModel",
      "state": {}
     },
     "e60377e533164c93ae61cf360f316077": {
      "model_module": "@jupyter-widgets/controls",
      "model_module_version": "1.5.0",
      "model_name": "DescriptionStyleModel",
      "state": {
       "description_width": ""
      }
     },
     "e632465b088f4530abdb0e7b8345c800": {
      "model_module": "@jupyter-widgets/base",
      "model_module_version": "1.2.0",
      "model_name": "LayoutModel",
      "state": {}
     },
     "e779e412a54345169d8dd5ab3a5945c1": {
      "model_module": "@jupyter-widgets/controls",
      "model_module_version": "1.5.0",
      "model_name": "HTMLModel",
      "state": {
       "layout": "IPY_MODEL_bf3f33748e6c48daa70af300f209083d",
       "style": "IPY_MODEL_6ea32bb64710418384219e421318228f",
       "value": " 400/400 [12:19&lt;00:00,  1.85s/it]"
      }
     },
     "e7bac8ac8b7c47a48b02eb79b512e205": {
      "model_module": "@jupyter-widgets/controls",
      "model_module_version": "1.5.0",
      "model_name": "ProgressStyleModel",
      "state": {
       "description_width": ""
      }
     },
     "eaf0782db89b40eaae9b0c0ee3168701": {
      "model_module": "@jupyter-widgets/controls",
      "model_module_version": "1.5.0",
      "model_name": "ProgressStyleModel",
      "state": {
       "description_width": ""
      }
     },
     "eaf6088d4e0747448996c0c866b0d233": {
      "model_module": "@jupyter-widgets/controls",
      "model_module_version": "1.5.0",
      "model_name": "HTMLModel",
      "state": {
       "layout": "IPY_MODEL_9138dfc9484e4cdea6eb5b4235055b57",
       "style": "IPY_MODEL_429d2c2eae7e4d16990708c72063164a",
       "value": "100%"
      }
     },
     "ec237a3c34ec40fab835873003c2f8ff": {
      "model_module": "@jupyter-widgets/controls",
      "model_module_version": "1.5.0",
      "model_name": "HBoxModel",
      "state": {
       "children": [
        "IPY_MODEL_eaf6088d4e0747448996c0c866b0d233",
        "IPY_MODEL_8111ff0af73c4757bb25b94ea2fe0c68",
        "IPY_MODEL_3f4deeeb43f34f7d8b7c1e31256d558d"
       ],
       "layout": "IPY_MODEL_a6949c56104a45f6a261ee612b78ab91"
      }
     },
     "f164b37bb0b04b86a187f3a98d8865e2": {
      "model_module": "@jupyter-widgets/controls",
      "model_module_version": "1.5.0",
      "model_name": "FloatProgressModel",
      "state": {
       "bar_style": "success",
       "layout": "IPY_MODEL_82c64af91c2e4528aa43b112da36fc89",
       "max": 400,
       "style": "IPY_MODEL_3dbdf3222a5b4ce8a48719185372c24f",
       "value": 400
      }
     },
     "f284d5d91ba74655b2d599e2cf81dc20": {
      "model_module": "@jupyter-widgets/base",
      "model_module_version": "1.2.0",
      "model_name": "LayoutModel",
      "state": {}
     },
     "f50660e419394b3f84054059c4254e97": {
      "model_module": "@jupyter-widgets/controls",
      "model_module_version": "1.5.0",
      "model_name": "DescriptionStyleModel",
      "state": {
       "description_width": ""
      }
     },
     "f535db5a78f44140afc1d61bc9a172eb": {
      "model_module": "@jupyter-widgets/base",
      "model_module_version": "1.2.0",
      "model_name": "LayoutModel",
      "state": {}
     },
     "f95901be25524483bcad753128b3e6bc": {
      "model_module": "@jupyter-widgets/controls",
      "model_module_version": "1.5.0",
      "model_name": "HTMLModel",
      "state": {
       "layout": "IPY_MODEL_bb08e5e9dc9d42b0b497a3efc88b91cc",
       "style": "IPY_MODEL_57d8e2a8103e4f0e833cab508902aeb4",
       "value": "100%"
      }
     },
     "f99055633888476da3763b4631b01b72": {
      "model_module": "@jupyter-widgets/controls",
      "model_module_version": "1.5.0",
      "model_name": "FloatProgressModel",
      "state": {
       "bar_style": "success",
       "layout": "IPY_MODEL_ce3fb90d38d843a99be9f7b5ba841fba",
       "max": 400,
       "style": "IPY_MODEL_2b4ff40686e54ff487e6f84c16a6a47c",
       "value": 400
      }
     },
     "fa0d1ca2905646b4b17f9426470e9af4": {
      "model_module": "@jupyter-widgets/base",
      "model_module_version": "1.2.0",
      "model_name": "LayoutModel",
      "state": {}
     },
     "fa63db6537404eefb99c83ba15a080a3": {
      "model_module": "@jupyter-widgets/controls",
      "model_module_version": "1.5.0",
      "model_name": "DescriptionStyleModel",
      "state": {
       "description_width": ""
      }
     },
     "fd3a8d743dd146c39b4a50b34a583116": {
      "model_module": "@jupyter-widgets/base",
      "model_module_version": "1.2.0",
      "model_name": "LayoutModel",
      "state": {}
     }
    },
    "version_major": 2,
    "version_minor": 0
   }
  }
 },
 "nbformat": 4,
 "nbformat_minor": 4
}
