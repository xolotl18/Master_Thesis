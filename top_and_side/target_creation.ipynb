{
 "cells": [
  {
   "cell_type": "markdown",
   "id": "d7ca6e10-df85-4551-80e4-b172153f74f5",
   "metadata": {},
   "source": [
    "# Creation of ground truth masks from COCO json file"
   ]
  },
  {
   "cell_type": "markdown",
   "id": "ab632f29-9c31-49f1-8ecf-31dd759a4d0a",
   "metadata": {},
   "source": [
    "In the following notebook we process the output of the label-studio api that has been used to manually annotate each image. \n",
    "The goal is to obtain two folders: images and labels.\n",
    "\n",
    "In the labels directory are stored the label masks in png format.\n",
    "Each mask has the same name as the image it refers to.\n"
   ]
  },
  {
   "cell_type": "markdown",
   "id": "0f1b3174-9da3-494e-b91d-69451e0dc11d",
   "metadata": {
    "tags": []
   },
   "source": [
    "## Preliminary steps"
   ]
  },
  {
   "cell_type": "code",
   "execution_count": 1,
   "id": "0d59b419-590d-42e6-b226-838f723931ca",
   "metadata": {},
   "outputs": [
    {
     "name": "stdout",
     "output_type": "stream",
     "text": [
      "/Users/giacomozema/Desktop/industrial quality control of packages/top_and_side\n",
      "['.DS_Store', 'result.json', 'images', '.ipynb_checkpoints', 'target_creation.ipynb']\n",
      "loading annotations into memory...\n",
      "Done (t=0.00s)\n",
      "creating index...\n",
      "index created!\n"
     ]
    }
   ],
   "source": [
    "import os\n",
    "from pycocotools.coco import COCO\n",
    "from PIL import Image\n",
    "import numpy as np\n",
    "import matplotlib.pyplot as plt \n",
    "\n",
    "#create the notebook in the directory created by label-studio\n",
    "cdir=os.getcwd()\n",
    "\n",
    "print(cdir)\n",
    "\n",
    "im_dir = cdir+'/images'\n",
    "im_list = os.listdir(im_dir)\n",
    "print(os.listdir(cdir))\n",
    "\n",
    "#the annotation file exported from label-studio\n",
    "ann_file = cdir+'/result.json'\n",
    "\n",
    "#initialize coco api for annotations\n",
    "coco=COCO(ann_file)\n",
    "\n"
   ]
  },
  {
   "cell_type": "code",
   "execution_count": 2,
   "id": "7a4ee02e-7721-4c56-b870-5ee5035219b7",
   "metadata": {},
   "outputs": [],
   "source": [
    "#create a new directory for the label masks \n",
    "\n",
    "os.mkdir(path=cdir+'/labels')"
   ]
  },
  {
   "cell_type": "markdown",
   "id": "4e45be9d-b758-4d80-bea6-eb3910559630",
   "metadata": {},
   "source": [
    "## Check data integrity"
   ]
  },
  {
   "cell_type": "markdown",
   "id": "95cef19b-c3ad-4108-a545-ec0886f7be11",
   "metadata": {},
   "source": [
    "In order to verify the integrity of the annotations we check the categories present in the annotations, we expect there to be only one category named 'package'"
   ]
  },
  {
   "cell_type": "code",
   "execution_count": 3,
   "id": "bac1af4c-aa02-46ae-b284-96b1d2c3d1fc",
   "metadata": {},
   "outputs": [
    {
     "name": "stdout",
     "output_type": "stream",
     "text": [
      "['package']\n"
     ]
    }
   ],
   "source": [
    "#get the names of the categories, useful when there is the need to select only a subset of classes\n",
    "\n",
    "cats = coco.loadCats(coco.getCatIds())\n",
    "\n",
    "names = [cat['name'] for cat in cats]\n",
    "\n",
    "print(names)"
   ]
  },
  {
   "cell_type": "markdown",
   "id": "70d5fd5c-75c2-460d-88ca-d9032ddbb4a3",
   "metadata": {},
   "source": [
    "The images Ids are retrieved from the coco json file. \n",
    "\n",
    "These ids are used to retrieve an image and its annotation mask"
   ]
  },
  {
   "cell_type": "code",
   "execution_count": 4,
   "id": "b5cb1970-503b-45e9-a066-db23951a8f7a",
   "metadata": {},
   "outputs": [
    {
     "name": "stdout",
     "output_type": "stream",
     "text": [
      "[0, 1, 2, 3, 4, 5, 6, 7, 8, 9, 10, 11, 12, 13, 14, 15, 16, 17, 18, 19, 20, 21, 22, 23, 24, 25, 26, 27, 28, 29, 30, 31, 32, 33, 34, 35, 36, 37, 38, 39, 40, 41, 42, 43, 44, 45, 46, 47, 48, 49, 50, 51, 52, 53, 54, 55, 56, 57, 58, 59, 60, 61, 62, 63, 64, 65, 66, 67, 68, 69, 70, 71, 72, 73, 74, 75, 76, 77, 78, 79, 80, 81, 82, 83, 84, 85, 86, 87, 88, 89, 90, 91, 92, 93, 94, 95, 96, 97, 98, 99, 100, 101, 102, 103, 104, 105, 106, 107, 108, 109, 110, 111, 112, 113, 114, 115, 116, 117, 118, 119, 120, 121, 122, 123, 124, 125, 126, 127, 128, 129, 130, 131, 132, 133, 134, 135, 136, 137, 138, 139, 140, 141, 142, 143, 144, 145, 146, 147, 148, 149, 150, 151, 152, 153, 154, 155, 156, 157, 158, 159, 160, 161, 162, 163, 164, 165, 166, 167, 168, 169, 170, 171, 172, 173, 174, 175, 176, 177, 178, 179, 180, 181, 182, 183, 184, 185, 186, 187, 188, 189, 190, 191, 192, 193, 194, 195, 196, 197, 198, 199, 200, 201, 202, 203, 204, 205, 206, 207, 208, 209, 210, 211, 212, 213, 214, 215, 216, 217, 218, 219, 220, 221, 222, 223, 224, 225, 226, 227, 228, 229, 230, 231, 232, 233, 234, 235, 236, 237, 238, 239, 240, 241, 242, 243, 244, 245, 246, 247, 248, 249, 250, 251, 252, 253, 254, 255, 256, 257, 258, 259, 260, 261, 262, 263, 264, 265, 266, 267, 268, 269, 270, 271, 272, 273, 274, 275, 276, 277, 278, 279, 280, 281, 282, 283, 284, 285, 286, 287, 288, 289, 290, 291, 292, 293, 294, 295, 296, 297, 298, 299, 300, 301, 302, 303, 304, 305, 306, 307, 308, 309, 310, 311, 312, 313, 314, 315, 316, 317, 318, 319, 320, 321, 322, 323, 324, 325, 326, 327, 328, 329, 330, 331, 332, 333, 334, 335, 336, 337, 338, 339, 340, 341, 342, 343, 344, 345, 346, 347, 348, 349, 350, 351, 352, 353, 354, 355, 356, 357, 358, 359, 360, 361, 362, 363, 364, 365, 366, 367, 368, 369, 370, 371, 372, 373, 374, 375, 376, 377, 378, 379, 380, 381, 382, 383, 384, 385, 386, 387, 388, 389, 390, 391, 392, 393, 394, 395, 396, 397, 398, 399]\n"
     ]
    }
   ],
   "source": [
    "#get the image ids \n",
    "\n",
    "imgIds = coco.getImgIds()\n",
    "\n",
    "#there are 200 images : ids 0-199\n",
    "print(imgIds)\n"
   ]
  },
  {
   "cell_type": "code",
   "execution_count": 5,
   "id": "87657ead-aa2a-45c7-925e-4d3cb954e88d",
   "metadata": {},
   "outputs": [
    {
     "name": "stdout",
     "output_type": "stream",
     "text": [
      "[0, 1, 2, 3, 4, 5, 6, 7, 8, 9, 10, 11, 12, 13, 14, 15, 16, 17, 18, 19, 20, 21, 22, 23, 24, 25, 26, 27, 28, 29, 30, 31, 32, 33, 34, 35, 36, 37, 38, 39, 40, 41, 42, 43, 44, 45, 46, 47, 48, 49, 50, 51, 52, 53, 54, 55, 56, 57, 58, 59, 60, 61, 62, 63, 64, 65, 66, 67, 68, 69, 70, 71, 72, 73, 74, 75, 76, 77, 78, 79, 80, 81, 82, 83, 84, 85, 86, 87, 88, 89, 90, 91, 92, 93, 94, 95, 96, 97, 98, 99, 100, 101, 102, 103, 104, 105, 106, 107, 108, 109, 110, 111, 112, 113, 114, 115, 116, 117, 118, 119, 120, 121, 122, 123, 124, 125, 126, 127, 128, 129, 130, 131, 132, 133, 134, 135, 136, 137, 138, 139, 140, 141, 142, 143, 144, 145, 146, 147, 148, 149, 150, 151, 152, 153, 154, 155, 156, 157, 158, 159, 160, 161, 162, 163, 164, 165, 166, 167, 168, 169, 170, 171, 172, 173, 174, 175, 176, 177, 178, 179, 180, 181, 182, 183, 184, 185, 186, 187, 188, 189, 190, 191, 192, 193, 194, 195, 196, 197, 198, 199, 200, 201, 202, 203, 204, 205, 206, 207, 208, 209, 210, 211, 212, 213, 214, 215, 216, 217, 218, 219, 220, 221, 222, 223, 224, 225, 226, 227, 228, 229, 230, 231, 232, 233, 234, 235, 236, 237, 238, 239, 240, 241, 242, 243, 244, 245, 246, 247, 248, 249, 250, 251, 252, 253, 254, 255, 256, 257, 258, 259, 260, 261, 262, 263, 264, 265, 266, 267, 268, 269, 270, 271, 272, 273, 274, 275, 276, 277, 278, 279, 280, 281, 282, 283, 284, 285, 286, 287, 288, 289, 290, 291, 292, 293, 294, 295, 296, 297, 298, 299, 300, 301, 302, 303, 304, 305, 306, 307, 308, 309, 310, 311, 312, 313, 314, 315, 316, 317, 318, 319, 320, 321, 322, 323, 324, 325, 326, 327, 328, 329, 330, 331, 332, 333, 334, 335, 336, 337, 338, 339, 340, 341, 342, 343, 344, 345, 346, 347, 348, 349, 350, 351, 352, 353, 354, 355, 356, 357, 358, 359, 360, 361, 362, 363, 364, 365, 366, 367, 368, 369, 370, 371, 372, 373, 374, 375, 376, 377, 378, 379, 380, 381, 382, 383, 384, 385, 386, 387, 388, 389, 390, 391, 392, 393, 394, 395, 396, 397, 398, 399]\n"
     ]
    }
   ],
   "source": [
    "#get the ids from the images ids\n",
    "\n",
    "annIds = coco.getAnnIds(imgIds)\n",
    "\n",
    "print(annIds)"
   ]
  },
  {
   "cell_type": "markdown",
   "id": "7be829b6-b9cf-4c55-8eed-f0c273f52c38",
   "metadata": {},
   "source": [
    "## Creation of the masks and saving"
   ]
  },
  {
   "cell_type": "markdown",
   "id": "e5b46f6f-ca55-4039-8278-47cb7a49df83",
   "metadata": {},
   "source": [
    "In this final code cell, we perform the following operations:\n",
    "\n",
    "- iterate over image IDs\n",
    "- retrieve the image name for each ID\n",
    "- get the annotation ID for that image\n",
    "- get the mask for that annotation\n",
    "- save the mask as .png in the labels folder with tha same name as the image preceded by \"gt_\""
   ]
  },
  {
   "cell_type": "code",
   "execution_count": 6,
   "id": "906df5d7-75fd-416a-b417-5b2a8be9de9d",
   "metadata": {},
   "outputs": [],
   "source": [
    "images = coco.loadImgs(imgIds)\n",
    "\n",
    "for im in imgIds:\n",
    "    name = images[im]['file_name'].split(\"/\")[-1]\n",
    "    annId = coco.getAnnIds(im)[0]\n",
    "    ann = coco.loadAnns(annId)[0]\n",
    "    mask = coco.annToMask(ann)\n",
    "    png = Image.fromarray(mask*255)\n",
    "    png.save(cdir+'/labels/'+name)\n",
    "    \n",
    "                      "
   ]
  }
 ],
 "metadata": {
  "kernelspec": {
   "display_name": "Python 3 (ipykernel)",
   "language": "python",
   "name": "python3"
  },
  "language_info": {
   "codemirror_mode": {
    "name": "ipython",
    "version": 3
   },
   "file_extension": ".py",
   "mimetype": "text/x-python",
   "name": "python",
   "nbconvert_exporter": "python",
   "pygments_lexer": "ipython3",
   "version": "3.7.12"
  }
 },
 "nbformat": 4,
 "nbformat_minor": 5
}
