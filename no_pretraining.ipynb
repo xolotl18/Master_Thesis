{
 "cells": [
  {
   "cell_type": "markdown",
   "id": "e47b175b-f7a9-4dae-a60c-8510abaafba0",
   "metadata": {},
   "source": [
    "# Generate onnx models at multiple input scales"
   ]
  },
  {
   "cell_type": "code",
   "execution_count": 1,
   "id": "81ae5a18-e1ab-45b0-a95e-1e71b1b01cd9",
   "metadata": {},
   "outputs": [],
   "source": [
    "import copy\n",
    "import random\n",
    "import os\n",
    "import sys\n",
    "\n",
    "import albumentations as A\n",
    "import albumentations.augmentations.functional as F\n",
    "from albumentations.pytorch import ToTensorV2\n",
    "import cv2\n",
    "import matplotlib.pyplot as plt\n",
    "import numpy as np\n",
    "from tqdm.notebook import tqdm\n",
    "import torch\n",
    "import torch.backends.cudnn as cudnn\n",
    "import torch.nn as nn\n",
    "import torch.optim\n",
    "from torch.utils.data import Dataset, DataLoader\n",
    "from torchmetrics import JaccardIndex\n",
    "from statistics import mean\n",
    "import torchvision.transforms as T\n",
    "import torch.onnx\n",
    "import onnx\n",
    "import onnxruntime\n",
    "from torchsummary import summary\n",
    "\n",
    "\n",
    "from utils.lr_scheduler import PolynomialLRDecay\n",
    "from models.experiments.fast_scnn_mod import FastSCNN as fastscnn_mod\n",
    "\n",
    "from utils.dataset import PackagesDataset, PackagesInferenceDataset\n",
    "from utils.evaluation import Evaluate\n",
    "cudnn.benchmark = True"
   ]
  },
  {
   "cell_type": "code",
   "execution_count": 2,
   "id": "89fec52d-87b7-4287-a1f4-9f15e30c11fb",
   "metadata": {},
   "outputs": [],
   "source": [
    "def remove_initializer_from_input(model_path):\n",
    "\n",
    "    onnxmodel = onnx.load(model_path+\".onnx\")\n",
    "    if onnxmodel.ir_version < 4:\n",
    "        print(\"Model with ir_version below 4 requires to include initilizer in graph input\")\n",
    "        return\n",
    "\n",
    "    inputs = onnxmodel.graph.input\n",
    "    name_to_input = {}\n",
    "    for input in inputs:\n",
    "        name_to_input[input.name] = input\n",
    "\n",
    "    for initializer in onnxmodel.graph.initializer:\n",
    "        if initializer.name in name_to_input:\n",
    "            inputs.remove(name_to_input[initializer.name])\n",
    "    out_path = model_path+\"_noinit.onnx\"\n",
    "    onnx.save(onnxmodel, out_path)"
   ]
  },
  {
   "cell_type": "code",
   "execution_count": 3,
   "id": "9427ebf6-a53f-46c5-8645-ecc9aab75966",
   "metadata": {},
   "outputs": [],
   "source": [
    "dimension_multipliers =[1.0, 0.5, 0.4375, 0.375, 0.3125, 0.25, 0.1875]"
   ]
  },
  {
   "cell_type": "code",
   "execution_count": 4,
   "id": "96e5d027-40b4-4a56-912c-a6e4b5022b84",
   "metadata": {},
   "outputs": [
    {
     "name": "stdout",
     "output_type": "stream",
     "text": [
      "The model has been initialized with parameters:\n",
      "\t Width multiplier a =  1.0\n",
      "\t Bottleneck expansion rate t =  6\n",
      "\t Bottleneck block repetition r =  3\n",
      "\t Presence of Pyramid Pooling module pp =  False\n",
      "\n"
     ]
    }
   ],
   "source": [
    "c_dir = os.getcwd()\n",
    "model_path = os.path.join(c_dir, \"model_checkpoints/experiments/fastscnn_a1.0t6r3pp0.pt\")\n",
    "model = fastscnn_mod(in_channels=3, num_classes=1, a=1.0, t=6, r=3, pp=False).cuda()\n",
    "model.load_state_dict((torch.load(model_path)))\n",
    "model.eval()\n",
    "print()\n"
   ]
  },
  {
   "cell_type": "code",
   "execution_count": 5,
   "id": "3cfadc26-4286-4c73-b9a5-45549572ecc0",
   "metadata": {},
   "outputs": [],
   "source": [
    "output_path = os.path.join(c_dir, \"model_checkpoints/experiments/no_pretraining\")"
   ]
  },
  {
   "cell_type": "code",
   "execution_count": 7,
   "id": "02f8557b-f4b7-47f6-84a1-0ae615ab8736",
   "metadata": {},
   "outputs": [
    {
     "name": "stdout",
     "output_type": "stream",
     "text": [
      "Onnx model saved\n",
      "\n",
      "Onnx model saved\n",
      "\n",
      "Onnx model saved\n",
      "\n",
      "Onnx model saved\n",
      "\n",
      "Onnx model saved\n",
      "\n",
      "Onnx model saved\n",
      "\n",
      "Onnx model saved\n",
      "\n"
     ]
    }
   ],
   "source": [
    "for m in dimension_multipliers:\n",
    "    #put the model in inference mode\n",
    "    onnx_path = output_path+\"/fastscnn_\"+str(int(m*512))+\"_noPT\"\n",
    "    #generate dummy input for onnx export\n",
    "    x = torch.randn(1, 3, int(m*512), int(m*512), requires_grad=True).cuda()\n",
    "    torch_out = model(x)\n",
    "\n",
    "    # Export the model\n",
    "    torch.onnx.export(model,                         # model being run\n",
    "                      x,                             # model input (or a tuple for multiple inputs)\n",
    "                      onnx_path+\".onnx\",            # where to save the model (can be a file or file-like object)\n",
    "                      export_params=True,            # store the trained parameter weights inside the model file\n",
    "                      opset_version=11,              # the ONNX version to export the model to\n",
    "                      do_constant_folding=True,      # whether to execute constant folding for optimization\n",
    "                      input_names = ['input'],       # the model's input names\n",
    "                      output_names = ['output'],     # the model's output names\n",
    "                      operator_export_type=torch.onnx.OperatorExportTypes.ONNX,\n",
    "                      dynamic_axes={'input' : {0 : 'batch_size'},    # variable length axes\n",
    "                                    'output' : {0 : 'batch_size'}})\n",
    "    remove_initializer_from_input(onnx_path)\n",
    "    print(\"Onnx model saved\")\n",
    "    print()"
   ]
  }
 ],
 "metadata": {
  "kernelspec": {
   "display_name": "Python 3",
   "language": "python",
   "name": "python3"
  },
  "language_info": {
   "codemirror_mode": {
    "name": "ipython",
    "version": 3
   },
   "file_extension": ".py",
   "mimetype": "text/x-python",
   "name": "python",
   "nbconvert_exporter": "python",
   "pygments_lexer": "ipython3",
   "version": "3.9.12"
  },
  "widgets": {
   "application/vnd.jupyter.widget-state+json": {
    "state": {},
    "version_major": 2,
    "version_minor": 0
   }
  }
 },
 "nbformat": 4,
 "nbformat_minor": 5
}
