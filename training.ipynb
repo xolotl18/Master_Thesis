{
 "cells": [
  {
   "cell_type": "markdown",
   "metadata": {
    "colab_type": "text",
    "id": "view-in-github"
   },
   "source": [
    "<a href=\"https://colab.research.google.com/github/xolotl18/Master_Thesis/blob/main/training.ipynb\" target=\"_parent\"><img src=\"https://colab.research.google.com/assets/colab-badge.svg\" alt=\"Open In Colab\"/></a>"
   ]
  },
  {
   "cell_type": "markdown",
   "metadata": {
    "id": "Q0h5Lhdc8pCj"
   },
   "source": [
    "# Semantic Segmentation with FastSCNN"
   ]
  },
  {
   "cell_type": "markdown",
   "metadata": {
    "id": "3B_C0udn81Wl"
   },
   "source": [
    "The purpose of this model is to train the network on the train dataset and then export the model in onnx format and also save the state_dict of the pytorch model for later inference"
   ]
  },
  {
   "cell_type": "markdown",
   "metadata": {
    "id": "FkJXo9Fe8xaZ",
    "jp-MarkdownHeadingCollapsed": true,
    "tags": []
   },
   "source": [
    "## Installation of libraries for Google  Colab"
   ]
  },
  {
   "cell_type": "markdown",
   "metadata": {},
   "source": [
    "**Do not run this cell outside of Google Colaboratory**"
   ]
  },
  {
   "cell_type": "code",
   "execution_count": null,
   "metadata": {
    "colab": {
     "base_uri": "https://localhost:8080/"
    },
    "id": "MsUVejuD8NE4",
    "outputId": "259b9f11-9def-482c-aaff-65b76d14c9ff"
   },
   "outputs": [],
   "source": [
    "!pip3 install -q -U albumentations\n",
    "!echo \"$(pip freeze | grep albumentations) is successfully installed\"\n",
    "!pip uninstall opencv-python-headless==4.5.5.62\n",
    "!pip install opencv-python-headless==4.5.2.52\n",
    "!pip install torchmetrics\n",
    "!pip install torch==1.8.0+cu111 torchvision==0.9.0+cu111 torchaudio==0.8.0 -f https://download.pytorch.org/whl/torch_stable.html\n",
    "!git clone https://github.com/xolotl18/Master_Thesis\n",
    "!pip install onnx\n",
    "!pip install onnxruntime"
   ]
  },
  {
   "cell_type": "markdown",
   "metadata": {
    "id": "ToEHpxrS9YrK"
   },
   "source": [
    "## Imports"
   ]
  },
  {
   "cell_type": "code",
   "execution_count": 1,
   "metadata": {
    "id": "DNzYJzDG8oTS"
   },
   "outputs": [],
   "source": [
    "import copy\n",
    "import random\n",
    "import os\n",
    "import sys\n",
    "import shutil\n",
    "from urllib.request import urlretrieve\n",
    "\n",
    "import albumentations as A\n",
    "import albumentations.augmentations.functional as F\n",
    "from albumentations.pytorch import ToTensorV2\n",
    "import cv2\n",
    "import matplotlib.pyplot as plt\n",
    "import numpy as np\n",
    "from tqdm.notebook import tqdm\n",
    "import torch\n",
    "import torch.backends.cudnn as cudnn\n",
    "import torch.nn as nn\n",
    "import torch.optim\n",
    "from torch.utils.data import Dataset, DataLoader\n",
    "from torchmetrics import JaccardIndex\n",
    "from statistics import mean\n",
    "import torchvision.transforms as T\n",
    "import torch.onnx\n",
    "import onnx\n",
    "import onnxruntime\n",
    "from torchsummary import summary\n",
    "\n",
    "\n",
    "from utils.lr_scheduler import PolynomialLRDecay\n",
    "from models.fast_scnn import FastSCNN\n",
    "from models.small_scnn import SmallSCNN\n",
    "from models.super_small_scnn import SuperSmallSCNN\n",
    "from models.experiments.fast_scnn_a075t6 import FastSCNN as fast_a075t6\n",
    "from models.experiments.fast_scnn_a05t6 import FastSCNN as fast_a05t6\n",
    "from models.experiments.fast_scnn_a05t4 import FastSCNN as fast_a05t4\n",
    "from models.experiments.fast_scnn_a025t6 import FastSCNN as fast_a025t6\n",
    "from models.experiments.fast_scnn_a025t4 import FastSCNN as fast_a025t4\n",
    "from models.experiments.fast_scnn_a025t2 import FastSCNN as fast_a025t2\n",
    "from models.experiments.fast_scnn_a025t2r1pp0 import FastSCNN as fast_a025t2r1pp0\n",
    "from models.experiments.fast_scnn_r3pp0 import FastSCNN as fast_r3pp0\n",
    "from models.experiments.fast_scnn_r2pp1 import FastSCNN as fast_r2pp1\n",
    "from models.experiments.fast_scnn_r1pp1 import FastSCNN as fast_r1pp1\n",
    "from models.experiments.fast_scnn_r1pp0 import FastSCNN as fast_r1pp0\n",
    "from models.bisenetv2 import BiSeNetV2\n",
    "from utils.dataset import PackagesDataset, PackagesInferenceDataset\n",
    "from utils.evaluation import Evaluate\n",
    "cudnn.benchmark = True"
   ]
  },
  {
   "cell_type": "markdown",
   "metadata": {
    "id": "3ly8xqG0BpMa"
   },
   "source": [
    "## Load image and label files into Dataset objects"
   ]
  },
  {
   "cell_type": "markdown",
   "metadata": {
    "id": "o8zTRzUcB26B"
   },
   "source": [
    "The dataset has already been divided into train, validation and test folders in the notebook **Desktop/Master_Thesis/preparation/dataset_traintest_split.ipynb**"
   ]
  },
  {
   "cell_type": "code",
   "execution_count": 2,
   "metadata": {
    "colab": {
     "base_uri": "https://localhost:8080/"
    },
    "id": "Ht_TfMCX_YPU",
    "outputId": "90574f95-389a-4d0e-b9bb-087f6ee935ff"
   },
   "outputs": [
    {
     "name": "stdout",
     "output_type": "stream",
     "text": [
      "The size of the train set is : 300\n",
      "\n",
      "The size of the validation set is : 40\n",
      "\n",
      "The size of the test set is : 60\n",
      "\n"
     ]
    }
   ],
   "source": [
    "c_dir = os.getcwd()\n",
    "dataset_directory = os.path.join(c_dir, \"full_dataset\")\n",
    "\n",
    "train_images_directory = os.path.join(dataset_directory, \"train/images\")\n",
    "train_masks_directory = os.path.join(dataset_directory, \"train/labels\")\n",
    "val_images_directory = os.path.join(dataset_directory, \"val/images\")\n",
    "val_masks_directory = os.path.join(dataset_directory, \"val/labels\")\n",
    "test_images_directory = os.path.join(dataset_directory, \"test/images\")\n",
    "test_masks_directory = os.path.join(dataset_directory, \"test/labels\")\n",
    "\n",
    "#make sure that image_filenames only contains png files\n",
    "train_images_filenames = []\n",
    "train_images_filenames = [ item for item in os.listdir(train_images_directory) if item.endswith(\".png\") ]\n",
    "val_images_filenames = []\n",
    "val_images_filenames = [ item for item in os.listdir(val_images_directory) if item.endswith(\".png\") ]\n",
    "test_images_filenames = []\n",
    "test_images_filenames = [ item for item in os.listdir(test_images_directory) if item.endswith(\".png\") ]\n",
    "\n",
    "for names_list, split in zip((train_images_filenames, val_images_filenames, test_images_filenames), ('train', 'validation', 'test')):\n",
    "  print(f\"The size of the {split} set is : {len(names_list)}\")\n",
    "  print()"
   ]
  },
  {
   "cell_type": "markdown",
   "metadata": {
    "id": "HmSe1l8wDIgh"
   },
   "source": [
    "Select the transformations and create the Dataset objects. \n",
    "\n",
    "The test dataset is different from train and validation because it does not crop the image but applies a resize that will be reversed after the inference."
   ]
  },
  {
   "cell_type": "code",
   "execution_count": 3,
   "metadata": {
    "id": "u0mkcqVHA197"
   },
   "outputs": [],
   "source": [
    "train_transform = A.Compose(\n",
    "    [\n",
    "        A.PadIfNeeded(min_height=512, min_width=512),\n",
    "        A.RandomCrop(512, 512),\n",
    "        A.ShiftScaleRotate(shift_limit=0.05, scale_limit=0.05, rotate_limit=15, p=0.5),\n",
    "        A.RGBShift(r_shift_limit=15, g_shift_limit=15, b_shift_limit=15, p=0.3),\n",
    "        A.RandomBrightnessContrast(p=0.3),\n",
    "        A.Normalize(mean=(0.485, 0.456, 0.406), std=(0.229, 0.224, 0.225)),\n",
    "        ToTensorV2(),\n",
    "    ]\n",
    ")\n",
    "val_transform = A.Compose(\n",
    "    [\n",
    "        A.PadIfNeeded(min_height=512, min_width=512),\n",
    "        A.CenterCrop(512, 512),\n",
    "        A.Normalize(mean=(0.485, 0.456, 0.406), std=(0.229, 0.224, 0.225)),\n",
    "        ToTensorV2(),\n",
    "    ]\n",
    ")\n",
    "test_transform = A.Compose(\n",
    "    [\n",
    "        A.Resize(512, 512),\n",
    "        A.Normalize(mean=(0.485, 0.456, 0.406), std=(0.229, 0.224, 0.225)),\n",
    "        ToTensorV2(),\n",
    "    ]\n",
    ")\n",
    "\n",
    "train_dataset = PackagesDataset(train_images_filenames, train_images_directory, train_masks_directory, transform=train_transform,)\n",
    "val_dataset = PackagesDataset(val_images_filenames, val_images_directory, val_masks_directory, transform=val_transform,)\n",
    "test_dataset = PackagesInferenceDataset(test_images_filenames, test_images_directory, test_masks_directory, transform=test_transform,)"
   ]
  },
  {
   "cell_type": "markdown",
   "metadata": {
    "id": "5NMVGrX6FKCi"
   },
   "source": [
    "## Training the model"
   ]
  },
  {
   "cell_type": "code",
   "execution_count": 4,
   "metadata": {
    "id": "DeDfSTgaFytR"
   },
   "outputs": [
    {
     "name": "stdout",
     "output_type": "stream",
     "text": [
      "The device is : cuda\n"
     ]
    }
   ],
   "source": [
    "if torch.cuda.is_available():\n",
    "  device = \"cuda\"\n",
    "else:\n",
    "  device = \"cpu\"\n",
    "\n",
    "params = {\n",
    "    \"device\" : device,\n",
    "    \"lr\" : 0.01,\n",
    "    \"batch_size\" : 8,\n",
    "    \"num_workers\" : 4,\n",
    "    \"epochs\" : 40,\n",
    "}\n",
    "print(f\"The device is : {device}\")"
   ]
  },
  {
   "cell_type": "code",
   "execution_count": 5,
   "metadata": {
    "id": "GeVIeZ9GDdu9"
   },
   "outputs": [],
   "source": [
    "def train(train_loader, model, criterion, optimizer, scheduler, epoch, params):\n",
    "  model.train()\n",
    "  running_loss = 0.0\n",
    "  stream = tqdm(train_loader)\n",
    "  for i, data in enumerate(stream, 1):\n",
    "        optimizer.zero_grad()\n",
    "        \n",
    "        images, targets = data\n",
    "        images = images.to(params[\"device\"], non_blocking=True)\n",
    "        targets = targets.to(params[\"device\"], non_blocking=True)\n",
    "\n",
    "        outputs = model(images)\n",
    "        targets = torch.unsqueeze(targets, 1)\n",
    "        \n",
    "        loss = criterion(outputs, targets)\n",
    "        loss.backward()\n",
    "        optimizer.step()\n",
    "        scheduler.step(epoch)\n",
    "        running_loss += loss.item()*images.size(0)\n",
    "        stream.set_description(\n",
    "            \"Epoch: {epoch}. Train.    {loss:.5f}\".format(epoch=epoch, loss=running_loss)\n",
    "        )\n",
    "\n",
    "def validate(val_loader, model, criterion, epoch, params):\n",
    "  model.eval()\n",
    "  running_loss=0.0\n",
    "  stream = tqdm(val_loader)\n",
    "  with torch.no_grad():\n",
    "    for i, data in enumerate(stream, start=1):\n",
    "            images, targets = data\n",
    "            images = images.to(params[\"device\"], non_blocking=True)\n",
    "            targets = targets.to(params[\"device\"], non_blocking=True)\n",
    "            output = model(images).squeeze(1)\n",
    "            loss = criterion(output, targets)\n",
    "            running_loss += loss.item()*images.size(0)\n",
    "            stream.set_description(\n",
    "                \"Epoch: {epoch}. Validation. {loss:.5f}\".format(epoch=epoch, loss=running_loss)\n",
    "            )\n",
    "  return running_loss"
   ]
  },
  {
   "cell_type": "code",
   "execution_count": null,
   "metadata": {},
   "outputs": [],
   "source": [
    "bisenet = BiSeNetV2(n_classes=1).to(params[\"device\"])"
   ]
  },
  {
   "cell_type": "code",
   "execution_count": null,
   "metadata": {
    "id": "2P-yoW1YFYYe"
   },
   "outputs": [],
   "source": [
    "fastscnn = FastSCNN(in_channels=3, num_classes=1).to(params[\"device\"])"
   ]
  },
  {
   "cell_type": "code",
   "execution_count": null,
   "metadata": {},
   "outputs": [],
   "source": [
    "model = SmallSCNN(in_channels=3, num_classes=1).to(params[\"device\"])"
   ]
  },
  {
   "cell_type": "code",
   "execution_count": null,
   "metadata": {},
   "outputs": [],
   "source": [
    "model = SuperSmallSCNN(in_channels=3, num_classes=1).to(params[\"device\"])"
   ]
  },
  {
   "cell_type": "code",
   "execution_count": null,
   "metadata": {},
   "outputs": [],
   "source": [
    "model = fast_a075t6(in_channels=3, num_classes=1).to(params[\"device\"])"
   ]
  },
  {
   "cell_type": "code",
   "execution_count": null,
   "metadata": {},
   "outputs": [],
   "source": [
    "model = fast_a05t6(in_channels=3, num_classes=1).to(params[\"device\"])"
   ]
  },
  {
   "cell_type": "code",
   "execution_count": null,
   "metadata": {},
   "outputs": [],
   "source": [
    "model = fast_a05t4(in_channels=3, num_classes=1).to(params[\"device\"])"
   ]
  },
  {
   "cell_type": "code",
   "execution_count": null,
   "metadata": {},
   "outputs": [],
   "source": [
    "model = fast_a025t6(in_channels=3, num_classes=1).to(params[\"device\"])"
   ]
  },
  {
   "cell_type": "code",
   "execution_count": null,
   "metadata": {},
   "outputs": [],
   "source": [
    "model = fast_a025t4(in_channels=3, num_classes=1).to(params[\"device\"])"
   ]
  },
  {
   "cell_type": "code",
   "execution_count": null,
   "metadata": {},
   "outputs": [],
   "source": [
    "model = fast_a025t2(in_channels=3, num_classes=1).to(params[\"device\"])"
   ]
  },
  {
   "cell_type": "code",
   "execution_count": null,
   "metadata": {},
   "outputs": [],
   "source": [
    "model = fast_r3pp0(in_channels=3, num_classes=1).to(params[\"device\"])"
   ]
  },
  {
   "cell_type": "code",
   "execution_count": null,
   "metadata": {},
   "outputs": [],
   "source": [
    "model = fast_r2pp1(in_channels=3, num_classes=1).to(params[\"device\"])"
   ]
  },
  {
   "cell_type": "code",
   "execution_count": null,
   "metadata": {},
   "outputs": [],
   "source": [
    "model = fast_r1pp1(in_channels=3, num_classes=1).to(params[\"device\"])"
   ]
  },
  {
   "cell_type": "code",
   "execution_count": 6,
   "metadata": {},
   "outputs": [],
   "source": [
    "model = fast_r1pp0(in_channels=3, num_classes=1).to(params[\"device\"])"
   ]
  },
  {
   "cell_type": "code",
   "execution_count": 6,
   "metadata": {},
   "outputs": [],
   "source": [
    "model = fast_a025t2r1pp0(in_channels=3, num_classes=1).to(params[\"device\"])"
   ]
  },
  {
   "cell_type": "code",
   "execution_count": null,
   "metadata": {},
   "outputs": [],
   "source": [
    "input_size = (3, 512, 512)"
   ]
  },
  {
   "cell_type": "code",
   "execution_count": 7,
   "metadata": {
    "colab": {
     "base_uri": "https://localhost:8080/"
    },
    "id": "JvrlSo3GFcoE",
    "outputId": "1549c8ab-f78f-473b-84b5-854632043ae1"
   },
   "outputs": [
    {
     "data": {
      "application/vnd.jupyter.widget-view+json": {
       "model_id": "d8d57a7bc5454764881870d7f113db21",
       "version_major": 2,
       "version_minor": 0
      },
      "text/plain": [
       "  0%|          | 0/38 [00:00<?, ?it/s]"
      ]
     },
     "metadata": {},
     "output_type": "display_data"
    },
    {
     "data": {
      "application/vnd.jupyter.widget-view+json": {
       "model_id": "d050a107ac3944928b45729c0cf0564a",
       "version_major": 2,
       "version_minor": 0
      },
      "text/plain": [
       "  0%|          | 0/5 [00:00<?, ?it/s]"
      ]
     },
     "metadata": {},
     "output_type": "display_data"
    },
    {
     "name": "stdout",
     "output_type": "stream",
     "text": [
      "new best model\n"
     ]
    },
    {
     "data": {
      "application/vnd.jupyter.widget-view+json": {
       "model_id": "3988facc97134b9eb75a639c84e435ca",
       "version_major": 2,
       "version_minor": 0
      },
      "text/plain": [
       "  0%|          | 0/38 [00:00<?, ?it/s]"
      ]
     },
     "metadata": {},
     "output_type": "display_data"
    },
    {
     "data": {
      "application/vnd.jupyter.widget-view+json": {
       "model_id": "eff716ceaf5c4c25a7bf50092cd288fa",
       "version_major": 2,
       "version_minor": 0
      },
      "text/plain": [
       "  0%|          | 0/5 [00:00<?, ?it/s]"
      ]
     },
     "metadata": {},
     "output_type": "display_data"
    },
    {
     "name": "stdout",
     "output_type": "stream",
     "text": [
      "new best model\n"
     ]
    },
    {
     "data": {
      "application/vnd.jupyter.widget-view+json": {
       "model_id": "a6c0f52b0ff647028df81fe41394f4ff",
       "version_major": 2,
       "version_minor": 0
      },
      "text/plain": [
       "  0%|          | 0/38 [00:00<?, ?it/s]"
      ]
     },
     "metadata": {},
     "output_type": "display_data"
    },
    {
     "data": {
      "application/vnd.jupyter.widget-view+json": {
       "model_id": "fc3cada1c90a4c2cbb0cca7ed904f5ef",
       "version_major": 2,
       "version_minor": 0
      },
      "text/plain": [
       "  0%|          | 0/5 [00:00<?, ?it/s]"
      ]
     },
     "metadata": {},
     "output_type": "display_data"
    },
    {
     "name": "stdout",
     "output_type": "stream",
     "text": [
      "new best model\n"
     ]
    },
    {
     "data": {
      "application/vnd.jupyter.widget-view+json": {
       "model_id": "1880e1e94f0e4d2a81dfc91dd23a9814",
       "version_major": 2,
       "version_minor": 0
      },
      "text/plain": [
       "  0%|          | 0/38 [00:00<?, ?it/s]"
      ]
     },
     "metadata": {},
     "output_type": "display_data"
    },
    {
     "data": {
      "application/vnd.jupyter.widget-view+json": {
       "model_id": "efb204bc1f6d4ea497aeb378c570322b",
       "version_major": 2,
       "version_minor": 0
      },
      "text/plain": [
       "  0%|          | 0/5 [00:00<?, ?it/s]"
      ]
     },
     "metadata": {},
     "output_type": "display_data"
    },
    {
     "name": "stdout",
     "output_type": "stream",
     "text": [
      "new best model\n"
     ]
    },
    {
     "data": {
      "application/vnd.jupyter.widget-view+json": {
       "model_id": "14e52d520bff4757b9794dda00399e86",
       "version_major": 2,
       "version_minor": 0
      },
      "text/plain": [
       "  0%|          | 0/38 [00:00<?, ?it/s]"
      ]
     },
     "metadata": {},
     "output_type": "display_data"
    },
    {
     "data": {
      "application/vnd.jupyter.widget-view+json": {
       "model_id": "75c6f0783eec4b229ea6b912b7ad03dc",
       "version_major": 2,
       "version_minor": 0
      },
      "text/plain": [
       "  0%|          | 0/5 [00:00<?, ?it/s]"
      ]
     },
     "metadata": {},
     "output_type": "display_data"
    },
    {
     "data": {
      "application/vnd.jupyter.widget-view+json": {
       "model_id": "90dc5897eb634842814d9d7acd231ddb",
       "version_major": 2,
       "version_minor": 0
      },
      "text/plain": [
       "  0%|          | 0/38 [00:00<?, ?it/s]"
      ]
     },
     "metadata": {},
     "output_type": "display_data"
    },
    {
     "data": {
      "application/vnd.jupyter.widget-view+json": {
       "model_id": "e0aef17340f24697b965fc0b2262fda1",
       "version_major": 2,
       "version_minor": 0
      },
      "text/plain": [
       "  0%|          | 0/5 [00:00<?, ?it/s]"
      ]
     },
     "metadata": {},
     "output_type": "display_data"
    },
    {
     "name": "stdout",
     "output_type": "stream",
     "text": [
      "new best model\n"
     ]
    },
    {
     "data": {
      "application/vnd.jupyter.widget-view+json": {
       "model_id": "1b59684d94854f90b1cfacc16c8feac6",
       "version_major": 2,
       "version_minor": 0
      },
      "text/plain": [
       "  0%|          | 0/38 [00:00<?, ?it/s]"
      ]
     },
     "metadata": {},
     "output_type": "display_data"
    },
    {
     "data": {
      "application/vnd.jupyter.widget-view+json": {
       "model_id": "9d23d7784b35405890beea937007fbb8",
       "version_major": 2,
       "version_minor": 0
      },
      "text/plain": [
       "  0%|          | 0/5 [00:00<?, ?it/s]"
      ]
     },
     "metadata": {},
     "output_type": "display_data"
    },
    {
     "name": "stdout",
     "output_type": "stream",
     "text": [
      "new best model\n"
     ]
    },
    {
     "data": {
      "application/vnd.jupyter.widget-view+json": {
       "model_id": "7710e55d77ee46ef8953c44055565d99",
       "version_major": 2,
       "version_minor": 0
      },
      "text/plain": [
       "  0%|          | 0/38 [00:00<?, ?it/s]"
      ]
     },
     "metadata": {},
     "output_type": "display_data"
    },
    {
     "data": {
      "application/vnd.jupyter.widget-view+json": {
       "model_id": "d2be8692eb304ee8a0cd9d1087864780",
       "version_major": 2,
       "version_minor": 0
      },
      "text/plain": [
       "  0%|          | 0/5 [00:00<?, ?it/s]"
      ]
     },
     "metadata": {},
     "output_type": "display_data"
    },
    {
     "data": {
      "application/vnd.jupyter.widget-view+json": {
       "model_id": "dfab8682ceb9450b9de1053dbc3d8d3f",
       "version_major": 2,
       "version_minor": 0
      },
      "text/plain": [
       "  0%|          | 0/38 [00:00<?, ?it/s]"
      ]
     },
     "metadata": {},
     "output_type": "display_data"
    },
    {
     "data": {
      "application/vnd.jupyter.widget-view+json": {
       "model_id": "226095a058fc476dbc27569acdfd4642",
       "version_major": 2,
       "version_minor": 0
      },
      "text/plain": [
       "  0%|          | 0/5 [00:00<?, ?it/s]"
      ]
     },
     "metadata": {},
     "output_type": "display_data"
    },
    {
     "name": "stdout",
     "output_type": "stream",
     "text": [
      "new best model\n"
     ]
    },
    {
     "data": {
      "application/vnd.jupyter.widget-view+json": {
       "model_id": "dbb99a3039ba4a92aec514d25aeeb928",
       "version_major": 2,
       "version_minor": 0
      },
      "text/plain": [
       "  0%|          | 0/38 [00:00<?, ?it/s]"
      ]
     },
     "metadata": {},
     "output_type": "display_data"
    },
    {
     "data": {
      "application/vnd.jupyter.widget-view+json": {
       "model_id": "d92a2f34a0934c1cb9eb07f2b0a1cd13",
       "version_major": 2,
       "version_minor": 0
      },
      "text/plain": [
       "  0%|          | 0/5 [00:00<?, ?it/s]"
      ]
     },
     "metadata": {},
     "output_type": "display_data"
    },
    {
     "data": {
      "application/vnd.jupyter.widget-view+json": {
       "model_id": "44b1689644724701b81796a36c8ccd58",
       "version_major": 2,
       "version_minor": 0
      },
      "text/plain": [
       "  0%|          | 0/38 [00:00<?, ?it/s]"
      ]
     },
     "metadata": {},
     "output_type": "display_data"
    },
    {
     "data": {
      "application/vnd.jupyter.widget-view+json": {
       "model_id": "07d4af38af984dd59a4b67ab429d601d",
       "version_major": 2,
       "version_minor": 0
      },
      "text/plain": [
       "  0%|          | 0/5 [00:00<?, ?it/s]"
      ]
     },
     "metadata": {},
     "output_type": "display_data"
    },
    {
     "name": "stdout",
     "output_type": "stream",
     "text": [
      "new best model\n"
     ]
    },
    {
     "data": {
      "application/vnd.jupyter.widget-view+json": {
       "model_id": "57d282eac3014e5cb37a503dc0ca9d6d",
       "version_major": 2,
       "version_minor": 0
      },
      "text/plain": [
       "  0%|          | 0/38 [00:00<?, ?it/s]"
      ]
     },
     "metadata": {},
     "output_type": "display_data"
    },
    {
     "data": {
      "application/vnd.jupyter.widget-view+json": {
       "model_id": "4b3f7e5b89264dffa47fdf437b20adfc",
       "version_major": 2,
       "version_minor": 0
      },
      "text/plain": [
       "  0%|          | 0/5 [00:00<?, ?it/s]"
      ]
     },
     "metadata": {},
     "output_type": "display_data"
    },
    {
     "data": {
      "application/vnd.jupyter.widget-view+json": {
       "model_id": "6df298061d444b56817081e538c924cf",
       "version_major": 2,
       "version_minor": 0
      },
      "text/plain": [
       "  0%|          | 0/38 [00:00<?, ?it/s]"
      ]
     },
     "metadata": {},
     "output_type": "display_data"
    },
    {
     "data": {
      "application/vnd.jupyter.widget-view+json": {
       "model_id": "365dce3bc689499ab556870c39ba310f",
       "version_major": 2,
       "version_minor": 0
      },
      "text/plain": [
       "  0%|          | 0/5 [00:00<?, ?it/s]"
      ]
     },
     "metadata": {},
     "output_type": "display_data"
    },
    {
     "name": "stdout",
     "output_type": "stream",
     "text": [
      "new best model\n"
     ]
    },
    {
     "data": {
      "application/vnd.jupyter.widget-view+json": {
       "model_id": "89a44238e9394afd9c09dbe9ce8b5e7a",
       "version_major": 2,
       "version_minor": 0
      },
      "text/plain": [
       "  0%|          | 0/38 [00:00<?, ?it/s]"
      ]
     },
     "metadata": {},
     "output_type": "display_data"
    },
    {
     "data": {
      "application/vnd.jupyter.widget-view+json": {
       "model_id": "63a17a6fd0e74aa9a9e865d1f3c51df9",
       "version_major": 2,
       "version_minor": 0
      },
      "text/plain": [
       "  0%|          | 0/5 [00:00<?, ?it/s]"
      ]
     },
     "metadata": {},
     "output_type": "display_data"
    },
    {
     "data": {
      "application/vnd.jupyter.widget-view+json": {
       "model_id": "b652bfa1dfa040fb81b1d808fd8e7710",
       "version_major": 2,
       "version_minor": 0
      },
      "text/plain": [
       "  0%|          | 0/38 [00:00<?, ?it/s]"
      ]
     },
     "metadata": {},
     "output_type": "display_data"
    },
    {
     "data": {
      "application/vnd.jupyter.widget-view+json": {
       "model_id": "bac318a59ff0465bb27da2f350e72258",
       "version_major": 2,
       "version_minor": 0
      },
      "text/plain": [
       "  0%|          | 0/5 [00:00<?, ?it/s]"
      ]
     },
     "metadata": {},
     "output_type": "display_data"
    },
    {
     "name": "stdout",
     "output_type": "stream",
     "text": [
      "new best model\n"
     ]
    },
    {
     "data": {
      "application/vnd.jupyter.widget-view+json": {
       "model_id": "5af92b1c435547b08688f2ccbb8a3bfd",
       "version_major": 2,
       "version_minor": 0
      },
      "text/plain": [
       "  0%|          | 0/38 [00:00<?, ?it/s]"
      ]
     },
     "metadata": {},
     "output_type": "display_data"
    },
    {
     "data": {
      "application/vnd.jupyter.widget-view+json": {
       "model_id": "33e1bf1af139446eb0116c3c04d1ecd2",
       "version_major": 2,
       "version_minor": 0
      },
      "text/plain": [
       "  0%|          | 0/5 [00:00<?, ?it/s]"
      ]
     },
     "metadata": {},
     "output_type": "display_data"
    },
    {
     "name": "stdout",
     "output_type": "stream",
     "text": [
      "new best model\n"
     ]
    },
    {
     "data": {
      "application/vnd.jupyter.widget-view+json": {
       "model_id": "902070b8bbd04426b44502dc073faef9",
       "version_major": 2,
       "version_minor": 0
      },
      "text/plain": [
       "  0%|          | 0/38 [00:00<?, ?it/s]"
      ]
     },
     "metadata": {},
     "output_type": "display_data"
    },
    {
     "data": {
      "application/vnd.jupyter.widget-view+json": {
       "model_id": "d77d0dd1dbf34d6fb24cc42f6f35115d",
       "version_major": 2,
       "version_minor": 0
      },
      "text/plain": [
       "  0%|          | 0/5 [00:00<?, ?it/s]"
      ]
     },
     "metadata": {},
     "output_type": "display_data"
    },
    {
     "data": {
      "application/vnd.jupyter.widget-view+json": {
       "model_id": "1fc15cf6c6014ca49fe61aadde50849a",
       "version_major": 2,
       "version_minor": 0
      },
      "text/plain": [
       "  0%|          | 0/38 [00:00<?, ?it/s]"
      ]
     },
     "metadata": {},
     "output_type": "display_data"
    },
    {
     "data": {
      "application/vnd.jupyter.widget-view+json": {
       "model_id": "2cb9c5aeb24b41838d324d27d57755bc",
       "version_major": 2,
       "version_minor": 0
      },
      "text/plain": [
       "  0%|          | 0/5 [00:00<?, ?it/s]"
      ]
     },
     "metadata": {},
     "output_type": "display_data"
    },
    {
     "data": {
      "application/vnd.jupyter.widget-view+json": {
       "model_id": "69d03ece7ac74681af8ef791d8cb9b9b",
       "version_major": 2,
       "version_minor": 0
      },
      "text/plain": [
       "  0%|          | 0/38 [00:00<?, ?it/s]"
      ]
     },
     "metadata": {},
     "output_type": "display_data"
    },
    {
     "data": {
      "application/vnd.jupyter.widget-view+json": {
       "model_id": "886132be8e30471db66c6d6a0a9425d8",
       "version_major": 2,
       "version_minor": 0
      },
      "text/plain": [
       "  0%|          | 0/5 [00:00<?, ?it/s]"
      ]
     },
     "metadata": {},
     "output_type": "display_data"
    },
    {
     "data": {
      "application/vnd.jupyter.widget-view+json": {
       "model_id": "3af704feb4624194af3eccb47c24a19c",
       "version_major": 2,
       "version_minor": 0
      },
      "text/plain": [
       "  0%|          | 0/38 [00:00<?, ?it/s]"
      ]
     },
     "metadata": {},
     "output_type": "display_data"
    },
    {
     "data": {
      "application/vnd.jupyter.widget-view+json": {
       "model_id": "b7553dd3e5204f59983fa1810f206a06",
       "version_major": 2,
       "version_minor": 0
      },
      "text/plain": [
       "  0%|          | 0/5 [00:00<?, ?it/s]"
      ]
     },
     "metadata": {},
     "output_type": "display_data"
    },
    {
     "data": {
      "application/vnd.jupyter.widget-view+json": {
       "model_id": "215ac39911b44b65930ce536cc76d422",
       "version_major": 2,
       "version_minor": 0
      },
      "text/plain": [
       "  0%|          | 0/38 [00:00<?, ?it/s]"
      ]
     },
     "metadata": {},
     "output_type": "display_data"
    },
    {
     "data": {
      "application/vnd.jupyter.widget-view+json": {
       "model_id": "30ba7ad377df406f83ad08abe7612e7b",
       "version_major": 2,
       "version_minor": 0
      },
      "text/plain": [
       "  0%|          | 0/5 [00:00<?, ?it/s]"
      ]
     },
     "metadata": {},
     "output_type": "display_data"
    },
    {
     "data": {
      "application/vnd.jupyter.widget-view+json": {
       "model_id": "9da4636dead94102a7b1bbbd56dbad35",
       "version_major": 2,
       "version_minor": 0
      },
      "text/plain": [
       "  0%|          | 0/38 [00:00<?, ?it/s]"
      ]
     },
     "metadata": {},
     "output_type": "display_data"
    },
    {
     "data": {
      "application/vnd.jupyter.widget-view+json": {
       "model_id": "1f066f0fa61b4b3994797a51aeaf74c4",
       "version_major": 2,
       "version_minor": 0
      },
      "text/plain": [
       "  0%|          | 0/5 [00:00<?, ?it/s]"
      ]
     },
     "metadata": {},
     "output_type": "display_data"
    },
    {
     "name": "stdout",
     "output_type": "stream",
     "text": [
      "new best model\n"
     ]
    },
    {
     "data": {
      "application/vnd.jupyter.widget-view+json": {
       "model_id": "0ddd6e66641540ab8c2061c2f36c7df8",
       "version_major": 2,
       "version_minor": 0
      },
      "text/plain": [
       "  0%|          | 0/38 [00:00<?, ?it/s]"
      ]
     },
     "metadata": {},
     "output_type": "display_data"
    },
    {
     "data": {
      "application/vnd.jupyter.widget-view+json": {
       "model_id": "7456573af6204eb4bcc429de47b00976",
       "version_major": 2,
       "version_minor": 0
      },
      "text/plain": [
       "  0%|          | 0/5 [00:00<?, ?it/s]"
      ]
     },
     "metadata": {},
     "output_type": "display_data"
    },
    {
     "data": {
      "application/vnd.jupyter.widget-view+json": {
       "model_id": "5fe3b0088425431697d05546759374ad",
       "version_major": 2,
       "version_minor": 0
      },
      "text/plain": [
       "  0%|          | 0/38 [00:00<?, ?it/s]"
      ]
     },
     "metadata": {},
     "output_type": "display_data"
    },
    {
     "data": {
      "application/vnd.jupyter.widget-view+json": {
       "model_id": "4f907ffa03964fbabcc193c77a45d43b",
       "version_major": 2,
       "version_minor": 0
      },
      "text/plain": [
       "  0%|          | 0/5 [00:00<?, ?it/s]"
      ]
     },
     "metadata": {},
     "output_type": "display_data"
    },
    {
     "name": "stdout",
     "output_type": "stream",
     "text": [
      "new best model\n"
     ]
    },
    {
     "data": {
      "application/vnd.jupyter.widget-view+json": {
       "model_id": "34c2cd9842834f5eadb6a9129de9c534",
       "version_major": 2,
       "version_minor": 0
      },
      "text/plain": [
       "  0%|          | 0/38 [00:00<?, ?it/s]"
      ]
     },
     "metadata": {},
     "output_type": "display_data"
    },
    {
     "data": {
      "application/vnd.jupyter.widget-view+json": {
       "model_id": "1fcf92f07ae94acf9212114c715a4316",
       "version_major": 2,
       "version_minor": 0
      },
      "text/plain": [
       "  0%|          | 0/5 [00:00<?, ?it/s]"
      ]
     },
     "metadata": {},
     "output_type": "display_data"
    },
    {
     "data": {
      "application/vnd.jupyter.widget-view+json": {
       "model_id": "7debaffe2eab485896c14c884cbcab29",
       "version_major": 2,
       "version_minor": 0
      },
      "text/plain": [
       "  0%|          | 0/38 [00:00<?, ?it/s]"
      ]
     },
     "metadata": {},
     "output_type": "display_data"
    },
    {
     "data": {
      "application/vnd.jupyter.widget-view+json": {
       "model_id": "eda86d4aaa8243ccad5935c1982d9de6",
       "version_major": 2,
       "version_minor": 0
      },
      "text/plain": [
       "  0%|          | 0/5 [00:00<?, ?it/s]"
      ]
     },
     "metadata": {},
     "output_type": "display_data"
    },
    {
     "data": {
      "application/vnd.jupyter.widget-view+json": {
       "model_id": "2f475d57fad645ba89b1e41e0fda21ab",
       "version_major": 2,
       "version_minor": 0
      },
      "text/plain": [
       "  0%|          | 0/38 [00:00<?, ?it/s]"
      ]
     },
     "metadata": {},
     "output_type": "display_data"
    },
    {
     "data": {
      "application/vnd.jupyter.widget-view+json": {
       "model_id": "06b9e89ffe73424fa7d9ac8914bc9511",
       "version_major": 2,
       "version_minor": 0
      },
      "text/plain": [
       "  0%|          | 0/5 [00:00<?, ?it/s]"
      ]
     },
     "metadata": {},
     "output_type": "display_data"
    },
    {
     "name": "stdout",
     "output_type": "stream",
     "text": [
      "new best model\n"
     ]
    },
    {
     "data": {
      "application/vnd.jupyter.widget-view+json": {
       "model_id": "0abb3ce0a8ce4314ba701c4bc05d87c6",
       "version_major": 2,
       "version_minor": 0
      },
      "text/plain": [
       "  0%|          | 0/38 [00:00<?, ?it/s]"
      ]
     },
     "metadata": {},
     "output_type": "display_data"
    },
    {
     "data": {
      "application/vnd.jupyter.widget-view+json": {
       "model_id": "adfcbf38c4e24906be0d7402337792d7",
       "version_major": 2,
       "version_minor": 0
      },
      "text/plain": [
       "  0%|          | 0/5 [00:00<?, ?it/s]"
      ]
     },
     "metadata": {},
     "output_type": "display_data"
    },
    {
     "data": {
      "application/vnd.jupyter.widget-view+json": {
       "model_id": "70f76aab4d984d60bb8358bff8a85de5",
       "version_major": 2,
       "version_minor": 0
      },
      "text/plain": [
       "  0%|          | 0/38 [00:00<?, ?it/s]"
      ]
     },
     "metadata": {},
     "output_type": "display_data"
    },
    {
     "data": {
      "application/vnd.jupyter.widget-view+json": {
       "model_id": "8208111b0b7c44c0a695bd3210df4348",
       "version_major": 2,
       "version_minor": 0
      },
      "text/plain": [
       "  0%|          | 0/5 [00:00<?, ?it/s]"
      ]
     },
     "metadata": {},
     "output_type": "display_data"
    },
    {
     "data": {
      "application/vnd.jupyter.widget-view+json": {
       "model_id": "54ff51aaacbe4e05aed376b3ce20bafd",
       "version_major": 2,
       "version_minor": 0
      },
      "text/plain": [
       "  0%|          | 0/38 [00:00<?, ?it/s]"
      ]
     },
     "metadata": {},
     "output_type": "display_data"
    },
    {
     "data": {
      "application/vnd.jupyter.widget-view+json": {
       "model_id": "58bf4cd23a0f4f7181be42731f8283cb",
       "version_major": 2,
       "version_minor": 0
      },
      "text/plain": [
       "  0%|          | 0/5 [00:00<?, ?it/s]"
      ]
     },
     "metadata": {},
     "output_type": "display_data"
    },
    {
     "data": {
      "application/vnd.jupyter.widget-view+json": {
       "model_id": "31563e1979504f0594ff91abfb4de5c7",
       "version_major": 2,
       "version_minor": 0
      },
      "text/plain": [
       "  0%|          | 0/38 [00:00<?, ?it/s]"
      ]
     },
     "metadata": {},
     "output_type": "display_data"
    },
    {
     "data": {
      "application/vnd.jupyter.widget-view+json": {
       "model_id": "fbd0ef3c442447e0afa187e88e5228fc",
       "version_major": 2,
       "version_minor": 0
      },
      "text/plain": [
       "  0%|          | 0/5 [00:00<?, ?it/s]"
      ]
     },
     "metadata": {},
     "output_type": "display_data"
    },
    {
     "name": "stdout",
     "output_type": "stream",
     "text": [
      "new best model\n"
     ]
    },
    {
     "data": {
      "application/vnd.jupyter.widget-view+json": {
       "model_id": "22ffd85a1a3f4844b087c56b2cfe4158",
       "version_major": 2,
       "version_minor": 0
      },
      "text/plain": [
       "  0%|          | 0/38 [00:00<?, ?it/s]"
      ]
     },
     "metadata": {},
     "output_type": "display_data"
    },
    {
     "data": {
      "application/vnd.jupyter.widget-view+json": {
       "model_id": "7b3accf2cd6f4fb29c548ceab8fac92d",
       "version_major": 2,
       "version_minor": 0
      },
      "text/plain": [
       "  0%|          | 0/5 [00:00<?, ?it/s]"
      ]
     },
     "metadata": {},
     "output_type": "display_data"
    },
    {
     "name": "stdout",
     "output_type": "stream",
     "text": [
      "new best model\n"
     ]
    },
    {
     "data": {
      "application/vnd.jupyter.widget-view+json": {
       "model_id": "c1e408df38124c2594a26984b8ff9dbe",
       "version_major": 2,
       "version_minor": 0
      },
      "text/plain": [
       "  0%|          | 0/38 [00:00<?, ?it/s]"
      ]
     },
     "metadata": {},
     "output_type": "display_data"
    },
    {
     "data": {
      "application/vnd.jupyter.widget-view+json": {
       "model_id": "450cda630474428c9f14ca490ef775ae",
       "version_major": 2,
       "version_minor": 0
      },
      "text/plain": [
       "  0%|          | 0/5 [00:00<?, ?it/s]"
      ]
     },
     "metadata": {},
     "output_type": "display_data"
    },
    {
     "data": {
      "application/vnd.jupyter.widget-view+json": {
       "model_id": "32b72a4d93564c2391ae47e40808b793",
       "version_major": 2,
       "version_minor": 0
      },
      "text/plain": [
       "  0%|          | 0/38 [00:00<?, ?it/s]"
      ]
     },
     "metadata": {},
     "output_type": "display_data"
    },
    {
     "data": {
      "application/vnd.jupyter.widget-view+json": {
       "model_id": "46a6c9b7aeb947848b262d513abd02cd",
       "version_major": 2,
       "version_minor": 0
      },
      "text/plain": [
       "  0%|          | 0/5 [00:00<?, ?it/s]"
      ]
     },
     "metadata": {},
     "output_type": "display_data"
    },
    {
     "data": {
      "application/vnd.jupyter.widget-view+json": {
       "model_id": "6a83700f5f79467f8a1e8fd67e1aff05",
       "version_major": 2,
       "version_minor": 0
      },
      "text/plain": [
       "  0%|          | 0/38 [00:00<?, ?it/s]"
      ]
     },
     "metadata": {},
     "output_type": "display_data"
    },
    {
     "data": {
      "application/vnd.jupyter.widget-view+json": {
       "model_id": "1a185dc586ac4ac6b5e13e441254f3e1",
       "version_major": 2,
       "version_minor": 0
      },
      "text/plain": [
       "  0%|          | 0/5 [00:00<?, ?it/s]"
      ]
     },
     "metadata": {},
     "output_type": "display_data"
    },
    {
     "name": "stdout",
     "output_type": "stream",
     "text": [
      "new best model\n"
     ]
    },
    {
     "data": {
      "application/vnd.jupyter.widget-view+json": {
       "model_id": "700e63373074463284a3e390f9e23994",
       "version_major": 2,
       "version_minor": 0
      },
      "text/plain": [
       "  0%|          | 0/38 [00:00<?, ?it/s]"
      ]
     },
     "metadata": {},
     "output_type": "display_data"
    },
    {
     "data": {
      "application/vnd.jupyter.widget-view+json": {
       "model_id": "b0de89b9575749f98987636c119cf139",
       "version_major": 2,
       "version_minor": 0
      },
      "text/plain": [
       "  0%|          | 0/5 [00:00<?, ?it/s]"
      ]
     },
     "metadata": {},
     "output_type": "display_data"
    },
    {
     "name": "stdout",
     "output_type": "stream",
     "text": [
      "new best model\n"
     ]
    },
    {
     "data": {
      "application/vnd.jupyter.widget-view+json": {
       "model_id": "2b43d70e9e73446b91b8f8439df36563",
       "version_major": 2,
       "version_minor": 0
      },
      "text/plain": [
       "  0%|          | 0/38 [00:00<?, ?it/s]"
      ]
     },
     "metadata": {},
     "output_type": "display_data"
    },
    {
     "data": {
      "application/vnd.jupyter.widget-view+json": {
       "model_id": "6144136708574278b68194a6fda37598",
       "version_major": 2,
       "version_minor": 0
      },
      "text/plain": [
       "  0%|          | 0/5 [00:00<?, ?it/s]"
      ]
     },
     "metadata": {},
     "output_type": "display_data"
    },
    {
     "data": {
      "application/vnd.jupyter.widget-view+json": {
       "model_id": "16b2ef35a2c7413699675611e90d1c0c",
       "version_major": 2,
       "version_minor": 0
      },
      "text/plain": [
       "  0%|          | 0/38 [00:00<?, ?it/s]"
      ]
     },
     "metadata": {},
     "output_type": "display_data"
    },
    {
     "data": {
      "application/vnd.jupyter.widget-view+json": {
       "model_id": "a5c4d5ea487f4c5e9c29e9e1b9c64cc4",
       "version_major": 2,
       "version_minor": 0
      },
      "text/plain": [
       "  0%|          | 0/5 [00:00<?, ?it/s]"
      ]
     },
     "metadata": {},
     "output_type": "display_data"
    },
    {
     "data": {
      "application/vnd.jupyter.widget-view+json": {
       "model_id": "65c980f16eab4117903b4f9300925303",
       "version_major": 2,
       "version_minor": 0
      },
      "text/plain": [
       "  0%|          | 0/38 [00:00<?, ?it/s]"
      ]
     },
     "metadata": {},
     "output_type": "display_data"
    },
    {
     "data": {
      "application/vnd.jupyter.widget-view+json": {
       "model_id": "f8f631bde9194c5b99ccb31edfb1b41c",
       "version_major": 2,
       "version_minor": 0
      },
      "text/plain": [
       "  0%|          | 0/5 [00:00<?, ?it/s]"
      ]
     },
     "metadata": {},
     "output_type": "display_data"
    },
    {
     "data": {
      "application/vnd.jupyter.widget-view+json": {
       "model_id": "a6b2bed17ace454caee3c5e879c4f943",
       "version_major": 2,
       "version_minor": 0
      },
      "text/plain": [
       "  0%|          | 0/38 [00:00<?, ?it/s]"
      ]
     },
     "metadata": {},
     "output_type": "display_data"
    },
    {
     "data": {
      "application/vnd.jupyter.widget-view+json": {
       "model_id": "ce3492160f1148f9874184cc361c103d",
       "version_major": 2,
       "version_minor": 0
      },
      "text/plain": [
       "  0%|          | 0/5 [00:00<?, ?it/s]"
      ]
     },
     "metadata": {},
     "output_type": "display_data"
    },
    {
     "name": "stdout",
     "output_type": "stream",
     "text": [
      "new best model\n"
     ]
    },
    {
     "data": {
      "text/plain": [
       "<All keys matched successfully>"
      ]
     },
     "execution_count": 7,
     "metadata": {},
     "output_type": "execute_result"
    }
   ],
   "source": [
    "train_loader = DataLoader(\n",
    "    train_dataset,\n",
    "    batch_size=params[\"batch_size\"],\n",
    "    shuffle=True,\n",
    "    num_workers=params[\"num_workers\"],\n",
    "    pin_memory=False,\n",
    ")\n",
    "\n",
    "val_loader = DataLoader(\n",
    "    val_dataset,\n",
    "    batch_size=params[\"batch_size\"],\n",
    "    shuffle=True,\n",
    "    num_workers=params[\"num_workers\"],\n",
    "    pin_memory=False,\n",
    ")\n",
    "\n",
    "\n",
    "criterion = nn.BCEWithLogitsLoss()\n",
    "optimizer = torch.optim.Adam(model.parameters(), lr=params[\"lr\"])\n",
    "scheduler = PolynomialLRDecay(optimizer, max_decay_steps=params[\"epochs\"], end_learning_rate=0.0001, power=0.9)\n",
    "\n",
    "best_loss = sys.float_info.max\n",
    "model_ckpt = copy.deepcopy(model.state_dict())\n",
    "for epoch in range(1, params[\"epochs\"]+1):\n",
    "    train(train_loader, model, criterion, optimizer, scheduler, epoch, params)\n",
    "    epoch_loss = validate(val_loader, model, criterion, epoch, params)\n",
    "    #select the best model based on the loss on the validation set\n",
    "    if epoch_loss < best_loss:\n",
    "      best_loss = epoch_loss\n",
    "      model_ckpt = copy.deepcopy(model.state_dict())\n",
    "      print(\"new best model\")\n",
    "    \n",
    "    \n",
    "model.load_state_dict(model_ckpt)       \n"
   ]
  },
  {
   "cell_type": "code",
   "execution_count": 8,
   "metadata": {},
   "outputs": [
    {
     "name": "stdout",
     "output_type": "stream",
     "text": [
      " the best loss achieved on the validation set is 0.30911391228437424\n"
     ]
    }
   ],
   "source": [
    "print(f\" the best loss achieved on the validation set is {best_loss}\")"
   ]
  },
  {
   "cell_type": "markdown",
   "metadata": {
    "id": "JLKe5BfuYSAx"
   },
   "source": [
    "# Model evaluation on test set\n"
   ]
  },
  {
   "cell_type": "code",
   "execution_count": 9,
   "metadata": {},
   "outputs": [],
   "source": [
    "def predict(model, params, test_dataset):\n",
    "    test_loader = DataLoader(\n",
    "        test_dataset, batch_size=params[\"batch_size\"], shuffle=False, num_workers=params[\"num_workers\"], pin_memory=True,\n",
    "    )\n",
    "    model.eval()\n",
    "    predictions = []\n",
    "    with torch.no_grad():\n",
    "        for images, masks, (original_heights, original_widths) in test_loader:\n",
    "            images = images.to(params[\"device\"], non_blocking=True)\n",
    "            output = model(images)\n",
    "            probabilities = torch.sigmoid(output.squeeze(1))\n",
    "            predicted_masks = (probabilities >= 0.5).float() * 1\n",
    "            predicted_masks = predicted_masks.cpu().numpy()\n",
    "            for predicted_mask, gt, original_height, original_width in zip(\n",
    "                predicted_masks, masks.numpy(), original_heights.numpy(), original_widths.numpy()\n",
    "            ):\n",
    "                predictions.append((predicted_mask, gt, original_height, original_width))\n",
    "    return predictions"
   ]
  },
  {
   "cell_type": "code",
   "execution_count": 10,
   "metadata": {},
   "outputs": [
    {
     "name": "stdout",
     "output_type": "stream",
     "text": [
      "The Intersection over Union score is : 0.9651\n",
      "The Dice Coefficient is : 0.9822\n"
     ]
    }
   ],
   "source": [
    "predictions = predict(model, params, test_dataset)\n",
    "\n",
    "evaluator = Evaluate(predictions)\n",
    "iou, dice = evaluator.get_metrics().values()\n",
    "print(f\"The Intersection over Union score is : {iou:.4f}\")\n",
    "print(f\"The Dice Coefficient is : {dice:.4f}\")"
   ]
  },
  {
   "cell_type": "markdown",
   "metadata": {},
   "source": [
    "## Visualize some of the predictions alongside the ground truth masks"
   ]
  },
  {
   "cell_type": "code",
   "execution_count": 11,
   "metadata": {},
   "outputs": [],
   "source": [
    "predicted_masks = []\n",
    "gt_masks = []\n",
    "for predicted_256x256_mask, ground_truth, original_height, original_width in predictions:\n",
    "    full_sized_mask = A.resize(\n",
    "        predicted_256x256_mask, height=original_height, width=original_width, interpolation=cv2.INTER_NEAREST\n",
    "    )\n",
    "    full_sized_gt = A.resize(\n",
    "        ground_truth, height=original_height, width=original_width, interpolation=cv2.INTER_NEAREST\n",
    "    )\n",
    "    predicted_masks.append(full_sized_mask)\n",
    "    gt_masks.append(full_sized_gt)\n"
   ]
  },
  {
   "cell_type": "code",
   "execution_count": 12,
   "metadata": {},
   "outputs": [
    {
     "data": {
      "image/png": "[encoded data removed]",
      "text/plain": [
       "<Figure size 864x720 with 12 Axes>"
      ]
     },
     "metadata": {
      "needs_background": "light"
     },
     "output_type": "display_data"
    }
   ],
   "source": [
    "cols = 3 \n",
    "rows = 4\n",
    "figure, ax = plt.subplots(nrows=rows, ncols=cols, figsize=(12, 10))\n",
    "for i, image_filename in enumerate(test_images_filenames[:rows]):\n",
    "    image = cv2.imread(os.path.join(test_images_directory, image_filename))\n",
    "    image = cv2.cvtColor(image, cv2.COLOR_BGR2RGB)\n",
    "\n",
    "    mask = gt_masks[i]\n",
    "    ax[i, 0].imshow(image)\n",
    "    ax[i, 1].imshow(mask, interpolation=\"nearest\")\n",
    "\n",
    "    ax[i, 0].set_title(\"Image\")\n",
    "    ax[i, 1].set_title(\"Ground truth mask\")\n",
    "\n",
    "    ax[i, 0].set_axis_off()\n",
    "    ax[i, 1].set_axis_off()\n",
    "\n",
    "    predicted_mask = predicted_masks[i]\n",
    "    ax[i, 2].imshow(predicted_mask, interpolation=\"nearest\")\n",
    "    ax[i, 2].set_title(\"Predicted mask\")\n",
    "    ax[i, 2].set_axis_off()\n",
    "plt.tight_layout()\n",
    "plt.show()"
   ]
  },
  {
   "cell_type": "markdown",
   "metadata": {
    "id": "D-T0K5ypbTsb",
    "tags": []
   },
   "source": [
    "## Export the model as torch state dict and ONNX graph"
   ]
  },
  {
   "cell_type": "code",
   "execution_count": null,
   "metadata": {
    "id": "d4gyJp7NfGXS"
   },
   "outputs": [],
   "source": [
    "#select the name that the model will be saved with\n",
    "model_name = \"small400e\"\n",
    "model_path = os.path.join(c_dir, \"model_checkpoints\", model_name)\n",
    "print(model_path)"
   ]
  },
  {
   "cell_type": "markdown",
   "metadata": {
    "id": "SL7COJLIcm3p"
   },
   "source": [
    "Save the model as torch state dict, when doing inference the paramenters in the state dict will be used to load the model to this state"
   ]
  },
  {
   "cell_type": "code",
   "execution_count": null,
   "metadata": {
    "id": "k4o-EvRTcg_E"
   },
   "outputs": [],
   "source": [
    "torch.save(model.state_dict(), model_path+\".pt\")"
   ]
  },
  {
   "cell_type": "markdown",
   "metadata": {
    "id": "QkdEKRP7c2ld"
   },
   "source": [
    "Export the model in onnx format and then check for errors with the built in onnx check_model function.\n",
    "\n",
    "In order to export the model a dummy input needs to be given as input"
   ]
  },
  {
   "cell_type": "code",
   "execution_count": null,
   "metadata": {
    "id": "amvNyP8sbcUo"
   },
   "outputs": [],
   "source": [
    "#put the model in inference mode\n",
    "model.eval()\n",
    "#generate dummy input for onnx export\n",
    "x = torch.randn(1, 3, 512, 512, requires_grad=True).cuda()\n",
    "torch_out = model(x)\n",
    "\n",
    "# Export the model\n",
    "torch.onnx.export(model,                     # model being run\n",
    "                  x,                         # model input (or a tuple for multiple inputs)\n",
    "                  model_path+\".onnx\",       # where to save the model (can be a file or file-like object)\n",
    "                  export_params=True,        # store the trained parameter weights inside the model file\n",
    "                  opset_version=11,          # the ONNX version to export the model to\n",
    "                  do_constant_folding=True,  # whether to execute constant folding for optimization\n",
    "                  input_names = ['input'],   # the model's input names\n",
    "                  output_names = ['output'], # the model's output names\n",
    "                  operator_export_type=torch.onnx.OperatorExportTypes.ONNX_ATEN_FALLBACK,\n",
    "                  dynamic_axes={'input' : {0 : 'batch_size'},    # variable length axes\n",
    "                                'output' : {0 : 'batch_size'}})"
   ]
  }
 ],
 "metadata": {
  "accelerator": "GPU",
  "colab": {
   "authorship_tag": "ABX9TyOUbNM9vv8a2lLIS9oTCmUR",
   "collapsed_sections": [],
   "include_colab_link": true,
   "name": "training.ipynb",
   "provenance": []
  },
  "kernelspec": {
   "display_name": "Python 3",
   "language": "python",
   "name": "python3"
  },
  "language_info": {
   "codemirror_mode": {
    "name": "ipython",
    "version": 3
   },
   "file_extension": ".py",
   "mimetype": "text/x-python",
   "name": "python",
   "nbconvert_exporter": "python",
   "pygments_lexer": "ipython3",
   "version": "3.9.12"
  },
  "widgets": {
   "application/vnd.jupyter.widget-state+json": {
    "state": {
     "0084b626e8e643be9876f00573f7a962": {
      "model_module": "@jupyter-widgets/base",
      "model_module_version": "1.2.0",
      "model_name": "LayoutModel",
      "state": {}
     },
     "014b57c3574d4eb6b218cf829a5afd5d": {
      "model_module": "@jupyter-widgets/controls",
      "model_module_version": "1.5.0",
      "model_name": "ProgressStyleModel",
      "state": {
       "description_width": ""
      }
     },
     "01ed677d861346a48cba35d16a454a28": {
      "model_module": "@jupyter-widgets/controls",
      "model_module_version": "1.5.0",
      "model_name": "HTMLModel",
      "state": {
       "layout": "IPY_MODEL_97c4931a0be24b3b8c5266f42507b567",
       "style": "IPY_MODEL_5f8dceea1f0b430e98e6a103af470eee",
       "value": " 5/5 [00:00&lt;00:00, 15.40it/s]"
      }
     },
     "020ee552a93e425d972c6a003ead4dd2": {
      "model_module": "@jupyter-widgets/base",
      "model_module_version": "1.2.0",
      "model_name": "LayoutModel",
      "state": {}
     },
     "02389f9d723e4925a0663c91cac4f481": {
      "model_module": "@jupyter-widgets/base",
      "model_module_version": "1.2.0",
      "model_name": "LayoutModel",
      "state": {}
     },
     "023e4e56d5d84d029aeb3ea06467ddce": {
      "model_module": "@jupyter-widgets/controls",
      "model_module_version": "1.5.0",
      "model_name": "ProgressStyleModel",
      "state": {
       "description_width": ""
      }
     },
     "024722c5ecb54c59816f3c7537c39c08": {
      "model_module": "@jupyter-widgets/controls",
      "model_module_version": "1.5.0",
      "model_name": "DescriptionStyleModel",
      "state": {
       "description_width": ""
      }
     },
     "0364bb39b5ac442d851a8b596921bf48": {
      "model_module": "@jupyter-widgets/controls",
      "model_module_version": "1.5.0",
      "model_name": "FloatProgressModel",
      "state": {
       "bar_style": "success",
       "layout": "IPY_MODEL_30bd83127e144c8792a1dba1183eb876",
       "max": 5,
       "style": "IPY_MODEL_ee1a61791cbf4229b152ddebccef97fe",
       "value": 5
      }
     },
     "0364c952941544c4930b3c160d79cc25": {
      "model_module": "@jupyter-widgets/base",
      "model_module_version": "1.2.0",
      "model_name": "LayoutModel",
      "state": {}
     },
     "038215cfb7274ecbb22a834a68b7fe2b": {
      "model_module": "@jupyter-widgets/controls",
      "model_module_version": "1.5.0",
      "model_name": "ProgressStyleModel",
      "state": {
       "description_width": ""
      }
     },
     "03a63d99cb2245c8a96a690f09371ca8": {
      "model_module": "@jupyter-widgets/controls",
      "model_module_version": "1.5.0",
      "model_name": "HTMLModel",
      "state": {
       "layout": "IPY_MODEL_9fab015dbbd24fd6907f9ef84223ba1b",
       "style": "IPY_MODEL_c843d9abb0a64927821face222c109ce",
       "value": " 38/38 [00:01&lt;00:00, 26.69it/s]"
      }
     },
     "03bde15f5f42460e87125cd55ffecd83": {
      "model_module": "@jupyter-widgets/controls",
      "model_module_version": "1.5.0",
      "model_name": "FloatProgressModel",
      "state": {
       "bar_style": "success",
       "layout": "IPY_MODEL_e4b5090dc493488e9720c5ffe20cc4a2",
       "max": 38,
       "style": "IPY_MODEL_1c8fe728558d4594817d5e8424c2a9dc",
       "value": 38
      }
     },
     "03ed26b11e024b39bc52a080279f7110": {
      "model_module": "@jupyter-widgets/base",
      "model_module_version": "1.2.0",
      "model_name": "LayoutModel",
      "state": {}
     },
     "040ed9831d9d49c9ba731ad75d649e02": {
      "model_module": "@jupyter-widgets/controls",
      "model_module_version": "1.5.0",
      "model_name": "DescriptionStyleModel",
      "state": {
       "description_width": ""
      }
     },
     "0452962d065f4d4996696f6ea0e26a84": {
      "model_module": "@jupyter-widgets/controls",
      "model_module_version": "1.5.0",
      "model_name": "DescriptionStyleModel",
      "state": {
       "description_width": ""
      }
     },
     "045a101038234ba88876cd476583ac1a": {
      "model_module": "@jupyter-widgets/controls",
      "model_module_version": "1.5.0",
      "model_name": "ProgressStyleModel",
      "state": {
       "description_width": ""
      }
     },
     "0496f3f42bd44b3baf7c01dd55011ed1": {
      "model_module": "@jupyter-widgets/base",
      "model_module_version": "1.2.0",
      "model_name": "LayoutModel",
      "state": {}
     },
     "04bee713aff745ec8dccb59e02fc34a2": {
      "model_module": "@jupyter-widgets/controls",
      "model_module_version": "1.5.0",
      "model_name": "HTMLModel",
      "state": {
       "layout": "IPY_MODEL_d544a5bc3c83424d976bf0b94942f5bb",
       "style": "IPY_MODEL_1b1fc7fe74ac447b83b64a64d59e8bf3",
       "value": "Epoch: 6. Train.    8.57645: 100%"
      }
     },
     "04e6d31c72614b2b9a0187dca2a2a9e9": {
      "model_module": "@jupyter-widgets/base",
      "model_module_version": "1.2.0",
      "model_name": "LayoutModel",
      "state": {}
     },
     "057f7adeef47478da9a351762ebf82ca": {
      "model_module": "@jupyter-widgets/base",
      "model_module_version": "1.2.0",
      "model_name": "LayoutModel",
      "state": {}
     },
     "059be177711e4959a5ec0a8ff06ae3c6": {
      "model_module": "@jupyter-widgets/controls",
      "model_module_version": "1.5.0",
      "model_name": "DescriptionStyleModel",
      "state": {
       "description_width": ""
      }
     },
     "068aabac68e24e4bbbbcc5a4613ee178": {
      "model_module": "@jupyter-widgets/controls",
      "model_module_version": "1.5.0",
      "model_name": "DescriptionStyleModel",
      "state": {
       "description_width": ""
      }
     },
     "0693c1fc8bb14869ae8f3d576440f0db": {
      "model_module": "@jupyter-widgets/controls",
      "model_module_version": "1.5.0",
      "model_name": "DescriptionStyleModel",
      "state": {
       "description_width": ""
      }
     },
     "0695661e08824a198a41dc52bb484b2b": {
      "model_module": "@jupyter-widgets/base",
      "model_module_version": "1.2.0",
      "model_name": "LayoutModel",
      "state": {}
     },
     "06b5b6c555ad4a249476fb854296125a": {
      "model_module": "@jupyter-widgets/controls",
      "model_module_version": "1.5.0",
      "model_name": "HTMLModel",
      "state": {
       "layout": "IPY_MODEL_d6dcbb225d314e53a9779c4a23a352ca",
       "style": "IPY_MODEL_2588945b26a9438092620f6579b055be",
       "value": " 5/5 [00:00&lt;00:00, 15.99it/s]"
      }
     },
     "06b9e89ffe73424fa7d9ac8914bc9511": {
      "model_module": "@jupyter-widgets/controls",
      "model_module_version": "1.5.0",
      "model_name": "HBoxModel",
      "state": {
       "children": [
        "IPY_MODEL_ed4005860f4d4c16be39bd57bbf754e6",
        "IPY_MODEL_8d1a4afd54ed4c3ea1f3957b4c54faa5",
        "IPY_MODEL_f234d2260e124a4381ded120ab6e2bfd"
       ],
       "layout": "IPY_MODEL_e783f4a5b80f489d81e61719430f4df0"
      }
     },
     "0776ebf3acf041a59761d71868a050b3": {
      "model_module": "@jupyter-widgets/controls",
      "model_module_version": "1.5.0",
      "model_name": "DescriptionStyleModel",
      "state": {
       "description_width": ""
      }
     },
     "07d4af38af984dd59a4b67ab429d601d": {
      "model_module": "@jupyter-widgets/controls",
      "model_module_version": "1.5.0",
      "model_name": "HBoxModel",
      "state": {
       "children": [
        "IPY_MODEL_392691ca0ff14b7f8b87c211057629bc",
        "IPY_MODEL_773f17d5b6af48cfad9ff9a5d999e197",
        "IPY_MODEL_3fdc2e2c5f274f3b8d23f5050bfb8250"
       ],
       "layout": "IPY_MODEL_3b1df040131f4523b9cdb34c9dfda787"
      }
     },
     "07e2cdcf4aad4b9fbf7d445c61962243": {
      "model_module": "@jupyter-widgets/controls",
      "model_module_version": "1.5.0",
      "model_name": "FloatProgressModel",
      "state": {
       "bar_style": "success",
       "layout": "IPY_MODEL_ba3a37554677477c82cbc0dcf1a24c17",
       "max": 38,
       "style": "IPY_MODEL_915d47fe43ca49b59f787eb5c987ed37",
       "value": 38
      }
     },
     "080588838c944aff9bf1839541b66267": {
      "model_module": "@jupyter-widgets/controls",
      "model_module_version": "1.5.0",
      "model_name": "HTMLModel",
      "state": {
       "layout": "IPY_MODEL_a57a5ac9714f4be38b53110443fcd6a6",
       "style": "IPY_MODEL_d836b12c2c044388aa74355e5698dcaf",
       "value": "Epoch: 39. Train.    3.12638: 100%"
      }
     },
     "080d726b57b44365bd1b73d6cf6c6bef": {
      "model_module": "@jupyter-widgets/base",
      "model_module_version": "1.2.0",
      "model_name": "LayoutModel",
      "state": {}
     },
     "09de6fb36c984becad314c41375c553a": {
      "model_module": "@jupyter-widgets/controls",
      "model_module_version": "1.5.0",
      "model_name": "DescriptionStyleModel",
      "state": {
       "description_width": ""
      }
     },
     "0abb3ce0a8ce4314ba701c4bc05d87c6": {
      "model_module": "@jupyter-widgets/controls",
      "model_module_version": "1.5.0",
      "model_name": "HBoxModel",
      "state": {
       "children": [
        "IPY_MODEL_4d1e535da4234b9b80353cb312017791",
        "IPY_MODEL_4a9ccc6152ee48cdac822be5ec03806a",
        "IPY_MODEL_3106c85b55854d0381468f5a132ea0a3"
       ],
       "layout": "IPY_MODEL_5d1edbb609ed4fc8b1ac86ffc6346e3a"
      }
     },
     "0acdd8e553e147c58c61a5fa7453a899": {
      "model_module": "@jupyter-widgets/controls",
      "model_module_version": "1.5.0",
      "model_name": "DescriptionStyleModel",
      "state": {
       "description_width": ""
      }
     },
     "0af9b94bf9fc48c1a72a980dba22e36a": {
      "model_module": "@jupyter-widgets/base",
      "model_module_version": "1.2.0",
      "model_name": "LayoutModel",
      "state": {}
     },
     "0affeaea91564e2daccafc042c8c20dd": {
      "model_module": "@jupyter-widgets/controls",
      "model_module_version": "1.5.0",
      "model_name": "FloatProgressModel",
      "state": {
       "bar_style": "success",
       "layout": "IPY_MODEL_bdc98c0910544ef985bc1caa02fbff61",
       "max": 5,
       "style": "IPY_MODEL_045a101038234ba88876cd476583ac1a",
       "value": 5
      }
     },
     "0b153b096554494c816068623d6b8842": {
      "model_module": "@jupyter-widgets/controls",
      "model_module_version": "1.5.0",
      "model_name": "HTMLModel",
      "state": {
       "layout": "IPY_MODEL_53244fb559414df8b3587649c474f3d9",
       "style": "IPY_MODEL_26b2c817ba0d4064a100fd0f61d8df01",
       "value": " 38/38 [00:01&lt;00:00, 27.48it/s]"
      }
     },
     "0b189ded10cc49b58dc08b377cbd4bb6": {
      "model_module": "@jupyter-widgets/base",
      "model_module_version": "1.2.0",
      "model_name": "LayoutModel",
      "state": {}
     },
     "0b31fb6ed02b4a9291b63de778a81355": {
      "model_module": "@jupyter-widgets/base",
      "model_module_version": "1.2.0",
      "model_name": "LayoutModel",
      "state": {}
     },
     "0b32e60ee1ee4867ae401e8804cb741b": {
      "model_module": "@jupyter-widgets/controls",
      "model_module_version": "1.5.0",
      "model_name": "FloatProgressModel",
      "state": {
       "bar_style": "success",
       "layout": "IPY_MODEL_ddb4f2abdc4c44da8f7c63ea416ccf17",
       "max": 38,
       "style": "IPY_MODEL_fa36291421a3479cb5b9c218034f3319",
       "value": 38
      }
     },
     "0b807db548634f52bfefc265c753e479": {
      "model_module": "@jupyter-widgets/base",
      "model_module_version": "1.2.0",
      "model_name": "LayoutModel",
      "state": {}
     },
     "0c8fcec9bbc34e9085c6e2e571e7160e": {
      "model_module": "@jupyter-widgets/controls",
      "model_module_version": "1.5.0",
      "model_name": "HTMLModel",
      "state": {
       "layout": "IPY_MODEL_81db43b4c7a74f84a47e400d16444d62",
       "style": "IPY_MODEL_70f1599537af470aa236bc74e8d45574",
       "value": " 5/5 [00:00&lt;00:00, 15.82it/s]"
      }
     },
     "0cd06e184ce54d9e8bdab0043daff0a7": {
      "model_module": "@jupyter-widgets/controls",
      "model_module_version": "1.5.0",
      "model_name": "DescriptionStyleModel",
      "state": {
       "description_width": ""
      }
     },
     "0cdeb318911844da9636b1ec000bcc24": {
      "model_module": "@jupyter-widgets/base",
      "model_module_version": "1.2.0",
      "model_name": "LayoutModel",
      "state": {}
     },
     "0cf51a5e90484593b769926a742d578b": {
      "model_module": "@jupyter-widgets/controls",
      "model_module_version": "1.5.0",
      "model_name": "HTMLModel",
      "state": {
       "layout": "IPY_MODEL_45a36828889347499f7b603129669378",
       "style": "IPY_MODEL_ea953b391a8642f8841fc1a67d162b3c",
       "value": " 5/5 [00:00&lt;00:00, 15.38it/s]"
      }
     },
     "0d7966bcc9c54b2691dbe5e5f2d3e14e": {
      "model_module": "@jupyter-widgets/controls",
      "model_module_version": "1.5.0",
      "model_name": "FloatProgressModel",
      "state": {
       "bar_style": "success",
       "layout": "IPY_MODEL_1e6e3fe920f64495963575fc41088000",
       "max": 38,
       "style": "IPY_MODEL_e3c95a635e9b4d35a7fab4df116d2e53",
       "value": 38
      }
     },
     "0d9c59ac63be401585cf6135315a10a3": {
      "model_module": "@jupyter-widgets/base",
      "model_module_version": "1.2.0",
      "model_name": "LayoutModel",
      "state": {}
     },
     "0ddd6e66641540ab8c2061c2f36c7df8": {
      "model_module": "@jupyter-widgets/controls",
      "model_module_version": "1.5.0",
      "model_name": "HBoxModel",
      "state": {
       "children": [
        "IPY_MODEL_a9f0d7edbc77440b9506f9b71960f689",
        "IPY_MODEL_7fda83c8eab04a64be49e05c932e2585",
        "IPY_MODEL_903b18a938af435e99f30d62f226d9f2"
       ],
       "layout": "IPY_MODEL_8766c536ecb34258af614b679e1b4141"
      }
     },
     "0e0cc0a49de7475a8c244979bf6ddd05": {
      "model_module": "@jupyter-widgets/base",
      "model_module_version": "1.2.0",
      "model_name": "LayoutModel",
      "state": {}
     },
     "0e627fe38685449bac261669f1f20c59": {
      "model_module": "@jupyter-widgets/controls",
      "model_module_version": "1.5.0",
      "model_name": "HTMLModel",
      "state": {
       "layout": "IPY_MODEL_75438ab85f7c4f2ca06e4bdc54d88d8a",
       "style": "IPY_MODEL_5d60c90a4e8045ea8d3fcd21aca347bc",
       "value": " 38/38 [00:01&lt;00:00, 25.95it/s]"
      }
     },
     "0ead502e5bd24d8fabd0b8702073540b": {
      "model_module": "@jupyter-widgets/base",
      "model_module_version": "1.2.0",
      "model_name": "LayoutModel",
      "state": {}
     },
     "0f303cd0f51b42fa85fd6929a4a47126": {
      "model_module": "@jupyter-widgets/base",
      "model_module_version": "1.2.0",
      "model_name": "LayoutModel",
      "state": {}
     },
     "0fcb1640ca3a4078a5a8a4cf72d975c6": {
      "model_module": "@jupyter-widgets/base",
      "model_module_version": "1.2.0",
      "model_name": "LayoutModel",
      "state": {}
     },
     "1062506394c0494fb5a18c1c6c0d3ec4": {
      "model_module": "@jupyter-widgets/base",
      "model_module_version": "1.2.0",
      "model_name": "LayoutModel",
      "state": {}
     },
     "10fcb69f6fb4438caff02c10e9e92172": {
      "model_module": "@jupyter-widgets/controls",
      "model_module_version": "1.5.0",
      "model_name": "ProgressStyleModel",
      "state": {
       "description_width": ""
      }
     },
     "1102523130fa4b739bb674e4775a3675": {
      "model_module": "@jupyter-widgets/controls",
      "model_module_version": "1.5.0",
      "model_name": "ProgressStyleModel",
      "state": {
       "description_width": ""
      }
     },
     "11347a7cf7cb4594bf8fbcb62eb68fff": {
      "model_module": "@jupyter-widgets/controls",
      "model_module_version": "1.5.0",
      "model_name": "HTMLModel",
      "state": {
       "layout": "IPY_MODEL_f4a2b23a79fd4350a26536bd5584b082",
       "style": "IPY_MODEL_2609413d83b84cfa9f924b9ac4355881",
       "value": "Epoch: 35. Validation. 0.31610: 100%"
      }
     },
     "117ca45005fb4f158f35e35a9159d8da": {
      "model_module": "@jupyter-widgets/base",
      "model_module_version": "1.2.0",
      "model_name": "LayoutModel",
      "state": {}
     },
     "1191c87733064f7dab6ace33543d44ce": {
      "model_module": "@jupyter-widgets/base",
      "model_module_version": "1.2.0",
      "model_name": "LayoutModel",
      "state": {}
     },
     "11bcfda67ff74b69b7544ff3c3c1aaed": {
      "model_module": "@jupyter-widgets/controls",
      "model_module_version": "1.5.0",
      "model_name": "DescriptionStyleModel",
      "state": {
       "description_width": ""
      }
     },
     "11d155761aa04d98a6a4ac5007b7806b": {
      "model_module": "@jupyter-widgets/controls",
      "model_module_version": "1.5.0",
      "model_name": "DescriptionStyleModel",
      "state": {
       "description_width": ""
      }
     },
     "11e735af4b08406e862f041c6c0f26b0": {
      "model_module": "@jupyter-widgets/controls",
      "model_module_version": "1.5.0",
      "model_name": "FloatProgressModel",
      "state": {
       "bar_style": "success",
       "layout": "IPY_MODEL_9272dcc75a7f432292e02ca53b5e150f",
       "max": 5,
       "style": "IPY_MODEL_679de07a65aa4a3e829ee6af954102e7",
       "value": 5
      }
     },
     "124a370069374feb8893caa37186bbe3": {
      "model_module": "@jupyter-widgets/controls",
      "model_module_version": "1.5.0",
      "model_name": "DescriptionStyleModel",
      "state": {
       "description_width": ""
      }
     },
     "1257fd565eb9463091fabce126c10ec0": {
      "model_module": "@jupyter-widgets/base",
      "model_module_version": "1.2.0",
      "model_name": "LayoutModel",
      "state": {}
     },
     "12928453226f4fca881d3c4ffae8d7ae": {
      "model_module": "@jupyter-widgets/controls",
      "model_module_version": "1.5.0",
      "model_name": "HTMLModel",
      "state": {
       "layout": "IPY_MODEL_ca27fd367d6e4d398021a0c12656ba8f",
       "style": "IPY_MODEL_f41a2b5f61554d3996b1da14552ac7b5",
       "value": " 5/5 [00:00&lt;00:00, 15.49it/s]"
      }
     },
     "1382062770f64941ba416a348ab9129b": {
      "model_module": "@jupyter-widgets/base",
      "model_module_version": "1.2.0",
      "model_name": "LayoutModel",
      "state": {}
     },
     "14d5b978fbcb413b9cf1f37596f7abd1": {
      "model_module": "@jupyter-widgets/controls",
      "model_module_version": "1.5.0",
      "model_name": "DescriptionStyleModel",
      "state": {
       "description_width": ""
      }
     },
     "14e52d520bff4757b9794dda00399e86": {
      "model_module": "@jupyter-widgets/controls",
      "model_module_version": "1.5.0",
      "model_name": "HBoxModel",
      "state": {
       "children": [
        "IPY_MODEL_c39a1bb72abf48b694b14478fdeef4f7",
        "IPY_MODEL_af5ca481d43b4dbdb529eca20c13ca95",
        "IPY_MODEL_c65001122e3b48ea89f33e7a3b8ac067"
       ],
       "layout": "IPY_MODEL_f93c02c926f54fbd8bbabcefc6a4a8ba"
      }
     },
     "15b8bfe71b8d41c6ac381a24d0bb749d": {
      "model_module": "@jupyter-widgets/controls",
      "model_module_version": "1.5.0",
      "model_name": "DescriptionStyleModel",
      "state": {
       "description_width": ""
      }
     },
     "160b9f07fc344006b887f1d39a2e0a2d": {
      "model_module": "@jupyter-widgets/controls",
      "model_module_version": "1.5.0",
      "model_name": "DescriptionStyleModel",
      "state": {
       "description_width": ""
      }
     },
     "16197572772e49e99d14a91880245de9": {
      "model_module": "@jupyter-widgets/controls",
      "model_module_version": "1.5.0",
      "model_name": "FloatProgressModel",
      "state": {
       "bar_style": "success",
       "layout": "IPY_MODEL_cce219636f8f4fb3ac0ad5f790684d22",
       "max": 38,
       "style": "IPY_MODEL_77316c08a3ca45b19e2a845a4fb976b3",
       "value": 38
      }
     },
     "163e28f8ef5e4b68b450dd8ddc184006": {
      "model_module": "@jupyter-widgets/base",
      "model_module_version": "1.2.0",
      "model_name": "LayoutModel",
      "state": {}
     },
     "1691595586e94ce8b61a070e82d25f21": {
      "model_module": "@jupyter-widgets/base",
      "model_module_version": "1.2.0",
      "model_name": "LayoutModel",
      "state": {}
     },
     "16ab4acd68074da59a30f53bbd72aaea": {
      "model_module": "@jupyter-widgets/controls",
      "model_module_version": "1.5.0",
      "model_name": "HTMLModel",
      "state": {
       "layout": "IPY_MODEL_dcdebbb6e5db4805b7bd3b69bef50378",
       "style": "IPY_MODEL_923e7755596a4ff5b70089d4beab74da",
       "value": " 5/5 [00:00&lt;00:00, 15.77it/s]"
      }
     },
     "16b2ef35a2c7413699675611e90d1c0c": {
      "model_module": "@jupyter-widgets/controls",
      "model_module_version": "1.5.0",
      "model_name": "HBoxModel",
      "state": {
       "children": [
        "IPY_MODEL_e998bd0ec6e04ea0b66adac00c58805b",
        "IPY_MODEL_80d0bcbe817443709506919f33a6b544",
        "IPY_MODEL_e9b97bafaf1246a9affd6b9b280f7bc7"
       ],
       "layout": "IPY_MODEL_cade333f9d334d41b43527f952d7b40d"
      }
     },
     "172884c0214c4f039c31a023ae6cfd10": {
      "model_module": "@jupyter-widgets/controls",
      "model_module_version": "1.5.0",
      "model_name": "HTMLModel",
      "state": {
       "layout": "IPY_MODEL_c10878761f0a4b3e8143de9e8bbd6bb9",
       "style": "IPY_MODEL_fc2331e36bcc49d5a62fd71388fd036e",
       "value": "Epoch: 21. Train.    4.54467: 100%"
      }
     },
     "17a4eaa4690a443d88bce6051ad91351": {
      "model_module": "@jupyter-widgets/controls",
      "model_module_version": "1.5.0",
      "model_name": "ProgressStyleModel",
      "state": {
       "description_width": ""
      }
     },
     "17b291eab6d040168cef3a6704391de8": {
      "model_module": "@jupyter-widgets/controls",
      "model_module_version": "1.5.0",
      "model_name": "DescriptionStyleModel",
      "state": {
       "description_width": ""
      }
     },
     "1880e1e94f0e4d2a81dfc91dd23a9814": {
      "model_module": "@jupyter-widgets/controls",
      "model_module_version": "1.5.0",
      "model_name": "HBoxModel",
      "state": {
       "children": [
        "IPY_MODEL_26eb80c149754d938a493927ca61e269",
        "IPY_MODEL_de5c8263a4424baf942edd4162fe1d88",
        "IPY_MODEL_77288fa918f44395ac75d5477ba52338"
       ],
       "layout": "IPY_MODEL_644f8111ae37483db33637cabd945c24"
      }
     },
     "18a370c52a1a4da78acfeba669ee1973": {
      "model_module": "@jupyter-widgets/controls",
      "model_module_version": "1.5.0",
      "model_name": "DescriptionStyleModel",
      "state": {
       "description_width": ""
      }
     },
     "18db50e17ac74061a444a4818113aad3": {
      "model_module": "@jupyter-widgets/base",
      "model_module_version": "1.2.0",
      "model_name": "LayoutModel",
      "state": {}
     },
     "18e3ce21050344659e2f070130d38758": {
      "model_module": "@jupyter-widgets/controls",
      "model_module_version": "1.5.0",
      "model_name": "FloatProgressModel",
      "state": {
       "bar_style": "success",
       "layout": "IPY_MODEL_0b807db548634f52bfefc265c753e479",
       "max": 38,
       "style": "IPY_MODEL_64ff7a7a94eb43088f82268eec7e53f0",
       "value": 38
      }
     },
     "1923ecaa56f441d08145e57c34b5da82": {
      "model_module": "@jupyter-widgets/controls",
      "model_module_version": "1.5.0",
      "model_name": "ProgressStyleModel",
      "state": {
       "description_width": ""
      }
     },
     "1940893fa7bf4e179d9969d2e3f0db2c": {
      "model_module": "@jupyter-widgets/controls",
      "model_module_version": "1.5.0",
      "model_name": "DescriptionStyleModel",
      "state": {
       "description_width": ""
      }
     },
     "194b0515c4c645e8925d7dba8aac6147": {
      "model_module": "@jupyter-widgets/base",
      "model_module_version": "1.2.0",
      "model_name": "LayoutModel",
      "state": {}
     },
     "19679e214c94482782efd0dc9405b5ed": {
      "model_module": "@jupyter-widgets/base",
      "model_module_version": "1.2.0",
      "model_name": "LayoutModel",
      "state": {}
     },
     "1994922a13d14ffc8aa69ee10d0c580c": {
      "model_module": "@jupyter-widgets/base",
      "model_module_version": "1.2.0",
      "model_name": "LayoutModel",
      "state": {}
     },
     "19dd78dcbc7d4134a9fd2c8b24a3d04a": {
      "model_module": "@jupyter-widgets/controls",
      "model_module_version": "1.5.0",
      "model_name": "DescriptionStyleModel",
      "state": {
       "description_width": ""
      }
     },
     "1a185dc586ac4ac6b5e13e441254f3e1": {
      "model_module": "@jupyter-widgets/controls",
      "model_module_version": "1.5.0",
      "model_name": "HBoxModel",
      "state": {
       "children": [
        "IPY_MODEL_11347a7cf7cb4594bf8fbcb62eb68fff",
        "IPY_MODEL_7db437a70b6a4394ab333cf4781ccb2f",
        "IPY_MODEL_5850efbfd38e4e8eb6ebc5e0d2ca1598"
       ],
       "layout": "IPY_MODEL_3473e31569ed4d15b64ecc30fdd2cada"
      }
     },
     "1a4a7fd7430a45549c3b84d1da32634d": {
      "model_module": "@jupyter-widgets/controls",
      "model_module_version": "1.5.0",
      "model_name": "ProgressStyleModel",
      "state": {
       "description_width": ""
      }
     },
     "1a8170e378f74d8984fa327f41a01e42": {
      "model_module": "@jupyter-widgets/controls",
      "model_module_version": "1.5.0",
      "model_name": "HTMLModel",
      "state": {
       "layout": "IPY_MODEL_4a11cb072ff942109b089eb34dbefcaa",
       "style": "IPY_MODEL_749af71e735f456a853faee34f15975b",
       "value": "Epoch: 16. Validation. 0.40894: 100%"
      }
     },
     "1aba86864b744de7a697f592fbfc83bd": {
      "model_module": "@jupyter-widgets/controls",
      "model_module_version": "1.5.0",
      "model_name": "DescriptionStyleModel",
      "state": {
       "description_width": ""
      }
     },
     "1aec954226034bcbb87c765ceb79ab89": {
      "model_module": "@jupyter-widgets/base",
      "model_module_version": "1.2.0",
      "model_name": "LayoutModel",
      "state": {}
     },
     "1b1fc7fe74ac447b83b64a64d59e8bf3": {
      "model_module": "@jupyter-widgets/controls",
      "model_module_version": "1.5.0",
      "model_name": "DescriptionStyleModel",
      "state": {
       "description_width": ""
      }
     },
     "1b3ec06811ca48f486d50da5d64b9b09": {
      "model_module": "@jupyter-widgets/base",
      "model_module_version": "1.2.0",
      "model_name": "LayoutModel",
      "state": {}
     },
     "1b59684d94854f90b1cfacc16c8feac6": {
      "model_module": "@jupyter-widgets/controls",
      "model_module_version": "1.5.0",
      "model_name": "HBoxModel",
      "state": {
       "children": [
        "IPY_MODEL_4c020ce779e0444a9db38413a7f9d647",
        "IPY_MODEL_dd7f1d8431484f2f84fd3bd97998f26f",
        "IPY_MODEL_203597fb410447539b5910a59744df7b"
       ],
       "layout": "IPY_MODEL_6d274f658b924072bc3c21f42475a5c2"
      }
     },
     "1b802c3182a24faaa252ad131a93e015": {
      "model_module": "@jupyter-widgets/controls",
      "model_module_version": "1.5.0",
      "model_name": "ProgressStyleModel",
      "state": {
       "description_width": ""
      }
     },
     "1bcc3c65763a4374835bae8aba23f159": {
      "model_module": "@jupyter-widgets/controls",
      "model_module_version": "1.5.0",
      "model_name": "FloatProgressModel",
      "state": {
       "bar_style": "success",
       "layout": "IPY_MODEL_7e0c2c5ad78c49ffa5cad064317f4c86",
       "max": 5,
       "style": "IPY_MODEL_778347b6d0d74304be6b836df65422d9",
       "value": 5
      }
     },
     "1c2aed8c88664bd8b7709970d8d6cd05": {
      "model_module": "@jupyter-widgets/controls",
      "model_module_version": "1.5.0",
      "model_name": "HTMLModel",
      "state": {
       "layout": "IPY_MODEL_66396a668402486990277f585a3376df",
       "style": "IPY_MODEL_7de4710611904002b9f6982b9c2e3d8a",
       "value": "Epoch: 35. Train.    3.22950: 100%"
      }
     },
     "1c39eab753ac4bdfbd06682f28d93fac": {
      "model_module": "@jupyter-widgets/base",
      "model_module_version": "1.2.0",
      "model_name": "LayoutModel",
      "state": {}
     },
     "1c8fe728558d4594817d5e8424c2a9dc": {
      "model_module": "@jupyter-widgets/controls",
      "model_module_version": "1.5.0",
      "model_name": "ProgressStyleModel",
      "state": {
       "description_width": ""
      }
     },
     "1ca4e6b7a89644cea9b00d130fd38947": {
      "model_module": "@jupyter-widgets/controls",
      "model_module_version": "1.5.0",
      "model_name": "DescriptionStyleModel",
      "state": {
       "description_width": ""
      }
     },
     "1d41f5df68174a69a63967a311e7fe14": {
      "model_module": "@jupyter-widgets/base",
      "model_module_version": "1.2.0",
      "model_name": "LayoutModel",
      "state": {}
     },
     "1d92f1d325234a1aacfb9187326dee6e": {
      "model_module": "@jupyter-widgets/base",
      "model_module_version": "1.2.0",
      "model_name": "LayoutModel",
      "state": {}
     },
     "1da8b5bd6ef1459e91225194ed20099c": {
      "model_module": "@jupyter-widgets/controls",
      "model_module_version": "1.5.0",
      "model_name": "HTMLModel",
      "state": {
       "layout": "IPY_MODEL_1b3ec06811ca48f486d50da5d64b9b09",
       "style": "IPY_MODEL_ec9c87216c1e4a18bb65228df2f7487d",
       "value": " 5/5 [00:00&lt;00:00, 15.38it/s]"
      }
     },
     "1dbc50df98b742b7858a74a8971db009": {
      "model_module": "@jupyter-widgets/base",
      "model_module_version": "1.2.0",
      "model_name": "LayoutModel",
      "state": {}
     },
     "1e6e3fe920f64495963575fc41088000": {
      "model_module": "@jupyter-widgets/base",
      "model_module_version": "1.2.0",
      "model_name": "LayoutModel",
      "state": {}
     },
     "1e9037ebf87740c288e798f752e9da26": {
      "model_module": "@jupyter-widgets/controls",
      "model_module_version": "1.5.0",
      "model_name": "FloatProgressModel",
      "state": {
       "bar_style": "success",
       "layout": "IPY_MODEL_0695661e08824a198a41dc52bb484b2b",
       "max": 38,
       "style": "IPY_MODEL_3f97c5695bdc43749abff4c1979bef19",
       "value": 38
      }
     },
     "1ec4e03d7205443b996def008f331003": {
      "model_module": "@jupyter-widgets/base",
      "model_module_version": "1.2.0",
      "model_name": "LayoutModel",
      "state": {}
     },
     "1ef437f1a7274b788a8f211bd9f9563d": {
      "model_module": "@jupyter-widgets/controls",
      "model_module_version": "1.5.0",
      "model_name": "FloatProgressModel",
      "state": {
       "bar_style": "success",
       "layout": "IPY_MODEL_913820908e144f2cafe53d1e0c9a1c6c",
       "max": 5,
       "style": "IPY_MODEL_81f310b66d0f49688f0c2ee07f0253d7",
       "value": 5
      }
     },
     "1f066f0fa61b4b3994797a51aeaf74c4": {
      "model_module": "@jupyter-widgets/controls",
      "model_module_version": "1.5.0",
      "model_name": "HBoxModel",
      "state": {
       "children": [
        "IPY_MODEL_4c65384f1aaa4115807be490823a7165",
        "IPY_MODEL_8762527f9570495db0d66f08162865df",
        "IPY_MODEL_8e741f6667504e39a2e3267785c86b87"
       ],
       "layout": "IPY_MODEL_40d9698182e040b59acfac14c804d1cb"
      }
     },
     "1f3f96dd58a34795ae5db5e72b3a9983": {
      "model_module": "@jupyter-widgets/controls",
      "model_module_version": "1.5.0",
      "model_name": "HTMLModel",
      "state": {
       "layout": "IPY_MODEL_643a8e6f7a204d5c89740b2b9bd32fd0",
       "style": "IPY_MODEL_8ce439434d4e494ca40ab83d59fc3b34",
       "value": "Epoch: 8. Validation. 1.06369: 100%"
      }
     },
     "1f67663e79834fb5a7a3245b343f9bdb": {
      "model_module": "@jupyter-widgets/controls",
      "model_module_version": "1.5.0",
      "model_name": "DescriptionStyleModel",
      "state": {
       "description_width": ""
      }
     },
     "1fc15cf6c6014ca49fe61aadde50849a": {
      "model_module": "@jupyter-widgets/controls",
      "model_module_version": "1.5.0",
      "model_name": "HBoxModel",
      "state": {
       "children": [
        "IPY_MODEL_aa304870791d4c8a9bf1da280875ee2d",
        "IPY_MODEL_642eddf8b3dd47258dcd5f63b0f09273",
        "IPY_MODEL_9ece1c887fac4adfa470ed1c10614de3"
       ],
       "layout": "IPY_MODEL_e866efe2742f47209fe08ea010fccba4"
      }
     },
     "1fcf92f07ae94acf9212114c715a4316": {
      "model_module": "@jupyter-widgets/controls",
      "model_module_version": "1.5.0",
      "model_name": "HBoxModel",
      "state": {
       "children": [
        "IPY_MODEL_5cef95a8efb54860afb64889d7d9928d",
        "IPY_MODEL_ba66c4dcde694f87979b042501d9dee0",
        "IPY_MODEL_985af78691e5405881c40896fcb60480"
       ],
       "layout": "IPY_MODEL_7f851c93dcd043ca9f59b66cf3e04bca"
      }
     },
     "1fea484ef49249dd82c1e977533e36d8": {
      "model_module": "@jupyter-widgets/base",
      "model_module_version": "1.2.0",
      "model_name": "LayoutModel",
      "state": {}
     },
     "203597fb410447539b5910a59744df7b": {
      "model_module": "@jupyter-widgets/controls",
      "model_module_version": "1.5.0",
      "model_name": "HTMLModel",
      "state": {
       "layout": "IPY_MODEL_3d43e7bf8623431b9d8a123483229ce1",
       "style": "IPY_MODEL_b14e5c46698145dfa9d1432741f32359",
       "value": " 38/38 [00:01&lt;00:00, 27.02it/s]"
      }
     },
     "205445a97fa04d89929c01a876511b06": {
      "model_module": "@jupyter-widgets/controls",
      "model_module_version": "1.5.0",
      "model_name": "ProgressStyleModel",
      "state": {
       "description_width": ""
      }
     },
     "20b8efbe7b1942db97698a2b13c3a4ec": {
      "model_module": "@jupyter-widgets/controls",
      "model_module_version": "1.5.0",
      "model_name": "ProgressStyleModel",
      "state": {
       "description_width": ""
      }
     },
     "215ac39911b44b65930ce536cc76d422": {
      "model_module": "@jupyter-widgets/controls",
      "model_module_version": "1.5.0",
      "model_name": "HBoxModel",
      "state": {
       "children": [
        "IPY_MODEL_172884c0214c4f039c31a023ae6cfd10",
        "IPY_MODEL_0d7966bcc9c54b2691dbe5e5f2d3e14e",
        "IPY_MODEL_b0b4b4d58488490cb0b6eaecba26d70a"
       ],
       "layout": "IPY_MODEL_30fc4005968a4db9950c9c8664f9eee8"
      }
     },
     "2190319e395f46de96b701263db801b3": {
      "model_module": "@jupyter-widgets/base",
      "model_module_version": "1.2.0",
      "model_name": "LayoutModel",
      "state": {}
     },
     "21c30990b95740d08f8cf4a0a2a8f2b5": {
      "model_module": "@jupyter-widgets/controls",
      "model_module_version": "1.5.0",
      "model_name": "ProgressStyleModel",
      "state": {
       "description_width": ""
      }
     },
     "21c91fab9d34472e89011acfe2545dc5": {
      "model_module": "@jupyter-widgets/controls",
      "model_module_version": "1.5.0",
      "model_name": "ProgressStyleModel",
      "state": {
       "description_width": ""
      }
     },
     "2213c939c40e49bd829e7efdab73af52": {
      "model_module": "@jupyter-widgets/controls",
      "model_module_version": "1.5.0",
      "model_name": "HTMLModel",
      "state": {
       "layout": "IPY_MODEL_67a933f49c894973bd26c6a8ac8dcbef",
       "style": "IPY_MODEL_da7bcbdf048d4824b4371b464ec3d331",
       "value": "Epoch: 17. Validation. 0.50081: 100%"
      }
     },
     "22274f2045c24d2bafab61f2cd2b6001": {
      "model_module": "@jupyter-widgets/controls",
      "model_module_version": "1.5.0",
      "model_name": "ProgressStyleModel",
      "state": {
       "description_width": ""
      }
     },
     "225cf25d3ab24bd18bd02d2cd536f10b": {
      "model_module": "@jupyter-widgets/base",
      "model_module_version": "1.2.0",
      "model_name": "LayoutModel",
      "state": {}
     },
     "226095a058fc476dbc27569acdfd4642": {
      "model_module": "@jupyter-widgets/controls",
      "model_module_version": "1.5.0",
      "model_name": "HBoxModel",
      "state": {
       "children": [
        "IPY_MODEL_bf4f23395a10417f90183160d7b29c5d",
        "IPY_MODEL_5d62c64e4c104e49a13714a69799994c",
        "IPY_MODEL_75ffe1b6eb63424d9484e2ecfaa976e4"
       ],
       "layout": "IPY_MODEL_334620ca272f471f90a8e1aeb404254c"
      }
     },
     "228418e02be043f8b110283b0cd222cd": {
      "model_module": "@jupyter-widgets/base",
      "model_module_version": "1.2.0",
      "model_name": "LayoutModel",
      "state": {}
     },
     "22a51ee6601e4354916bfe23ff963f9c": {
      "model_module": "@jupyter-widgets/controls",
      "model_module_version": "1.5.0",
      "model_name": "DescriptionStyleModel",
      "state": {
       "description_width": ""
      }
     },
     "22d54daca2b647d3b1ed3be956c18732": {
      "model_module": "@jupyter-widgets/controls",
      "model_module_version": "1.5.0",
      "model_name": "FloatProgressModel",
      "state": {
       "bar_style": "success",
       "layout": "IPY_MODEL_e0f4be6fe3a14113bcaa050411648628",
       "max": 38,
       "style": "IPY_MODEL_8a0e2e9ae16148aeb32fd3dbfed51e44",
       "value": 38
      }
     },
     "22ffd85a1a3f4844b087c56b2cfe4158": {
      "model_module": "@jupyter-widgets/controls",
      "model_module_version": "1.5.0",
      "model_name": "HBoxModel",
      "state": {
       "children": [
        "IPY_MODEL_51ee537d374a46a8b13ad8c4953ec93f",
        "IPY_MODEL_f4a3a5950caa4bd597667e54a8765f90",
        "IPY_MODEL_9e1eb9303f174e568c5518f851546b20"
       ],
       "layout": "IPY_MODEL_a62bc88b6584434cb0a7452fba7f0e1f"
      }
     },
     "232c116f84564f929b455b42183aea1d": {
      "model_module": "@jupyter-widgets/base",
      "model_module_version": "1.2.0",
      "model_name": "LayoutModel",
      "state": {}
     },
     "2337ca1525724afbb52e633e4696b5a2": {
      "model_module": "@jupyter-widgets/controls",
      "model_module_version": "1.5.0",
      "model_name": "HTMLModel",
      "state": {
       "layout": "IPY_MODEL_8ee4f1d0117f47a6bf9ab640881dbc8a",
       "style": "IPY_MODEL_d838d09ee0ab4ab0a30595b1e927edbc",
       "value": "Epoch: 15. Validation. 0.44866: 100%"
      }
     },
     "234bfcf53d0b4cf581ae8052fe10e42d": {
      "model_module": "@jupyter-widgets/base",
      "model_module_version": "1.2.0",
      "model_name": "LayoutModel",
      "state": {}
     },
     "238b16a6ea29455da2745846f72ecd42": {
      "model_module": "@jupyter-widgets/base",
      "model_module_version": "1.2.0",
      "model_name": "LayoutModel",
      "state": {}
     },
     "239df00fc8234f6f9793ce4ff80f4b41": {
      "model_module": "@jupyter-widgets/base",
      "model_module_version": "1.2.0",
      "model_name": "LayoutModel",
      "state": {}
     },
     "23d613c72e6b485cbec85966ff84c134": {
      "model_module": "@jupyter-widgets/controls",
      "model_module_version": "1.5.0",
      "model_name": "FloatProgressModel",
      "state": {
       "bar_style": "success",
       "layout": "IPY_MODEL_7f064fbac807415fbbf880908b7da3b4",
       "max": 38,
       "style": "IPY_MODEL_495b43f92958494aafa5c38db75258b9",
       "value": 38
      }
     },
     "24608f2ba6dd48b1a0dfa677345fb62d": {
      "model_module": "@jupyter-widgets/base",
      "model_module_version": "1.2.0",
      "model_name": "LayoutModel",
      "state": {}
     },
     "248ed6497ef54daa821f3c72907cf543": {
      "model_module": "@jupyter-widgets/base",
      "model_module_version": "1.2.0",
      "model_name": "LayoutModel",
      "state": {}
     },
     "249fbaf18a0b4dc9bda2599472a56665": {
      "model_module": "@jupyter-widgets/controls",
      "model_module_version": "1.5.0",
      "model_name": "DescriptionStyleModel",
      "state": {
       "description_width": ""
      }
     },
     "25655acfe43f4f74ab3adb4936a248c9": {
      "model_module": "@jupyter-widgets/base",
      "model_module_version": "1.2.0",
      "model_name": "LayoutModel",
      "state": {}
     },
     "256d9570d21848a4b6e3d21532308298": {
      "model_module": "@jupyter-widgets/controls",
      "model_module_version": "1.5.0",
      "model_name": "ProgressStyleModel",
      "state": {
       "description_width": ""
      }
     },
     "2588945b26a9438092620f6579b055be": {
      "model_module": "@jupyter-widgets/controls",
      "model_module_version": "1.5.0",
      "model_name": "DescriptionStyleModel",
      "state": {
       "description_width": ""
      }
     },
     "2609413d83b84cfa9f924b9ac4355881": {
      "model_module": "@jupyter-widgets/controls",
      "model_module_version": "1.5.0",
      "model_name": "DescriptionStyleModel",
      "state": {
       "description_width": ""
      }
     },
     "2634cc91b6584fa48a98873378667a15": {
      "model_module": "@jupyter-widgets/controls",
      "model_module_version": "1.5.0",
      "model_name": "DescriptionStyleModel",
      "state": {
       "description_width": ""
      }
     },
     "263c92aec3164d6a9ae9a5b772ca2aa4": {
      "model_module": "@jupyter-widgets/controls",
      "model_module_version": "1.5.0",
      "model_name": "HTMLModel",
      "state": {
       "layout": "IPY_MODEL_117ca45005fb4f158f35e35a9159d8da",
       "style": "IPY_MODEL_357326dedeff4f0f882abfe1aeae2963",
       "value": "Epoch: 9. Train.    7.44525: 100%"
      }
     },
     "264b113e000741e98a3133f5ddbb4eef": {
      "model_module": "@jupyter-widgets/controls",
      "model_module_version": "1.5.0",
      "model_name": "DescriptionStyleModel",
      "state": {
       "description_width": ""
      }
     },
     "26539b9aceca4603b7812ea258cd1127": {
      "model_module": "@jupyter-widgets/controls",
      "model_module_version": "1.5.0",
      "model_name": "HTMLModel",
      "state": {
       "layout": "IPY_MODEL_d173d551d90b4a40b4d14c001ffa047b",
       "style": "IPY_MODEL_9a513eb9a39e4cfe83e38f70a93ca1eb",
       "value": " 38/38 [00:01&lt;00:00, 26.37it/s]"
      }
     },
     "26b2c817ba0d4064a100fd0f61d8df01": {
      "model_module": "@jupyter-widgets/controls",
      "model_module_version": "1.5.0",
      "model_name": "DescriptionStyleModel",
      "state": {
       "description_width": ""
      }
     },
     "26eb80c149754d938a493927ca61e269": {
      "model_module": "@jupyter-widgets/controls",
      "model_module_version": "1.5.0",
      "model_name": "HTMLModel",
      "state": {
       "layout": "IPY_MODEL_354628058f82447796edcdb2d900eff3",
       "style": "IPY_MODEL_d29851467dc54bbba13a20284e59f6f8",
       "value": "Epoch: 4. Train.    11.19595: 100%"
      }
     },
     "28c450552a6b4024a12e450980d669e9": {
      "model_module": "@jupyter-widgets/base",
      "model_module_version": "1.2.0",
      "model_name": "LayoutModel",
      "state": {}
     },
     "28fe7a12981c4630b9d6420bb8606838": {
      "model_module": "@jupyter-widgets/controls",
      "model_module_version": "1.5.0",
      "model_name": "DescriptionStyleModel",
      "state": {
       "description_width": ""
      }
     },
     "2910098778784896989420736aacd2fb": {
      "model_module": "@jupyter-widgets/controls",
      "model_module_version": "1.5.0",
      "model_name": "FloatProgressModel",
      "state": {
       "bar_style": "success",
       "layout": "IPY_MODEL_363331a4738241a991a92eb17e9dbf7d",
       "max": 38,
       "style": "IPY_MODEL_80df13b7df3e4432970638904d0ee697",
       "value": 38
      }
     },
     "291f4b8949f048689fe3a33f3f433655": {
      "model_module": "@jupyter-widgets/controls",
      "model_module_version": "1.5.0",
      "model_name": "HTMLModel",
      "state": {
       "layout": "IPY_MODEL_6e6816778de14406b7bb34fa4f9dde0b",
       "style": "IPY_MODEL_f7d7bc0c34aa4d1088f1d1acf2c2080f",
       "value": " 5/5 [00:00&lt;00:00, 15.99it/s]"
      }
     },
     "2952e1f866104b74b4ec60058eb5510d": {
      "model_module": "@jupyter-widgets/base",
      "model_module_version": "1.2.0",
      "model_name": "LayoutModel",
      "state": {}
     },
     "29cc2c0f51f0482d933410eb4e7110bd": {
      "model_module": "@jupyter-widgets/controls",
      "model_module_version": "1.5.0",
      "model_name": "FloatProgressModel",
      "state": {
       "bar_style": "success",
       "layout": "IPY_MODEL_0cdeb318911844da9636b1ec000bcc24",
       "max": 38,
       "style": "IPY_MODEL_d3de7bdae7fb4473b44b53c2f27f58a3",
       "value": 38
      }
     },
     "29ed41139c654ddba0d1ef30e6bae182": {
      "model_module": "@jupyter-widgets/controls",
      "model_module_version": "1.5.0",
      "model_name": "HTMLModel",
      "state": {
       "layout": "IPY_MODEL_83c4260fb24141fdbde9c2a7049a855e",
       "style": "IPY_MODEL_66dcf300a7774cfe80898798868c8e22",
       "value": " 5/5 [00:00&lt;00:00, 15.42it/s]"
      }
     },
     "2a1fb1c873434a7e9376e6205ec70757": {
      "model_module": "@jupyter-widgets/controls",
      "model_module_version": "1.5.0",
      "model_name": "HTMLModel",
      "state": {
       "layout": "IPY_MODEL_0d9c59ac63be401585cf6135315a10a3",
       "style": "IPY_MODEL_1ca4e6b7a89644cea9b00d130fd38947",
       "value": " 5/5 [00:00&lt;00:00, 15.41it/s]"
      }
     },
     "2a7f34065540473389f2bbf18bc23ff3": {
      "model_module": "@jupyter-widgets/controls",
      "model_module_version": "1.5.0",
      "model_name": "HTMLModel",
      "state": {
       "layout": "IPY_MODEL_f76e8afd8dcd4687ae3001930ad2091c",
       "style": "IPY_MODEL_a7011460c29a4b789a4ef044e8b832f1",
       "value": "Epoch: 34. Train.    3.05783: 100%"
      }
     },
     "2ac8e9bc5a3c46f78c63a8704c771f8a": {
      "model_module": "@jupyter-widgets/base",
      "model_module_version": "1.2.0",
      "model_name": "LayoutModel",
      "state": {}
     },
     "2ad49266790240d9bf9a5bf06ef44186": {
      "model_module": "@jupyter-widgets/base",
      "model_module_version": "1.2.0",
      "model_name": "LayoutModel",
      "state": {}
     },
     "2aebc1617b6f4af4bfa5d5cdcae29d20": {
      "model_module": "@jupyter-widgets/controls",
      "model_module_version": "1.5.0",
      "model_name": "DescriptionStyleModel",
      "state": {
       "description_width": ""
      }
     },
     "2b43d70e9e73446b91b8f8439df36563": {
      "model_module": "@jupyter-widgets/controls",
      "model_module_version": "1.5.0",
      "model_name": "HBoxModel",
      "state": {
       "children": [
        "IPY_MODEL_ec95d57ad97b49dc95fb4f00cfe613b6",
        "IPY_MODEL_821c501f50d344f1adc10a2d1566bac6",
        "IPY_MODEL_8d75530b3b98463182a648c02e61ac1c"
       ],
       "layout": "IPY_MODEL_56c4ea03f6ec4570ad058768783525ff"
      }
     },
     "2b7bfb8258704b53b5f1eb7061d11dd9": {
      "model_module": "@jupyter-widgets/controls",
      "model_module_version": "1.5.0",
      "model_name": "HTMLModel",
      "state": {
       "layout": "IPY_MODEL_83f1746d173e47b3ae536fb9f26d42a9",
       "style": "IPY_MODEL_f2e3affc3d9e43e694d55ff17b1ff88d",
       "value": " 38/38 [00:01&lt;00:00, 26.69it/s]"
      }
     },
     "2bd77fa122a347a3b432739a884c055d": {
      "model_module": "@jupyter-widgets/base",
      "model_module_version": "1.2.0",
      "model_name": "LayoutModel",
      "state": {}
     },
     "2cb9c5aeb24b41838d324d27d57755bc": {
      "model_module": "@jupyter-widgets/controls",
      "model_module_version": "1.5.0",
      "model_name": "HBoxModel",
      "state": {
       "children": [
        "IPY_MODEL_60a726c152f94e9faf0bf852cc562b24",
        "IPY_MODEL_34a5ecaac52146e88dbd369a65f431e0",
        "IPY_MODEL_16ab4acd68074da59a30f53bbd72aaea"
       ],
       "layout": "IPY_MODEL_cef2ccb36d694f0b85b8c4f235d3cda4"
      }
     },
     "2d04648287ba4ebe976a5302c0938fa4": {
      "model_module": "@jupyter-widgets/controls",
      "model_module_version": "1.5.0",
      "model_name": "DescriptionStyleModel",
      "state": {
       "description_width": ""
      }
     },
     "2da33e8d5d714a7aa48116e446c19632": {
      "model_module": "@jupyter-widgets/base",
      "model_module_version": "1.2.0",
      "model_name": "LayoutModel",
      "state": {}
     },
     "2dbe51e0035f456ebb672c1b6da7a5d9": {
      "model_module": "@jupyter-widgets/base",
      "model_module_version": "1.2.0",
      "model_name": "LayoutModel",
      "state": {}
     },
     "2e283e4a81514886add4260f741e1148": {
      "model_module": "@jupyter-widgets/base",
      "model_module_version": "1.2.0",
      "model_name": "LayoutModel",
      "state": {}
     },
     "2eca7a0a321b4753a9e70383d26457a7": {
      "model_module": "@jupyter-widgets/controls",
      "model_module_version": "1.5.0",
      "model_name": "FloatProgressModel",
      "state": {
       "bar_style": "success",
       "layout": "IPY_MODEL_4261c7003ce440a5b644be03bfe3a63f",
       "max": 5,
       "style": "IPY_MODEL_023e4e56d5d84d029aeb3ea06467ddce",
       "value": 5
      }
     },
     "2ee22eccffe14fa3ba6023f720ac497c": {
      "model_module": "@jupyter-widgets/base",
      "model_module_version": "1.2.0",
      "model_name": "LayoutModel",
      "state": {}
     },
     "2f475d57fad645ba89b1e41e0fda21ab": {
      "model_module": "@jupyter-widgets/controls",
      "model_module_version": "1.5.0",
      "model_name": "HBoxModel",
      "state": {
       "children": [
        "IPY_MODEL_5655d1c0f2ad4756849c99d4116359e5",
        "IPY_MODEL_8829020da61b4edcb86f5cfc1b76b825",
        "IPY_MODEL_9ef8e7872f994eb98ddb77a6cd979b36"
       ],
       "layout": "IPY_MODEL_7505d3267abc42db968112a302128baf"
      }
     },
     "3071147c023f48ab97015a9dbd532b16": {
      "model_module": "@jupyter-widgets/base",
      "model_module_version": "1.2.0",
      "model_name": "LayoutModel",
      "state": {}
     },
     "30ba7ad377df406f83ad08abe7612e7b": {
      "model_module": "@jupyter-widgets/controls",
      "model_module_version": "1.5.0",
      "model_name": "HBoxModel",
      "state": {
       "children": [
        "IPY_MODEL_428dfcc4403f4ae8a691b239dd5a3c1e",
        "IPY_MODEL_9eb4eff92b914cd9b51084c43d3fb776",
        "IPY_MODEL_fea0b7bfc1714ffb84f9345a41d40de2"
       ],
       "layout": "IPY_MODEL_f7138f63f4cd4a18a65a1cb7e51b1027"
      }
     },
     "30bd83127e144c8792a1dba1183eb876": {
      "model_module": "@jupyter-widgets/base",
      "model_module_version": "1.2.0",
      "model_name": "LayoutModel",
      "state": {}
     },
     "30e89826337744c69fa1b2213107cf67": {
      "model_module": "@jupyter-widgets/controls",
      "model_module_version": "1.5.0",
      "model_name": "DescriptionStyleModel",
      "state": {
       "description_width": ""
      }
     },
     "30fc4005968a4db9950c9c8664f9eee8": {
      "model_module": "@jupyter-widgets/base",
      "model_module_version": "1.2.0",
      "model_name": "LayoutModel",
      "state": {}
     },
     "3106c85b55854d0381468f5a132ea0a3": {
      "model_module": "@jupyter-widgets/controls",
      "model_module_version": "1.5.0",
      "model_name": "HTMLModel",
      "state": {
       "layout": "IPY_MODEL_1691595586e94ce8b61a070e82d25f21",
       "style": "IPY_MODEL_0452962d065f4d4996696f6ea0e26a84",
       "value": " 38/38 [00:01&lt;00:00, 26.99it/s]"
      }
     },
     "3113880249ad407ab7cfd265c2ea0e11": {
      "model_module": "@jupyter-widgets/controls",
      "model_module_version": "1.5.0",
      "model_name": "HTMLModel",
      "state": {
       "layout": "IPY_MODEL_fcf48e1c9a774397a1e7dd4cc8cce0bd",
       "style": "IPY_MODEL_0776ebf3acf041a59761d71868a050b3",
       "value": "Epoch: 17. Train.    4.55743: 100%"
      }
     },
     "3151deb4203d46daa39531f4c5dcd0a3": {
      "model_module": "@jupyter-widgets/base",
      "model_module_version": "1.2.0",
      "model_name": "LayoutModel",
      "state": {}
     },
     "315557b21b4d47bdb4eb13bf8b40c9d9": {
      "model_module": "@jupyter-widgets/base",
      "model_module_version": "1.2.0",
      "model_name": "LayoutModel",
      "state": {}
     },
     "31563e1979504f0594ff91abfb4de5c7": {
      "model_module": "@jupyter-widgets/controls",
      "model_module_version": "1.5.0",
      "model_name": "HBoxModel",
      "state": {
       "children": [
        "IPY_MODEL_8d3af21316014034a1d4ce47bf6f6fee",
        "IPY_MODEL_88af7a54407c400882f9a2d0ec5db13d",
        "IPY_MODEL_7b9a7e943a654519838f55d4259be116"
       ],
       "layout": "IPY_MODEL_a33a7c88f175481a8b669967967b95c5"
      }
     },
     "316c04d262da41f1b518d7b2d8a73e13": {
      "model_module": "@jupyter-widgets/base",
      "model_module_version": "1.2.0",
      "model_name": "LayoutModel",
      "state": {}
     },
     "319737ece9c942698cf67fc6f8e80218": {
      "model_module": "@jupyter-widgets/base",
      "model_module_version": "1.2.0",
      "model_name": "LayoutModel",
      "state": {}
     },
     "31b08886a03640268e032bd0abf1da41": {
      "model_module": "@jupyter-widgets/controls",
      "model_module_version": "1.5.0",
      "model_name": "HTMLModel",
      "state": {
       "layout": "IPY_MODEL_c2411608f55341418d0b1bf18c06e139",
       "style": "IPY_MODEL_d61354ee9152468692247b73b7244a01",
       "value": " 5/5 [00:00&lt;00:00, 15.75it/s]"
      }
     },
     "31dfb870de784e42bc4ca47c92d7cf11": {
      "model_module": "@jupyter-widgets/base",
      "model_module_version": "1.2.0",
      "model_name": "LayoutModel",
      "state": {}
     },
     "326a018b816e4ff0af5ad231f8ba2401": {
      "model_module": "@jupyter-widgets/controls",
      "model_module_version": "1.5.0",
      "model_name": "ProgressStyleModel",
      "state": {
       "description_width": ""
      }
     },
     "32b72a4d93564c2391ae47e40808b793": {
      "model_module": "@jupyter-widgets/controls",
      "model_module_version": "1.5.0",
      "model_name": "HBoxModel",
      "state": {
       "children": [
        "IPY_MODEL_2a7f34065540473389f2bbf18bc23ff3",
        "IPY_MODEL_e9ef44ded43b446797017b6ac0ad8acc",
        "IPY_MODEL_e78e7492b31444b8b7034520f49ff79d"
       ],
       "layout": "IPY_MODEL_95d1709ddabf403c9d7886349de5c292"
      }
     },
     "334620ca272f471f90a8e1aeb404254c": {
      "model_module": "@jupyter-widgets/base",
      "model_module_version": "1.2.0",
      "model_name": "LayoutModel",
      "state": {}
     },
     "3373620c89454a038accea4ba98435fa": {
      "model_module": "@jupyter-widgets/controls",
      "model_module_version": "1.5.0",
      "model_name": "ProgressStyleModel",
      "state": {
       "description_width": ""
      }
     },
     "33e1bf1af139446eb0116c3c04d1ecd2": {
      "model_module": "@jupyter-widgets/controls",
      "model_module_version": "1.5.0",
      "model_name": "HBoxModel",
      "state": {
       "children": [
        "IPY_MODEL_1a8170e378f74d8984fa327f41a01e42",
        "IPY_MODEL_11e735af4b08406e862f041c6c0f26b0",
        "IPY_MODEL_12928453226f4fca881d3c4ffae8d7ae"
       ],
       "layout": "IPY_MODEL_43b70da5c5bf4205990bcb0ef156f6fc"
      }
     },
     "3473e31569ed4d15b64ecc30fdd2cada": {
      "model_module": "@jupyter-widgets/base",
      "model_module_version": "1.2.0",
      "model_name": "LayoutModel",
      "state": {}
     },
     "34a5ecaac52146e88dbd369a65f431e0": {
      "model_module": "@jupyter-widgets/controls",
      "model_module_version": "1.5.0",
      "model_name": "FloatProgressModel",
      "state": {
       "bar_style": "success",
       "layout": "IPY_MODEL_b2e9ca5193e4440aa052775041fe9a41",
       "max": 5,
       "style": "IPY_MODEL_c06c1b0e3b414ca3bfc9220a8e058df8",
       "value": 5
      }
     },
     "34c2cd9842834f5eadb6a9129de9c534": {
      "model_module": "@jupyter-widgets/controls",
      "model_module_version": "1.5.0",
      "model_name": "HBoxModel",
      "state": {
       "children": [
        "IPY_MODEL_f41dd5cd620b4cf9b865e587a00954fb",
        "IPY_MODEL_23d613c72e6b485cbec85966ff84c134",
        "IPY_MODEL_d10ae682d131496aabf6bf75b3d279dc"
       ],
       "layout": "IPY_MODEL_61e8ad81caa24f288e4d5ba57a21a41f"
      }
     },
     "34e7ed9f5fa24efe9a808b3ef8fa0934": {
      "model_module": "@jupyter-widgets/controls",
      "model_module_version": "1.5.0",
      "model_name": "DescriptionStyleModel",
      "state": {
       "description_width": ""
      }
     },
     "354628058f82447796edcdb2d900eff3": {
      "model_module": "@jupyter-widgets/base",
      "model_module_version": "1.2.0",
      "model_name": "LayoutModel",
      "state": {}
     },
     "357326dedeff4f0f882abfe1aeae2963": {
      "model_module": "@jupyter-widgets/controls",
      "model_module_version": "1.5.0",
      "model_name": "DescriptionStyleModel",
      "state": {
       "description_width": ""
      }
     },
     "35ba7607151340e9a057c3a7d67ec20d": {
      "model_module": "@jupyter-widgets/base",
      "model_module_version": "1.2.0",
      "model_name": "LayoutModel",
      "state": {}
     },
     "360b862bcdb24b568456fd5a59a55642": {
      "model_module": "@jupyter-widgets/controls",
      "model_module_version": "1.5.0",
      "model_name": "DescriptionStyleModel",
      "state": {
       "description_width": ""
      }
     },
     "360b91ff0f94413e9e406a7d2cfad26b": {
      "model_module": "@jupyter-widgets/controls",
      "model_module_version": "1.5.0",
      "model_name": "ProgressStyleModel",
      "state": {
       "description_width": ""
      }
     },
     "363331a4738241a991a92eb17e9dbf7d": {
      "model_module": "@jupyter-widgets/base",
      "model_module_version": "1.2.0",
      "model_name": "LayoutModel",
      "state": {}
     },
     "365dce3bc689499ab556870c39ba310f": {
      "model_module": "@jupyter-widgets/controls",
      "model_module_version": "1.5.0",
      "model_name": "HBoxModel",
      "state": {
       "children": [
        "IPY_MODEL_455406475ab546b1bf39236e00d7e3c8",
        "IPY_MODEL_494ee87d5482464aab72384ba88a39b3",
        "IPY_MODEL_417655cce8274fa884526b5fe6c42b3c"
       ],
       "layout": "IPY_MODEL_b454a7fd5c9a439187b3b4616a6c7986"
      }
     },
     "3686218fa36d49a197a7318a2c661811": {
      "model_module": "@jupyter-widgets/controls",
      "model_module_version": "1.5.0",
      "model_name": "ProgressStyleModel",
      "state": {
       "description_width": ""
      }
     },
     "377bf55faa8448598f7e6eed2adfb2c8": {
      "model_module": "@jupyter-widgets/controls",
      "model_module_version": "1.5.0",
      "model_name": "DescriptionStyleModel",
      "state": {
       "description_width": ""
      }
     },
     "37c18feccc594307a4dcdc17b8fd03cb": {
      "model_module": "@jupyter-widgets/base",
      "model_module_version": "1.2.0",
      "model_name": "LayoutModel",
      "state": {}
     },
     "389f1c8c41ca41f2b207ed1890a8447b": {
      "model_module": "@jupyter-widgets/base",
      "model_module_version": "1.2.0",
      "model_name": "LayoutModel",
      "state": {}
     },
     "392691ca0ff14b7f8b87c211057629bc": {
      "model_module": "@jupyter-widgets/controls",
      "model_module_version": "1.5.0",
      "model_name": "HTMLModel",
      "state": {
       "layout": "IPY_MODEL_4ece269c63af4c4faf3c7fe013ecc9dd",
       "style": "IPY_MODEL_e999c81651be49fabf84d3194021330f",
       "value": "Epoch: 11. Validation. 0.52548: 100%"
      }
     },
     "3969796df6e3416689c17b22d1ac910a": {
      "model_module": "@jupyter-widgets/controls",
      "model_module_version": "1.5.0",
      "model_name": "HTMLModel",
      "state": {
       "layout": "IPY_MODEL_a9695b6ec7604a15aabc87ec7ae9043b",
       "style": "IPY_MODEL_666605d46c85463584e4ba2055643012",
       "value": "Epoch: 38. Validation. 0.32838: 100%"
      }
     },
     "3988facc97134b9eb75a639c84e435ca": {
      "model_module": "@jupyter-widgets/controls",
      "model_module_version": "1.5.0",
      "model_name": "HBoxModel",
      "state": {
       "children": [
        "IPY_MODEL_7362e672e1684086ab89760575b26bd4",
        "IPY_MODEL_fdcf5ed999594600908ade6b791483c6",
        "IPY_MODEL_5ffc67f72e084f2a937ce585ddee4aec"
       ],
       "layout": "IPY_MODEL_1dbc50df98b742b7858a74a8971db009"
      }
     },
     "3a0fdaa7bdf6467fbd59282f83e94241": {
      "model_module": "@jupyter-widgets/controls",
      "model_module_version": "1.5.0",
      "model_name": "FloatProgressModel",
      "state": {
       "bar_style": "success",
       "layout": "IPY_MODEL_1994922a13d14ffc8aa69ee10d0c580c",
       "max": 38,
       "style": "IPY_MODEL_22274f2045c24d2bafab61f2cd2b6001",
       "value": 38
      }
     },
     "3a520adfe75e4205b022600ddb638cd5": {
      "model_module": "@jupyter-widgets/base",
      "model_module_version": "1.2.0",
      "model_name": "LayoutModel",
      "state": {}
     },
     "3af704feb4624194af3eccb47c24a19c": {
      "model_module": "@jupyter-widgets/controls",
      "model_module_version": "1.5.0",
      "model_name": "HBoxModel",
      "state": {
       "children": [
        "IPY_MODEL_4acfdb1da355414283f9a541ee37f4a1",
        "IPY_MODEL_7d22e328413047e8a01de867381d3cac",
        "IPY_MODEL_c782af8cd9944ade817738562b8ffaa7"
       ],
       "layout": "IPY_MODEL_080d726b57b44365bd1b73d6cf6c6bef"
      }
     },
     "3b1afd9f37f14f47ae8c244754027201": {
      "model_module": "@jupyter-widgets/controls",
      "model_module_version": "1.5.0",
      "model_name": "DescriptionStyleModel",
      "state": {
       "description_width": ""
      }
     },
     "3b1df040131f4523b9cdb34c9dfda787": {
      "model_module": "@jupyter-widgets/base",
      "model_module_version": "1.2.0",
      "model_name": "LayoutModel",
      "state": {}
     },
     "3b3f7da64eaf461ea8a2dda3ceac7058": {
      "model_module": "@jupyter-widgets/controls",
      "model_module_version": "1.5.0",
      "model_name": "HTMLModel",
      "state": {
       "layout": "IPY_MODEL_7ed5e94847d04d369bbac8093d6451e3",
       "style": "IPY_MODEL_2d04648287ba4ebe976a5302c0938fa4",
       "value": "Epoch: 36. Validation. 0.31063: 100%"
      }
     },
     "3b7d84e700f74e9bb42959e349409e07": {
      "model_module": "@jupyter-widgets/base",
      "model_module_version": "1.2.0",
      "model_name": "LayoutModel",
      "state": {}
     },
     "3d0c8ec054804a4ea6838f3979f578c6": {
      "model_module": "@jupyter-widgets/controls",
      "model_module_version": "1.5.0",
      "model_name": "ProgressStyleModel",
      "state": {
       "description_width": ""
      }
     },
     "3d1f8670f5044e20b4480dcb00fff8e9": {
      "model_module": "@jupyter-widgets/controls",
      "model_module_version": "1.5.0",
      "model_name": "HTMLModel",
      "state": {
       "layout": "IPY_MODEL_af5742fa8ab943499052d6bb2d55e718",
       "style": "IPY_MODEL_14d5b978fbcb413b9cf1f37596f7abd1",
       "value": "Epoch: 33. Validation. 0.34088: 100%"
      }
     },
     "3d2351f62a5f4b2c8c22b6d3d7060850": {
      "model_module": "@jupyter-widgets/controls",
      "model_module_version": "1.5.0",
      "model_name": "DescriptionStyleModel",
      "state": {
       "description_width": ""
      }
     },
     "3d43e7bf8623431b9d8a123483229ce1": {
      "model_module": "@jupyter-widgets/base",
      "model_module_version": "1.2.0",
      "model_name": "LayoutModel",
      "state": {}
     },
     "3d5acf7945f749b488d334d7f770f193": {
      "model_module": "@jupyter-widgets/base",
      "model_module_version": "1.2.0",
      "model_name": "LayoutModel",
      "state": {}
     },
     "3de16a70ebf44ec8a8e42b1b03d358b7": {
      "model_module": "@jupyter-widgets/controls",
      "model_module_version": "1.5.0",
      "model_name": "DescriptionStyleModel",
      "state": {
       "description_width": ""
      }
     },
     "3eade038a02f46399e53000ec8410e03": {
      "model_module": "@jupyter-widgets/controls",
      "model_module_version": "1.5.0",
      "model_name": "FloatProgressModel",
      "state": {
       "bar_style": "success",
       "layout": "IPY_MODEL_999af09f90774e5d9aedb1a533e9cc91",
       "max": 38,
       "style": "IPY_MODEL_7fdb844261f84e34b7fe6207f079d65a",
       "value": 38
      }
     },
     "3f159829bb7940d7a1fdd00bd1d3b085": {
      "model_module": "@jupyter-widgets/controls",
      "model_module_version": "1.5.0",
      "model_name": "HTMLModel",
      "state": {
       "layout": "IPY_MODEL_73c6ed185b0a4d2286d072f2fafa8fee",
       "style": "IPY_MODEL_8ca5d67c715f4f3b812026667a1900d6",
       "value": "Epoch: 39. Validation. 0.31141: 100%"
      }
     },
     "3f59c4c970cf4a049fd97f4b2e8a0708": {
      "model_module": "@jupyter-widgets/base",
      "model_module_version": "1.2.0",
      "model_name": "LayoutModel",
      "state": {}
     },
     "3f97c5695bdc43749abff4c1979bef19": {
      "model_module": "@jupyter-widgets/controls",
      "model_module_version": "1.5.0",
      "model_name": "ProgressStyleModel",
      "state": {
       "description_width": ""
      }
     },
     "3f9af6bc974040958d2dfef44d51f90c": {
      "model_module": "@jupyter-widgets/base",
      "model_module_version": "1.2.0",
      "model_name": "LayoutModel",
      "state": {}
     },
     "3fdc2e2c5f274f3b8d23f5050bfb8250": {
      "model_module": "@jupyter-widgets/controls",
      "model_module_version": "1.5.0",
      "model_name": "HTMLModel",
      "state": {
       "layout": "IPY_MODEL_6e5bde52284b4b1b85ce0b9bd81c13ff",
       "style": "IPY_MODEL_994db9c8a62f4543a7efbbbc88dafb33",
       "value": " 5/5 [00:00&lt;00:00, 15.97it/s]"
      }
     },
     "402a18eeed04447989a0ab46d4d02b3c": {
      "model_module": "@jupyter-widgets/base",
      "model_module_version": "1.2.0",
      "model_name": "LayoutModel",
      "state": {}
     },
     "40a4083f132e4d2989a6aab89efb8803": {
      "model_module": "@jupyter-widgets/base",
      "model_module_version": "1.2.0",
      "model_name": "LayoutModel",
      "state": {}
     },
     "40d9698182e040b59acfac14c804d1cb": {
      "model_module": "@jupyter-widgets/base",
      "model_module_version": "1.2.0",
      "model_name": "LayoutModel",
      "state": {}
     },
     "40f3804df16e41fab09f8374bedcd28b": {
      "model_module": "@jupyter-widgets/controls",
      "model_module_version": "1.5.0",
      "model_name": "HTMLModel",
      "state": {
       "layout": "IPY_MODEL_84c99a25908b455492bd536890427dfa",
       "style": "IPY_MODEL_3d2351f62a5f4b2c8c22b6d3d7060850",
       "value": "Epoch: 30. Validation. 0.34191: 100%"
      }
     },
     "411bdfb83cc144c7979a5d1541f3da3c": {
      "model_module": "@jupyter-widgets/base",
      "model_module_version": "1.2.0",
      "model_name": "LayoutModel",
      "state": {}
     },
     "41490ab8c1df4321ac8f1b013a157423": {
      "model_module": "@jupyter-widgets/base",
      "model_module_version": "1.2.0",
      "model_name": "LayoutModel",
      "state": {}
     },
     "4175aefad439407f8a729507e717dc2e": {
      "model_module": "@jupyter-widgets/controls",
      "model_module_version": "1.5.0",
      "model_name": "DescriptionStyleModel",
      "state": {
       "description_width": ""
      }
     },
     "417655cce8274fa884526b5fe6c42b3c": {
      "model_module": "@jupyter-widgets/controls",
      "model_module_version": "1.5.0",
      "model_name": "HTMLModel",
      "state": {
       "layout": "IPY_MODEL_6bcf009f341c41e8875fc193e59cb8f0",
       "style": "IPY_MODEL_bda78ae4b25b403f8df9b80fa676f468",
       "value": " 5/5 [00:00&lt;00:00, 15.00it/s]"
      }
     },
     "4176c0a5012b4b47b8ec954839659bcd": {
      "model_module": "@jupyter-widgets/base",
      "model_module_version": "1.2.0",
      "model_name": "LayoutModel",
      "state": {}
     },
     "41c15ee1b3db486b901188c6414453ca": {
      "model_module": "@jupyter-widgets/controls",
      "model_module_version": "1.5.0",
      "model_name": "ProgressStyleModel",
      "state": {
       "description_width": ""
      }
     },
     "4261c7003ce440a5b644be03bfe3a63f": {
      "model_module": "@jupyter-widgets/base",
      "model_module_version": "1.2.0",
      "model_name": "LayoutModel",
      "state": {}
     },
     "428dfcc4403f4ae8a691b239dd5a3c1e": {
      "model_module": "@jupyter-widgets/controls",
      "model_module_version": "1.5.0",
      "model_name": "HTMLModel",
      "state": {
       "layout": "IPY_MODEL_2e283e4a81514886add4260f741e1148",
       "style": "IPY_MODEL_28fe7a12981c4630b9d6420bb8606838",
       "value": "Epoch: 21. Validation. 0.51666: 100%"
      }
     },
     "4381ab7f5cdc4a5d968157204e9a7661": {
      "model_module": "@jupyter-widgets/base",
      "model_module_version": "1.2.0",
      "model_name": "LayoutModel",
      "state": {}
     },
     "4383908e4a43480e9745ed06d7abf042": {
      "model_module": "@jupyter-widgets/controls",
      "model_module_version": "1.5.0",
      "model_name": "HTMLModel",
      "state": {
       "layout": "IPY_MODEL_de98d2566ba8483aa2695e44d43db89e",
       "style": "IPY_MODEL_c9adcb85a98c4e77828285aa9d789a9b",
       "value": " 5/5 [00:00&lt;00:00, 16.05it/s]"
      }
     },
     "43840697f57e4b2b917e2b451b47b16e": {
      "model_module": "@jupyter-widgets/base",
      "model_module_version": "1.2.0",
      "model_name": "LayoutModel",
      "state": {}
     },
     "43ad0252801f4cd98894862f9bbeabf1": {
      "model_module": "@jupyter-widgets/base",
      "model_module_version": "1.2.0",
      "model_name": "LayoutModel",
      "state": {}
     },
     "43b70da5c5bf4205990bcb0ef156f6fc": {
      "model_module": "@jupyter-widgets/base",
      "model_module_version": "1.2.0",
      "model_name": "LayoutModel",
      "state": {}
     },
     "43e3529d22144d3e9257c591b716502b": {
      "model_module": "@jupyter-widgets/controls",
      "model_module_version": "1.5.0",
      "model_name": "HTMLModel",
      "state": {
       "layout": "IPY_MODEL_76e77c8481ee4680bede2df73be2dc42",
       "style": "IPY_MODEL_e8b0c983576a4bbe86bf895406913e7b",
       "value": " 5/5 [00:00&lt;00:00, 16.02it/s]"
      }
     },
     "43fe9f60e90c493d80ff61e62e45cf49": {
      "model_module": "@jupyter-widgets/controls",
      "model_module_version": "1.5.0",
      "model_name": "DescriptionStyleModel",
      "state": {
       "description_width": ""
      }
     },
     "443be11d33c749669f5baad8d7728660": {
      "model_module": "@jupyter-widgets/controls",
      "model_module_version": "1.5.0",
      "model_name": "DescriptionStyleModel",
      "state": {
       "description_width": ""
      }
     },
     "4446a5a7032b4cdbaeb33e2e0f089ccf": {
      "model_module": "@jupyter-widgets/base",
      "model_module_version": "1.2.0",
      "model_name": "LayoutModel",
      "state": {}
     },
     "4476a5694cfe4d13a20ec61293b33084": {
      "model_module": "@jupyter-widgets/base",
      "model_module_version": "1.2.0",
      "model_name": "LayoutModel",
      "state": {}
     },
     "44a25d0884944a168de3267ef42339ef": {
      "model_module": "@jupyter-widgets/base",
      "model_module_version": "1.2.0",
      "model_name": "LayoutModel",
      "state": {}
     },
     "44b1689644724701b81796a36c8ccd58": {
      "model_module": "@jupyter-widgets/controls",
      "model_module_version": "1.5.0",
      "model_name": "HBoxModel",
      "state": {
       "children": [
        "IPY_MODEL_97590c77c77d4011979754d26819eb80",
        "IPY_MODEL_517d58c81b9e4b239a7a0654e83adf12",
        "IPY_MODEL_974108aeb533412bb487b627fd711953"
       ],
       "layout": "IPY_MODEL_4476a5694cfe4d13a20ec61293b33084"
      }
     },
     "44cedd3adebe4db5aa9d7ee604cf7c08": {
      "model_module": "@jupyter-widgets/base",
      "model_module_version": "1.2.0",
      "model_name": "LayoutModel",
      "state": {}
     },
     "450cda630474428c9f14ca490ef775ae": {
      "model_module": "@jupyter-widgets/controls",
      "model_module_version": "1.5.0",
      "model_name": "HBoxModel",
      "state": {
       "children": [
        "IPY_MODEL_3d1f8670f5044e20b4480dcb00fff8e9",
        "IPY_MODEL_56767083c7784023a90d9c8bc2ea5d3c",
        "IPY_MODEL_f13c553f6b7842baac3bd488d24dd3d6"
       ],
       "layout": "IPY_MODEL_b8dd06c8748e4186abfa39f8f85a5451"
      }
     },
     "453b4e3ddd00467ea7d89630c2d658e7": {
      "model_module": "@jupyter-widgets/base",
      "model_module_version": "1.2.0",
      "model_name": "LayoutModel",
      "state": {}
     },
     "455406475ab546b1bf39236e00d7e3c8": {
      "model_module": "@jupyter-widgets/controls",
      "model_module_version": "1.5.0",
      "model_name": "HTMLModel",
      "state": {
       "layout": "IPY_MODEL_0496f3f42bd44b3baf7c01dd55011ed1",
       "style": "IPY_MODEL_58ac6fb8008b488d814903d5a0e111bc",
       "value": "Epoch: 13. Validation. 0.47065: 100%"
      }
     },
     "45810fdfe44f4e958e9acb6ba56a9d46": {
      "model_module": "@jupyter-widgets/base",
      "model_module_version": "1.2.0",
      "model_name": "LayoutModel",
      "state": {}
     },
     "45a36828889347499f7b603129669378": {
      "model_module": "@jupyter-widgets/base",
      "model_module_version": "1.2.0",
      "model_name": "LayoutModel",
      "state": {}
     },
     "45f016745f4f4377a27dfe538f7bc331": {
      "model_module": "@jupyter-widgets/base",
      "model_module_version": "1.2.0",
      "model_name": "LayoutModel",
      "state": {}
     },
     "46a6c9b7aeb947848b262d513abd02cd": {
      "model_module": "@jupyter-widgets/controls",
      "model_module_version": "1.5.0",
      "model_name": "HBoxModel",
      "state": {
       "children": [
        "IPY_MODEL_ce9d9064cfae4262b1cc5be85d496633",
        "IPY_MODEL_899cd34ebc6c4b95b7f926900b918086",
        "IPY_MODEL_a9aa92573394455da6a4c40e9a03561c"
       ],
       "layout": "IPY_MODEL_8f1181831d114857b7c713faf68e693c"
      }
     },
     "47064fe2161e459b86442b9dab410e32": {
      "model_module": "@jupyter-widgets/base",
      "model_module_version": "1.2.0",
      "model_name": "LayoutModel",
      "state": {}
     },
     "4785cd5cefbc4c159bcc15bf346bcc56": {
      "model_module": "@jupyter-widgets/controls",
      "model_module_version": "1.5.0",
      "model_name": "FloatProgressModel",
      "state": {
       "bar_style": "success",
       "layout": "IPY_MODEL_e3810b0a473c4eff9a303979929a620f",
       "max": 38,
       "style": "IPY_MODEL_41c15ee1b3db486b901188c6414453ca",
       "value": 38
      }
     },
     "486ef0ca2c794a618be83b1dbc9768be": {
      "model_module": "@jupyter-widgets/base",
      "model_module_version": "1.2.0",
      "model_name": "LayoutModel",
      "state": {}
     },
     "48d4c30d76024984986a30f23bb6de2c": {
      "model_module": "@jupyter-widgets/controls",
      "model_module_version": "1.5.0",
      "model_name": "HTMLModel",
      "state": {
       "layout": "IPY_MODEL_f57ba9bfac5d4a4085e1e88e6eb4e0cc",
       "style": "IPY_MODEL_4ba7056dbc694e7aad7b5a9d9fe3f91e",
       "value": " 5/5 [00:00&lt;00:00, 15.33it/s]"
      }
     },
     "491801a6c56d4502a083129b401f61d5": {
      "model_module": "@jupyter-widgets/controls",
      "model_module_version": "1.5.0",
      "model_name": "HTMLModel",
      "state": {
       "layout": "IPY_MODEL_bb7b276c9d774978b6ecd61fa55ebfa7",
       "style": "IPY_MODEL_82da77a87842460b8acba2b9c2ae715c",
       "value": "Epoch: 19. Validation. 0.45717: 100%"
      }
     },
     "493b9bac9c2d40ef95203e382b4ae161": {
      "model_module": "@jupyter-widgets/controls",
      "model_module_version": "1.5.0",
      "model_name": "ProgressStyleModel",
      "state": {
       "description_width": ""
      }
     },
     "494ee87d5482464aab72384ba88a39b3": {
      "model_module": "@jupyter-widgets/controls",
      "model_module_version": "1.5.0",
      "model_name": "FloatProgressModel",
      "state": {
       "bar_style": "success",
       "layout": "IPY_MODEL_45f016745f4f4377a27dfe538f7bc331",
       "max": 5,
       "style": "IPY_MODEL_a6cc1fb970ed41f8b303b74d3a1b2b1a",
       "value": 5
      }
     },
     "495b43f92958494aafa5c38db75258b9": {
      "model_module": "@jupyter-widgets/controls",
      "model_module_version": "1.5.0",
      "model_name": "ProgressStyleModel",
      "state": {
       "description_width": ""
      }
     },
     "49835e82cceb4ed38c5780e12c4f9a7b": {
      "model_module": "@jupyter-widgets/base",
      "model_module_version": "1.2.0",
      "model_name": "LayoutModel",
      "state": {}
     },
     "498b052465ff404092c6a575d29e0f09": {
      "model_module": "@jupyter-widgets/base",
      "model_module_version": "1.2.0",
      "model_name": "LayoutModel",
      "state": {}
     },
     "4995b71bd0874d359306c2a8f045f91e": {
      "model_module": "@jupyter-widgets/controls",
      "model_module_version": "1.5.0",
      "model_name": "DescriptionStyleModel",
      "state": {
       "description_width": ""
      }
     },
     "49cbe62ea8d940f48eaacb89d1b75836": {
      "model_module": "@jupyter-widgets/controls",
      "model_module_version": "1.5.0",
      "model_name": "HTMLModel",
      "state": {
       "layout": "IPY_MODEL_0af9b94bf9fc48c1a72a980dba22e36a",
       "style": "IPY_MODEL_124a370069374feb8893caa37186bbe3",
       "value": "Epoch: 10. Train.    5.65158: 100%"
      }
     },
     "49ecf3e4b07f44d094462fbf499d5781": {
      "model_module": "@jupyter-widgets/base",
      "model_module_version": "1.2.0",
      "model_name": "LayoutModel",
      "state": {}
     },
     "4a11cb072ff942109b089eb34dbefcaa": {
      "model_module": "@jupyter-widgets/base",
      "model_module_version": "1.2.0",
      "model_name": "LayoutModel",
      "state": {}
     },
     "4a9ccc6152ee48cdac822be5ec03806a": {
      "model_module": "@jupyter-widgets/controls",
      "model_module_version": "1.5.0",
      "model_name": "FloatProgressModel",
      "state": {
       "bar_style": "success",
       "layout": "IPY_MODEL_889db66358704667b51864e6c59baa32",
       "max": 38,
       "style": "IPY_MODEL_8e805db7c44c48ca936e34f906ec7133",
       "value": 38
      }
     },
     "4accc62843f54e0aa70c34f06fd5a59e": {
      "model_module": "@jupyter-widgets/controls",
      "model_module_version": "1.5.0",
      "model_name": "DescriptionStyleModel",
      "state": {
       "description_width": ""
      }
     },
     "4acfdb1da355414283f9a541ee37f4a1": {
      "model_module": "@jupyter-widgets/controls",
      "model_module_version": "1.5.0",
      "model_name": "HTMLModel",
      "state": {
       "layout": "IPY_MODEL_31dfb870de784e42bc4ca47c92d7cf11",
       "style": "IPY_MODEL_34e7ed9f5fa24efe9a808b3ef8fa0934",
       "value": "Epoch: 20. Train.    4.89293: 100%"
      }
     },
     "4ad17e0c21be4490af2b67cb017c0daf": {
      "model_module": "@jupyter-widgets/base",
      "model_module_version": "1.2.0",
      "model_name": "LayoutModel",
      "state": {}
     },
     "4b3dd834f26844ae972999a34b93f79a": {
      "model_module": "@jupyter-widgets/base",
      "model_module_version": "1.2.0",
      "model_name": "LayoutModel",
      "state": {}
     },
     "4b3f7e5b89264dffa47fdf437b20adfc": {
      "model_module": "@jupyter-widgets/controls",
      "model_module_version": "1.5.0",
      "model_name": "HBoxModel",
      "state": {
       "children": [
        "IPY_MODEL_6e3156a74f3d4b44a2db71f7d280b6ea",
        "IPY_MODEL_dee40ced247a4503baf61a197781bf52",
        "IPY_MODEL_db5b29f2d04f421cac6f094b0c7af7c0"
       ],
       "layout": "IPY_MODEL_402a18eeed04447989a0ab46d4d02b3c"
      }
     },
     "4b528e6cb22145ebbf5ca22aac5bab90": {
      "model_module": "@jupyter-widgets/controls",
      "model_module_version": "1.5.0",
      "model_name": "DescriptionStyleModel",
      "state": {
       "description_width": ""
      }
     },
     "4ba7056dbc694e7aad7b5a9d9fe3f91e": {
      "model_module": "@jupyter-widgets/controls",
      "model_module_version": "1.5.0",
      "model_name": "DescriptionStyleModel",
      "state": {
       "description_width": ""
      }
     },
     "4c020ce779e0444a9db38413a7f9d647": {
      "model_module": "@jupyter-widgets/controls",
      "model_module_version": "1.5.0",
      "model_name": "HTMLModel",
      "state": {
       "layout": "IPY_MODEL_e872b18665a74efdab54724ce4dd0eed",
       "style": "IPY_MODEL_1940893fa7bf4e179d9969d2e3f0db2c",
       "value": "Epoch: 7. Train.    6.70079: 100%"
      }
     },
     "4c65384f1aaa4115807be490823a7165": {
      "model_module": "@jupyter-widgets/controls",
      "model_module_version": "1.5.0",
      "model_name": "HTMLModel",
      "state": {
       "layout": "IPY_MODEL_41490ab8c1df4321ac8f1b013a157423",
       "style": "IPY_MODEL_bbfa72bfcdd94eeba33abbb6dfb36abb",
       "value": "Epoch: 22. Validation. 0.37494: 100%"
      }
     },
     "4ce5124f02a14d248d07dbc14579e9a7": {
      "model_module": "@jupyter-widgets/base",
      "model_module_version": "1.2.0",
      "model_name": "LayoutModel",
      "state": {}
     },
     "4ce8844ef1f74e8fbd19dd406b17385b": {
      "model_module": "@jupyter-widgets/base",
      "model_module_version": "1.2.0",
      "model_name": "LayoutModel",
      "state": {}
     },
     "4d1e535da4234b9b80353cb312017791": {
      "model_module": "@jupyter-widgets/controls",
      "model_module_version": "1.5.0",
      "model_name": "HTMLModel",
      "state": {
       "layout": "IPY_MODEL_daef698ac6b3463bb89a1340c2aa0168",
       "style": "IPY_MODEL_17b291eab6d040168cef3a6704391de8",
       "value": "Epoch: 28. Train.    3.24622: 100%"
      }
     },
     "4d2a77b4980d4a298c86708fc4c217a1": {
      "model_module": "@jupyter-widgets/base",
      "model_module_version": "1.2.0",
      "model_name": "LayoutModel",
      "state": {}
     },
     "4debe2dfa59d41b1ac6ac87a9ab21535": {
      "model_module": "@jupyter-widgets/controls",
      "model_module_version": "1.5.0",
      "model_name": "ProgressStyleModel",
      "state": {
       "description_width": ""
      }
     },
     "4ece269c63af4c4faf3c7fe013ecc9dd": {
      "model_module": "@jupyter-widgets/base",
      "model_module_version": "1.2.0",
      "model_name": "LayoutModel",
      "state": {}
     },
     "4f907ffa03964fbabcc193c77a45d43b": {
      "model_module": "@jupyter-widgets/controls",
      "model_module_version": "1.5.0",
      "model_name": "HBoxModel",
      "state": {
       "children": [
        "IPY_MODEL_aa31580370d144d884b13656b18affc9",
        "IPY_MODEL_e7223543559b4b1cb78d036e5f8f1e3a",
        "IPY_MODEL_eb64cf786ee1496b8ffea597d918d6ca"
       ],
       "layout": "IPY_MODEL_5cece606cc844f0d9e6173a4c5f43880"
      }
     },
     "4f97c185df2b432aa10bd8eef2ee2a6b": {
      "model_module": "@jupyter-widgets/controls",
      "model_module_version": "1.5.0",
      "model_name": "ProgressStyleModel",
      "state": {
       "description_width": ""
      }
     },
     "4fbf7614abc346db9a0e2e7aabe21ebd": {
      "model_module": "@jupyter-widgets/controls",
      "model_module_version": "1.5.0",
      "model_name": "DescriptionStyleModel",
      "state": {
       "description_width": ""
      }
     },
     "501b6dd207204131a734e60664df3a11": {
      "model_module": "@jupyter-widgets/controls",
      "model_module_version": "1.5.0",
      "model_name": "DescriptionStyleModel",
      "state": {
       "description_width": ""
      }
     },
     "510e3791c50e41f3bb1cec7cd1d96264": {
      "model_module": "@jupyter-widgets/controls",
      "model_module_version": "1.5.0",
      "model_name": "DescriptionStyleModel",
      "state": {
       "description_width": ""
      }
     },
     "5164dac97e0c4c6d8c47af9dab402d16": {
      "model_module": "@jupyter-widgets/base",
      "model_module_version": "1.2.0",
      "model_name": "LayoutModel",
      "state": {}
     },
     "517d58c81b9e4b239a7a0654e83adf12": {
      "model_module": "@jupyter-widgets/controls",
      "model_module_version": "1.5.0",
      "model_name": "FloatProgressModel",
      "state": {
       "bar_style": "success",
       "layout": "IPY_MODEL_700870874f32435c8932ab0a7bf3247f",
       "max": 38,
       "style": "IPY_MODEL_1a4a7fd7430a45549c3b84d1da32634d",
       "value": 38
      }
     },
     "51a2ed590c3b4c42bf29d6a827fd0a01": {
      "model_module": "@jupyter-widgets/controls",
      "model_module_version": "1.5.0",
      "model_name": "ProgressStyleModel",
      "state": {
       "description_width": ""
      }
     },
     "51cef00ae7344d18901854be454ec080": {
      "model_module": "@jupyter-widgets/base",
      "model_module_version": "1.2.0",
      "model_name": "LayoutModel",
      "state": {}
     },
     "51ee537d374a46a8b13ad8c4953ec93f": {
      "model_module": "@jupyter-widgets/controls",
      "model_module_version": "1.5.0",
      "model_name": "HTMLModel",
      "state": {
       "layout": "IPY_MODEL_ee7f2bf45c86474ca91fa65c4d3a0b5f",
       "style": "IPY_MODEL_5bdba51b00454ceaaf93027cb06db6c6",
       "value": "Epoch: 32. Train.    3.21224: 100%"
      }
     },
     "5236097afc04449a99b0c04634a30502": {
      "model_module": "@jupyter-widgets/base",
      "model_module_version": "1.2.0",
      "model_name": "LayoutModel",
      "state": {}
     },
     "531b342fd90b42ea8b3b308872f89f27": {
      "model_module": "@jupyter-widgets/controls",
      "model_module_version": "1.5.0",
      "model_name": "FloatProgressModel",
      "state": {
       "bar_style": "success",
       "layout": "IPY_MODEL_912ef2cb88194a978d2ab98cc6e24962",
       "max": 5,
       "style": "IPY_MODEL_7d1907f4f83b46b09b1c4815e53bdd2f",
       "value": 5
      }
     },
     "53244fb559414df8b3587649c474f3d9": {
      "model_module": "@jupyter-widgets/base",
      "model_module_version": "1.2.0",
      "model_name": "LayoutModel",
      "state": {}
     },
     "539a528f4ea44b3f821ec36281c6a255": {
      "model_module": "@jupyter-widgets/controls",
      "model_module_version": "1.5.0",
      "model_name": "HTMLModel",
      "state": {
       "layout": "IPY_MODEL_f9d05891f2fa41079a8df516b9bea557",
       "style": "IPY_MODEL_f568127ea93447e99779a93e1dc19397",
       "value": " 5/5 [00:00&lt;00:00, 15.94it/s]"
      }
     },
     "53e9cd2f73cb4e3ab0dfaab07b08040c": {
      "model_module": "@jupyter-widgets/base",
      "model_module_version": "1.2.0",
      "model_name": "LayoutModel",
      "state": {}
     },
     "54ff51aaacbe4e05aed376b3ce20bafd": {
      "model_module": "@jupyter-widgets/controls",
      "model_module_version": "1.5.0",
      "model_name": "HBoxModel",
      "state": {
       "children": [
        "IPY_MODEL_cb9cdfd17b1745a3b5c1b469f7d6dd98",
        "IPY_MODEL_a5279628b3ba45d3bde8cf3ac2ea7659",
        "IPY_MODEL_2b7bfb8258704b53b5f1eb7061d11dd9"
       ],
       "layout": "IPY_MODEL_03ed26b11e024b39bc52a080279f7110"
      }
     },
     "558191e4e78f419081c8dfffe94804ef": {
      "model_module": "@jupyter-widgets/controls",
      "model_module_version": "1.5.0",
      "model_name": "HTMLModel",
      "state": {
       "layout": "IPY_MODEL_59a176b526b94729b09d142407fe6aa4",
       "style": "IPY_MODEL_d65a5fcc72294f98b95c15ced3bf6553",
       "value": " 38/38 [00:01&lt;00:00, 27.45it/s]"
      }
     },
     "55f23fbf5b3340208f7923f9bc04122f": {
      "model_module": "@jupyter-widgets/controls",
      "model_module_version": "1.5.0",
      "model_name": "DescriptionStyleModel",
      "state": {
       "description_width": ""
      }
     },
     "5655d1c0f2ad4756849c99d4116359e5": {
      "model_module": "@jupyter-widgets/controls",
      "model_module_version": "1.5.0",
      "model_name": "HTMLModel",
      "state": {
       "layout": "IPY_MODEL_4b3dd834f26844ae972999a34b93f79a",
       "style": "IPY_MODEL_068aabac68e24e4bbbbcc5a4613ee178",
       "value": "Epoch: 27. Train.    3.35258: 100%"
      }
     },
     "56767083c7784023a90d9c8bc2ea5d3c": {
      "model_module": "@jupyter-widgets/controls",
      "model_module_version": "1.5.0",
      "model_name": "FloatProgressModel",
      "state": {
       "bar_style": "success",
       "layout": "IPY_MODEL_de25af0eb77444759f8e357140f0689b",
       "max": 5,
       "style": "IPY_MODEL_89fa3db98fd6481492f23d428a259167",
       "value": 5
      }
     },
     "56ae30783674432db8ffca1452db04c5": {
      "model_module": "@jupyter-widgets/controls",
      "model_module_version": "1.5.0",
      "model_name": "DescriptionStyleModel",
      "state": {
       "description_width": ""
      }
     },
     "56c4ea03f6ec4570ad058768783525ff": {
      "model_module": "@jupyter-widgets/base",
      "model_module_version": "1.2.0",
      "model_name": "LayoutModel",
      "state": {}
     },
     "56ffdfe119494cce9c2f41b45ac3ec5f": {
      "model_module": "@jupyter-widgets/controls",
      "model_module_version": "1.5.0",
      "model_name": "DescriptionStyleModel",
      "state": {
       "description_width": ""
      }
     },
     "572acedf45db449c9760388ec192f1d4": {
      "model_module": "@jupyter-widgets/controls",
      "model_module_version": "1.5.0",
      "model_name": "HTMLModel",
      "state": {
       "layout": "IPY_MODEL_ccd663b5f988468cbf22277fa579355c",
       "style": "IPY_MODEL_c918b89590df408a8c7181c97098c10e",
       "value": " 38/38 [00:01&lt;00:00, 24.22it/s]"
      }
     },
     "578f8c67222a49938ce0d0e4a3f1350f": {
      "model_module": "@jupyter-widgets/controls",
      "model_module_version": "1.5.0",
      "model_name": "HTMLModel",
      "state": {
       "layout": "IPY_MODEL_ecab1304d5d542caa9abc366a8a67578",
       "style": "IPY_MODEL_e3dd419791b6405e8491ac088c37f7af",
       "value": "Epoch: 15. Train.    4.35526: 100%"
      }
     },
     "57d282eac3014e5cb37a503dc0ca9d6d": {
      "model_module": "@jupyter-widgets/controls",
      "model_module_version": "1.5.0",
      "model_name": "HBoxModel",
      "state": {
       "children": [
        "IPY_MODEL_c1fbb52d6298463ba4dddfc44811f971",
        "IPY_MODEL_8ce2ee38499c42baa526435a457bf67b",
        "IPY_MODEL_a22291ae91694755b5c0b0262da77441"
       ],
       "layout": "IPY_MODEL_e3f9b72dfab24176b56109fa9726ac0c"
      }
     },
     "57f67317149e44e78a5c838d04dd41b2": {
      "model_module": "@jupyter-widgets/controls",
      "model_module_version": "1.5.0",
      "model_name": "HTMLModel",
      "state": {
       "layout": "IPY_MODEL_0b31fb6ed02b4a9291b63de778a81355",
       "style": "IPY_MODEL_18a370c52a1a4da78acfeba669ee1973",
       "value": " 38/38 [00:01&lt;00:00, 25.57it/s]"
      }
     },
     "580c3744809442e1aa8d3ca036d95af4": {
      "model_module": "@jupyter-widgets/base",
      "model_module_version": "1.2.0",
      "model_name": "LayoutModel",
      "state": {}
     },
     "5850efbfd38e4e8eb6ebc5e0d2ca1598": {
      "model_module": "@jupyter-widgets/controls",
      "model_module_version": "1.5.0",
      "model_name": "HTMLModel",
      "state": {
       "layout": "IPY_MODEL_cb2f5600024745eaa633febc0405ada6",
       "style": "IPY_MODEL_ce697d7440d24bfc9a9c1c2b3a0fbbf8",
       "value": " 5/5 [00:00&lt;00:00, 15.81it/s]"
      }
     },
     "585cff6e7a8144c8adfbcf35fca11aaf": {
      "model_module": "@jupyter-widgets/controls",
      "model_module_version": "1.5.0",
      "model_name": "ProgressStyleModel",
      "state": {
       "description_width": ""
      }
     },
     "58830384f135415b8bb5afa577c77c28": {
      "model_module": "@jupyter-widgets/base",
      "model_module_version": "1.2.0",
      "model_name": "LayoutModel",
      "state": {}
     },
     "58a7c8ae5699448fa52a843186e412a1": {
      "model_module": "@jupyter-widgets/base",
      "model_module_version": "1.2.0",
      "model_name": "LayoutModel",
      "state": {}
     },
     "58ac6fb8008b488d814903d5a0e111bc": {
      "model_module": "@jupyter-widgets/controls",
      "model_module_version": "1.5.0",
      "model_name": "DescriptionStyleModel",
      "state": {
       "description_width": ""
      }
     },
     "58bf4cd23a0f4f7181be42731f8283cb": {
      "model_module": "@jupyter-widgets/controls",
      "model_module_version": "1.5.0",
      "model_name": "HBoxModel",
      "state": {
       "children": [
        "IPY_MODEL_40f3804df16e41fab09f8374bedcd28b",
        "IPY_MODEL_9fa21fa0c0194180b7a65aa201416e86",
        "IPY_MODEL_29ed41139c654ddba0d1ef30e6bae182"
       ],
       "layout": "IPY_MODEL_c3ccd4337cc540e4b86aea153bb28b7e"
      }
     },
     "59215be4bd6242679a4a13fe60d1457a": {
      "model_module": "@jupyter-widgets/controls",
      "model_module_version": "1.5.0",
      "model_name": "ProgressStyleModel",
      "state": {
       "description_width": ""
      }
     },
     "59a176b526b94729b09d142407fe6aa4": {
      "model_module": "@jupyter-widgets/base",
      "model_module_version": "1.2.0",
      "model_name": "LayoutModel",
      "state": {}
     },
     "5a968d2d6386471a95a8cb9239edcb40": {
      "model_module": "@jupyter-widgets/controls",
      "model_module_version": "1.5.0",
      "model_name": "ProgressStyleModel",
      "state": {
       "description_width": ""
      }
     },
     "5af92b1c435547b08688f2ccbb8a3bfd": {
      "model_module": "@jupyter-widgets/controls",
      "model_module_version": "1.5.0",
      "model_name": "HBoxModel",
      "state": {
       "children": [
        "IPY_MODEL_cb6236884142497291fe9738b2ce0a74",
        "IPY_MODEL_22d54daca2b647d3b1ed3be956c18732",
        "IPY_MODEL_803f233568a5441db623bf5663e71b52"
       ],
       "layout": "IPY_MODEL_44cedd3adebe4db5aa9d7ee604cf7c08"
      }
     },
     "5bdba51b00454ceaaf93027cb06db6c6": {
      "model_module": "@jupyter-widgets/controls",
      "model_module_version": "1.5.0",
      "model_name": "DescriptionStyleModel",
      "state": {
       "description_width": ""
      }
     },
     "5c9363af5ee64717a26980c59f4f3f72": {
      "model_module": "@jupyter-widgets/base",
      "model_module_version": "1.2.0",
      "model_name": "LayoutModel",
      "state": {}
     },
     "5cece606cc844f0d9e6173a4c5f43880": {
      "model_module": "@jupyter-widgets/base",
      "model_module_version": "1.2.0",
      "model_name": "LayoutModel",
      "state": {}
     },
     "5cef95a8efb54860afb64889d7d9928d": {
      "model_module": "@jupyter-widgets/controls",
      "model_module_version": "1.5.0",
      "model_name": "HTMLModel",
      "state": {
       "layout": "IPY_MODEL_d19a8d2d0ac3429b89eb282b7d612449",
       "style": "IPY_MODEL_55f23fbf5b3340208f7923f9bc04122f",
       "value": "Epoch: 25. Validation. 0.36757: 100%"
      }
     },
     "5d1edbb609ed4fc8b1ac86ffc6346e3a": {
      "model_module": "@jupyter-widgets/base",
      "model_module_version": "1.2.0",
      "model_name": "LayoutModel",
      "state": {}
     },
     "5d60c90a4e8045ea8d3fcd21aca347bc": {
      "model_module": "@jupyter-widgets/controls",
      "model_module_version": "1.5.0",
      "model_name": "DescriptionStyleModel",
      "state": {
       "description_width": ""
      }
     },
     "5d62c64e4c104e49a13714a69799994c": {
      "model_module": "@jupyter-widgets/controls",
      "model_module_version": "1.5.0",
      "model_name": "FloatProgressModel",
      "state": {
       "bar_style": "success",
       "layout": "IPY_MODEL_53e9cd2f73cb4e3ab0dfaab07b08040c",
       "max": 5,
       "style": "IPY_MODEL_bee77831cab0416dbbdad78fa27ab7a6",
       "value": 5
      }
     },
     "5d721f44e441440b91ee6cf6554d35e2": {
      "model_module": "@jupyter-widgets/controls",
      "model_module_version": "1.5.0",
      "model_name": "FloatProgressModel",
      "state": {
       "bar_style": "success",
       "layout": "IPY_MODEL_ba9ca109be7a4b3d98cfa2bdedda01b8",
       "max": 5,
       "style": "IPY_MODEL_4debe2dfa59d41b1ac6ac87a9ab21535",
       "value": 5
      }
     },
     "5db65efd6f4342bcb2e4b84364a4a1b1": {
      "model_module": "@jupyter-widgets/base",
      "model_module_version": "1.2.0",
      "model_name": "LayoutModel",
      "state": {}
     },
     "5e330fe01d5c432ea8a8ced94fa7ba70": {
      "model_module": "@jupyter-widgets/controls",
      "model_module_version": "1.5.0",
      "model_name": "ProgressStyleModel",
      "state": {
       "description_width": ""
      }
     },
     "5f1c5fcfc17340e3b5e519f10f31bb88": {
      "model_module": "@jupyter-widgets/base",
      "model_module_version": "1.2.0",
      "model_name": "LayoutModel",
      "state": {}
     },
     "5f62baab3cf442f8ad85f6c4ca1ad4bc": {
      "model_module": "@jupyter-widgets/controls",
      "model_module_version": "1.5.0",
      "model_name": "HTMLModel",
      "state": {
       "layout": "IPY_MODEL_92f96f61f5934dcbb9338f076e81c9f9",
       "style": "IPY_MODEL_e0a9be59b26e49159c5d5b5f0554ee3b",
       "value": " 38/38 [00:01&lt;00:00, 26.56it/s]"
      }
     },
     "5f8dceea1f0b430e98e6a103af470eee": {
      "model_module": "@jupyter-widgets/controls",
      "model_module_version": "1.5.0",
      "model_name": "DescriptionStyleModel",
      "state": {
       "description_width": ""
      }
     },
     "5fe3b0088425431697d05546759374ad": {
      "model_module": "@jupyter-widgets/controls",
      "model_module_version": "1.5.0",
      "model_name": "HBoxModel",
      "state": {
       "children": [
        "IPY_MODEL_f06892c856e04958a415704f8b1c569a",
        "IPY_MODEL_07e2cdcf4aad4b9fbf7d445c61962243",
        "IPY_MODEL_558191e4e78f419081c8dfffe94804ef"
       ],
       "layout": "IPY_MODEL_dcda12efb5844776836e0524f52c76b9"
      }
     },
     "5ffc67f72e084f2a937ce585ddee4aec": {
      "model_module": "@jupyter-widgets/controls",
      "model_module_version": "1.5.0",
      "model_name": "HTMLModel",
      "state": {
       "layout": "IPY_MODEL_ecd068db946c42c9a031ef704d58d6cb",
       "style": "IPY_MODEL_87b9e5d1e99c4227bd46b15b5e1aeaac",
       "value": " 38/38 [00:01&lt;00:00, 26.91it/s]"
      }
     },
     "60a726c152f94e9faf0bf852cc562b24": {
      "model_module": "@jupyter-widgets/controls",
      "model_module_version": "1.5.0",
      "model_name": "HTMLModel",
      "state": {
       "layout": "IPY_MODEL_1aec954226034bcbb87c765ceb79ab89",
       "style": "IPY_MODEL_c0659ef12a614a06a2366155b63dd321",
       "value": "Epoch: 18. Validation. 0.42387: 100%"
      }
     },
     "6138885e00a8432ca62a63201b46ff26": {
      "model_module": "@jupyter-widgets/controls",
      "model_module_version": "1.5.0",
      "model_name": "FloatProgressModel",
      "state": {
       "bar_style": "success",
       "layout": "IPY_MODEL_486ef0ca2c794a618be83b1dbc9768be",
       "max": 5,
       "style": "IPY_MODEL_4f97c185df2b432aa10bd8eef2ee2a6b",
       "value": 5
      }
     },
     "6144136708574278b68194a6fda37598": {
      "model_module": "@jupyter-widgets/controls",
      "model_module_version": "1.5.0",
      "model_name": "HBoxModel",
      "state": {
       "children": [
        "IPY_MODEL_f4fe1d705c47448fae23c111ebfea01d",
        "IPY_MODEL_0364bb39b5ac442d851a8b596921bf48",
        "IPY_MODEL_a3df105f662840748af766f8998f4b77"
       ],
       "layout": "IPY_MODEL_b7e4ae76517c4428925e5a6d574b54c6"
      }
     },
     "61d1eb4079264a8e98737dea9138c977": {
      "model_module": "@jupyter-widgets/base",
      "model_module_version": "1.2.0",
      "model_name": "LayoutModel",
      "state": {}
     },
     "61e8ad81caa24f288e4d5ba57a21a41f": {
      "model_module": "@jupyter-widgets/base",
      "model_module_version": "1.2.0",
      "model_name": "LayoutModel",
      "state": {}
     },
     "62414a58c62f40a681145797c7fdba4c": {
      "model_module": "@jupyter-widgets/controls",
      "model_module_version": "1.5.0",
      "model_name": "DescriptionStyleModel",
      "state": {
       "description_width": ""
      }
     },
     "6254e762615947eaafc3e15178b53c41": {
      "model_module": "@jupyter-widgets/controls",
      "model_module_version": "1.5.0",
      "model_name": "FloatProgressModel",
      "state": {
       "bar_style": "success",
       "layout": "IPY_MODEL_58830384f135415b8bb5afa577c77c28",
       "max": 5,
       "style": "IPY_MODEL_803240aa86b7479aabfd28d814657d30",
       "value": 5
      }
     },
     "62a16da0c1854d45ac725cbd5332bcb1": {
      "model_module": "@jupyter-widgets/controls",
      "model_module_version": "1.5.0",
      "model_name": "HTMLModel",
      "state": {
       "layout": "IPY_MODEL_580c3744809442e1aa8d3ca036d95af4",
       "style": "IPY_MODEL_f5b6d250f0cd421db923412c3a10a4f2",
       "value": "Epoch: 4. Validation. 0.95510: 100%"
      }
     },
     "62d2cea9456949da8494c03ed0c94edc": {
      "model_module": "@jupyter-widgets/base",
      "model_module_version": "1.2.0",
      "model_name": "LayoutModel",
      "state": {}
     },
     "63a17a6fd0e74aa9a9e865d1f3c51df9": {
      "model_module": "@jupyter-widgets/controls",
      "model_module_version": "1.5.0",
      "model_name": "HBoxModel",
      "state": {
       "children": [
        "IPY_MODEL_dc79347678a54a87b1a2d3b916fd0c0c",
        "IPY_MODEL_cc179d802f594ccabfd835f67d5bbfe9",
        "IPY_MODEL_7826a22678a74e8b9bd0fd7f0393f24e"
       ],
       "layout": "IPY_MODEL_63be8e87ce0d40c88875a5a5ce2a2acf"
      }
     },
     "63be8e87ce0d40c88875a5a5ce2a2acf": {
      "model_module": "@jupyter-widgets/base",
      "model_module_version": "1.2.0",
      "model_name": "LayoutModel",
      "state": {}
     },
     "642eddf8b3dd47258dcd5f63b0f09273": {
      "model_module": "@jupyter-widgets/controls",
      "model_module_version": "1.5.0",
      "model_name": "FloatProgressModel",
      "state": {
       "bar_style": "success",
       "layout": "IPY_MODEL_6b2820ed1c434e2e88a7ac89d2d9495b",
       "max": 38,
       "style": "IPY_MODEL_21c91fab9d34472e89011acfe2545dc5",
       "value": 38
      }
     },
     "6437e421415b45acaacb04ed0e5a339c": {
      "model_module": "@jupyter-widgets/controls",
      "model_module_version": "1.5.0",
      "model_name": "ProgressStyleModel",
      "state": {
       "description_width": ""
      }
     },
     "643a8e6f7a204d5c89740b2b9bd32fd0": {
      "model_module": "@jupyter-widgets/base",
      "model_module_version": "1.2.0",
      "model_name": "LayoutModel",
      "state": {}
     },
     "644f8111ae37483db33637cabd945c24": {
      "model_module": "@jupyter-widgets/base",
      "model_module_version": "1.2.0",
      "model_name": "LayoutModel",
      "state": {}
     },
     "6499914a55734efaab56e6e781c80869": {
      "model_module": "@jupyter-widgets/controls",
      "model_module_version": "1.5.0",
      "model_name": "ProgressStyleModel",
      "state": {
       "description_width": ""
      }
     },
     "64ff7a7a94eb43088f82268eec7e53f0": {
      "model_module": "@jupyter-widgets/controls",
      "model_module_version": "1.5.0",
      "model_name": "ProgressStyleModel",
      "state": {
       "description_width": ""
      }
     },
     "6592426d42a44684a22a66c7967a6a32": {
      "model_module": "@jupyter-widgets/base",
      "model_module_version": "1.2.0",
      "model_name": "LayoutModel",
      "state": {}
     },
     "65c980f16eab4117903b4f9300925303": {
      "model_module": "@jupyter-widgets/controls",
      "model_module_version": "1.5.0",
      "model_name": "HBoxModel",
      "state": {
       "children": [
        "IPY_MODEL_080588838c944aff9bf1839541b66267",
        "IPY_MODEL_03bde15f5f42460e87125cd55ffecd83",
        "IPY_MODEL_0e627fe38685449bac261669f1f20c59"
       ],
       "layout": "IPY_MODEL_88140ac4e22749989431a105f4c4ea18"
      }
     },
     "65eacc7f06e04778ad107c355ab51e3d": {
      "model_module": "@jupyter-widgets/controls",
      "model_module_version": "1.5.0",
      "model_name": "HTMLModel",
      "state": {
       "layout": "IPY_MODEL_a43bac4a2b864a879c8db7a410b9b3a1",
       "style": "IPY_MODEL_040ed9831d9d49c9ba731ad75d649e02",
       "value": " 38/38 [00:01&lt;00:00, 26.88it/s]"
      }
     },
     "66396a668402486990277f585a3376df": {
      "model_module": "@jupyter-widgets/base",
      "model_module_version": "1.2.0",
      "model_name": "LayoutModel",
      "state": {}
     },
     "666605d46c85463584e4ba2055643012": {
      "model_module": "@jupyter-widgets/controls",
      "model_module_version": "1.5.0",
      "model_name": "DescriptionStyleModel",
      "state": {
       "description_width": ""
      }
     },
     "66dcf300a7774cfe80898798868c8e22": {
      "model_module": "@jupyter-widgets/controls",
      "model_module_version": "1.5.0",
      "model_name": "DescriptionStyleModel",
      "state": {
       "description_width": ""
      }
     },
     "676a54a08ca54773aea266157fbe2c1e": {
      "model_module": "@jupyter-widgets/base",
      "model_module_version": "1.2.0",
      "model_name": "LayoutModel",
      "state": {}
     },
     "679de07a65aa4a3e829ee6af954102e7": {
      "model_module": "@jupyter-widgets/controls",
      "model_module_version": "1.5.0",
      "model_name": "ProgressStyleModel",
      "state": {
       "description_width": ""
      }
     },
     "67a933f49c894973bd26c6a8ac8dcbef": {
      "model_module": "@jupyter-widgets/base",
      "model_module_version": "1.2.0",
      "model_name": "LayoutModel",
      "state": {}
     },
     "67e58d6cd841413597b34065e676c494": {
      "model_module": "@jupyter-widgets/base",
      "model_module_version": "1.2.0",
      "model_name": "LayoutModel",
      "state": {}
     },
     "689765e0afb746e3a117215defa30236": {
      "model_module": "@jupyter-widgets/base",
      "model_module_version": "1.2.0",
      "model_name": "LayoutModel",
      "state": {}
     },
     "689d0cd3b71b49518a930ab705fcef42": {
      "model_module": "@jupyter-widgets/base",
      "model_module_version": "1.2.0",
      "model_name": "LayoutModel",
      "state": {}
     },
     "699d67f5d4a543e099739d1af4cbdb97": {
      "model_module": "@jupyter-widgets/controls",
      "model_module_version": "1.5.0",
      "model_name": "DescriptionStyleModel",
      "state": {
       "description_width": ""
      }
     },
     "69a2aa63494c4540bb3c546ba7c4d218": {
      "model_module": "@jupyter-widgets/base",
      "model_module_version": "1.2.0",
      "model_name": "LayoutModel",
      "state": {}
     },
     "69d03ece7ac74681af8ef791d8cb9b9b": {
      "model_module": "@jupyter-widgets/controls",
      "model_module_version": "1.5.0",
      "model_name": "HBoxModel",
      "state": {
       "children": [
        "IPY_MODEL_8f9270ce711741699cd900377a1c489b",
        "IPY_MODEL_0b32e60ee1ee4867ae401e8804cb741b",
        "IPY_MODEL_960e00774cd34ea18de40c7c487e3cd3"
       ],
       "layout": "IPY_MODEL_4ce8844ef1f74e8fbd19dd406b17385b"
      }
     },
     "6a1757596c4946849993396fb71e14ad": {
      "model_module": "@jupyter-widgets/base",
      "model_module_version": "1.2.0",
      "model_name": "LayoutModel",
      "state": {}
     },
     "6a83700f5f79467f8a1e8fd67e1aff05": {
      "model_module": "@jupyter-widgets/controls",
      "model_module_version": "1.5.0",
      "model_name": "HBoxModel",
      "state": {
       "children": [
        "IPY_MODEL_1c2aed8c88664bd8b7709970d8d6cd05",
        "IPY_MODEL_16197572772e49e99d14a91880245de9",
        "IPY_MODEL_739391ac5d924b549cd018ca3105176b"
       ],
       "layout": "IPY_MODEL_19679e214c94482782efd0dc9405b5ed"
      }
     },
     "6a89a8a022b94a419dd2ef11a459be44": {
      "model_module": "@jupyter-widgets/base",
      "model_module_version": "1.2.0",
      "model_name": "LayoutModel",
      "state": {}
     },
     "6b2820ed1c434e2e88a7ac89d2d9495b": {
      "model_module": "@jupyter-widgets/base",
      "model_module_version": "1.2.0",
      "model_name": "LayoutModel",
      "state": {}
     },
     "6b5e148a3f204304828eb6a3aa14d603": {
      "model_module": "@jupyter-widgets/controls",
      "model_module_version": "1.5.0",
      "model_name": "DescriptionStyleModel",
      "state": {
       "description_width": ""
      }
     },
     "6bb916518c0848d5ba5feedcff0908f7": {
      "model_module": "@jupyter-widgets/base",
      "model_module_version": "1.2.0",
      "model_name": "LayoutModel",
      "state": {}
     },
     "6bcf009f341c41e8875fc193e59cb8f0": {
      "model_module": "@jupyter-widgets/base",
      "model_module_version": "1.2.0",
      "model_name": "LayoutModel",
      "state": {}
     },
     "6c0f6164197a43e7bb335db221fc7fa2": {
      "model_module": "@jupyter-widgets/controls",
      "model_module_version": "1.5.0",
      "model_name": "ProgressStyleModel",
      "state": {
       "description_width": ""
      }
     },
     "6d274f658b924072bc3c21f42475a5c2": {
      "model_module": "@jupyter-widgets/base",
      "model_module_version": "1.2.0",
      "model_name": "LayoutModel",
      "state": {}
     },
     "6df298061d444b56817081e538c924cf": {
      "model_module": "@jupyter-widgets/controls",
      "model_module_version": "1.5.0",
      "model_name": "HBoxModel",
      "state": {
       "children": [
        "IPY_MODEL_9a889dfa4aa543599bf6156124bd8536",
        "IPY_MODEL_c07921f759f94d67b595c1491553888d",
        "IPY_MODEL_572acedf45db449c9760388ec192f1d4"
       ],
       "layout": "IPY_MODEL_94082a704f91483eb3d0eb88c0f3a61b"
      }
     },
     "6e3156a74f3d4b44a2db71f7d280b6ea": {
      "model_module": "@jupyter-widgets/controls",
      "model_module_version": "1.5.0",
      "model_name": "HTMLModel",
      "state": {
       "layout": "IPY_MODEL_35ba7607151340e9a057c3a7d67ec20d",
       "style": "IPY_MODEL_3de16a70ebf44ec8a8e42b1b03d358b7",
       "value": "Epoch: 12. Validation. 0.56646: 100%"
      }
     },
     "6e58b1794fab4bc999ff268545943274": {
      "model_module": "@jupyter-widgets/base",
      "model_module_version": "1.2.0",
      "model_name": "LayoutModel",
      "state": {}
     },
     "6e5bde52284b4b1b85ce0b9bd81c13ff": {
      "model_module": "@jupyter-widgets/base",
      "model_module_version": "1.2.0",
      "model_name": "LayoutModel",
      "state": {}
     },
     "6e6816778de14406b7bb34fa4f9dde0b": {
      "model_module": "@jupyter-widgets/base",
      "model_module_version": "1.2.0",
      "model_name": "LayoutModel",
      "state": {}
     },
     "6facdbc40fab4eae9495fbffa0c21dfe": {
      "model_module": "@jupyter-widgets/base",
      "model_module_version": "1.2.0",
      "model_name": "LayoutModel",
      "state": {}
     },
     "6fe0951e412143fd927069d59882dd15": {
      "model_module": "@jupyter-widgets/controls",
      "model_module_version": "1.5.0",
      "model_name": "HTMLModel",
      "state": {
       "layout": "IPY_MODEL_2ee22eccffe14fa3ba6023f720ac497c",
       "style": "IPY_MODEL_ee8acd79272d4372b1923d8e38dc888a",
       "value": "Epoch: 3. Validation. 1.17715: 100%"
      }
     },
     "700870874f32435c8932ab0a7bf3247f": {
      "model_module": "@jupyter-widgets/base",
      "model_module_version": "1.2.0",
      "model_name": "LayoutModel",
      "state": {}
     },
     "700e63373074463284a3e390f9e23994": {
      "model_module": "@jupyter-widgets/controls",
      "model_module_version": "1.5.0",
      "model_name": "HBoxModel",
      "state": {
       "children": [
        "IPY_MODEL_c33c2e0001ac49b383ee9a2402c9bd77",
        "IPY_MODEL_3eade038a02f46399e53000ec8410e03",
        "IPY_MODEL_edcd2d069478417697776c58c207fd6d"
       ],
       "layout": "IPY_MODEL_2dbe51e0035f456ebb672c1b6da7a5d9"
      }
     },
     "70274055ca244cd7b9e5dfe5006a2f61": {
      "model_module": "@jupyter-widgets/base",
      "model_module_version": "1.2.0",
      "model_name": "LayoutModel",
      "state": {}
     },
     "7038885219214cabb9b1c948e54df9c0": {
      "model_module": "@jupyter-widgets/controls",
      "model_module_version": "1.5.0",
      "model_name": "ProgressStyleModel",
      "state": {
       "description_width": ""
      }
     },
     "70f1599537af470aa236bc74e8d45574": {
      "model_module": "@jupyter-widgets/controls",
      "model_module_version": "1.5.0",
      "model_name": "DescriptionStyleModel",
      "state": {
       "description_width": ""
      }
     },
     "70f76aab4d984d60bb8358bff8a85de5": {
      "model_module": "@jupyter-widgets/controls",
      "model_module_version": "1.5.0",
      "model_name": "HBoxModel",
      "state": {
       "children": [
        "IPY_MODEL_bd70a6de80d04145ac85381967c5e9c8",
        "IPY_MODEL_1e9037ebf87740c288e798f752e9da26",
        "IPY_MODEL_5f62baab3cf442f8ad85f6c4ca1ad4bc"
       ],
       "layout": "IPY_MODEL_73eb608f8b8a4ac9840365fa84231bab"
      }
     },
     "713a265486cd4dc18b2126ff55a38709": {
      "model_module": "@jupyter-widgets/controls",
      "model_module_version": "1.5.0",
      "model_name": "DescriptionStyleModel",
      "state": {
       "description_width": ""
      }
     },
     "714f003afbd243f487f7a5b65745945a": {
      "model_module": "@jupyter-widgets/base",
      "model_module_version": "1.2.0",
      "model_name": "LayoutModel",
      "state": {}
     },
     "71828109a82e4b629dcbcbb1257ad435": {
      "model_module": "@jupyter-widgets/base",
      "model_module_version": "1.2.0",
      "model_name": "LayoutModel",
      "state": {}
     },
     "7244be05de7640edbc7d382761f2044b": {
      "model_module": "@jupyter-widgets/controls",
      "model_module_version": "1.5.0",
      "model_name": "DescriptionStyleModel",
      "state": {
       "description_width": ""
      }
     },
     "733c066d83d04d8c9bb0ecc6eaa99639": {
      "model_module": "@jupyter-widgets/base",
      "model_module_version": "1.2.0",
      "model_name": "LayoutModel",
      "state": {}
     },
     "7362e672e1684086ab89760575b26bd4": {
      "model_module": "@jupyter-widgets/controls",
      "model_module_version": "1.5.0",
      "model_name": "HTMLModel",
      "state": {
       "layout": "IPY_MODEL_7de13fc2b4ba4cedb7b77541d7c44225",
       "style": "IPY_MODEL_90be590de8294fa0a0da2edc0e9628fb",
       "value": "Epoch: 2. Train.    20.25836: 100%"
      }
     },
     "738e29daa2a24c0393a2be009b341ac8": {
      "model_module": "@jupyter-widgets/controls",
      "model_module_version": "1.5.0",
      "model_name": "FloatProgressModel",
      "state": {
       "bar_style": "success",
       "layout": "IPY_MODEL_6592426d42a44684a22a66c7967a6a32",
       "max": 5,
       "style": "IPY_MODEL_3373620c89454a038accea4ba98435fa",
       "value": 5
      }
     },
     "739391ac5d924b549cd018ca3105176b": {
      "model_module": "@jupyter-widgets/controls",
      "model_module_version": "1.5.0",
      "model_name": "HTMLModel",
      "state": {
       "layout": "IPY_MODEL_3d5acf7945f749b488d334d7f770f193",
       "style": "IPY_MODEL_510e3791c50e41f3bb1cec7cd1d96264",
       "value": " 38/38 [00:01&lt;00:00, 26.77it/s]"
      }
     },
     "73c6ed185b0a4d2286d072f2fafa8fee": {
      "model_module": "@jupyter-widgets/base",
      "model_module_version": "1.2.0",
      "model_name": "LayoutModel",
      "state": {}
     },
     "73eb608f8b8a4ac9840365fa84231bab": {
      "model_module": "@jupyter-widgets/base",
      "model_module_version": "1.2.0",
      "model_name": "LayoutModel",
      "state": {}
     },
     "7427cb2d1c9d447d8d4935e3edf75ae9": {
      "model_module": "@jupyter-widgets/base",
      "model_module_version": "1.2.0",
      "model_name": "LayoutModel",
      "state": {}
     },
     "7456573af6204eb4bcc429de47b00976": {
      "model_module": "@jupyter-widgets/controls",
      "model_module_version": "1.5.0",
      "model_name": "HBoxModel",
      "state": {
       "children": [
        "IPY_MODEL_e2b7b7e70f5f4988afc9f8da72d789f3",
        "IPY_MODEL_96806341d12a4f9cb10acbfd7a317f85",
        "IPY_MODEL_4383908e4a43480e9745ed06d7abf042"
       ],
       "layout": "IPY_MODEL_ef96708dca604dec9be30c09779f4174"
      }
     },
     "749af71e735f456a853faee34f15975b": {
      "model_module": "@jupyter-widgets/controls",
      "model_module_version": "1.5.0",
      "model_name": "DescriptionStyleModel",
      "state": {
       "description_width": ""
      }
     },
     "7505d3267abc42db968112a302128baf": {
      "model_module": "@jupyter-widgets/base",
      "model_module_version": "1.2.0",
      "model_name": "LayoutModel",
      "state": {}
     },
     "7525f4e6ad14422d8b20429137cdd617": {
      "model_module": "@jupyter-widgets/controls",
      "model_module_version": "1.5.0",
      "model_name": "FloatProgressModel",
      "state": {
       "bar_style": "success",
       "layout": "IPY_MODEL_315557b21b4d47bdb4eb13bf8b40c9d9",
       "max": 38,
       "style": "IPY_MODEL_17a4eaa4690a443d88bce6051ad91351",
       "value": 38
      }
     },
     "75438ab85f7c4f2ca06e4bdc54d88d8a": {
      "model_module": "@jupyter-widgets/base",
      "model_module_version": "1.2.0",
      "model_name": "LayoutModel",
      "state": {}
     },
     "754ffd0d82bd469d829a5d8a56ffaf3b": {
      "model_module": "@jupyter-widgets/controls",
      "model_module_version": "1.5.0",
      "model_name": "HTMLModel",
      "state": {
       "layout": "IPY_MODEL_debd228941e94b778ad26c80f9730fe7",
       "style": "IPY_MODEL_a59ce212062d45d3a17d353e668a427d",
       "value": "Epoch: 31. Validation. 0.32674: 100%"
      }
     },
     "75c6f0783eec4b229ea6b912b7ad03dc": {
      "model_module": "@jupyter-widgets/controls",
      "model_module_version": "1.5.0",
      "model_name": "HBoxModel",
      "state": {
       "children": [
        "IPY_MODEL_ea76fc69cb0b44d4bb212483e94f6c66",
        "IPY_MODEL_92f0cd3b55534357b18256e444157c5e",
        "IPY_MODEL_fa4f318883ad4e1e99dd0dc9c1e14272"
       ],
       "layout": "IPY_MODEL_f3eb69183e524206bab30865febe2c91"
      }
     },
     "75ffe1b6eb63424d9484e2ecfaa976e4": {
      "model_module": "@jupyter-widgets/controls",
      "model_module_version": "1.5.0",
      "model_name": "HTMLModel",
      "state": {
       "layout": "IPY_MODEL_6e58b1794fab4bc999ff268545943274",
       "style": "IPY_MODEL_cce5e455e413476f9e10619013bc36bb",
       "value": " 5/5 [00:00&lt;00:00, 15.41it/s]"
      }
     },
     "76e77c8481ee4680bede2df73be2dc42": {
      "model_module": "@jupyter-widgets/base",
      "model_module_version": "1.2.0",
      "model_name": "LayoutModel",
      "state": {}
     },
     "7710e55d77ee46ef8953c44055565d99": {
      "model_module": "@jupyter-widgets/controls",
      "model_module_version": "1.5.0",
      "model_name": "HBoxModel",
      "state": {
       "children": [
        "IPY_MODEL_cb121f2dfaad40468d1b7a54e1a60aea",
        "IPY_MODEL_d013bf12bc704846a8e2a8c8058fcd8b",
        "IPY_MODEL_65eacc7f06e04778ad107c355ab51e3d"
       ],
       "layout": "IPY_MODEL_cefb153aeb724060812a392804ad3bb8"
      }
     },
     "772553cb36384024954f7f2a3a572650": {
      "model_module": "@jupyter-widgets/controls",
      "model_module_version": "1.5.0",
      "model_name": "DescriptionStyleModel",
      "state": {
       "description_width": ""
      }
     },
     "77288fa918f44395ac75d5477ba52338": {
      "model_module": "@jupyter-widgets/controls",
      "model_module_version": "1.5.0",
      "model_name": "HTMLModel",
      "state": {
       "layout": "IPY_MODEL_020ee552a93e425d972c6a003ead4dd2",
       "style": "IPY_MODEL_b198abbef44843038ca10bfa6f7d2774",
       "value": " 38/38 [00:01&lt;00:00, 26.15it/s]"
      }
     },
     "77316c08a3ca45b19e2a845a4fb976b3": {
      "model_module": "@jupyter-widgets/controls",
      "model_module_version": "1.5.0",
      "model_name": "ProgressStyleModel",
      "state": {
       "description_width": ""
      }
     },
     "77386baaed724b65908fc59e1568fc43": {
      "model_module": "@jupyter-widgets/controls",
      "model_module_version": "1.5.0",
      "model_name": "HTMLModel",
      "state": {
       "layout": "IPY_MODEL_40a4083f132e4d2989a6aab89efb8803",
       "style": "IPY_MODEL_249fbaf18a0b4dc9bda2599472a56665",
       "value": " 38/38 [00:01&lt;00:00, 26.60it/s]"
      }
     },
     "773f17d5b6af48cfad9ff9a5d999e197": {
      "model_module": "@jupyter-widgets/controls",
      "model_module_version": "1.5.0",
      "model_name": "FloatProgressModel",
      "state": {
       "bar_style": "success",
       "layout": "IPY_MODEL_2ad49266790240d9bf9a5bf06ef44186",
       "max": 5,
       "style": "IPY_MODEL_1923ecaa56f441d08145e57c34b5da82",
       "value": 5
      }
     },
     "778039c6ce65441c86b687958da4d5f1": {
      "model_module": "@jupyter-widgets/controls",
      "model_module_version": "1.5.0",
      "model_name": "DescriptionStyleModel",
      "state": {
       "description_width": ""
      }
     },
     "778347b6d0d74304be6b836df65422d9": {
      "model_module": "@jupyter-widgets/controls",
      "model_module_version": "1.5.0",
      "model_name": "ProgressStyleModel",
      "state": {
       "description_width": ""
      }
     },
     "77bdef2cc1ca4bc6ab7191eeb57f96a7": {
      "model_module": "@jupyter-widgets/controls",
      "model_module_version": "1.5.0",
      "model_name": "ProgressStyleModel",
      "state": {
       "description_width": ""
      }
     },
     "7826a22678a74e8b9bd0fd7f0393f24e": {
      "model_module": "@jupyter-widgets/controls",
      "model_module_version": "1.5.0",
      "model_name": "HTMLModel",
      "state": {
       "layout": "IPY_MODEL_4446a5a7032b4cdbaeb33e2e0f089ccf",
       "style": "IPY_MODEL_443be11d33c749669f5baad8d7728660",
       "value": " 5/5 [00:00&lt;00:00, 15.70it/s]"
      }
     },
     "78c0a9b3cf3c4e08963b92fcbaaf4ba4": {
      "model_module": "@jupyter-widgets/controls",
      "model_module_version": "1.5.0",
      "model_name": "ProgressStyleModel",
      "state": {
       "description_width": ""
      }
     },
     "7a060015b19647168534804687f2f40d": {
      "model_module": "@jupyter-widgets/controls",
      "model_module_version": "1.5.0",
      "model_name": "DescriptionStyleModel",
      "state": {
       "description_width": ""
      }
     },
     "7a73501f5e2b45a6b39b8e4e866c6ba3": {
      "model_module": "@jupyter-widgets/base",
      "model_module_version": "1.2.0",
      "model_name": "LayoutModel",
      "state": {}
     },
     "7b3accf2cd6f4fb29c548ceab8fac92d": {
      "model_module": "@jupyter-widgets/controls",
      "model_module_version": "1.5.0",
      "model_name": "HBoxModel",
      "state": {
       "children": [
        "IPY_MODEL_f64e675d0b894d8d8064608086112906",
        "IPY_MODEL_d868c442cb584256a4b1ee5f405ef1d5",
        "IPY_MODEL_815bbdb1210d4f6b9d109a7427646716"
       ],
       "layout": "IPY_MODEL_1c39eab753ac4bdfbd06682f28d93fac"
      }
     },
     "7b94fe5014e941c68d7cd3deee5122cc": {
      "model_module": "@jupyter-widgets/controls",
      "model_module_version": "1.5.0",
      "model_name": "HTMLModel",
      "state": {
       "layout": "IPY_MODEL_2da33e8d5d714a7aa48116e446c19632",
       "style": "IPY_MODEL_a5d4f1993b0d49baba6fcaf5197e8200",
       "value": "Epoch: 6. Validation. 0.79061: 100%"
      }
     },
     "7b9a7e943a654519838f55d4259be116": {
      "model_module": "@jupyter-widgets/controls",
      "model_module_version": "1.5.0",
      "model_name": "HTMLModel",
      "state": {
       "layout": "IPY_MODEL_b6768f76268f4def9355c477f11d7d5e",
       "style": "IPY_MODEL_4175aefad439407f8a729507e717dc2e",
       "value": " 38/38 [00:01&lt;00:00, 27.32it/s]"
      }
     },
     "7c3929ee9e0d450bb9265cd542c06a4a": {
      "model_module": "@jupyter-widgets/base",
      "model_module_version": "1.2.0",
      "model_name": "LayoutModel",
      "state": {}
     },
     "7c599e695f5f46be98025e50fe013ee2": {
      "model_module": "@jupyter-widgets/controls",
      "model_module_version": "1.5.0",
      "model_name": "FloatProgressModel",
      "state": {
       "bar_style": "success",
       "layout": "IPY_MODEL_25655acfe43f4f74ab3adb4936a248c9",
       "max": 5,
       "style": "IPY_MODEL_af720719bb9c4fdeb49d6ad8b497e108",
       "value": 5
      }
     },
     "7c5a248282d0401c8d7af024b29b7e53": {
      "model_module": "@jupyter-widgets/controls",
      "model_module_version": "1.5.0",
      "model_name": "HTMLModel",
      "state": {
       "layout": "IPY_MODEL_90cfccc509e5433aac020dd8f74cae71",
       "style": "IPY_MODEL_fa3406a489f64c0d9790c9e069e08f6b",
       "value": " 5/5 [00:00&lt;00:00, 15.63it/s]"
      }
     },
     "7d1907f4f83b46b09b1c4815e53bdd2f": {
      "model_module": "@jupyter-widgets/controls",
      "model_module_version": "1.5.0",
      "model_name": "ProgressStyleModel",
      "state": {
       "description_width": ""
      }
     },
     "7d22e328413047e8a01de867381d3cac": {
      "model_module": "@jupyter-widgets/controls",
      "model_module_version": "1.5.0",
      "model_name": "FloatProgressModel",
      "state": {
       "bar_style": "success",
       "layout": "IPY_MODEL_f1574648e89443ce98d71e0413b01b73",
       "max": 38,
       "style": "IPY_MODEL_256d9570d21848a4b6e3d21532308298",
       "value": 38
      }
     },
     "7db437a70b6a4394ab333cf4781ccb2f": {
      "model_module": "@jupyter-widgets/controls",
      "model_module_version": "1.5.0",
      "model_name": "FloatProgressModel",
      "state": {
       "bar_style": "success",
       "layout": "IPY_MODEL_24608f2ba6dd48b1a0dfa677345fb62d",
       "max": 5,
       "style": "IPY_MODEL_1b802c3182a24faaa252ad131a93e015",
       "value": 5
      }
     },
     "7de13fc2b4ba4cedb7b77541d7c44225": {
      "model_module": "@jupyter-widgets/base",
      "model_module_version": "1.2.0",
      "model_name": "LayoutModel",
      "state": {}
     },
     "7de4710611904002b9f6982b9c2e3d8a": {
      "model_module": "@jupyter-widgets/controls",
      "model_module_version": "1.5.0",
      "model_name": "DescriptionStyleModel",
      "state": {
       "description_width": ""
      }
     },
     "7debaffe2eab485896c14c884cbcab29": {
      "model_module": "@jupyter-widgets/controls",
      "model_module_version": "1.5.0",
      "model_name": "HBoxModel",
      "state": {
       "children": [
        "IPY_MODEL_b026af8afc1b401c9d1b2b8ba3c361a6",
        "IPY_MODEL_18e3ce21050344659e2f070130d38758",
        "IPY_MODEL_c1ff3e4e335b4edcae386d6e65680bca"
       ],
       "layout": "IPY_MODEL_7a73501f5e2b45a6b39b8e4e866c6ba3"
      }
     },
     "7e0c2c5ad78c49ffa5cad064317f4c86": {
      "model_module": "@jupyter-widgets/base",
      "model_module_version": "1.2.0",
      "model_name": "LayoutModel",
      "state": {}
     },
     "7e292b6f91944db6ab8ce0d90a20206a": {
      "model_module": "@jupyter-widgets/base",
      "model_module_version": "1.2.0",
      "model_name": "LayoutModel",
      "state": {}
     },
     "7ed5e94847d04d369bbac8093d6451e3": {
      "model_module": "@jupyter-widgets/base",
      "model_module_version": "1.2.0",
      "model_name": "LayoutModel",
      "state": {}
     },
     "7f064fbac807415fbbf880908b7da3b4": {
      "model_module": "@jupyter-widgets/base",
      "model_module_version": "1.2.0",
      "model_name": "LayoutModel",
      "state": {}
     },
     "7f0e2dd1c8df4bbca4682c7c533de943": {
      "model_module": "@jupyter-widgets/base",
      "model_module_version": "1.2.0",
      "model_name": "LayoutModel",
      "state": {}
     },
     "7f851c93dcd043ca9f59b66cf3e04bca": {
      "model_module": "@jupyter-widgets/base",
      "model_module_version": "1.2.0",
      "model_name": "LayoutModel",
      "state": {}
     },
     "7fd5767e0d3240d1baca22eca9c7687e": {
      "model_module": "@jupyter-widgets/controls",
      "model_module_version": "1.5.0",
      "model_name": "ProgressStyleModel",
      "state": {
       "description_width": ""
      }
     },
     "7fda83c8eab04a64be49e05c932e2585": {
      "model_module": "@jupyter-widgets/controls",
      "model_module_version": "1.5.0",
      "model_name": "FloatProgressModel",
      "state": {
       "bar_style": "success",
       "layout": "IPY_MODEL_b991f0fd0d9e49a29be27c47d9a79d30",
       "max": 38,
       "style": "IPY_MODEL_cae7fe2a78e049a8885aed0fe6311697",
       "value": 38
      }
     },
     "7fdb844261f84e34b7fe6207f079d65a": {
      "model_module": "@jupyter-widgets/controls",
      "model_module_version": "1.5.0",
      "model_name": "ProgressStyleModel",
      "state": {
       "description_width": ""
      }
     },
     "803240aa86b7479aabfd28d814657d30": {
      "model_module": "@jupyter-widgets/controls",
      "model_module_version": "1.5.0",
      "model_name": "ProgressStyleModel",
      "state": {
       "description_width": ""
      }
     },
     "803f233568a5441db623bf5663e71b52": {
      "model_module": "@jupyter-widgets/controls",
      "model_module_version": "1.5.0",
      "model_name": "HTMLModel",
      "state": {
       "layout": "IPY_MODEL_862e4e30a51247ce865cad5176320143",
       "style": "IPY_MODEL_f60c219bc0404ac19e329296910c8add",
       "value": " 38/38 [00:01&lt;00:00, 27.29it/s]"
      }
     },
     "80d0bcbe817443709506919f33a6b544": {
      "model_module": "@jupyter-widgets/controls",
      "model_module_version": "1.5.0",
      "model_name": "FloatProgressModel",
      "state": {
       "bar_style": "success",
       "layout": "IPY_MODEL_8e114c5ca56745cfaa0870423a4d05ed",
       "max": 38,
       "style": "IPY_MODEL_038215cfb7274ecbb22a834a68b7fe2b",
       "value": 38
      }
     },
     "80df13b7df3e4432970638904d0ee697": {
      "model_module": "@jupyter-widgets/controls",
      "model_module_version": "1.5.0",
      "model_name": "ProgressStyleModel",
      "state": {
       "description_width": ""
      }
     },
     "80f0b5adddde46bbaa57634f00891efc": {
      "model_module": "@jupyter-widgets/controls",
      "model_module_version": "1.5.0",
      "model_name": "FloatProgressModel",
      "state": {
       "bar_style": "success",
       "layout": "IPY_MODEL_2ac8e9bc5a3c46f78c63a8704c771f8a",
       "max": 5,
       "style": "IPY_MODEL_360b91ff0f94413e9e406a7d2cfad26b",
       "value": 5
      }
     },
     "80fadb9813de4023bed5bd3ee39455f6": {
      "model_module": "@jupyter-widgets/controls",
      "model_module_version": "1.5.0",
      "model_name": "FloatProgressModel",
      "state": {
       "bar_style": "success",
       "layout": "IPY_MODEL_1191c87733064f7dab6ace33543d44ce",
       "max": 5,
       "style": "IPY_MODEL_7fd5767e0d3240d1baca22eca9c7687e",
       "value": 5
      }
     },
     "815bbdb1210d4f6b9d109a7427646716": {
      "model_module": "@jupyter-widgets/controls",
      "model_module_version": "1.5.0",
      "model_name": "HTMLModel",
      "state": {
       "layout": "IPY_MODEL_689765e0afb746e3a117215defa30236",
       "style": "IPY_MODEL_bd7961d6d9364fafa8a5d778b8a7608b",
       "value": " 5/5 [00:00&lt;00:00, 15.61it/s]"
      }
     },
     "81db43b4c7a74f84a47e400d16444d62": {
      "model_module": "@jupyter-widgets/base",
      "model_module_version": "1.2.0",
      "model_name": "LayoutModel",
      "state": {}
     },
     "81f310b66d0f49688f0c2ee07f0253d7": {
      "model_module": "@jupyter-widgets/controls",
      "model_module_version": "1.5.0",
      "model_name": "ProgressStyleModel",
      "state": {
       "description_width": ""
      }
     },
     "81fb86cb96a24a1eb067a5b7089d842b": {
      "model_module": "@jupyter-widgets/controls",
      "model_module_version": "1.5.0",
      "model_name": "HTMLModel",
      "state": {
       "layout": "IPY_MODEL_44a25d0884944a168de3267ef42339ef",
       "style": "IPY_MODEL_e10285c38dfc44b985734b820887ec9f",
       "value": "Epoch: 29. Validation. 0.35016: 100%"
      }
     },
     "8208111b0b7c44c0a695bd3210df4348": {
      "model_module": "@jupyter-widgets/controls",
      "model_module_version": "1.5.0",
      "model_name": "HBoxModel",
      "state": {
       "children": [
        "IPY_MODEL_81fb86cb96a24a1eb067a5b7089d842b",
        "IPY_MODEL_e4710cbc40244fb681851a8af7385b0e",
        "IPY_MODEL_06b5b6c555ad4a249476fb854296125a"
       ],
       "layout": "IPY_MODEL_2190319e395f46de96b701263db801b3"
      }
     },
     "821c501f50d344f1adc10a2d1566bac6": {
      "model_module": "@jupyter-widgets/controls",
      "model_module_version": "1.5.0",
      "model_name": "FloatProgressModel",
      "state": {
       "bar_style": "success",
       "layout": "IPY_MODEL_28c450552a6b4024a12e450980d669e9",
       "max": 38,
       "style": "IPY_MODEL_6c0f6164197a43e7bb335db221fc7fa2",
       "value": 38
      }
     },
     "828e7df7c08c49669ff61c2c57b30a40": {
      "model_module": "@jupyter-widgets/base",
      "model_module_version": "1.2.0",
      "model_name": "LayoutModel",
      "state": {}
     },
     "82da77a87842460b8acba2b9c2ae715c": {
      "model_module": "@jupyter-widgets/controls",
      "model_module_version": "1.5.0",
      "model_name": "DescriptionStyleModel",
      "state": {
       "description_width": ""
      }
     },
     "83c4260fb24141fdbde9c2a7049a855e": {
      "model_module": "@jupyter-widgets/base",
      "model_module_version": "1.2.0",
      "model_name": "LayoutModel",
      "state": {}
     },
     "83f1746d173e47b3ae536fb9f26d42a9": {
      "model_module": "@jupyter-widgets/base",
      "model_module_version": "1.2.0",
      "model_name": "LayoutModel",
      "state": {}
     },
     "846fa0aa86734293a3a943289781585b": {
      "model_module": "@jupyter-widgets/controls",
      "model_module_version": "1.5.0",
      "model_name": "ProgressStyleModel",
      "state": {
       "description_width": ""
      }
     },
     "84c99a25908b455492bd536890427dfa": {
      "model_module": "@jupyter-widgets/base",
      "model_module_version": "1.2.0",
      "model_name": "LayoutModel",
      "state": {}
     },
     "856f48592cb8486ebd66a80c49bf4fd8": {
      "model_module": "@jupyter-widgets/controls",
      "model_module_version": "1.5.0",
      "model_name": "HTMLModel",
      "state": {
       "layout": "IPY_MODEL_7f0e2dd1c8df4bbca4682c7c533de943",
       "style": "IPY_MODEL_2634cc91b6584fa48a98873378667a15",
       "value": "Epoch: 40. Validation. 0.30911: 100%"
      }
     },
     "85c857ec2c64489c967c978b22050d7d": {
      "model_module": "@jupyter-widgets/controls",
      "model_module_version": "1.5.0",
      "model_name": "DescriptionStyleModel",
      "state": {
       "description_width": ""
      }
     },
     "86247156e440435a9f56363ac7af2050": {
      "model_module": "@jupyter-widgets/controls",
      "model_module_version": "1.5.0",
      "model_name": "ProgressStyleModel",
      "state": {
       "description_width": ""
      }
     },
     "862e4e30a51247ce865cad5176320143": {
      "model_module": "@jupyter-widgets/base",
      "model_module_version": "1.2.0",
      "model_name": "LayoutModel",
      "state": {}
     },
     "872f1474688b4338a7823abb9b2d1036": {
      "model_module": "@jupyter-widgets/base",
      "model_module_version": "1.2.0",
      "model_name": "LayoutModel",
      "state": {}
     },
     "8762527f9570495db0d66f08162865df": {
      "model_module": "@jupyter-widgets/controls",
      "model_module_version": "1.5.0",
      "model_name": "FloatProgressModel",
      "state": {
       "bar_style": "success",
       "layout": "IPY_MODEL_a91164f578ef44c5b392aa31b33a1fe7",
       "max": 5,
       "style": "IPY_MODEL_936d53bb70a1458395aac230d417a4dc",
       "value": 5
      }
     },
     "8766c536ecb34258af614b679e1b4141": {
      "model_module": "@jupyter-widgets/base",
      "model_module_version": "1.2.0",
      "model_name": "LayoutModel",
      "state": {}
     },
     "87b9e5d1e99c4227bd46b15b5e1aeaac": {
      "model_module": "@jupyter-widgets/controls",
      "model_module_version": "1.5.0",
      "model_name": "DescriptionStyleModel",
      "state": {
       "description_width": ""
      }
     },
     "87f50274dcff4a23afac824cc3730029": {
      "model_module": "@jupyter-widgets/controls",
      "model_module_version": "1.5.0",
      "model_name": "DescriptionStyleModel",
      "state": {
       "description_width": ""
      }
     },
     "88140ac4e22749989431a105f4c4ea18": {
      "model_module": "@jupyter-widgets/base",
      "model_module_version": "1.2.0",
      "model_name": "LayoutModel",
      "state": {}
     },
     "8829020da61b4edcb86f5cfc1b76b825": {
      "model_module": "@jupyter-widgets/controls",
      "model_module_version": "1.5.0",
      "model_name": "FloatProgressModel",
      "state": {
       "bar_style": "success",
       "layout": "IPY_MODEL_a024dca57e6f48a2940bdf0019533236",
       "max": 38,
       "style": "IPY_MODEL_5a968d2d6386471a95a8cb9239edcb40",
       "value": 38
      }
     },
     "886132be8e30471db66c6d6a0a9425d8": {
      "model_module": "@jupyter-widgets/controls",
      "model_module_version": "1.5.0",
      "model_name": "HBoxModel",
      "state": {
       "children": [
        "IPY_MODEL_491801a6c56d4502a083129b401f61d5",
        "IPY_MODEL_5d721f44e441440b91ee6cf6554d35e2",
        "IPY_MODEL_0cf51a5e90484593b769926a742d578b"
       ],
       "layout": "IPY_MODEL_d57b7c075b704d8c975a7de9e9c0a44b"
      }
     },
     "889db66358704667b51864e6c59baa32": {
      "model_module": "@jupyter-widgets/base",
      "model_module_version": "1.2.0",
      "model_name": "LayoutModel",
      "state": {}
     },
     "88af7a54407c400882f9a2d0ec5db13d": {
      "model_module": "@jupyter-widgets/controls",
      "model_module_version": "1.5.0",
      "model_name": "FloatProgressModel",
      "state": {
       "bar_style": "success",
       "layout": "IPY_MODEL_239df00fc8234f6f9793ce4ff80f4b41",
       "max": 38,
       "style": "IPY_MODEL_493b9bac9c2d40ef95203e382b4ae161",
       "value": 38
      }
     },
     "88deb1e7991a4986a885fcb061c1a80b": {
      "model_module": "@jupyter-widgets/controls",
      "model_module_version": "1.5.0",
      "model_name": "DescriptionStyleModel",
      "state": {
       "description_width": ""
      }
     },
     "899cd34ebc6c4b95b7f926900b918086": {
      "model_module": "@jupyter-widgets/controls",
      "model_module_version": "1.5.0",
      "model_name": "FloatProgressModel",
      "state": {
       "bar_style": "success",
       "layout": "IPY_MODEL_e612019884f24bcf8efae4c25af71c5b",
       "max": 5,
       "style": "IPY_MODEL_21c30990b95740d08f8cf4a0a2a8f2b5",
       "value": 5
      }
     },
     "89a44238e9394afd9c09dbe9ce8b5e7a": {
      "model_module": "@jupyter-widgets/controls",
      "model_module_version": "1.5.0",
      "model_name": "HBoxModel",
      "state": {
       "children": [
        "IPY_MODEL_9afbe3c386b54299bd56046c01219b1a",
        "IPY_MODEL_b39dc66f5a654a019922ec791fe48216",
        "IPY_MODEL_e9583d03775e4d6e88a68133058ceeb7"
       ],
       "layout": "IPY_MODEL_49835e82cceb4ed38c5780e12c4f9a7b"
      }
     },
     "89e6d98f3e0c458e992ed7558ded2335": {
      "model_module": "@jupyter-widgets/controls",
      "model_module_version": "1.5.0",
      "model_name": "HTMLModel",
      "state": {
       "layout": "IPY_MODEL_0084b626e8e643be9876f00573f7a962",
       "style": "IPY_MODEL_501b6dd207204131a734e60664df3a11",
       "value": " 5/5 [00:00&lt;00:00, 15.59it/s]"
      }
     },
     "89f9285611b44a9d84f3d353156ad69a": {
      "model_module": "@jupyter-widgets/controls",
      "model_module_version": "1.5.0",
      "model_name": "FloatProgressModel",
      "state": {
       "bar_style": "success",
       "layout": "IPY_MODEL_d658833285604e5fae496c359d4c2dd2",
       "max": 5,
       "style": "IPY_MODEL_5e330fe01d5c432ea8a8ced94fa7ba70",
       "value": 5
      }
     },
     "89fa3db98fd6481492f23d428a259167": {
      "model_module": "@jupyter-widgets/controls",
      "model_module_version": "1.5.0",
      "model_name": "ProgressStyleModel",
      "state": {
       "description_width": ""
      }
     },
     "8a0e2e9ae16148aeb32fd3dbfed51e44": {
      "model_module": "@jupyter-widgets/controls",
      "model_module_version": "1.5.0",
      "model_name": "ProgressStyleModel",
      "state": {
       "description_width": ""
      }
     },
     "8a853dac6fa34f5ea28e93e08a32a18f": {
      "model_module": "@jupyter-widgets/base",
      "model_module_version": "1.2.0",
      "model_name": "LayoutModel",
      "state": {}
     },
     "8ae7382d2acc417697975c0cb11934fb": {
      "model_module": "@jupyter-widgets/controls",
      "model_module_version": "1.5.0",
      "model_name": "DescriptionStyleModel",
      "state": {
       "description_width": ""
      }
     },
     "8ca5d67c715f4f3b812026667a1900d6": {
      "model_module": "@jupyter-widgets/controls",
      "model_module_version": "1.5.0",
      "model_name": "DescriptionStyleModel",
      "state": {
       "description_width": ""
      }
     },
     "8ce2ee38499c42baa526435a457bf67b": {
      "model_module": "@jupyter-widgets/controls",
      "model_module_version": "1.5.0",
      "model_name": "FloatProgressModel",
      "state": {
       "bar_style": "success",
       "layout": "IPY_MODEL_0f303cd0f51b42fa85fd6929a4a47126",
       "max": 38,
       "style": "IPY_MODEL_77bdef2cc1ca4bc6ab7191eeb57f96a7",
       "value": 38
      }
     },
     "8ce439434d4e494ca40ab83d59fc3b34": {
      "model_module": "@jupyter-widgets/controls",
      "model_module_version": "1.5.0",
      "model_name": "DescriptionStyleModel",
      "state": {
       "description_width": ""
      }
     },
     "8d1a4afd54ed4c3ea1f3957b4c54faa5": {
      "model_module": "@jupyter-widgets/controls",
      "model_module_version": "1.5.0",
      "model_name": "FloatProgressModel",
      "state": {
       "bar_style": "success",
       "layout": "IPY_MODEL_2952e1f866104b74b4ec60058eb5510d",
       "max": 5,
       "style": "IPY_MODEL_3686218fa36d49a197a7318a2c661811",
       "value": 5
      }
     },
     "8d1ba02ae50846059e6a1ec6d9d9892e": {
      "model_module": "@jupyter-widgets/base",
      "model_module_version": "1.2.0",
      "model_name": "LayoutModel",
      "state": {}
     },
     "8d3af21316014034a1d4ce47bf6f6fee": {
      "model_module": "@jupyter-widgets/controls",
      "model_module_version": "1.5.0",
      "model_name": "HTMLModel",
      "state": {
       "layout": "IPY_MODEL_0fcb1640ca3a4078a5a8a4cf72d975c6",
       "style": "IPY_MODEL_56ffdfe119494cce9c2f41b45ac3ec5f",
       "value": "Epoch: 31. Train.    2.99352: 100%"
      }
     },
     "8d75530b3b98463182a648c02e61ac1c": {
      "model_module": "@jupyter-widgets/controls",
      "model_module_version": "1.5.0",
      "model_name": "HTMLModel",
      "state": {
       "layout": "IPY_MODEL_057f7adeef47478da9a351762ebf82ca",
       "style": "IPY_MODEL_db8775151a474f28a928b733c8030221",
       "value": " 38/38 [00:01&lt;00:00, 26.80it/s]"
      }
     },
     "8ddccc5c5f8e488fa3f6a65a3f01810d": {
      "model_module": "@jupyter-widgets/controls",
      "model_module_version": "1.5.0",
      "model_name": "DescriptionStyleModel",
      "state": {
       "description_width": ""
      }
     },
     "8e114c5ca56745cfaa0870423a4d05ed": {
      "model_module": "@jupyter-widgets/base",
      "model_module_version": "1.2.0",
      "model_name": "LayoutModel",
      "state": {}
     },
     "8e741f6667504e39a2e3267785c86b87": {
      "model_module": "@jupyter-widgets/controls",
      "model_module_version": "1.5.0",
      "model_name": "HTMLModel",
      "state": {
       "layout": "IPY_MODEL_c49e063ad09c4774946ac5cc3d251333",
       "style": "IPY_MODEL_cd82a233bdbe4b158ea4313f68484fd6",
       "value": " 5/5 [00:00&lt;00:00, 16.00it/s]"
      }
     },
     "8e805db7c44c48ca936e34f906ec7133": {
      "model_module": "@jupyter-widgets/controls",
      "model_module_version": "1.5.0",
      "model_name": "ProgressStyleModel",
      "state": {
       "description_width": ""
      }
     },
     "8ee4f1d0117f47a6bf9ab640881dbc8a": {
      "model_module": "@jupyter-widgets/base",
      "model_module_version": "1.2.0",
      "model_name": "LayoutModel",
      "state": {}
     },
     "8f1181831d114857b7c713faf68e693c": {
      "model_module": "@jupyter-widgets/base",
      "model_module_version": "1.2.0",
      "model_name": "LayoutModel",
      "state": {}
     },
     "8f61223f837d4fd1919a05f5e52c4d05": {
      "model_module": "@jupyter-widgets/controls",
      "model_module_version": "1.5.0",
      "model_name": "HTMLModel",
      "state": {
       "layout": "IPY_MODEL_4176c0a5012b4b47b8ec954839659bcd",
       "style": "IPY_MODEL_772553cb36384024954f7f2a3a572650",
       "value": " 5/5 [00:00&lt;00:00, 15.12it/s]"
      }
     },
     "8f9270ce711741699cd900377a1c489b": {
      "model_module": "@jupyter-widgets/controls",
      "model_module_version": "1.5.0",
      "model_name": "HTMLModel",
      "state": {
       "layout": "IPY_MODEL_acd6c273447746699528597bcea6f71e",
       "style": "IPY_MODEL_160b9f07fc344006b887f1d39a2e0a2d",
       "value": "Epoch: 19. Train.    4.42792: 100%"
      }
     },
     "902070b8bbd04426b44502dc073faef9": {
      "model_module": "@jupyter-widgets/controls",
      "model_module_version": "1.5.0",
      "model_name": "HBoxModel",
      "state": {
       "children": [
        "IPY_MODEL_3113880249ad407ab7cfd265c2ea0e11",
        "IPY_MODEL_fcfbb9ad21a546888c3eb15915ced8c0",
        "IPY_MODEL_ed704cfa697a4c3f9e84d3d4f21187d6"
       ],
       "layout": "IPY_MODEL_aa18197fcd90443a8aeccd461c60a697"
      }
     },
     "902b22487e904ffca224c088cf7e0efe": {
      "model_module": "@jupyter-widgets/controls",
      "model_module_version": "1.5.0",
      "model_name": "FloatProgressModel",
      "state": {
       "bar_style": "success",
       "layout": "IPY_MODEL_45810fdfe44f4e958e9acb6ba56a9d46",
       "max": 5,
       "style": "IPY_MODEL_b820a57b8ab24f249faa2dff1ebab69a",
       "value": 5
      }
     },
     "903b18a938af435e99f30d62f226d9f2": {
      "model_module": "@jupyter-widgets/controls",
      "model_module_version": "1.5.0",
      "model_name": "HTMLModel",
      "state": {
       "layout": "IPY_MODEL_316c04d262da41f1b518d7b2d8a73e13",
       "style": "IPY_MODEL_9ac917331f474fabad3fe6a6bb1cb270",
       "value": " 38/38 [00:01&lt;00:00, 27.28it/s]"
      }
     },
     "90413fc04ca84540a911afda13697c43": {
      "model_module": "@jupyter-widgets/controls",
      "model_module_version": "1.5.0",
      "model_name": "DescriptionStyleModel",
      "state": {
       "description_width": ""
      }
     },
     "9071dc8c552e46ebaf28abdead7a5fe2": {
      "model_module": "@jupyter-widgets/controls",
      "model_module_version": "1.5.0",
      "model_name": "DescriptionStyleModel",
      "state": {
       "description_width": ""
      }
     },
     "90be590de8294fa0a0da2edc0e9628fb": {
      "model_module": "@jupyter-widgets/controls",
      "model_module_version": "1.5.0",
      "model_name": "DescriptionStyleModel",
      "state": {
       "description_width": ""
      }
     },
     "90cfccc509e5433aac020dd8f74cae71": {
      "model_module": "@jupyter-widgets/base",
      "model_module_version": "1.2.0",
      "model_name": "LayoutModel",
      "state": {}
     },
     "90dc5897eb634842814d9d7acd231ddb": {
      "model_module": "@jupyter-widgets/controls",
      "model_module_version": "1.5.0",
      "model_name": "HBoxModel",
      "state": {
       "children": [
        "IPY_MODEL_04bee713aff745ec8dccb59e02fc34a2",
        "IPY_MODEL_29cc2c0f51f0482d933410eb4e7110bd",
        "IPY_MODEL_26539b9aceca4603b7812ea258cd1127"
       ],
       "layout": "IPY_MODEL_62d2cea9456949da8494c03ed0c94edc"
      }
     },
     "91056eb6f949470386ffe80a7638dcc8": {
      "model_module": "@jupyter-widgets/controls",
      "model_module_version": "1.5.0",
      "model_name": "HTMLModel",
      "state": {
       "layout": "IPY_MODEL_49ecf3e4b07f44d094462fbf499d5781",
       "style": "IPY_MODEL_30e89826337744c69fa1b2213107cf67",
       "value": "Epoch: 2. Validation. 1.86007: 100%"
      }
     },
     "911b8afd789d492cba104e54401a5fe2": {
      "model_module": "@jupyter-widgets/controls",
      "model_module_version": "1.5.0",
      "model_name": "DescriptionStyleModel",
      "state": {
       "description_width": ""
      }
     },
     "912ef2cb88194a978d2ab98cc6e24962": {
      "model_module": "@jupyter-widgets/base",
      "model_module_version": "1.2.0",
      "model_name": "LayoutModel",
      "state": {}
     },
     "913820908e144f2cafe53d1e0c9a1c6c": {
      "model_module": "@jupyter-widgets/base",
      "model_module_version": "1.2.0",
      "model_name": "LayoutModel",
      "state": {}
     },
     "915d47fe43ca49b59f787eb5c987ed37": {
      "model_module": "@jupyter-widgets/controls",
      "model_module_version": "1.5.0",
      "model_name": "ProgressStyleModel",
      "state": {
       "description_width": ""
      }
     },
     "91924c9fe9764fdb9342fd633575a6bf": {
      "model_module": "@jupyter-widgets/controls",
      "model_module_version": "1.5.0",
      "model_name": "DescriptionStyleModel",
      "state": {
       "description_width": ""
      }
     },
     "91f15592256e4cd1a5140c98fbaa7a00": {
      "model_module": "@jupyter-widgets/base",
      "model_module_version": "1.2.0",
      "model_name": "LayoutModel",
      "state": {}
     },
     "923e7755596a4ff5b70089d4beab74da": {
      "model_module": "@jupyter-widgets/controls",
      "model_module_version": "1.5.0",
      "model_name": "DescriptionStyleModel",
      "state": {
       "description_width": ""
      }
     },
     "926e1819574344419d208743a130710e": {
      "model_module": "@jupyter-widgets/controls",
      "model_module_version": "1.5.0",
      "model_name": "DescriptionStyleModel",
      "state": {
       "description_width": ""
      }
     },
     "9272dcc75a7f432292e02ca53b5e150f": {
      "model_module": "@jupyter-widgets/base",
      "model_module_version": "1.2.0",
      "model_name": "LayoutModel",
      "state": {}
     },
     "92ad4c0b59844e25a54ca51f1e9eb04d": {
      "model_module": "@jupyter-widgets/controls",
      "model_module_version": "1.5.0",
      "model_name": "FloatProgressModel",
      "state": {
       "bar_style": "success",
       "layout": "IPY_MODEL_9ead3d3332784f5099e034943fa65105",
       "max": 5,
       "style": "IPY_MODEL_a7af62f5b177432b9ee0b819db21350f",
       "value": 5
      }
     },
     "92f0cd3b55534357b18256e444157c5e": {
      "model_module": "@jupyter-widgets/controls",
      "model_module_version": "1.5.0",
      "model_name": "FloatProgressModel",
      "state": {
       "bar_style": "success",
       "layout": "IPY_MODEL_2bd77fa122a347a3b432739a884c055d",
       "max": 5,
       "style": "IPY_MODEL_78c0a9b3cf3c4e08963b92fcbaaf4ba4",
       "value": 5
      }
     },
     "92f96f61f5934dcbb9338f076e81c9f9": {
      "model_module": "@jupyter-widgets/base",
      "model_module_version": "1.2.0",
      "model_name": "LayoutModel",
      "state": {}
     },
     "936d53bb70a1458395aac230d417a4dc": {
      "model_module": "@jupyter-widgets/controls",
      "model_module_version": "1.5.0",
      "model_name": "ProgressStyleModel",
      "state": {
       "description_width": ""
      }
     },
     "94082a704f91483eb3d0eb88c0f3a61b": {
      "model_module": "@jupyter-widgets/base",
      "model_module_version": "1.2.0",
      "model_name": "LayoutModel",
      "state": {}
     },
     "947eaa07d467448fa437930d16a13acb": {
      "model_module": "@jupyter-widgets/controls",
      "model_module_version": "1.5.0",
      "model_name": "FloatProgressModel",
      "state": {
       "bar_style": "success",
       "layout": "IPY_MODEL_ad7e48255a0249269190749492942ded",
       "max": 38,
       "style": "IPY_MODEL_bd1436efcc58417bafa2d927d99c59d5",
       "value": 38
      }
     },
     "95d1709ddabf403c9d7886349de5c292": {
      "model_module": "@jupyter-widgets/base",
      "model_module_version": "1.2.0",
      "model_name": "LayoutModel",
      "state": {}
     },
     "960e00774cd34ea18de40c7c487e3cd3": {
      "model_module": "@jupyter-widgets/controls",
      "model_module_version": "1.5.0",
      "model_name": "HTMLModel",
      "state": {
       "layout": "IPY_MODEL_1257fd565eb9463091fabce126c10ec0",
       "style": "IPY_MODEL_15b8bfe71b8d41c6ac381a24d0bb749d",
       "value": " 38/38 [00:01&lt;00:00, 26.22it/s]"
      }
     },
     "965a602e51c34b78a0a86717345266dc": {
      "model_module": "@jupyter-widgets/controls",
      "model_module_version": "1.5.0",
      "model_name": "ProgressStyleModel",
      "state": {
       "description_width": ""
      }
     },
     "96806341d12a4f9cb10acbfd7a317f85": {
      "model_module": "@jupyter-widgets/controls",
      "model_module_version": "1.5.0",
      "model_name": "FloatProgressModel",
      "state": {
       "bar_style": "success",
       "layout": "IPY_MODEL_a29d3c76c838469480dd24fd710dffe4",
       "max": 5,
       "style": "IPY_MODEL_b9b30fa26fb643ae99f0c33840a7ff7b",
       "value": 5
      }
     },
     "974108aeb533412bb487b627fd711953": {
      "model_module": "@jupyter-widgets/controls",
      "model_module_version": "1.5.0",
      "model_name": "HTMLModel",
      "state": {
       "layout": "IPY_MODEL_453b4e3ddd00467ea7d89630c2d658e7",
       "style": "IPY_MODEL_bb37b2f307a14f06ad723144aa0a2624",
       "value": " 38/38 [00:01&lt;00:00, 26.71it/s]"
      }
     },
     "97590c77c77d4011979754d26819eb80": {
      "model_module": "@jupyter-widgets/controls",
      "model_module_version": "1.5.0",
      "model_name": "HTMLModel",
      "state": {
       "layout": "IPY_MODEL_689d0cd3b71b49518a930ab705fcef42",
       "style": "IPY_MODEL_0693c1fc8bb14869ae8f3d576440f0db",
       "value": "Epoch: 11. Train.    5.27163: 100%"
      }
     },
     "97c4931a0be24b3b8c5266f42507b567": {
      "model_module": "@jupyter-widgets/base",
      "model_module_version": "1.2.0",
      "model_name": "LayoutModel",
      "state": {}
     },
     "97edf32934f44b1ebaf134d035527e90": {
      "model_module": "@jupyter-widgets/controls",
      "model_module_version": "1.5.0",
      "model_name": "DescriptionStyleModel",
      "state": {
       "description_width": ""
      }
     },
     "985af78691e5405881c40896fcb60480": {
      "model_module": "@jupyter-widgets/controls",
      "model_module_version": "1.5.0",
      "model_name": "HTMLModel",
      "state": {
       "layout": "IPY_MODEL_9b3e4435cb6a44f494afec609f143067",
       "style": "IPY_MODEL_3b1afd9f37f14f47ae8c244754027201",
       "value": " 5/5 [00:00&lt;00:00, 15.70it/s]"
      }
     },
     "98e665f89fce4051997f35b8e1fbb53b": {
      "model_module": "@jupyter-widgets/controls",
      "model_module_version": "1.5.0",
      "model_name": "DescriptionStyleModel",
      "state": {
       "description_width": ""
      }
     },
     "99215692dbf344b19db8dc003df6aad4": {
      "model_module": "@jupyter-widgets/controls",
      "model_module_version": "1.5.0",
      "model_name": "HTMLModel",
      "state": {
       "layout": "IPY_MODEL_b6ffa516620e458183749ea06dc4d667",
       "style": "IPY_MODEL_9a3c73d693734b159d68328a5068bffb",
       "value": " 5/5 [00:00&lt;00:00, 15.30it/s]"
      }
     },
     "994db9c8a62f4543a7efbbbc88dafb33": {
      "model_module": "@jupyter-widgets/controls",
      "model_module_version": "1.5.0",
      "model_name": "DescriptionStyleModel",
      "state": {
       "description_width": ""
      }
     },
     "999af09f90774e5d9aedb1a533e9cc91": {
      "model_module": "@jupyter-widgets/base",
      "model_module_version": "1.2.0",
      "model_name": "LayoutModel",
      "state": {}
     },
     "99cfe97784b14b90b078e8cef9e5297d": {
      "model_module": "@jupyter-widgets/controls",
      "model_module_version": "1.5.0",
      "model_name": "DescriptionStyleModel",
      "state": {
       "description_width": ""
      }
     },
     "9a3c73d693734b159d68328a5068bffb": {
      "model_module": "@jupyter-widgets/controls",
      "model_module_version": "1.5.0",
      "model_name": "DescriptionStyleModel",
      "state": {
       "description_width": ""
      }
     },
     "9a513eb9a39e4cfe83e38f70a93ca1eb": {
      "model_module": "@jupyter-widgets/controls",
      "model_module_version": "1.5.0",
      "model_name": "DescriptionStyleModel",
      "state": {
       "description_width": ""
      }
     },
     "9a889dfa4aa543599bf6156124bd8536": {
      "model_module": "@jupyter-widgets/controls",
      "model_module_version": "1.5.0",
      "model_name": "HTMLModel",
      "state": {
       "layout": "IPY_MODEL_5236097afc04449a99b0c04634a30502",
       "style": "IPY_MODEL_f81210aa6a224bc387f35bb654b4a9cf",
       "value": "Epoch: 13. Train.    4.79884: 100%"
      }
     },
     "9ac917331f474fabad3fe6a6bb1cb270": {
      "model_module": "@jupyter-widgets/controls",
      "model_module_version": "1.5.0",
      "model_name": "DescriptionStyleModel",
      "state": {
       "description_width": ""
      }
     },
     "9afbe3c386b54299bd56046c01219b1a": {
      "model_module": "@jupyter-widgets/controls",
      "model_module_version": "1.5.0",
      "model_name": "HTMLModel",
      "state": {
       "layout": "IPY_MODEL_4ad17e0c21be4490af2b67cb017c0daf",
       "style": "IPY_MODEL_4b528e6cb22145ebbf5ca22aac5bab90",
       "value": "Epoch: 14. Train.    4.25278: 100%"
      }
     },
     "9b3e4435cb6a44f494afec609f143067": {
      "model_module": "@jupyter-widgets/base",
      "model_module_version": "1.2.0",
      "model_name": "LayoutModel",
      "state": {}
     },
     "9d23d7784b35405890beea937007fbb8": {
      "model_module": "@jupyter-widgets/controls",
      "model_module_version": "1.5.0",
      "model_name": "HBoxModel",
      "state": {
       "children": [
        "IPY_MODEL_a24a2ada0ce74550b29b7b2886d4a940",
        "IPY_MODEL_1bcc3c65763a4374835bae8aba23f159",
        "IPY_MODEL_1da8b5bd6ef1459e91225194ed20099c"
       ],
       "layout": "IPY_MODEL_f6a8fa2853eb4fd29a36b8108075522d"
      }
     },
     "9da4636dead94102a7b1bbbd56dbad35": {
      "model_module": "@jupyter-widgets/controls",
      "model_module_version": "1.5.0",
      "model_name": "HBoxModel",
      "state": {
       "children": [
        "IPY_MODEL_d92bbf79d50943cda1020a038e8b1da8",
        "IPY_MODEL_d125bdeae3f34aec82ea3fbe4b82e76f",
        "IPY_MODEL_fa2e0a99dd6d4c39a0ef6a1c5ca14d4e"
       ],
       "layout": "IPY_MODEL_228418e02be043f8b110283b0cd222cd"
      }
     },
     "9dc00cc231db4bee935ba1c2f24bfab5": {
      "model_module": "@jupyter-widgets/controls",
      "model_module_version": "1.5.0",
      "model_name": "DescriptionStyleModel",
      "state": {
       "description_width": ""
      }
     },
     "9e1eb9303f174e568c5518f851546b20": {
      "model_module": "@jupyter-widgets/controls",
      "model_module_version": "1.5.0",
      "model_name": "HTMLModel",
      "state": {
       "layout": "IPY_MODEL_d2c767bd6e83461f988bec0cf7d356c6",
       "style": "IPY_MODEL_99cfe97784b14b90b078e8cef9e5297d",
       "value": " 38/38 [00:01&lt;00:00, 27.70it/s]"
      }
     },
     "9ead3d3332784f5099e034943fa65105": {
      "model_module": "@jupyter-widgets/base",
      "model_module_version": "1.2.0",
      "model_name": "LayoutModel",
      "state": {}
     },
     "9eb4eff92b914cd9b51084c43d3fb776": {
      "model_module": "@jupyter-widgets/controls",
      "model_module_version": "1.5.0",
      "model_name": "FloatProgressModel",
      "state": {
       "bar_style": "success",
       "layout": "IPY_MODEL_c2ad06de7f684013b19a6b2b258f28e2",
       "max": 5,
       "style": "IPY_MODEL_ff3af81f1ca44a11b38dac415d785ec1",
       "value": 5
      }
     },
     "9ece1c887fac4adfa470ed1c10614de3": {
      "model_module": "@jupyter-widgets/controls",
      "model_module_version": "1.5.0",
      "model_name": "HTMLModel",
      "state": {
       "layout": "IPY_MODEL_5f1c5fcfc17340e3b5e519f10f31bb88",
       "style": "IPY_MODEL_19dd78dcbc7d4134a9fd2c8b24a3d04a",
       "value": " 38/38 [00:01&lt;00:00, 27.44it/s]"
      }
     },
     "9ef8e7872f994eb98ddb77a6cd979b36": {
      "model_module": "@jupyter-widgets/controls",
      "model_module_version": "1.5.0",
      "model_name": "HTMLModel",
      "state": {
       "layout": "IPY_MODEL_04e6d31c72614b2b9a0187dca2a2a9e9",
       "style": "IPY_MODEL_a016efebdf55499aa1fefc39650e341a",
       "value": " 38/38 [00:01&lt;00:00, 26.91it/s]"
      }
     },
     "9fa21fa0c0194180b7a65aa201416e86": {
      "model_module": "@jupyter-widgets/controls",
      "model_module_version": "1.5.0",
      "model_name": "FloatProgressModel",
      "state": {
       "bar_style": "success",
       "layout": "IPY_MODEL_43840697f57e4b2b917e2b451b47b16e",
       "max": 5,
       "style": "IPY_MODEL_c22f3b5244e74da884f42a3dac51bc22",
       "value": 5
      }
     },
     "9fab015dbbd24fd6907f9ef84223ba1b": {
      "model_module": "@jupyter-widgets/base",
      "model_module_version": "1.2.0",
      "model_name": "LayoutModel",
      "state": {}
     },
     "9ff7867d150d48d883ad04593b9af939": {
      "model_module": "@jupyter-widgets/base",
      "model_module_version": "1.2.0",
      "model_name": "LayoutModel",
      "state": {}
     },
     "a016efebdf55499aa1fefc39650e341a": {
      "model_module": "@jupyter-widgets/controls",
      "model_module_version": "1.5.0",
      "model_name": "DescriptionStyleModel",
      "state": {
       "description_width": ""
      }
     },
     "a024dca57e6f48a2940bdf0019533236": {
      "model_module": "@jupyter-widgets/base",
      "model_module_version": "1.2.0",
      "model_name": "LayoutModel",
      "state": {}
     },
     "a0c28a0159b64c9b81652b45afd2a70d": {
      "model_module": "@jupyter-widgets/base",
      "model_module_version": "1.2.0",
      "model_name": "LayoutModel",
      "state": {}
     },
     "a1031dea5feb49d1ae6b44ef80be2346": {
      "model_module": "@jupyter-widgets/base",
      "model_module_version": "1.2.0",
      "model_name": "LayoutModel",
      "state": {}
     },
     "a22291ae91694755b5c0b0262da77441": {
      "model_module": "@jupyter-widgets/controls",
      "model_module_version": "1.5.0",
      "model_name": "HTMLModel",
      "state": {
       "layout": "IPY_MODEL_cd013139ab414477b43e4db1f11aa6da",
       "style": "IPY_MODEL_11d155761aa04d98a6a4ac5007b7806b",
       "value": " 38/38 [00:01&lt;00:00, 24.96it/s]"
      }
     },
     "a24a2ada0ce74550b29b7b2886d4a940": {
      "model_module": "@jupyter-widgets/controls",
      "model_module_version": "1.5.0",
      "model_name": "HTMLModel",
      "state": {
       "layout": "IPY_MODEL_37c18feccc594307a4dcdc17b8fd03cb",
       "style": "IPY_MODEL_0acdd8e553e147c58c61a5fa7453a899",
       "value": "Epoch: 7. Validation. 0.72856: 100%"
      }
     },
     "a29d3c76c838469480dd24fd710dffe4": {
      "model_module": "@jupyter-widgets/base",
      "model_module_version": "1.2.0",
      "model_name": "LayoutModel",
      "state": {}
     },
     "a2a4f9e7cc7d4e808b39d5fe940fa80d": {
      "model_module": "@jupyter-widgets/base",
      "model_module_version": "1.2.0",
      "model_name": "LayoutModel",
      "state": {}
     },
     "a2b2c80827354733a3c68b34f9c6f710": {
      "model_module": "@jupyter-widgets/controls",
      "model_module_version": "1.5.0",
      "model_name": "HTMLModel",
      "state": {
       "layout": "IPY_MODEL_4ce5124f02a14d248d07dbc14579e9a7",
       "style": "IPY_MODEL_4accc62843f54e0aa70c34f06fd5a59e",
       "value": " 5/5 [00:00&lt;00:00, 16.02it/s]"
      }
     },
     "a33a7c88f175481a8b669967967b95c5": {
      "model_module": "@jupyter-widgets/base",
      "model_module_version": "1.2.0",
      "model_name": "LayoutModel",
      "state": {}
     },
     "a3df105f662840748af766f8998f4b77": {
      "model_module": "@jupyter-widgets/controls",
      "model_module_version": "1.5.0",
      "model_name": "HTMLModel",
      "state": {
       "layout": "IPY_MODEL_7c3929ee9e0d450bb9265cd542c06a4a",
       "style": "IPY_MODEL_e032e64d4d9e48be8c7efa69b82e0b80",
       "value": " 5/5 [00:00&lt;00:00, 15.57it/s]"
      }
     },
     "a43bac4a2b864a879c8db7a410b9b3a1": {
      "model_module": "@jupyter-widgets/base",
      "model_module_version": "1.2.0",
      "model_name": "LayoutModel",
      "state": {}
     },
     "a5279628b3ba45d3bde8cf3ac2ea7659": {
      "model_module": "@jupyter-widgets/controls",
      "model_module_version": "1.5.0",
      "model_name": "FloatProgressModel",
      "state": {
       "bar_style": "success",
       "layout": "IPY_MODEL_0364c952941544c4930b3c160d79cc25",
       "max": 38,
       "style": "IPY_MODEL_d0daad8c173242ca9b5b38ec2604d412",
       "value": 38
      }
     },
     "a53325ecd0004b38859ce766b674b5f9": {
      "model_module": "@jupyter-widgets/controls",
      "model_module_version": "1.5.0",
      "model_name": "HTMLModel",
      "state": {
       "layout": "IPY_MODEL_4381ab7f5cdc4a5d968157204e9a7661",
       "style": "IPY_MODEL_efecb9af3f914cc4b6c16a3e2bd914ff",
       "value": "Epoch: 33. Train.    3.05584: 100%"
      }
     },
     "a53682890a0045578512e40e15328996": {
      "model_module": "@jupyter-widgets/controls",
      "model_module_version": "1.5.0",
      "model_name": "HTMLModel",
      "state": {
       "layout": "IPY_MODEL_d413b5e2e4b0476887e2e04eaff21a22",
       "style": "IPY_MODEL_2aebc1617b6f4af4bfa5d5cdcae29d20",
       "value": " 5/5 [00:00&lt;00:00, 15.51it/s]"
      }
     },
     "a568c41a640a4b00a3b8813bb3b7601c": {
      "model_module": "@jupyter-widgets/base",
      "model_module_version": "1.2.0",
      "model_name": "LayoutModel",
      "state": {}
     },
     "a57a5ac9714f4be38b53110443fcd6a6": {
      "model_module": "@jupyter-widgets/base",
      "model_module_version": "1.2.0",
      "model_name": "LayoutModel",
      "state": {}
     },
     "a59ce212062d45d3a17d353e668a427d": {
      "model_module": "@jupyter-widgets/controls",
      "model_module_version": "1.5.0",
      "model_name": "DescriptionStyleModel",
      "state": {
       "description_width": ""
      }
     },
     "a5c4d5ea487f4c5e9c29e9e1b9c64cc4": {
      "model_module": "@jupyter-widgets/controls",
      "model_module_version": "1.5.0",
      "model_name": "HBoxModel",
      "state": {
       "children": [
        "IPY_MODEL_3969796df6e3416689c17b22d1ac910a",
        "IPY_MODEL_80f0b5adddde46bbaa57634f00891efc",
        "IPY_MODEL_0c8fcec9bbc34e9085c6e2e571e7160e"
       ],
       "layout": "IPY_MODEL_7e292b6f91944db6ab8ce0d90a20206a"
      }
     },
     "a5d3fcaf6d4f4349a1b1fd1e184f9372": {
      "model_module": "@jupyter-widgets/controls",
      "model_module_version": "1.5.0",
      "model_name": "ProgressStyleModel",
      "state": {
       "description_width": ""
      }
     },
     "a5d4f1993b0d49baba6fcaf5197e8200": {
      "model_module": "@jupyter-widgets/controls",
      "model_module_version": "1.5.0",
      "model_name": "DescriptionStyleModel",
      "state": {
       "description_width": ""
      }
     },
     "a62bc88b6584434cb0a7452fba7f0e1f": {
      "model_module": "@jupyter-widgets/base",
      "model_module_version": "1.2.0",
      "model_name": "LayoutModel",
      "state": {}
     },
     "a6b2bed17ace454caee3c5e879c4f943": {
      "model_module": "@jupyter-widgets/controls",
      "model_module_version": "1.5.0",
      "model_name": "HBoxModel",
      "state": {
       "children": [
        "IPY_MODEL_b1af02f7a54f461c98aa58dff2b8a10f",
        "IPY_MODEL_3a0fdaa7bdf6467fbd59282f83e94241",
        "IPY_MODEL_0b153b096554494c816068623d6b8842"
       ],
       "layout": "IPY_MODEL_d4a216456d1f4e1fa0fa74f5297239b4"
      }
     },
     "a6c0f52b0ff647028df81fe41394f4ff": {
      "model_module": "@jupyter-widgets/controls",
      "model_module_version": "1.5.0",
      "model_name": "HBoxModel",
      "state": {
       "children": [
        "IPY_MODEL_bbbc492da939408d87a8f0e3643ca04f",
        "IPY_MODEL_4785cd5cefbc4c159bcc15bf346bcc56",
        "IPY_MODEL_03a63d99cb2245c8a96a690f09371ca8"
       ],
       "layout": "IPY_MODEL_b4b0a3b0990740ab91dbd6f82e1d0d82"
      }
     },
     "a6cc1fb970ed41f8b303b74d3a1b2b1a": {
      "model_module": "@jupyter-widgets/controls",
      "model_module_version": "1.5.0",
      "model_name": "ProgressStyleModel",
      "state": {
       "description_width": ""
      }
     },
     "a7011460c29a4b789a4ef044e8b832f1": {
      "model_module": "@jupyter-widgets/controls",
      "model_module_version": "1.5.0",
      "model_name": "DescriptionStyleModel",
      "state": {
       "description_width": ""
      }
     },
     "a7af62f5b177432b9ee0b819db21350f": {
      "model_module": "@jupyter-widgets/controls",
      "model_module_version": "1.5.0",
      "model_name": "ProgressStyleModel",
      "state": {
       "description_width": ""
      }
     },
     "a8a73d3de6904eb8b2d199275fe01e22": {
      "model_module": "@jupyter-widgets/controls",
      "model_module_version": "1.5.0",
      "model_name": "DescriptionStyleModel",
      "state": {
       "description_width": ""
      }
     },
     "a91164f578ef44c5b392aa31b33a1fe7": {
      "model_module": "@jupyter-widgets/base",
      "model_module_version": "1.2.0",
      "model_name": "LayoutModel",
      "state": {}
     },
     "a9695b6ec7604a15aabc87ec7ae9043b": {
      "model_module": "@jupyter-widgets/base",
      "model_module_version": "1.2.0",
      "model_name": "LayoutModel",
      "state": {}
     },
     "a9aa92573394455da6a4c40e9a03561c": {
      "model_module": "@jupyter-widgets/controls",
      "model_module_version": "1.5.0",
      "model_name": "HTMLModel",
      "state": {
       "layout": "IPY_MODEL_1062506394c0494fb5a18c1c6c0d3ec4",
       "style": "IPY_MODEL_778039c6ce65441c86b687958da4d5f1",
       "value": " 5/5 [00:00&lt;00:00, 15.36it/s]"
      }
     },
     "a9f0d7edbc77440b9506f9b71960f689": {
      "model_module": "@jupyter-widgets/controls",
      "model_module_version": "1.5.0",
      "model_name": "HTMLModel",
      "state": {
       "layout": "IPY_MODEL_319737ece9c942698cf67fc6f8e80218",
       "style": "IPY_MODEL_4fbf7614abc346db9a0e2e7aabe21ebd",
       "value": "Epoch: 23. Train.    4.65222: 100%"
      }
     },
     "aa07800c9d274be4ac5e559d12429f0f": {
      "model_module": "@jupyter-widgets/controls",
      "model_module_version": "1.5.0",
      "model_name": "DescriptionStyleModel",
      "state": {
       "description_width": ""
      }
     },
     "aa18197fcd90443a8aeccd461c60a697": {
      "model_module": "@jupyter-widgets/base",
      "model_module_version": "1.2.0",
      "model_name": "LayoutModel",
      "state": {}
     },
     "aa194719d7e14a3598b4a51ff9e43d52": {
      "model_module": "@jupyter-widgets/base",
      "model_module_version": "1.2.0",
      "model_name": "LayoutModel",
      "state": {}
     },
     "aa304870791d4c8a9bf1da280875ee2d": {
      "model_module": "@jupyter-widgets/controls",
      "model_module_version": "1.5.0",
      "model_name": "HTMLModel",
      "state": {
       "layout": "IPY_MODEL_43ad0252801f4cd98894862f9bbeabf1",
       "style": "IPY_MODEL_377bf55faa8448598f7e6eed2adfb2c8",
       "value": "Epoch: 18. Train.    4.04864: 100%"
      }
     },
     "aa31580370d144d884b13656b18affc9": {
      "model_module": "@jupyter-widgets/controls",
      "model_module_version": "1.5.0",
      "model_name": "HTMLModel",
      "state": {
       "layout": "IPY_MODEL_af7b8b4bc8d54b548ce8d6467295c5e8",
       "style": "IPY_MODEL_dde627dfda6147998031f5dce058d255",
       "value": "Epoch: 24. Validation. 0.36172: 100%"
      }
     },
     "abd99a2c8bb240d1a75a9a0e24a77831": {
      "model_module": "@jupyter-widgets/base",
      "model_module_version": "1.2.0",
      "model_name": "LayoutModel",
      "state": {}
     },
     "ac39d1604c434c99b1cd87c262bcfc2a": {
      "model_module": "@jupyter-widgets/controls",
      "model_module_version": "1.5.0",
      "model_name": "DescriptionStyleModel",
      "state": {
       "description_width": ""
      }
     },
     "acd6c273447746699528597bcea6f71e": {
      "model_module": "@jupyter-widgets/base",
      "model_module_version": "1.2.0",
      "model_name": "LayoutModel",
      "state": {}
     },
     "ad7e48255a0249269190749492942ded": {
      "model_module": "@jupyter-widgets/base",
      "model_module_version": "1.2.0",
      "model_name": "LayoutModel",
      "state": {}
     },
     "adfcbf38c4e24906be0d7402337792d7": {
      "model_module": "@jupyter-widgets/controls",
      "model_module_version": "1.5.0",
      "model_name": "HBoxModel",
      "state": {
       "children": [
        "IPY_MODEL_c1d2b319dd6c4df699cd8a81be5ff01f",
        "IPY_MODEL_80fadb9813de4023bed5bd3ee39455f6",
        "IPY_MODEL_99215692dbf344b19db8dc003df6aad4"
       ],
       "layout": "IPY_MODEL_61d1eb4079264a8e98737dea9138c977"
      }
     },
     "af48ef815f1b4f8099f4ac893815494e": {
      "model_module": "@jupyter-widgets/base",
      "model_module_version": "1.2.0",
      "model_name": "LayoutModel",
      "state": {}
     },
     "af5742fa8ab943499052d6bb2d55e718": {
      "model_module": "@jupyter-widgets/base",
      "model_module_version": "1.2.0",
      "model_name": "LayoutModel",
      "state": {}
     },
     "af5ca481d43b4dbdb529eca20c13ca95": {
      "model_module": "@jupyter-widgets/controls",
      "model_module_version": "1.5.0",
      "model_name": "FloatProgressModel",
      "state": {
       "bar_style": "success",
       "layout": "IPY_MODEL_47064fe2161e459b86442b9dab410e32",
       "max": 38,
       "style": "IPY_MODEL_c548204a8367447f9efb83b62b3f8661",
       "value": 38
      }
     },
     "af720719bb9c4fdeb49d6ad8b497e108": {
      "model_module": "@jupyter-widgets/controls",
      "model_module_version": "1.5.0",
      "model_name": "ProgressStyleModel",
      "state": {
       "description_width": ""
      }
     },
     "af7b8b4bc8d54b548ce8d6467295c5e8": {
      "model_module": "@jupyter-widgets/base",
      "model_module_version": "1.2.0",
      "model_name": "LayoutModel",
      "state": {}
     },
     "b026af8afc1b401c9d1b2b8ba3c361a6": {
      "model_module": "@jupyter-widgets/controls",
      "model_module_version": "1.5.0",
      "model_name": "HTMLModel",
      "state": {
       "layout": "IPY_MODEL_b5ee92b55bd14bd7b4dcfd6dfe751afe",
       "style": "IPY_MODEL_43fe9f60e90c493d80ff61e62e45cf49",
       "value": "Epoch: 26. Train.    3.31488: 100%"
      }
     },
     "b0527442cbd8457ebbf227532fa440ad": {
      "model_module": "@jupyter-widgets/base",
      "model_module_version": "1.2.0",
      "model_name": "LayoutModel",
      "state": {}
     },
     "b0b4b4d58488490cb0b6eaecba26d70a": {
      "model_module": "@jupyter-widgets/controls",
      "model_module_version": "1.5.0",
      "model_name": "HTMLModel",
      "state": {
       "layout": "IPY_MODEL_51cef00ae7344d18901854be454ec080",
       "style": "IPY_MODEL_91924c9fe9764fdb9342fd633575a6bf",
       "value": " 38/38 [00:01&lt;00:00, 25.10it/s]"
      }
     },
     "b0de89b9575749f98987636c119cf139": {
      "model_module": "@jupyter-widgets/controls",
      "model_module_version": "1.5.0",
      "model_name": "HBoxModel",
      "state": {
       "children": [
        "IPY_MODEL_3b3f7da64eaf461ea8a2dda3ceac7058",
        "IPY_MODEL_7c599e695f5f46be98025e50fe013ee2",
        "IPY_MODEL_539a528f4ea44b3f821ec36281c6a255"
       ],
       "layout": "IPY_MODEL_3a520adfe75e4205b022600ddb638cd5"
      }
     },
     "b14e5c46698145dfa9d1432741f32359": {
      "model_module": "@jupyter-widgets/controls",
      "model_module_version": "1.5.0",
      "model_name": "DescriptionStyleModel",
      "state": {
       "description_width": ""
      }
     },
     "b171b9b6e1e54d2ea1ff051ce0fa8ecc": {
      "model_module": "@jupyter-widgets/controls",
      "model_module_version": "1.5.0",
      "model_name": "DescriptionStyleModel",
      "state": {
       "description_width": ""
      }
     },
     "b198abbef44843038ca10bfa6f7d2774": {
      "model_module": "@jupyter-widgets/controls",
      "model_module_version": "1.5.0",
      "model_name": "DescriptionStyleModel",
      "state": {
       "description_width": ""
      }
     },
     "b1af02f7a54f461c98aa58dff2b8a10f": {
      "model_module": "@jupyter-widgets/controls",
      "model_module_version": "1.5.0",
      "model_name": "HTMLModel",
      "state": {
       "layout": "IPY_MODEL_f90cbdab898e4ffc859c1eec7c0aa28d",
       "style": "IPY_MODEL_88deb1e7991a4986a885fcb061c1a80b",
       "value": "Epoch: 40. Train.    2.89590: 100%"
      }
     },
     "b2e9ca5193e4440aa052775041fe9a41": {
      "model_module": "@jupyter-widgets/base",
      "model_module_version": "1.2.0",
      "model_name": "LayoutModel",
      "state": {}
     },
     "b32e125c20a64396a4178481e4a7d324": {
      "model_module": "@jupyter-widgets/base",
      "model_module_version": "1.2.0",
      "model_name": "LayoutModel",
      "state": {}
     },
     "b39dc66f5a654a019922ec791fe48216": {
      "model_module": "@jupyter-widgets/controls",
      "model_module_version": "1.5.0",
      "model_name": "FloatProgressModel",
      "state": {
       "bar_style": "success",
       "layout": "IPY_MODEL_3071147c023f48ab97015a9dbd532b16",
       "max": 38,
       "style": "IPY_MODEL_fe036307e96344efbdebe6947dc85f2f",
       "value": 38
      }
     },
     "b454a7fd5c9a439187b3b4616a6c7986": {
      "model_module": "@jupyter-widgets/base",
      "model_module_version": "1.2.0",
      "model_name": "LayoutModel",
      "state": {}
     },
     "b46f59d33f714d91b123f015f721f26d": {
      "model_module": "@jupyter-widgets/controls",
      "model_module_version": "1.5.0",
      "model_name": "HTMLModel",
      "state": {
       "layout": "IPY_MODEL_1fea484ef49249dd82c1e977533e36d8",
       "style": "IPY_MODEL_1f67663e79834fb5a7a3245b343f9bdb",
       "value": " 5/5 [00:00&lt;00:00, 16.02it/s]"
      }
     },
     "b4b0a3b0990740ab91dbd6f82e1d0d82": {
      "model_module": "@jupyter-widgets/base",
      "model_module_version": "1.2.0",
      "model_name": "LayoutModel",
      "state": {}
     },
     "b52df3f7141041ca9c74fb09e26be322": {
      "model_module": "@jupyter-widgets/controls",
      "model_module_version": "1.5.0",
      "model_name": "ProgressStyleModel",
      "state": {
       "description_width": ""
      }
     },
     "b53006acc2d44c7f8314e63e49230986": {
      "model_module": "@jupyter-widgets/controls",
      "model_module_version": "1.5.0",
      "model_name": "DescriptionStyleModel",
      "state": {
       "description_width": ""
      }
     },
     "b5ee92b55bd14bd7b4dcfd6dfe751afe": {
      "model_module": "@jupyter-widgets/base",
      "model_module_version": "1.2.0",
      "model_name": "LayoutModel",
      "state": {}
     },
     "b652bfa1dfa040fb81b1d808fd8e7710": {
      "model_module": "@jupyter-widgets/controls",
      "model_module_version": "1.5.0",
      "model_name": "HBoxModel",
      "state": {
       "children": [
        "IPY_MODEL_578f8c67222a49938ce0d0e4a3f1350f",
        "IPY_MODEL_fec3e8d7e2a64f81a37e744afbb5837b",
        "IPY_MODEL_77386baaed724b65908fc59e1568fc43"
       ],
       "layout": "IPY_MODEL_ef8ae45eb93e49d2b504334e06a98702"
      }
     },
     "b6768f76268f4def9355c477f11d7d5e": {
      "model_module": "@jupyter-widgets/base",
      "model_module_version": "1.2.0",
      "model_name": "LayoutModel",
      "state": {}
     },
     "b6ffa516620e458183749ea06dc4d667": {
      "model_module": "@jupyter-widgets/base",
      "model_module_version": "1.2.0",
      "model_name": "LayoutModel",
      "state": {}
     },
     "b7553dd3e5204f59983fa1810f206a06": {
      "model_module": "@jupyter-widgets/controls",
      "model_module_version": "1.5.0",
      "model_name": "HBoxModel",
      "state": {
       "children": [
        "IPY_MODEL_d6a30f0ac34646c1995bc616b500d46a",
        "IPY_MODEL_6138885e00a8432ca62a63201b46ff26",
        "IPY_MODEL_a2b2c80827354733a3c68b34f9c6f710"
       ],
       "layout": "IPY_MODEL_ec7050b0ef2947b189e38fb41be41cd6"
      }
     },
     "b7e4ae76517c4428925e5a6d574b54c6": {
      "model_module": "@jupyter-widgets/base",
      "model_module_version": "1.2.0",
      "model_name": "LayoutModel",
      "state": {}
     },
     "b820a57b8ab24f249faa2dff1ebab69a": {
      "model_module": "@jupyter-widgets/controls",
      "model_module_version": "1.5.0",
      "model_name": "ProgressStyleModel",
      "state": {
       "description_width": ""
      }
     },
     "b84247874f184e5a8a2aaa563ac464bf": {
      "model_module": "@jupyter-widgets/base",
      "model_module_version": "1.2.0",
      "model_name": "LayoutModel",
      "state": {}
     },
     "b876bcb0512845e2a4f48e7c6871e446": {
      "model_module": "@jupyter-widgets/base",
      "model_module_version": "1.2.0",
      "model_name": "LayoutModel",
      "state": {}
     },
     "b8dd06c8748e4186abfa39f8f85a5451": {
      "model_module": "@jupyter-widgets/base",
      "model_module_version": "1.2.0",
      "model_name": "LayoutModel",
      "state": {}
     },
     "b906b73ecc944de388687a5ff4bd656b": {
      "model_module": "@jupyter-widgets/base",
      "model_module_version": "1.2.0",
      "model_name": "LayoutModel",
      "state": {}
     },
     "b991f0fd0d9e49a29be27c47d9a79d30": {
      "model_module": "@jupyter-widgets/base",
      "model_module_version": "1.2.0",
      "model_name": "LayoutModel",
      "state": {}
     },
     "b9b30fa26fb643ae99f0c33840a7ff7b": {
      "model_module": "@jupyter-widgets/controls",
      "model_module_version": "1.5.0",
      "model_name": "ProgressStyleModel",
      "state": {
       "description_width": ""
      }
     },
     "b9b4342413594a1daf761258f5d8de0b": {
      "model_module": "@jupyter-widgets/controls",
      "model_module_version": "1.5.0",
      "model_name": "DescriptionStyleModel",
      "state": {
       "description_width": ""
      }
     },
     "ba3a37554677477c82cbc0dcf1a24c17": {
      "model_module": "@jupyter-widgets/base",
      "model_module_version": "1.2.0",
      "model_name": "LayoutModel",
      "state": {}
     },
     "ba66c4dcde694f87979b042501d9dee0": {
      "model_module": "@jupyter-widgets/controls",
      "model_module_version": "1.5.0",
      "model_name": "FloatProgressModel",
      "state": {
       "bar_style": "success",
       "layout": "IPY_MODEL_3151deb4203d46daa39531f4c5dcd0a3",
       "max": 5,
       "style": "IPY_MODEL_014b57c3574d4eb6b218cf829a5afd5d",
       "value": 5
      }
     },
     "ba9ca109be7a4b3d98cfa2bdedda01b8": {
      "model_module": "@jupyter-widgets/base",
      "model_module_version": "1.2.0",
      "model_name": "LayoutModel",
      "state": {}
     },
     "baa8513b8c4d44699970e67f078a19ee": {
      "model_module": "@jupyter-widgets/controls",
      "model_module_version": "1.5.0",
      "model_name": "HTMLModel",
      "state": {
       "layout": "IPY_MODEL_d5445a17770d44819e0e5ad8b8cb851e",
       "style": "IPY_MODEL_be69c57dd0aa430b9d609daa57046d4d",
       "value": "Epoch: 10. Validation. 0.66067: 100%"
      }
     },
     "bac318a59ff0465bb27da2f350e72258": {
      "model_module": "@jupyter-widgets/controls",
      "model_module_version": "1.5.0",
      "model_name": "HBoxModel",
      "state": {
       "children": [
        "IPY_MODEL_2337ca1525724afbb52e633e4696b5a2",
        "IPY_MODEL_d0ec57ce43d3479a8978088ed625f86c",
        "IPY_MODEL_01ed677d861346a48cba35d16a454a28"
       ],
       "layout": "IPY_MODEL_389f1c8c41ca41f2b207ed1890a8447b"
      }
     },
     "baf01f87cd8243d5b319aa9a7787fb59": {
      "model_module": "@jupyter-widgets/controls",
      "model_module_version": "1.5.0",
      "model_name": "DescriptionStyleModel",
      "state": {
       "description_width": ""
      }
     },
     "bb08c40677444236a2ff373689c37459": {
      "model_module": "@jupyter-widgets/controls",
      "model_module_version": "1.5.0",
      "model_name": "FloatProgressModel",
      "state": {
       "bar_style": "success",
       "layout": "IPY_MODEL_676a54a08ca54773aea266157fbe2c1e",
       "max": 38,
       "style": "IPY_MODEL_6499914a55734efaab56e6e781c80869",
       "value": 38
      }
     },
     "bb37b2f307a14f06ad723144aa0a2624": {
      "model_module": "@jupyter-widgets/controls",
      "model_module_version": "1.5.0",
      "model_name": "DescriptionStyleModel",
      "state": {
       "description_width": ""
      }
     },
     "bb7b276c9d774978b6ecd61fa55ebfa7": {
      "model_module": "@jupyter-widgets/base",
      "model_module_version": "1.2.0",
      "model_name": "LayoutModel",
      "state": {}
     },
     "bbbc492da939408d87a8f0e3643ca04f": {
      "model_module": "@jupyter-widgets/controls",
      "model_module_version": "1.5.0",
      "model_name": "HTMLModel",
      "state": {
       "layout": "IPY_MODEL_1382062770f64941ba416a348ab9129b",
       "style": "IPY_MODEL_6b5e148a3f204304828eb6a3aa14d603",
       "value": "Epoch: 3. Train.    15.36710: 100%"
      }
     },
     "bbfa72bfcdd94eeba33abbb6dfb36abb": {
      "model_module": "@jupyter-widgets/controls",
      "model_module_version": "1.5.0",
      "model_name": "DescriptionStyleModel",
      "state": {
       "description_width": ""
      }
     },
     "bc6140657de34d70aad2cb02e4fe746c": {
      "model_module": "@jupyter-widgets/base",
      "model_module_version": "1.2.0",
      "model_name": "LayoutModel",
      "state": {}
     },
     "bca5bb53bce44101b386ba4285aa2cfb": {
      "model_module": "@jupyter-widgets/controls",
      "model_module_version": "1.5.0",
      "model_name": "DescriptionStyleModel",
      "state": {
       "description_width": ""
      }
     },
     "bccad1ea66e84c98857fb4258046a9a8": {
      "model_module": "@jupyter-widgets/base",
      "model_module_version": "1.2.0",
      "model_name": "LayoutModel",
      "state": {}
     },
     "bd1436efcc58417bafa2d927d99c59d5": {
      "model_module": "@jupyter-widgets/controls",
      "model_module_version": "1.5.0",
      "model_name": "ProgressStyleModel",
      "state": {
       "description_width": ""
      }
     },
     "bd613d6ffe444d66955db304c148b5a1": {
      "model_module": "@jupyter-widgets/base",
      "model_module_version": "1.2.0",
      "model_name": "LayoutModel",
      "state": {}
     },
     "bd70a6de80d04145ac85381967c5e9c8": {
      "model_module": "@jupyter-widgets/controls",
      "model_module_version": "1.5.0",
      "model_name": "HTMLModel",
      "state": {
       "layout": "IPY_MODEL_714f003afbd243f487f7a5b65745945a",
       "style": "IPY_MODEL_911b8afd789d492cba104e54401a5fe2",
       "value": "Epoch: 29. Train.    3.41968: 100%"
      }
     },
     "bd7961d6d9364fafa8a5d778b8a7608b": {
      "model_module": "@jupyter-widgets/controls",
      "model_module_version": "1.5.0",
      "model_name": "DescriptionStyleModel",
      "state": {
       "description_width": ""
      }
     },
     "bda78ae4b25b403f8df9b80fa676f468": {
      "model_module": "@jupyter-widgets/controls",
      "model_module_version": "1.5.0",
      "model_name": "DescriptionStyleModel",
      "state": {
       "description_width": ""
      }
     },
     "bdc98c0910544ef985bc1caa02fbff61": {
      "model_module": "@jupyter-widgets/base",
      "model_module_version": "1.2.0",
      "model_name": "LayoutModel",
      "state": {}
     },
     "be69c57dd0aa430b9d609daa57046d4d": {
      "model_module": "@jupyter-widgets/controls",
      "model_module_version": "1.5.0",
      "model_name": "DescriptionStyleModel",
      "state": {
       "description_width": ""
      }
     },
     "be74937bf7f946369a1f44145ba56574": {
      "model_module": "@jupyter-widgets/controls",
      "model_module_version": "1.5.0",
      "model_name": "FloatProgressModel",
      "state": {
       "bar_style": "success",
       "layout": "IPY_MODEL_02389f9d723e4925a0663c91cac4f481",
       "max": 5,
       "style": "IPY_MODEL_965a602e51c34b78a0a86717345266dc",
       "value": 5
      }
     },
     "bee77831cab0416dbbdad78fa27ab7a6": {
      "model_module": "@jupyter-widgets/controls",
      "model_module_version": "1.5.0",
      "model_name": "ProgressStyleModel",
      "state": {
       "description_width": ""
      }
     },
     "bf12dd14dd8f423ebef3b5e1e9ce3d27": {
      "model_module": "@jupyter-widgets/base",
      "model_module_version": "1.2.0",
      "model_name": "LayoutModel",
      "state": {}
     },
     "bf4f23395a10417f90183160d7b29c5d": {
      "model_module": "@jupyter-widgets/controls",
      "model_module_version": "1.5.0",
      "model_name": "HTMLModel",
      "state": {
       "layout": "IPY_MODEL_a2a4f9e7cc7d4e808b39d5fe940fa80d",
       "style": "IPY_MODEL_df0b420e99ef43a3bd27304d8d99e3ad",
       "value": "Epoch: 9. Validation. 0.65103: 100%"
      }
     },
     "c0659ef12a614a06a2366155b63dd321": {
      "model_module": "@jupyter-widgets/controls",
      "model_module_version": "1.5.0",
      "model_name": "DescriptionStyleModel",
      "state": {
       "description_width": ""
      }
     },
     "c06c1b0e3b414ca3bfc9220a8e058df8": {
      "model_module": "@jupyter-widgets/controls",
      "model_module_version": "1.5.0",
      "model_name": "ProgressStyleModel",
      "state": {
       "description_width": ""
      }
     },
     "c07921f759f94d67b595c1491553888d": {
      "model_module": "@jupyter-widgets/controls",
      "model_module_version": "1.5.0",
      "model_name": "FloatProgressModel",
      "state": {
       "bar_style": "success",
       "layout": "IPY_MODEL_a0c28a0159b64c9b81652b45afd2a70d",
       "max": 38,
       "style": "IPY_MODEL_20b8efbe7b1942db97698a2b13c3a4ec",
       "value": 38
      }
     },
     "c0ced80f0e3c4a9eb0a18055eeadd5f4": {
      "model_module": "@jupyter-widgets/base",
      "model_module_version": "1.2.0",
      "model_name": "LayoutModel",
      "state": {}
     },
     "c10878761f0a4b3e8143de9e8bbd6bb9": {
      "model_module": "@jupyter-widgets/base",
      "model_module_version": "1.2.0",
      "model_name": "LayoutModel",
      "state": {}
     },
     "c181e142e38f442b99fc9039d7e48357": {
      "model_module": "@jupyter-widgets/controls",
      "model_module_version": "1.5.0",
      "model_name": "DescriptionStyleModel",
      "state": {
       "description_width": ""
      }
     },
     "c1d2b319dd6c4df699cd8a81be5ff01f": {
      "model_module": "@jupyter-widgets/controls",
      "model_module_version": "1.5.0",
      "model_name": "HTMLModel",
      "state": {
       "layout": "IPY_MODEL_a568c41a640a4b00a3b8813bb3b7601c",
       "style": "IPY_MODEL_11bcfda67ff74b69b7544ff3c3c1aaed",
       "value": "Epoch: 28. Validation. 0.35587: 100%"
      }
     },
     "c1e408df38124c2594a26984b8ff9dbe": {
      "model_module": "@jupyter-widgets/controls",
      "model_module_version": "1.5.0",
      "model_name": "HBoxModel",
      "state": {
       "children": [
        "IPY_MODEL_a53325ecd0004b38859ce766b674b5f9",
        "IPY_MODEL_947eaa07d467448fa437930d16a13acb",
        "IPY_MODEL_e84cce402f254a98b3707758ae686284"
       ],
       "layout": "IPY_MODEL_248ed6497ef54daa821f3c72907cf543"
      }
     },
     "c1f608ede54e4ef79c21d4e8bd3c900a": {
      "model_module": "@jupyter-widgets/controls",
      "model_module_version": "1.5.0",
      "model_name": "DescriptionStyleModel",
      "state": {
       "description_width": ""
      }
     },
     "c1fbb52d6298463ba4dddfc44811f971": {
      "model_module": "@jupyter-widgets/controls",
      "model_module_version": "1.5.0",
      "model_name": "HTMLModel",
      "state": {
       "layout": "IPY_MODEL_70274055ca244cd7b9e5dfe5006a2f61",
       "style": "IPY_MODEL_85c857ec2c64489c967c978b22050d7d",
       "value": "Epoch: 12. Train.    5.35168: 100%"
      }
     },
     "c1ff3e4e335b4edcae386d6e65680bca": {
      "model_module": "@jupyter-widgets/controls",
      "model_module_version": "1.5.0",
      "model_name": "HTMLModel",
      "state": {
       "layout": "IPY_MODEL_abd99a2c8bb240d1a75a9a0e24a77831",
       "style": "IPY_MODEL_22a51ee6601e4354916bfe23ff963f9c",
       "value": " 38/38 [00:01&lt;00:00, 27.10it/s]"
      }
     },
     "c22f3b5244e74da884f42a3dac51bc22": {
      "model_module": "@jupyter-widgets/controls",
      "model_module_version": "1.5.0",
      "model_name": "ProgressStyleModel",
      "state": {
       "description_width": ""
      }
     },
     "c2411608f55341418d0b1bf18c06e139": {
      "model_module": "@jupyter-widgets/base",
      "model_module_version": "1.2.0",
      "model_name": "LayoutModel",
      "state": {}
     },
     "c2ad06de7f684013b19a6b2b258f28e2": {
      "model_module": "@jupyter-widgets/base",
      "model_module_version": "1.2.0",
      "model_name": "LayoutModel",
      "state": {}
     },
     "c33c2e0001ac49b383ee9a2402c9bd77": {
      "model_module": "@jupyter-widgets/controls",
      "model_module_version": "1.5.0",
      "model_name": "HTMLModel",
      "state": {
       "layout": "IPY_MODEL_f4ae344e279a48c19d0bb652991c0d0a",
       "style": "IPY_MODEL_c1f608ede54e4ef79c21d4e8bd3c900a",
       "value": "Epoch: 36. Train.    2.99987: 100%"
      }
     },
     "c39a1bb72abf48b694b14478fdeef4f7": {
      "model_module": "@jupyter-widgets/controls",
      "model_module_version": "1.5.0",
      "model_name": "HTMLModel",
      "state": {
       "layout": "IPY_MODEL_411bdfb83cc144c7979a5d1541f3da3c",
       "style": "IPY_MODEL_56ae30783674432db8ffca1452db04c5",
       "value": "Epoch: 5. Train.    9.14092: 100%"
      }
     },
     "c3ccd4337cc540e4b86aea153bb28b7e": {
      "model_module": "@jupyter-widgets/base",
      "model_module_version": "1.2.0",
      "model_name": "LayoutModel",
      "state": {}
     },
     "c49e063ad09c4774946ac5cc3d251333": {
      "model_module": "@jupyter-widgets/base",
      "model_module_version": "1.2.0",
      "model_name": "LayoutModel",
      "state": {}
     },
     "c548204a8367447f9efb83b62b3f8661": {
      "model_module": "@jupyter-widgets/controls",
      "model_module_version": "1.5.0",
      "model_name": "ProgressStyleModel",
      "state": {
       "description_width": ""
      }
     },
     "c65001122e3b48ea89f33e7a3b8ac067": {
      "model_module": "@jupyter-widgets/controls",
      "model_module_version": "1.5.0",
      "model_name": "HTMLModel",
      "state": {
       "layout": "IPY_MODEL_ef1081009c814852a5ab60009bd9e845",
       "style": "IPY_MODEL_360b862bcdb24b568456fd5a59a55642",
       "value": " 38/38 [00:01&lt;00:00, 27.32it/s]"
      }
     },
     "c6c8a142a3d9432faacaa45f20b5e75e": {
      "model_module": "@jupyter-widgets/base",
      "model_module_version": "1.2.0",
      "model_name": "LayoutModel",
      "state": {}
     },
     "c6e5fbd75bbb4469a93eb67a4f41f793": {
      "model_module": "@jupyter-widgets/controls",
      "model_module_version": "1.5.0",
      "model_name": "HTMLModel",
      "state": {
       "layout": "IPY_MODEL_498b052465ff404092c6a575d29e0f09",
       "style": "IPY_MODEL_b9b4342413594a1daf761258f5d8de0b",
       "value": "Epoch: 1. Validation. 14.76415: 100%"
      }
     },
     "c782af8cd9944ade817738562b8ffaa7": {
      "model_module": "@jupyter-widgets/controls",
      "model_module_version": "1.5.0",
      "model_name": "HTMLModel",
      "state": {
       "layout": "IPY_MODEL_bd613d6ffe444d66955db304c148b5a1",
       "style": "IPY_MODEL_c181e142e38f442b99fc9039d7e48357",
       "value": " 38/38 [00:01&lt;00:00, 27.00it/s]"
      }
     },
     "c843d9abb0a64927821face222c109ce": {
      "model_module": "@jupyter-widgets/controls",
      "model_module_version": "1.5.0",
      "model_name": "DescriptionStyleModel",
      "state": {
       "description_width": ""
      }
     },
     "c918b89590df408a8c7181c97098c10e": {
      "model_module": "@jupyter-widgets/controls",
      "model_module_version": "1.5.0",
      "model_name": "DescriptionStyleModel",
      "state": {
       "description_width": ""
      }
     },
     "c93fe2d51b394cc7892175d04417fa03": {
      "model_module": "@jupyter-widgets/base",
      "model_module_version": "1.2.0",
      "model_name": "LayoutModel",
      "state": {}
     },
     "c9adcb85a98c4e77828285aa9d789a9b": {
      "model_module": "@jupyter-widgets/controls",
      "model_module_version": "1.5.0",
      "model_name": "DescriptionStyleModel",
      "state": {
       "description_width": ""
      }
     },
     "c9c1f68420f9455aa5813694531d948d": {
      "model_module": "@jupyter-widgets/base",
      "model_module_version": "1.2.0",
      "model_name": "LayoutModel",
      "state": {}
     },
     "ca1e470b8a7647b7acb177d432180cc0": {
      "model_module": "@jupyter-widgets/controls",
      "model_module_version": "1.5.0",
      "model_name": "FloatProgressModel",
      "state": {
       "bar_style": "success",
       "layout": "IPY_MODEL_6a1757596c4946849993396fb71e14ad",
       "max": 5,
       "style": "IPY_MODEL_326a018b816e4ff0af5ad231f8ba2401",
       "value": 5
      }
     },
     "ca27fd367d6e4d398021a0c12656ba8f": {
      "model_module": "@jupyter-widgets/base",
      "model_module_version": "1.2.0",
      "model_name": "LayoutModel",
      "state": {}
     },
     "ca9b1169cef34247a9dde6170e8661bc": {
      "model_module": "@jupyter-widgets/base",
      "model_module_version": "1.2.0",
      "model_name": "LayoutModel",
      "state": {}
     },
     "cade333f9d334d41b43527f952d7b40d": {
      "model_module": "@jupyter-widgets/base",
      "model_module_version": "1.2.0",
      "model_name": "LayoutModel",
      "state": {}
     },
     "cae7fe2a78e049a8885aed0fe6311697": {
      "model_module": "@jupyter-widgets/controls",
      "model_module_version": "1.5.0",
      "model_name": "ProgressStyleModel",
      "state": {
       "description_width": ""
      }
     },
     "cb121f2dfaad40468d1b7a54e1a60aea": {
      "model_module": "@jupyter-widgets/controls",
      "model_module_version": "1.5.0",
      "model_name": "HTMLModel",
      "state": {
       "layout": "IPY_MODEL_163e28f8ef5e4b68b450dd8ddc184006",
       "style": "IPY_MODEL_1aba86864b744de7a697f592fbfc83bd",
       "value": "Epoch: 8. Train.    9.30589: 100%"
      }
     },
     "cb2f5600024745eaa633febc0405ada6": {
      "model_module": "@jupyter-widgets/base",
      "model_module_version": "1.2.0",
      "model_name": "LayoutModel",
      "state": {}
     },
     "cb6236884142497291fe9738b2ce0a74": {
      "model_module": "@jupyter-widgets/controls",
      "model_module_version": "1.5.0",
      "model_name": "HTMLModel",
      "state": {
       "layout": "IPY_MODEL_f1ace8480fb247d9a548af1c88923f0d",
       "style": "IPY_MODEL_ac39d1604c434c99b1cd87c262bcfc2a",
       "value": "Epoch: 16. Train.    4.14242: 100%"
      }
     },
     "cb9cdfd17b1745a3b5c1b469f7d6dd98": {
      "model_module": "@jupyter-widgets/controls",
      "model_module_version": "1.5.0",
      "model_name": "HTMLModel",
      "state": {
       "layout": "IPY_MODEL_5c9363af5ee64717a26980c59f4f3f72",
       "style": "IPY_MODEL_aa07800c9d274be4ac5e559d12429f0f",
       "value": "Epoch: 30. Train.    3.06507: 100%"
      }
     },
     "cc179d802f594ccabfd835f67d5bbfe9": {
      "model_module": "@jupyter-widgets/controls",
      "model_module_version": "1.5.0",
      "model_name": "FloatProgressModel",
      "state": {
       "bar_style": "success",
       "layout": "IPY_MODEL_aa194719d7e14a3598b4a51ff9e43d52",
       "max": 5,
       "style": "IPY_MODEL_1102523130fa4b739bb674e4775a3675",
       "value": 5
      }
     },
     "cc21d9d4038c459db0704f73eeb72f61": {
      "model_module": "@jupyter-widgets/base",
      "model_module_version": "1.2.0",
      "model_name": "LayoutModel",
      "state": {}
     },
     "ccd663b5f988468cbf22277fa579355c": {
      "model_module": "@jupyter-widgets/base",
      "model_module_version": "1.2.0",
      "model_name": "LayoutModel",
      "state": {}
     },
     "cce219636f8f4fb3ac0ad5f790684d22": {
      "model_module": "@jupyter-widgets/base",
      "model_module_version": "1.2.0",
      "model_name": "LayoutModel",
      "state": {}
     },
     "cce5e455e413476f9e10619013bc36bb": {
      "model_module": "@jupyter-widgets/controls",
      "model_module_version": "1.5.0",
      "model_name": "DescriptionStyleModel",
      "state": {
       "description_width": ""
      }
     },
     "cd013139ab414477b43e4db1f11aa6da": {
      "model_module": "@jupyter-widgets/base",
      "model_module_version": "1.2.0",
      "model_name": "LayoutModel",
      "state": {}
     },
     "cd11d85beef74c64b26798a6944cce1b": {
      "model_module": "@jupyter-widgets/base",
      "model_module_version": "1.2.0",
      "model_name": "LayoutModel",
      "state": {}
     },
     "cd46f06ed50b452fb60ee322fcdf657a": {
      "model_module": "@jupyter-widgets/controls",
      "model_module_version": "1.5.0",
      "model_name": "HTMLModel",
      "state": {
       "layout": "IPY_MODEL_b906b73ecc944de388687a5ff4bd656b",
       "style": "IPY_MODEL_713a265486cd4dc18b2126ff55a38709",
       "value": "Epoch: 26. Validation. 0.37623: 100%"
      }
     },
     "cd82a233bdbe4b158ea4313f68484fd6": {
      "model_module": "@jupyter-widgets/controls",
      "model_module_version": "1.5.0",
      "model_name": "DescriptionStyleModel",
      "state": {
       "description_width": ""
      }
     },
     "ce0789cd892348aa841e64ffdd5778ce": {
      "model_module": "@jupyter-widgets/base",
      "model_module_version": "1.2.0",
      "model_name": "LayoutModel",
      "state": {}
     },
     "ce3492160f1148f9874184cc361c103d": {
      "model_module": "@jupyter-widgets/controls",
      "model_module_version": "1.5.0",
      "model_name": "HBoxModel",
      "state": {
       "children": [
        "IPY_MODEL_856f48592cb8486ebd66a80c49bf4fd8",
        "IPY_MODEL_f77b86184cdd4d0185948e55f365db52",
        "IPY_MODEL_d01330452243458fa2c7e551e9eddb32"
       ],
       "layout": "IPY_MODEL_58a7c8ae5699448fa52a843186e412a1"
      }
     },
     "ce697d7440d24bfc9a9c1c2b3a0fbbf8": {
      "model_module": "@jupyter-widgets/controls",
      "model_module_version": "1.5.0",
      "model_name": "DescriptionStyleModel",
      "state": {
       "description_width": ""
      }
     },
     "ce9d9064cfae4262b1cc5be85d496633": {
      "model_module": "@jupyter-widgets/controls",
      "model_module_version": "1.5.0",
      "model_name": "HTMLModel",
      "state": {
       "layout": "IPY_MODEL_e37c430ec2894e8682df1bcaf2ed7045",
       "style": "IPY_MODEL_4995b71bd0874d359306c2a8f045f91e",
       "value": "Epoch: 34. Validation. 0.32077: 100%"
      }
     },
     "cef2ccb36d694f0b85b8c4f235d3cda4": {
      "model_module": "@jupyter-widgets/base",
      "model_module_version": "1.2.0",
      "model_name": "LayoutModel",
      "state": {}
     },
     "cefb153aeb724060812a392804ad3bb8": {
      "model_module": "@jupyter-widgets/base",
      "model_module_version": "1.2.0",
      "model_name": "LayoutModel",
      "state": {}
     },
     "d01330452243458fa2c7e551e9eddb32": {
      "model_module": "@jupyter-widgets/controls",
      "model_module_version": "1.5.0",
      "model_name": "HTMLModel",
      "state": {
       "layout": "IPY_MODEL_194b0515c4c645e8925d7dba8aac6147",
       "style": "IPY_MODEL_8ae7382d2acc417697975c0cb11934fb",
       "value": " 5/5 [00:00&lt;00:00, 15.66it/s]"
      }
     },
     "d013bf12bc704846a8e2a8c8058fcd8b": {
      "model_module": "@jupyter-widgets/controls",
      "model_module_version": "1.5.0",
      "model_name": "FloatProgressModel",
      "state": {
       "bar_style": "success",
       "layout": "IPY_MODEL_0b189ded10cc49b58dc08b377cbd4bb6",
       "max": 38,
       "style": "IPY_MODEL_10fcb69f6fb4438caff02c10e9e92172",
       "value": 38
      }
     },
     "d050a107ac3944928b45729c0cf0564a": {
      "model_module": "@jupyter-widgets/controls",
      "model_module_version": "1.5.0",
      "model_name": "HBoxModel",
      "state": {
       "children": [
        "IPY_MODEL_c6e5fbd75bbb4469a93eb67a4f41f793",
        "IPY_MODEL_6254e762615947eaafc3e15178b53c41",
        "IPY_MODEL_7c5a248282d0401c8d7af024b29b7e53"
       ],
       "layout": "IPY_MODEL_fb9d6e7882a342e2b757708b21d98e5e"
      }
     },
     "d08df385427e4fecbe40c13b82a0c216": {
      "model_module": "@jupyter-widgets/base",
      "model_module_version": "1.2.0",
      "model_name": "LayoutModel",
      "state": {}
     },
     "d0daad8c173242ca9b5b38ec2604d412": {
      "model_module": "@jupyter-widgets/controls",
      "model_module_version": "1.5.0",
      "model_name": "ProgressStyleModel",
      "state": {
       "description_width": ""
      }
     },
     "d0ec57ce43d3479a8978088ed625f86c": {
      "model_module": "@jupyter-widgets/controls",
      "model_module_version": "1.5.0",
      "model_name": "FloatProgressModel",
      "state": {
       "bar_style": "success",
       "layout": "IPY_MODEL_c93fe2d51b394cc7892175d04417fa03",
       "max": 5,
       "style": "IPY_MODEL_b52df3f7141041ca9c74fb09e26be322",
       "value": 5
      }
     },
     "d10ae682d131496aabf6bf75b3d279dc": {
      "model_module": "@jupyter-widgets/controls",
      "model_module_version": "1.5.0",
      "model_name": "HTMLModel",
      "state": {
       "layout": "IPY_MODEL_6a89a8a022b94a419dd2ef11a459be44",
       "style": "IPY_MODEL_98e665f89fce4051997f35b8e1fbb53b",
       "value": " 38/38 [00:01&lt;00:00, 25.16it/s]"
      }
     },
     "d125bdeae3f34aec82ea3fbe4b82e76f": {
      "model_module": "@jupyter-widgets/controls",
      "model_module_version": "1.5.0",
      "model_name": "FloatProgressModel",
      "state": {
       "bar_style": "success",
       "layout": "IPY_MODEL_238b16a6ea29455da2745846f72ecd42",
       "max": 38,
       "style": "IPY_MODEL_ed7abc27bdab4e56b4942c85af7fa3d6",
       "value": 38
      }
     },
     "d173d551d90b4a40b4d14c001ffa047b": {
      "model_module": "@jupyter-widgets/base",
      "model_module_version": "1.2.0",
      "model_name": "LayoutModel",
      "state": {}
     },
     "d19a8d2d0ac3429b89eb282b7d612449": {
      "model_module": "@jupyter-widgets/base",
      "model_module_version": "1.2.0",
      "model_name": "LayoutModel",
      "state": {}
     },
     "d29851467dc54bbba13a20284e59f6f8": {
      "model_module": "@jupyter-widgets/controls",
      "model_module_version": "1.5.0",
      "model_name": "DescriptionStyleModel",
      "state": {
       "description_width": ""
      }
     },
     "d29c0a9f786544b384701f5aec09b629": {
      "model_module": "@jupyter-widgets/base",
      "model_module_version": "1.2.0",
      "model_name": "LayoutModel",
      "state": {}
     },
     "d2be8692eb304ee8a0cd9d1087864780": {
      "model_module": "@jupyter-widgets/controls",
      "model_module_version": "1.5.0",
      "model_name": "HBoxModel",
      "state": {
       "children": [
        "IPY_MODEL_1f3f96dd58a34795ae5db5e72b3a9983",
        "IPY_MODEL_738e29daa2a24c0393a2be009b341ac8",
        "IPY_MODEL_f77465fe84134edcbd21a2e316674da1"
       ],
       "layout": "IPY_MODEL_67e58d6cd841413597b34065e676c494"
      }
     },
     "d2c767bd6e83461f988bec0cf7d356c6": {
      "model_module": "@jupyter-widgets/base",
      "model_module_version": "1.2.0",
      "model_name": "LayoutModel",
      "state": {}
     },
     "d3de7bdae7fb4473b44b53c2f27f58a3": {
      "model_module": "@jupyter-widgets/controls",
      "model_module_version": "1.5.0",
      "model_name": "ProgressStyleModel",
      "state": {
       "description_width": ""
      }
     },
     "d413b5e2e4b0476887e2e04eaff21a22": {
      "model_module": "@jupyter-widgets/base",
      "model_module_version": "1.2.0",
      "model_name": "LayoutModel",
      "state": {}
     },
     "d4a216456d1f4e1fa0fa74f5297239b4": {
      "model_module": "@jupyter-widgets/base",
      "model_module_version": "1.2.0",
      "model_name": "LayoutModel",
      "state": {}
     },
     "d5445a17770d44819e0e5ad8b8cb851e": {
      "model_module": "@jupyter-widgets/base",
      "model_module_version": "1.2.0",
      "model_name": "LayoutModel",
      "state": {}
     },
     "d544a5bc3c83424d976bf0b94942f5bb": {
      "model_module": "@jupyter-widgets/base",
      "model_module_version": "1.2.0",
      "model_name": "LayoutModel",
      "state": {}
     },
     "d57b7c075b704d8c975a7de9e9c0a44b": {
      "model_module": "@jupyter-widgets/base",
      "model_module_version": "1.2.0",
      "model_name": "LayoutModel",
      "state": {}
     },
     "d61354ee9152468692247b73b7244a01": {
      "model_module": "@jupyter-widgets/controls",
      "model_module_version": "1.5.0",
      "model_name": "DescriptionStyleModel",
      "state": {
       "description_width": ""
      }
     },
     "d658833285604e5fae496c359d4c2dd2": {
      "model_module": "@jupyter-widgets/base",
      "model_module_version": "1.2.0",
      "model_name": "LayoutModel",
      "state": {}
     },
     "d65a5fcc72294f98b95c15ced3bf6553": {
      "model_module": "@jupyter-widgets/controls",
      "model_module_version": "1.5.0",
      "model_name": "DescriptionStyleModel",
      "state": {
       "description_width": ""
      }
     },
     "d6a30f0ac34646c1995bc616b500d46a": {
      "model_module": "@jupyter-widgets/controls",
      "model_module_version": "1.5.0",
      "model_name": "HTMLModel",
      "state": {
       "layout": "IPY_MODEL_0ead502e5bd24d8fabd0b8702073540b",
       "style": "IPY_MODEL_ee0d79ba6c2f4cd8a887642763541f04",
       "value": "Epoch: 20. Validation. 0.41908: 100%"
      }
     },
     "d6dcbb225d314e53a9779c4a23a352ca": {
      "model_module": "@jupyter-widgets/base",
      "model_module_version": "1.2.0",
      "model_name": "LayoutModel",
      "state": {}
     },
     "d77d0dd1dbf34d6fb24cc42f6f35115d": {
      "model_module": "@jupyter-widgets/controls",
      "model_module_version": "1.5.0",
      "model_name": "HBoxModel",
      "state": {
       "children": [
        "IPY_MODEL_2213c939c40e49bd829e7efdab73af52",
        "IPY_MODEL_ca1e470b8a7647b7acb177d432180cc0",
        "IPY_MODEL_89e6d98f3e0c458e992ed7558ded2335"
       ],
       "layout": "IPY_MODEL_b32e125c20a64396a4178481e4a7d324"
      }
     },
     "d7a6c9e0add445878c09b2f3725e3b97": {
      "model_module": "@jupyter-widgets/controls",
      "model_module_version": "1.5.0",
      "model_name": "DescriptionStyleModel",
      "state": {
       "description_width": ""
      }
     },
     "d836b12c2c044388aa74355e5698dcaf": {
      "model_module": "@jupyter-widgets/controls",
      "model_module_version": "1.5.0",
      "model_name": "DescriptionStyleModel",
      "state": {
       "description_width": ""
      }
     },
     "d838d09ee0ab4ab0a30595b1e927edbc": {
      "model_module": "@jupyter-widgets/controls",
      "model_module_version": "1.5.0",
      "model_name": "DescriptionStyleModel",
      "state": {
       "description_width": ""
      }
     },
     "d868c442cb584256a4b1ee5f405ef1d5": {
      "model_module": "@jupyter-widgets/controls",
      "model_module_version": "1.5.0",
      "model_name": "FloatProgressModel",
      "state": {
       "bar_style": "success",
       "layout": "IPY_MODEL_af48ef815f1b4f8099f4ac893815494e",
       "max": 5,
       "style": "IPY_MODEL_585cff6e7a8144c8adfbcf35fca11aaf",
       "value": 5
      }
     },
     "d8d57a7bc5454764881870d7f113db21": {
      "model_module": "@jupyter-widgets/controls",
      "model_module_version": "1.5.0",
      "model_name": "HBoxModel",
      "state": {
       "children": [
        "IPY_MODEL_e2a132ca077a45aeb9dae3de0e37643f",
        "IPY_MODEL_bb08c40677444236a2ff373689c37459",
        "IPY_MODEL_e42242819e5045348b3b34604f945bee"
       ],
       "layout": "IPY_MODEL_234bfcf53d0b4cf581ae8052fe10e42d"
      }
     },
     "d8d8817907ea4060b8f48a39e3632704": {
      "model_module": "@jupyter-widgets/base",
      "model_module_version": "1.2.0",
      "model_name": "LayoutModel",
      "state": {}
     },
     "d926dc9c169e4b6d89d1619ea339ee53": {
      "model_module": "@jupyter-widgets/controls",
      "model_module_version": "1.5.0",
      "model_name": "ProgressStyleModel",
      "state": {
       "description_width": ""
      }
     },
     "d92a2f34a0934c1cb9eb07f2b0a1cd13": {
      "model_module": "@jupyter-widgets/controls",
      "model_module_version": "1.5.0",
      "model_name": "HBoxModel",
      "state": {
       "children": [
        "IPY_MODEL_baa8513b8c4d44699970e67f078a19ee",
        "IPY_MODEL_902b22487e904ffca224c088cf7e0efe",
        "IPY_MODEL_31b08886a03640268e032bd0abf1da41"
       ],
       "layout": "IPY_MODEL_3b7d84e700f74e9bb42959e349409e07"
      }
     },
     "d92bbf79d50943cda1020a038e8b1da8": {
      "model_module": "@jupyter-widgets/controls",
      "model_module_version": "1.5.0",
      "model_name": "HTMLModel",
      "state": {
       "layout": "IPY_MODEL_91f15592256e4cd1a5140c98fbaa7a00",
       "style": "IPY_MODEL_7a060015b19647168534804687f2f40d",
       "value": "Epoch: 22. Train.    4.17376: 100%"
      }
     },
     "da7bcbdf048d4824b4371b464ec3d331": {
      "model_module": "@jupyter-widgets/controls",
      "model_module_version": "1.5.0",
      "model_name": "DescriptionStyleModel",
      "state": {
       "description_width": ""
      }
     },
     "daef698ac6b3463bb89a1340c2aa0168": {
      "model_module": "@jupyter-widgets/base",
      "model_module_version": "1.2.0",
      "model_name": "LayoutModel",
      "state": {}
     },
     "db17345c7e33466ab8814c8dfe737da1": {
      "model_module": "@jupyter-widgets/controls",
      "model_module_version": "1.5.0",
      "model_name": "DescriptionStyleModel",
      "state": {
       "description_width": ""
      }
     },
     "db5b29f2d04f421cac6f094b0c7af7c0": {
      "model_module": "@jupyter-widgets/controls",
      "model_module_version": "1.5.0",
      "model_name": "HTMLModel",
      "state": {
       "layout": "IPY_MODEL_8d1ba02ae50846059e6a1ec6d9d9892e",
       "style": "IPY_MODEL_f4048b6a468b4f2b830e175204e23f01",
       "value": " 5/5 [00:00&lt;00:00, 15.54it/s]"
      }
     },
     "db8775151a474f28a928b733c8030221": {
      "model_module": "@jupyter-widgets/controls",
      "model_module_version": "1.5.0",
      "model_name": "DescriptionStyleModel",
      "state": {
       "description_width": ""
      }
     },
     "dbb99a3039ba4a92aec514d25aeeb928": {
      "model_module": "@jupyter-widgets/controls",
      "model_module_version": "1.5.0",
      "model_name": "HBoxModel",
      "state": {
       "children": [
        "IPY_MODEL_49cbe62ea8d940f48eaacb89d1b75836",
        "IPY_MODEL_7525f4e6ad14422d8b20429137cdd617",
        "IPY_MODEL_57f67317149e44e78a5c838d04dd41b2"
       ],
       "layout": "IPY_MODEL_1d41f5df68174a69a63967a311e7fe14"
      }
     },
     "dc79347678a54a87b1a2d3b916fd0c0c": {
      "model_module": "@jupyter-widgets/controls",
      "model_module_version": "1.5.0",
      "model_name": "HTMLModel",
      "state": {
       "layout": "IPY_MODEL_ed6f54739d9d4f68acb256606a255e63",
       "style": "IPY_MODEL_90413fc04ca84540a911afda13697c43",
       "value": "Epoch: 14. Validation. 0.48155: 100%"
      }
     },
     "dcda12efb5844776836e0524f52c76b9": {
      "model_module": "@jupyter-widgets/base",
      "model_module_version": "1.2.0",
      "model_name": "LayoutModel",
      "state": {}
     },
     "dcdebbb6e5db4805b7bd3b69bef50378": {
      "model_module": "@jupyter-widgets/base",
      "model_module_version": "1.2.0",
      "model_name": "LayoutModel",
      "state": {}
     },
     "dd0b0c6cfd6a493a8de4176bc6dc96a0": {
      "model_module": "@jupyter-widgets/controls",
      "model_module_version": "1.5.0",
      "model_name": "DescriptionStyleModel",
      "state": {
       "description_width": ""
      }
     },
     "dd7f1d8431484f2f84fd3bd97998f26f": {
      "model_module": "@jupyter-widgets/controls",
      "model_module_version": "1.5.0",
      "model_name": "FloatProgressModel",
      "state": {
       "bar_style": "success",
       "layout": "IPY_MODEL_b876bcb0512845e2a4f48e7c6871e446",
       "max": 38,
       "style": "IPY_MODEL_846fa0aa86734293a3a943289781585b",
       "value": 38
      }
     },
     "ddb4f2abdc4c44da8f7c63ea416ccf17": {
      "model_module": "@jupyter-widgets/base",
      "model_module_version": "1.2.0",
      "model_name": "LayoutModel",
      "state": {}
     },
     "dde627dfda6147998031f5dce058d255": {
      "model_module": "@jupyter-widgets/controls",
      "model_module_version": "1.5.0",
      "model_name": "DescriptionStyleModel",
      "state": {
       "description_width": ""
      }
     },
     "de25af0eb77444759f8e357140f0689b": {
      "model_module": "@jupyter-widgets/base",
      "model_module_version": "1.2.0",
      "model_name": "LayoutModel",
      "state": {}
     },
     "de5c8263a4424baf942edd4162fe1d88": {
      "model_module": "@jupyter-widgets/controls",
      "model_module_version": "1.5.0",
      "model_name": "FloatProgressModel",
      "state": {
       "bar_style": "success",
       "layout": "IPY_MODEL_c9c1f68420f9455aa5813694531d948d",
       "max": 38,
       "style": "IPY_MODEL_59215be4bd6242679a4a13fe60d1457a",
       "value": 38
      }
     },
     "de98d2566ba8483aa2695e44d43db89e": {
      "model_module": "@jupyter-widgets/base",
      "model_module_version": "1.2.0",
      "model_name": "LayoutModel",
      "state": {}
     },
     "debd228941e94b778ad26c80f9730fe7": {
      "model_module": "@jupyter-widgets/base",
      "model_module_version": "1.2.0",
      "model_name": "LayoutModel",
      "state": {}
     },
     "dee40ced247a4503baf61a197781bf52": {
      "model_module": "@jupyter-widgets/controls",
      "model_module_version": "1.5.0",
      "model_name": "FloatProgressModel",
      "state": {
       "bar_style": "success",
       "layout": "IPY_MODEL_f902c67f4c8d49c197f38d06dd677912",
       "max": 5,
       "style": "IPY_MODEL_86247156e440435a9f56363ac7af2050",
       "value": 5
      }
     },
     "df0b420e99ef43a3bd27304d8d99e3ad": {
      "model_module": "@jupyter-widgets/controls",
      "model_module_version": "1.5.0",
      "model_name": "DescriptionStyleModel",
      "state": {
       "description_width": ""
      }
     },
     "dfab8682ceb9450b9de1053dbc3d8d3f": {
      "model_module": "@jupyter-widgets/controls",
      "model_module_version": "1.5.0",
      "model_name": "HBoxModel",
      "state": {
       "children": [
        "IPY_MODEL_263c92aec3164d6a9ae9a5b772ca2aa4",
        "IPY_MODEL_2910098778784896989420736aacd2fb",
        "IPY_MODEL_f77f5518b6414df885994cd283df4343"
       ],
       "layout": "IPY_MODEL_1d92f1d325234a1aacfb9187326dee6e"
      }
     },
     "e032e64d4d9e48be8c7efa69b82e0b80": {
      "model_module": "@jupyter-widgets/controls",
      "model_module_version": "1.5.0",
      "model_name": "DescriptionStyleModel",
      "state": {
       "description_width": ""
      }
     },
     "e0a9be59b26e49159c5d5b5f0554ee3b": {
      "model_module": "@jupyter-widgets/controls",
      "model_module_version": "1.5.0",
      "model_name": "DescriptionStyleModel",
      "state": {
       "description_width": ""
      }
     },
     "e0aef17340f24697b965fc0b2262fda1": {
      "model_module": "@jupyter-widgets/controls",
      "model_module_version": "1.5.0",
      "model_name": "HBoxModel",
      "state": {
       "children": [
        "IPY_MODEL_7b94fe5014e941c68d7cd3deee5122cc",
        "IPY_MODEL_be74937bf7f946369a1f44145ba56574",
        "IPY_MODEL_43e3529d22144d3e9257c591b716502b"
       ],
       "layout": "IPY_MODEL_6bb916518c0848d5ba5feedcff0908f7"
      }
     },
     "e0f35c30d8c04f10bd1ef31933c4e7cb": {
      "model_module": "@jupyter-widgets/base",
      "model_module_version": "1.2.0",
      "model_name": "LayoutModel",
      "state": {}
     },
     "e0f4be6fe3a14113bcaa050411648628": {
      "model_module": "@jupyter-widgets/base",
      "model_module_version": "1.2.0",
      "model_name": "LayoutModel",
      "state": {}
     },
     "e10285c38dfc44b985734b820887ec9f": {
      "model_module": "@jupyter-widgets/controls",
      "model_module_version": "1.5.0",
      "model_name": "DescriptionStyleModel",
      "state": {
       "description_width": ""
      }
     },
     "e2a132ca077a45aeb9dae3de0e37643f": {
      "model_module": "@jupyter-widgets/controls",
      "model_module_version": "1.5.0",
      "model_name": "HTMLModel",
      "state": {
       "layout": "IPY_MODEL_ec08f5285240470094990aa95f103f3f",
       "style": "IPY_MODEL_bca5bb53bce44101b386ba4285aa2cfb",
       "value": "Epoch: 1. Train.    63.99164: 100%"
      }
     },
     "e2b7b7e70f5f4988afc9f8da72d789f3": {
      "model_module": "@jupyter-widgets/controls",
      "model_module_version": "1.5.0",
      "model_name": "HTMLModel",
      "state": {
       "layout": "IPY_MODEL_f651402b5459493db205aa373828a76b",
       "style": "IPY_MODEL_0cd06e184ce54d9e8bdab0043daff0a7",
       "value": "Epoch: 23. Validation. 0.41524: 100%"
      }
     },
     "e37c430ec2894e8682df1bcaf2ed7045": {
      "model_module": "@jupyter-widgets/base",
      "model_module_version": "1.2.0",
      "model_name": "LayoutModel",
      "state": {}
     },
     "e3810b0a473c4eff9a303979929a620f": {
      "model_module": "@jupyter-widgets/base",
      "model_module_version": "1.2.0",
      "model_name": "LayoutModel",
      "state": {}
     },
     "e3c95a635e9b4d35a7fab4df116d2e53": {
      "model_module": "@jupyter-widgets/controls",
      "model_module_version": "1.5.0",
      "model_name": "ProgressStyleModel",
      "state": {
       "description_width": ""
      }
     },
     "e3dd419791b6405e8491ac088c37f7af": {
      "model_module": "@jupyter-widgets/controls",
      "model_module_version": "1.5.0",
      "model_name": "DescriptionStyleModel",
      "state": {
       "description_width": ""
      }
     },
     "e3f9b72dfab24176b56109fa9726ac0c": {
      "model_module": "@jupyter-widgets/base",
      "model_module_version": "1.2.0",
      "model_name": "LayoutModel",
      "state": {}
     },
     "e42242819e5045348b3b34604f945bee": {
      "model_module": "@jupyter-widgets/controls",
      "model_module_version": "1.5.0",
      "model_name": "HTMLModel",
      "state": {
       "layout": "IPY_MODEL_733c066d83d04d8c9bb0ecc6eaa99639",
       "style": "IPY_MODEL_9dc00cc231db4bee935ba1c2f24bfab5",
       "value": " 38/38 [00:02&lt;00:00, 26.73it/s]"
      }
     },
     "e4710cbc40244fb681851a8af7385b0e": {
      "model_module": "@jupyter-widgets/controls",
      "model_module_version": "1.5.0",
      "model_name": "FloatProgressModel",
      "state": {
       "bar_style": "success",
       "layout": "IPY_MODEL_1ec4e03d7205443b996def008f331003",
       "max": 5,
       "style": "IPY_MODEL_205445a97fa04d89929c01a876511b06",
       "value": 5
      }
     },
     "e4b5090dc493488e9720c5ffe20cc4a2": {
      "model_module": "@jupyter-widgets/base",
      "model_module_version": "1.2.0",
      "model_name": "LayoutModel",
      "state": {}
     },
     "e612019884f24bcf8efae4c25af71c5b": {
      "model_module": "@jupyter-widgets/base",
      "model_module_version": "1.2.0",
      "model_name": "LayoutModel",
      "state": {}
     },
     "e7223543559b4b1cb78d036e5f8f1e3a": {
      "model_module": "@jupyter-widgets/controls",
      "model_module_version": "1.5.0",
      "model_name": "FloatProgressModel",
      "state": {
       "bar_style": "success",
       "layout": "IPY_MODEL_cc21d9d4038c459db0704f73eeb72f61",
       "max": 5,
       "style": "IPY_MODEL_7038885219214cabb9b1c948e54df9c0",
       "value": 5
      }
     },
     "e783f4a5b80f489d81e61719430f4df0": {
      "model_module": "@jupyter-widgets/base",
      "model_module_version": "1.2.0",
      "model_name": "LayoutModel",
      "state": {}
     },
     "e78e7492b31444b8b7034520f49ff79d": {
      "model_module": "@jupyter-widgets/controls",
      "model_module_version": "1.5.0",
      "model_name": "HTMLModel",
      "state": {
       "layout": "IPY_MODEL_c6c8a142a3d9432faacaa45f20b5e75e",
       "style": "IPY_MODEL_62414a58c62f40a681145797c7fdba4c",
       "value": " 38/38 [00:01&lt;00:00, 26.93it/s]"
      }
     },
     "e84cce402f254a98b3707758ae686284": {
      "model_module": "@jupyter-widgets/controls",
      "model_module_version": "1.5.0",
      "model_name": "HTMLModel",
      "state": {
       "layout": "IPY_MODEL_d08df385427e4fecbe40c13b82a0c216",
       "style": "IPY_MODEL_d7a6c9e0add445878c09b2f3725e3b97",
       "value": " 38/38 [00:01&lt;00:00, 27.33it/s]"
      }
     },
     "e866efe2742f47209fe08ea010fccba4": {
      "model_module": "@jupyter-widgets/base",
      "model_module_version": "1.2.0",
      "model_name": "LayoutModel",
      "state": {}
     },
     "e872b18665a74efdab54724ce4dd0eed": {
      "model_module": "@jupyter-widgets/base",
      "model_module_version": "1.2.0",
      "model_name": "LayoutModel",
      "state": {}
     },
     "e8b0c983576a4bbe86bf895406913e7b": {
      "model_module": "@jupyter-widgets/controls",
      "model_module_version": "1.5.0",
      "model_name": "DescriptionStyleModel",
      "state": {
       "description_width": ""
      }
     },
     "e9583d03775e4d6e88a68133058ceeb7": {
      "model_module": "@jupyter-widgets/controls",
      "model_module_version": "1.5.0",
      "model_name": "HTMLModel",
      "state": {
       "layout": "IPY_MODEL_225cf25d3ab24bd18bd02d2cd536f10b",
       "style": "IPY_MODEL_97edf32934f44b1ebaf134d035527e90",
       "value": " 38/38 [00:01&lt;00:00, 26.67it/s]"
      }
     },
     "e998bd0ec6e04ea0b66adac00c58805b": {
      "model_module": "@jupyter-widgets/controls",
      "model_module_version": "1.5.0",
      "model_name": "HTMLModel",
      "state": {
       "layout": "IPY_MODEL_0e0cc0a49de7475a8c244979bf6ddd05",
       "style": "IPY_MODEL_024722c5ecb54c59816f3c7537c39c08",
       "value": "Epoch: 38. Train.    2.75274: 100%"
      }
     },
     "e999c81651be49fabf84d3194021330f": {
      "model_module": "@jupyter-widgets/controls",
      "model_module_version": "1.5.0",
      "model_name": "DescriptionStyleModel",
      "state": {
       "description_width": ""
      }
     },
     "e9b97bafaf1246a9affd6b9b280f7bc7": {
      "model_module": "@jupyter-widgets/controls",
      "model_module_version": "1.5.0",
      "model_name": "HTMLModel",
      "state": {
       "layout": "IPY_MODEL_d8d8817907ea4060b8f48a39e3632704",
       "style": "IPY_MODEL_87f50274dcff4a23afac824cc3730029",
       "value": " 38/38 [00:01&lt;00:00, 26.49it/s]"
      }
     },
     "e9ef44ded43b446797017b6ac0ad8acc": {
      "model_module": "@jupyter-widgets/controls",
      "model_module_version": "1.5.0",
      "model_name": "FloatProgressModel",
      "state": {
       "bar_style": "success",
       "layout": "IPY_MODEL_6facdbc40fab4eae9495fbffa0c21dfe",
       "max": 38,
       "style": "IPY_MODEL_d926dc9c169e4b6d89d1619ea339ee53",
       "value": 38
      }
     },
     "ea76fc69cb0b44d4bb212483e94f6c66": {
      "model_module": "@jupyter-widgets/controls",
      "model_module_version": "1.5.0",
      "model_name": "HTMLModel",
      "state": {
       "layout": "IPY_MODEL_71828109a82e4b629dcbcbb1257ad435",
       "style": "IPY_MODEL_09de6fb36c984becad314c41375c553a",
       "value": "Epoch: 5. Validation. 1.04897: 100%"
      }
     },
     "ea953b391a8642f8841fc1a67d162b3c": {
      "model_module": "@jupyter-widgets/controls",
      "model_module_version": "1.5.0",
      "model_name": "DescriptionStyleModel",
      "state": {
       "description_width": ""
      }
     },
     "eb64cf786ee1496b8ffea597d918d6ca": {
      "model_module": "@jupyter-widgets/controls",
      "model_module_version": "1.5.0",
      "model_name": "HTMLModel",
      "state": {
       "layout": "IPY_MODEL_bc6140657de34d70aad2cb02e4fe746c",
       "style": "IPY_MODEL_dd0b0c6cfd6a493a8de4176bc6dc96a0",
       "value": " 5/5 [00:00&lt;00:00, 15.35it/s]"
      }
     },
     "ec08f5285240470094990aa95f103f3f": {
      "model_module": "@jupyter-widgets/base",
      "model_module_version": "1.2.0",
      "model_name": "LayoutModel",
      "state": {}
     },
     "ec7050b0ef2947b189e38fb41be41cd6": {
      "model_module": "@jupyter-widgets/base",
      "model_module_version": "1.2.0",
      "model_name": "LayoutModel",
      "state": {}
     },
     "ec95d57ad97b49dc95fb4f00cfe613b6": {
      "model_module": "@jupyter-widgets/controls",
      "model_module_version": "1.5.0",
      "model_name": "HTMLModel",
      "state": {
       "layout": "IPY_MODEL_b84247874f184e5a8a2aaa563ac464bf",
       "style": "IPY_MODEL_a8a73d3de6904eb8b2d199275fe01e22",
       "value": "Epoch: 37. Train.    2.96821: 100%"
      }
     },
     "ec9c87216c1e4a18bb65228df2f7487d": {
      "model_module": "@jupyter-widgets/controls",
      "model_module_version": "1.5.0",
      "model_name": "DescriptionStyleModel",
      "state": {
       "description_width": ""
      }
     },
     "ecab1304d5d542caa9abc366a8a67578": {
      "model_module": "@jupyter-widgets/base",
      "model_module_version": "1.2.0",
      "model_name": "LayoutModel",
      "state": {}
     },
     "ecd068db946c42c9a031ef704d58d6cb": {
      "model_module": "@jupyter-widgets/base",
      "model_module_version": "1.2.0",
      "model_name": "LayoutModel",
      "state": {}
     },
     "ed4005860f4d4c16be39bd57bbf754e6": {
      "model_module": "@jupyter-widgets/controls",
      "model_module_version": "1.5.0",
      "model_name": "HTMLModel",
      "state": {
       "layout": "IPY_MODEL_9ff7867d150d48d883ad04593b9af939",
       "style": "IPY_MODEL_edb70e031c1644e7b5e2778e3aa45051",
       "value": "Epoch: 27. Validation. 0.34039: 100%"
      }
     },
     "ed6f54739d9d4f68acb256606a255e63": {
      "model_module": "@jupyter-widgets/base",
      "model_module_version": "1.2.0",
      "model_name": "LayoutModel",
      "state": {}
     },
     "ed704cfa697a4c3f9e84d3d4f21187d6": {
      "model_module": "@jupyter-widgets/controls",
      "model_module_version": "1.5.0",
      "model_name": "HTMLModel",
      "state": {
       "layout": "IPY_MODEL_d29c0a9f786544b384701f5aec09b629",
       "style": "IPY_MODEL_7244be05de7640edbc7d382761f2044b",
       "value": " 38/38 [00:01&lt;00:00, 26.26it/s]"
      }
     },
     "ed7abc27bdab4e56b4942c85af7fa3d6": {
      "model_module": "@jupyter-widgets/controls",
      "model_module_version": "1.5.0",
      "model_name": "ProgressStyleModel",
      "state": {
       "description_width": ""
      }
     },
     "ed7b446a65ff4cc2a0084a8de4848f19": {
      "model_module": "@jupyter-widgets/controls",
      "model_module_version": "1.5.0",
      "model_name": "ProgressStyleModel",
      "state": {
       "description_width": ""
      }
     },
     "eda86d4aaa8243ccad5935c1982d9de6": {
      "model_module": "@jupyter-widgets/controls",
      "model_module_version": "1.5.0",
      "model_name": "HBoxModel",
      "state": {
       "children": [
        "IPY_MODEL_cd46f06ed50b452fb60ee322fcdf657a",
        "IPY_MODEL_0affeaea91564e2daccafc042c8c20dd",
        "IPY_MODEL_48d4c30d76024984986a30f23bb6de2c"
       ],
       "layout": "IPY_MODEL_ca9b1169cef34247a9dde6170e8661bc"
      }
     },
     "edb70e031c1644e7b5e2778e3aa45051": {
      "model_module": "@jupyter-widgets/controls",
      "model_module_version": "1.5.0",
      "model_name": "DescriptionStyleModel",
      "state": {
       "description_width": ""
      }
     },
     "edcd2d069478417697776c58c207fd6d": {
      "model_module": "@jupyter-widgets/controls",
      "model_module_version": "1.5.0",
      "model_name": "HTMLModel",
      "state": {
       "layout": "IPY_MODEL_3f59c4c970cf4a049fd97f4b2e8a0708",
       "style": "IPY_MODEL_059be177711e4959a5ec0a8ff06ae3c6",
       "value": " 38/38 [00:01&lt;00:00, 27.49it/s]"
      }
     },
     "ee0d79ba6c2f4cd8a887642763541f04": {
      "model_module": "@jupyter-widgets/controls",
      "model_module_version": "1.5.0",
      "model_name": "DescriptionStyleModel",
      "state": {
       "description_width": ""
      }
     },
     "ee1a61791cbf4229b152ddebccef97fe": {
      "model_module": "@jupyter-widgets/controls",
      "model_module_version": "1.5.0",
      "model_name": "ProgressStyleModel",
      "state": {
       "description_width": ""
      }
     },
     "ee7f2bf45c86474ca91fa65c4d3a0b5f": {
      "model_module": "@jupyter-widgets/base",
      "model_module_version": "1.2.0",
      "model_name": "LayoutModel",
      "state": {}
     },
     "ee8acd79272d4372b1923d8e38dc888a": {
      "model_module": "@jupyter-widgets/controls",
      "model_module_version": "1.5.0",
      "model_name": "DescriptionStyleModel",
      "state": {
       "description_width": ""
      }
     },
     "eed6e16b5401440f81eb05caa617584c": {
      "model_module": "@jupyter-widgets/controls",
      "model_module_version": "1.5.0",
      "model_name": "DescriptionStyleModel",
      "state": {
       "description_width": ""
      }
     },
     "ef1081009c814852a5ab60009bd9e845": {
      "model_module": "@jupyter-widgets/base",
      "model_module_version": "1.2.0",
      "model_name": "LayoutModel",
      "state": {}
     },
     "ef4c0038000740afa6802143d6b35f1f": {
      "model_module": "@jupyter-widgets/controls",
      "model_module_version": "1.5.0",
      "model_name": "DescriptionStyleModel",
      "state": {
       "description_width": ""
      }
     },
     "ef8ae45eb93e49d2b504334e06a98702": {
      "model_module": "@jupyter-widgets/base",
      "model_module_version": "1.2.0",
      "model_name": "LayoutModel",
      "state": {}
     },
     "ef96708dca604dec9be30c09779f4174": {
      "model_module": "@jupyter-widgets/base",
      "model_module_version": "1.2.0",
      "model_name": "LayoutModel",
      "state": {}
     },
     "efb204bc1f6d4ea497aeb378c570322b": {
      "model_module": "@jupyter-widgets/controls",
      "model_module_version": "1.5.0",
      "model_name": "HBoxModel",
      "state": {
       "children": [
        "IPY_MODEL_62a16da0c1854d45ac725cbd5332bcb1",
        "IPY_MODEL_2eca7a0a321b4753a9e70383d26457a7",
        "IPY_MODEL_2a1fb1c873434a7e9376e6205ec70757"
       ],
       "layout": "IPY_MODEL_7427cb2d1c9d447d8d4935e3edf75ae9"
      }
     },
     "efecb9af3f914cc4b6c16a3e2bd914ff": {
      "model_module": "@jupyter-widgets/controls",
      "model_module_version": "1.5.0",
      "model_name": "DescriptionStyleModel",
      "state": {
       "description_width": ""
      }
     },
     "eff716ceaf5c4c25a7bf50092cd288fa": {
      "model_module": "@jupyter-widgets/controls",
      "model_module_version": "1.5.0",
      "model_name": "HBoxModel",
      "state": {
       "children": [
        "IPY_MODEL_91056eb6f949470386ffe80a7638dcc8",
        "IPY_MODEL_89f9285611b44a9d84f3d353156ad69a",
        "IPY_MODEL_a53682890a0045578512e40e15328996"
       ],
       "layout": "IPY_MODEL_bf12dd14dd8f423ebef3b5e1e9ce3d27"
      }
     },
     "f06892c856e04958a415704f8b1c569a": {
      "model_module": "@jupyter-widgets/controls",
      "model_module_version": "1.5.0",
      "model_name": "HTMLModel",
      "state": {
       "layout": "IPY_MODEL_a1031dea5feb49d1ae6b44ef80be2346",
       "style": "IPY_MODEL_eed6e16b5401440f81eb05caa617584c",
       "value": "Epoch: 24. Train.    3.74670: 100%"
      }
     },
     "f13c553f6b7842baac3bd488d24dd3d6": {
      "model_module": "@jupyter-widgets/controls",
      "model_module_version": "1.5.0",
      "model_name": "HTMLModel",
      "state": {
       "layout": "IPY_MODEL_b0527442cbd8457ebbf227532fa440ad",
       "style": "IPY_MODEL_9071dc8c552e46ebaf28abdead7a5fe2",
       "value": " 5/5 [00:00&lt;00:00, 15.48it/s]"
      }
     },
     "f1574648e89443ce98d71e0413b01b73": {
      "model_module": "@jupyter-widgets/base",
      "model_module_version": "1.2.0",
      "model_name": "LayoutModel",
      "state": {}
     },
     "f1ace8480fb247d9a548af1c88923f0d": {
      "model_module": "@jupyter-widgets/base",
      "model_module_version": "1.2.0",
      "model_name": "LayoutModel",
      "state": {}
     },
     "f234d2260e124a4381ded120ab6e2bfd": {
      "model_module": "@jupyter-widgets/controls",
      "model_module_version": "1.5.0",
      "model_name": "HTMLModel",
      "state": {
       "layout": "IPY_MODEL_872f1474688b4338a7823abb9b2d1036",
       "style": "IPY_MODEL_264b113e000741e98a3133f5ddbb4eef",
       "value": " 5/5 [00:00&lt;00:00, 15.90it/s]"
      }
     },
     "f2e3affc3d9e43e694d55ff17b1ff88d": {
      "model_module": "@jupyter-widgets/controls",
      "model_module_version": "1.5.0",
      "model_name": "DescriptionStyleModel",
      "state": {
       "description_width": ""
      }
     },
     "f3e59ac9159b4ac5babb697b31aee56c": {
      "model_module": "@jupyter-widgets/base",
      "model_module_version": "1.2.0",
      "model_name": "LayoutModel",
      "state": {}
     },
     "f3eb69183e524206bab30865febe2c91": {
      "model_module": "@jupyter-widgets/base",
      "model_module_version": "1.2.0",
      "model_name": "LayoutModel",
      "state": {}
     },
     "f4048b6a468b4f2b830e175204e23f01": {
      "model_module": "@jupyter-widgets/controls",
      "model_module_version": "1.5.0",
      "model_name": "DescriptionStyleModel",
      "state": {
       "description_width": ""
      }
     },
     "f41a2b5f61554d3996b1da14552ac7b5": {
      "model_module": "@jupyter-widgets/controls",
      "model_module_version": "1.5.0",
      "model_name": "DescriptionStyleModel",
      "state": {
       "description_width": ""
      }
     },
     "f41dd5cd620b4cf9b865e587a00954fb": {
      "model_module": "@jupyter-widgets/controls",
      "model_module_version": "1.5.0",
      "model_name": "HTMLModel",
      "state": {
       "layout": "IPY_MODEL_e0f35c30d8c04f10bd1ef31933c4e7cb",
       "style": "IPY_MODEL_ef4c0038000740afa6802143d6b35f1f",
       "value": "Epoch: 25. Train.    3.43399: 100%"
      }
     },
     "f4a2b23a79fd4350a26536bd5584b082": {
      "model_module": "@jupyter-widgets/base",
      "model_module_version": "1.2.0",
      "model_name": "LayoutModel",
      "state": {}
     },
     "f4a3a5950caa4bd597667e54a8765f90": {
      "model_module": "@jupyter-widgets/controls",
      "model_module_version": "1.5.0",
      "model_name": "FloatProgressModel",
      "state": {
       "bar_style": "success",
       "layout": "IPY_MODEL_5164dac97e0c4c6d8c47af9dab402d16",
       "max": 38,
       "style": "IPY_MODEL_a5d3fcaf6d4f4349a1b1fd1e184f9372",
       "value": 38
      }
     },
     "f4ae344e279a48c19d0bb652991c0d0a": {
      "model_module": "@jupyter-widgets/base",
      "model_module_version": "1.2.0",
      "model_name": "LayoutModel",
      "state": {}
     },
     "f4fe1d705c47448fae23c111ebfea01d": {
      "model_module": "@jupyter-widgets/controls",
      "model_module_version": "1.5.0",
      "model_name": "HTMLModel",
      "state": {
       "layout": "IPY_MODEL_5db65efd6f4342bcb2e4b84364a4a1b1",
       "style": "IPY_MODEL_db17345c7e33466ab8814c8dfe737da1",
       "value": "Epoch: 37. Validation. 0.31602: 100%"
      }
     },
     "f568127ea93447e99779a93e1dc19397": {
      "model_module": "@jupyter-widgets/controls",
      "model_module_version": "1.5.0",
      "model_name": "DescriptionStyleModel",
      "state": {
       "description_width": ""
      }
     },
     "f57ba9bfac5d4a4085e1e88e6eb4e0cc": {
      "model_module": "@jupyter-widgets/base",
      "model_module_version": "1.2.0",
      "model_name": "LayoutModel",
      "state": {}
     },
     "f5b6d250f0cd421db923412c3a10a4f2": {
      "model_module": "@jupyter-widgets/controls",
      "model_module_version": "1.5.0",
      "model_name": "DescriptionStyleModel",
      "state": {
       "description_width": ""
      }
     },
     "f5cf439801024f6b8bf84f96f316d251": {
      "model_module": "@jupyter-widgets/base",
      "model_module_version": "1.2.0",
      "model_name": "LayoutModel",
      "state": {}
     },
     "f60c219bc0404ac19e329296910c8add": {
      "model_module": "@jupyter-widgets/controls",
      "model_module_version": "1.5.0",
      "model_name": "DescriptionStyleModel",
      "state": {
       "description_width": ""
      }
     },
     "f64e675d0b894d8d8064608086112906": {
      "model_module": "@jupyter-widgets/controls",
      "model_module_version": "1.5.0",
      "model_name": "HTMLModel",
      "state": {
       "layout": "IPY_MODEL_232c116f84564f929b455b42183aea1d",
       "style": "IPY_MODEL_699d67f5d4a543e099739d1af4cbdb97",
       "value": "Epoch: 32. Validation. 0.31931: 100%"
      }
     },
     "f651402b5459493db205aa373828a76b": {
      "model_module": "@jupyter-widgets/base",
      "model_module_version": "1.2.0",
      "model_name": "LayoutModel",
      "state": {}
     },
     "f6a8fa2853eb4fd29a36b8108075522d": {
      "model_module": "@jupyter-widgets/base",
      "model_module_version": "1.2.0",
      "model_name": "LayoutModel",
      "state": {}
     },
     "f7138f63f4cd4a18a65a1cb7e51b1027": {
      "model_module": "@jupyter-widgets/base",
      "model_module_version": "1.2.0",
      "model_name": "LayoutModel",
      "state": {}
     },
     "f76e8afd8dcd4687ae3001930ad2091c": {
      "model_module": "@jupyter-widgets/base",
      "model_module_version": "1.2.0",
      "model_name": "LayoutModel",
      "state": {}
     },
     "f77465fe84134edcbd21a2e316674da1": {
      "model_module": "@jupyter-widgets/controls",
      "model_module_version": "1.5.0",
      "model_name": "HTMLModel",
      "state": {
       "layout": "IPY_MODEL_bccad1ea66e84c98857fb4258046a9a8",
       "style": "IPY_MODEL_baf01f87cd8243d5b319aa9a7787fb59",
       "value": " 5/5 [00:00&lt;00:00, 15.86it/s]"
      }
     },
     "f77b86184cdd4d0185948e55f365db52": {
      "model_module": "@jupyter-widgets/controls",
      "model_module_version": "1.5.0",
      "model_name": "FloatProgressModel",
      "state": {
       "bar_style": "success",
       "layout": "IPY_MODEL_828e7df7c08c49669ff61c2c57b30a40",
       "max": 5,
       "style": "IPY_MODEL_51a2ed590c3b4c42bf29d6a827fd0a01",
       "value": 5
      }
     },
     "f77f5518b6414df885994cd283df4343": {
      "model_module": "@jupyter-widgets/controls",
      "model_module_version": "1.5.0",
      "model_name": "HTMLModel",
      "state": {
       "layout": "IPY_MODEL_3f9af6bc974040958d2dfef44d51f90c",
       "style": "IPY_MODEL_8ddccc5c5f8e488fa3f6a65a3f01810d",
       "value": " 38/38 [00:01&lt;00:00, 27.17it/s]"
      }
     },
     "f7d7bc0c34aa4d1088f1d1acf2c2080f": {
      "model_module": "@jupyter-widgets/controls",
      "model_module_version": "1.5.0",
      "model_name": "DescriptionStyleModel",
      "state": {
       "description_width": ""
      }
     },
     "f81210aa6a224bc387f35bb654b4a9cf": {
      "model_module": "@jupyter-widgets/controls",
      "model_module_version": "1.5.0",
      "model_name": "DescriptionStyleModel",
      "state": {
       "description_width": ""
      }
     },
     "f8f631bde9194c5b99ccb31edfb1b41c": {
      "model_module": "@jupyter-widgets/controls",
      "model_module_version": "1.5.0",
      "model_name": "HBoxModel",
      "state": {
       "children": [
        "IPY_MODEL_3f159829bb7940d7a1fdd00bd1d3b085",
        "IPY_MODEL_92ad4c0b59844e25a54ca51f1e9eb04d",
        "IPY_MODEL_291f4b8949f048689fe3a33f3f433655"
       ],
       "layout": "IPY_MODEL_18db50e17ac74061a444a4818113aad3"
      }
     },
     "f902c67f4c8d49c197f38d06dd677912": {
      "model_module": "@jupyter-widgets/base",
      "model_module_version": "1.2.0",
      "model_name": "LayoutModel",
      "state": {}
     },
     "f90cbdab898e4ffc859c1eec7c0aa28d": {
      "model_module": "@jupyter-widgets/base",
      "model_module_version": "1.2.0",
      "model_name": "LayoutModel",
      "state": {}
     },
     "f93c02c926f54fbd8bbabcefc6a4a8ba": {
      "model_module": "@jupyter-widgets/base",
      "model_module_version": "1.2.0",
      "model_name": "LayoutModel",
      "state": {}
     },
     "f9d05891f2fa41079a8df516b9bea557": {
      "model_module": "@jupyter-widgets/base",
      "model_module_version": "1.2.0",
      "model_name": "LayoutModel",
      "state": {}
     },
     "fa2e0a99dd6d4c39a0ef6a1c5ca14d4e": {
      "model_module": "@jupyter-widgets/controls",
      "model_module_version": "1.5.0",
      "model_name": "HTMLModel",
      "state": {
       "layout": "IPY_MODEL_f5cf439801024f6b8bf84f96f316d251",
       "style": "IPY_MODEL_926e1819574344419d208743a130710e",
       "value": " 38/38 [00:01&lt;00:00, 27.09it/s]"
      }
     },
     "fa3406a489f64c0d9790c9e069e08f6b": {
      "model_module": "@jupyter-widgets/controls",
      "model_module_version": "1.5.0",
      "model_name": "DescriptionStyleModel",
      "state": {
       "description_width": ""
      }
     },
     "fa36291421a3479cb5b9c218034f3319": {
      "model_module": "@jupyter-widgets/controls",
      "model_module_version": "1.5.0",
      "model_name": "ProgressStyleModel",
      "state": {
       "description_width": ""
      }
     },
     "fa4f318883ad4e1e99dd0dc9c1e14272": {
      "model_module": "@jupyter-widgets/controls",
      "model_module_version": "1.5.0",
      "model_name": "HTMLModel",
      "state": {
       "layout": "IPY_MODEL_8a853dac6fa34f5ea28e93e08a32a18f",
       "style": "IPY_MODEL_b171b9b6e1e54d2ea1ff051ce0fa8ecc",
       "value": " 5/5 [00:00&lt;00:00, 16.00it/s]"
      }
     },
     "fb9d6e7882a342e2b757708b21d98e5e": {
      "model_module": "@jupyter-widgets/base",
      "model_module_version": "1.2.0",
      "model_name": "LayoutModel",
      "state": {}
     },
     "fbd0ef3c442447e0afa187e88e5228fc": {
      "model_module": "@jupyter-widgets/controls",
      "model_module_version": "1.5.0",
      "model_name": "HBoxModel",
      "state": {
       "children": [
        "IPY_MODEL_754ffd0d82bd469d829a5d8a56ffaf3b",
        "IPY_MODEL_531b342fd90b42ea8b3b308872f89f27",
        "IPY_MODEL_b46f59d33f714d91b123f015f721f26d"
       ],
       "layout": "IPY_MODEL_cd11d85beef74c64b26798a6944cce1b"
      }
     },
     "fc2331e36bcc49d5a62fd71388fd036e": {
      "model_module": "@jupyter-widgets/controls",
      "model_module_version": "1.5.0",
      "model_name": "DescriptionStyleModel",
      "state": {
       "description_width": ""
      }
     },
     "fc3cada1c90a4c2cbb0cca7ed904f5ef": {
      "model_module": "@jupyter-widgets/controls",
      "model_module_version": "1.5.0",
      "model_name": "HBoxModel",
      "state": {
       "children": [
        "IPY_MODEL_6fe0951e412143fd927069d59882dd15",
        "IPY_MODEL_1ef437f1a7274b788a8f211bd9f9563d",
        "IPY_MODEL_8f61223f837d4fd1919a05f5e52c4d05"
       ],
       "layout": "IPY_MODEL_4d2a77b4980d4a298c86708fc4c217a1"
      }
     },
     "fcf48e1c9a774397a1e7dd4cc8cce0bd": {
      "model_module": "@jupyter-widgets/base",
      "model_module_version": "1.2.0",
      "model_name": "LayoutModel",
      "state": {}
     },
     "fcfbb9ad21a546888c3eb15915ced8c0": {
      "model_module": "@jupyter-widgets/controls",
      "model_module_version": "1.5.0",
      "model_name": "FloatProgressModel",
      "state": {
       "bar_style": "success",
       "layout": "IPY_MODEL_ce0789cd892348aa841e64ffdd5778ce",
       "max": 38,
       "style": "IPY_MODEL_6437e421415b45acaacb04ed0e5a339c",
       "value": 38
      }
     },
     "fdcf5ed999594600908ade6b791483c6": {
      "model_module": "@jupyter-widgets/controls",
      "model_module_version": "1.5.0",
      "model_name": "FloatProgressModel",
      "state": {
       "bar_style": "success",
       "layout": "IPY_MODEL_c0ced80f0e3c4a9eb0a18055eeadd5f4",
       "max": 38,
       "style": "IPY_MODEL_3d0c8ec054804a4ea6838f3979f578c6",
       "value": 38
      }
     },
     "fe036307e96344efbdebe6947dc85f2f": {
      "model_module": "@jupyter-widgets/controls",
      "model_module_version": "1.5.0",
      "model_name": "ProgressStyleModel",
      "state": {
       "description_width": ""
      }
     },
     "fea0b7bfc1714ffb84f9345a41d40de2": {
      "model_module": "@jupyter-widgets/controls",
      "model_module_version": "1.5.0",
      "model_name": "HTMLModel",
      "state": {
       "layout": "IPY_MODEL_f3e59ac9159b4ac5babb697b31aee56c",
       "style": "IPY_MODEL_b53006acc2d44c7f8314e63e49230986",
       "value": " 5/5 [00:00&lt;00:00, 15.57it/s]"
      }
     },
     "fec3e8d7e2a64f81a37e744afbb5837b": {
      "model_module": "@jupyter-widgets/controls",
      "model_module_version": "1.5.0",
      "model_name": "FloatProgressModel",
      "state": {
       "bar_style": "success",
       "layout": "IPY_MODEL_69a2aa63494c4540bb3c546ba7c4d218",
       "max": 38,
       "style": "IPY_MODEL_ed7b446a65ff4cc2a0084a8de4848f19",
       "value": 38
      }
     },
     "ff3af81f1ca44a11b38dac415d785ec1": {
      "model_module": "@jupyter-widgets/controls",
      "model_module_version": "1.5.0",
      "model_name": "ProgressStyleModel",
      "state": {
       "description_width": ""
      }
     }
    },
    "version_major": 2,
    "version_minor": 0
   }
  }
 },
 "nbformat": 4,
 "nbformat_minor": 4
}
