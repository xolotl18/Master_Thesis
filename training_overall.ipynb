{
 "cells": [
  {
   "cell_type": "markdown",
   "metadata": {
    "id": "Q0h5Lhdc8pCj"
   },
   "source": [
    "# Semantic Segmentation with FastSCNN - changing input dimensions"
   ]
  },
  {
   "cell_type": "markdown",
   "metadata": {
    "id": "3B_C0udn81Wl"
   },
   "source": [
    "The purpose of this model is to train the network on the train dataset and then export the model in onnx format and also save the state_dict of the pytorch model for later inference"
   ]
  },
  {
   "cell_type": "markdown",
   "metadata": {},
   "source": [
    "**Do not run this cell outside of Google Colaboratory**"
   ]
  },
  {
   "cell_type": "code",
   "execution_count": null,
   "metadata": {
    "colab": {
     "base_uri": "https://localhost:8080/"
    },
    "id": "MsUVejuD8NE4",
    "outputId": "259b9f11-9def-482c-aaff-65b76d14c9ff"
   },
   "outputs": [],
   "source": [
    "!pip3 install -q -U albumentations\n",
    "!echo \"$(pip freeze | grep albumentations) is successfully installed\"\n",
    "!pip uninstall opencv-python-headless==4.5.5.62\n",
    "!pip install opencv-python-headless==4.5.2.52\n",
    "!pip install torchmetrics\n",
    "!pip install torch==1.8.0+cu111 torchvision==0.9.0+cu111 torchaudio==0.8.0 -f https://download.pytorch.org/whl/torch_stable.html\n",
    "!git clone https://github.com/xolotl18/Master_Thesis\n",
    "!pip install onnx\n",
    "!pip install onnxruntime"
   ]
  },
  {
   "cell_type": "markdown",
   "metadata": {
    "id": "ToEHpxrS9YrK"
   },
   "source": [
    "## Imports"
   ]
  },
  {
   "cell_type": "code",
   "execution_count": 1,
   "metadata": {
    "id": "DNzYJzDG8oTS"
   },
   "outputs": [],
   "source": [
    "import copy\n",
    "import random\n",
    "import os\n",
    "import sys\n",
    "import shutil\n",
    "from urllib.request import urlretrieve\n",
    "\n",
    "import albumentations as A\n",
    "import albumentations.augmentations.functional as F\n",
    "from albumentations.pytorch import ToTensorV2\n",
    "import cv2\n",
    "import matplotlib.pyplot as plt\n",
    "import numpy as np\n",
    "from tqdm.notebook import tqdm\n",
    "import torch\n",
    "import torch.backends.cudnn as cudnn\n",
    "import torch.nn as nn\n",
    "import torch.optim\n",
    "from torch.utils.data import Dataset, DataLoader\n",
    "from torchmetrics import JaccardIndex\n",
    "from statistics import mean\n",
    "import torchvision.transforms as T\n",
    "import torch.onnx\n",
    "import onnx\n",
    "import onnxruntime\n",
    "from torchsummary import summary\n",
    "\n",
    "\n",
    "from utils.lr_scheduler import PolynomialLRDecay\n",
    "from models.experiments.fast_scnn_mod import FastSCNN as fastscnn_mod\n",
    "\n",
    "from utils.dataset import PackagesDataset, PackagesInferenceDataset\n",
    "from utils.evaluation import Evaluate\n",
    "cudnn.benchmark = True"
   ]
  },
  {
   "cell_type": "code",
   "execution_count": 8,
   "metadata": {
    "id": "DeDfSTgaFytR"
   },
   "outputs": [
    {
     "name": "stdout",
     "output_type": "stream",
     "text": [
      "The device is : cuda\n"
     ]
    }
   ],
   "source": [
    "if torch.cuda.is_available():\n",
    "    device = \"cuda\"\n",
    "else:\n",
    "    device = \"cpu\"\n",
    "\n",
    "params = {\n",
    "    \"device\" : device,\n",
    "    \"lr\" : 0.01,\n",
    "    \"batch_size\" : 8,\n",
    "    \"num_workers\" : 4,\n",
    "    \"epochs\" : 400,\n",
    "}\n",
    "print(f\"The device is : {device}\")"
   ]
  },
  {
   "cell_type": "code",
   "execution_count": 3,
   "metadata": {
    "id": "GeVIeZ9GDdu9"
   },
   "outputs": [],
   "source": [
    "def train(train_loader, model, criterion, optimizer, scheduler, epoch, params):\n",
    "    model.train()\n",
    "    running_loss = 0.0\n",
    "    for i, data in enumerate(train_loader, 1):\n",
    "        optimizer.zero_grad()\n",
    "\n",
    "        images, targets = data\n",
    "        images = images.to(params[\"device\"], non_blocking=True)\n",
    "        targets = targets.to(params[\"device\"], non_blocking=True)\n",
    "\n",
    "        outputs = model(images)\n",
    "        targets = torch.unsqueeze(targets, 1)\n",
    "\n",
    "        loss = criterion(outputs, targets)\n",
    "        loss.backward()\n",
    "        optimizer.step()\n",
    "        scheduler.step(epoch)\n",
    "        running_loss += loss.item()*images.size(0)\n",
    "\n",
    "def validate(val_loader, model, criterion, epoch, params):\n",
    "    model.eval()\n",
    "    running_loss=0.0\n",
    "    with torch.no_grad():\n",
    "        for i, data in enumerate(val_loader, start=1):\n",
    "                images, targets = data\n",
    "                images = images.to(params[\"device\"], non_blocking=True)\n",
    "                targets = targets.to(params[\"device\"], non_blocking=True)\n",
    "                output = model(images).squeeze(1)\n",
    "                loss = criterion(output, targets)\n",
    "                running_loss += loss.item()*images.size(0)\n",
    "    return running_loss"
   ]
  },
  {
   "cell_type": "code",
   "execution_count": 4,
   "metadata": {},
   "outputs": [],
   "source": [
    "def predict(model, params, test_dataset):\n",
    "    test_loader = DataLoader(\n",
    "        test_dataset, batch_size=params[\"batch_size\"], shuffle=False, num_workers=params[\"num_workers\"], pin_memory=True,\n",
    "    )\n",
    "    model.eval()\n",
    "    predictions = []\n",
    "    with torch.no_grad():\n",
    "        for images, masks, (original_heights, original_widths) in test_loader:\n",
    "            images = images.to(params[\"device\"], non_blocking=True)\n",
    "            output = model(images)\n",
    "            probabilities = torch.sigmoid(output.squeeze(1))\n",
    "            predicted_masks = (probabilities >= 0.5).float() * 1\n",
    "            predicted_masks = predicted_masks.cpu().numpy()\n",
    "            for predicted_mask, gt, original_height, original_width in zip(\n",
    "                predicted_masks, masks.numpy(), original_heights.numpy(), original_widths.numpy()\n",
    "            ):\n",
    "                predictions.append((predicted_mask, gt, original_height, original_width))\n",
    "    return predictions"
   ]
  },
  {
   "cell_type": "code",
   "execution_count": 5,
   "metadata": {},
   "outputs": [],
   "source": [
    "def remove_initializer_from_input(model_path):\n",
    "\n",
    "    onnxmodel = onnx.load(model_path+\".onnx\")\n",
    "    if onnxmodel.ir_version < 4:\n",
    "        print(\"Model with ir_version below 4 requires to include initilizer in graph input\")\n",
    "        return\n",
    "\n",
    "    inputs = onnxmodel.graph.input\n",
    "    name_to_input = {}\n",
    "    for input in inputs:\n",
    "        name_to_input[input.name] = input\n",
    "\n",
    "    for initializer in onnxmodel.graph.initializer:\n",
    "        if initializer.name in name_to_input:\n",
    "            inputs.remove(name_to_input[initializer.name])\n",
    "    out_path = model_path+\"_noinit.onnx\"\n",
    "    onnx.save(onnxmodel, out_path)"
   ]
  },
  {
   "cell_type": "markdown",
   "metadata": {
    "id": "3ly8xqG0BpMa"
   },
   "source": [
    "## Load image and label files into Dataset objects"
   ]
  },
  {
   "cell_type": "markdown",
   "metadata": {
    "id": "o8zTRzUcB26B"
   },
   "source": [
    "The dataset has already been divided into train, validation and test folders in the notebook **Desktop/Master_Thesis/preparation/dataset_traintest_split.ipynb**"
   ]
  },
  {
   "cell_type": "code",
   "execution_count": 6,
   "metadata": {
    "colab": {
     "base_uri": "https://localhost:8080/"
    },
    "id": "Ht_TfMCX_YPU",
    "outputId": "90574f95-389a-4d0e-b9bb-087f6ee935ff"
   },
   "outputs": [
    {
     "name": "stdout",
     "output_type": "stream",
     "text": [
      "The size of the train set is : 300\n",
      "\n",
      "The size of the validation set is : 40\n",
      "\n",
      "The size of the test set is : 60\n",
      "\n"
     ]
    }
   ],
   "source": [
    "c_dir = os.getcwd()\n",
    "dataset_directory = os.path.join(c_dir, \"full_dataset\")\n",
    "\n",
    "train_images_directory = os.path.join(dataset_directory, \"train/images\")\n",
    "train_masks_directory = os.path.join(dataset_directory, \"train/labels\")\n",
    "val_images_directory = os.path.join(dataset_directory, \"val/images\")\n",
    "val_masks_directory = os.path.join(dataset_directory, \"val/labels\")\n",
    "test_images_directory = os.path.join(dataset_directory, \"test/images\")\n",
    "test_masks_directory = os.path.join(dataset_directory, \"test/labels\")\n",
    "\n",
    "#make sure that image_filenames only contains png files\n",
    "train_images_filenames = []\n",
    "train_images_filenames = [ item for item in os.listdir(train_images_directory) if item.endswith(\".png\") ]\n",
    "val_images_filenames = []\n",
    "val_images_filenames = [ item for item in os.listdir(val_images_directory) if item.endswith(\".png\") ]\n",
    "test_images_filenames = []\n",
    "test_images_filenames = [ item for item in os.listdir(test_images_directory) if item.endswith(\".png\") ]\n",
    "\n",
    "for names_list, split in zip((train_images_filenames, val_images_filenames, test_images_filenames), ('train', 'validation', 'test')):\n",
    "  print(f\"The size of the {split} set is : {len(names_list)}\")\n",
    "  print()"
   ]
  },
  {
   "cell_type": "code",
   "execution_count": 7,
   "metadata": {},
   "outputs": [],
   "source": [
    "dimension_multipliers = [1.0, 0.5, 0.375, 0.3125, 0.25, 0.1875]\n",
    "parameters = [\n",
    "    (1.0, 6, 1, False),\n",
    "    (0.25, 6, 3, False),\n",
    "    (0.25, 6, 1, False),\n",
    "    (0.25, 2, 3, False),\n",
    "    (0.125, 6, 2, False),\n",
    "    (0.125, 4, 2, False),\n",
    "    (0.125, 2, 2, False),\n",
    "    (0.125, 2, 1, False)\n",
    "]"
   ]
  },
  {
   "cell_type": "code",
   "execution_count": 9,
   "metadata": {},
   "outputs": [
    {
     "name": "stdout",
     "output_type": "stream",
     "text": [
      "\n",
      "Input of dimension 512x512x3\n",
      "\n",
      "The model has been initialized with parameters:\n",
      "\t Width multiplier a =  1.0\n",
      "\t Bottleneck expansion rate t =  6\n",
      "\t Bottleneck block repetition r =  1\n",
      "\t Presence of Pyramid Pooling module pp =  False\n"
     ]
    },
    {
     "data": {
      "application/vnd.jupyter.widget-view+json": {
       "model_id": "bf843179452a4c568c666d8777073232",
       "version_major": 2,
       "version_minor": 0
      },
      "text/plain": [
       "  0%|          | 0/400 [00:00<?, ?it/s]"
      ]
     },
     "metadata": {},
     "output_type": "display_data"
    },
    {
     "name": "stdout",
     "output_type": "stream",
     "text": [
      "The Intersection over Union score is : 0.9787\n",
      "The Dice Coefficient is : 0.9892\n",
      "Onnx model saved\n",
      "\n",
      "The model has been initialized with parameters:\n",
      "\t Width multiplier a =  0.25\n",
      "\t Bottleneck expansion rate t =  6\n",
      "\t Bottleneck block repetition r =  3\n",
      "\t Presence of Pyramid Pooling module pp =  False\n"
     ]
    },
    {
     "data": {
      "application/vnd.jupyter.widget-view+json": {
       "model_id": "8e04fa6714c748eb87bc1cb14f60f9e6",
       "version_major": 2,
       "version_minor": 0
      },
      "text/plain": [
       "  0%|          | 0/400 [00:00<?, ?it/s]"
      ]
     },
     "metadata": {},
     "output_type": "display_data"
    },
    {
     "name": "stdout",
     "output_type": "stream",
     "text": [
      "The Intersection over Union score is : 0.9706\n",
      "The Dice Coefficient is : 0.9851\n",
      "Onnx model saved\n",
      "\n",
      "The model has been initialized with parameters:\n",
      "\t Width multiplier a =  0.25\n",
      "\t Bottleneck expansion rate t =  6\n",
      "\t Bottleneck block repetition r =  1\n",
      "\t Presence of Pyramid Pooling module pp =  False\n"
     ]
    },
    {
     "data": {
      "application/vnd.jupyter.widget-view+json": {
       "model_id": "13862aab017941509ccacea7f28855d3",
       "version_major": 2,
       "version_minor": 0
      },
      "text/plain": [
       "  0%|          | 0/400 [00:00<?, ?it/s]"
      ]
     },
     "metadata": {},
     "output_type": "display_data"
    },
    {
     "name": "stdout",
     "output_type": "stream",
     "text": [
      "The Intersection over Union score is : 0.9727\n",
      "The Dice Coefficient is : 0.9861\n",
      "Onnx model saved\n",
      "\n",
      "The model has been initialized with parameters:\n",
      "\t Width multiplier a =  0.25\n",
      "\t Bottleneck expansion rate t =  2\n",
      "\t Bottleneck block repetition r =  3\n",
      "\t Presence of Pyramid Pooling module pp =  False\n"
     ]
    },
    {
     "data": {
      "application/vnd.jupyter.widget-view+json": {
       "model_id": "7e57bc21997b48a9873757d621a9023a",
       "version_major": 2,
       "version_minor": 0
      },
      "text/plain": [
       "  0%|          | 0/400 [00:00<?, ?it/s]"
      ]
     },
     "metadata": {},
     "output_type": "display_data"
    },
    {
     "name": "stdout",
     "output_type": "stream",
     "text": [
      "The Intersection over Union score is : 0.9764\n",
      "The Dice Coefficient is : 0.9881\n",
      "Onnx model saved\n",
      "\n",
      "The model has been initialized with parameters:\n",
      "\t Width multiplier a =  0.125\n",
      "\t Bottleneck expansion rate t =  6\n",
      "\t Bottleneck block repetition r =  2\n",
      "\t Presence of Pyramid Pooling module pp =  False\n"
     ]
    },
    {
     "data": {
      "application/vnd.jupyter.widget-view+json": {
       "model_id": "726f824af7874613ac0e3d34be3fbd8b",
       "version_major": 2,
       "version_minor": 0
      },
      "text/plain": [
       "  0%|          | 0/400 [00:00<?, ?it/s]"
      ]
     },
     "metadata": {},
     "output_type": "display_data"
    },
    {
     "name": "stdout",
     "output_type": "stream",
     "text": [
      "The Intersection over Union score is : 0.9671\n",
      "The Dice Coefficient is : 0.9833\n",
      "Onnx model saved\n",
      "\n",
      "The model has been initialized with parameters:\n",
      "\t Width multiplier a =  0.125\n",
      "\t Bottleneck expansion rate t =  4\n",
      "\t Bottleneck block repetition r =  2\n",
      "\t Presence of Pyramid Pooling module pp =  False\n"
     ]
    },
    {
     "data": {
      "application/vnd.jupyter.widget-view+json": {
       "model_id": "9ed3286dc50d49d29a52a226027699ff",
       "version_major": 2,
       "version_minor": 0
      },
      "text/plain": [
       "  0%|          | 0/400 [00:00<?, ?it/s]"
      ]
     },
     "metadata": {},
     "output_type": "display_data"
    },
    {
     "name": "stdout",
     "output_type": "stream",
     "text": [
      "The Intersection over Union score is : 0.9709\n",
      "The Dice Coefficient is : 0.9852\n",
      "Onnx model saved\n",
      "\n",
      "The model has been initialized with parameters:\n",
      "\t Width multiplier a =  0.125\n",
      "\t Bottleneck expansion rate t =  2\n",
      "\t Bottleneck block repetition r =  2\n",
      "\t Presence of Pyramid Pooling module pp =  False\n"
     ]
    },
    {
     "data": {
      "application/vnd.jupyter.widget-view+json": {
       "model_id": "dd0c14004e3342be96b7c73f5a44fbf3",
       "version_major": 2,
       "version_minor": 0
      },
      "text/plain": [
       "  0%|          | 0/400 [00:00<?, ?it/s]"
      ]
     },
     "metadata": {},
     "output_type": "display_data"
    },
    {
     "name": "stdout",
     "output_type": "stream",
     "text": [
      "The Intersection over Union score is : 0.9700\n",
      "The Dice Coefficient is : 0.9847\n",
      "Onnx model saved\n",
      "\n",
      "The model has been initialized with parameters:\n",
      "\t Width multiplier a =  0.125\n",
      "\t Bottleneck expansion rate t =  2\n",
      "\t Bottleneck block repetition r =  1\n",
      "\t Presence of Pyramid Pooling module pp =  False\n"
     ]
    },
    {
     "data": {
      "application/vnd.jupyter.widget-view+json": {
       "model_id": "31067ea2e59a4872a937a972625aa7de",
       "version_major": 2,
       "version_minor": 0
      },
      "text/plain": [
       "  0%|          | 0/400 [00:00<?, ?it/s]"
      ]
     },
     "metadata": {},
     "output_type": "display_data"
    },
    {
     "name": "stdout",
     "output_type": "stream",
     "text": [
      "The Intersection over Union score is : 0.9658\n",
      "The Dice Coefficient is : 0.9826\n",
      "Onnx model saved\n",
      "\n",
      "\n",
      "Input of dimension 256x256x3\n",
      "\n",
      "The model has been initialized with parameters:\n",
      "\t Width multiplier a =  1.0\n",
      "\t Bottleneck expansion rate t =  6\n",
      "\t Bottleneck block repetition r =  1\n",
      "\t Presence of Pyramid Pooling module pp =  False\n"
     ]
    },
    {
     "data": {
      "application/vnd.jupyter.widget-view+json": {
       "model_id": "20f78a6e21fa45c39bbf0c6bd7294bad",
       "version_major": 2,
       "version_minor": 0
      },
      "text/plain": [
       "  0%|          | 0/400 [00:00<?, ?it/s]"
      ]
     },
     "metadata": {},
     "output_type": "display_data"
    },
    {
     "name": "stdout",
     "output_type": "stream",
     "text": [
      "The Intersection over Union score is : 0.9690\n",
      "The Dice Coefficient is : 0.9842\n",
      "Onnx model saved\n",
      "\n",
      "The model has been initialized with parameters:\n",
      "\t Width multiplier a =  0.25\n",
      "\t Bottleneck expansion rate t =  6\n",
      "\t Bottleneck block repetition r =  3\n",
      "\t Presence of Pyramid Pooling module pp =  False\n"
     ]
    },
    {
     "data": {
      "application/vnd.jupyter.widget-view+json": {
       "model_id": "a78faef36b244129858a6184da3c025b",
       "version_major": 2,
       "version_minor": 0
      },
      "text/plain": [
       "  0%|          | 0/400 [00:00<?, ?it/s]"
      ]
     },
     "metadata": {},
     "output_type": "display_data"
    },
    {
     "name": "stdout",
     "output_type": "stream",
     "text": [
      "The Intersection over Union score is : 0.9597\n",
      "The Dice Coefficient is : 0.9794\n",
      "Onnx model saved\n",
      "\n",
      "The model has been initialized with parameters:\n",
      "\t Width multiplier a =  0.25\n",
      "\t Bottleneck expansion rate t =  6\n",
      "\t Bottleneck block repetition r =  1\n",
      "\t Presence of Pyramid Pooling module pp =  False\n"
     ]
    },
    {
     "data": {
      "application/vnd.jupyter.widget-view+json": {
       "model_id": "5d494555754f4c13ae04e967819749e8",
       "version_major": 2,
       "version_minor": 0
      },
      "text/plain": [
       "  0%|          | 0/400 [00:00<?, ?it/s]"
      ]
     },
     "metadata": {},
     "output_type": "display_data"
    },
    {
     "name": "stdout",
     "output_type": "stream",
     "text": [
      "The Intersection over Union score is : 0.9615\n",
      "The Dice Coefficient is : 0.9803\n",
      "Onnx model saved\n",
      "\n",
      "The model has been initialized with parameters:\n",
      "\t Width multiplier a =  0.25\n",
      "\t Bottleneck expansion rate t =  2\n",
      "\t Bottleneck block repetition r =  3\n",
      "\t Presence of Pyramid Pooling module pp =  False\n"
     ]
    },
    {
     "data": {
      "application/vnd.jupyter.widget-view+json": {
       "model_id": "5318dd06bf03431daf67e8944799df5d",
       "version_major": 2,
       "version_minor": 0
      },
      "text/plain": [
       "  0%|          | 0/400 [00:00<?, ?it/s]"
      ]
     },
     "metadata": {},
     "output_type": "display_data"
    },
    {
     "name": "stdout",
     "output_type": "stream",
     "text": [
      "The Intersection over Union score is : 0.9558\n",
      "The Dice Coefficient is : 0.9773\n",
      "Onnx model saved\n",
      "\n",
      "The model has been initialized with parameters:\n",
      "\t Width multiplier a =  0.125\n",
      "\t Bottleneck expansion rate t =  6\n",
      "\t Bottleneck block repetition r =  2\n",
      "\t Presence of Pyramid Pooling module pp =  False\n"
     ]
    },
    {
     "data": {
      "application/vnd.jupyter.widget-view+json": {
       "model_id": "ff78f95249784475bd3cea2f9314762a",
       "version_major": 2,
       "version_minor": 0
      },
      "text/plain": [
       "  0%|          | 0/400 [00:00<?, ?it/s]"
      ]
     },
     "metadata": {},
     "output_type": "display_data"
    },
    {
     "name": "stdout",
     "output_type": "stream",
     "text": [
      "The Intersection over Union score is : 0.9586\n",
      "The Dice Coefficient is : 0.9788\n",
      "Onnx model saved\n",
      "\n",
      "The model has been initialized with parameters:\n",
      "\t Width multiplier a =  0.125\n",
      "\t Bottleneck expansion rate t =  4\n",
      "\t Bottleneck block repetition r =  2\n",
      "\t Presence of Pyramid Pooling module pp =  False\n"
     ]
    },
    {
     "data": {
      "application/vnd.jupyter.widget-view+json": {
       "model_id": "2518a5323a174b208247be4bee950900",
       "version_major": 2,
       "version_minor": 0
      },
      "text/plain": [
       "  0%|          | 0/400 [00:00<?, ?it/s]"
      ]
     },
     "metadata": {},
     "output_type": "display_data"
    },
    {
     "name": "stdout",
     "output_type": "stream",
     "text": [
      "The Intersection over Union score is : 0.9483\n",
      "The Dice Coefficient is : 0.9734\n",
      "Onnx model saved\n",
      "\n",
      "The model has been initialized with parameters:\n",
      "\t Width multiplier a =  0.125\n",
      "\t Bottleneck expansion rate t =  2\n",
      "\t Bottleneck block repetition r =  2\n",
      "\t Presence of Pyramid Pooling module pp =  False\n"
     ]
    },
    {
     "data": {
      "application/vnd.jupyter.widget-view+json": {
       "model_id": "f3043857880e42ab9e8019045caaaf9a",
       "version_major": 2,
       "version_minor": 0
      },
      "text/plain": [
       "  0%|          | 0/400 [00:00<?, ?it/s]"
      ]
     },
     "metadata": {},
     "output_type": "display_data"
    },
    {
     "name": "stdout",
     "output_type": "stream",
     "text": [
      "The Intersection over Union score is : 0.9497\n",
      "The Dice Coefficient is : 0.9742\n",
      "Onnx model saved\n",
      "\n",
      "The model has been initialized with parameters:\n",
      "\t Width multiplier a =  0.125\n",
      "\t Bottleneck expansion rate t =  2\n",
      "\t Bottleneck block repetition r =  1\n",
      "\t Presence of Pyramid Pooling module pp =  False\n"
     ]
    },
    {
     "data": {
      "application/vnd.jupyter.widget-view+json": {
       "model_id": "ef01802867b740c6a4fad4d9d2ad2aca",
       "version_major": 2,
       "version_minor": 0
      },
      "text/plain": [
       "  0%|          | 0/400 [00:00<?, ?it/s]"
      ]
     },
     "metadata": {},
     "output_type": "display_data"
    },
    {
     "name": "stdout",
     "output_type": "stream",
     "text": [
      "The Intersection over Union score is : 0.9326\n",
      "The Dice Coefficient is : 0.9650\n",
      "Onnx model saved\n",
      "\n",
      "\n",
      "Input of dimension 192x192x3\n",
      "\n",
      "The model has been initialized with parameters:\n",
      "\t Width multiplier a =  1.0\n",
      "\t Bottleneck expansion rate t =  6\n",
      "\t Bottleneck block repetition r =  1\n",
      "\t Presence of Pyramid Pooling module pp =  False\n"
     ]
    },
    {
     "data": {
      "application/vnd.jupyter.widget-view+json": {
       "model_id": "848b6505702e4332881df6ef6e3b8fab",
       "version_major": 2,
       "version_minor": 0
      },
      "text/plain": [
       "  0%|          | 0/400 [00:00<?, ?it/s]"
      ]
     },
     "metadata": {},
     "output_type": "display_data"
    },
    {
     "name": "stdout",
     "output_type": "stream",
     "text": [
      "The Intersection over Union score is : 0.9681\n",
      "The Dice Coefficient is : 0.9838\n",
      "Onnx model saved\n",
      "\n",
      "The model has been initialized with parameters:\n",
      "\t Width multiplier a =  0.25\n",
      "\t Bottleneck expansion rate t =  6\n",
      "\t Bottleneck block repetition r =  3\n",
      "\t Presence of Pyramid Pooling module pp =  False\n"
     ]
    },
    {
     "data": {
      "application/vnd.jupyter.widget-view+json": {
       "model_id": "a79f76472e9f421b9c060e66c2ac0b74",
       "version_major": 2,
       "version_minor": 0
      },
      "text/plain": [
       "  0%|          | 0/400 [00:00<?, ?it/s]"
      ]
     },
     "metadata": {},
     "output_type": "display_data"
    },
    {
     "name": "stdout",
     "output_type": "stream",
     "text": [
      "The Intersection over Union score is : 0.9523\n",
      "The Dice Coefficient is : 0.9755\n",
      "Onnx model saved\n",
      "\n",
      "The model has been initialized with parameters:\n",
      "\t Width multiplier a =  0.25\n",
      "\t Bottleneck expansion rate t =  6\n",
      "\t Bottleneck block repetition r =  1\n",
      "\t Presence of Pyramid Pooling module pp =  False\n"
     ]
    },
    {
     "data": {
      "application/vnd.jupyter.widget-view+json": {
       "model_id": "cb1a7440d3894e44a5ad281a2807ae96",
       "version_major": 2,
       "version_minor": 0
      },
      "text/plain": [
       "  0%|          | 0/400 [00:00<?, ?it/s]"
      ]
     },
     "metadata": {},
     "output_type": "display_data"
    },
    {
     "name": "stdout",
     "output_type": "stream",
     "text": [
      "The Intersection over Union score is : 0.9550\n",
      "The Dice Coefficient is : 0.9769\n",
      "Onnx model saved\n",
      "\n",
      "The model has been initialized with parameters:\n",
      "\t Width multiplier a =  0.25\n",
      "\t Bottleneck expansion rate t =  2\n",
      "\t Bottleneck block repetition r =  3\n",
      "\t Presence of Pyramid Pooling module pp =  False\n"
     ]
    },
    {
     "data": {
      "application/vnd.jupyter.widget-view+json": {
       "model_id": "0fa72b403f8249d983f0d74ed86e92e7",
       "version_major": 2,
       "version_minor": 0
      },
      "text/plain": [
       "  0%|          | 0/400 [00:00<?, ?it/s]"
      ]
     },
     "metadata": {},
     "output_type": "display_data"
    },
    {
     "name": "stdout",
     "output_type": "stream",
     "text": [
      "The Intersection over Union score is : 0.9528\n",
      "The Dice Coefficient is : 0.9758\n",
      "Onnx model saved\n",
      "\n",
      "The model has been initialized with parameters:\n",
      "\t Width multiplier a =  0.125\n",
      "\t Bottleneck expansion rate t =  6\n",
      "\t Bottleneck block repetition r =  2\n",
      "\t Presence of Pyramid Pooling module pp =  False\n"
     ]
    },
    {
     "data": {
      "application/vnd.jupyter.widget-view+json": {
       "model_id": "01e70ff9ef2949739c3384fa378f4790",
       "version_major": 2,
       "version_minor": 0
      },
      "text/plain": [
       "  0%|          | 0/400 [00:00<?, ?it/s]"
      ]
     },
     "metadata": {},
     "output_type": "display_data"
    },
    {
     "name": "stdout",
     "output_type": "stream",
     "text": [
      "The Intersection over Union score is : 0.9459\n",
      "The Dice Coefficient is : 0.9721\n",
      "Onnx model saved\n",
      "\n",
      "The model has been initialized with parameters:\n",
      "\t Width multiplier a =  0.125\n",
      "\t Bottleneck expansion rate t =  4\n",
      "\t Bottleneck block repetition r =  2\n",
      "\t Presence of Pyramid Pooling module pp =  False\n"
     ]
    },
    {
     "data": {
      "application/vnd.jupyter.widget-view+json": {
       "model_id": "6fabb624913f4ad0b040e6b607625672",
       "version_major": 2,
       "version_minor": 0
      },
      "text/plain": [
       "  0%|          | 0/400 [00:00<?, ?it/s]"
      ]
     },
     "metadata": {},
     "output_type": "display_data"
    },
    {
     "name": "stdout",
     "output_type": "stream",
     "text": [
      "The Intersection over Union score is : 0.9424\n",
      "The Dice Coefficient is : 0.9703\n",
      "Onnx model saved\n",
      "\n",
      "The model has been initialized with parameters:\n",
      "\t Width multiplier a =  0.125\n",
      "\t Bottleneck expansion rate t =  2\n",
      "\t Bottleneck block repetition r =  2\n",
      "\t Presence of Pyramid Pooling module pp =  False\n"
     ]
    },
    {
     "data": {
      "application/vnd.jupyter.widget-view+json": {
       "model_id": "ccd90b9b71a64a178cbed5e56d9806ee",
       "version_major": 2,
       "version_minor": 0
      },
      "text/plain": [
       "  0%|          | 0/400 [00:00<?, ?it/s]"
      ]
     },
     "metadata": {},
     "output_type": "display_data"
    },
    {
     "name": "stdout",
     "output_type": "stream",
     "text": [
      "The Intersection over Union score is : 0.9426\n",
      "The Dice Coefficient is : 0.9704\n",
      "Onnx model saved\n",
      "\n",
      "The model has been initialized with parameters:\n",
      "\t Width multiplier a =  0.125\n",
      "\t Bottleneck expansion rate t =  2\n",
      "\t Bottleneck block repetition r =  1\n",
      "\t Presence of Pyramid Pooling module pp =  False\n"
     ]
    },
    {
     "data": {
      "application/vnd.jupyter.widget-view+json": {
       "model_id": "f5d01d6fb0dc4199b60bf6cb5c233e34",
       "version_major": 2,
       "version_minor": 0
      },
      "text/plain": [
       "  0%|          | 0/400 [00:00<?, ?it/s]"
      ]
     },
     "metadata": {},
     "output_type": "display_data"
    },
    {
     "name": "stdout",
     "output_type": "stream",
     "text": [
      "The Intersection over Union score is : 0.9205\n",
      "The Dice Coefficient is : 0.9585\n",
      "Onnx model saved\n",
      "\n",
      "\n",
      "Input of dimension 160x160x3\n",
      "\n",
      "The model has been initialized with parameters:\n",
      "\t Width multiplier a =  1.0\n",
      "\t Bottleneck expansion rate t =  6\n",
      "\t Bottleneck block repetition r =  1\n",
      "\t Presence of Pyramid Pooling module pp =  False\n"
     ]
    },
    {
     "data": {
      "application/vnd.jupyter.widget-view+json": {
       "model_id": "8be21819665d464cbc7dfd9f4e229a1e",
       "version_major": 2,
       "version_minor": 0
      },
      "text/plain": [
       "  0%|          | 0/400 [00:00<?, ?it/s]"
      ]
     },
     "metadata": {},
     "output_type": "display_data"
    },
    {
     "name": "stdout",
     "output_type": "stream",
     "text": [
      "The Intersection over Union score is : 0.9601\n",
      "The Dice Coefficient is : 0.9796\n",
      "Onnx model saved\n",
      "\n",
      "The model has been initialized with parameters:\n",
      "\t Width multiplier a =  0.25\n",
      "\t Bottleneck expansion rate t =  6\n",
      "\t Bottleneck block repetition r =  3\n",
      "\t Presence of Pyramid Pooling module pp =  False\n"
     ]
    },
    {
     "data": {
      "application/vnd.jupyter.widget-view+json": {
       "model_id": "becc758ad0e146de85b6a83949abec52",
       "version_major": 2,
       "version_minor": 0
      },
      "text/plain": [
       "  0%|          | 0/400 [00:00<?, ?it/s]"
      ]
     },
     "metadata": {},
     "output_type": "display_data"
    },
    {
     "name": "stdout",
     "output_type": "stream",
     "text": [
      "The Intersection over Union score is : 0.9413\n",
      "The Dice Coefficient is : 0.9697\n",
      "Onnx model saved\n",
      "\n",
      "The model has been initialized with parameters:\n",
      "\t Width multiplier a =  0.25\n",
      "\t Bottleneck expansion rate t =  6\n",
      "\t Bottleneck block repetition r =  1\n",
      "\t Presence of Pyramid Pooling module pp =  False\n"
     ]
    },
    {
     "data": {
      "application/vnd.jupyter.widget-view+json": {
       "model_id": "1f64b63f598447539dea4509327faad1",
       "version_major": 2,
       "version_minor": 0
      },
      "text/plain": [
       "  0%|          | 0/400 [00:00<?, ?it/s]"
      ]
     },
     "metadata": {},
     "output_type": "display_data"
    },
    {
     "name": "stdout",
     "output_type": "stream",
     "text": [
      "The Intersection over Union score is : 0.9450\n",
      "The Dice Coefficient is : 0.9717\n",
      "Onnx model saved\n",
      "\n",
      "The model has been initialized with parameters:\n",
      "\t Width multiplier a =  0.25\n",
      "\t Bottleneck expansion rate t =  2\n",
      "\t Bottleneck block repetition r =  3\n",
      "\t Presence of Pyramid Pooling module pp =  False\n"
     ]
    },
    {
     "data": {
      "application/vnd.jupyter.widget-view+json": {
       "model_id": "fb674acc09a64815acae5ce1e231ab6c",
       "version_major": 2,
       "version_minor": 0
      },
      "text/plain": [
       "  0%|          | 0/400 [00:00<?, ?it/s]"
      ]
     },
     "metadata": {},
     "output_type": "display_data"
    },
    {
     "name": "stdout",
     "output_type": "stream",
     "text": [
      "The Intersection over Union score is : 0.9418\n",
      "The Dice Coefficient is : 0.9700\n",
      "Onnx model saved\n",
      "\n",
      "The model has been initialized with parameters:\n",
      "\t Width multiplier a =  0.125\n",
      "\t Bottleneck expansion rate t =  6\n",
      "\t Bottleneck block repetition r =  2\n",
      "\t Presence of Pyramid Pooling module pp =  False\n"
     ]
    },
    {
     "data": {
      "application/vnd.jupyter.widget-view+json": {
       "model_id": "fc44bdef5c184921ab5a2102182fa0e9",
       "version_major": 2,
       "version_minor": 0
      },
      "text/plain": [
       "  0%|          | 0/400 [00:00<?, ?it/s]"
      ]
     },
     "metadata": {},
     "output_type": "display_data"
    },
    {
     "name": "stdout",
     "output_type": "stream",
     "text": [
      "The Intersection over Union score is : 0.9336\n",
      "The Dice Coefficient is : 0.9656\n",
      "Onnx model saved\n",
      "\n",
      "The model has been initialized with parameters:\n",
      "\t Width multiplier a =  0.125\n",
      "\t Bottleneck expansion rate t =  4\n",
      "\t Bottleneck block repetition r =  2\n",
      "\t Presence of Pyramid Pooling module pp =  False\n"
     ]
    },
    {
     "data": {
      "application/vnd.jupyter.widget-view+json": {
       "model_id": "c05fc68132c04745bc0204d8c2a32379",
       "version_major": 2,
       "version_minor": 0
      },
      "text/plain": [
       "  0%|          | 0/400 [00:00<?, ?it/s]"
      ]
     },
     "metadata": {},
     "output_type": "display_data"
    },
    {
     "name": "stdout",
     "output_type": "stream",
     "text": [
      "The Intersection over Union score is : 0.9264\n",
      "The Dice Coefficient is : 0.9617\n",
      "Onnx model saved\n",
      "\n",
      "The model has been initialized with parameters:\n",
      "\t Width multiplier a =  0.125\n",
      "\t Bottleneck expansion rate t =  2\n",
      "\t Bottleneck block repetition r =  2\n",
      "\t Presence of Pyramid Pooling module pp =  False\n"
     ]
    },
    {
     "data": {
      "application/vnd.jupyter.widget-view+json": {
       "model_id": "cf7157023dbe4cfcbddc10e86661efd5",
       "version_major": 2,
       "version_minor": 0
      },
      "text/plain": [
       "  0%|          | 0/400 [00:00<?, ?it/s]"
      ]
     },
     "metadata": {},
     "output_type": "display_data"
    },
    {
     "name": "stdout",
     "output_type": "stream",
     "text": [
      "The Intersection over Union score is : 0.9337\n",
      "The Dice Coefficient is : 0.9657\n",
      "Onnx model saved\n",
      "\n",
      "The model has been initialized with parameters:\n",
      "\t Width multiplier a =  0.125\n",
      "\t Bottleneck expansion rate t =  2\n",
      "\t Bottleneck block repetition r =  1\n",
      "\t Presence of Pyramid Pooling module pp =  False\n"
     ]
    },
    {
     "data": {
      "application/vnd.jupyter.widget-view+json": {
       "model_id": "7153f791cf8144c8ace4ddc6b2a06375",
       "version_major": 2,
       "version_minor": 0
      },
      "text/plain": [
       "  0%|          | 0/400 [00:00<?, ?it/s]"
      ]
     },
     "metadata": {},
     "output_type": "display_data"
    },
    {
     "name": "stdout",
     "output_type": "stream",
     "text": [
      "The Intersection over Union score is : 0.9232\n",
      "The Dice Coefficient is : 0.9600\n",
      "Onnx model saved\n",
      "\n",
      "\n",
      "Input of dimension 128x128x3\n",
      "\n",
      "The model has been initialized with parameters:\n",
      "\t Width multiplier a =  1.0\n",
      "\t Bottleneck expansion rate t =  6\n",
      "\t Bottleneck block repetition r =  1\n",
      "\t Presence of Pyramid Pooling module pp =  False\n"
     ]
    },
    {
     "data": {
      "application/vnd.jupyter.widget-view+json": {
       "model_id": "0f337583641143338202d71d117efe03",
       "version_major": 2,
       "version_minor": 0
      },
      "text/plain": [
       "  0%|          | 0/400 [00:00<?, ?it/s]"
      ]
     },
     "metadata": {},
     "output_type": "display_data"
    },
    {
     "name": "stdout",
     "output_type": "stream",
     "text": [
      "The Intersection over Union score is : 0.9543\n",
      "The Dice Coefficient is : 0.9766\n",
      "Onnx model saved\n",
      "\n",
      "The model has been initialized with parameters:\n",
      "\t Width multiplier a =  0.25\n",
      "\t Bottleneck expansion rate t =  6\n",
      "\t Bottleneck block repetition r =  3\n",
      "\t Presence of Pyramid Pooling module pp =  False\n"
     ]
    },
    {
     "data": {
      "application/vnd.jupyter.widget-view+json": {
       "model_id": "6c42e7ce1199486b9fa7faad1cba9198",
       "version_major": 2,
       "version_minor": 0
      },
      "text/plain": [
       "  0%|          | 0/400 [00:00<?, ?it/s]"
      ]
     },
     "metadata": {},
     "output_type": "display_data"
    },
    {
     "name": "stdout",
     "output_type": "stream",
     "text": [
      "The Intersection over Union score is : 0.9400\n",
      "The Dice Coefficient is : 0.9690\n",
      "Onnx model saved\n",
      "\n",
      "The model has been initialized with parameters:\n",
      "\t Width multiplier a =  0.25\n",
      "\t Bottleneck expansion rate t =  6\n",
      "\t Bottleneck block repetition r =  1\n",
      "\t Presence of Pyramid Pooling module pp =  False\n"
     ]
    },
    {
     "data": {
      "application/vnd.jupyter.widget-view+json": {
       "model_id": "42684a38638e48af81908072be803f0a",
       "version_major": 2,
       "version_minor": 0
      },
      "text/plain": [
       "  0%|          | 0/400 [00:00<?, ?it/s]"
      ]
     },
     "metadata": {},
     "output_type": "display_data"
    },
    {
     "name": "stdout",
     "output_type": "stream",
     "text": [
      "The Intersection over Union score is : 0.9346\n",
      "The Dice Coefficient is : 0.9661\n",
      "Onnx model saved\n",
      "\n",
      "The model has been initialized with parameters:\n",
      "\t Width multiplier a =  0.25\n",
      "\t Bottleneck expansion rate t =  2\n",
      "\t Bottleneck block repetition r =  3\n",
      "\t Presence of Pyramid Pooling module pp =  False\n"
     ]
    },
    {
     "data": {
      "application/vnd.jupyter.widget-view+json": {
       "model_id": "250c4e27125047809326112a908e3bd9",
       "version_major": 2,
       "version_minor": 0
      },
      "text/plain": [
       "  0%|          | 0/400 [00:00<?, ?it/s]"
      ]
     },
     "metadata": {},
     "output_type": "display_data"
    },
    {
     "name": "stdout",
     "output_type": "stream",
     "text": [
      "The Intersection over Union score is : 0.9372\n",
      "The Dice Coefficient is : 0.9675\n",
      "Onnx model saved\n",
      "\n",
      "The model has been initialized with parameters:\n",
      "\t Width multiplier a =  0.125\n",
      "\t Bottleneck expansion rate t =  6\n",
      "\t Bottleneck block repetition r =  2\n",
      "\t Presence of Pyramid Pooling module pp =  False\n"
     ]
    },
    {
     "data": {
      "application/vnd.jupyter.widget-view+json": {
       "model_id": "54c9a93e0cc848cca29b247f44829c4d",
       "version_major": 2,
       "version_minor": 0
      },
      "text/plain": [
       "  0%|          | 0/400 [00:00<?, ?it/s]"
      ]
     },
     "metadata": {},
     "output_type": "display_data"
    },
    {
     "name": "stdout",
     "output_type": "stream",
     "text": [
      "The Intersection over Union score is : 0.9045\n",
      "The Dice Coefficient is : 0.9497\n",
      "Onnx model saved\n",
      "\n",
      "The model has been initialized with parameters:\n",
      "\t Width multiplier a =  0.125\n",
      "\t Bottleneck expansion rate t =  4\n",
      "\t Bottleneck block repetition r =  2\n",
      "\t Presence of Pyramid Pooling module pp =  False\n"
     ]
    },
    {
     "data": {
      "application/vnd.jupyter.widget-view+json": {
       "model_id": "e1f1b5e4edc54250996bf6771bc33ae8",
       "version_major": 2,
       "version_minor": 0
      },
      "text/plain": [
       "  0%|          | 0/400 [00:00<?, ?it/s]"
      ]
     },
     "metadata": {},
     "output_type": "display_data"
    },
    {
     "name": "stdout",
     "output_type": "stream",
     "text": [
      "The Intersection over Union score is : 0.9184\n",
      "The Dice Coefficient is : 0.9574\n",
      "Onnx model saved\n",
      "\n",
      "The model has been initialized with parameters:\n",
      "\t Width multiplier a =  0.125\n",
      "\t Bottleneck expansion rate t =  2\n",
      "\t Bottleneck block repetition r =  2\n",
      "\t Presence of Pyramid Pooling module pp =  False\n"
     ]
    },
    {
     "data": {
      "application/vnd.jupyter.widget-view+json": {
       "model_id": "8a9602d9598640a8a1ae94c850707abb",
       "version_major": 2,
       "version_minor": 0
      },
      "text/plain": [
       "  0%|          | 0/400 [00:00<?, ?it/s]"
      ]
     },
     "metadata": {},
     "output_type": "display_data"
    },
    {
     "name": "stdout",
     "output_type": "stream",
     "text": [
      "The Intersection over Union score is : 0.9069\n",
      "The Dice Coefficient is : 0.9510\n",
      "Onnx model saved\n",
      "\n",
      "The model has been initialized with parameters:\n",
      "\t Width multiplier a =  0.125\n",
      "\t Bottleneck expansion rate t =  2\n",
      "\t Bottleneck block repetition r =  1\n",
      "\t Presence of Pyramid Pooling module pp =  False\n"
     ]
    },
    {
     "data": {
      "application/vnd.jupyter.widget-view+json": {
       "model_id": "4912da9be7ce4bf5b710e97483f0718c",
       "version_major": 2,
       "version_minor": 0
      },
      "text/plain": [
       "  0%|          | 0/400 [00:00<?, ?it/s]"
      ]
     },
     "metadata": {},
     "output_type": "display_data"
    },
    {
     "name": "stdout",
     "output_type": "stream",
     "text": [
      "The Intersection over Union score is : 0.9242\n",
      "The Dice Coefficient is : 0.9605\n",
      "Onnx model saved\n",
      "\n",
      "\n",
      "Input of dimension 96x96x3\n",
      "\n",
      "The model has been initialized with parameters:\n",
      "\t Width multiplier a =  1.0\n",
      "\t Bottleneck expansion rate t =  6\n",
      "\t Bottleneck block repetition r =  1\n",
      "\t Presence of Pyramid Pooling module pp =  False\n"
     ]
    },
    {
     "data": {
      "application/vnd.jupyter.widget-view+json": {
       "model_id": "4037928dc89a4fe2ad1886654ebea94a",
       "version_major": 2,
       "version_minor": 0
      },
      "text/plain": [
       "  0%|          | 0/400 [00:00<?, ?it/s]"
      ]
     },
     "metadata": {},
     "output_type": "display_data"
    },
    {
     "name": "stdout",
     "output_type": "stream",
     "text": [
      "The Intersection over Union score is : 0.9340\n",
      "The Dice Coefficient is : 0.9658\n",
      "Onnx model saved\n",
      "\n",
      "The model has been initialized with parameters:\n",
      "\t Width multiplier a =  0.25\n",
      "\t Bottleneck expansion rate t =  6\n",
      "\t Bottleneck block repetition r =  3\n",
      "\t Presence of Pyramid Pooling module pp =  False\n"
     ]
    },
    {
     "data": {
      "application/vnd.jupyter.widget-view+json": {
       "model_id": "e7e10bdb5c884cd29bbf76f3ff42734b",
       "version_major": 2,
       "version_minor": 0
      },
      "text/plain": [
       "  0%|          | 0/400 [00:00<?, ?it/s]"
      ]
     },
     "metadata": {},
     "output_type": "display_data"
    },
    {
     "name": "stdout",
     "output_type": "stream",
     "text": [
      "The Intersection over Union score is : 0.9186\n",
      "The Dice Coefficient is : 0.9575\n",
      "Onnx model saved\n",
      "\n",
      "The model has been initialized with parameters:\n",
      "\t Width multiplier a =  0.25\n",
      "\t Bottleneck expansion rate t =  6\n",
      "\t Bottleneck block repetition r =  1\n",
      "\t Presence of Pyramid Pooling module pp =  False\n"
     ]
    },
    {
     "data": {
      "application/vnd.jupyter.widget-view+json": {
       "model_id": "ee198c2043f74418b399a5dc8179f6aa",
       "version_major": 2,
       "version_minor": 0
      },
      "text/plain": [
       "  0%|          | 0/400 [00:00<?, ?it/s]"
      ]
     },
     "metadata": {},
     "output_type": "display_data"
    },
    {
     "name": "stdout",
     "output_type": "stream",
     "text": [
      "The Intersection over Union score is : 0.9005\n",
      "The Dice Coefficient is : 0.9475\n",
      "Onnx model saved\n",
      "\n",
      "The model has been initialized with parameters:\n",
      "\t Width multiplier a =  0.25\n",
      "\t Bottleneck expansion rate t =  2\n",
      "\t Bottleneck block repetition r =  3\n",
      "\t Presence of Pyramid Pooling module pp =  False\n"
     ]
    },
    {
     "data": {
      "application/vnd.jupyter.widget-view+json": {
       "model_id": "c3792ae2954544e8a902e5c9420113de",
       "version_major": 2,
       "version_minor": 0
      },
      "text/plain": [
       "  0%|          | 0/400 [00:00<?, ?it/s]"
      ]
     },
     "metadata": {},
     "output_type": "display_data"
    },
    {
     "name": "stdout",
     "output_type": "stream",
     "text": [
      "The Intersection over Union score is : 0.9225\n",
      "The Dice Coefficient is : 0.9596\n",
      "Onnx model saved\n",
      "\n",
      "The model has been initialized with parameters:\n",
      "\t Width multiplier a =  0.125\n",
      "\t Bottleneck expansion rate t =  6\n",
      "\t Bottleneck block repetition r =  2\n",
      "\t Presence of Pyramid Pooling module pp =  False\n"
     ]
    },
    {
     "data": {
      "application/vnd.jupyter.widget-view+json": {
       "model_id": "adfebdd487a64529b9cd528cd88f49aa",
       "version_major": 2,
       "version_minor": 0
      },
      "text/plain": [
       "  0%|          | 0/400 [00:00<?, ?it/s]"
      ]
     },
     "metadata": {},
     "output_type": "display_data"
    },
    {
     "name": "stdout",
     "output_type": "stream",
     "text": [
      "The Intersection over Union score is : 0.8968\n",
      "The Dice Coefficient is : 0.9454\n",
      "Onnx model saved\n",
      "\n",
      "The model has been initialized with parameters:\n",
      "\t Width multiplier a =  0.125\n",
      "\t Bottleneck expansion rate t =  4\n",
      "\t Bottleneck block repetition r =  2\n",
      "\t Presence of Pyramid Pooling module pp =  False\n"
     ]
    },
    {
     "data": {
      "application/vnd.jupyter.widget-view+json": {
       "model_id": "86a93f8bba464fba911352a7c75fbab3",
       "version_major": 2,
       "version_minor": 0
      },
      "text/plain": [
       "  0%|          | 0/400 [00:00<?, ?it/s]"
      ]
     },
     "metadata": {},
     "output_type": "display_data"
    },
    {
     "name": "stdout",
     "output_type": "stream",
     "text": [
      "The Intersection over Union score is : 0.8971\n",
      "The Dice Coefficient is : 0.9455\n",
      "Onnx model saved\n",
      "\n",
      "The model has been initialized with parameters:\n",
      "\t Width multiplier a =  0.125\n",
      "\t Bottleneck expansion rate t =  2\n",
      "\t Bottleneck block repetition r =  2\n",
      "\t Presence of Pyramid Pooling module pp =  False\n"
     ]
    },
    {
     "data": {
      "application/vnd.jupyter.widget-view+json": {
       "model_id": "04876e23cf364d62a401f33c6c5422b1",
       "version_major": 2,
       "version_minor": 0
      },
      "text/plain": [
       "  0%|          | 0/400 [00:00<?, ?it/s]"
      ]
     },
     "metadata": {},
     "output_type": "display_data"
    },
    {
     "name": "stdout",
     "output_type": "stream",
     "text": [
      "The Intersection over Union score is : 0.8926\n",
      "The Dice Coefficient is : 0.9431\n",
      "Onnx model saved\n",
      "\n",
      "The model has been initialized with parameters:\n",
      "\t Width multiplier a =  0.125\n",
      "\t Bottleneck expansion rate t =  2\n",
      "\t Bottleneck block repetition r =  1\n",
      "\t Presence of Pyramid Pooling module pp =  False\n"
     ]
    },
    {
     "data": {
      "application/vnd.jupyter.widget-view+json": {
       "model_id": "c78e5aa9da7e4b50a37e661f0b30ef2d",
       "version_major": 2,
       "version_minor": 0
      },
      "text/plain": [
       "  0%|          | 0/400 [00:00<?, ?it/s]"
      ]
     },
     "metadata": {},
     "output_type": "display_data"
    },
    {
     "name": "stdout",
     "output_type": "stream",
     "text": [
      "The Intersection over Union score is : 0.8987\n",
      "The Dice Coefficient is : 0.9465\n",
      "Onnx model saved\n",
      "\n"
     ]
    }
   ],
   "source": [
    "for m in dimension_multipliers:\n",
    "    train_transform = A.Compose(\n",
    "        [\n",
    "            A.Resize(int(m*540), int(m*960)),\n",
    "            A.RandomCrop(int(m*512), int(m*512)),\n",
    "            A.ShiftScaleRotate(shift_limit=0.05, scale_limit=0.05, rotate_limit=15, p=0.5),\n",
    "            A.RGBShift(r_shift_limit=15, g_shift_limit=15, b_shift_limit=15, p=0.3),\n",
    "            A.RandomBrightnessContrast(p=0.3),\n",
    "            A.Normalize(mean=(0.485, 0.456, 0.406), std=(0.229, 0.224, 0.225)),\n",
    "            ToTensorV2(),\n",
    "        ]\n",
    "    )\n",
    "    val_transform = A.Compose(\n",
    "        [\n",
    "            A.Resize(int(m*540), int(m*960)),\n",
    "            A.CenterCrop(int(m*512), int(m*512)),\n",
    "            A.Normalize(mean=(0.485, 0.456, 0.406), std=(0.229, 0.224, 0.225)),\n",
    "            ToTensorV2(),\n",
    "        ]\n",
    "    )\n",
    "    test_transform = A.Compose(\n",
    "        [\n",
    "            A.Resize(int(m*512), int(m*512)),\n",
    "            A.Normalize(mean=(0.485, 0.456, 0.406), std=(0.229, 0.224, 0.225)),\n",
    "            ToTensorV2(),\n",
    "        ]\n",
    "    )\n",
    "\n",
    "    train_dataset = PackagesDataset(train_images_filenames, train_images_directory, \n",
    "                                    train_masks_directory, transform=train_transform,)\n",
    "    val_dataset = PackagesDataset(val_images_filenames, val_images_directory,\n",
    "                                  val_masks_directory, transform=val_transform,)\n",
    "    test_dataset = PackagesInferenceDataset(test_images_filenames, test_images_directory, \n",
    "                                            test_masks_directory, transform=test_transform,)\n",
    "    input_sample = train_dataset[0][0].numpy()\n",
    "    chans, dim1, dim2 = input_sample.shape\n",
    "    print()\n",
    "    print(f\"Input of dimension {dim1}x{dim2}x{chans}\")\n",
    "    print()\n",
    "    \n",
    "    \n",
    "    train_loader = DataLoader(\n",
    "        train_dataset,\n",
    "        batch_size=params[\"batch_size\"],\n",
    "        shuffle=True,\n",
    "        num_workers=params[\"num_workers\"],\n",
    "        pin_memory=False,\n",
    "    )\n",
    "\n",
    "    val_loader = DataLoader(\n",
    "        val_dataset,\n",
    "        batch_size=params[\"batch_size\"],\n",
    "        shuffle=True,\n",
    "        num_workers=params[\"num_workers\"],\n",
    "        pin_memory=False,\n",
    "    )\n",
    "    \n",
    "    for a, t, r, pp in parameters:\n",
    "        model = fastscnn_mod(in_channels=3, num_classes=1, a=a, t=t, r=r, pp=pp).to(params[\"device\"])\n",
    "        criterion = nn.BCEWithLogitsLoss()\n",
    "        optimizer = torch.optim.Adam(model.parameters(), lr=params[\"lr\"])\n",
    "        scheduler = PolynomialLRDecay(optimizer, max_decay_steps=params[\"epochs\"], end_learning_rate=0.0001, power=0.9)\n",
    "\n",
    "        best_loss = sys.float_info.max\n",
    "        model_ckpt = copy.deepcopy(model.state_dict())\n",
    "        #train the current model\n",
    "        for epoch in tqdm(range(1, params[\"epochs\"]+1)):\n",
    "            train(train_loader, model, criterion, optimizer, scheduler, epoch, params)\n",
    "            epoch_loss = validate(val_loader, model, criterion, epoch, params)\n",
    "            #select the best model based on the loss on the validation set\n",
    "            if epoch_loss < best_loss:\n",
    "                best_loss = epoch_loss\n",
    "                model_ckpt = copy.deepcopy(model.state_dict())\n",
    "    \n",
    "        model.load_state_dict(model_ckpt)\n",
    "        predictions = predict(model, params, test_dataset)\n",
    "\n",
    "        evaluator = Evaluate(predictions)\n",
    "        iou, dice = evaluator.get_metrics().values()\n",
    "        print(f\"The Intersection over Union score is : {iou:.4f}\")\n",
    "        print(f\"The Dice Coefficient is : {dice:.4f}\")\n",
    "\n",
    "        #select the name that the model will be saved with\n",
    "        model_name = \"fastscnn_\"+str(dim1)+\"a\"+str(a)+\"t\"+str(t)+\"r\"+str(r)+\"pp\"+str(int(pp))\n",
    "        model_path = os.path.join(c_dir, \"model_checkpoints/experiments/overall\", model_name)\n",
    "        torch.save(model.state_dict(), model_path+\".pt\")\n",
    "\n",
    "        #put the model in inference mode\n",
    "        model.eval()\n",
    "        #generate dummy input for onnx export\n",
    "        x = torch.randn(1, 3, int(m*512), int(m*512), requires_grad=True).cuda()\n",
    "        torch_out = model(x)\n",
    "\n",
    "        # Export the model\n",
    "        torch.onnx.export(model,                         # model being run\n",
    "                          x,                             # model input (or a tuple for multiple inputs)\n",
    "                          model_path+\".onnx\",            # where to save the model (can be a file or file-like object)\n",
    "                          export_params=True,            # store the trained parameter weights inside the model file\n",
    "                          opset_version=11,              # the ONNX version to export the model to\n",
    "                          do_constant_folding=True,      # whether to execute constant folding for optimization\n",
    "                          input_names = ['input'],       # the model's input names\n",
    "                          output_names = ['output'],     # the model's output names\n",
    "                          operator_export_type=torch.onnx.OperatorExportTypes.ONNX,\n",
    "                          dynamic_axes={'input' : {0 : 'batch_size'},    # variable length axes\n",
    "                                        'output' : {0 : 'batch_size'}})\n",
    "        remove_initializer_from_input(model_path)\n",
    "        print(\"Onnx model saved\")\n",
    "        print()"
   ]
  }
 ],
 "metadata": {
  "accelerator": "GPU",
  "colab": {
   "authorship_tag": "ABX9TyOUbNM9vv8a2lLIS9oTCmUR",
   "collapsed_sections": [],
   "include_colab_link": true,
   "name": "training.ipynb",
   "provenance": []
  },
  "kernelspec": {
   "display_name": "Python 3 (ipykernel)",
   "language": "python",
   "name": "python3"
  },
  "language_info": {
   "codemirror_mode": {
    "name": "ipython",
    "version": 3
   },
   "file_extension": ".py",
   "mimetype": "text/x-python",
   "name": "python",
   "nbconvert_exporter": "python",
   "pygments_lexer": "ipython3",
   "version": "3.7.12"
  },
  "widgets": {
   "application/vnd.jupyter.widget-state+json": {
    "state": {
     "0043074e62eb4467bab712104b671e24": {
      "model_module": "@jupyter-widgets/base",
      "model_module_version": "1.2.0",
      "model_name": "LayoutModel",
      "state": {}
     },
     "00d64a46fba446d491880d1789c9d0d2": {
      "model_module": "@jupyter-widgets/base",
      "model_module_version": "1.2.0",
      "model_name": "LayoutModel",
      "state": {}
     },
     "0168a96e94694a4e86a4c860e5aef3df": {
      "model_module": "@jupyter-widgets/controls",
      "model_module_version": "1.5.0",
      "model_name": "HTMLModel",
      "state": {
       "layout": "IPY_MODEL_1b9f7f8626904f85acf3083a4565575b",
       "style": "IPY_MODEL_2311a8d919144cd4a962f63163bfd8ef",
       "value": " 400/400 [08:36&lt;00:00,  1.29s/it]"
      }
     },
     "01c1d5d154084c0ba2287ceae7c73325": {
      "model_module": "@jupyter-widgets/controls",
      "model_module_version": "1.5.0",
      "model_name": "HTMLModel",
      "state": {
       "layout": "IPY_MODEL_096874dd07824ce09ea2d46a1efc2b1c",
       "style": "IPY_MODEL_32e887a548c54a1eb75ad379156bfee3",
       "value": "100%"
      }
     },
     "01e70ff9ef2949739c3384fa378f4790": {
      "model_module": "@jupyter-widgets/controls",
      "model_module_version": "1.5.0",
      "model_name": "HBoxModel",
      "state": {
       "children": [
        "IPY_MODEL_a185a6d2e4d34363ba0f5125bac5799c",
        "IPY_MODEL_224d10ce67dc4bbc9cc57bf12f745fdc",
        "IPY_MODEL_91c6ad1951c1474fa52686f3749fac05"
       ],
       "layout": "IPY_MODEL_d08df578e84c4c16bf587f4f1d758e11"
      }
     },
     "0303c7b93dee4e23a763e8f041b3b12a": {
      "model_module": "@jupyter-widgets/base",
      "model_module_version": "1.2.0",
      "model_name": "LayoutModel",
      "state": {}
     },
     "0348c01e3736449da97552e71878c7e1": {
      "model_module": "@jupyter-widgets/controls",
      "model_module_version": "1.5.0",
      "model_name": "HTMLModel",
      "state": {
       "layout": "IPY_MODEL_5d0eea138fa54a629c0e1a06e57df497",
       "style": "IPY_MODEL_aa2b98b4fdc44ae894e9f96c5f32fbb9",
       "value": "100%"
      }
     },
     "03e26bd0b59941ffb15800400d3d338f": {
      "model_module": "@jupyter-widgets/controls",
      "model_module_version": "1.5.0",
      "model_name": "DescriptionStyleModel",
      "state": {
       "description_width": ""
      }
     },
     "04876e23cf364d62a401f33c6c5422b1": {
      "model_module": "@jupyter-widgets/controls",
      "model_module_version": "1.5.0",
      "model_name": "HBoxModel",
      "state": {
       "children": [
        "IPY_MODEL_ab939e98f0d9487abfa547ac8cc688f9",
        "IPY_MODEL_92d2ab4ae1334335b36925e78139ef70",
        "IPY_MODEL_801932ff58fa408885687edf90105558"
       ],
       "layout": "IPY_MODEL_da34d053c06f42b0a013c029cd90de7a"
      }
     },
     "04de790145bc4fdbbd8a749a5ba9cee0": {
      "model_module": "@jupyter-widgets/base",
      "model_module_version": "1.2.0",
      "model_name": "LayoutModel",
      "state": {}
     },
     "052c710a6d9d4c268d8d14c6a249ee0c": {
      "model_module": "@jupyter-widgets/base",
      "model_module_version": "1.2.0",
      "model_name": "LayoutModel",
      "state": {}
     },
     "07009c1bd1494f7f8375d3731491d3d2": {
      "model_module": "@jupyter-widgets/base",
      "model_module_version": "1.2.0",
      "model_name": "LayoutModel",
      "state": {}
     },
     "07537dd7fbdb4c17b22d58fcc4c7a39f": {
      "model_module": "@jupyter-widgets/base",
      "model_module_version": "1.2.0",
      "model_name": "LayoutModel",
      "state": {}
     },
     "0803734ff122439bae5280763b2f07e7": {
      "model_module": "@jupyter-widgets/controls",
      "model_module_version": "1.5.0",
      "model_name": "DescriptionStyleModel",
      "state": {
       "description_width": ""
      }
     },
     "0891135640ef4278a13566a5b5d4b05c": {
      "model_module": "@jupyter-widgets/controls",
      "model_module_version": "1.5.0",
      "model_name": "DescriptionStyleModel",
      "state": {
       "description_width": ""
      }
     },
     "096874dd07824ce09ea2d46a1efc2b1c": {
      "model_module": "@jupyter-widgets/base",
      "model_module_version": "1.2.0",
      "model_name": "LayoutModel",
      "state": {}
     },
     "0c218b3907b240b8943380fc5b4a9146": {
      "model_module": "@jupyter-widgets/base",
      "model_module_version": "1.2.0",
      "model_name": "LayoutModel",
      "state": {}
     },
     "0cfbb24173c646cfaa9a026c986c3048": {
      "model_module": "@jupyter-widgets/base",
      "model_module_version": "1.2.0",
      "model_name": "LayoutModel",
      "state": {}
     },
     "0f337583641143338202d71d117efe03": {
      "model_module": "@jupyter-widgets/controls",
      "model_module_version": "1.5.0",
      "model_name": "HBoxModel",
      "state": {
       "children": [
        "IPY_MODEL_e73f2a30278140adb901016f2611bd42",
        "IPY_MODEL_7e44c1f826f64ff2afc826d23441c682",
        "IPY_MODEL_aeb2948ce6ed4eb78f80c4986fd5b585"
       ],
       "layout": "IPY_MODEL_9d84705305b74088be545dfa38c55a90"
      }
     },
     "0f53db90262f4035915738cd8c1c15bd": {
      "model_module": "@jupyter-widgets/controls",
      "model_module_version": "1.5.0",
      "model_name": "FloatProgressModel",
      "state": {
       "bar_style": "success",
       "layout": "IPY_MODEL_610680dfef854382899a57f5d87d74c9",
       "max": 400,
       "style": "IPY_MODEL_aaddd64fa06046c98a17b990cf8de4df",
       "value": 400
      }
     },
     "0fa72b403f8249d983f0d74ed86e92e7": {
      "model_module": "@jupyter-widgets/controls",
      "model_module_version": "1.5.0",
      "model_name": "HBoxModel",
      "state": {
       "children": [
        "IPY_MODEL_9da40330da56415e899e84695afeb076",
        "IPY_MODEL_13dce2b90f2c4db587e6dbe3b07e8dd2",
        "IPY_MODEL_decb5ddb599f42418889624aaed2d5c3"
       ],
       "layout": "IPY_MODEL_c00bc0a308094756aabb2f7d170d27a0"
      }
     },
     "0ff917d542174991a69772f23492fa0f": {
      "model_module": "@jupyter-widgets/controls",
      "model_module_version": "1.5.0",
      "model_name": "FloatProgressModel",
      "state": {
       "bar_style": "success",
       "layout": "IPY_MODEL_270021b2eb804cada63a3f59b0aea7cc",
       "max": 400,
       "style": "IPY_MODEL_8ab7b224db314f30bc9ddc363a7268bc",
       "value": 400
      }
     },
     "1000a81148314bd894afc375c2987729": {
      "model_module": "@jupyter-widgets/controls",
      "model_module_version": "1.5.0",
      "model_name": "FloatProgressModel",
      "state": {
       "bar_style": "success",
       "layout": "IPY_MODEL_1a579c49d7f24cd59231fe6f846666bf",
       "max": 400,
       "style": "IPY_MODEL_77d46cb92b944c4087d4d6e9b5901250",
       "value": 400
      }
     },
     "1007ea90c6744fca85e1e4962c3adcc6": {
      "model_module": "@jupyter-widgets/base",
      "model_module_version": "1.2.0",
      "model_name": "LayoutModel",
      "state": {}
     },
     "11a74b486e144d1fbf78e2e14f0dfffb": {
      "model_module": "@jupyter-widgets/controls",
      "model_module_version": "1.5.0",
      "model_name": "DescriptionStyleModel",
      "state": {
       "description_width": ""
      }
     },
     "12475bfcd1f14ef3bc7d9ce8e14a88b2": {
      "model_module": "@jupyter-widgets/controls",
      "model_module_version": "1.5.0",
      "model_name": "ProgressStyleModel",
      "state": {
       "description_width": ""
      }
     },
     "125d4dfb2cc946648ff1ca329f89ae1b": {
      "model_module": "@jupyter-widgets/controls",
      "model_module_version": "1.5.0",
      "model_name": "HTMLModel",
      "state": {
       "layout": "IPY_MODEL_434ebd40959740daa59c8e284d02fb95",
       "style": "IPY_MODEL_830d196741d34db5ac9ac3e4daba50d1",
       "value": " 400/400 [08:45&lt;00:00,  1.31s/it]"
      }
     },
     "129331a98c3a4466b0d4647b237ef7db": {
      "model_module": "@jupyter-widgets/controls",
      "model_module_version": "1.5.0",
      "model_name": "DescriptionStyleModel",
      "state": {
       "description_width": ""
      }
     },
     "12c16a6a26d54a9ba462db6a8c818d49": {
      "model_module": "@jupyter-widgets/controls",
      "model_module_version": "1.5.0",
      "model_name": "HTMLModel",
      "state": {
       "layout": "IPY_MODEL_d934307d1cdd418fb25f4920281a6a70",
       "style": "IPY_MODEL_3a3f336eeced4147bedc1bd304a46f1f",
       "value": " 400/400 [09:16&lt;00:00,  1.39s/it]"
      }
     },
     "13862aab017941509ccacea7f28855d3": {
      "model_module": "@jupyter-widgets/controls",
      "model_module_version": "1.5.0",
      "model_name": "HBoxModel",
      "state": {
       "children": [
        "IPY_MODEL_91ecd8f67c774e61afda83a9e5dec2db",
        "IPY_MODEL_52d85a6e0c3d4fb19eb804fb7ca0b1f3",
        "IPY_MODEL_75d781d411304099b0a97a9fe4cfd6e7"
       ],
       "layout": "IPY_MODEL_1c11848ea0d94616a55299f0421670b0"
      }
     },
     "13d75eb85f7e48cba01f755856150353": {
      "model_module": "@jupyter-widgets/controls",
      "model_module_version": "1.5.0",
      "model_name": "ProgressStyleModel",
      "state": {
       "description_width": ""
      }
     },
     "13dce2b90f2c4db587e6dbe3b07e8dd2": {
      "model_module": "@jupyter-widgets/controls",
      "model_module_version": "1.5.0",
      "model_name": "FloatProgressModel",
      "state": {
       "bar_style": "success",
       "layout": "IPY_MODEL_efffddee0ea74820ba85003ea3ff3e44",
       "max": 400,
       "style": "IPY_MODEL_92c1a562118540e1868e22d91f51a702",
       "value": 400
      }
     },
     "14097ca8d22344f5960bda416c41d445": {
      "model_module": "@jupyter-widgets/base",
      "model_module_version": "1.2.0",
      "model_name": "LayoutModel",
      "state": {}
     },
     "142f7bbfdde8431c9d6867125ba345d0": {
      "model_module": "@jupyter-widgets/controls",
      "model_module_version": "1.5.0",
      "model_name": "HTMLModel",
      "state": {
       "layout": "IPY_MODEL_cc34d6dad8e54a3f891a3916db4ddab7",
       "style": "IPY_MODEL_661989b032944ef3a19204bdcdbce1d5",
       "value": "100%"
      }
     },
     "169b71a1912d4d9e8df1b9c99a3964ff": {
      "model_module": "@jupyter-widgets/base",
      "model_module_version": "1.2.0",
      "model_name": "LayoutModel",
      "state": {}
     },
     "16b38655b3fa4a379a3915fb19cb6e47": {
      "model_module": "@jupyter-widgets/controls",
      "model_module_version": "1.5.0",
      "model_name": "HTMLModel",
      "state": {
       "layout": "IPY_MODEL_e953f77ab1db4360b75c0a943c890a72",
       "style": "IPY_MODEL_d8658c84a32b4bdb8442f5fa79ef9899",
       "value": " 400/400 [08:31&lt;00:00,  1.28s/it]"
      }
     },
     "16bcc3b055cd4f53bcb13d10599d6629": {
      "model_module": "@jupyter-widgets/base",
      "model_module_version": "1.2.0",
      "model_name": "LayoutModel",
      "state": {}
     },
     "175ff4696fba46978fd781dc23f4073f": {
      "model_module": "@jupyter-widgets/controls",
      "model_module_version": "1.5.0",
      "model_name": "HTMLModel",
      "state": {
       "layout": "IPY_MODEL_336cc35111054d45b9de9b483de8d407",
       "style": "IPY_MODEL_59012c6323544bb3aecfdf301ae695ec",
       "value": "100%"
      }
     },
     "17ce47b703c3455ebc4169b6c147edf0": {
      "model_module": "@jupyter-widgets/base",
      "model_module_version": "1.2.0",
      "model_name": "LayoutModel",
      "state": {}
     },
     "18e4758c962e4e32a60cbf68e497a8a3": {
      "model_module": "@jupyter-widgets/base",
      "model_module_version": "1.2.0",
      "model_name": "LayoutModel",
      "state": {}
     },
     "1a579c49d7f24cd59231fe6f846666bf": {
      "model_module": "@jupyter-widgets/base",
      "model_module_version": "1.2.0",
      "model_name": "LayoutModel",
      "state": {}
     },
     "1aeb942823fa40ce9768819e52886e42": {
      "model_module": "@jupyter-widgets/base",
      "model_module_version": "1.2.0",
      "model_name": "LayoutModel",
      "state": {}
     },
     "1b9cfa0cf16f40beb9235527f81aa93b": {
      "model_module": "@jupyter-widgets/controls",
      "model_module_version": "1.5.0",
      "model_name": "DescriptionStyleModel",
      "state": {
       "description_width": ""
      }
     },
     "1b9f7f8626904f85acf3083a4565575b": {
      "model_module": "@jupyter-widgets/base",
      "model_module_version": "1.2.0",
      "model_name": "LayoutModel",
      "state": {}
     },
     "1c11848ea0d94616a55299f0421670b0": {
      "model_module": "@jupyter-widgets/base",
      "model_module_version": "1.2.0",
      "model_name": "LayoutModel",
      "state": {}
     },
     "1ce4f63b24be41d384eddc8ec7549293": {
      "model_module": "@jupyter-widgets/controls",
      "model_module_version": "1.5.0",
      "model_name": "DescriptionStyleModel",
      "state": {
       "description_width": ""
      }
     },
     "1d9b7f1a016e4ddca4969e1902b8dcd5": {
      "model_module": "@jupyter-widgets/controls",
      "model_module_version": "1.5.0",
      "model_name": "HTMLModel",
      "state": {
       "layout": "IPY_MODEL_a8d706675aa74ec78906e7ee003555fc",
       "style": "IPY_MODEL_c25e9e649d68402980097dc49ec74d95",
       "value": "100%"
      }
     },
     "1dc71411a2df40e3b1bcf41d0e741eb9": {
      "model_module": "@jupyter-widgets/base",
      "model_module_version": "1.2.0",
      "model_name": "LayoutModel",
      "state": {}
     },
     "1dfb6ffc372d48fc97dc3c911c8ea682": {
      "model_module": "@jupyter-widgets/base",
      "model_module_version": "1.2.0",
      "model_name": "LayoutModel",
      "state": {}
     },
     "1e58f71b9dcc43a6b575db28a203e36c": {
      "model_module": "@jupyter-widgets/base",
      "model_module_version": "1.2.0",
      "model_name": "LayoutModel",
      "state": {}
     },
     "1e938abbce32442d9609f20086479c1a": {
      "model_module": "@jupyter-widgets/controls",
      "model_module_version": "1.5.0",
      "model_name": "ProgressStyleModel",
      "state": {
       "description_width": ""
      }
     },
     "1f23de14664c41c9b81c6b7ecc5173f7": {
      "model_module": "@jupyter-widgets/base",
      "model_module_version": "1.2.0",
      "model_name": "LayoutModel",
      "state": {}
     },
     "1f37830016f44ef0a5501b7715e21c51": {
      "model_module": "@jupyter-widgets/base",
      "model_module_version": "1.2.0",
      "model_name": "LayoutModel",
      "state": {}
     },
     "1f64b63f598447539dea4509327faad1": {
      "model_module": "@jupyter-widgets/controls",
      "model_module_version": "1.5.0",
      "model_name": "HBoxModel",
      "state": {
       "children": [
        "IPY_MODEL_7da5cccdd0884507b523d54e3d3bca36",
        "IPY_MODEL_6e120314c0d2463395ad5c4f88eeb952",
        "IPY_MODEL_8ec37926dacb4f9e93722c251e762257"
       ],
       "layout": "IPY_MODEL_4b1f54350f71431a964d2d09f9715c4d"
      }
     },
     "20f78a6e21fa45c39bbf0c6bd7294bad": {
      "model_module": "@jupyter-widgets/controls",
      "model_module_version": "1.5.0",
      "model_name": "HBoxModel",
      "state": {
       "children": [
        "IPY_MODEL_b1ea580a35a34eb9bf32b6702dfd3671",
        "IPY_MODEL_6d7a5b3da0a04e76840d293d8d78738e",
        "IPY_MODEL_12c16a6a26d54a9ba462db6a8c818d49"
       ],
       "layout": "IPY_MODEL_cd8a1c6729b641e684eadfe16078953d"
      }
     },
     "21597ced54904221b1f288bf1e03eb58": {
      "model_module": "@jupyter-widgets/controls",
      "model_module_version": "1.5.0",
      "model_name": "ProgressStyleModel",
      "state": {
       "description_width": ""
      }
     },
     "220f2e8db09a4cc68886a39dc0a0fa12": {
      "model_module": "@jupyter-widgets/base",
      "model_module_version": "1.2.0",
      "model_name": "LayoutModel",
      "state": {}
     },
     "222baa69e59544939ab7e90b99812141": {
      "model_module": "@jupyter-widgets/controls",
      "model_module_version": "1.5.0",
      "model_name": "DescriptionStyleModel",
      "state": {
       "description_width": ""
      }
     },
     "224d10ce67dc4bbc9cc57bf12f745fdc": {
      "model_module": "@jupyter-widgets/controls",
      "model_module_version": "1.5.0",
      "model_name": "FloatProgressModel",
      "state": {
       "bar_style": "success",
       "layout": "IPY_MODEL_442e51af946d4872882f7475ac2e0595",
       "max": 400,
       "style": "IPY_MODEL_66abf4ceb88c47a9a66df56cdeb26cf6",
       "value": 400
      }
     },
     "2311a8d919144cd4a962f63163bfd8ef": {
      "model_module": "@jupyter-widgets/controls",
      "model_module_version": "1.5.0",
      "model_name": "DescriptionStyleModel",
      "state": {
       "description_width": ""
      }
     },
     "2473d803fb4344c78bd9b87cc426fa1e": {
      "model_module": "@jupyter-widgets/controls",
      "model_module_version": "1.5.0",
      "model_name": "HTMLModel",
      "state": {
       "layout": "IPY_MODEL_c8231482a7dd48e6b23d68a72b252a07",
       "style": "IPY_MODEL_7817269960b740ed9aaa62607322ba9c",
       "value": " 400/400 [08:09&lt;00:00,  1.24s/it]"
      }
     },
     "250c4e27125047809326112a908e3bd9": {
      "model_module": "@jupyter-widgets/controls",
      "model_module_version": "1.5.0",
      "model_name": "HBoxModel",
      "state": {
       "children": [
        "IPY_MODEL_8ee504b0bbc14e8aa8bf4365250e1849",
        "IPY_MODEL_91ff00e4a26f4399b7024225a0164437",
        "IPY_MODEL_c2fba52b56734a06a6e0356657429d2a"
       ],
       "layout": "IPY_MODEL_cf41fbfa1cf34c529dc7005cd665d656"
      }
     },
     "2518a5323a174b208247be4bee950900": {
      "model_module": "@jupyter-widgets/controls",
      "model_module_version": "1.5.0",
      "model_name": "HBoxModel",
      "state": {
       "children": [
        "IPY_MODEL_b7e4095e6c464c2aaf191c161478403a",
        "IPY_MODEL_291dae6e097240e998f57ed81818757a",
        "IPY_MODEL_521e31ccfdb141e7b00cb4e5ac5c9d39"
       ],
       "layout": "IPY_MODEL_dddbbb7824f84a8dbbd5eb69e8d2295a"
      }
     },
     "270021b2eb804cada63a3f59b0aea7cc": {
      "model_module": "@jupyter-widgets/base",
      "model_module_version": "1.2.0",
      "model_name": "LayoutModel",
      "state": {}
     },
     "27c7a4d511e24fc9abe15b31e0ddb7e7": {
      "model_module": "@jupyter-widgets/controls",
      "model_module_version": "1.5.0",
      "model_name": "DescriptionStyleModel",
      "state": {
       "description_width": ""
      }
     },
     "2820c87e94824dae818c98ca6c1bdf35": {
      "model_module": "@jupyter-widgets/base",
      "model_module_version": "1.2.0",
      "model_name": "LayoutModel",
      "state": {}
     },
     "291dae6e097240e998f57ed81818757a": {
      "model_module": "@jupyter-widgets/controls",
      "model_module_version": "1.5.0",
      "model_name": "FloatProgressModel",
      "state": {
       "bar_style": "success",
       "layout": "IPY_MODEL_ed7fceb34b92452c92d96c028e8f954f",
       "max": 400,
       "style": "IPY_MODEL_67b2ab7824ea4702a95b4c52e9543abe",
       "value": 400
      }
     },
     "2927b12e78534753899358621ec361ac": {
      "model_module": "@jupyter-widgets/controls",
      "model_module_version": "1.5.0",
      "model_name": "DescriptionStyleModel",
      "state": {
       "description_width": ""
      }
     },
     "295b58b788984348930a83844626a307": {
      "model_module": "@jupyter-widgets/controls",
      "model_module_version": "1.5.0",
      "model_name": "DescriptionStyleModel",
      "state": {
       "description_width": ""
      }
     },
     "2b8c1fb84a954ad7ac1a7bc1970aa83d": {
      "model_module": "@jupyter-widgets/controls",
      "model_module_version": "1.5.0",
      "model_name": "ProgressStyleModel",
      "state": {
       "description_width": ""
      }
     },
     "2c01520ddb864382bfaf2447119cd92c": {
      "model_module": "@jupyter-widgets/controls",
      "model_module_version": "1.5.0",
      "model_name": "DescriptionStyleModel",
      "state": {
       "description_width": ""
      }
     },
     "2c4d4903fb9246b889b614e88b70e528": {
      "model_module": "@jupyter-widgets/controls",
      "model_module_version": "1.5.0",
      "model_name": "ProgressStyleModel",
      "state": {
       "description_width": ""
      }
     },
     "2c8d7da32ca64adcb0d1a774853acf67": {
      "model_module": "@jupyter-widgets/base",
      "model_module_version": "1.2.0",
      "model_name": "LayoutModel",
      "state": {}
     },
     "2cb67e213ee64c92a286b3cb307d0f42": {
      "model_module": "@jupyter-widgets/controls",
      "model_module_version": "1.5.0",
      "model_name": "HTMLModel",
      "state": {
       "layout": "IPY_MODEL_a1d5fd5b88b34cf89b237c234fb33127",
       "style": "IPY_MODEL_2da8eb4ed00f419785d0a42fcfe68388",
       "value": "100%"
      }
     },
     "2da8eb4ed00f419785d0a42fcfe68388": {
      "model_module": "@jupyter-widgets/controls",
      "model_module_version": "1.5.0",
      "model_name": "DescriptionStyleModel",
      "state": {
       "description_width": ""
      }
     },
     "2e5613dad9674186b65ad014e86971c2": {
      "model_module": "@jupyter-widgets/base",
      "model_module_version": "1.2.0",
      "model_name": "LayoutModel",
      "state": {}
     },
     "2f3db428787747a48d38c1810b782c47": {
      "model_module": "@jupyter-widgets/controls",
      "model_module_version": "1.5.0",
      "model_name": "FloatProgressModel",
      "state": {
       "bar_style": "success",
       "layout": "IPY_MODEL_bb9a0c2c3f1b440a84cbb50ac5599fba",
       "max": 400,
       "style": "IPY_MODEL_b48aca696714410c969cf7213c8751f9",
       "value": 400
      }
     },
     "300bc6d3e654489b8b2485e4a491e401": {
      "model_module": "@jupyter-widgets/controls",
      "model_module_version": "1.5.0",
      "model_name": "HTMLModel",
      "state": {
       "layout": "IPY_MODEL_0cfbb24173c646cfaa9a026c986c3048",
       "style": "IPY_MODEL_9dd9e9bb095a4261b0680078a110dc5c",
       "value": "100%"
      }
     },
     "306c61c5cdf7448783d81427cb476ca3": {
      "model_module": "@jupyter-widgets/controls",
      "model_module_version": "1.5.0",
      "model_name": "FloatProgressModel",
      "state": {
       "bar_style": "success",
       "layout": "IPY_MODEL_60fde166c08e495e9af9a1f1eb135ec4",
       "max": 400,
       "style": "IPY_MODEL_be5da5257b9a483f8e168aa168476f1c",
       "value": 400
      }
     },
     "31067ea2e59a4872a937a972625aa7de": {
      "model_module": "@jupyter-widgets/controls",
      "model_module_version": "1.5.0",
      "model_name": "HBoxModel",
      "state": {
       "children": [
        "IPY_MODEL_f82c3c45b7704ea498d647bc88ee173f",
        "IPY_MODEL_b92ae7d2be4942eab9de6a2e38f848b0",
        "IPY_MODEL_7db78cbe3d7d48d285bd758bb35608c8"
       ],
       "layout": "IPY_MODEL_6e8c292c3f894302bd90e49c759b4fbe"
      }
     },
     "315ed7e0344c4b0c8749f13affcf385b": {
      "model_module": "@jupyter-widgets/controls",
      "model_module_version": "1.5.0",
      "model_name": "HTMLModel",
      "state": {
       "layout": "IPY_MODEL_16bcc3b055cd4f53bcb13d10599d6629",
       "style": "IPY_MODEL_7406a0bfc3b24b4d9ed8492131d04b21",
       "value": "100%"
      }
     },
     "31c37801e65946b19d3acc54529f1f73": {
      "model_module": "@jupyter-widgets/controls",
      "model_module_version": "1.5.0",
      "model_name": "FloatProgressModel",
      "state": {
       "bar_style": "success",
       "layout": "IPY_MODEL_04de790145bc4fdbbd8a749a5ba9cee0",
       "max": 400,
       "style": "IPY_MODEL_dd958cc228274a758b7230ef07d298bd",
       "value": 400
      }
     },
     "3232921a951f4e71a870b4f9a3519bce": {
      "model_module": "@jupyter-widgets/controls",
      "model_module_version": "1.5.0",
      "model_name": "HTMLModel",
      "state": {
       "layout": "IPY_MODEL_324f30aff8f64891b3811d16f302f586",
       "style": "IPY_MODEL_e8bdc74f121f4414a71ada8b01f8ccae",
       "value": " 400/400 [08:45&lt;00:00,  1.32s/it]"
      }
     },
     "324f30aff8f64891b3811d16f302f586": {
      "model_module": "@jupyter-widgets/base",
      "model_module_version": "1.2.0",
      "model_name": "LayoutModel",
      "state": {}
     },
     "32e887a548c54a1eb75ad379156bfee3": {
      "model_module": "@jupyter-widgets/controls",
      "model_module_version": "1.5.0",
      "model_name": "DescriptionStyleModel",
      "state": {
       "description_width": ""
      }
     },
     "336cc35111054d45b9de9b483de8d407": {
      "model_module": "@jupyter-widgets/base",
      "model_module_version": "1.2.0",
      "model_name": "LayoutModel",
      "state": {}
     },
     "33f9510d9dd24579b13675579c57da5a": {
      "model_module": "@jupyter-widgets/controls",
      "model_module_version": "1.5.0",
      "model_name": "DescriptionStyleModel",
      "state": {
       "description_width": ""
      }
     },
     "34126a606fb6440d9410210ac37bc988": {
      "model_module": "@jupyter-widgets/base",
      "model_module_version": "1.2.0",
      "model_name": "LayoutModel",
      "state": {}
     },
     "34667b6d847442f5b2f11eeb0a6f5b70": {
      "model_module": "@jupyter-widgets/controls",
      "model_module_version": "1.5.0",
      "model_name": "HTMLModel",
      "state": {
       "layout": "IPY_MODEL_d809d10e2011434cbecca29b5f369ce2",
       "style": "IPY_MODEL_11a74b486e144d1fbf78e2e14f0dfffb",
       "value": " 400/400 [08:25&lt;00:00,  1.26s/it]"
      }
     },
     "347d22411bc6450681cc6b22e1b5e7fa": {
      "model_module": "@jupyter-widgets/base",
      "model_module_version": "1.2.0",
      "model_name": "LayoutModel",
      "state": {}
     },
     "35a55e540bdf4c1cb2213c9966ccc715": {
      "model_module": "@jupyter-widgets/controls",
      "model_module_version": "1.5.0",
      "model_name": "DescriptionStyleModel",
      "state": {
       "description_width": ""
      }
     },
     "35d0f9a0466b4bc8bdfe6c09dba32365": {
      "model_module": "@jupyter-widgets/base",
      "model_module_version": "1.2.0",
      "model_name": "LayoutModel",
      "state": {}
     },
     "364b7074042b4f53ba942c39a6a6d398": {
      "model_module": "@jupyter-widgets/controls",
      "model_module_version": "1.5.0",
      "model_name": "FloatProgressModel",
      "state": {
       "bar_style": "success",
       "layout": "IPY_MODEL_42743c12675b4059b7f5f3039e81caba",
       "max": 400,
       "style": "IPY_MODEL_e8b98bcb0bae4f28a85a8f648a15d233",
       "value": 400
      }
     },
     "36953dee1f5b401c8e211da5e216fe6f": {
      "model_module": "@jupyter-widgets/controls",
      "model_module_version": "1.5.0",
      "model_name": "DescriptionStyleModel",
      "state": {
       "description_width": ""
      }
     },
     "3711d62ca06146afb81dd476483ec60e": {
      "model_module": "@jupyter-widgets/base",
      "model_module_version": "1.2.0",
      "model_name": "LayoutModel",
      "state": {}
     },
     "3a3f336eeced4147bedc1bd304a46f1f": {
      "model_module": "@jupyter-widgets/controls",
      "model_module_version": "1.5.0",
      "model_name": "DescriptionStyleModel",
      "state": {
       "description_width": ""
      }
     },
     "3a70170f3004423a87a609bcc6b7cf23": {
      "model_module": "@jupyter-widgets/controls",
      "model_module_version": "1.5.0",
      "model_name": "DescriptionStyleModel",
      "state": {
       "description_width": ""
      }
     },
     "3b2cd954274643ada610b44adbfa1ba5": {
      "model_module": "@jupyter-widgets/controls",
      "model_module_version": "1.5.0",
      "model_name": "FloatProgressModel",
      "state": {
       "bar_style": "success",
       "layout": "IPY_MODEL_4fff672494b741cfb7831e6b373438b5",
       "max": 400,
       "style": "IPY_MODEL_6a513e586149424bac928202083840a1",
       "value": 400
      }
     },
     "3b2e761ca7a64a58b5d7810cdc1efede": {
      "model_module": "@jupyter-widgets/controls",
      "model_module_version": "1.5.0",
      "model_name": "DescriptionStyleModel",
      "state": {
       "description_width": ""
      }
     },
     "3b44d92bf82d403aabf530165bd0069f": {
      "model_module": "@jupyter-widgets/base",
      "model_module_version": "1.2.0",
      "model_name": "LayoutModel",
      "state": {}
     },
     "3bffc018e2d94ee1a0e89e1941859161": {
      "model_module": "@jupyter-widgets/base",
      "model_module_version": "1.2.0",
      "model_name": "LayoutModel",
      "state": {}
     },
     "3c07468d4df3468ea053429a32424f03": {
      "model_module": "@jupyter-widgets/base",
      "model_module_version": "1.2.0",
      "model_name": "LayoutModel",
      "state": {}
     },
     "3c29f1ddea7048038cfb18efaf4293d3": {
      "model_module": "@jupyter-widgets/base",
      "model_module_version": "1.2.0",
      "model_name": "LayoutModel",
      "state": {}
     },
     "3cba3ad7fe1240e4924c60efa3332532": {
      "model_module": "@jupyter-widgets/controls",
      "model_module_version": "1.5.0",
      "model_name": "HTMLModel",
      "state": {
       "layout": "IPY_MODEL_5b31463804334a5782790504da69ea59",
       "style": "IPY_MODEL_5b2df15b78c942dab47744d2137ae02d",
       "value": " 400/400 [08:21&lt;00:00,  1.25s/it]"
      }
     },
     "3ccae454cdf24e74b6d195075bbb89f3": {
      "model_module": "@jupyter-widgets/controls",
      "model_module_version": "1.5.0",
      "model_name": "DescriptionStyleModel",
      "state": {
       "description_width": ""
      }
     },
     "3d2a2cf2d08f4cb3b18796a1dfdfef80": {
      "model_module": "@jupyter-widgets/base",
      "model_module_version": "1.2.0",
      "model_name": "LayoutModel",
      "state": {}
     },
     "3d3c0e594c5f4c4a8111ca49f61fb3e6": {
      "model_module": "@jupyter-widgets/controls",
      "model_module_version": "1.5.0",
      "model_name": "HTMLModel",
      "state": {
       "layout": "IPY_MODEL_e5bae89e10854c678199acd57a524350",
       "style": "IPY_MODEL_a3bfca3800a04afca989f1e6940c4569",
       "value": "100%"
      }
     },
     "3ec772a4f77a4902aa8b8ca7f920a90d": {
      "model_module": "@jupyter-widgets/base",
      "model_module_version": "1.2.0",
      "model_name": "LayoutModel",
      "state": {}
     },
     "3f36384a070c40a8b0acdc9b1fddd803": {
      "model_module": "@jupyter-widgets/controls",
      "model_module_version": "1.5.0",
      "model_name": "FloatProgressModel",
      "state": {
       "bar_style": "success",
       "layout": "IPY_MODEL_6d6daf9708c14e138e8f21816cb47adc",
       "max": 400,
       "style": "IPY_MODEL_865a23488ffa48b8bbd328626def068d",
       "value": 400
      }
     },
     "3ff594536a434701be95c540df7bd34d": {
      "model_module": "@jupyter-widgets/base",
      "model_module_version": "1.2.0",
      "model_name": "LayoutModel",
      "state": {}
     },
     "3ffae52cda7a4e8fb808d635f8d00e03": {
      "model_module": "@jupyter-widgets/base",
      "model_module_version": "1.2.0",
      "model_name": "LayoutModel",
      "state": {}
     },
     "4037928dc89a4fe2ad1886654ebea94a": {
      "model_module": "@jupyter-widgets/controls",
      "model_module_version": "1.5.0",
      "model_name": "HBoxModel",
      "state": {
       "children": [
        "IPY_MODEL_b3a3b5d0343547b8b6be2c5ac35ec668",
        "IPY_MODEL_4785113486d54d7ea74d0f27f96fed2b",
        "IPY_MODEL_c7d3e47b2d174bb1929eea0b10e96103"
       ],
       "layout": "IPY_MODEL_522182dcae334872811d06e8c132b2c2"
      }
     },
     "40a55de7972c4a7c9c6daa11658fa2e2": {
      "model_module": "@jupyter-widgets/controls",
      "model_module_version": "1.5.0",
      "model_name": "HTMLModel",
      "state": {
       "layout": "IPY_MODEL_ac1b6a870acd49afa841c8e54bf8586c",
       "style": "IPY_MODEL_f1172266562c4ed0a4ec0f3f31162134",
       "value": " 400/400 [08:13&lt;00:00,  1.23s/it]"
      }
     },
     "4184b2d0739e4c26b3abcab4f5ac72a1": {
      "model_module": "@jupyter-widgets/base",
      "model_module_version": "1.2.0",
      "model_name": "LayoutModel",
      "state": {}
     },
     "42684a38638e48af81908072be803f0a": {
      "model_module": "@jupyter-widgets/controls",
      "model_module_version": "1.5.0",
      "model_name": "HBoxModel",
      "state": {
       "children": [
        "IPY_MODEL_c1145d65917840d4b778a68f32abe414",
        "IPY_MODEL_835d6267c1194975af39d170b890e055",
        "IPY_MODEL_d2ccea9aa4784057a0c02bc5eb45ba26"
       ],
       "layout": "IPY_MODEL_f7ac0f22dc5b4eedadf2554e928feb55"
      }
     },
     "42743c12675b4059b7f5f3039e81caba": {
      "model_module": "@jupyter-widgets/base",
      "model_module_version": "1.2.0",
      "model_name": "LayoutModel",
      "state": {}
     },
     "42e3d71317204ef4bdab108927501cd4": {
      "model_module": "@jupyter-widgets/base",
      "model_module_version": "1.2.0",
      "model_name": "LayoutModel",
      "state": {}
     },
     "4303f86f8bb14776a9e78ba184eff523": {
      "model_module": "@jupyter-widgets/controls",
      "model_module_version": "1.5.0",
      "model_name": "HTMLModel",
      "state": {
       "layout": "IPY_MODEL_14097ca8d22344f5960bda416c41d445",
       "style": "IPY_MODEL_651ede8809684b49926b7436c6215ca1",
       "value": " 400/400 [08:18&lt;00:00,  1.25s/it]"
      }
     },
     "434ebd40959740daa59c8e284d02fb95": {
      "model_module": "@jupyter-widgets/base",
      "model_module_version": "1.2.0",
      "model_name": "LayoutModel",
      "state": {}
     },
     "43a29e880a5e402cb56182f37d3c274f": {
      "model_module": "@jupyter-widgets/controls",
      "model_module_version": "1.5.0",
      "model_name": "DescriptionStyleModel",
      "state": {
       "description_width": ""
      }
     },
     "43feda5354a24f89a798dedc1d63b9db": {
      "model_module": "@jupyter-widgets/base",
      "model_module_version": "1.2.0",
      "model_name": "LayoutModel",
      "state": {}
     },
     "441240af943043dfa937809237db1295": {
      "model_module": "@jupyter-widgets/controls",
      "model_module_version": "1.5.0",
      "model_name": "HTMLModel",
      "state": {
       "layout": "IPY_MODEL_d2ee8aa18fd447bbacee3bde94d8e3e4",
       "style": "IPY_MODEL_65439d4f3eb84518b22e7ed49a825f16",
       "value": " 400/400 [08:38&lt;00:00,  1.30s/it]"
      }
     },
     "4415b8fd250a4adfaad42b182360c487": {
      "model_module": "@jupyter-widgets/controls",
      "model_module_version": "1.5.0",
      "model_name": "DescriptionStyleModel",
      "state": {
       "description_width": ""
      }
     },
     "442e51af946d4872882f7475ac2e0595": {
      "model_module": "@jupyter-widgets/base",
      "model_module_version": "1.2.0",
      "model_name": "LayoutModel",
      "state": {}
     },
     "4538c81969ae4313bb1674375e43e3ac": {
      "model_module": "@jupyter-widgets/controls",
      "model_module_version": "1.5.0",
      "model_name": "FloatProgressModel",
      "state": {
       "bar_style": "success",
       "layout": "IPY_MODEL_c3b4cf6ae0504c47b7a3eb8837518a07",
       "max": 400,
       "style": "IPY_MODEL_f33f516f4d54473b8244da9d90beba62",
       "value": 400
      }
     },
     "4589ca44a44c4183ba38245ca9cfe8a7": {
      "model_module": "@jupyter-widgets/base",
      "model_module_version": "1.2.0",
      "model_name": "LayoutModel",
      "state": {}
     },
     "4633eb8461934d33bc94aa8c3086ab17": {
      "model_module": "@jupyter-widgets/base",
      "model_module_version": "1.2.0",
      "model_name": "LayoutModel",
      "state": {}
     },
     "46544e5d5a274a31b7954967e2ab014f": {
      "model_module": "@jupyter-widgets/base",
      "model_module_version": "1.2.0",
      "model_name": "LayoutModel",
      "state": {}
     },
     "46c29acfebcf4927968b1ab40340eb8f": {
      "model_module": "@jupyter-widgets/controls",
      "model_module_version": "1.5.0",
      "model_name": "HTMLModel",
      "state": {
       "layout": "IPY_MODEL_3b44d92bf82d403aabf530165bd0069f",
       "style": "IPY_MODEL_0891135640ef4278a13566a5b5d4b05c",
       "value": " 400/400 [09:17&lt;00:00,  1.40s/it]"
      }
     },
     "4785113486d54d7ea74d0f27f96fed2b": {
      "model_module": "@jupyter-widgets/controls",
      "model_module_version": "1.5.0",
      "model_name": "FloatProgressModel",
      "state": {
       "bar_style": "success",
       "layout": "IPY_MODEL_cfa07e5798794a7e83cd7a437e860fce",
       "max": 400,
       "style": "IPY_MODEL_afde57f4bd5a4c4aa772d749b0369a5c",
       "value": 400
      }
     },
     "47c49a5d8d6c44a19b18a0e3e9bab167": {
      "model_module": "@jupyter-widgets/base",
      "model_module_version": "1.2.0",
      "model_name": "LayoutModel",
      "state": {}
     },
     "48446337433942d197294fae4f9c757b": {
      "model_module": "@jupyter-widgets/controls",
      "model_module_version": "1.5.0",
      "model_name": "FloatProgressModel",
      "state": {
       "bar_style": "success",
       "layout": "IPY_MODEL_47c49a5d8d6c44a19b18a0e3e9bab167",
       "max": 400,
       "style": "IPY_MODEL_626d8edf63bc465789e2168bc18df86d",
       "value": 400
      }
     },
     "48a2375ab5ae4314a429b65be050254b": {
      "model_module": "@jupyter-widgets/base",
      "model_module_version": "1.2.0",
      "model_name": "LayoutModel",
      "state": {}
     },
     "4912da9be7ce4bf5b710e97483f0718c": {
      "model_module": "@jupyter-widgets/controls",
      "model_module_version": "1.5.0",
      "model_name": "HBoxModel",
      "state": {
       "children": [
        "IPY_MODEL_921861836f7341578e999d72c7a284b6",
        "IPY_MODEL_783f82ae6bf24cf7a9bba613762655b0",
        "IPY_MODEL_52befc96ead74d9eb79d834f4da85682"
       ],
       "layout": "IPY_MODEL_42e3d71317204ef4bdab108927501cd4"
      }
     },
     "4912de6c58354f30904d8ceb51a9c31c": {
      "model_module": "@jupyter-widgets/base",
      "model_module_version": "1.2.0",
      "model_name": "LayoutModel",
      "state": {}
     },
     "49153d7cd9bf4d0ca3524ddf9a956df2": {
      "model_module": "@jupyter-widgets/base",
      "model_module_version": "1.2.0",
      "model_name": "LayoutModel",
      "state": {}
     },
     "497fbe7d57e641769a2ee9d8ba7f8c69": {
      "model_module": "@jupyter-widgets/controls",
      "model_module_version": "1.5.0",
      "model_name": "DescriptionStyleModel",
      "state": {
       "description_width": ""
      }
     },
     "49fd9bf3e7774f7d93d654ced3804c84": {
      "model_module": "@jupyter-widgets/controls",
      "model_module_version": "1.5.0",
      "model_name": "ProgressStyleModel",
      "state": {
       "description_width": ""
      }
     },
     "4b1f54350f71431a964d2d09f9715c4d": {
      "model_module": "@jupyter-widgets/base",
      "model_module_version": "1.2.0",
      "model_name": "LayoutModel",
      "state": {}
     },
     "4cc5930fb6ed47b3888e063ae070a545": {
      "model_module": "@jupyter-widgets/controls",
      "model_module_version": "1.5.0",
      "model_name": "DescriptionStyleModel",
      "state": {
       "description_width": ""
      }
     },
     "4d02652a204e4fc79ffca0f23feb81e7": {
      "model_module": "@jupyter-widgets/base",
      "model_module_version": "1.2.0",
      "model_name": "LayoutModel",
      "state": {}
     },
     "4dde6860078d4edb94db66ae100ab1d5": {
      "model_module": "@jupyter-widgets/controls",
      "model_module_version": "1.5.0",
      "model_name": "DescriptionStyleModel",
      "state": {
       "description_width": ""
      }
     },
     "4ee95e6538da4d92b755e4052a88f020": {
      "model_module": "@jupyter-widgets/controls",
      "model_module_version": "1.5.0",
      "model_name": "HTMLModel",
      "state": {
       "layout": "IPY_MODEL_bf4cdd1e8b2e4ba1b6fa8c668ffd1c0b",
       "style": "IPY_MODEL_8e2d79a30d914f41ac5ac7e6855b1aaa",
       "value": "100%"
      }
     },
     "4f1fb76607f3490da269d6d391bf0fc4": {
      "model_module": "@jupyter-widgets/base",
      "model_module_version": "1.2.0",
      "model_name": "LayoutModel",
      "state": {}
     },
     "4fff672494b741cfb7831e6b373438b5": {
      "model_module": "@jupyter-widgets/base",
      "model_module_version": "1.2.0",
      "model_name": "LayoutModel",
      "state": {}
     },
     "503e7858e613407d8654da245ea6b1a2": {
      "model_module": "@jupyter-widgets/controls",
      "model_module_version": "1.5.0",
      "model_name": "DescriptionStyleModel",
      "state": {
       "description_width": ""
      }
     },
     "50fce7977d0e46b694bb3a9eeea1eb55": {
      "model_module": "@jupyter-widgets/controls",
      "model_module_version": "1.5.0",
      "model_name": "ProgressStyleModel",
      "state": {
       "description_width": ""
      }
     },
     "511f692a0fe34cc6918e9b30671b9a66": {
      "model_module": "@jupyter-widgets/base",
      "model_module_version": "1.2.0",
      "model_name": "LayoutModel",
      "state": {}
     },
     "5123b268b62849299ef9d05d917958f2": {
      "model_module": "@jupyter-widgets/base",
      "model_module_version": "1.2.0",
      "model_name": "LayoutModel",
      "state": {}
     },
     "516cc0cbbe5548789abfbd43651c35b9": {
      "model_module": "@jupyter-widgets/controls",
      "model_module_version": "1.5.0",
      "model_name": "FloatProgressModel",
      "state": {
       "bar_style": "success",
       "layout": "IPY_MODEL_5d4fa33516154f5e8f17539d191f0e1e",
       "max": 400,
       "style": "IPY_MODEL_cac0df42fd9d430c916d617b4cdd5a0c",
       "value": 400
      }
     },
     "51a4d5c8caa44131aa842a7a81a03e6a": {
      "model_module": "@jupyter-widgets/base",
      "model_module_version": "1.2.0",
      "model_name": "LayoutModel",
      "state": {}
     },
     "51d5108253ba42cf80069b87f10e91f5": {
      "model_module": "@jupyter-widgets/controls",
      "model_module_version": "1.5.0",
      "model_name": "HTMLModel",
      "state": {
       "layout": "IPY_MODEL_ce9ddd75228a4b43952697f81bca8584",
       "style": "IPY_MODEL_c0a2eedb3ac84899bba6d920b74f96c7",
       "value": " 400/400 [08:22&lt;00:00,  1.25s/it]"
      }
     },
     "521e31ccfdb141e7b00cb4e5ac5c9d39": {
      "model_module": "@jupyter-widgets/controls",
      "model_module_version": "1.5.0",
      "model_name": "HTMLModel",
      "state": {
       "layout": "IPY_MODEL_169b71a1912d4d9e8df1b9c99a3964ff",
       "style": "IPY_MODEL_503e7858e613407d8654da245ea6b1a2",
       "value": " 400/400 [09:16&lt;00:00,  1.38s/it]"
      }
     },
     "522182dcae334872811d06e8c132b2c2": {
      "model_module": "@jupyter-widgets/base",
      "model_module_version": "1.2.0",
      "model_name": "LayoutModel",
      "state": {}
     },
     "524d236f779c402796a7573ec59b502e": {
      "model_module": "@jupyter-widgets/base",
      "model_module_version": "1.2.0",
      "model_name": "LayoutModel",
      "state": {}
     },
     "5252502bfe364594ae4a4c1c58a5d87b": {
      "model_module": "@jupyter-widgets/base",
      "model_module_version": "1.2.0",
      "model_name": "LayoutModel",
      "state": {}
     },
     "52befc96ead74d9eb79d834f4da85682": {
      "model_module": "@jupyter-widgets/controls",
      "model_module_version": "1.5.0",
      "model_name": "HTMLModel",
      "state": {
       "layout": "IPY_MODEL_4589ca44a44c4183ba38245ca9cfe8a7",
       "style": "IPY_MODEL_f174133c25a0481d98bf2a82a351c191",
       "value": " 400/400 [08:18&lt;00:00,  1.25s/it]"
      }
     },
     "52d85a6e0c3d4fb19eb804fb7ca0b1f3": {
      "model_module": "@jupyter-widgets/controls",
      "model_module_version": "1.5.0",
      "model_name": "FloatProgressModel",
      "state": {
       "bar_style": "success",
       "layout": "IPY_MODEL_49153d7cd9bf4d0ca3524ddf9a956df2",
       "max": 400,
       "style": "IPY_MODEL_e48a7a81bf254757a9561ce234b64c74",
       "value": 400
      }
     },
     "5318dd06bf03431daf67e8944799df5d": {
      "model_module": "@jupyter-widgets/controls",
      "model_module_version": "1.5.0",
      "model_name": "HBoxModel",
      "state": {
       "children": [
        "IPY_MODEL_f5ee8df905fe4a76854eee17edb1ff0f",
        "IPY_MODEL_a47f289445cd4a23a02c1b4f21edb65a",
        "IPY_MODEL_bc9f853adef1459cae3b1ee4a7c83905"
       ],
       "layout": "IPY_MODEL_bcabab3ed2674ff2b1b7fb3fa7dd2c64"
      }
     },
     "537d1d8b27b94a06bb6e7aaaab81e794": {
      "model_module": "@jupyter-widgets/base",
      "model_module_version": "1.2.0",
      "model_name": "LayoutModel",
      "state": {}
     },
     "53ae9949cb184a0990878ea7ae0c8e99": {
      "model_module": "@jupyter-widgets/controls",
      "model_module_version": "1.5.0",
      "model_name": "DescriptionStyleModel",
      "state": {
       "description_width": ""
      }
     },
     "54c9a93e0cc848cca29b247f44829c4d": {
      "model_module": "@jupyter-widgets/controls",
      "model_module_version": "1.5.0",
      "model_name": "HBoxModel",
      "state": {
       "children": [
        "IPY_MODEL_9e06e98db55f4d6385c5e93314213f3b",
        "IPY_MODEL_516cc0cbbe5548789abfbd43651c35b9",
        "IPY_MODEL_51d5108253ba42cf80069b87f10e91f5"
       ],
       "layout": "IPY_MODEL_052c710a6d9d4c268d8d14c6a249ee0c"
      }
     },
     "5578cc9ede61421c84685c8b1e25a34b": {
      "model_module": "@jupyter-widgets/base",
      "model_module_version": "1.2.0",
      "model_name": "LayoutModel",
      "state": {}
     },
     "55c7094c9d2b431a8db83d65c41944d3": {
      "model_module": "@jupyter-widgets/controls",
      "model_module_version": "1.5.0",
      "model_name": "ProgressStyleModel",
      "state": {
       "description_width": ""
      }
     },
     "561e810b31b149cdb1d598391b42a472": {
      "model_module": "@jupyter-widgets/controls",
      "model_module_version": "1.5.0",
      "model_name": "HTMLModel",
      "state": {
       "layout": "IPY_MODEL_68b1a20c08484d59b25ce7bce79ba392",
       "style": "IPY_MODEL_80e2572006d147038992f86819b4ad1f",
       "value": "100%"
      }
     },
     "56f0ad84937a4c2b974e636ef894760f": {
      "model_module": "@jupyter-widgets/base",
      "model_module_version": "1.2.0",
      "model_name": "LayoutModel",
      "state": {}
     },
     "5770501f977443a7b0b5133e44c01857": {
      "model_module": "@jupyter-widgets/base",
      "model_module_version": "1.2.0",
      "model_name": "LayoutModel",
      "state": {}
     },
     "58f5c4a08448496385b2cc7ae75201f0": {
      "model_module": "@jupyter-widgets/base",
      "model_module_version": "1.2.0",
      "model_name": "LayoutModel",
      "state": {}
     },
     "59012c6323544bb3aecfdf301ae695ec": {
      "model_module": "@jupyter-widgets/controls",
      "model_module_version": "1.5.0",
      "model_name": "DescriptionStyleModel",
      "state": {
       "description_width": ""
      }
     },
     "5938a03b45974df6bc55b0840415ea4d": {
      "model_module": "@jupyter-widgets/base",
      "model_module_version": "1.2.0",
      "model_name": "LayoutModel",
      "state": {}
     },
     "5a1789d75ffe4d8497161d1e12dbfe4a": {
      "model_module": "@jupyter-widgets/controls",
      "model_module_version": "1.5.0",
      "model_name": "HTMLModel",
      "state": {
       "layout": "IPY_MODEL_ef04d44849e8401d95f264eb1bde178d",
       "style": "IPY_MODEL_8a9068af387b419796cf14cb58caf480",
       "value": "100%"
      }
     },
     "5ac15e1833584ae09efb6266e3a4d301": {
      "model_module": "@jupyter-widgets/controls",
      "model_module_version": "1.5.0",
      "model_name": "DescriptionStyleModel",
      "state": {
       "description_width": ""
      }
     },
     "5b2df15b78c942dab47744d2137ae02d": {
      "model_module": "@jupyter-widgets/controls",
      "model_module_version": "1.5.0",
      "model_name": "DescriptionStyleModel",
      "state": {
       "description_width": ""
      }
     },
     "5b31463804334a5782790504da69ea59": {
      "model_module": "@jupyter-widgets/base",
      "model_module_version": "1.2.0",
      "model_name": "LayoutModel",
      "state": {}
     },
     "5bfcd00ff0474ca482c691dd22ad5314": {
      "model_module": "@jupyter-widgets/base",
      "model_module_version": "1.2.0",
      "model_name": "LayoutModel",
      "state": {}
     },
     "5c8e1a029881401582c2923a0d5ff4f8": {
      "model_module": "@jupyter-widgets/controls",
      "model_module_version": "1.5.0",
      "model_name": "DescriptionStyleModel",
      "state": {
       "description_width": ""
      }
     },
     "5cf63311148a419a95895e41e1ed6184": {
      "model_module": "@jupyter-widgets/controls",
      "model_module_version": "1.5.0",
      "model_name": "DescriptionStyleModel",
      "state": {
       "description_width": ""
      }
     },
     "5d0eea138fa54a629c0e1a06e57df497": {
      "model_module": "@jupyter-widgets/base",
      "model_module_version": "1.2.0",
      "model_name": "LayoutModel",
      "state": {}
     },
     "5d494555754f4c13ae04e967819749e8": {
      "model_module": "@jupyter-widgets/controls",
      "model_module_version": "1.5.0",
      "model_name": "HBoxModel",
      "state": {
       "children": [
        "IPY_MODEL_76024fee46ca4b4eaa49ccef3453bbea",
        "IPY_MODEL_c278026adb8d489cb89cb2cf4fd5affd",
        "IPY_MODEL_d167b08a47c3462689b6624051c23180"
       ],
       "layout": "IPY_MODEL_c09cb0c6ab7a4cf09f671af777fa02da"
      }
     },
     "5d4fa33516154f5e8f17539d191f0e1e": {
      "model_module": "@jupyter-widgets/base",
      "model_module_version": "1.2.0",
      "model_name": "LayoutModel",
      "state": {}
     },
     "5f97f561a2134077a6c3ac69fbe89ad9": {
      "model_module": "@jupyter-widgets/base",
      "model_module_version": "1.2.0",
      "model_name": "LayoutModel",
      "state": {}
     },
     "60879023d8dd4605acdf80f5d4acc787": {
      "model_module": "@jupyter-widgets/controls",
      "model_module_version": "1.5.0",
      "model_name": "ProgressStyleModel",
      "state": {
       "description_width": ""
      }
     },
     "6088f2aa1468473d90fa594807bbfa39": {
      "model_module": "@jupyter-widgets/controls",
      "model_module_version": "1.5.0",
      "model_name": "DescriptionStyleModel",
      "state": {
       "description_width": ""
      }
     },
     "60fde166c08e495e9af9a1f1eb135ec4": {
      "model_module": "@jupyter-widgets/base",
      "model_module_version": "1.2.0",
      "model_name": "LayoutModel",
      "state": {}
     },
     "610680dfef854382899a57f5d87d74c9": {
      "model_module": "@jupyter-widgets/base",
      "model_module_version": "1.2.0",
      "model_name": "LayoutModel",
      "state": {}
     },
     "626d8edf63bc465789e2168bc18df86d": {
      "model_module": "@jupyter-widgets/controls",
      "model_module_version": "1.5.0",
      "model_name": "ProgressStyleModel",
      "state": {
       "description_width": ""
      }
     },
     "634a52c623c34ab4981c05f8d30bcae8": {
      "model_module": "@jupyter-widgets/base",
      "model_module_version": "1.2.0",
      "model_name": "LayoutModel",
      "state": {}
     },
     "63b1bf2b3fa64c74820910defc8a63f2": {
      "model_module": "@jupyter-widgets/controls",
      "model_module_version": "1.5.0",
      "model_name": "HTMLModel",
      "state": {
       "layout": "IPY_MODEL_f90a22dae90b4ea99ecf5ff3a8f3669a",
       "style": "IPY_MODEL_8953b921ea8a44cea425035c81f98b96",
       "value": " 400/400 [08:30&lt;00:00,  1.28s/it]"
      }
     },
     "651ede8809684b49926b7436c6215ca1": {
      "model_module": "@jupyter-widgets/controls",
      "model_module_version": "1.5.0",
      "model_name": "DescriptionStyleModel",
      "state": {
       "description_width": ""
      }
     },
     "65439d4f3eb84518b22e7ed49a825f16": {
      "model_module": "@jupyter-widgets/controls",
      "model_module_version": "1.5.0",
      "model_name": "DescriptionStyleModel",
      "state": {
       "description_width": ""
      }
     },
     "661989b032944ef3a19204bdcdbce1d5": {
      "model_module": "@jupyter-widgets/controls",
      "model_module_version": "1.5.0",
      "model_name": "DescriptionStyleModel",
      "state": {
       "description_width": ""
      }
     },
     "668e6c6be3b7497496d29a9e15849f23": {
      "model_module": "@jupyter-widgets/controls",
      "model_module_version": "1.5.0",
      "model_name": "HTMLModel",
      "state": {
       "layout": "IPY_MODEL_adfb0cb1152d4aa182be9c1ebf1d9acf",
       "style": "IPY_MODEL_1b9cfa0cf16f40beb9235527f81aa93b",
       "value": "100%"
      }
     },
     "66abf4ceb88c47a9a66df56cdeb26cf6": {
      "model_module": "@jupyter-widgets/controls",
      "model_module_version": "1.5.0",
      "model_name": "ProgressStyleModel",
      "state": {
       "description_width": ""
      }
     },
     "66f19f193f154559973cd0b5603f0b54": {
      "model_module": "@jupyter-widgets/controls",
      "model_module_version": "1.5.0",
      "model_name": "HTMLModel",
      "state": {
       "layout": "IPY_MODEL_9dd4779037b94eef87b4ebac1233dfb1",
       "style": "IPY_MODEL_e313b0347bb84ccc98cabb4fad91dc91",
       "value": "100%"
      }
     },
     "6754e836afe54d2da972ff54dea56cf8": {
      "model_module": "@jupyter-widgets/base",
      "model_module_version": "1.2.0",
      "model_name": "LayoutModel",
      "state": {}
     },
     "67b2ab7824ea4702a95b4c52e9543abe": {
      "model_module": "@jupyter-widgets/controls",
      "model_module_version": "1.5.0",
      "model_name": "ProgressStyleModel",
      "state": {
       "description_width": ""
      }
     },
     "68b1a20c08484d59b25ce7bce79ba392": {
      "model_module": "@jupyter-widgets/base",
      "model_module_version": "1.2.0",
      "model_name": "LayoutModel",
      "state": {}
     },
     "696f4531477845a19ff2a7b3d1abcc57": {
      "model_module": "@jupyter-widgets/base",
      "model_module_version": "1.2.0",
      "model_name": "LayoutModel",
      "state": {}
     },
     "69aae423178f442b942c1e69343a5836": {
      "model_module": "@jupyter-widgets/base",
      "model_module_version": "1.2.0",
      "model_name": "LayoutModel",
      "state": {}
     },
     "6a513e586149424bac928202083840a1": {
      "model_module": "@jupyter-widgets/controls",
      "model_module_version": "1.5.0",
      "model_name": "ProgressStyleModel",
      "state": {
       "description_width": ""
      }
     },
     "6b5d177ddb0144b095ade6c2195be272": {
      "model_module": "@jupyter-widgets/controls",
      "model_module_version": "1.5.0",
      "model_name": "FloatProgressModel",
      "state": {
       "bar_style": "success",
       "layout": "IPY_MODEL_4f1fb76607f3490da269d6d391bf0fc4",
       "max": 400,
       "style": "IPY_MODEL_a5d0f419560d4d5cb1b7f3841ff1c277",
       "value": 400
      }
     },
     "6c42e7ce1199486b9fa7faad1cba9198": {
      "model_module": "@jupyter-widgets/controls",
      "model_module_version": "1.5.0",
      "model_name": "HBoxModel",
      "state": {
       "children": [
        "IPY_MODEL_668e6c6be3b7497496d29a9e15849f23",
        "IPY_MODEL_48446337433942d197294fae4f9c757b",
        "IPY_MODEL_ee0a0b21403149e3a8250ebe13f9dd02"
       ],
       "layout": "IPY_MODEL_3c07468d4df3468ea053429a32424f03"
      }
     },
     "6c77e97ca1bc4d2299219a95fe5886e7": {
      "model_module": "@jupyter-widgets/controls",
      "model_module_version": "1.5.0",
      "model_name": "DescriptionStyleModel",
      "state": {
       "description_width": ""
      }
     },
     "6d6daf9708c14e138e8f21816cb47adc": {
      "model_module": "@jupyter-widgets/base",
      "model_module_version": "1.2.0",
      "model_name": "LayoutModel",
      "state": {}
     },
     "6d7a5b3da0a04e76840d293d8d78738e": {
      "model_module": "@jupyter-widgets/controls",
      "model_module_version": "1.5.0",
      "model_name": "FloatProgressModel",
      "state": {
       "bar_style": "success",
       "layout": "IPY_MODEL_48a2375ab5ae4314a429b65be050254b",
       "max": 400,
       "style": "IPY_MODEL_8a515384662b438fb230580ac9b5c681",
       "value": 400
      }
     },
     "6e120314c0d2463395ad5c4f88eeb952": {
      "model_module": "@jupyter-widgets/controls",
      "model_module_version": "1.5.0",
      "model_name": "FloatProgressModel",
      "state": {
       "bar_style": "success",
       "layout": "IPY_MODEL_69aae423178f442b942c1e69343a5836",
       "max": 400,
       "style": "IPY_MODEL_2b8c1fb84a954ad7ac1a7bc1970aa83d",
       "value": 400
      }
     },
     "6e8c292c3f894302bd90e49c759b4fbe": {
      "model_module": "@jupyter-widgets/base",
      "model_module_version": "1.2.0",
      "model_name": "LayoutModel",
      "state": {}
     },
     "6fabb624913f4ad0b040e6b607625672": {
      "model_module": "@jupyter-widgets/controls",
      "model_module_version": "1.5.0",
      "model_name": "HBoxModel",
      "state": {
       "children": [
        "IPY_MODEL_a6726ee3f352436f9ca6c72b147cf79c",
        "IPY_MODEL_9b9c4bdc92474be380a7da18d9025ed4",
        "IPY_MODEL_d44b1bfe1a7d46a7a5fa294a1f3db8d3"
       ],
       "layout": "IPY_MODEL_0c218b3907b240b8943380fc5b4a9146"
      }
     },
     "709e4c3ba54148bcb8ebcfa50530a742": {
      "model_module": "@jupyter-widgets/base",
      "model_module_version": "1.2.0",
      "model_name": "LayoutModel",
      "state": {}
     },
     "70addee17bc04b548776b982c27eca12": {
      "model_module": "@jupyter-widgets/controls",
      "model_module_version": "1.5.0",
      "model_name": "HTMLModel",
      "state": {
       "layout": "IPY_MODEL_0043074e62eb4467bab712104b671e24",
       "style": "IPY_MODEL_222baa69e59544939ab7e90b99812141",
       "value": " 400/400 [12:19&lt;00:00,  1.84s/it]"
      }
     },
     "7153f791cf8144c8ace4ddc6b2a06375": {
      "model_module": "@jupyter-widgets/controls",
      "model_module_version": "1.5.0",
      "model_name": "HBoxModel",
      "state": {
       "children": [
        "IPY_MODEL_561e810b31b149cdb1d598391b42a472",
        "IPY_MODEL_3b2cd954274643ada610b44adbfa1ba5",
        "IPY_MODEL_16b38655b3fa4a379a3915fb19cb6e47"
       ],
       "layout": "IPY_MODEL_978ab1f87bba4534bf2b611a6d0061ea"
      }
     },
     "715d05dd183e4f38ac083f6f6d62d46c": {
      "model_module": "@jupyter-widgets/controls",
      "model_module_version": "1.5.0",
      "model_name": "HTMLModel",
      "state": {
       "layout": "IPY_MODEL_1f37830016f44ef0a5501b7715e21c51",
       "style": "IPY_MODEL_acc35450ca13438ebb1059f72eca697a",
       "value": "100%"
      }
     },
     "726f824af7874613ac0e3d34be3fbd8b": {
      "model_module": "@jupyter-widgets/controls",
      "model_module_version": "1.5.0",
      "model_name": "HBoxModel",
      "state": {
       "children": [
        "IPY_MODEL_4ee95e6538da4d92b755e4052a88f020",
        "IPY_MODEL_364b7074042b4f53ba942c39a6a6d398",
        "IPY_MODEL_70addee17bc04b548776b982c27eca12"
       ],
       "layout": "IPY_MODEL_4184b2d0739e4c26b3abcab4f5ac72a1"
      }
     },
     "7405b4e802b44d25810df13445b0a4ce": {
      "model_module": "@jupyter-widgets/controls",
      "model_module_version": "1.5.0",
      "model_name": "DescriptionStyleModel",
      "state": {
       "description_width": ""
      }
     },
     "7406a0bfc3b24b4d9ed8492131d04b21": {
      "model_module": "@jupyter-widgets/controls",
      "model_module_version": "1.5.0",
      "model_name": "DescriptionStyleModel",
      "state": {
       "description_width": ""
      }
     },
     "744dd5728d514b30a45d55937175bb34": {
      "model_module": "@jupyter-widgets/base",
      "model_module_version": "1.2.0",
      "model_name": "LayoutModel",
      "state": {}
     },
     "754322b857c9455ca654413f0641faf1": {
      "model_module": "@jupyter-widgets/controls",
      "model_module_version": "1.5.0",
      "model_name": "ProgressStyleModel",
      "state": {
       "description_width": ""
      }
     },
     "75d781d411304099b0a97a9fe4cfd6e7": {
      "model_module": "@jupyter-widgets/controls",
      "model_module_version": "1.5.0",
      "model_name": "HTMLModel",
      "state": {
       "layout": "IPY_MODEL_8d9bf6dad2a9400295e8663df7cb9f9f",
       "style": "IPY_MODEL_6088f2aa1468473d90fa594807bbfa39",
       "value": " 400/400 [12:12&lt;00:00,  1.84s/it]"
      }
     },
     "75feb4bd1b1742f8999f474aa685b8e2": {
      "model_module": "@jupyter-widgets/controls",
      "model_module_version": "1.5.0",
      "model_name": "HTMLModel",
      "state": {
       "layout": "IPY_MODEL_5f97f561a2134077a6c3ac69fbe89ad9",
       "style": "IPY_MODEL_5c8e1a029881401582c2923a0d5ff4f8",
       "value": " 400/400 [12:20&lt;00:00,  1.86s/it]"
      }
     },
     "76024fee46ca4b4eaa49ccef3453bbea": {
      "model_module": "@jupyter-widgets/controls",
      "model_module_version": "1.5.0",
      "model_name": "HTMLModel",
      "state": {
       "layout": "IPY_MODEL_d245fcbe89404e85a92da98ef0b641fe",
       "style": "IPY_MODEL_2927b12e78534753899358621ec361ac",
       "value": "100%"
      }
     },
     "760793b29d8b4ae295cc585a59f9e827": {
      "model_module": "@jupyter-widgets/base",
      "model_module_version": "1.2.0",
      "model_name": "LayoutModel",
      "state": {}
     },
     "7669635dfe1c4b5293f0671a3a98ce2a": {
      "model_module": "@jupyter-widgets/base",
      "model_module_version": "1.2.0",
      "model_name": "LayoutModel",
      "state": {}
     },
     "77d46cb92b944c4087d4d6e9b5901250": {
      "model_module": "@jupyter-widgets/controls",
      "model_module_version": "1.5.0",
      "model_name": "ProgressStyleModel",
      "state": {
       "description_width": ""
      }
     },
     "7817269960b740ed9aaa62607322ba9c": {
      "model_module": "@jupyter-widgets/controls",
      "model_module_version": "1.5.0",
      "model_name": "DescriptionStyleModel",
      "state": {
       "description_width": ""
      }
     },
     "783a10efb58c48f99477fa18d006bacd": {
      "model_module": "@jupyter-widgets/controls",
      "model_module_version": "1.5.0",
      "model_name": "ProgressStyleModel",
      "state": {
       "description_width": ""
      }
     },
     "783f82ae6bf24cf7a9bba613762655b0": {
      "model_module": "@jupyter-widgets/controls",
      "model_module_version": "1.5.0",
      "model_name": "FloatProgressModel",
      "state": {
       "bar_style": "success",
       "layout": "IPY_MODEL_983d4ebe7644490f8c39c2b8c2cececc",
       "max": 400,
       "style": "IPY_MODEL_21597ced54904221b1f288bf1e03eb58",
       "value": 400
      }
     },
     "79d0d260f88142db93a0f8e0f3a672e1": {
      "model_module": "@jupyter-widgets/controls",
      "model_module_version": "1.5.0",
      "model_name": "ProgressStyleModel",
      "state": {
       "description_width": ""
      }
     },
     "79dd3310e48f41f780b1c53c66e9805c": {
      "model_module": "@jupyter-widgets/controls",
      "model_module_version": "1.5.0",
      "model_name": "DescriptionStyleModel",
      "state": {
       "description_width": ""
      }
     },
     "7a72efa1772b4d41833b7c454b171776": {
      "model_module": "@jupyter-widgets/base",
      "model_module_version": "1.2.0",
      "model_name": "LayoutModel",
      "state": {}
     },
     "7b268a0d282a42a990328d090ee2ecba": {
      "model_module": "@jupyter-widgets/base",
      "model_module_version": "1.2.0",
      "model_name": "LayoutModel",
      "state": {}
     },
     "7d8d77239eb14ef1bcd4b6bc26a55968": {
      "model_module": "@jupyter-widgets/controls",
      "model_module_version": "1.5.0",
      "model_name": "HTMLModel",
      "state": {
       "layout": "IPY_MODEL_d3afad804de842b098fc9c4df1c49374",
       "style": "IPY_MODEL_dea5db78555b4c4d8b3b0467d733f3ed",
       "value": " 400/400 [08:52&lt;00:00,  1.33s/it]"
      }
     },
     "7d91bbf7995c43d581b666c78ced7d17": {
      "model_module": "@jupyter-widgets/base",
      "model_module_version": "1.2.0",
      "model_name": "LayoutModel",
      "state": {}
     },
     "7da5cccdd0884507b523d54e3d3bca36": {
      "model_module": "@jupyter-widgets/controls",
      "model_module_version": "1.5.0",
      "model_name": "HTMLModel",
      "state": {
       "layout": "IPY_MODEL_c0e77061951f4a4bbdcae0a1175407df",
       "style": "IPY_MODEL_80412c1056d54ef0bd6b70b83ae5c317",
       "value": "100%"
      }
     },
     "7db78cbe3d7d48d285bd758bb35608c8": {
      "model_module": "@jupyter-widgets/controls",
      "model_module_version": "1.5.0",
      "model_name": "HTMLModel",
      "state": {
       "layout": "IPY_MODEL_3d2a2cf2d08f4cb3b18796a1dfdfef80",
       "style": "IPY_MODEL_5cf63311148a419a95895e41e1ed6184",
       "value": " 400/400 [12:20&lt;00:00,  1.85s/it]"
      }
     },
     "7e30a9d7c6264076aeb770b4e19974e7": {
      "model_module": "@jupyter-widgets/base",
      "model_module_version": "1.2.0",
      "model_name": "LayoutModel",
      "state": {}
     },
     "7e44c1f826f64ff2afc826d23441c682": {
      "model_module": "@jupyter-widgets/controls",
      "model_module_version": "1.5.0",
      "model_name": "FloatProgressModel",
      "state": {
       "bar_style": "success",
       "layout": "IPY_MODEL_760793b29d8b4ae295cc585a59f9e827",
       "max": 400,
       "style": "IPY_MODEL_50fce7977d0e46b694bb3a9eeea1eb55",
       "value": 400
      }
     },
     "7e57bc21997b48a9873757d621a9023a": {
      "model_module": "@jupyter-widgets/controls",
      "model_module_version": "1.5.0",
      "model_name": "HBoxModel",
      "state": {
       "children": [
        "IPY_MODEL_01c1d5d154084c0ba2287ceae7c73325",
        "IPY_MODEL_e3dea865935c46c98bbb7f77a77b569c",
        "IPY_MODEL_8a944ee6198e4ea2b624587ae9d9e2fa"
       ],
       "layout": "IPY_MODEL_5770501f977443a7b0b5133e44c01857"
      }
     },
     "7ec0cf3e165d475caac13ba7bd242112": {
      "model_module": "@jupyter-widgets/base",
      "model_module_version": "1.2.0",
      "model_name": "LayoutModel",
      "state": {}
     },
     "7fc981a6faf24d8c8c74e79ca2518038": {
      "model_module": "@jupyter-widgets/controls",
      "model_module_version": "1.5.0",
      "model_name": "DescriptionStyleModel",
      "state": {
       "description_width": ""
      }
     },
     "801932ff58fa408885687edf90105558": {
      "model_module": "@jupyter-widgets/controls",
      "model_module_version": "1.5.0",
      "model_name": "HTMLModel",
      "state": {
       "layout": "IPY_MODEL_ba04257e25f747608a0c6a47d69182a3",
       "style": "IPY_MODEL_d721f2d7bbd34f0899a0c6dc720d09a6",
       "value": " 400/400 [08:13&lt;00:00,  1.24s/it]"
      }
     },
     "80412c1056d54ef0bd6b70b83ae5c317": {
      "model_module": "@jupyter-widgets/controls",
      "model_module_version": "1.5.0",
      "model_name": "DescriptionStyleModel",
      "state": {
       "description_width": ""
      }
     },
     "80e2572006d147038992f86819b4ad1f": {
      "model_module": "@jupyter-widgets/controls",
      "model_module_version": "1.5.0",
      "model_name": "DescriptionStyleModel",
      "state": {
       "description_width": ""
      }
     },
     "815b9b410ea541c5936a5cf0f24cf316": {
      "model_module": "@jupyter-widgets/base",
      "model_module_version": "1.2.0",
      "model_name": "LayoutModel",
      "state": {}
     },
     "81d4f9d9bd474d8db7e9cb2cfe1752c9": {
      "model_module": "@jupyter-widgets/controls",
      "model_module_version": "1.5.0",
      "model_name": "HTMLModel",
      "state": {
       "layout": "IPY_MODEL_537d1d8b27b94a06bb6e7aaaab81e794",
       "style": "IPY_MODEL_3b2e761ca7a64a58b5d7810cdc1efede",
       "value": "100%"
      }
     },
     "82dc94decac34b0ba86df425e3818788": {
      "model_module": "@jupyter-widgets/controls",
      "model_module_version": "1.5.0",
      "model_name": "ProgressStyleModel",
      "state": {
       "description_width": ""
      }
     },
     "830d196741d34db5ac9ac3e4daba50d1": {
      "model_module": "@jupyter-widgets/controls",
      "model_module_version": "1.5.0",
      "model_name": "DescriptionStyleModel",
      "state": {
       "description_width": ""
      }
     },
     "835d6267c1194975af39d170b890e055": {
      "model_module": "@jupyter-widgets/controls",
      "model_module_version": "1.5.0",
      "model_name": "FloatProgressModel",
      "state": {
       "bar_style": "success",
       "layout": "IPY_MODEL_a1de1fe5b43b499da6b5ebd46b4829e7",
       "max": 400,
       "style": "IPY_MODEL_e9abf7da05354e13ba608c891c246467",
       "value": 400
      }
     },
     "843e22a76bc74fd9a7e1760b644f47c2": {
      "model_module": "@jupyter-widgets/controls",
      "model_module_version": "1.5.0",
      "model_name": "FloatProgressModel",
      "state": {
       "bar_style": "success",
       "layout": "IPY_MODEL_a64e3ca3684f4c128de50cb25b9bd969",
       "max": 400,
       "style": "IPY_MODEL_c0847da54f4f4a5aabbaf752727ca1cb",
       "value": 400
      }
     },
     "848b6505702e4332881df6ef6e3b8fab": {
      "model_module": "@jupyter-widgets/controls",
      "model_module_version": "1.5.0",
      "model_name": "HBoxModel",
      "state": {
       "children": [
        "IPY_MODEL_3d3c0e594c5f4c4a8111ca49f61fb3e6",
        "IPY_MODEL_90c89622a4cd420fb7c966d350bbc29b",
        "IPY_MODEL_3232921a951f4e71a870b4f9a3519bce"
       ],
       "layout": "IPY_MODEL_fb71a2bcb4374bf0bd8364fe5ffaf31b"
      }
     },
     "84ef7995c3e94d4e8959011c53c77063": {
      "model_module": "@jupyter-widgets/controls",
      "model_module_version": "1.5.0",
      "model_name": "DescriptionStyleModel",
      "state": {
       "description_width": ""
      }
     },
     "865a23488ffa48b8bbd328626def068d": {
      "model_module": "@jupyter-widgets/controls",
      "model_module_version": "1.5.0",
      "model_name": "ProgressStyleModel",
      "state": {
       "description_width": ""
      }
     },
     "86a93f8bba464fba911352a7c75fbab3": {
      "model_module": "@jupyter-widgets/controls",
      "model_module_version": "1.5.0",
      "model_name": "HBoxModel",
      "state": {
       "children": [
        "IPY_MODEL_1d9b7f1a016e4ddca4969e1902b8dcd5",
        "IPY_MODEL_4538c81969ae4313bb1674375e43e3ac",
        "IPY_MODEL_f1b294726bcf4ee182aeb87a5813c1d5"
       ],
       "layout": "IPY_MODEL_744dd5728d514b30a45d55937175bb34"
      }
     },
     "86b7db00042245a5b8419df7e7e2e8b7": {
      "model_module": "@jupyter-widgets/controls",
      "model_module_version": "1.5.0",
      "model_name": "ProgressStyleModel",
      "state": {
       "description_width": ""
      }
     },
     "86d3ea55d5ac453fb8da10a12793b4e9": {
      "model_module": "@jupyter-widgets/controls",
      "model_module_version": "1.5.0",
      "model_name": "ProgressStyleModel",
      "state": {
       "description_width": ""
      }
     },
     "8744af9abc844881adc9befa696024cf": {
      "model_module": "@jupyter-widgets/controls",
      "model_module_version": "1.5.0",
      "model_name": "DescriptionStyleModel",
      "state": {
       "description_width": ""
      }
     },
     "87a325b5a96340f0a83552e41204913a": {
      "model_module": "@jupyter-widgets/base",
      "model_module_version": "1.2.0",
      "model_name": "LayoutModel",
      "state": {}
     },
     "8953b921ea8a44cea425035c81f98b96": {
      "model_module": "@jupyter-widgets/controls",
      "model_module_version": "1.5.0",
      "model_name": "DescriptionStyleModel",
      "state": {
       "description_width": ""
      }
     },
     "895f578eba0648dab3c11b036cd29f9d": {
      "model_module": "@jupyter-widgets/base",
      "model_module_version": "1.2.0",
      "model_name": "LayoutModel",
      "state": {}
     },
     "8a515384662b438fb230580ac9b5c681": {
      "model_module": "@jupyter-widgets/controls",
      "model_module_version": "1.5.0",
      "model_name": "ProgressStyleModel",
      "state": {
       "description_width": ""
      }
     },
     "8a9068af387b419796cf14cb58caf480": {
      "model_module": "@jupyter-widgets/controls",
      "model_module_version": "1.5.0",
      "model_name": "DescriptionStyleModel",
      "state": {
       "description_width": ""
      }
     },
     "8a944ee6198e4ea2b624587ae9d9e2fa": {
      "model_module": "@jupyter-widgets/controls",
      "model_module_version": "1.5.0",
      "model_name": "HTMLModel",
      "state": {
       "layout": "IPY_MODEL_cebabfb48e07401fb13775f1bd4df698",
       "style": "IPY_MODEL_ef9a1640675a4fc8b32d096494baadfa",
       "value": " 400/400 [12:22&lt;00:00,  1.87s/it]"
      }
     },
     "8a9602d9598640a8a1ae94c850707abb": {
      "model_module": "@jupyter-widgets/controls",
      "model_module_version": "1.5.0",
      "model_name": "HBoxModel",
      "state": {
       "children": [
        "IPY_MODEL_0348c01e3736449da97552e71878c7e1",
        "IPY_MODEL_f61d6a3bb37a4f7b951d4a6e289195a3",
        "IPY_MODEL_3cba3ad7fe1240e4924c60efa3332532"
       ],
       "layout": "IPY_MODEL_634a52c623c34ab4981c05f8d30bcae8"
      }
     },
     "8ab7b224db314f30bc9ddc363a7268bc": {
      "model_module": "@jupyter-widgets/controls",
      "model_module_version": "1.5.0",
      "model_name": "ProgressStyleModel",
      "state": {
       "description_width": ""
      }
     },
     "8bcd3d1d78944a4c85d21e5a548c1fb9": {
      "model_module": "@jupyter-widgets/controls",
      "model_module_version": "1.5.0",
      "model_name": "DescriptionStyleModel",
      "state": {
       "description_width": ""
      }
     },
     "8be21819665d464cbc7dfd9f4e229a1e": {
      "model_module": "@jupyter-widgets/controls",
      "model_module_version": "1.5.0",
      "model_name": "HBoxModel",
      "state": {
       "children": [
        "IPY_MODEL_ef2f0fa920f446f9a6212517a9771b11",
        "IPY_MODEL_1000a81148314bd894afc375c2987729",
        "IPY_MODEL_63b1bf2b3fa64c74820910defc8a63f2"
       ],
       "layout": "IPY_MODEL_524d236f779c402796a7573ec59b502e"
      }
     },
     "8c1cff4fdc214b5aa43cac787af07830": {
      "model_module": "@jupyter-widgets/base",
      "model_module_version": "1.2.0",
      "model_name": "LayoutModel",
      "state": {}
     },
     "8c870f6f7a8f4fa5916a9c6d01471f88": {
      "model_module": "@jupyter-widgets/controls",
      "model_module_version": "1.5.0",
      "model_name": "HTMLModel",
      "state": {
       "layout": "IPY_MODEL_dc9b2bcb312f4c8cbb05ccf742a091b0",
       "style": "IPY_MODEL_93beb8cd1adc4f85b4f13a16c8d2a4ef",
       "value": " 400/400 [12:14&lt;00:00,  1.83s/it]"
      }
     },
     "8d9bf6dad2a9400295e8663df7cb9f9f": {
      "model_module": "@jupyter-widgets/base",
      "model_module_version": "1.2.0",
      "model_name": "LayoutModel",
      "state": {}
     },
     "8e04fa6714c748eb87bc1cb14f60f9e6": {
      "model_module": "@jupyter-widgets/controls",
      "model_module_version": "1.5.0",
      "model_name": "HBoxModel",
      "state": {
       "children": [
        "IPY_MODEL_2cb67e213ee64c92a286b3cb307d0f42",
        "IPY_MODEL_a66f80b4d77a4e799faae39052421e41",
        "IPY_MODEL_8c870f6f7a8f4fa5916a9c6d01471f88"
       ],
       "layout": "IPY_MODEL_4d02652a204e4fc79ffca0f23feb81e7"
      }
     },
     "8e2d79a30d914f41ac5ac7e6855b1aaa": {
      "model_module": "@jupyter-widgets/controls",
      "model_module_version": "1.5.0",
      "model_name": "DescriptionStyleModel",
      "state": {
       "description_width": ""
      }
     },
     "8ec37926dacb4f9e93722c251e762257": {
      "model_module": "@jupyter-widgets/controls",
      "model_module_version": "1.5.0",
      "model_name": "HTMLModel",
      "state": {
       "layout": "IPY_MODEL_5123b268b62849299ef9d05d917958f2",
       "style": "IPY_MODEL_53ae9949cb184a0990878ea7ae0c8e99",
       "value": " 400/400 [08:28&lt;00:00,  1.28s/it]"
      }
     },
     "8ee504b0bbc14e8aa8bf4365250e1849": {
      "model_module": "@jupyter-widgets/controls",
      "model_module_version": "1.5.0",
      "model_name": "HTMLModel",
      "state": {
       "layout": "IPY_MODEL_4633eb8461934d33bc94aa8c3086ab17",
       "style": "IPY_MODEL_4415b8fd250a4adfaad42b182360c487",
       "value": "100%"
      }
     },
     "8f0b1f2fc98d4189b443dbefa8a2dd2b": {
      "model_module": "@jupyter-widgets/controls",
      "model_module_version": "1.5.0",
      "model_name": "DescriptionStyleModel",
      "state": {
       "description_width": ""
      }
     },
     "90c89622a4cd420fb7c966d350bbc29b": {
      "model_module": "@jupyter-widgets/controls",
      "model_module_version": "1.5.0",
      "model_name": "FloatProgressModel",
      "state": {
       "bar_style": "success",
       "layout": "IPY_MODEL_d9518a4ace1840d9aae85d518b5d9d12",
       "max": 400,
       "style": "IPY_MODEL_961fa83fdcbb4a51bc9a0a24fcc26797",
       "value": 400
      }
     },
     "918954e234c143e4a5e0774257252954": {
      "model_module": "@jupyter-widgets/base",
      "model_module_version": "1.2.0",
      "model_name": "LayoutModel",
      "state": {}
     },
     "91b18c84fc6244d893884a356a3863b5": {
      "model_module": "@jupyter-widgets/controls",
      "model_module_version": "1.5.0",
      "model_name": "HTMLModel",
      "state": {
       "layout": "IPY_MODEL_7ec0cf3e165d475caac13ba7bd242112",
       "style": "IPY_MODEL_4dde6860078d4edb94db66ae100ab1d5",
       "value": "100%"
      }
     },
     "91c6ad1951c1474fa52686f3749fac05": {
      "model_module": "@jupyter-widgets/controls",
      "model_module_version": "1.5.0",
      "model_name": "HTMLModel",
      "state": {
       "layout": "IPY_MODEL_7b268a0d282a42a990328d090ee2ecba",
       "style": "IPY_MODEL_79dd3310e48f41f780b1c53c66e9805c",
       "value": " 400/400 [08:47&lt;00:00,  1.31s/it]"
      }
     },
     "91ecd8f67c774e61afda83a9e5dec2db": {
      "model_module": "@jupyter-widgets/controls",
      "model_module_version": "1.5.0",
      "model_name": "HTMLModel",
      "state": {
       "layout": "IPY_MODEL_7d91bbf7995c43d581b666c78ced7d17",
       "style": "IPY_MODEL_ce2a231d0e7e4789a39ae8aa1e61b116",
       "value": "100%"
      }
     },
     "91ff00e4a26f4399b7024225a0164437": {
      "model_module": "@jupyter-widgets/controls",
      "model_module_version": "1.5.0",
      "model_name": "FloatProgressModel",
      "state": {
       "bar_style": "success",
       "layout": "IPY_MODEL_e3bfa061a7064835810c3cfcbd358173",
       "max": 400,
       "style": "IPY_MODEL_f36581a6a7284a49ae528381cb8610ec",
       "value": 400
      }
     },
     "921861836f7341578e999d72c7a284b6": {
      "model_module": "@jupyter-widgets/controls",
      "model_module_version": "1.5.0",
      "model_name": "HTMLModel",
      "state": {
       "layout": "IPY_MODEL_3bffc018e2d94ee1a0e89e1941859161",
       "style": "IPY_MODEL_3a70170f3004423a87a609bcc6b7cf23",
       "value": "100%"
      }
     },
     "92a5465e8a3e4bc78ec899635fdb240e": {
      "model_module": "@jupyter-widgets/controls",
      "model_module_version": "1.5.0",
      "model_name": "DescriptionStyleModel",
      "state": {
       "description_width": ""
      }
     },
     "92c1a562118540e1868e22d91f51a702": {
      "model_module": "@jupyter-widgets/controls",
      "model_module_version": "1.5.0",
      "model_name": "ProgressStyleModel",
      "state": {
       "description_width": ""
      }
     },
     "92d2ab4ae1334335b36925e78139ef70": {
      "model_module": "@jupyter-widgets/controls",
      "model_module_version": "1.5.0",
      "model_name": "FloatProgressModel",
      "state": {
       "bar_style": "success",
       "layout": "IPY_MODEL_c138340091b74386a89a097cc13109b6",
       "max": 400,
       "style": "IPY_MODEL_cafd73e275b1407999ce0eb5bcd52981",
       "value": 400
      }
     },
     "93561ac53151476bb74397daa2dfced7": {
      "model_module": "@jupyter-widgets/controls",
      "model_module_version": "1.5.0",
      "model_name": "HTMLModel",
      "state": {
       "layout": "IPY_MODEL_e04dfb6021ec4870ab9fd6781a027d2a",
       "style": "IPY_MODEL_129331a98c3a4466b0d4647b237ef7db",
       "value": "100%"
      }
     },
     "93beb8cd1adc4f85b4f13a16c8d2a4ef": {
      "model_module": "@jupyter-widgets/controls",
      "model_module_version": "1.5.0",
      "model_name": "DescriptionStyleModel",
      "state": {
       "description_width": ""
      }
     },
     "95730e04106c4a538af705d2951cc2cd": {
      "model_module": "@jupyter-widgets/controls",
      "model_module_version": "1.5.0",
      "model_name": "HTMLModel",
      "state": {
       "layout": "IPY_MODEL_815b9b410ea541c5936a5cf0f24cf316",
       "style": "IPY_MODEL_ecfd6061c356471f8e3a33161d5495c5",
       "value": " 400/400 [08:37&lt;00:00,  1.30s/it]"
      }
     },
     "961fa83fdcbb4a51bc9a0a24fcc26797": {
      "model_module": "@jupyter-widgets/controls",
      "model_module_version": "1.5.0",
      "model_name": "ProgressStyleModel",
      "state": {
       "description_width": ""
      }
     },
     "97555d54a4e848e59bb8a555f388a4d9": {
      "model_module": "@jupyter-widgets/base",
      "model_module_version": "1.2.0",
      "model_name": "LayoutModel",
      "state": {}
     },
     "978ab1f87bba4534bf2b611a6d0061ea": {
      "model_module": "@jupyter-widgets/base",
      "model_module_version": "1.2.0",
      "model_name": "LayoutModel",
      "state": {}
     },
     "97c3c0f085de4334ad009d16eb10ed6c": {
      "model_module": "@jupyter-widgets/base",
      "model_module_version": "1.2.0",
      "model_name": "LayoutModel",
      "state": {}
     },
     "97e9e6f2a91145a6b84a2a39d53eba2d": {
      "model_module": "@jupyter-widgets/controls",
      "model_module_version": "1.5.0",
      "model_name": "DescriptionStyleModel",
      "state": {
       "description_width": ""
      }
     },
     "983d4ebe7644490f8c39c2b8c2cececc": {
      "model_module": "@jupyter-widgets/base",
      "model_module_version": "1.2.0",
      "model_name": "LayoutModel",
      "state": {}
     },
     "9a0aab9094d94c60a70947c6e4639128": {
      "model_module": "@jupyter-widgets/controls",
      "model_module_version": "1.5.0",
      "model_name": "HTMLModel",
      "state": {
       "layout": "IPY_MODEL_9e7677d6000746a784bd7b974c6ad476",
       "style": "IPY_MODEL_f342d7029e28492299aa05ef9b63dc89",
       "value": " 400/400 [08:17&lt;00:00,  1.24s/it]"
      }
     },
     "9a2e0e5536454ccf8315619285f5f533": {
      "model_module": "@jupyter-widgets/controls",
      "model_module_version": "1.5.0",
      "model_name": "DescriptionStyleModel",
      "state": {
       "description_width": ""
      }
     },
     "9b714d2750534f168ea359fe9c9753da": {
      "model_module": "@jupyter-widgets/controls",
      "model_module_version": "1.5.0",
      "model_name": "HTMLModel",
      "state": {
       "layout": "IPY_MODEL_ef450834a16c4dd0867524f0ccf38565",
       "style": "IPY_MODEL_ed1aff0dbf8e45c3883c9dbb16f51f69",
       "value": " 400/400 [09:11&lt;00:00,  1.38s/it]"
      }
     },
     "9b9c4bdc92474be380a7da18d9025ed4": {
      "model_module": "@jupyter-widgets/controls",
      "model_module_version": "1.5.0",
      "model_name": "FloatProgressModel",
      "state": {
       "bar_style": "success",
       "layout": "IPY_MODEL_97c3c0f085de4334ad009d16eb10ed6c",
       "max": 400,
       "style": "IPY_MODEL_f39209dac30f414191bae164b7af7268",
       "value": 400
      }
     },
     "9c82a24f00fc48f4870b7655d61e4858": {
      "model_module": "@jupyter-widgets/controls",
      "model_module_version": "1.5.0",
      "model_name": "DescriptionStyleModel",
      "state": {
       "description_width": ""
      }
     },
     "9c98410d99144a4bb7c32ab5b95a60d8": {
      "model_module": "@jupyter-widgets/controls",
      "model_module_version": "1.5.0",
      "model_name": "FloatProgressModel",
      "state": {
       "bar_style": "success",
       "layout": "IPY_MODEL_bfdbc3c6766c431e901cb5c8b24da945",
       "max": 400,
       "style": "IPY_MODEL_783a10efb58c48f99477fa18d006bacd",
       "value": 400
      }
     },
     "9d84705305b74088be545dfa38c55a90": {
      "model_module": "@jupyter-widgets/base",
      "model_module_version": "1.2.0",
      "model_name": "LayoutModel",
      "state": {}
     },
     "9da40330da56415e899e84695afeb076": {
      "model_module": "@jupyter-widgets/controls",
      "model_module_version": "1.5.0",
      "model_name": "HTMLModel",
      "state": {
       "layout": "IPY_MODEL_9e7460e61e84425c93a90186c7ed56af",
       "style": "IPY_MODEL_ca20c194def0465095640f3c1ff47ece",
       "value": "100%"
      }
     },
     "9dd4779037b94eef87b4ebac1233dfb1": {
      "model_module": "@jupyter-widgets/base",
      "model_module_version": "1.2.0",
      "model_name": "LayoutModel",
      "state": {}
     },
     "9dd9e9bb095a4261b0680078a110dc5c": {
      "model_module": "@jupyter-widgets/controls",
      "model_module_version": "1.5.0",
      "model_name": "DescriptionStyleModel",
      "state": {
       "description_width": ""
      }
     },
     "9e06e98db55f4d6385c5e93314213f3b": {
      "model_module": "@jupyter-widgets/controls",
      "model_module_version": "1.5.0",
      "model_name": "HTMLModel",
      "state": {
       "layout": "IPY_MODEL_696f4531477845a19ff2a7b3d1abcc57",
       "style": "IPY_MODEL_ff78f4c95c78414dadbd1c3a3a3187aa",
       "value": "100%"
      }
     },
     "9e7460e61e84425c93a90186c7ed56af": {
      "model_module": "@jupyter-widgets/base",
      "model_module_version": "1.2.0",
      "model_name": "LayoutModel",
      "state": {}
     },
     "9e7677d6000746a784bd7b974c6ad476": {
      "model_module": "@jupyter-widgets/base",
      "model_module_version": "1.2.0",
      "model_name": "LayoutModel",
      "state": {}
     },
     "9ed3286dc50d49d29a52a226027699ff": {
      "model_module": "@jupyter-widgets/controls",
      "model_module_version": "1.5.0",
      "model_name": "HBoxModel",
      "state": {
       "children": [
        "IPY_MODEL_c4c85ce6c3af4f18ae0671f1d249e99d",
        "IPY_MODEL_306c61c5cdf7448783d81427cb476ca3",
        "IPY_MODEL_75feb4bd1b1742f8999f474aa685b8e2"
       ],
       "layout": "IPY_MODEL_2820c87e94824dae818c98ca6c1bdf35"
      }
     },
     "9f5d6f98fe6846759fc8c9e08a90c3dd": {
      "model_module": "@jupyter-widgets/controls",
      "model_module_version": "1.5.0",
      "model_name": "HTMLModel",
      "state": {
       "layout": "IPY_MODEL_bc824ec15e4b4f9393d313edd15d9fea",
       "style": "IPY_MODEL_1ce4f63b24be41d384eddc8ec7549293",
       "value": " 400/400 [12:32&lt;00:00,  1.87s/it]"
      }
     },
     "9fc3a76bacb34226a22e9523edb2b0a4": {
      "model_module": "@jupyter-widgets/controls",
      "model_module_version": "1.5.0",
      "model_name": "HTMLModel",
      "state": {
       "layout": "IPY_MODEL_febf03a5cdcd49eab06ff43984fdf8cb",
       "style": "IPY_MODEL_9c82a24f00fc48f4870b7655d61e4858",
       "value": "100%"
      }
     },
     "a08e7194477e450ebb1b82eee65b501b": {
      "model_module": "@jupyter-widgets/controls",
      "model_module_version": "1.5.0",
      "model_name": "HTMLModel",
      "state": {
       "layout": "IPY_MODEL_56f0ad84937a4c2b974e636ef894760f",
       "style": "IPY_MODEL_dd681cc3e3144882ad817822583607ac",
       "value": " 400/400 [08:47&lt;00:00,  1.32s/it]"
      }
     },
     "a185a6d2e4d34363ba0f5125bac5799c": {
      "model_module": "@jupyter-widgets/controls",
      "model_module_version": "1.5.0",
      "model_name": "HTMLModel",
      "state": {
       "layout": "IPY_MODEL_fcf1c4f5248f42c8b50840055534f514",
       "style": "IPY_MODEL_cd530dd875064253807db754ab361c3f",
       "value": "100%"
      }
     },
     "a1d5fd5b88b34cf89b237c234fb33127": {
      "model_module": "@jupyter-widgets/base",
      "model_module_version": "1.2.0",
      "model_name": "LayoutModel",
      "state": {}
     },
     "a1de1fe5b43b499da6b5ebd46b4829e7": {
      "model_module": "@jupyter-widgets/base",
      "model_module_version": "1.2.0",
      "model_name": "LayoutModel",
      "state": {}
     },
     "a2726f37aefd42aebffb64fc581bd2d2": {
      "model_module": "@jupyter-widgets/base",
      "model_module_version": "1.2.0",
      "model_name": "LayoutModel",
      "state": {}
     },
     "a37d1d7cb8ba4742ab09c4fd9522bf99": {
      "model_module": "@jupyter-widgets/base",
      "model_module_version": "1.2.0",
      "model_name": "LayoutModel",
      "state": {}
     },
     "a3bfca3800a04afca989f1e6940c4569": {
      "model_module": "@jupyter-widgets/controls",
      "model_module_version": "1.5.0",
      "model_name": "DescriptionStyleModel",
      "state": {
       "description_width": ""
      }
     },
     "a47f289445cd4a23a02c1b4f21edb65a": {
      "model_module": "@jupyter-widgets/controls",
      "model_module_version": "1.5.0",
      "model_name": "FloatProgressModel",
      "state": {
       "bar_style": "success",
       "layout": "IPY_MODEL_f806e200e1ba4d128c7717155b904fbc",
       "max": 400,
       "style": "IPY_MODEL_fd919110303f4ad6891cc42b0ee4d7b1",
       "value": 400
      }
     },
     "a5985bb31a7c4d7d9bc6f1731769a3e2": {
      "model_module": "@jupyter-widgets/base",
      "model_module_version": "1.2.0",
      "model_name": "LayoutModel",
      "state": {}
     },
     "a5d0f419560d4d5cb1b7f3841ff1c277": {
      "model_module": "@jupyter-widgets/controls",
      "model_module_version": "1.5.0",
      "model_name": "ProgressStyleModel",
      "state": {
       "description_width": ""
      }
     },
     "a5dd9b5d6a884178a67bdc57e5cbd381": {
      "model_module": "@jupyter-widgets/base",
      "model_module_version": "1.2.0",
      "model_name": "LayoutModel",
      "state": {}
     },
     "a64e3ca3684f4c128de50cb25b9bd969": {
      "model_module": "@jupyter-widgets/base",
      "model_module_version": "1.2.0",
      "model_name": "LayoutModel",
      "state": {}
     },
     "a66f80b4d77a4e799faae39052421e41": {
      "model_module": "@jupyter-widgets/controls",
      "model_module_version": "1.5.0",
      "model_name": "FloatProgressModel",
      "state": {
       "bar_style": "success",
       "layout": "IPY_MODEL_35d0f9a0466b4bc8bdfe6c09dba32365",
       "max": 400,
       "style": "IPY_MODEL_49fd9bf3e7774f7d93d654ced3804c84",
       "value": 400
      }
     },
     "a6726ee3f352436f9ca6c72b147cf79c": {
      "model_module": "@jupyter-widgets/controls",
      "model_module_version": "1.5.0",
      "model_name": "HTMLModel",
      "state": {
       "layout": "IPY_MODEL_3ff594536a434701be95c540df7bd34d",
       "style": "IPY_MODEL_295b58b788984348930a83844626a307",
       "value": "100%"
      }
     },
     "a757a081aaeb4ec6b3912447af81a87f": {
      "model_module": "@jupyter-widgets/base",
      "model_module_version": "1.2.0",
      "model_name": "LayoutModel",
      "state": {}
     },
     "a78faef36b244129858a6184da3c025b": {
      "model_module": "@jupyter-widgets/controls",
      "model_module_version": "1.5.0",
      "model_name": "HBoxModel",
      "state": {
       "children": [
        "IPY_MODEL_175ff4696fba46978fd781dc23f4073f",
        "IPY_MODEL_c8cf06e27cbc46b49d1d7fe1a5f33030",
        "IPY_MODEL_dca8d2acf0534b938cdf4cc4af212f43"
       ],
       "layout": "IPY_MODEL_7e30a9d7c6264076aeb770b4e19974e7"
      }
     },
     "a79f76472e9f421b9c060e66c2ac0b74": {
      "model_module": "@jupyter-widgets/controls",
      "model_module_version": "1.5.0",
      "model_name": "HBoxModel",
      "state": {
       "children": [
        "IPY_MODEL_9fc3a76bacb34226a22e9523edb2b0a4",
        "IPY_MODEL_d082a0d3971f48a3b8a2f3439ad93251",
        "IPY_MODEL_7d8d77239eb14ef1bcd4b6bc26a55968"
       ],
       "layout": "IPY_MODEL_97555d54a4e848e59bb8a555f388a4d9"
      }
     },
     "a825d4e2571547baa8fa0486bc6b33a9": {
      "model_module": "@jupyter-widgets/base",
      "model_module_version": "1.2.0",
      "model_name": "LayoutModel",
      "state": {}
     },
     "a8d706675aa74ec78906e7ee003555fc": {
      "model_module": "@jupyter-widgets/base",
      "model_module_version": "1.2.0",
      "model_name": "LayoutModel",
      "state": {}
     },
     "a95e86ff86774d69b90824172045a12f": {
      "model_module": "@jupyter-widgets/controls",
      "model_module_version": "1.5.0",
      "model_name": "FloatProgressModel",
      "state": {
       "bar_style": "success",
       "layout": "IPY_MODEL_7669635dfe1c4b5293f0671a3a98ce2a",
       "max": 400,
       "style": "IPY_MODEL_82dc94decac34b0ba86df425e3818788",
       "value": 400
      }
     },
     "aa11b165c5f04d66ace0a1b58d372341": {
      "model_module": "@jupyter-widgets/base",
      "model_module_version": "1.2.0",
      "model_name": "LayoutModel",
      "state": {}
     },
     "aa26c43589ea4c4c8ce7a13b009b1259": {
      "model_module": "@jupyter-widgets/controls",
      "model_module_version": "1.5.0",
      "model_name": "DescriptionStyleModel",
      "state": {
       "description_width": ""
      }
     },
     "aa2b98b4fdc44ae894e9f96c5f32fbb9": {
      "model_module": "@jupyter-widgets/controls",
      "model_module_version": "1.5.0",
      "model_name": "DescriptionStyleModel",
      "state": {
       "description_width": ""
      }
     },
     "aaddd64fa06046c98a17b990cf8de4df": {
      "model_module": "@jupyter-widgets/controls",
      "model_module_version": "1.5.0",
      "model_name": "ProgressStyleModel",
      "state": {
       "description_width": ""
      }
     },
     "ab939e98f0d9487abfa547ac8cc688f9": {
      "model_module": "@jupyter-widgets/controls",
      "model_module_version": "1.5.0",
      "model_name": "HTMLModel",
      "state": {
       "layout": "IPY_MODEL_5bfcd00ff0474ca482c691dd22ad5314",
       "style": "IPY_MODEL_0803734ff122439bae5280763b2f07e7",
       "value": "100%"
      }
     },
     "ac1a8e9e3b904f28b7d814e53b1c58dd": {
      "model_module": "@jupyter-widgets/base",
      "model_module_version": "1.2.0",
      "model_name": "LayoutModel",
      "state": {}
     },
     "ac1b6a870acd49afa841c8e54bf8586c": {
      "model_module": "@jupyter-widgets/base",
      "model_module_version": "1.2.0",
      "model_name": "LayoutModel",
      "state": {}
     },
     "acc35450ca13438ebb1059f72eca697a": {
      "model_module": "@jupyter-widgets/controls",
      "model_module_version": "1.5.0",
      "model_name": "DescriptionStyleModel",
      "state": {
       "description_width": ""
      }
     },
     "ad3655559cbd48d1857dc3920a26fa0b": {
      "model_module": "@jupyter-widgets/base",
      "model_module_version": "1.2.0",
      "model_name": "LayoutModel",
      "state": {}
     },
     "adb41209df7046df8edc62f78f257d5e": {
      "model_module": "@jupyter-widgets/controls",
      "model_module_version": "1.5.0",
      "model_name": "FloatProgressModel",
      "state": {
       "bar_style": "success",
       "layout": "IPY_MODEL_b5585f0dac4c4864bb27cac6b996ed39",
       "max": 400,
       "style": "IPY_MODEL_b77be24131f548da81f9bf0e669d0b98",
       "value": 400
      }
     },
     "adfb0cb1152d4aa182be9c1ebf1d9acf": {
      "model_module": "@jupyter-widgets/base",
      "model_module_version": "1.2.0",
      "model_name": "LayoutModel",
      "state": {}
     },
     "adfebdd487a64529b9cd528cd88f49aa": {
      "model_module": "@jupyter-widgets/controls",
      "model_module_version": "1.5.0",
      "model_name": "HBoxModel",
      "state": {
       "children": [
        "IPY_MODEL_dd21b1c01c274c26a3237252ca443d6a",
        "IPY_MODEL_edf06090ec174ac5b47085d5c1545d8e",
        "IPY_MODEL_40a55de7972c4a7c9c6daa11658fa2e2"
       ],
       "layout": "IPY_MODEL_511f692a0fe34cc6918e9b30671b9a66"
      }
     },
     "aeb2948ce6ed4eb78f80c4986fd5b585": {
      "model_module": "@jupyter-widgets/controls",
      "model_module_version": "1.5.0",
      "model_name": "HTMLModel",
      "state": {
       "layout": "IPY_MODEL_cda7acb7647a4573a51b40d5604a0ff8",
       "style": "IPY_MODEL_35a55e540bdf4c1cb2213c9966ccc715",
       "value": " 400/400 [08:18&lt;00:00,  1.25s/it]"
      }
     },
     "af0017e933794267806b34cc10251746": {
      "model_module": "@jupyter-widgets/base",
      "model_module_version": "1.2.0",
      "model_name": "LayoutModel",
      "state": {}
     },
     "afde57f4bd5a4c4aa772d749b0369a5c": {
      "model_module": "@jupyter-widgets/controls",
      "model_module_version": "1.5.0",
      "model_name": "ProgressStyleModel",
      "state": {
       "description_width": ""
      }
     },
     "b0320204923b496691deb9dc14a2e2ad": {
      "model_module": "@jupyter-widgets/controls",
      "model_module_version": "1.5.0",
      "model_name": "HTMLModel",
      "state": {
       "layout": "IPY_MODEL_5252502bfe364594ae4a4c1c58a5d87b",
       "style": "IPY_MODEL_fc19f11af9a1493fa00561f979b8ce14",
       "value": " 400/400 [12:23&lt;00:00,  1.85s/it]"
      }
     },
     "b0870fbe20be41dfaf39c6add906949c": {
      "model_module": "@jupyter-widgets/controls",
      "model_module_version": "1.5.0",
      "model_name": "FloatProgressModel",
      "state": {
       "bar_style": "success",
       "layout": "IPY_MODEL_7a72efa1772b4d41833b7c454b171776",
       "max": 400,
       "style": "IPY_MODEL_86b7db00042245a5b8419df7e7e2e8b7",
       "value": 400
      }
     },
     "b1ea580a35a34eb9bf32b6702dfd3671": {
      "model_module": "@jupyter-widgets/controls",
      "model_module_version": "1.5.0",
      "model_name": "HTMLModel",
      "state": {
       "layout": "IPY_MODEL_1e58f71b9dcc43a6b575db28a203e36c",
       "style": "IPY_MODEL_27c7a4d511e24fc9abe15b31e0ddb7e7",
       "value": "100%"
      }
     },
     "b39e020316e8460bb385f23e2c74aea9": {
      "model_module": "@jupyter-widgets/controls",
      "model_module_version": "1.5.0",
      "model_name": "HTMLModel",
      "state": {
       "layout": "IPY_MODEL_b75397d6ea234e2c96220d191ebd7b84",
       "style": "IPY_MODEL_84ef7995c3e94d4e8959011c53c77063",
       "value": " 400/400 [08:35&lt;00:00,  1.29s/it]"
      }
     },
     "b3a3b5d0343547b8b6be2c5ac35ec668": {
      "model_module": "@jupyter-widgets/controls",
      "model_module_version": "1.5.0",
      "model_name": "HTMLModel",
      "state": {
       "layout": "IPY_MODEL_58f5c4a08448496385b2cc7ae75201f0",
       "style": "IPY_MODEL_5ac15e1833584ae09efb6266e3a4d301",
       "value": "100%"
      }
     },
     "b47dd403c899429e82bc90a426ec0f78": {
      "model_module": "@jupyter-widgets/controls",
      "model_module_version": "1.5.0",
      "model_name": "DescriptionStyleModel",
      "state": {
       "description_width": ""
      }
     },
     "b48aca696714410c969cf7213c8751f9": {
      "model_module": "@jupyter-widgets/controls",
      "model_module_version": "1.5.0",
      "model_name": "ProgressStyleModel",
      "state": {
       "description_width": ""
      }
     },
     "b5585f0dac4c4864bb27cac6b996ed39": {
      "model_module": "@jupyter-widgets/base",
      "model_module_version": "1.2.0",
      "model_name": "LayoutModel",
      "state": {}
     },
     "b7444550827e40a7a643d7aa57e7a594": {
      "model_module": "@jupyter-widgets/controls",
      "model_module_version": "1.5.0",
      "model_name": "ProgressStyleModel",
      "state": {
       "description_width": ""
      }
     },
     "b75397d6ea234e2c96220d191ebd7b84": {
      "model_module": "@jupyter-widgets/base",
      "model_module_version": "1.2.0",
      "model_name": "LayoutModel",
      "state": {}
     },
     "b77be24131f548da81f9bf0e669d0b98": {
      "model_module": "@jupyter-widgets/controls",
      "model_module_version": "1.5.0",
      "model_name": "ProgressStyleModel",
      "state": {
       "description_width": ""
      }
     },
     "b7e4095e6c464c2aaf191c161478403a": {
      "model_module": "@jupyter-widgets/controls",
      "model_module_version": "1.5.0",
      "model_name": "HTMLModel",
      "state": {
       "layout": "IPY_MODEL_e7ec6a6f63c9463aa2b3bd44a42cd458",
       "style": "IPY_MODEL_33f9510d9dd24579b13675579c57da5a",
       "value": "100%"
      }
     },
     "b8a39442a2394f769356a547a52a924f": {
      "model_module": "@jupyter-widgets/base",
      "model_module_version": "1.2.0",
      "model_name": "LayoutModel",
      "state": {}
     },
     "b8ae93cbb11446cd9269ef1b1cfbef9f": {
      "model_module": "@jupyter-widgets/controls",
      "model_module_version": "1.5.0",
      "model_name": "FloatProgressModel",
      "state": {
       "bar_style": "success",
       "layout": "IPY_MODEL_d59ba0ee568344bf86738a360fc6e85b",
       "max": 400,
       "style": "IPY_MODEL_1e938abbce32442d9609f20086479c1a",
       "value": 400
      }
     },
     "b8f614b6e06b47c2898bde66de5bb165": {
      "model_module": "@jupyter-widgets/controls",
      "model_module_version": "1.5.0",
      "model_name": "HTMLModel",
      "state": {
       "layout": "IPY_MODEL_c7e035a490914d9fac31aa2a5f12bc47",
       "style": "IPY_MODEL_43a29e880a5e402cb56182f37d3c274f",
       "value": "100%"
      }
     },
     "b91239d374df46948a8a0a2c3e9cfe95": {
      "model_module": "@jupyter-widgets/base",
      "model_module_version": "1.2.0",
      "model_name": "LayoutModel",
      "state": {}
     },
     "b92ae7d2be4942eab9de6a2e38f848b0": {
      "model_module": "@jupyter-widgets/controls",
      "model_module_version": "1.5.0",
      "model_name": "FloatProgressModel",
      "state": {
       "bar_style": "success",
       "layout": "IPY_MODEL_17ce47b703c3455ebc4169b6c147edf0",
       "max": 400,
       "style": "IPY_MODEL_13d75eb85f7e48cba01f755856150353",
       "value": 400
      }
     },
     "b9a207c835ff41d283559d602afdca7c": {
      "model_module": "@jupyter-widgets/controls",
      "model_module_version": "1.5.0",
      "model_name": "DescriptionStyleModel",
      "state": {
       "description_width": ""
      }
     },
     "ba04257e25f747608a0c6a47d69182a3": {
      "model_module": "@jupyter-widgets/base",
      "model_module_version": "1.2.0",
      "model_name": "LayoutModel",
      "state": {}
     },
     "bb7f4f31913a4d37bb31e72378d88c21": {
      "model_module": "@jupyter-widgets/controls",
      "model_module_version": "1.5.0",
      "model_name": "ProgressStyleModel",
      "state": {
       "description_width": ""
      }
     },
     "bb9a0c2c3f1b440a84cbb50ac5599fba": {
      "model_module": "@jupyter-widgets/base",
      "model_module_version": "1.2.0",
      "model_name": "LayoutModel",
      "state": {}
     },
     "bc824ec15e4b4f9393d313edd15d9fea": {
      "model_module": "@jupyter-widgets/base",
      "model_module_version": "1.2.0",
      "model_name": "LayoutModel",
      "state": {}
     },
     "bc9f853adef1459cae3b1ee4a7c83905": {
      "model_module": "@jupyter-widgets/controls",
      "model_module_version": "1.5.0",
      "model_name": "HTMLModel",
      "state": {
       "layout": "IPY_MODEL_07009c1bd1494f7f8375d3731491d3d2",
       "style": "IPY_MODEL_97e9e6f2a91145a6b84a2a39d53eba2d",
       "value": " 400/400 [09:16&lt;00:00,  1.38s/it]"
      }
     },
     "bcabab3ed2674ff2b1b7fb3fa7dd2c64": {
      "model_module": "@jupyter-widgets/base",
      "model_module_version": "1.2.0",
      "model_name": "LayoutModel",
      "state": {}
     },
     "be5da5257b9a483f8e168aa168476f1c": {
      "model_module": "@jupyter-widgets/controls",
      "model_module_version": "1.5.0",
      "model_name": "ProgressStyleModel",
      "state": {
       "description_width": ""
      }
     },
     "becc758ad0e146de85b6a83949abec52": {
      "model_module": "@jupyter-widgets/controls",
      "model_module_version": "1.5.0",
      "model_name": "HBoxModel",
      "state": {
       "children": [
        "IPY_MODEL_300bc6d3e654489b8b2485e4a491e401",
        "IPY_MODEL_dc45dd49a9b7425988dc296f8bc5768e",
        "IPY_MODEL_95730e04106c4a538af705d2951cc2cd"
       ],
       "layout": "IPY_MODEL_1dfb6ffc372d48fc97dc3c911c8ea682"
      }
     },
     "bf4cdd1e8b2e4ba1b6fa8c668ffd1c0b": {
      "model_module": "@jupyter-widgets/base",
      "model_module_version": "1.2.0",
      "model_name": "LayoutModel",
      "state": {}
     },
     "bf843179452a4c568c666d8777073232": {
      "model_module": "@jupyter-widgets/controls",
      "model_module_version": "1.5.0",
      "model_name": "HBoxModel",
      "state": {
       "children": [
        "IPY_MODEL_f3f0a9142f3b4d2fada284e712ab22bc",
        "IPY_MODEL_a95e86ff86774d69b90824172045a12f",
        "IPY_MODEL_9f5d6f98fe6846759fc8c9e08a90c3dd"
       ],
       "layout": "IPY_MODEL_d5e61f8d186044adb1a8a83696be85fd"
      }
     },
     "bf8ebf1b939343319c6ea81013ccbcc5": {
      "model_module": "@jupyter-widgets/controls",
      "model_module_version": "1.5.0",
      "model_name": "HTMLModel",
      "state": {
       "layout": "IPY_MODEL_d196376a42a545feb9a165cbd67a5e48",
       "style": "IPY_MODEL_6c77e97ca1bc4d2299219a95fe5886e7",
       "value": "100%"
      }
     },
     "bfa4c6e923a448bb94187afe85bb5d77": {
      "model_module": "@jupyter-widgets/base",
      "model_module_version": "1.2.0",
      "model_name": "LayoutModel",
      "state": {}
     },
     "bfdbc3c6766c431e901cb5c8b24da945": {
      "model_module": "@jupyter-widgets/base",
      "model_module_version": "1.2.0",
      "model_name": "LayoutModel",
      "state": {}
     },
     "c00bc0a308094756aabb2f7d170d27a0": {
      "model_module": "@jupyter-widgets/base",
      "model_module_version": "1.2.0",
      "model_name": "LayoutModel",
      "state": {}
     },
     "c05fc68132c04745bc0204d8c2a32379": {
      "model_module": "@jupyter-widgets/controls",
      "model_module_version": "1.5.0",
      "model_name": "HBoxModel",
      "state": {
       "children": [
        "IPY_MODEL_f121f7724d6245e495c9c7bb98c5369d",
        "IPY_MODEL_ea1ea95d9f164b89a28a86fb5f97a242",
        "IPY_MODEL_0168a96e94694a4e86a4c860e5aef3df"
       ],
       "layout": "IPY_MODEL_709e4c3ba54148bcb8ebcfa50530a742"
      }
     },
     "c0847da54f4f4a5aabbaf752727ca1cb": {
      "model_module": "@jupyter-widgets/controls",
      "model_module_version": "1.5.0",
      "model_name": "ProgressStyleModel",
      "state": {
       "description_width": ""
      }
     },
     "c09cb0c6ab7a4cf09f671af777fa02da": {
      "model_module": "@jupyter-widgets/base",
      "model_module_version": "1.2.0",
      "model_name": "LayoutModel",
      "state": {}
     },
     "c0a2eedb3ac84899bba6d920b74f96c7": {
      "model_module": "@jupyter-widgets/controls",
      "model_module_version": "1.5.0",
      "model_name": "DescriptionStyleModel",
      "state": {
       "description_width": ""
      }
     },
     "c0e77061951f4a4bbdcae0a1175407df": {
      "model_module": "@jupyter-widgets/base",
      "model_module_version": "1.2.0",
      "model_name": "LayoutModel",
      "state": {}
     },
     "c1145d65917840d4b778a68f32abe414": {
      "model_module": "@jupyter-widgets/controls",
      "model_module_version": "1.5.0",
      "model_name": "HTMLModel",
      "state": {
       "layout": "IPY_MODEL_0303c7b93dee4e23a763e8f041b3b12a",
       "style": "IPY_MODEL_3ccae454cdf24e74b6d195075bbb89f3",
       "value": "100%"
      }
     },
     "c138340091b74386a89a097cc13109b6": {
      "model_module": "@jupyter-widgets/base",
      "model_module_version": "1.2.0",
      "model_name": "LayoutModel",
      "state": {}
     },
     "c1da360b1bdc43aea99a1ec3c6af6e5a": {
      "model_module": "@jupyter-widgets/controls",
      "model_module_version": "1.5.0",
      "model_name": "ProgressStyleModel",
      "state": {
       "description_width": ""
      }
     },
     "c22446167fc144eb884fcd31944277ca": {
      "model_module": "@jupyter-widgets/controls",
      "model_module_version": "1.5.0",
      "model_name": "DescriptionStyleModel",
      "state": {
       "description_width": ""
      }
     },
     "c25e9e649d68402980097dc49ec74d95": {
      "model_module": "@jupyter-widgets/controls",
      "model_module_version": "1.5.0",
      "model_name": "DescriptionStyleModel",
      "state": {
       "description_width": ""
      }
     },
     "c278026adb8d489cb89cb2cf4fd5affd": {
      "model_module": "@jupyter-widgets/controls",
      "model_module_version": "1.5.0",
      "model_name": "FloatProgressModel",
      "state": {
       "bar_style": "success",
       "layout": "IPY_MODEL_ea53c86132884b94aacc9d3c5334d12d",
       "max": 400,
       "style": "IPY_MODEL_55c7094c9d2b431a8db83d65c41944d3",
       "value": 400
      }
     },
     "c291c88edccc4a7b9355921371b4ebe5": {
      "model_module": "@jupyter-widgets/base",
      "model_module_version": "1.2.0",
      "model_name": "LayoutModel",
      "state": {}
     },
     "c2fba52b56734a06a6e0356657429d2a": {
      "model_module": "@jupyter-widgets/controls",
      "model_module_version": "1.5.0",
      "model_name": "HTMLModel",
      "state": {
       "layout": "IPY_MODEL_b8a39442a2394f769356a547a52a924f",
       "style": "IPY_MODEL_b47dd403c899429e82bc90a426ec0f78",
       "value": " 400/400 [08:25&lt;00:00,  1.27s/it]"
      }
     },
     "c3792ae2954544e8a902e5c9420113de": {
      "model_module": "@jupyter-widgets/controls",
      "model_module_version": "1.5.0",
      "model_name": "HBoxModel",
      "state": {
       "children": [
        "IPY_MODEL_315ed7e0344c4b0c8749f13affcf385b",
        "IPY_MODEL_b8ae93cbb11446cd9269ef1b1cfbef9f",
        "IPY_MODEL_9a0aab9094d94c60a70947c6e4639128"
       ],
       "layout": "IPY_MODEL_a2726f37aefd42aebffb64fc581bd2d2"
      }
     },
     "c3b4cf6ae0504c47b7a3eb8837518a07": {
      "model_module": "@jupyter-widgets/base",
      "model_module_version": "1.2.0",
      "model_name": "LayoutModel",
      "state": {}
     },
     "c416eb8d9e8c4f099e0f9e770904b025": {
      "model_module": "@jupyter-widgets/controls",
      "model_module_version": "1.5.0",
      "model_name": "ProgressStyleModel",
      "state": {
       "description_width": ""
      }
     },
     "c4c85ce6c3af4f18ae0671f1d249e99d": {
      "model_module": "@jupyter-widgets/controls",
      "model_module_version": "1.5.0",
      "model_name": "HTMLModel",
      "state": {
       "layout": "IPY_MODEL_f97e8a3b87444caeb5fcb730a8647e00",
       "style": "IPY_MODEL_7405b4e802b44d25810df13445b0a4ce",
       "value": "100%"
      }
     },
     "c67bb16989bb4a31ba8c16cbdcc51a3d": {
      "model_module": "@jupyter-widgets/controls",
      "model_module_version": "1.5.0",
      "model_name": "DescriptionStyleModel",
      "state": {
       "description_width": ""
      }
     },
     "c76388b5799441278a0d2e434eb4b87b": {
      "model_module": "@jupyter-widgets/controls",
      "model_module_version": "1.5.0",
      "model_name": "DescriptionStyleModel",
      "state": {
       "description_width": ""
      }
     },
     "c78e5aa9da7e4b50a37e661f0b30ef2d": {
      "model_module": "@jupyter-widgets/controls",
      "model_module_version": "1.5.0",
      "model_name": "HBoxModel",
      "state": {
       "children": [
        "IPY_MODEL_93561ac53151476bb74397daa2dfced7",
        "IPY_MODEL_d9d3c0bcd63e43f4bccb7c6bc487965d",
        "IPY_MODEL_2473d803fb4344c78bd9b87cc426fa1e"
       ],
       "layout": "IPY_MODEL_d3cf364a419140f488fe2298f066ae47"
      }
     },
     "c7d3e47b2d174bb1929eea0b10e96103": {
      "model_module": "@jupyter-widgets/controls",
      "model_module_version": "1.5.0",
      "model_name": "HTMLModel",
      "state": {
       "layout": "IPY_MODEL_1f23de14664c41c9b81c6b7ecc5173f7",
       "style": "IPY_MODEL_9a2e0e5536454ccf8315619285f5f533",
       "value": " 400/400 [08:09&lt;00:00,  1.22s/it]"
      }
     },
     "c7e035a490914d9fac31aa2a5f12bc47": {
      "model_module": "@jupyter-widgets/base",
      "model_module_version": "1.2.0",
      "model_name": "LayoutModel",
      "state": {}
     },
     "c8231482a7dd48e6b23d68a72b252a07": {
      "model_module": "@jupyter-widgets/base",
      "model_module_version": "1.2.0",
      "model_name": "LayoutModel",
      "state": {}
     },
     "c89a3eea5e414113a78b0e836b61f810": {
      "model_module": "@jupyter-widgets/base",
      "model_module_version": "1.2.0",
      "model_name": "LayoutModel",
      "state": {}
     },
     "c8cf06e27cbc46b49d1d7fe1a5f33030": {
      "model_module": "@jupyter-widgets/controls",
      "model_module_version": "1.5.0",
      "model_name": "FloatProgressModel",
      "state": {
       "bar_style": "success",
       "layout": "IPY_MODEL_d786d8f4f76544d483bae5b384c2f33c",
       "max": 400,
       "style": "IPY_MODEL_c1da360b1bdc43aea99a1ec3c6af6e5a",
       "value": 400
      }
     },
     "ca20c194def0465095640f3c1ff47ece": {
      "model_module": "@jupyter-widgets/controls",
      "model_module_version": "1.5.0",
      "model_name": "DescriptionStyleModel",
      "state": {
       "description_width": ""
      }
     },
     "cac0df42fd9d430c916d617b4cdd5a0c": {
      "model_module": "@jupyter-widgets/controls",
      "model_module_version": "1.5.0",
      "model_name": "ProgressStyleModel",
      "state": {
       "description_width": ""
      }
     },
     "cafd73e275b1407999ce0eb5bcd52981": {
      "model_module": "@jupyter-widgets/controls",
      "model_module_version": "1.5.0",
      "model_name": "ProgressStyleModel",
      "state": {
       "description_width": ""
      }
     },
     "cb1a7440d3894e44a5ad281a2807ae96": {
      "model_module": "@jupyter-widgets/controls",
      "model_module_version": "1.5.0",
      "model_name": "HBoxModel",
      "state": {
       "children": [
        "IPY_MODEL_142f7bbfdde8431c9d6867125ba345d0",
        "IPY_MODEL_0f53db90262f4035915738cd8c1c15bd",
        "IPY_MODEL_125d4dfb2cc946648ff1ca329f89ae1b"
       ],
       "layout": "IPY_MODEL_4912de6c58354f30904d8ceb51a9c31c"
      }
     },
     "cc34d6dad8e54a3f891a3916db4ddab7": {
      "model_module": "@jupyter-widgets/base",
      "model_module_version": "1.2.0",
      "model_name": "LayoutModel",
      "state": {}
     },
     "cc740aaf1d704430987a2c4ce8ad08df": {
      "model_module": "@jupyter-widgets/controls",
      "model_module_version": "1.5.0",
      "model_name": "HTMLModel",
      "state": {
       "layout": "IPY_MODEL_a5985bb31a7c4d7d9bc6f1731769a3e2",
       "style": "IPY_MODEL_7fc981a6faf24d8c8c74e79ca2518038",
       "value": " 400/400 [08:10&lt;00:00,  1.24s/it]"
      }
     },
     "cc90a3e5a2a84c2486533dad1b8eb4bc": {
      "model_module": "@jupyter-widgets/base",
      "model_module_version": "1.2.0",
      "model_name": "LayoutModel",
      "state": {}
     },
     "ccd90b9b71a64a178cbed5e56d9806ee": {
      "model_module": "@jupyter-widgets/controls",
      "model_module_version": "1.5.0",
      "model_name": "HBoxModel",
      "state": {
       "children": [
        "IPY_MODEL_81d4f9d9bd474d8db7e9cb2cfe1752c9",
        "IPY_MODEL_3f36384a070c40a8b0acdc9b1fddd803",
        "IPY_MODEL_a08e7194477e450ebb1b82eee65b501b"
       ],
       "layout": "IPY_MODEL_c291c88edccc4a7b9355921371b4ebe5"
      }
     },
     "cd530dd875064253807db754ab361c3f": {
      "model_module": "@jupyter-widgets/controls",
      "model_module_version": "1.5.0",
      "model_name": "DescriptionStyleModel",
      "state": {
       "description_width": ""
      }
     },
     "cd8a1c6729b641e684eadfe16078953d": {
      "model_module": "@jupyter-widgets/base",
      "model_module_version": "1.2.0",
      "model_name": "LayoutModel",
      "state": {}
     },
     "cda7acb7647a4573a51b40d5604a0ff8": {
      "model_module": "@jupyter-widgets/base",
      "model_module_version": "1.2.0",
      "model_name": "LayoutModel",
      "state": {}
     },
     "ce2a231d0e7e4789a39ae8aa1e61b116": {
      "model_module": "@jupyter-widgets/controls",
      "model_module_version": "1.5.0",
      "model_name": "DescriptionStyleModel",
      "state": {
       "description_width": ""
      }
     },
     "ce9ddd75228a4b43952697f81bca8584": {
      "model_module": "@jupyter-widgets/base",
      "model_module_version": "1.2.0",
      "model_name": "LayoutModel",
      "state": {}
     },
     "cebabfb48e07401fb13775f1bd4df698": {
      "model_module": "@jupyter-widgets/base",
      "model_module_version": "1.2.0",
      "model_name": "LayoutModel",
      "state": {}
     },
     "cf41fbfa1cf34c529dc7005cd665d656": {
      "model_module": "@jupyter-widgets/base",
      "model_module_version": "1.2.0",
      "model_name": "LayoutModel",
      "state": {}
     },
     "cf7157023dbe4cfcbddc10e86661efd5": {
      "model_module": "@jupyter-widgets/controls",
      "model_module_version": "1.5.0",
      "model_name": "HBoxModel",
      "state": {
       "children": [
        "IPY_MODEL_ea544c1dec0140be9ebad48b827b1221",
        "IPY_MODEL_fb2a38a0042b451f9e6227da3be1d495",
        "IPY_MODEL_b39e020316e8460bb385f23e2c74aea9"
       ],
       "layout": "IPY_MODEL_e9df47de86f94c1f852a2250bf721e97"
      }
     },
     "cfa07e5798794a7e83cd7a437e860fce": {
      "model_module": "@jupyter-widgets/base",
      "model_module_version": "1.2.0",
      "model_name": "LayoutModel",
      "state": {}
     },
     "d00881059f744fb5bc328829bddcd16e": {
      "model_module": "@jupyter-widgets/controls",
      "model_module_version": "1.5.0",
      "model_name": "HTMLModel",
      "state": {
       "layout": "IPY_MODEL_cc90a3e5a2a84c2486533dad1b8eb4bc",
       "style": "IPY_MODEL_8bcd3d1d78944a4c85d21e5a548c1fb9",
       "value": "100%"
      }
     },
     "d082a0d3971f48a3b8a2f3439ad93251": {
      "model_module": "@jupyter-widgets/controls",
      "model_module_version": "1.5.0",
      "model_name": "FloatProgressModel",
      "state": {
       "bar_style": "success",
       "layout": "IPY_MODEL_2e5613dad9674186b65ad014e86971c2",
       "max": 400,
       "style": "IPY_MODEL_86d3ea55d5ac453fb8da10a12793b4e9",
       "value": 400
      }
     },
     "d08df578e84c4c16bf587f4f1d758e11": {
      "model_module": "@jupyter-widgets/base",
      "model_module_version": "1.2.0",
      "model_name": "LayoutModel",
      "state": {}
     },
     "d167b08a47c3462689b6624051c23180": {
      "model_module": "@jupyter-widgets/controls",
      "model_module_version": "1.5.0",
      "model_name": "HTMLModel",
      "state": {
       "layout": "IPY_MODEL_edc0dca005c54ad196f42c5a17d304b1",
       "style": "IPY_MODEL_8744af9abc844881adc9befa696024cf",
       "value": " 400/400 [09:11&lt;00:00,  1.38s/it]"
      }
     },
     "d196376a42a545feb9a165cbd67a5e48": {
      "model_module": "@jupyter-widgets/base",
      "model_module_version": "1.2.0",
      "model_name": "LayoutModel",
      "state": {}
     },
     "d245fcbe89404e85a92da98ef0b641fe": {
      "model_module": "@jupyter-widgets/base",
      "model_module_version": "1.2.0",
      "model_name": "LayoutModel",
      "state": {}
     },
     "d2ccea9aa4784057a0c02bc5eb45ba26": {
      "model_module": "@jupyter-widgets/controls",
      "model_module_version": "1.5.0",
      "model_name": "HTMLModel",
      "state": {
       "layout": "IPY_MODEL_3ffae52cda7a4e8fb808d635f8d00e03",
       "style": "IPY_MODEL_d8ea7e3a4f744eb792abd6a9a5746abb",
       "value": " 400/400 [08:18&lt;00:00,  1.25s/it]"
      }
     },
     "d2ee8aa18fd447bbacee3bde94d8e3e4": {
      "model_module": "@jupyter-widgets/base",
      "model_module_version": "1.2.0",
      "model_name": "LayoutModel",
      "state": {}
     },
     "d3afad804de842b098fc9c4df1c49374": {
      "model_module": "@jupyter-widgets/base",
      "model_module_version": "1.2.0",
      "model_name": "LayoutModel",
      "state": {}
     },
     "d3cf364a419140f488fe2298f066ae47": {
      "model_module": "@jupyter-widgets/base",
      "model_module_version": "1.2.0",
      "model_name": "LayoutModel",
      "state": {}
     },
     "d42df66cdd4c47708557ded196a3707d": {
      "model_module": "@jupyter-widgets/controls",
      "model_module_version": "1.5.0",
      "model_name": "HTMLModel",
      "state": {
       "layout": "IPY_MODEL_51a4d5c8caa44131aa842a7a81a03e6a",
       "style": "IPY_MODEL_03e26bd0b59941ffb15800400d3d338f",
       "value": " 400/400 [08:46&lt;00:00,  1.32s/it]"
      }
     },
     "d44b1bfe1a7d46a7a5fa294a1f3db8d3": {
      "model_module": "@jupyter-widgets/controls",
      "model_module_version": "1.5.0",
      "model_name": "HTMLModel",
      "state": {
       "layout": "IPY_MODEL_3c29f1ddea7048038cfb18efaf4293d3",
       "style": "IPY_MODEL_effafa4d7697483b95f8bf08769069d9",
       "value": " 400/400 [08:52&lt;00:00,  1.33s/it]"
      }
     },
     "d59ba0ee568344bf86738a360fc6e85b": {
      "model_module": "@jupyter-widgets/base",
      "model_module_version": "1.2.0",
      "model_name": "LayoutModel",
      "state": {}
     },
     "d5d3e2699edc499f902d1215d4052a90": {
      "model_module": "@jupyter-widgets/controls",
      "model_module_version": "1.5.0",
      "model_name": "FloatProgressModel",
      "state": {
       "bar_style": "success",
       "layout": "IPY_MODEL_46544e5d5a274a31b7954967e2ab014f",
       "max": 400,
       "style": "IPY_MODEL_c416eb8d9e8c4f099e0f9e770904b025",
       "value": 400
      }
     },
     "d5e61f8d186044adb1a8a83696be85fd": {
      "model_module": "@jupyter-widgets/base",
      "model_module_version": "1.2.0",
      "model_name": "LayoutModel",
      "state": {}
     },
     "d721f2d7bbd34f0899a0c6dc720d09a6": {
      "model_module": "@jupyter-widgets/controls",
      "model_module_version": "1.5.0",
      "model_name": "DescriptionStyleModel",
      "state": {
       "description_width": ""
      }
     },
     "d786d8f4f76544d483bae5b384c2f33c": {
      "model_module": "@jupyter-widgets/base",
      "model_module_version": "1.2.0",
      "model_name": "LayoutModel",
      "state": {}
     },
     "d7b71467baa74b9f8a45297907850260": {
      "model_module": "@jupyter-widgets/controls",
      "model_module_version": "1.5.0",
      "model_name": "DescriptionStyleModel",
      "state": {
       "description_width": ""
      }
     },
     "d809d10e2011434cbecca29b5f369ce2": {
      "model_module": "@jupyter-widgets/base",
      "model_module_version": "1.2.0",
      "model_name": "LayoutModel",
      "state": {}
     },
     "d80eb2445de5470780c2ce4356a60c00": {
      "model_module": "@jupyter-widgets/controls",
      "model_module_version": "1.5.0",
      "model_name": "HTMLModel",
      "state": {
       "layout": "IPY_MODEL_6754e836afe54d2da972ff54dea56cf8",
       "style": "IPY_MODEL_b9a207c835ff41d283559d602afdca7c",
       "value": "100%"
      }
     },
     "d8658c84a32b4bdb8442f5fa79ef9899": {
      "model_module": "@jupyter-widgets/controls",
      "model_module_version": "1.5.0",
      "model_name": "DescriptionStyleModel",
      "state": {
       "description_width": ""
      }
     },
     "d8ea7e3a4f744eb792abd6a9a5746abb": {
      "model_module": "@jupyter-widgets/controls",
      "model_module_version": "1.5.0",
      "model_name": "DescriptionStyleModel",
      "state": {
       "description_width": ""
      }
     },
     "d934307d1cdd418fb25f4920281a6a70": {
      "model_module": "@jupyter-widgets/base",
      "model_module_version": "1.2.0",
      "model_name": "LayoutModel",
      "state": {}
     },
     "d9518a4ace1840d9aae85d518b5d9d12": {
      "model_module": "@jupyter-widgets/base",
      "model_module_version": "1.2.0",
      "model_name": "LayoutModel",
      "state": {}
     },
     "d9d3c0bcd63e43f4bccb7c6bc487965d": {
      "model_module": "@jupyter-widgets/controls",
      "model_module_version": "1.5.0",
      "model_name": "FloatProgressModel",
      "state": {
       "bar_style": "success",
       "layout": "IPY_MODEL_220f2e8db09a4cc68886a39dc0a0fa12",
       "max": 400,
       "style": "IPY_MODEL_60879023d8dd4605acdf80f5d4acc787",
       "value": 400
      }
     },
     "da34d053c06f42b0a013c029cd90de7a": {
      "model_module": "@jupyter-widgets/base",
      "model_module_version": "1.2.0",
      "model_name": "LayoutModel",
      "state": {}
     },
     "db6c527954864b05b42fc3056e0b7061": {
      "model_module": "@jupyter-widgets/controls",
      "model_module_version": "1.5.0",
      "model_name": "HTMLModel",
      "state": {
       "layout": "IPY_MODEL_5578cc9ede61421c84685c8b1e25a34b",
       "style": "IPY_MODEL_497fbe7d57e641769a2ee9d8ba7f8c69",
       "value": "100%"
      }
     },
     "dc45dd49a9b7425988dc296f8bc5768e": {
      "model_module": "@jupyter-widgets/controls",
      "model_module_version": "1.5.0",
      "model_name": "FloatProgressModel",
      "state": {
       "bar_style": "success",
       "layout": "IPY_MODEL_c89a3eea5e414113a78b0e836b61f810",
       "max": 400,
       "style": "IPY_MODEL_2c4d4903fb9246b889b614e88b70e528",
       "value": 400
      }
     },
     "dc9b2bcb312f4c8cbb05ccf742a091b0": {
      "model_module": "@jupyter-widgets/base",
      "model_module_version": "1.2.0",
      "model_name": "LayoutModel",
      "state": {}
     },
     "dca8d2acf0534b938cdf4cc4af212f43": {
      "model_module": "@jupyter-widgets/controls",
      "model_module_version": "1.5.0",
      "model_name": "HTMLModel",
      "state": {
       "layout": "IPY_MODEL_918954e234c143e4a5e0774257252954",
       "style": "IPY_MODEL_36953dee1f5b401c8e211da5e216fe6f",
       "value": " 400/400 [09:22&lt;00:00,  1.41s/it]"
      }
     },
     "dd0c14004e3342be96b7c73f5a44fbf3": {
      "model_module": "@jupyter-widgets/controls",
      "model_module_version": "1.5.0",
      "model_name": "HBoxModel",
      "state": {
       "children": [
        "IPY_MODEL_b8f614b6e06b47c2898bde66de5bb165",
        "IPY_MODEL_d5d3e2699edc499f902d1215d4052a90",
        "IPY_MODEL_b0320204923b496691deb9dc14a2e2ad"
       ],
       "layout": "IPY_MODEL_a37d1d7cb8ba4742ab09c4fd9522bf99"
      }
     },
     "dd21b1c01c274c26a3237252ca443d6a": {
      "model_module": "@jupyter-widgets/controls",
      "model_module_version": "1.5.0",
      "model_name": "HTMLModel",
      "state": {
       "layout": "IPY_MODEL_ac1a8e9e3b904f28b7d814e53b1c58dd",
       "style": "IPY_MODEL_fa4746d3838d4c5c818c99fe6ea3a9b4",
       "value": "100%"
      }
     },
     "dd5a6434a15c44f9811aa3c04ddddc47": {
      "model_module": "@jupyter-widgets/controls",
      "model_module_version": "1.5.0",
      "model_name": "ProgressStyleModel",
      "state": {
       "description_width": ""
      }
     },
     "dd681cc3e3144882ad817822583607ac": {
      "model_module": "@jupyter-widgets/controls",
      "model_module_version": "1.5.0",
      "model_name": "DescriptionStyleModel",
      "state": {
       "description_width": ""
      }
     },
     "dd958cc228274a758b7230ef07d298bd": {
      "model_module": "@jupyter-widgets/controls",
      "model_module_version": "1.5.0",
      "model_name": "ProgressStyleModel",
      "state": {
       "description_width": ""
      }
     },
     "dddbbb7824f84a8dbbd5eb69e8d2295a": {
      "model_module": "@jupyter-widgets/base",
      "model_module_version": "1.2.0",
      "model_name": "LayoutModel",
      "state": {}
     },
     "de7c353b6014454a935e58824e938543": {
      "model_module": "@jupyter-widgets/controls",
      "model_module_version": "1.5.0",
      "model_name": "DescriptionStyleModel",
      "state": {
       "description_width": ""
      }
     },
     "dea5db78555b4c4d8b3b0467d733f3ed": {
      "model_module": "@jupyter-widgets/controls",
      "model_module_version": "1.5.0",
      "model_name": "DescriptionStyleModel",
      "state": {
       "description_width": ""
      }
     },
     "decb5ddb599f42418889624aaed2d5c3": {
      "model_module": "@jupyter-widgets/controls",
      "model_module_version": "1.5.0",
      "model_name": "HTMLModel",
      "state": {
       "layout": "IPY_MODEL_43feda5354a24f89a798dedc1d63b9db",
       "style": "IPY_MODEL_c67bb16989bb4a31ba8c16cbdcc51a3d",
       "value": " 400/400 [08:54&lt;00:00,  1.34s/it]"
      }
     },
     "e04dfb6021ec4870ab9fd6781a027d2a": {
      "model_module": "@jupyter-widgets/base",
      "model_module_version": "1.2.0",
      "model_name": "LayoutModel",
      "state": {}
     },
     "e0ad351eeee0453e8253c10a6f2a283d": {
      "model_module": "@jupyter-widgets/base",
      "model_module_version": "1.2.0",
      "model_name": "LayoutModel",
      "state": {}
     },
     "e1f1b5e4edc54250996bf6771bc33ae8": {
      "model_module": "@jupyter-widgets/controls",
      "model_module_version": "1.5.0",
      "model_name": "HBoxModel",
      "state": {
       "children": [
        "IPY_MODEL_bf8ebf1b939343319c6ea81013ccbcc5",
        "IPY_MODEL_2f3db428787747a48d38c1810b782c47",
        "IPY_MODEL_34667b6d847442f5b2f11eeb0a6f5b70"
       ],
       "layout": "IPY_MODEL_af0017e933794267806b34cc10251746"
      }
     },
     "e313b0347bb84ccc98cabb4fad91dc91": {
      "model_module": "@jupyter-widgets/controls",
      "model_module_version": "1.5.0",
      "model_name": "DescriptionStyleModel",
      "state": {
       "description_width": ""
      }
     },
     "e3bfa061a7064835810c3cfcbd358173": {
      "model_module": "@jupyter-widgets/base",
      "model_module_version": "1.2.0",
      "model_name": "LayoutModel",
      "state": {}
     },
     "e3dea865935c46c98bbb7f77a77b569c": {
      "model_module": "@jupyter-widgets/controls",
      "model_module_version": "1.5.0",
      "model_name": "FloatProgressModel",
      "state": {
       "bar_style": "success",
       "layout": "IPY_MODEL_a757a081aaeb4ec6b3912447af81a87f",
       "max": 400,
       "style": "IPY_MODEL_754322b857c9455ca654413f0641faf1",
       "value": 400
      }
     },
     "e48a7a81bf254757a9561ce234b64c74": {
      "model_module": "@jupyter-widgets/controls",
      "model_module_version": "1.5.0",
      "model_name": "ProgressStyleModel",
      "state": {
       "description_width": ""
      }
     },
     "e5bae89e10854c678199acd57a524350": {
      "model_module": "@jupyter-widgets/base",
      "model_module_version": "1.2.0",
      "model_name": "LayoutModel",
      "state": {}
     },
     "e62538eab35146edbd883b45e8482f2f": {
      "model_module": "@jupyter-widgets/base",
      "model_module_version": "1.2.0",
      "model_name": "LayoutModel",
      "state": {}
     },
     "e6d9ba2ed0f64a8db193177586246846": {
      "model_module": "@jupyter-widgets/controls",
      "model_module_version": "1.5.0",
      "model_name": "FloatProgressModel",
      "state": {
       "bar_style": "success",
       "layout": "IPY_MODEL_1dc71411a2df40e3b1bcf41d0e741eb9",
       "max": 400,
       "style": "IPY_MODEL_dd5a6434a15c44f9811aa3c04ddddc47",
       "value": 400
      }
     },
     "e73f2a30278140adb901016f2611bd42": {
      "model_module": "@jupyter-widgets/controls",
      "model_module_version": "1.5.0",
      "model_name": "HTMLModel",
      "state": {
       "layout": "IPY_MODEL_b91239d374df46948a8a0a2c3e9cfe95",
       "style": "IPY_MODEL_4cc5930fb6ed47b3888e063ae070a545",
       "value": "100%"
      }
     },
     "e7e10bdb5c884cd29bbf76f3ff42734b": {
      "model_module": "@jupyter-widgets/controls",
      "model_module_version": "1.5.0",
      "model_name": "HBoxModel",
      "state": {
       "children": [
        "IPY_MODEL_66f19f193f154559973cd0b5603f0b54",
        "IPY_MODEL_0ff917d542174991a69772f23492fa0f",
        "IPY_MODEL_4303f86f8bb14776a9e78ba184eff523"
       ],
       "layout": "IPY_MODEL_e0ad351eeee0453e8253c10a6f2a283d"
      }
     },
     "e7ec6a6f63c9463aa2b3bd44a42cd458": {
      "model_module": "@jupyter-widgets/base",
      "model_module_version": "1.2.0",
      "model_name": "LayoutModel",
      "state": {}
     },
     "e86d604050d74511a223339db16d699d": {
      "model_module": "@jupyter-widgets/base",
      "model_module_version": "1.2.0",
      "model_name": "LayoutModel",
      "state": {}
     },
     "e8b98bcb0bae4f28a85a8f648a15d233": {
      "model_module": "@jupyter-widgets/controls",
      "model_module_version": "1.5.0",
      "model_name": "ProgressStyleModel",
      "state": {
       "description_width": ""
      }
     },
     "e8bdc74f121f4414a71ada8b01f8ccae": {
      "model_module": "@jupyter-widgets/controls",
      "model_module_version": "1.5.0",
      "model_name": "DescriptionStyleModel",
      "state": {
       "description_width": ""
      }
     },
     "e953f77ab1db4360b75c0a943c890a72": {
      "model_module": "@jupyter-widgets/base",
      "model_module_version": "1.2.0",
      "model_name": "LayoutModel",
      "state": {}
     },
     "e96e2384a3364f1393e2c4d36147fcea": {
      "model_module": "@jupyter-widgets/base",
      "model_module_version": "1.2.0",
      "model_name": "LayoutModel",
      "state": {}
     },
     "e9abf7da05354e13ba608c891c246467": {
      "model_module": "@jupyter-widgets/controls",
      "model_module_version": "1.5.0",
      "model_name": "ProgressStyleModel",
      "state": {
       "description_width": ""
      }
     },
     "e9df47de86f94c1f852a2250bf721e97": {
      "model_module": "@jupyter-widgets/base",
      "model_module_version": "1.2.0",
      "model_name": "LayoutModel",
      "state": {}
     },
     "e9faf82a3ccf491a9c1dad828291abb2": {
      "model_module": "@jupyter-widgets/controls",
      "model_module_version": "1.5.0",
      "model_name": "HTMLModel",
      "state": {
       "layout": "IPY_MODEL_07537dd7fbdb4c17b22d58fcc4c7a39f",
       "style": "IPY_MODEL_92a5465e8a3e4bc78ec899635fdb240e",
       "value": " 400/400 [08:35&lt;00:00,  1.28s/it]"
      }
     },
     "ea1ea95d9f164b89a28a86fb5f97a242": {
      "model_module": "@jupyter-widgets/controls",
      "model_module_version": "1.5.0",
      "model_name": "FloatProgressModel",
      "state": {
       "bar_style": "success",
       "layout": "IPY_MODEL_bfa4c6e923a448bb94187afe85bb5d77",
       "max": 400,
       "style": "IPY_MODEL_12475bfcd1f14ef3bc7d9ce8e14a88b2",
       "value": 400
      }
     },
     "ea53c86132884b94aacc9d3c5334d12d": {
      "model_module": "@jupyter-widgets/base",
      "model_module_version": "1.2.0",
      "model_name": "LayoutModel",
      "state": {}
     },
     "ea544c1dec0140be9ebad48b827b1221": {
      "model_module": "@jupyter-widgets/controls",
      "model_module_version": "1.5.0",
      "model_name": "HTMLModel",
      "state": {
       "layout": "IPY_MODEL_00d64a46fba446d491880d1789c9d0d2",
       "style": "IPY_MODEL_c22446167fc144eb884fcd31944277ca",
       "value": "100%"
      }
     },
     "eb08469f62224beeb300c60c73a3042f": {
      "model_module": "@jupyter-widgets/controls",
      "model_module_version": "1.5.0",
      "model_name": "DescriptionStyleModel",
      "state": {
       "description_width": ""
      }
     },
     "ecfd6061c356471f8e3a33161d5495c5": {
      "model_module": "@jupyter-widgets/controls",
      "model_module_version": "1.5.0",
      "model_name": "DescriptionStyleModel",
      "state": {
       "description_width": ""
      }
     },
     "ed1aff0dbf8e45c3883c9dbb16f51f69": {
      "model_module": "@jupyter-widgets/controls",
      "model_module_version": "1.5.0",
      "model_name": "DescriptionStyleModel",
      "state": {
       "description_width": ""
      }
     },
     "ed7fceb34b92452c92d96c028e8f954f": {
      "model_module": "@jupyter-widgets/base",
      "model_module_version": "1.2.0",
      "model_name": "LayoutModel",
      "state": {}
     },
     "edc0dca005c54ad196f42c5a17d304b1": {
      "model_module": "@jupyter-widgets/base",
      "model_module_version": "1.2.0",
      "model_name": "LayoutModel",
      "state": {}
     },
     "edf06090ec174ac5b47085d5c1545d8e": {
      "model_module": "@jupyter-widgets/controls",
      "model_module_version": "1.5.0",
      "model_name": "FloatProgressModel",
      "state": {
       "bar_style": "success",
       "layout": "IPY_MODEL_e62538eab35146edbd883b45e8482f2f",
       "max": 400,
       "style": "IPY_MODEL_b7444550827e40a7a643d7aa57e7a594",
       "value": 400
      }
     },
     "ee0a0b21403149e3a8250ebe13f9dd02": {
      "model_module": "@jupyter-widgets/controls",
      "model_module_version": "1.5.0",
      "model_name": "HTMLModel",
      "state": {
       "layout": "IPY_MODEL_895f578eba0648dab3c11b036cd29f9d",
       "style": "IPY_MODEL_aa26c43589ea4c4c8ce7a13b009b1259",
       "value": " 400/400 [08:25&lt;00:00,  1.26s/it]"
      }
     },
     "ee198c2043f74418b399a5dc8179f6aa": {
      "model_module": "@jupyter-widgets/controls",
      "model_module_version": "1.5.0",
      "model_name": "HBoxModel",
      "state": {
       "children": [
        "IPY_MODEL_d00881059f744fb5bc328829bddcd16e",
        "IPY_MODEL_31c37801e65946b19d3acc54529f1f73",
        "IPY_MODEL_cc740aaf1d704430987a2c4ce8ad08df"
       ],
       "layout": "IPY_MODEL_e86d604050d74511a223339db16d699d"
      }
     },
     "ef01802867b740c6a4fad4d9d2ad2aca": {
      "model_module": "@jupyter-widgets/controls",
      "model_module_version": "1.5.0",
      "model_name": "HBoxModel",
      "state": {
       "children": [
        "IPY_MODEL_91b18c84fc6244d893884a356a3863b5",
        "IPY_MODEL_b0870fbe20be41dfaf39c6add906949c",
        "IPY_MODEL_9b714d2750534f168ea359fe9c9753da"
       ],
       "layout": "IPY_MODEL_87a325b5a96340f0a83552e41204913a"
      }
     },
     "ef04d44849e8401d95f264eb1bde178d": {
      "model_module": "@jupyter-widgets/base",
      "model_module_version": "1.2.0",
      "model_name": "LayoutModel",
      "state": {}
     },
     "ef2f0fa920f446f9a6212517a9771b11": {
      "model_module": "@jupyter-widgets/controls",
      "model_module_version": "1.5.0",
      "model_name": "HTMLModel",
      "state": {
       "layout": "IPY_MODEL_34126a606fb6440d9410210ac37bc988",
       "style": "IPY_MODEL_d7b71467baa74b9f8a45297907850260",
       "value": "100%"
      }
     },
     "ef450834a16c4dd0867524f0ccf38565": {
      "model_module": "@jupyter-widgets/base",
      "model_module_version": "1.2.0",
      "model_name": "LayoutModel",
      "state": {}
     },
     "ef9a1640675a4fc8b32d096494baadfa": {
      "model_module": "@jupyter-widgets/controls",
      "model_module_version": "1.5.0",
      "model_name": "DescriptionStyleModel",
      "state": {
       "description_width": ""
      }
     },
     "effafa4d7697483b95f8bf08769069d9": {
      "model_module": "@jupyter-widgets/controls",
      "model_module_version": "1.5.0",
      "model_name": "DescriptionStyleModel",
      "state": {
       "description_width": ""
      }
     },
     "efffddee0ea74820ba85003ea3ff3e44": {
      "model_module": "@jupyter-widgets/base",
      "model_module_version": "1.2.0",
      "model_name": "LayoutModel",
      "state": {}
     },
     "f1172266562c4ed0a4ec0f3f31162134": {
      "model_module": "@jupyter-widgets/controls",
      "model_module_version": "1.5.0",
      "model_name": "DescriptionStyleModel",
      "state": {
       "description_width": ""
      }
     },
     "f121f7724d6245e495c9c7bb98c5369d": {
      "model_module": "@jupyter-widgets/controls",
      "model_module_version": "1.5.0",
      "model_name": "HTMLModel",
      "state": {
       "layout": "IPY_MODEL_1007ea90c6744fca85e1e4962c3adcc6",
       "style": "IPY_MODEL_2c01520ddb864382bfaf2447119cd92c",
       "value": "100%"
      }
     },
     "f174133c25a0481d98bf2a82a351c191": {
      "model_module": "@jupyter-widgets/controls",
      "model_module_version": "1.5.0",
      "model_name": "DescriptionStyleModel",
      "state": {
       "description_width": ""
      }
     },
     "f1a7a4621aa24c348634cdb80487f974": {
      "model_module": "@jupyter-widgets/controls",
      "model_module_version": "1.5.0",
      "model_name": "DescriptionStyleModel",
      "state": {
       "description_width": ""
      }
     },
     "f1b294726bcf4ee182aeb87a5813c1d5": {
      "model_module": "@jupyter-widgets/controls",
      "model_module_version": "1.5.0",
      "model_name": "HTMLModel",
      "state": {
       "layout": "IPY_MODEL_2c8d7da32ca64adcb0d1a774853acf67",
       "style": "IPY_MODEL_eb08469f62224beeb300c60c73a3042f",
       "value": " 400/400 [08:13&lt;00:00,  1.24s/it]"
      }
     },
     "f3043857880e42ab9e8019045caaaf9a": {
      "model_module": "@jupyter-widgets/controls",
      "model_module_version": "1.5.0",
      "model_name": "HBoxModel",
      "state": {
       "children": [
        "IPY_MODEL_d80eb2445de5470780c2ce4356a60c00",
        "IPY_MODEL_6b5d177ddb0144b095ade6c2195be272",
        "IPY_MODEL_46c29acfebcf4927968b1ab40340eb8f"
       ],
       "layout": "IPY_MODEL_a825d4e2571547baa8fa0486bc6b33a9"
      }
     },
     "f33f516f4d54473b8244da9d90beba62": {
      "model_module": "@jupyter-widgets/controls",
      "model_module_version": "1.5.0",
      "model_name": "ProgressStyleModel",
      "state": {
       "description_width": ""
      }
     },
     "f342d7029e28492299aa05ef9b63dc89": {
      "model_module": "@jupyter-widgets/controls",
      "model_module_version": "1.5.0",
      "model_name": "DescriptionStyleModel",
      "state": {
       "description_width": ""
      }
     },
     "f36581a6a7284a49ae528381cb8610ec": {
      "model_module": "@jupyter-widgets/controls",
      "model_module_version": "1.5.0",
      "model_name": "ProgressStyleModel",
      "state": {
       "description_width": ""
      }
     },
     "f39209dac30f414191bae164b7af7268": {
      "model_module": "@jupyter-widgets/controls",
      "model_module_version": "1.5.0",
      "model_name": "ProgressStyleModel",
      "state": {
       "description_width": ""
      }
     },
     "f3f0a9142f3b4d2fada284e712ab22bc": {
      "model_module": "@jupyter-widgets/controls",
      "model_module_version": "1.5.0",
      "model_name": "HTMLModel",
      "state": {
       "layout": "IPY_MODEL_e96e2384a3364f1393e2c4d36147fcea",
       "style": "IPY_MODEL_8f0b1f2fc98d4189b443dbefa8a2dd2b",
       "value": "100%"
      }
     },
     "f4f9119906514a85a500ff5a35bb14cb": {
      "model_module": "@jupyter-widgets/controls",
      "model_module_version": "1.5.0",
      "model_name": "HTMLModel",
      "state": {
       "layout": "IPY_MODEL_8c1cff4fdc214b5aa43cac787af07830",
       "style": "IPY_MODEL_f1a7a4621aa24c348634cdb80487f974",
       "value": " 400/400 [09:16&lt;00:00,  1.40s/it]"
      }
     },
     "f5d01d6fb0dc4199b60bf6cb5c233e34": {
      "model_module": "@jupyter-widgets/controls",
      "model_module_version": "1.5.0",
      "model_name": "HBoxModel",
      "state": {
       "children": [
        "IPY_MODEL_5a1789d75ffe4d8497161d1e12dbfe4a",
        "IPY_MODEL_9c98410d99144a4bb7c32ab5b95a60d8",
        "IPY_MODEL_d42df66cdd4c47708557ded196a3707d"
       ],
       "layout": "IPY_MODEL_ad3655559cbd48d1857dc3920a26fa0b"
      }
     },
     "f5ee8df905fe4a76854eee17edb1ff0f": {
      "model_module": "@jupyter-widgets/controls",
      "model_module_version": "1.5.0",
      "model_name": "HTMLModel",
      "state": {
       "layout": "IPY_MODEL_3ec772a4f77a4902aa8b8ca7f920a90d",
       "style": "IPY_MODEL_de7c353b6014454a935e58824e938543",
       "value": "100%"
      }
     },
     "f61d6a3bb37a4f7b951d4a6e289195a3": {
      "model_module": "@jupyter-widgets/controls",
      "model_module_version": "1.5.0",
      "model_name": "FloatProgressModel",
      "state": {
       "bar_style": "success",
       "layout": "IPY_MODEL_1aeb942823fa40ce9768819e52886e42",
       "max": 400,
       "style": "IPY_MODEL_79d0d260f88142db93a0f8e0f3a672e1",
       "value": 400
      }
     },
     "f7ac0f22dc5b4eedadf2554e928feb55": {
      "model_module": "@jupyter-widgets/base",
      "model_module_version": "1.2.0",
      "model_name": "LayoutModel",
      "state": {}
     },
     "f806e200e1ba4d128c7717155b904fbc": {
      "model_module": "@jupyter-widgets/base",
      "model_module_version": "1.2.0",
      "model_name": "LayoutModel",
      "state": {}
     },
     "f82c3c45b7704ea498d647bc88ee173f": {
      "model_module": "@jupyter-widgets/controls",
      "model_module_version": "1.5.0",
      "model_name": "HTMLModel",
      "state": {
       "layout": "IPY_MODEL_347d22411bc6450681cc6b22e1b5e7fa",
       "style": "IPY_MODEL_fc2c343ec45c4e7cad736fd0ba009543",
       "value": "100%"
      }
     },
     "f8fbee642a68469f9c49e020f38e038e": {
      "model_module": "@jupyter-widgets/controls",
      "model_module_version": "1.5.0",
      "model_name": "HTMLModel",
      "state": {
       "layout": "IPY_MODEL_5938a03b45974df6bc55b0840415ea4d",
       "style": "IPY_MODEL_c76388b5799441278a0d2e434eb4b87b",
       "value": "100%"
      }
     },
     "f90a22dae90b4ea99ecf5ff3a8f3669a": {
      "model_module": "@jupyter-widgets/base",
      "model_module_version": "1.2.0",
      "model_name": "LayoutModel",
      "state": {}
     },
     "f97e8a3b87444caeb5fcb730a8647e00": {
      "model_module": "@jupyter-widgets/base",
      "model_module_version": "1.2.0",
      "model_name": "LayoutModel",
      "state": {}
     },
     "fa4746d3838d4c5c818c99fe6ea3a9b4": {
      "model_module": "@jupyter-widgets/controls",
      "model_module_version": "1.5.0",
      "model_name": "DescriptionStyleModel",
      "state": {
       "description_width": ""
      }
     },
     "fb2a38a0042b451f9e6227da3be1d495": {
      "model_module": "@jupyter-widgets/controls",
      "model_module_version": "1.5.0",
      "model_name": "FloatProgressModel",
      "state": {
       "bar_style": "success",
       "layout": "IPY_MODEL_3711d62ca06146afb81dd476483ec60e",
       "max": 400,
       "style": "IPY_MODEL_bb7f4f31913a4d37bb31e72378d88c21",
       "value": 400
      }
     },
     "fb674acc09a64815acae5ce1e231ab6c": {
      "model_module": "@jupyter-widgets/controls",
      "model_module_version": "1.5.0",
      "model_name": "HBoxModel",
      "state": {
       "children": [
        "IPY_MODEL_db6c527954864b05b42fc3056e0b7061",
        "IPY_MODEL_adb41209df7046df8edc62f78f257d5e",
        "IPY_MODEL_441240af943043dfa937809237db1295"
       ],
       "layout": "IPY_MODEL_aa11b165c5f04d66ace0a1b58d372341"
      }
     },
     "fb71a2bcb4374bf0bd8364fe5ffaf31b": {
      "model_module": "@jupyter-widgets/base",
      "model_module_version": "1.2.0",
      "model_name": "LayoutModel",
      "state": {}
     },
     "fc19f11af9a1493fa00561f979b8ce14": {
      "model_module": "@jupyter-widgets/controls",
      "model_module_version": "1.5.0",
      "model_name": "DescriptionStyleModel",
      "state": {
       "description_width": ""
      }
     },
     "fc2c343ec45c4e7cad736fd0ba009543": {
      "model_module": "@jupyter-widgets/controls",
      "model_module_version": "1.5.0",
      "model_name": "DescriptionStyleModel",
      "state": {
       "description_width": ""
      }
     },
     "fc44bdef5c184921ab5a2102182fa0e9": {
      "model_module": "@jupyter-widgets/controls",
      "model_module_version": "1.5.0",
      "model_name": "HBoxModel",
      "state": {
       "children": [
        "IPY_MODEL_f8fbee642a68469f9c49e020f38e038e",
        "IPY_MODEL_e6d9ba2ed0f64a8db193177586246846",
        "IPY_MODEL_e9faf82a3ccf491a9c1dad828291abb2"
       ],
       "layout": "IPY_MODEL_a5dd9b5d6a884178a67bdc57e5cbd381"
      }
     },
     "fcf1c4f5248f42c8b50840055534f514": {
      "model_module": "@jupyter-widgets/base",
      "model_module_version": "1.2.0",
      "model_name": "LayoutModel",
      "state": {}
     },
     "fd919110303f4ad6891cc42b0ee4d7b1": {
      "model_module": "@jupyter-widgets/controls",
      "model_module_version": "1.5.0",
      "model_name": "ProgressStyleModel",
      "state": {
       "description_width": ""
      }
     },
     "febf03a5cdcd49eab06ff43984fdf8cb": {
      "model_module": "@jupyter-widgets/base",
      "model_module_version": "1.2.0",
      "model_name": "LayoutModel",
      "state": {}
     },
     "ff78f4c95c78414dadbd1c3a3a3187aa": {
      "model_module": "@jupyter-widgets/controls",
      "model_module_version": "1.5.0",
      "model_name": "DescriptionStyleModel",
      "state": {
       "description_width": ""
      }
     },
     "ff78f95249784475bd3cea2f9314762a": {
      "model_module": "@jupyter-widgets/controls",
      "model_module_version": "1.5.0",
      "model_name": "HBoxModel",
      "state": {
       "children": [
        "IPY_MODEL_715d05dd183e4f38ac083f6f6d62d46c",
        "IPY_MODEL_843e22a76bc74fd9a7e1760b644f47c2",
        "IPY_MODEL_f4f9119906514a85a500ff5a35bb14cb"
       ],
       "layout": "IPY_MODEL_18e4758c962e4e32a60cbf68e497a8a3"
      }
     }
    },
    "version_major": 2,
    "version_minor": 0
   }
  }
 },
 "nbformat": 4,
 "nbformat_minor": 4
}
