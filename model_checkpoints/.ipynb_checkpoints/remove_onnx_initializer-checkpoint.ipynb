{
 "cells": [
  {
   "cell_type": "markdown",
   "id": "f7938f0f-3aa6-4ef5-9ac7-d925e2f70003",
   "metadata": {},
   "source": [
    "This notebook is to be used to rewrite the onnx model file without the initializer. We do this to avoid annoying warnings during inference."
   ]
  },
  {
   "cell_type": "code",
   "execution_count": 1,
   "id": "624e4d3e-edec-4d8e-9b6e-1cabce8b6900",
   "metadata": {},
   "outputs": [],
   "source": [
    "import onnx\n",
    "import os\n",
    "\n",
    "c_dir = os.getcwd()\n",
    "model_name = \"supersmall400e\"\n",
    "\n",
    "def remove_initializer_from_input():\n",
    "\n",
    "    model = onnx.load(model_name+\".onnx\")\n",
    "    if model.ir_version < 4:\n",
    "        print(\"Model with ir_version below 4 requires to include initilizer in graph input\")\n",
    "        return\n",
    "\n",
    "    inputs = model.graph.input\n",
    "    name_to_input = {}\n",
    "    for input in inputs:\n",
    "        name_to_input[input.name] = input\n",
    "\n",
    "    for initializer in model.graph.initializer:\n",
    "        if initializer.name in name_to_input:\n",
    "            inputs.remove(name_to_input[initializer.name])\n",
    "    out_path = os.path.join(c_dir, model_name+\"_noinit.onnx\")\n",
    "    onnx.save(model, out_path)\n",
    "\n",
    "\n",
    "\n",
    "remove_initializer_from_input()"
   ]
  }
 ],
 "metadata": {
  "kernelspec": {
   "display_name": "Python 3",
   "language": "python",
   "name": "python3"
  },
  "language_info": {
   "codemirror_mode": {
    "name": "ipython",
    "version": 3
   },
   "file_extension": ".py",
   "mimetype": "text/x-python",
   "name": "python",
   "nbconvert_exporter": "python",
   "pygments_lexer": "ipython3",
   "version": "3.9.12"
  },
  "widgets": {
   "application/vnd.jupyter.widget-state+json": {
    "state": {},
    "version_major": 2,
    "version_minor": 0
   }
  }
 },
 "nbformat": 4,
 "nbformat_minor": 5
}
