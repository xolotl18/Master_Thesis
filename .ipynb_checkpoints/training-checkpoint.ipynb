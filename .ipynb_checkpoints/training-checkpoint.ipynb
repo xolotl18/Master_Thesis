{
 "cells": [
  {
   "cell_type": "markdown",
   "metadata": {
    "colab_type": "text",
    "id": "view-in-github"
   },
   "source": [
    "<a href=\"https://colab.research.google.com/github/xolotl18/Master_Thesis/blob/main/training.ipynb\" target=\"_parent\"><img src=\"https://colab.research.google.com/assets/colab-badge.svg\" alt=\"Open In Colab\"/></a>"
   ]
  },
  {
   "cell_type": "markdown",
   "metadata": {
    "id": "Q0h5Lhdc8pCj"
   },
   "source": [
    "# Semantic Segmentation with FastSCNN"
   ]
  },
  {
   "cell_type": "markdown",
   "metadata": {
    "id": "3B_C0udn81Wl"
   },
   "source": [
    "The purpose of this model is to train the network on the train dataset and then export the model in onnx format and also save the state_dict of the pytorch model for later inference"
   ]
  },
  {
   "cell_type": "markdown",
   "metadata": {
    "id": "FkJXo9Fe8xaZ",
    "jp-MarkdownHeadingCollapsed": true,
    "tags": []
   },
   "source": [
    "## Installation of libraries for Google  Colab"
   ]
  },
  {
   "cell_type": "markdown",
   "metadata": {},
   "source": [
    "**Do not run this cell outside of Google Colaboratory**"
   ]
  },
  {
   "cell_type": "code",
   "execution_count": null,
   "metadata": {
    "colab": {
     "base_uri": "https://localhost:8080/"
    },
    "id": "MsUVejuD8NE4",
    "outputId": "259b9f11-9def-482c-aaff-65b76d14c9ff"
   },
   "outputs": [],
   "source": [
    "!pip3 install -q -U albumentations\n",
    "!echo \"$(pip freeze | grep albumentations) is successfully installed\"\n",
    "!pip uninstall opencv-python-headless==4.5.5.62\n",
    "!pip install opencv-python-headless==4.5.2.52\n",
    "!pip install torchmetrics\n",
    "!pip install torch==1.8.0+cu111 torchvision==0.9.0+cu111 torchaudio==0.8.0 -f https://download.pytorch.org/whl/torch_stable.html\n",
    "!git clone https://github.com/xolotl18/Master_Thesis\n",
    "!pip install onnx\n",
    "!pip install onnxruntime"
   ]
  },
  {
   "cell_type": "markdown",
   "metadata": {
    "id": "ToEHpxrS9YrK"
   },
   "source": [
    "## Imports"
   ]
  },
  {
   "cell_type": "code",
   "execution_count": 1,
   "metadata": {
    "id": "DNzYJzDG8oTS"
   },
   "outputs": [],
   "source": [
    "import copy\n",
    "import random\n",
    "import os\n",
    "import sys\n",
    "import shutil\n",
    "from urllib.request import urlretrieve\n",
    "\n",
    "import albumentations as A\n",
    "import albumentations.augmentations.functional as F\n",
    "from albumentations.pytorch import ToTensorV2\n",
    "import cv2\n",
    "import matplotlib.pyplot as plt\n",
    "import numpy as np\n",
    "from tqdm.notebook import tqdm\n",
    "import torch\n",
    "import torch.backends.cudnn as cudnn\n",
    "import torch.nn as nn\n",
    "import torch.optim\n",
    "from torch.utils.data import Dataset, DataLoader\n",
    "from torchmetrics import JaccardIndex\n",
    "from statistics import mean\n",
    "import torchvision.transforms as T\n",
    "import torch.onnx\n",
    "import onnx\n",
    "import onnxruntime\n",
    "from torchsummary import summary\n",
    "\n",
    "\n",
    "from utils.lr_scheduler import PolynomialLRDecay\n",
    "from models.fast_scnn import FastSCNN\n",
    "from models.small_scnn import SmallSCNN\n",
    "from models.super_small_scnn import SuperSmallSCNN\n",
    "from models.experiments.fast_scnn_mod import FastSCNN as fastscnn_mod\n",
    "from models.experiments.fast_scnn_a075t6 import FastSCNN as fast_a075t6\n",
    "from models.experiments.fast_scnn_a05t6 import FastSCNN as fast_a05t6\n",
    "from models.experiments.fast_scnn_a05t4 import FastSCNN as fast_a05t4\n",
    "from models.experiments.fast_scnn_a025t6 import FastSCNN as fast_a025t6\n",
    "from models.experiments.fast_scnn_a025t4 import FastSCNN as fast_a025t4\n",
    "from models.experiments.fast_scnn_a025t2 import FastSCNN as fast_a025t2\n",
    "from models.experiments.fast_scnn_a0125t2 import FastSCNN as fast_a0125t2\n",
    "from models.experiments.fast_scnn_a025t2r1pp0 import FastSCNN as fast_a025t2r1pp0\n",
    "from models.experiments.fast_scnn_a0125t2r1pp0 import FastSCNN as fast_a0125t2r1pp0\n",
    "from models.experiments.fast_scnn_r3pp0 import FastSCNN as fast_r3pp0\n",
    "from models.experiments.fast_scnn_r2pp1 import FastSCNN as fast_r2pp1\n",
    "from models.experiments.fast_scnn_r1pp1 import FastSCNN as fast_r1pp1\n",
    "from models.experiments.fast_scnn_r1pp0 import FastSCNN as fast_r1pp0\n",
    "from models.bisenetv2 import BiSeNetV2\n",
    "from utils.dataset import PackagesDataset, PackagesInferenceDataset\n",
    "from utils.evaluation import Evaluate\n",
    "cudnn.benchmark = True"
   ]
  },
  {
   "cell_type": "markdown",
   "metadata": {
    "id": "3ly8xqG0BpMa"
   },
   "source": [
    "## Load image and label files into Dataset objects"
   ]
  },
  {
   "cell_type": "markdown",
   "metadata": {
    "id": "o8zTRzUcB26B"
   },
   "source": [
    "The dataset has already been divided into train, validation and test folders in the notebook **Desktop/Master_Thesis/preparation/dataset_traintest_split.ipynb**"
   ]
  },
  {
   "cell_type": "code",
   "execution_count": 2,
   "metadata": {
    "colab": {
     "base_uri": "https://localhost:8080/"
    },
    "id": "Ht_TfMCX_YPU",
    "outputId": "90574f95-389a-4d0e-b9bb-087f6ee935ff"
   },
   "outputs": [
    {
     "name": "stdout",
     "output_type": "stream",
     "text": [
      "The size of the train set is : 300\n",
      "\n",
      "The size of the validation set is : 40\n",
      "\n",
      "The size of the test set is : 60\n",
      "\n"
     ]
    }
   ],
   "source": [
    "c_dir = os.getcwd()\n",
    "dataset_directory = os.path.join(c_dir, \"full_dataset\")\n",
    "\n",
    "train_images_directory = os.path.join(dataset_directory, \"train/images\")\n",
    "train_masks_directory = os.path.join(dataset_directory, \"train/labels\")\n",
    "val_images_directory = os.path.join(dataset_directory, \"val/images\")\n",
    "val_masks_directory = os.path.join(dataset_directory, \"val/labels\")\n",
    "test_images_directory = os.path.join(dataset_directory, \"test/images\")\n",
    "test_masks_directory = os.path.join(dataset_directory, \"test/labels\")\n",
    "\n",
    "#make sure that image_filenames only contains png files\n",
    "train_images_filenames = []\n",
    "train_images_filenames = [ item for item in os.listdir(train_images_directory) if item.endswith(\".png\") ]\n",
    "val_images_filenames = []\n",
    "val_images_filenames = [ item for item in os.listdir(val_images_directory) if item.endswith(\".png\") ]\n",
    "test_images_filenames = []\n",
    "test_images_filenames = [ item for item in os.listdir(test_images_directory) if item.endswith(\".png\") ]\n",
    "\n",
    "for names_list, split in zip((train_images_filenames, val_images_filenames, test_images_filenames), ('train', 'validation', 'test')):\n",
    "  print(f\"The size of the {split} set is : {len(names_list)}\")\n",
    "  print()"
   ]
  },
  {
   "cell_type": "markdown",
   "metadata": {
    "id": "HmSe1l8wDIgh"
   },
   "source": [
    "Select the transformations and create the Dataset objects. \n",
    "\n",
    "The test dataset is different from train and validation because it does not crop the image but applies a resize that will be reversed after the inference."
   ]
  },
  {
   "cell_type": "code",
   "execution_count": 3,
   "metadata": {
    "id": "u0mkcqVHA197"
   },
   "outputs": [],
   "source": [
    "train_transform = A.Compose(\n",
    "    [\n",
    "        A.PadIfNeeded(min_height=512, min_width=512),\n",
    "        A.RandomCrop(512, 512),\n",
    "        A.ShiftScaleRotate(shift_limit=0.05, scale_limit=0.05, rotate_limit=15, p=0.5),\n",
    "        A.RGBShift(r_shift_limit=15, g_shift_limit=15, b_shift_limit=15, p=0.3),\n",
    "        A.RandomBrightnessContrast(p=0.3),\n",
    "        A.Normalize(mean=(0.485, 0.456, 0.406), std=(0.229, 0.224, 0.225)),\n",
    "        ToTensorV2(),\n",
    "    ]\n",
    ")\n",
    "val_transform = A.Compose(\n",
    "    [\n",
    "        A.PadIfNeeded(min_height=512, min_width=512),\n",
    "        A.CenterCrop(512, 512),\n",
    "        A.Normalize(mean=(0.485, 0.456, 0.406), std=(0.229, 0.224, 0.225)),\n",
    "        ToTensorV2(),\n",
    "    ]\n",
    ")\n",
    "test_transform = A.Compose(\n",
    "    [\n",
    "        A.Resize(512, 512),\n",
    "        A.Normalize(mean=(0.485, 0.456, 0.406), std=(0.229, 0.224, 0.225)),\n",
    "        ToTensorV2(),\n",
    "    ]\n",
    ")\n",
    "\n",
    "train_dataset = PackagesDataset(train_images_filenames, train_images_directory, train_masks_directory, transform=train_transform,)\n",
    "val_dataset = PackagesDataset(val_images_filenames, val_images_directory, val_masks_directory, transform=val_transform,)\n",
    "test_dataset = PackagesInferenceDataset(test_images_filenames, test_images_directory, test_masks_directory, transform=test_transform,)"
   ]
  },
  {
   "cell_type": "markdown",
   "metadata": {
    "id": "5NMVGrX6FKCi"
   },
   "source": [
    "## Training the model"
   ]
  },
  {
   "cell_type": "code",
   "execution_count": 4,
   "metadata": {
    "id": "DeDfSTgaFytR"
   },
   "outputs": [
    {
     "name": "stdout",
     "output_type": "stream",
     "text": [
      "The device is : cuda\n"
     ]
    }
   ],
   "source": [
    "if torch.cuda.is_available():\n",
    "  device = \"cuda\"\n",
    "else:\n",
    "  device = \"cpu\"\n",
    "\n",
    "params = {\n",
    "    \"device\" : device,\n",
    "    \"lr\" : 0.01,\n",
    "    \"batch_size\" : 8,\n",
    "    \"num_workers\" : 4,\n",
    "    \"epochs\" : 40,\n",
    "}\n",
    "print(f\"The device is : {device}\")"
   ]
  },
  {
   "cell_type": "code",
   "execution_count": 5,
   "metadata": {
    "id": "GeVIeZ9GDdu9"
   },
   "outputs": [],
   "source": [
    "def train(train_loader, model, criterion, optimizer, scheduler, epoch, params):\n",
    "    model.train()\n",
    "    running_loss = 0.0\n",
    "    stream = tqdm(train_loader)\n",
    "    for i, data in enumerate(stream, 1):\n",
    "        optimizer.zero_grad()\n",
    "\n",
    "        images, targets = data\n",
    "        images = images.to(params[\"device\"], non_blocking=True)\n",
    "        targets = targets.to(params[\"device\"], non_blocking=True)\n",
    "\n",
    "        outputs = model(images)\n",
    "        targets = torch.unsqueeze(targets, 1)\n",
    "\n",
    "        loss = criterion(outputs, targets)\n",
    "        loss.backward()\n",
    "        optimizer.step()\n",
    "        scheduler.step(epoch)\n",
    "        running_loss += loss.item()*images.size(0)\n",
    "        stream.set_description(\n",
    "            \"Epoch: {epoch}. Train.    {loss:.5f}\".format(epoch=epoch, loss=running_loss)\n",
    "        )\n",
    "\n",
    "def validate(val_loader, model, criterion, epoch, params):\n",
    "    model.eval()\n",
    "    running_loss=0.0\n",
    "    stream = tqdm(val_loader)\n",
    "    with torch.no_grad():\n",
    "        for i, data in enumerate(stream, start=1):\n",
    "                images, targets = data\n",
    "                images = images.to(params[\"device\"], non_blocking=True)\n",
    "                targets = targets.to(params[\"device\"], non_blocking=True)\n",
    "                output = model(images).squeeze(1)\n",
    "                loss = criterion(output, targets)\n",
    "                running_loss += loss.item()*images.size(0)\n",
    "                stream.set_description(\n",
    "                    \"Epoch: {epoch}. Validation. {loss:.5f}\".format(epoch=epoch, loss=running_loss)\n",
    "                )\n",
    "    return running_loss"
   ]
  },
  {
   "cell_type": "code",
   "execution_count": null,
   "metadata": {},
   "outputs": [],
   "source": [
    "bisenet = BiSeNetV2(n_classes=1).to(params[\"device\"])"
   ]
  },
  {
   "cell_type": "code",
   "execution_count": null,
   "metadata": {
    "id": "2P-yoW1YFYYe"
   },
   "outputs": [],
   "source": [
    "fastscnn = FastSCNN(in_channels=3, num_classes=1).to(params[\"device\"])"
   ]
  },
  {
   "cell_type": "code",
   "execution_count": null,
   "metadata": {},
   "outputs": [],
   "source": [
    "model = SmallSCNN(in_channels=3, num_classes=1).to(params[\"device\"])"
   ]
  },
  {
   "cell_type": "code",
   "execution_count": null,
   "metadata": {},
   "outputs": [],
   "source": [
    "model = SuperSmallSCNN(in_channels=3, num_classes=1).to(params[\"device\"])"
   ]
  },
  {
   "cell_type": "code",
   "execution_count": null,
   "metadata": {},
   "outputs": [],
   "source": [
    "model = fast_a075t6(in_channels=3, num_classes=1).to(params[\"device\"])"
   ]
  },
  {
   "cell_type": "code",
   "execution_count": null,
   "metadata": {},
   "outputs": [],
   "source": [
    "model = fast_a05t6(in_channels=3, num_classes=1).to(params[\"device\"])"
   ]
  },
  {
   "cell_type": "code",
   "execution_count": null,
   "metadata": {},
   "outputs": [],
   "source": [
    "model = fast_a05t4(in_channels=3, num_classes=1).to(params[\"device\"])"
   ]
  },
  {
   "cell_type": "code",
   "execution_count": null,
   "metadata": {},
   "outputs": [],
   "source": [
    "model = fast_a025t6(in_channels=3, num_classes=1).to(params[\"device\"])"
   ]
  },
  {
   "cell_type": "code",
   "execution_count": null,
   "metadata": {},
   "outputs": [],
   "source": [
    "model = fast_a025t4(in_channels=3, num_classes=1).to(params[\"device\"])"
   ]
  },
  {
   "cell_type": "code",
   "execution_count": null,
   "metadata": {},
   "outputs": [],
   "source": [
    "model = fast_a025t2(in_channels=3, num_classes=1).to(params[\"device\"])"
   ]
  },
  {
   "cell_type": "code",
   "execution_count": null,
   "metadata": {},
   "outputs": [],
   "source": [
    "model = fast_a0125t2(in_channels=3, num_classes=1).to(params[\"device\"])"
   ]
  },
  {
   "cell_type": "code",
   "execution_count": null,
   "metadata": {},
   "outputs": [],
   "source": [
    "model = fast_r3pp0(in_channels=3, num_classes=1).to(params[\"device\"])"
   ]
  },
  {
   "cell_type": "code",
   "execution_count": null,
   "metadata": {},
   "outputs": [],
   "source": [
    "model = fast_r2pp1(in_channels=3, num_classes=1).to(params[\"device\"])"
   ]
  },
  {
   "cell_type": "code",
   "execution_count": null,
   "metadata": {},
   "outputs": [],
   "source": [
    "model = fast_r1pp1(in_channels=3, num_classes=1).to(params[\"device\"])"
   ]
  },
  {
   "cell_type": "code",
   "execution_count": null,
   "metadata": {},
   "outputs": [],
   "source": [
    "model = fast_r1pp0(in_channels=3, num_classes=1).to(params[\"device\"])"
   ]
  },
  {
   "cell_type": "code",
   "execution_count": null,
   "metadata": {},
   "outputs": [],
   "source": [
    "model = fast_a025t2r1pp0(in_channels=3, num_classes=1).to(params[\"device\"])"
   ]
  },
  {
   "cell_type": "code",
   "execution_count": null,
   "metadata": {},
   "outputs": [],
   "source": [
    "model = fast_a0125t2r1pp0(in_channels=3, num_classes=1).to(params[\"device\"])"
   ]
  },
  {
   "cell_type": "code",
   "execution_count": 9,
   "metadata": {},
   "outputs": [
    {
     "name": "stdout",
     "output_type": "stream",
     "text": [
      "The model has been initialized with parameters:\n",
      "\t Width multiplier a =  0.75\n",
      "\t Bottleneck expansion rate t =  4\n",
      "\t Bottleneck block repetition r =  2\n",
      "\t Presence of Pyramid Pooling module pp =  False\n"
     ]
    }
   ],
   "source": [
    "model = fastscnn_mod(in_channels=3, num_classes=1, a=0.75, t=4, r=2, pp=False).to(params[\"device\"])"
   ]
  },
  {
   "cell_type": "code",
   "execution_count": null,
   "metadata": {},
   "outputs": [],
   "source": [
    "input_size = (3, 512, 512)"
   ]
  },
  {
   "cell_type": "code",
   "execution_count": 10,
   "metadata": {
    "colab": {
     "base_uri": "https://localhost:8080/"
    },
    "id": "JvrlSo3GFcoE",
    "outputId": "1549c8ab-f78f-473b-84b5-854632043ae1"
   },
   "outputs": [
    {
     "data": {
      "application/vnd.jupyter.widget-view+json": {
       "model_id": "0b4b0688b31143188d06f24d04084615",
       "version_major": 2,
       "version_minor": 0
      },
      "text/plain": [
       "  0%|          | 0/38 [00:00<?, ?it/s]"
      ]
     },
     "metadata": {},
     "output_type": "display_data"
    },
    {
     "data": {
      "application/vnd.jupyter.widget-view+json": {
       "model_id": "99a06cadbb3545afa30f03763465edd9",
       "version_major": 2,
       "version_minor": 0
      },
      "text/plain": [
       "  0%|          | 0/5 [00:00<?, ?it/s]"
      ]
     },
     "metadata": {},
     "output_type": "display_data"
    },
    {
     "name": "stdout",
     "output_type": "stream",
     "text": [
      "new best model\n"
     ]
    },
    {
     "data": {
      "application/vnd.jupyter.widget-view+json": {
       "model_id": "f87729fe63e74dc9b58f3753321ffd35",
       "version_major": 2,
       "version_minor": 0
      },
      "text/plain": [
       "  0%|          | 0/38 [00:00<?, ?it/s]"
      ]
     },
     "metadata": {},
     "output_type": "display_data"
    },
    {
     "data": {
      "application/vnd.jupyter.widget-view+json": {
       "model_id": "88fe365381bb4ed1a2fc53a7383b286d",
       "version_major": 2,
       "version_minor": 0
      },
      "text/plain": [
       "  0%|          | 0/5 [00:00<?, ?it/s]"
      ]
     },
     "metadata": {},
     "output_type": "display_data"
    },
    {
     "name": "stdout",
     "output_type": "stream",
     "text": [
      "new best model\n"
     ]
    },
    {
     "data": {
      "application/vnd.jupyter.widget-view+json": {
       "model_id": "35b16c4d37344a51ba603ee2e29259d0",
       "version_major": 2,
       "version_minor": 0
      },
      "text/plain": [
       "  0%|          | 0/38 [00:00<?, ?it/s]"
      ]
     },
     "metadata": {},
     "output_type": "display_data"
    },
    {
     "data": {
      "application/vnd.jupyter.widget-view+json": {
       "model_id": "b44e89dca4404239b1afebca686c8b49",
       "version_major": 2,
       "version_minor": 0
      },
      "text/plain": [
       "  0%|          | 0/5 [00:00<?, ?it/s]"
      ]
     },
     "metadata": {},
     "output_type": "display_data"
    },
    {
     "name": "stdout",
     "output_type": "stream",
     "text": [
      "new best model\n"
     ]
    },
    {
     "data": {
      "application/vnd.jupyter.widget-view+json": {
       "model_id": "0dab3cd04e8c42c7b694318a790cc469",
       "version_major": 2,
       "version_minor": 0
      },
      "text/plain": [
       "  0%|          | 0/38 [00:00<?, ?it/s]"
      ]
     },
     "metadata": {},
     "output_type": "display_data"
    },
    {
     "data": {
      "application/vnd.jupyter.widget-view+json": {
       "model_id": "34b6d507b9d041978904de7585992587",
       "version_major": 2,
       "version_minor": 0
      },
      "text/plain": [
       "  0%|          | 0/5 [00:00<?, ?it/s]"
      ]
     },
     "metadata": {},
     "output_type": "display_data"
    },
    {
     "name": "stdout",
     "output_type": "stream",
     "text": [
      "new best model\n"
     ]
    },
    {
     "data": {
      "application/vnd.jupyter.widget-view+json": {
       "model_id": "747d3e4bedc64bf79f6b4b06785bed02",
       "version_major": 2,
       "version_minor": 0
      },
      "text/plain": [
       "  0%|          | 0/38 [00:00<?, ?it/s]"
      ]
     },
     "metadata": {},
     "output_type": "display_data"
    },
    {
     "data": {
      "application/vnd.jupyter.widget-view+json": {
       "model_id": "69eadf0632a642f38ccf6e62f8c3cb62",
       "version_major": 2,
       "version_minor": 0
      },
      "text/plain": [
       "  0%|          | 0/5 [00:00<?, ?it/s]"
      ]
     },
     "metadata": {},
     "output_type": "display_data"
    },
    {
     "data": {
      "application/vnd.jupyter.widget-view+json": {
       "model_id": "34c3afd0e1ea45cda5b5a4632a2e2536",
       "version_major": 2,
       "version_minor": 0
      },
      "text/plain": [
       "  0%|          | 0/38 [00:00<?, ?it/s]"
      ]
     },
     "metadata": {},
     "output_type": "display_data"
    },
    {
     "data": {
      "application/vnd.jupyter.widget-view+json": {
       "model_id": "36f1ed3894a14f0fa19cdfc6d197c8f8",
       "version_major": 2,
       "version_minor": 0
      },
      "text/plain": [
       "  0%|          | 0/5 [00:00<?, ?it/s]"
      ]
     },
     "metadata": {},
     "output_type": "display_data"
    },
    {
     "name": "stdout",
     "output_type": "stream",
     "text": [
      "new best model\n"
     ]
    },
    {
     "data": {
      "application/vnd.jupyter.widget-view+json": {
       "model_id": "5736a76986124ac38ba75fe62a032882",
       "version_major": 2,
       "version_minor": 0
      },
      "text/plain": [
       "  0%|          | 0/38 [00:00<?, ?it/s]"
      ]
     },
     "metadata": {},
     "output_type": "display_data"
    },
    {
     "data": {
      "application/vnd.jupyter.widget-view+json": {
       "model_id": "cd642b0d17ec4a12be2de7bc1b70de43",
       "version_major": 2,
       "version_minor": 0
      },
      "text/plain": [
       "  0%|          | 0/5 [00:00<?, ?it/s]"
      ]
     },
     "metadata": {},
     "output_type": "display_data"
    },
    {
     "name": "stdout",
     "output_type": "stream",
     "text": [
      "new best model\n"
     ]
    },
    {
     "data": {
      "application/vnd.jupyter.widget-view+json": {
       "model_id": "7aca56084b524872980087c49e97c399",
       "version_major": 2,
       "version_minor": 0
      },
      "text/plain": [
       "  0%|          | 0/38 [00:00<?, ?it/s]"
      ]
     },
     "metadata": {},
     "output_type": "display_data"
    },
    {
     "data": {
      "application/vnd.jupyter.widget-view+json": {
       "model_id": "a5178e5a1f7041ca867842bb8afb0fcd",
       "version_major": 2,
       "version_minor": 0
      },
      "text/plain": [
       "  0%|          | 0/5 [00:00<?, ?it/s]"
      ]
     },
     "metadata": {},
     "output_type": "display_data"
    },
    {
     "data": {
      "application/vnd.jupyter.widget-view+json": {
       "model_id": "e14e81405e1f432ea3c2c1696af966f6",
       "version_major": 2,
       "version_minor": 0
      },
      "text/plain": [
       "  0%|          | 0/38 [00:00<?, ?it/s]"
      ]
     },
     "metadata": {},
     "output_type": "display_data"
    },
    {
     "data": {
      "application/vnd.jupyter.widget-view+json": {
       "model_id": "b09d086d8cda42bab696cedc16469676",
       "version_major": 2,
       "version_minor": 0
      },
      "text/plain": [
       "  0%|          | 0/5 [00:00<?, ?it/s]"
      ]
     },
     "metadata": {},
     "output_type": "display_data"
    },
    {
     "data": {
      "application/vnd.jupyter.widget-view+json": {
       "model_id": "7c7a6070583c49829b4025662b45ffe2",
       "version_major": 2,
       "version_minor": 0
      },
      "text/plain": [
       "  0%|          | 0/38 [00:00<?, ?it/s]"
      ]
     },
     "metadata": {},
     "output_type": "display_data"
    },
    {
     "data": {
      "application/vnd.jupyter.widget-view+json": {
       "model_id": "1e2e62b954ff4a239b8b34f59bdea066",
       "version_major": 2,
       "version_minor": 0
      },
      "text/plain": [
       "  0%|          | 0/5 [00:00<?, ?it/s]"
      ]
     },
     "metadata": {},
     "output_type": "display_data"
    },
    {
     "name": "stdout",
     "output_type": "stream",
     "text": [
      "new best model\n"
     ]
    },
    {
     "data": {
      "application/vnd.jupyter.widget-view+json": {
       "model_id": "8dcb7e30d02a4cdfac8b6ea79a260311",
       "version_major": 2,
       "version_minor": 0
      },
      "text/plain": [
       "  0%|          | 0/38 [00:00<?, ?it/s]"
      ]
     },
     "metadata": {},
     "output_type": "display_data"
    },
    {
     "data": {
      "application/vnd.jupyter.widget-view+json": {
       "model_id": "0c748c5f5cd6405abd8a6580c11f6ed5",
       "version_major": 2,
       "version_minor": 0
      },
      "text/plain": [
       "  0%|          | 0/5 [00:00<?, ?it/s]"
      ]
     },
     "metadata": {},
     "output_type": "display_data"
    },
    {
     "name": "stdout",
     "output_type": "stream",
     "text": [
      "new best model\n"
     ]
    },
    {
     "data": {
      "application/vnd.jupyter.widget-view+json": {
       "model_id": "b18a831cffe243588184ca52608da4c9",
       "version_major": 2,
       "version_minor": 0
      },
      "text/plain": [
       "  0%|          | 0/38 [00:00<?, ?it/s]"
      ]
     },
     "metadata": {},
     "output_type": "display_data"
    },
    {
     "data": {
      "application/vnd.jupyter.widget-view+json": {
       "model_id": "5c3a35685449423c81b624d8064530a6",
       "version_major": 2,
       "version_minor": 0
      },
      "text/plain": [
       "  0%|          | 0/5 [00:00<?, ?it/s]"
      ]
     },
     "metadata": {},
     "output_type": "display_data"
    },
    {
     "data": {
      "application/vnd.jupyter.widget-view+json": {
       "model_id": "e240458409c044d1a48906583bab13aa",
       "version_major": 2,
       "version_minor": 0
      },
      "text/plain": [
       "  0%|          | 0/38 [00:00<?, ?it/s]"
      ]
     },
     "metadata": {},
     "output_type": "display_data"
    },
    {
     "data": {
      "application/vnd.jupyter.widget-view+json": {
       "model_id": "a5f4d7a99d3244fd94911a0aa29c9466",
       "version_major": 2,
       "version_minor": 0
      },
      "text/plain": [
       "  0%|          | 0/5 [00:00<?, ?it/s]"
      ]
     },
     "metadata": {},
     "output_type": "display_data"
    },
    {
     "data": {
      "application/vnd.jupyter.widget-view+json": {
       "model_id": "28074c28fc684d59a07f2999bfccc537",
       "version_major": 2,
       "version_minor": 0
      },
      "text/plain": [
       "  0%|          | 0/38 [00:00<?, ?it/s]"
      ]
     },
     "metadata": {},
     "output_type": "display_data"
    },
    {
     "data": {
      "application/vnd.jupyter.widget-view+json": {
       "model_id": "89aae00422574994b905bc8e5ae171e4",
       "version_major": 2,
       "version_minor": 0
      },
      "text/plain": [
       "  0%|          | 0/5 [00:00<?, ?it/s]"
      ]
     },
     "metadata": {},
     "output_type": "display_data"
    },
    {
     "data": {
      "application/vnd.jupyter.widget-view+json": {
       "model_id": "684d369c1e504124ad4a221de55a4d30",
       "version_major": 2,
       "version_minor": 0
      },
      "text/plain": [
       "  0%|          | 0/38 [00:00<?, ?it/s]"
      ]
     },
     "metadata": {},
     "output_type": "display_data"
    },
    {
     "data": {
      "application/vnd.jupyter.widget-view+json": {
       "model_id": "e6b4becc3e714d009c14bb8cc5bfdf58",
       "version_major": 2,
       "version_minor": 0
      },
      "text/plain": [
       "  0%|          | 0/5 [00:00<?, ?it/s]"
      ]
     },
     "metadata": {},
     "output_type": "display_data"
    },
    {
     "name": "stdout",
     "output_type": "stream",
     "text": [
      "new best model\n"
     ]
    },
    {
     "data": {
      "application/vnd.jupyter.widget-view+json": {
       "model_id": "7ec472499ad44e98a8d7c429e80ee908",
       "version_major": 2,
       "version_minor": 0
      },
      "text/plain": [
       "  0%|          | 0/38 [00:00<?, ?it/s]"
      ]
     },
     "metadata": {},
     "output_type": "display_data"
    },
    {
     "data": {
      "application/vnd.jupyter.widget-view+json": {
       "model_id": "e117d8a1c77749238f75f9d080cd6a22",
       "version_major": 2,
       "version_minor": 0
      },
      "text/plain": [
       "  0%|          | 0/5 [00:00<?, ?it/s]"
      ]
     },
     "metadata": {},
     "output_type": "display_data"
    },
    {
     "data": {
      "application/vnd.jupyter.widget-view+json": {
       "model_id": "643d922d23894175896467f57c490e7f",
       "version_major": 2,
       "version_minor": 0
      },
      "text/plain": [
       "  0%|          | 0/38 [00:00<?, ?it/s]"
      ]
     },
     "metadata": {},
     "output_type": "display_data"
    },
    {
     "data": {
      "application/vnd.jupyter.widget-view+json": {
       "model_id": "35fd308c0b894dd7b66fe72ce7a5282d",
       "version_major": 2,
       "version_minor": 0
      },
      "text/plain": [
       "  0%|          | 0/5 [00:00<?, ?it/s]"
      ]
     },
     "metadata": {},
     "output_type": "display_data"
    },
    {
     "name": "stdout",
     "output_type": "stream",
     "text": [
      "new best model\n"
     ]
    },
    {
     "data": {
      "application/vnd.jupyter.widget-view+json": {
       "model_id": "d05282fb8d7946d8b66af4f004554bca",
       "version_major": 2,
       "version_minor": 0
      },
      "text/plain": [
       "  0%|          | 0/38 [00:00<?, ?it/s]"
      ]
     },
     "metadata": {},
     "output_type": "display_data"
    },
    {
     "data": {
      "application/vnd.jupyter.widget-view+json": {
       "model_id": "2ed52b1ab0524e35afe3571044ce6e34",
       "version_major": 2,
       "version_minor": 0
      },
      "text/plain": [
       "  0%|          | 0/5 [00:00<?, ?it/s]"
      ]
     },
     "metadata": {},
     "output_type": "display_data"
    },
    {
     "data": {
      "application/vnd.jupyter.widget-view+json": {
       "model_id": "50300e6244ea45ceb0391553324455bf",
       "version_major": 2,
       "version_minor": 0
      },
      "text/plain": [
       "  0%|          | 0/38 [00:00<?, ?it/s]"
      ]
     },
     "metadata": {},
     "output_type": "display_data"
    },
    {
     "data": {
      "application/vnd.jupyter.widget-view+json": {
       "model_id": "78f1458d2aa64cddada495151a8c309c",
       "version_major": 2,
       "version_minor": 0
      },
      "text/plain": [
       "  0%|          | 0/5 [00:00<?, ?it/s]"
      ]
     },
     "metadata": {},
     "output_type": "display_data"
    },
    {
     "data": {
      "application/vnd.jupyter.widget-view+json": {
       "model_id": "7f4fd2d7f17f47a68816807f2e8ff1bb",
       "version_major": 2,
       "version_minor": 0
      },
      "text/plain": [
       "  0%|          | 0/38 [00:00<?, ?it/s]"
      ]
     },
     "metadata": {},
     "output_type": "display_data"
    },
    {
     "data": {
      "application/vnd.jupyter.widget-view+json": {
       "model_id": "660ce0bf15474b7fbc235f8d24665c41",
       "version_major": 2,
       "version_minor": 0
      },
      "text/plain": [
       "  0%|          | 0/5 [00:00<?, ?it/s]"
      ]
     },
     "metadata": {},
     "output_type": "display_data"
    },
    {
     "data": {
      "application/vnd.jupyter.widget-view+json": {
       "model_id": "22e4458fbf2146449294417488e3f950",
       "version_major": 2,
       "version_minor": 0
      },
      "text/plain": [
       "  0%|          | 0/38 [00:00<?, ?it/s]"
      ]
     },
     "metadata": {},
     "output_type": "display_data"
    },
    {
     "data": {
      "application/vnd.jupyter.widget-view+json": {
       "model_id": "4a3362eb98874e5ab2c6f0144f8d998b",
       "version_major": 2,
       "version_minor": 0
      },
      "text/plain": [
       "  0%|          | 0/5 [00:00<?, ?it/s]"
      ]
     },
     "metadata": {},
     "output_type": "display_data"
    },
    {
     "name": "stdout",
     "output_type": "stream",
     "text": [
      "new best model\n"
     ]
    },
    {
     "data": {
      "application/vnd.jupyter.widget-view+json": {
       "model_id": "578b22051b734b518c5a3aa264d51063",
       "version_major": 2,
       "version_minor": 0
      },
      "text/plain": [
       "  0%|          | 0/38 [00:00<?, ?it/s]"
      ]
     },
     "metadata": {},
     "output_type": "display_data"
    },
    {
     "data": {
      "application/vnd.jupyter.widget-view+json": {
       "model_id": "1953766db6854986a54529bfc5e27695",
       "version_major": 2,
       "version_minor": 0
      },
      "text/plain": [
       "  0%|          | 0/5 [00:00<?, ?it/s]"
      ]
     },
     "metadata": {},
     "output_type": "display_data"
    },
    {
     "name": "stdout",
     "output_type": "stream",
     "text": [
      "new best model\n"
     ]
    },
    {
     "data": {
      "application/vnd.jupyter.widget-view+json": {
       "model_id": "4f84aeadf65e4e78936bb72ad95512b6",
       "version_major": 2,
       "version_minor": 0
      },
      "text/plain": [
       "  0%|          | 0/38 [00:00<?, ?it/s]"
      ]
     },
     "metadata": {},
     "output_type": "display_data"
    },
    {
     "data": {
      "application/vnd.jupyter.widget-view+json": {
       "model_id": "93b28981ba2b49f4a3996c2e1c6e4a01",
       "version_major": 2,
       "version_minor": 0
      },
      "text/plain": [
       "  0%|          | 0/5 [00:00<?, ?it/s]"
      ]
     },
     "metadata": {},
     "output_type": "display_data"
    },
    {
     "name": "stdout",
     "output_type": "stream",
     "text": [
      "new best model\n"
     ]
    },
    {
     "data": {
      "application/vnd.jupyter.widget-view+json": {
       "model_id": "9254cb405c1a42d5b437e5e136d5d93c",
       "version_major": 2,
       "version_minor": 0
      },
      "text/plain": [
       "  0%|          | 0/38 [00:00<?, ?it/s]"
      ]
     },
     "metadata": {},
     "output_type": "display_data"
    },
    {
     "data": {
      "application/vnd.jupyter.widget-view+json": {
       "model_id": "66f691cb8aab4e9ca88043ce7d18eaab",
       "version_major": 2,
       "version_minor": 0
      },
      "text/plain": [
       "  0%|          | 0/5 [00:00<?, ?it/s]"
      ]
     },
     "metadata": {},
     "output_type": "display_data"
    },
    {
     "name": "stdout",
     "output_type": "stream",
     "text": [
      "new best model\n"
     ]
    },
    {
     "data": {
      "application/vnd.jupyter.widget-view+json": {
       "model_id": "d1f8fb2a765b42a5981dc130883b7c77",
       "version_major": 2,
       "version_minor": 0
      },
      "text/plain": [
       "  0%|          | 0/38 [00:00<?, ?it/s]"
      ]
     },
     "metadata": {},
     "output_type": "display_data"
    },
    {
     "data": {
      "application/vnd.jupyter.widget-view+json": {
       "model_id": "3568d3e680d84d0b82d3cb96638e6a22",
       "version_major": 2,
       "version_minor": 0
      },
      "text/plain": [
       "  0%|          | 0/5 [00:00<?, ?it/s]"
      ]
     },
     "metadata": {},
     "output_type": "display_data"
    },
    {
     "name": "stdout",
     "output_type": "stream",
     "text": [
      "new best model\n"
     ]
    },
    {
     "data": {
      "application/vnd.jupyter.widget-view+json": {
       "model_id": "732602d1b11c401c813c25ce1c140608",
       "version_major": 2,
       "version_minor": 0
      },
      "text/plain": [
       "  0%|          | 0/38 [00:00<?, ?it/s]"
      ]
     },
     "metadata": {},
     "output_type": "display_data"
    },
    {
     "data": {
      "application/vnd.jupyter.widget-view+json": {
       "model_id": "85350adaf14d4116818e02bba583272e",
       "version_major": 2,
       "version_minor": 0
      },
      "text/plain": [
       "  0%|          | 0/5 [00:00<?, ?it/s]"
      ]
     },
     "metadata": {},
     "output_type": "display_data"
    },
    {
     "name": "stdout",
     "output_type": "stream",
     "text": [
      "new best model\n"
     ]
    },
    {
     "data": {
      "application/vnd.jupyter.widget-view+json": {
       "model_id": "3fd2c8a450ff4f229b2b32eef2f0a04c",
       "version_major": 2,
       "version_minor": 0
      },
      "text/plain": [
       "  0%|          | 0/38 [00:00<?, ?it/s]"
      ]
     },
     "metadata": {},
     "output_type": "display_data"
    },
    {
     "data": {
      "application/vnd.jupyter.widget-view+json": {
       "model_id": "a76ed247b33f488c81e389d8a052b38e",
       "version_major": 2,
       "version_minor": 0
      },
      "text/plain": [
       "  0%|          | 0/5 [00:00<?, ?it/s]"
      ]
     },
     "metadata": {},
     "output_type": "display_data"
    },
    {
     "name": "stdout",
     "output_type": "stream",
     "text": [
      "new best model\n"
     ]
    },
    {
     "data": {
      "application/vnd.jupyter.widget-view+json": {
       "model_id": "6b30c1ad84344806ae3427c0be22f1b0",
       "version_major": 2,
       "version_minor": 0
      },
      "text/plain": [
       "  0%|          | 0/38 [00:00<?, ?it/s]"
      ]
     },
     "metadata": {},
     "output_type": "display_data"
    },
    {
     "data": {
      "application/vnd.jupyter.widget-view+json": {
       "model_id": "b279110ded6a42c090d14160919a5ced",
       "version_major": 2,
       "version_minor": 0
      },
      "text/plain": [
       "  0%|          | 0/5 [00:00<?, ?it/s]"
      ]
     },
     "metadata": {},
     "output_type": "display_data"
    },
    {
     "data": {
      "application/vnd.jupyter.widget-view+json": {
       "model_id": "69d66d6ac438402d9babc8399e97087c",
       "version_major": 2,
       "version_minor": 0
      },
      "text/plain": [
       "  0%|          | 0/38 [00:00<?, ?it/s]"
      ]
     },
     "metadata": {},
     "output_type": "display_data"
    },
    {
     "data": {
      "application/vnd.jupyter.widget-view+json": {
       "model_id": "6214fb5638d24be48425bc5cbfe35acd",
       "version_major": 2,
       "version_minor": 0
      },
      "text/plain": [
       "  0%|          | 0/5 [00:00<?, ?it/s]"
      ]
     },
     "metadata": {},
     "output_type": "display_data"
    },
    {
     "data": {
      "application/vnd.jupyter.widget-view+json": {
       "model_id": "c18c9cdc222747acb60492ab3defab16",
       "version_major": 2,
       "version_minor": 0
      },
      "text/plain": [
       "  0%|          | 0/38 [00:00<?, ?it/s]"
      ]
     },
     "metadata": {},
     "output_type": "display_data"
    },
    {
     "data": {
      "application/vnd.jupyter.widget-view+json": {
       "model_id": "f992c4ceff0f4652901a1dc71b5b9c0b",
       "version_major": 2,
       "version_minor": 0
      },
      "text/plain": [
       "  0%|          | 0/5 [00:00<?, ?it/s]"
      ]
     },
     "metadata": {},
     "output_type": "display_data"
    },
    {
     "name": "stdout",
     "output_type": "stream",
     "text": [
      "new best model\n"
     ]
    },
    {
     "data": {
      "application/vnd.jupyter.widget-view+json": {
       "model_id": "45bc3e856bb64730bf54b67f8a5cb4fa",
       "version_major": 2,
       "version_minor": 0
      },
      "text/plain": [
       "  0%|          | 0/38 [00:00<?, ?it/s]"
      ]
     },
     "metadata": {},
     "output_type": "display_data"
    },
    {
     "data": {
      "application/vnd.jupyter.widget-view+json": {
       "model_id": "b81c22de331448469acd8ec6c1bbf2b0",
       "version_major": 2,
       "version_minor": 0
      },
      "text/plain": [
       "  0%|          | 0/5 [00:00<?, ?it/s]"
      ]
     },
     "metadata": {},
     "output_type": "display_data"
    },
    {
     "data": {
      "application/vnd.jupyter.widget-view+json": {
       "model_id": "bc7e2b13b37d4c8da90ec535db742ed4",
       "version_major": 2,
       "version_minor": 0
      },
      "text/plain": [
       "  0%|          | 0/38 [00:00<?, ?it/s]"
      ]
     },
     "metadata": {},
     "output_type": "display_data"
    },
    {
     "data": {
      "application/vnd.jupyter.widget-view+json": {
       "model_id": "e6c7ed23f7094f8594065756c8a52632",
       "version_major": 2,
       "version_minor": 0
      },
      "text/plain": [
       "  0%|          | 0/5 [00:00<?, ?it/s]"
      ]
     },
     "metadata": {},
     "output_type": "display_data"
    },
    {
     "data": {
      "application/vnd.jupyter.widget-view+json": {
       "model_id": "b739ee6b20524cc997fcffa360333959",
       "version_major": 2,
       "version_minor": 0
      },
      "text/plain": [
       "  0%|          | 0/38 [00:00<?, ?it/s]"
      ]
     },
     "metadata": {},
     "output_type": "display_data"
    },
    {
     "data": {
      "application/vnd.jupyter.widget-view+json": {
       "model_id": "d9ed8f2b0cf34bc5a5cae669d5914bf0",
       "version_major": 2,
       "version_minor": 0
      },
      "text/plain": [
       "  0%|          | 0/5 [00:00<?, ?it/s]"
      ]
     },
     "metadata": {},
     "output_type": "display_data"
    },
    {
     "name": "stdout",
     "output_type": "stream",
     "text": [
      "new best model\n"
     ]
    },
    {
     "data": {
      "application/vnd.jupyter.widget-view+json": {
       "model_id": "ac7039ec52db46e0a2f33e99e9b79b4d",
       "version_major": 2,
       "version_minor": 0
      },
      "text/plain": [
       "  0%|          | 0/38 [00:00<?, ?it/s]"
      ]
     },
     "metadata": {},
     "output_type": "display_data"
    },
    {
     "data": {
      "application/vnd.jupyter.widget-view+json": {
       "model_id": "6340bb04960a4ea08a3ac4e0b1e942bf",
       "version_major": 2,
       "version_minor": 0
      },
      "text/plain": [
       "  0%|          | 0/5 [00:00<?, ?it/s]"
      ]
     },
     "metadata": {},
     "output_type": "display_data"
    },
    {
     "data": {
      "application/vnd.jupyter.widget-view+json": {
       "model_id": "db7d408cab4e4c39b00d25b7fcf62bea",
       "version_major": 2,
       "version_minor": 0
      },
      "text/plain": [
       "  0%|          | 0/38 [00:00<?, ?it/s]"
      ]
     },
     "metadata": {},
     "output_type": "display_data"
    },
    {
     "data": {
      "application/vnd.jupyter.widget-view+json": {
       "model_id": "ab5e498d52574922acffc4b3f5affd92",
       "version_major": 2,
       "version_minor": 0
      },
      "text/plain": [
       "  0%|          | 0/5 [00:00<?, ?it/s]"
      ]
     },
     "metadata": {},
     "output_type": "display_data"
    },
    {
     "data": {
      "application/vnd.jupyter.widget-view+json": {
       "model_id": "e9fd7162e3d241d38db786360556df36",
       "version_major": 2,
       "version_minor": 0
      },
      "text/plain": [
       "  0%|          | 0/38 [00:00<?, ?it/s]"
      ]
     },
     "metadata": {},
     "output_type": "display_data"
    },
    {
     "data": {
      "application/vnd.jupyter.widget-view+json": {
       "model_id": "b05530a60a5e4ea9bfc70b4ac9d807f8",
       "version_major": 2,
       "version_minor": 0
      },
      "text/plain": [
       "  0%|          | 0/5 [00:00<?, ?it/s]"
      ]
     },
     "metadata": {},
     "output_type": "display_data"
    },
    {
     "name": "stdout",
     "output_type": "stream",
     "text": [
      "new best model\n"
     ]
    },
    {
     "data": {
      "application/vnd.jupyter.widget-view+json": {
       "model_id": "03a8400548a345c88b323f5ea376b23a",
       "version_major": 2,
       "version_minor": 0
      },
      "text/plain": [
       "  0%|          | 0/38 [00:00<?, ?it/s]"
      ]
     },
     "metadata": {},
     "output_type": "display_data"
    },
    {
     "data": {
      "application/vnd.jupyter.widget-view+json": {
       "model_id": "fd04158958054afca2872b255fb76e2f",
       "version_major": 2,
       "version_minor": 0
      },
      "text/plain": [
       "  0%|          | 0/5 [00:00<?, ?it/s]"
      ]
     },
     "metadata": {},
     "output_type": "display_data"
    },
    {
     "name": "stdout",
     "output_type": "stream",
     "text": [
      "new best model\n"
     ]
    },
    {
     "data": {
      "application/vnd.jupyter.widget-view+json": {
       "model_id": "3d04a66f153d4e2a83d967e18662a208",
       "version_major": 2,
       "version_minor": 0
      },
      "text/plain": [
       "  0%|          | 0/38 [00:00<?, ?it/s]"
      ]
     },
     "metadata": {},
     "output_type": "display_data"
    },
    {
     "data": {
      "application/vnd.jupyter.widget-view+json": {
       "model_id": "8736b9630c18445b8fa3493ac763c092",
       "version_major": 2,
       "version_minor": 0
      },
      "text/plain": [
       "  0%|          | 0/5 [00:00<?, ?it/s]"
      ]
     },
     "metadata": {},
     "output_type": "display_data"
    },
    {
     "data": {
      "application/vnd.jupyter.widget-view+json": {
       "model_id": "19212d4b3cd3462ea3d93c347861d3dd",
       "version_major": 2,
       "version_minor": 0
      },
      "text/plain": [
       "  0%|          | 0/38 [00:00<?, ?it/s]"
      ]
     },
     "metadata": {},
     "output_type": "display_data"
    },
    {
     "data": {
      "application/vnd.jupyter.widget-view+json": {
       "model_id": "a512c62171e94a3d93ca6d07aeff64d3",
       "version_major": 2,
       "version_minor": 0
      },
      "text/plain": [
       "  0%|          | 0/5 [00:00<?, ?it/s]"
      ]
     },
     "metadata": {},
     "output_type": "display_data"
    },
    {
     "data": {
      "application/vnd.jupyter.widget-view+json": {
       "model_id": "5b0a33ac0dea4ceaa29eb85cff1908ee",
       "version_major": 2,
       "version_minor": 0
      },
      "text/plain": [
       "  0%|          | 0/38 [00:00<?, ?it/s]"
      ]
     },
     "metadata": {},
     "output_type": "display_data"
    },
    {
     "data": {
      "application/vnd.jupyter.widget-view+json": {
       "model_id": "b043a326d9f7435d9467dc9c3933a05b",
       "version_major": 2,
       "version_minor": 0
      },
      "text/plain": [
       "  0%|          | 0/5 [00:00<?, ?it/s]"
      ]
     },
     "metadata": {},
     "output_type": "display_data"
    },
    {
     "name": "stdout",
     "output_type": "stream",
     "text": [
      "new best model\n"
     ]
    },
    {
     "data": {
      "text/plain": [
       "<All keys matched successfully>"
      ]
     },
     "execution_count": 10,
     "metadata": {},
     "output_type": "execute_result"
    }
   ],
   "source": [
    "train_loader = DataLoader(\n",
    "    train_dataset,\n",
    "    batch_size=params[\"batch_size\"],\n",
    "    shuffle=True,\n",
    "    num_workers=params[\"num_workers\"],\n",
    "    pin_memory=False,\n",
    ")\n",
    "\n",
    "val_loader = DataLoader(\n",
    "    val_dataset,\n",
    "    batch_size=params[\"batch_size\"],\n",
    "    shuffle=True,\n",
    "    num_workers=params[\"num_workers\"],\n",
    "    pin_memory=False,\n",
    ")\n",
    "\n",
    "\n",
    "criterion = nn.BCEWithLogitsLoss()\n",
    "optimizer = torch.optim.Adam(model.parameters(), lr=params[\"lr\"])\n",
    "scheduler = PolynomialLRDecay(optimizer, max_decay_steps=params[\"epochs\"], end_learning_rate=0.0001, power=0.9)\n",
    "\n",
    "best_loss = sys.float_info.max\n",
    "model_ckpt = copy.deepcopy(model.state_dict())\n",
    "for epoch in range(1, params[\"epochs\"]+1):\n",
    "    train(train_loader, model, criterion, optimizer, scheduler, epoch, params)\n",
    "    epoch_loss = validate(val_loader, model, criterion, epoch, params)\n",
    "    #select the best model based on the loss on the validation set\n",
    "    if epoch_loss < best_loss:\n",
    "      best_loss = epoch_loss\n",
    "      model_ckpt = copy.deepcopy(model.state_dict())\n",
    "      print(\"new best model\")\n",
    "    \n",
    "    \n",
    "model.load_state_dict(model_ckpt)       \n"
   ]
  },
  {
   "cell_type": "code",
   "execution_count": 8,
   "metadata": {},
   "outputs": [
    {
     "name": "stdout",
     "output_type": "stream",
     "text": [
      " the best loss achieved on the validation set is 0.21192451193928719\n"
     ]
    }
   ],
   "source": [
    "print(f\" the best loss achieved on the validation set is {best_loss}\")"
   ]
  },
  {
   "cell_type": "markdown",
   "metadata": {
    "id": "JLKe5BfuYSAx"
   },
   "source": [
    "# Model evaluation on test set\n"
   ]
  },
  {
   "cell_type": "code",
   "execution_count": 9,
   "metadata": {},
   "outputs": [],
   "source": [
    "def predict(model, params, test_dataset):\n",
    "    test_loader = DataLoader(\n",
    "        test_dataset, batch_size=params[\"batch_size\"], shuffle=False, num_workers=params[\"num_workers\"], pin_memory=True,\n",
    "    )\n",
    "    model.eval()\n",
    "    predictions = []\n",
    "    with torch.no_grad():\n",
    "        for images, masks, (original_heights, original_widths) in test_loader:\n",
    "            images = images.to(params[\"device\"], non_blocking=True)\n",
    "            output = model(images)\n",
    "            probabilities = torch.sigmoid(output.squeeze(1))\n",
    "            predicted_masks = (probabilities >= 0.5).float() * 1\n",
    "            predicted_masks = predicted_masks.cpu().numpy()\n",
    "            for predicted_mask, gt, original_height, original_width in zip(\n",
    "                predicted_masks, masks.numpy(), original_heights.numpy(), original_widths.numpy()\n",
    "            ):\n",
    "                predictions.append((predicted_mask, gt, original_height, original_width))\n",
    "    return predictions"
   ]
  },
  {
   "cell_type": "code",
   "execution_count": 10,
   "metadata": {},
   "outputs": [
    {
     "name": "stdout",
     "output_type": "stream",
     "text": [
      "The Intersection over Union score is : 0.9666\n",
      "The Dice Coefficient is : 0.9830\n"
     ]
    }
   ],
   "source": [
    "predictions = predict(model, params, test_dataset)\n",
    "\n",
    "evaluator = Evaluate(predictions)\n",
    "iou, dice = evaluator.get_metrics().values()\n",
    "print(f\"The Intersection over Union score is : {iou:.4f}\")\n",
    "print(f\"The Dice Coefficient is : {dice:.4f}\")"
   ]
  },
  {
   "cell_type": "markdown",
   "metadata": {},
   "source": [
    "## Visualize some of the predictions alongside the ground truth masks"
   ]
  },
  {
   "cell_type": "code",
   "execution_count": null,
   "metadata": {},
   "outputs": [],
   "source": [
    "predicted_masks = []\n",
    "gt_masks = []\n",
    "for predicted_256x256_mask, ground_truth, original_height, original_width in predictions:\n",
    "    full_sized_mask = A.resize(\n",
    "        predicted_256x256_mask, height=original_height, width=original_width, interpolation=cv2.INTER_NEAREST\n",
    "    )\n",
    "    full_sized_gt = A.resize(\n",
    "        ground_truth, height=original_height, width=original_width, interpolation=cv2.INTER_NEAREST\n",
    "    )\n",
    "    predicted_masks.append(full_sized_mask)\n",
    "    gt_masks.append(full_sized_gt)\n"
   ]
  },
  {
   "cell_type": "code",
   "execution_count": null,
   "metadata": {},
   "outputs": [],
   "source": [
    "cols = 3 \n",
    "rows = 4\n",
    "figure, ax = plt.subplots(nrows=rows, ncols=cols, figsize=(12, 10))\n",
    "for i, image_filename in enumerate(test_images_filenames[:rows]):\n",
    "    image = cv2.imread(os.path.join(test_images_directory, image_filename))\n",
    "    image = cv2.cvtColor(image, cv2.COLOR_BGR2RGB)\n",
    "\n",
    "    mask = gt_masks[i]\n",
    "    ax[i, 0].imshow(image)\n",
    "    ax[i, 1].imshow(mask, interpolation=\"nearest\")\n",
    "\n",
    "    ax[i, 0].set_title(\"Image\")\n",
    "    ax[i, 1].set_title(\"Ground truth mask\")\n",
    "\n",
    "    ax[i, 0].set_axis_off()\n",
    "    ax[i, 1].set_axis_off()\n",
    "\n",
    "    predicted_mask = predicted_masks[i]\n",
    "    ax[i, 2].imshow(predicted_mask, interpolation=\"nearest\")\n",
    "    ax[i, 2].set_title(\"Predicted mask\")\n",
    "    ax[i, 2].set_axis_off()\n",
    "plt.tight_layout()\n",
    "plt.show()"
   ]
  },
  {
   "cell_type": "markdown",
   "metadata": {
    "id": "D-T0K5ypbTsb",
    "tags": []
   },
   "source": [
    "## Export the model as torch state dict and ONNX graph"
   ]
  },
  {
   "cell_type": "code",
   "execution_count": null,
   "metadata": {
    "id": "d4gyJp7NfGXS"
   },
   "outputs": [],
   "source": [
    "#select the name that the model will be saved with\n",
    "model_name = \"small400e\"\n",
    "model_path = os.path.join(c_dir, \"model_checkpoints\", model_name)\n",
    "print(model_path)"
   ]
  },
  {
   "cell_type": "markdown",
   "metadata": {
    "id": "SL7COJLIcm3p"
   },
   "source": [
    "Save the model as torch state dict, when doing inference the paramenters in the state dict will be used to load the model to this state"
   ]
  },
  {
   "cell_type": "code",
   "execution_count": null,
   "metadata": {
    "id": "k4o-EvRTcg_E"
   },
   "outputs": [],
   "source": [
    "torch.save(model.state_dict(), model_path+\".pt\")"
   ]
  },
  {
   "cell_type": "markdown",
   "metadata": {
    "id": "QkdEKRP7c2ld"
   },
   "source": [
    "Export the model in onnx format and then check for errors with the built in onnx check_model function.\n",
    "\n",
    "In order to export the model a dummy input needs to be given as input"
   ]
  },
  {
   "cell_type": "code",
   "execution_count": null,
   "metadata": {
    "id": "amvNyP8sbcUo"
   },
   "outputs": [],
   "source": [
    "#put the model in inference mode\n",
    "model.eval()\n",
    "#generate dummy input for onnx export\n",
    "x = torch.randn(1, 3, 512, 512, requires_grad=True).cuda()\n",
    "torch_out = model(x)\n",
    "\n",
    "# Export the model\n",
    "torch.onnx.export(model,                     # model being run\n",
    "                  x,                         # model input (or a tuple for multiple inputs)\n",
    "                  model_path+\".onnx\",       # where to save the model (can be a file or file-like object)\n",
    "                  export_params=True,        # store the trained parameter weights inside the model file\n",
    "                  opset_version=11,          # the ONNX version to export the model to\n",
    "                  do_constant_folding=True,  # whether to execute constant folding for optimization\n",
    "                  input_names = ['input'],   # the model's input names\n",
    "                  output_names = ['output'], # the model's output names\n",
    "                  operator_export_type=torch.onnx.OperatorExportTypes.ONNX_ATEN_FALLBACK,\n",
    "                  dynamic_axes={'input' : {0 : 'batch_size'},    # variable length axes\n",
    "                                'output' : {0 : 'batch_size'}})"
   ]
  }
 ],
 "metadata": {
  "accelerator": "GPU",
  "colab": {
   "authorship_tag": "ABX9TyOUbNM9vv8a2lLIS9oTCmUR",
   "collapsed_sections": [],
   "include_colab_link": true,
   "name": "training.ipynb",
   "provenance": []
  },
  "kernelspec": {
   "display_name": "Python 3",
   "language": "python",
   "name": "python3"
  },
  "language_info": {
   "codemirror_mode": {
    "name": "ipython",
    "version": 3
   },
   "file_extension": ".py",
   "mimetype": "text/x-python",
   "name": "python",
   "nbconvert_exporter": "python",
   "pygments_lexer": "ipython3",
   "version": "3.9.12"
  },
  "widgets": {
   "application/vnd.jupyter.widget-state+json": {
    "state": {
     "0045fba86f704ea78c42c5ed183c2950": {
      "model_module": "@jupyter-widgets/controls",
      "model_module_version": "1.5.0",
      "model_name": "DescriptionStyleModel",
      "state": {
       "description_width": ""
      }
     },
     "011f8dc6d2fb492f9aed9b0ce30c5357": {
      "model_module": "@jupyter-widgets/base",
      "model_module_version": "1.2.0",
      "model_name": "LayoutModel",
      "state": {}
     },
     "0171df77101e403eb637472a47ea67b4": {
      "model_module": "@jupyter-widgets/controls",
      "model_module_version": "1.5.0",
      "model_name": "DescriptionStyleModel",
      "state": {
       "description_width": ""
      }
     },
     "017e4b4894964cdcaefe3cd4aeb7b76a": {
      "model_module": "@jupyter-widgets/controls",
      "model_module_version": "1.5.0",
      "model_name": "DescriptionStyleModel",
      "state": {
       "description_width": ""
      }
     },
     "01aff1c92c704ae4822c4f9687dcfaa1": {
      "model_module": "@jupyter-widgets/controls",
      "model_module_version": "1.5.0",
      "model_name": "HTMLModel",
      "state": {
       "layout": "IPY_MODEL_128942e89f5b48b68a2de2df232a5847",
       "style": "IPY_MODEL_2ca54f3dbf5942c0afb4714db37a7f10",
       "value": "Epoch: 12. Validation. 0.45986: 100%"
      }
     },
     "01c468a0b8c1432da629fe369f1ecdda": {
      "model_module": "@jupyter-widgets/controls",
      "model_module_version": "1.5.0",
      "model_name": "ProgressStyleModel",
      "state": {
       "description_width": ""
      }
     },
     "01eb3000aef941bb8ee5675b0fce8fed": {
      "model_module": "@jupyter-widgets/controls",
      "model_module_version": "1.5.0",
      "model_name": "HTMLModel",
      "state": {
       "layout": "IPY_MODEL_3c553aa8038647e5ad1ae832f9e456e1",
       "style": "IPY_MODEL_866883146aa8414e80125928b16d50ef",
       "value": "Epoch: 27. Validation. 0.23122: 100%"
      }
     },
     "02269c5e27b94accb29c169bbf33b303": {
      "model_module": "@jupyter-widgets/controls",
      "model_module_version": "1.5.0",
      "model_name": "HTMLModel",
      "state": {
       "layout": "IPY_MODEL_75f76379cf344b9fae142cb8da63f51a",
       "style": "IPY_MODEL_8fdeac86d71a4a53abf23c568ea6f039",
       "value": " 5/5 [00:00&lt;00:00, 15.77it/s]"
      }
     },
     "028840f540dd45fda577cb89a116400b": {
      "model_module": "@jupyter-widgets/controls",
      "model_module_version": "1.5.0",
      "model_name": "HTMLModel",
      "state": {
       "layout": "IPY_MODEL_6fd00f89d4734d3f8d509de80abc69ae",
       "style": "IPY_MODEL_14135a1ff5b44749a0c012aa3f03e740",
       "value": "Epoch: 21. Validation. 0.29967: 100%"
      }
     },
     "02a10b9dfe324f5e8188d66787df3df5": {
      "model_module": "@jupyter-widgets/controls",
      "model_module_version": "1.5.0",
      "model_name": "FloatProgressModel",
      "state": {
       "bar_style": "success",
       "layout": "IPY_MODEL_b46869993fd245e3bafb1a725e67ea64",
       "max": 38,
       "style": "IPY_MODEL_8a9506b067c14606a7aebf0dd4071e0b",
       "value": 38
      }
     },
     "036fdc550a89410b89a4ba9f838f530d": {
      "model_module": "@jupyter-widgets/base",
      "model_module_version": "1.2.0",
      "model_name": "LayoutModel",
      "state": {}
     },
     "03a8400548a345c88b323f5ea376b23a": {
      "model_module": "@jupyter-widgets/controls",
      "model_module_version": "1.5.0",
      "model_name": "HBoxModel",
      "state": {
       "children": [
        "IPY_MODEL_d8f3dcd2add747e4965c8e1d41eead52",
        "IPY_MODEL_7e81a43680ba40e0bc696223ccb9164d",
        "IPY_MODEL_f9d98d0f370b4f7a943d7ec089f66ffe"
       ],
       "layout": "IPY_MODEL_2a98b8dce816410eaf56502327522461"
      }
     },
     "041a9928276e4e2e89ba62c0d591dc66": {
      "model_module": "@jupyter-widgets/controls",
      "model_module_version": "1.5.0",
      "model_name": "ProgressStyleModel",
      "state": {
       "description_width": ""
      }
     },
     "045943e591fb4e5bb9947d74182d98ed": {
      "model_module": "@jupyter-widgets/controls",
      "model_module_version": "1.5.0",
      "model_name": "ProgressStyleModel",
      "state": {
       "description_width": ""
      }
     },
     "04b097bedb904259a7cfed6e98d3aed2": {
      "model_module": "@jupyter-widgets/base",
      "model_module_version": "1.2.0",
      "model_name": "LayoutModel",
      "state": {}
     },
     "04f768edb5d5492897da5d85123af635": {
      "model_module": "@jupyter-widgets/controls",
      "model_module_version": "1.5.0",
      "model_name": "HTMLModel",
      "state": {
       "layout": "IPY_MODEL_3d8031c66ca2468ba2816b3f7c92d42b",
       "style": "IPY_MODEL_b744f47e5e714193929df596b230fea5",
       "value": "Epoch: 30. Validation. 0.22553: 100%"
      }
     },
     "055d051c340b4e3a9435dfa1727b3d2d": {
      "model_module": "@jupyter-widgets/controls",
      "model_module_version": "1.5.0",
      "model_name": "DescriptionStyleModel",
      "state": {
       "description_width": ""
      }
     },
     "056a2e65b9b3488e942cbd536bb28770": {
      "model_module": "@jupyter-widgets/base",
      "model_module_version": "1.2.0",
      "model_name": "LayoutModel",
      "state": {}
     },
     "05caf3928d164799905adfa0f9c163e0": {
      "model_module": "@jupyter-widgets/controls",
      "model_module_version": "1.5.0",
      "model_name": "DescriptionStyleModel",
      "state": {
       "description_width": ""
      }
     },
     "05d063ce661b40cebc1f594d7f424603": {
      "model_module": "@jupyter-widgets/controls",
      "model_module_version": "1.5.0",
      "model_name": "HTMLModel",
      "state": {
       "layout": "IPY_MODEL_a3e80670dd964a88b9e0455acb5b4fea",
       "style": "IPY_MODEL_2697abea377b4cf9acebf6b1dedac000",
       "value": "Epoch: 36. Train.    1.75710: 100%"
      }
     },
     "05dfd6b9c0a145fc8e0b0bcbba0ad1ab": {
      "model_module": "@jupyter-widgets/base",
      "model_module_version": "1.2.0",
      "model_name": "LayoutModel",
      "state": {}
     },
     "06bb738222c2406d83e03521a1aca35a": {
      "model_module": "@jupyter-widgets/controls",
      "model_module_version": "1.5.0",
      "model_name": "FloatProgressModel",
      "state": {
       "bar_style": "success",
       "layout": "IPY_MODEL_011f8dc6d2fb492f9aed9b0ce30c5357",
       "max": 38,
       "style": "IPY_MODEL_b8a712b07a524062914e7cbfa66851d7",
       "value": 38
      }
     },
     "06d6a966b23f43daa3b171cf087bc3d0": {
      "model_module": "@jupyter-widgets/base",
      "model_module_version": "1.2.0",
      "model_name": "LayoutModel",
      "state": {}
     },
     "0726254562df4309aac506c5cffa434b": {
      "model_module": "@jupyter-widgets/controls",
      "model_module_version": "1.5.0",
      "model_name": "HTMLModel",
      "state": {
       "layout": "IPY_MODEL_b9dd96562e674d3391e2f4dae4efb15d",
       "style": "IPY_MODEL_1c01dbc166594488bb9ff2cc98b797dc",
       "value": " 5/5 [00:00&lt;00:00, 15.17it/s]"
      }
     },
     "079a83256e4a48fe9ef6adfe876f17da": {
      "model_module": "@jupyter-widgets/controls",
      "model_module_version": "1.5.0",
      "model_name": "DescriptionStyleModel",
      "state": {
       "description_width": ""
      }
     },
     "07d6b5bc8af3412c8899467a769beb06": {
      "model_module": "@jupyter-widgets/controls",
      "model_module_version": "1.5.0",
      "model_name": "HTMLModel",
      "state": {
       "layout": "IPY_MODEL_5f58dbb969ac424e9db9aa6f613a9d29",
       "style": "IPY_MODEL_ae6e63c1a27049eab34b48b8d641d377",
       "value": " 5/5 [00:00&lt;00:00, 15.86it/s]"
      }
     },
     "07dbfa45518b4f1cb30c84b8c37d05ad": {
      "model_module": "@jupyter-widgets/controls",
      "model_module_version": "1.5.0",
      "model_name": "ProgressStyleModel",
      "state": {
       "description_width": ""
      }
     },
     "088394be91be473ba93282e63aeb9aa2": {
      "model_module": "@jupyter-widgets/controls",
      "model_module_version": "1.5.0",
      "model_name": "HTMLModel",
      "state": {
       "layout": "IPY_MODEL_10df0f0b9729421ba09c1f9138450442",
       "style": "IPY_MODEL_e9fe5b007a4b45abb3ee1e328a5c443d",
       "value": " 5/5 [00:00&lt;00:00, 15.78it/s]"
      }
     },
     "096db80c567c4ec68209b77d262a5b2b": {
      "model_module": "@jupyter-widgets/base",
      "model_module_version": "1.2.0",
      "model_name": "LayoutModel",
      "state": {}
     },
     "099b286248ca4368a89aebe061019701": {
      "model_module": "@jupyter-widgets/base",
      "model_module_version": "1.2.0",
      "model_name": "LayoutModel",
      "state": {}
     },
     "09da3563143446f0b6c09b7f49c17df1": {
      "model_module": "@jupyter-widgets/controls",
      "model_module_version": "1.5.0",
      "model_name": "ProgressStyleModel",
      "state": {
       "description_width": ""
      }
     },
     "0b4b0688b31143188d06f24d04084615": {
      "model_module": "@jupyter-widgets/controls",
      "model_module_version": "1.5.0",
      "model_name": "HBoxModel",
      "state": {
       "children": [
        "IPY_MODEL_27a65774338d48a0bb4f728f96056360",
        "IPY_MODEL_b009ae7b3dbf4662a13a5b4a93589936",
        "IPY_MODEL_dec2495897de4f2a9f2fd27f8ae982d7"
       ],
       "layout": "IPY_MODEL_5c7859a338764b2bb001b84691951a86"
      }
     },
     "0be00b2898c44b788cb0e20b33c3eb30": {
      "model_module": "@jupyter-widgets/controls",
      "model_module_version": "1.5.0",
      "model_name": "HTMLModel",
      "state": {
       "layout": "IPY_MODEL_bd285350051f4f10acdff90ff12cb2a9",
       "style": "IPY_MODEL_24c912c74638446f86475631b98d6b0b",
       "value": "Epoch: 17. Train.    2.97258: 100%"
      }
     },
     "0bf7bb38ef6749fd8dceab13d863ea43": {
      "model_module": "@jupyter-widgets/controls",
      "model_module_version": "1.5.0",
      "model_name": "DescriptionStyleModel",
      "state": {
       "description_width": ""
      }
     },
     "0c748c5f5cd6405abd8a6580c11f6ed5": {
      "model_module": "@jupyter-widgets/controls",
      "model_module_version": "1.5.0",
      "model_name": "HBoxModel",
      "state": {
       "children": [
        "IPY_MODEL_9847b3f349194e1ab09159587ed291d6",
        "IPY_MODEL_e0cff24da3ce49b8823388fe5c5296a3",
        "IPY_MODEL_f3ef290b4de6443e909aacf8e2fa37eb"
       ],
       "layout": "IPY_MODEL_2c14d580346547aab502ac3f389afbcd"
      }
     },
     "0d56830adfd94241a661a1310ec13fbe": {
      "model_module": "@jupyter-widgets/base",
      "model_module_version": "1.2.0",
      "model_name": "LayoutModel",
      "state": {}
     },
     "0d57b22a19644dcdab965c853243c89a": {
      "model_module": "@jupyter-widgets/controls",
      "model_module_version": "1.5.0",
      "model_name": "FloatProgressModel",
      "state": {
       "bar_style": "success",
       "layout": "IPY_MODEL_d0c7a94360a949eea723ce990ee00df6",
       "max": 5,
       "style": "IPY_MODEL_94d8414252314178966a37796a530764",
       "value": 5
      }
     },
     "0d74480a5e334485998c95a0f9ca6afa": {
      "model_module": "@jupyter-widgets/controls",
      "model_module_version": "1.5.0",
      "model_name": "DescriptionStyleModel",
      "state": {
       "description_width": ""
      }
     },
     "0d887ce817ee48fda78364310dfb7b7d": {
      "model_module": "@jupyter-widgets/controls",
      "model_module_version": "1.5.0",
      "model_name": "HTMLModel",
      "state": {
       "layout": "IPY_MODEL_e1380a9e5a314ee09f0d920fa1492227",
       "style": "IPY_MODEL_ecfcd8c264dd4143ad36db9255bd3289",
       "value": "Epoch: 19. Train.    3.15049: 100%"
      }
     },
     "0dab3cd04e8c42c7b694318a790cc469": {
      "model_module": "@jupyter-widgets/controls",
      "model_module_version": "1.5.0",
      "model_name": "HBoxModel",
      "state": {
       "children": [
        "IPY_MODEL_a47facafedb64cb6b590ddcd587ac561",
        "IPY_MODEL_16fb5ebabe3e496c931fc05cc03fefa0",
        "IPY_MODEL_5a6fc90b4d1e456ca08f8a74372ee155"
       ],
       "layout": "IPY_MODEL_7e85d6b38d074101a1d3a4c6f8d55d1c"
      }
     },
     "0dc046d1e9c7422eb9e23ee0ff789d78": {
      "model_module": "@jupyter-widgets/controls",
      "model_module_version": "1.5.0",
      "model_name": "DescriptionStyleModel",
      "state": {
       "description_width": ""
      }
     },
     "0e008c82ebd046baa26fc7ef9a0d69b1": {
      "model_module": "@jupyter-widgets/controls",
      "model_module_version": "1.5.0",
      "model_name": "FloatProgressModel",
      "state": {
       "bar_style": "success",
       "layout": "IPY_MODEL_36e650c2218142f0946efd8d63c7d6ea",
       "max": 38,
       "style": "IPY_MODEL_c63699fb6eec42f6b61b88dfd5098d0f",
       "value": 38
      }
     },
     "0e23bbf1fe4947fb97933a3bc6f9fc97": {
      "model_module": "@jupyter-widgets/base",
      "model_module_version": "1.2.0",
      "model_name": "LayoutModel",
      "state": {}
     },
     "0e3fb62c5a1d4967bc426c05763d6fae": {
      "model_module": "@jupyter-widgets/controls",
      "model_module_version": "1.5.0",
      "model_name": "FloatProgressModel",
      "state": {
       "bar_style": "success",
       "layout": "IPY_MODEL_d21bc478d48f4ca0860addfe48f7a163",
       "max": 5,
       "style": "IPY_MODEL_42667222fa7047c9961726648c7c3beb",
       "value": 5
      }
     },
     "0f009d41d5c343eb886772caff01c354": {
      "model_module": "@jupyter-widgets/controls",
      "model_module_version": "1.5.0",
      "model_name": "ProgressStyleModel",
      "state": {
       "description_width": ""
      }
     },
     "0fdbe33a6ad548adab07d752316f1a7e": {
      "model_module": "@jupyter-widgets/base",
      "model_module_version": "1.2.0",
      "model_name": "LayoutModel",
      "state": {}
     },
     "10bc979e6d78444994d282ae9b5f7faa": {
      "model_module": "@jupyter-widgets/base",
      "model_module_version": "1.2.0",
      "model_name": "LayoutModel",
      "state": {}
     },
     "10df0f0b9729421ba09c1f9138450442": {
      "model_module": "@jupyter-widgets/base",
      "model_module_version": "1.2.0",
      "model_name": "LayoutModel",
      "state": {}
     },
     "116578d90e444d6ea78407bacf143221": {
      "model_module": "@jupyter-widgets/base",
      "model_module_version": "1.2.0",
      "model_name": "LayoutModel",
      "state": {}
     },
     "11ca34fd632941ce917e1ed559f32338": {
      "model_module": "@jupyter-widgets/base",
      "model_module_version": "1.2.0",
      "model_name": "LayoutModel",
      "state": {}
     },
     "11fc87c0447d4204ac6c17dea9480656": {
      "model_module": "@jupyter-widgets/controls",
      "model_module_version": "1.5.0",
      "model_name": "HTMLModel",
      "state": {
       "layout": "IPY_MODEL_f06f9e6b7fe0479eb54f6ebf31d3f486",
       "style": "IPY_MODEL_b8c324a7b8c047768a979bd5069772f9",
       "value": " 5/5 [00:00&lt;00:00, 15.57it/s]"
      }
     },
     "121e328e5ec548f69b3b24e3180fc72c": {
      "model_module": "@jupyter-widgets/controls",
      "model_module_version": "1.5.0",
      "model_name": "FloatProgressModel",
      "state": {
       "bar_style": "success",
       "layout": "IPY_MODEL_589845ac7f4c40219be61c3c83b803c6",
       "max": 38,
       "style": "IPY_MODEL_21c23bb0f9da4ca59134783d2d336623",
       "value": 38
      }
     },
     "128942e89f5b48b68a2de2df232a5847": {
      "model_module": "@jupyter-widgets/base",
      "model_module_version": "1.2.0",
      "model_name": "LayoutModel",
      "state": {}
     },
     "13ee2f75c6034e2b9ca22c1134357bb2": {
      "model_module": "@jupyter-widgets/base",
      "model_module_version": "1.2.0",
      "model_name": "LayoutModel",
      "state": {}
     },
     "14135a1ff5b44749a0c012aa3f03e740": {
      "model_module": "@jupyter-widgets/controls",
      "model_module_version": "1.5.0",
      "model_name": "DescriptionStyleModel",
      "state": {
       "description_width": ""
      }
     },
     "1417de4ab7a5443d999a59bcfe9033d9": {
      "model_module": "@jupyter-widgets/base",
      "model_module_version": "1.2.0",
      "model_name": "LayoutModel",
      "state": {}
     },
     "1419302376b94bfeaa3b006175bd12d3": {
      "model_module": "@jupyter-widgets/controls",
      "model_module_version": "1.5.0",
      "model_name": "FloatProgressModel",
      "state": {
       "bar_style": "success",
       "layout": "IPY_MODEL_10bc979e6d78444994d282ae9b5f7faa",
       "max": 5,
       "style": "IPY_MODEL_ff319c3d720242b082dd03382cca9651",
       "value": 5
      }
     },
     "14ac5f97b6f2480fb45bab2ce92e3b24": {
      "model_module": "@jupyter-widgets/controls",
      "model_module_version": "1.5.0",
      "model_name": "ProgressStyleModel",
      "state": {
       "description_width": ""
      }
     },
     "14d3852de67b4ea786b7b4e22adcb4b5": {
      "model_module": "@jupyter-widgets/controls",
      "model_module_version": "1.5.0",
      "model_name": "ProgressStyleModel",
      "state": {
       "description_width": ""
      }
     },
     "14df94f2def3401886bbfa125843b10b": {
      "model_module": "@jupyter-widgets/controls",
      "model_module_version": "1.5.0",
      "model_name": "FloatProgressModel",
      "state": {
       "bar_style": "success",
       "layout": "IPY_MODEL_a54bfce829bb4aef8ea0d3390bcc9141",
       "max": 38,
       "style": "IPY_MODEL_34b86adffaea49cc8b189baeff85809d",
       "value": 38
      }
     },
     "15555de398014deea711ffe82a8f1f5e": {
      "model_module": "@jupyter-widgets/base",
      "model_module_version": "1.2.0",
      "model_name": "LayoutModel",
      "state": {}
     },
     "1565b6be406f425ab9cdcc4550af8509": {
      "model_module": "@jupyter-widgets/controls",
      "model_module_version": "1.5.0",
      "model_name": "HTMLModel",
      "state": {
       "layout": "IPY_MODEL_fc9bd71b40cb4abc98c6736a7145bbc3",
       "style": "IPY_MODEL_d2064cd6d98a49e1b18d5cb6d35bf719",
       "value": "Epoch: 23. Train.    2.61300: 100%"
      }
     },
     "1576d52c70464f3fa95def081f46302b": {
      "model_module": "@jupyter-widgets/controls",
      "model_module_version": "1.5.0",
      "model_name": "ProgressStyleModel",
      "state": {
       "description_width": ""
      }
     },
     "157ee9afa06e4122b177d67744af9526": {
      "model_module": "@jupyter-widgets/controls",
      "model_module_version": "1.5.0",
      "model_name": "HTMLModel",
      "state": {
       "layout": "IPY_MODEL_2050fe5ead274bd2be4a7b54accbfec2",
       "style": "IPY_MODEL_886b82ba252c46e584721ad781862e26",
       "value": "Epoch: 31. Train.    1.96439: 100%"
      }
     },
     "1597f22424d7438582d62e51976c2f74": {
      "model_module": "@jupyter-widgets/controls",
      "model_module_version": "1.5.0",
      "model_name": "HTMLModel",
      "state": {
       "layout": "IPY_MODEL_f9aaa5d125be44399709cbdde0ae11e1",
       "style": "IPY_MODEL_7e818340dec34e8b848ca9367a75da22",
       "value": " 38/38 [00:01&lt;00:00, 26.81it/s]"
      }
     },
     "15b577f020ad4037992e40a06a1ac7c6": {
      "model_module": "@jupyter-widgets/controls",
      "model_module_version": "1.5.0",
      "model_name": "DescriptionStyleModel",
      "state": {
       "description_width": ""
      }
     },
     "15d3c2dd92954d54b24c4581ee1b8d84": {
      "model_module": "@jupyter-widgets/base",
      "model_module_version": "1.2.0",
      "model_name": "LayoutModel",
      "state": {}
     },
     "15e7aa80265043b38b26994f00164908": {
      "model_module": "@jupyter-widgets/controls",
      "model_module_version": "1.5.0",
      "model_name": "DescriptionStyleModel",
      "state": {
       "description_width": ""
      }
     },
     "1611d0322a1b4746a0b89ba45513f8a8": {
      "model_module": "@jupyter-widgets/controls",
      "model_module_version": "1.5.0",
      "model_name": "HTMLModel",
      "state": {
       "layout": "IPY_MODEL_5f229c3896a14ed1a6c8199ccf2b7642",
       "style": "IPY_MODEL_2cd6637d697846bdae1316e6f5a94d1d",
       "value": " 5/5 [00:00&lt;00:00, 15.81it/s]"
      }
     },
     "16148399e86f405dba8d9ba1031f252a": {
      "model_module": "@jupyter-widgets/controls",
      "model_module_version": "1.5.0",
      "model_name": "DescriptionStyleModel",
      "state": {
       "description_width": ""
      }
     },
     "16893ac0e73848359fac1489f2ecb8f7": {
      "model_module": "@jupyter-widgets/base",
      "model_module_version": "1.2.0",
      "model_name": "LayoutModel",
      "state": {}
     },
     "16fb5ebabe3e496c931fc05cc03fefa0": {
      "model_module": "@jupyter-widgets/controls",
      "model_module_version": "1.5.0",
      "model_name": "FloatProgressModel",
      "state": {
       "bar_style": "success",
       "layout": "IPY_MODEL_eecf358ec7fc4d7aaaf8c74b24f79d3e",
       "max": 38,
       "style": "IPY_MODEL_a49fcf826e3846f6917ebaeace4b9e96",
       "value": 38
      }
     },
     "1722980f84694942b16a029d2012f22c": {
      "model_module": "@jupyter-widgets/controls",
      "model_module_version": "1.5.0",
      "model_name": "ProgressStyleModel",
      "state": {
       "description_width": ""
      }
     },
     "17569da77f5243afa001e08247318ba5": {
      "model_module": "@jupyter-widgets/base",
      "model_module_version": "1.2.0",
      "model_name": "LayoutModel",
      "state": {}
     },
     "178e81c6ceca4474850f169eb536626f": {
      "model_module": "@jupyter-widgets/base",
      "model_module_version": "1.2.0",
      "model_name": "LayoutModel",
      "state": {}
     },
     "1847b2ee58b64d9d993f9d4b5d8fae55": {
      "model_module": "@jupyter-widgets/base",
      "model_module_version": "1.2.0",
      "model_name": "LayoutModel",
      "state": {}
     },
     "18b6386f2eed4335b099c2d2bbfbd52d": {
      "model_module": "@jupyter-widgets/controls",
      "model_module_version": "1.5.0",
      "model_name": "HTMLModel",
      "state": {
       "layout": "IPY_MODEL_e3cb9cd7723b4d069eea38b68545bd7e",
       "style": "IPY_MODEL_e14906dbd64948889dca68bfdfd7b8ce",
       "value": " 5/5 [00:00&lt;00:00, 15.65it/s]"
      }
     },
     "18fe8bd3b2f1442584c812303eda6b75": {
      "model_module": "@jupyter-widgets/controls",
      "model_module_version": "1.5.0",
      "model_name": "ProgressStyleModel",
      "state": {
       "description_width": ""
      }
     },
     "19212d4b3cd3462ea3d93c347861d3dd": {
      "model_module": "@jupyter-widgets/controls",
      "model_module_version": "1.5.0",
      "model_name": "HBoxModel",
      "state": {
       "children": [
        "IPY_MODEL_5d4d694cd3814747b5e0abfed1cefe1e",
        "IPY_MODEL_d6a3688d949149c3ba794bdc944cf19e",
        "IPY_MODEL_7d0b0eadd9964fd1a99794c90edfcea5"
       ],
       "layout": "IPY_MODEL_6939677dc12042f9b7fedf2f88dec168"
      }
     },
     "1932a1904de244aba337c88a728da962": {
      "model_module": "@jupyter-widgets/controls",
      "model_module_version": "1.5.0",
      "model_name": "HTMLModel",
      "state": {
       "layout": "IPY_MODEL_81273c17fb4e437e89c353ede7962929",
       "style": "IPY_MODEL_42da995c6365486db3de109d578ed554",
       "value": "Epoch: 26. Validation. 0.24310: 100%"
      }
     },
     "1953766db6854986a54529bfc5e27695": {
      "model_module": "@jupyter-widgets/controls",
      "model_module_version": "1.5.0",
      "model_name": "HBoxModel",
      "state": {
       "children": [
        "IPY_MODEL_47f258b2ddf3469d904407d6b32f8ab2",
        "IPY_MODEL_a8a3b1f42c064caeb157ad5913f1ab1a",
        "IPY_MODEL_2df42111e2c14f539c288920fde3a67a"
       ],
       "layout": "IPY_MODEL_3386d10c77a34362b43d2e78ab70edc8"
      }
     },
     "197121d5436840b688e6e361026a05bd": {
      "model_module": "@jupyter-widgets/base",
      "model_module_version": "1.2.0",
      "model_name": "LayoutModel",
      "state": {}
     },
     "19c9feb754da4b4881ff3ff2bc986769": {
      "model_module": "@jupyter-widgets/controls",
      "model_module_version": "1.5.0",
      "model_name": "DescriptionStyleModel",
      "state": {
       "description_width": ""
      }
     },
     "1a8642d224aa452db7202ff05c86cc0f": {
      "model_module": "@jupyter-widgets/controls",
      "model_module_version": "1.5.0",
      "model_name": "FloatProgressModel",
      "state": {
       "bar_style": "success",
       "layout": "IPY_MODEL_fad1b44d6d164200872b04a49b604620",
       "max": 38,
       "style": "IPY_MODEL_e990d843b4a045278e8c9d3ad8a60ebe",
       "value": 38
      }
     },
     "1a984e7ff4174c3385422ee5834b0c49": {
      "model_module": "@jupyter-widgets/base",
      "model_module_version": "1.2.0",
      "model_name": "LayoutModel",
      "state": {}
     },
     "1ac2db61905c4c14b67ee2592031928e": {
      "model_module": "@jupyter-widgets/controls",
      "model_module_version": "1.5.0",
      "model_name": "DescriptionStyleModel",
      "state": {
       "description_width": ""
      }
     },
     "1acf3b923513435892456d550ddc004a": {
      "model_module": "@jupyter-widgets/base",
      "model_module_version": "1.2.0",
      "model_name": "LayoutModel",
      "state": {}
     },
     "1b2670762314484f927d727d1dcccd2a": {
      "model_module": "@jupyter-widgets/controls",
      "model_module_version": "1.5.0",
      "model_name": "HTMLModel",
      "state": {
       "layout": "IPY_MODEL_735a39d62d8a45ff9f20bf93a06f6fdb",
       "style": "IPY_MODEL_56229309ce30443cabaac205c3db28aa",
       "value": " 38/38 [00:01&lt;00:00, 28.21it/s]"
      }
     },
     "1b268df61b8644f29e818a865c31e6f4": {
      "model_module": "@jupyter-widgets/controls",
      "model_module_version": "1.5.0",
      "model_name": "HTMLModel",
      "state": {
       "layout": "IPY_MODEL_620e552e6f8b45ce94611b5a2e05eebb",
       "style": "IPY_MODEL_a200f53782f04c0ea5691b8e7640cf6a",
       "value": "Epoch: 19. Validation. 0.38259: 100%"
      }
     },
     "1bc350a2383e48d3888d5f2a2a0fdedd": {
      "model_module": "@jupyter-widgets/controls",
      "model_module_version": "1.5.0",
      "model_name": "DescriptionStyleModel",
      "state": {
       "description_width": ""
      }
     },
     "1be03c2350fe4fd287905a8cc778e7cc": {
      "model_module": "@jupyter-widgets/controls",
      "model_module_version": "1.5.0",
      "model_name": "ProgressStyleModel",
      "state": {
       "description_width": ""
      }
     },
     "1bfffa5095774bcf971538d40732b12e": {
      "model_module": "@jupyter-widgets/controls",
      "model_module_version": "1.5.0",
      "model_name": "DescriptionStyleModel",
      "state": {
       "description_width": ""
      }
     },
     "1c01dbc166594488bb9ff2cc98b797dc": {
      "model_module": "@jupyter-widgets/controls",
      "model_module_version": "1.5.0",
      "model_name": "DescriptionStyleModel",
      "state": {
       "description_width": ""
      }
     },
     "1ca65b5de9c246e395cd24ec725648db": {
      "model_module": "@jupyter-widgets/controls",
      "model_module_version": "1.5.0",
      "model_name": "ProgressStyleModel",
      "state": {
       "description_width": ""
      }
     },
     "1cd0a643de1f4014accda558cdea29a5": {
      "model_module": "@jupyter-widgets/controls",
      "model_module_version": "1.5.0",
      "model_name": "FloatProgressModel",
      "state": {
       "bar_style": "success",
       "layout": "IPY_MODEL_ea9852c9e476486b90fd12c7bf7a2dee",
       "max": 38,
       "style": "IPY_MODEL_7f079ffd58ab4a67a8dab32b69b898ca",
       "value": 38
      }
     },
     "1d2b0f205d0b4983841d9f70ceaf25f9": {
      "model_module": "@jupyter-widgets/controls",
      "model_module_version": "1.5.0",
      "model_name": "HTMLModel",
      "state": {
       "layout": "IPY_MODEL_ffca04d91edf45b6ac4fe1eea9e18de7",
       "style": "IPY_MODEL_56d0e9a9a2744e589a1884622542245b",
       "value": " 5/5 [00:00&lt;00:00, 15.64it/s]"
      }
     },
     "1d7b072c4e7442089c83a5c06a9ddecc": {
      "model_module": "@jupyter-widgets/base",
      "model_module_version": "1.2.0",
      "model_name": "LayoutModel",
      "state": {}
     },
     "1dc0501650d046c28aba17c0434823cf": {
      "model_module": "@jupyter-widgets/base",
      "model_module_version": "1.2.0",
      "model_name": "LayoutModel",
      "state": {}
     },
     "1dc8748673f640f3a15151ee8a52b47c": {
      "model_module": "@jupyter-widgets/base",
      "model_module_version": "1.2.0",
      "model_name": "LayoutModel",
      "state": {}
     },
     "1de6c0cef5cd47628e8dc541e6b50434": {
      "model_module": "@jupyter-widgets/controls",
      "model_module_version": "1.5.0",
      "model_name": "DescriptionStyleModel",
      "state": {
       "description_width": ""
      }
     },
     "1e2e62b954ff4a239b8b34f59bdea066": {
      "model_module": "@jupyter-widgets/controls",
      "model_module_version": "1.5.0",
      "model_name": "HBoxModel",
      "state": {
       "children": [
        "IPY_MODEL_59d0e509bce94902a0882be9b1faab0a",
        "IPY_MODEL_bb36dcc2df10490dae44cd455847e05e",
        "IPY_MODEL_6d70ea4779d340919a7c27211008d749"
       ],
       "layout": "IPY_MODEL_17569da77f5243afa001e08247318ba5"
      }
     },
     "1e314323b7034fdca2c447cbb3d67cae": {
      "model_module": "@jupyter-widgets/controls",
      "model_module_version": "1.5.0",
      "model_name": "HTMLModel",
      "state": {
       "layout": "IPY_MODEL_3d5aca888b51482b908e99fac476af8f",
       "style": "IPY_MODEL_9504db6491374705b9ede172cf0daff2",
       "value": "Epoch: 24. Validation. 0.25835: 100%"
      }
     },
     "1e59ec9a29e144dc92fb581420ee3a49": {
      "model_module": "@jupyter-widgets/base",
      "model_module_version": "1.2.0",
      "model_name": "LayoutModel",
      "state": {}
     },
     "1e7186ecbd544ae2b0fc3775cf887fba": {
      "model_module": "@jupyter-widgets/base",
      "model_module_version": "1.2.0",
      "model_name": "LayoutModel",
      "state": {}
     },
     "1ea2e56b607c445c8df00a8f1dd40f0e": {
      "model_module": "@jupyter-widgets/controls",
      "model_module_version": "1.5.0",
      "model_name": "FloatProgressModel",
      "state": {
       "bar_style": "success",
       "layout": "IPY_MODEL_a754fc081de04074af13b900048a7ffe",
       "max": 5,
       "style": "IPY_MODEL_5c606acd345f4f2da642e8b212b67c3a",
       "value": 5
      }
     },
     "1eaacc4fc03440e3a4f531fbe69ce16a": {
      "model_module": "@jupyter-widgets/controls",
      "model_module_version": "1.5.0",
      "model_name": "ProgressStyleModel",
      "state": {
       "description_width": ""
      }
     },
     "1ebaf765e83945c1bbffad18c0212c06": {
      "model_module": "@jupyter-widgets/controls",
      "model_module_version": "1.5.0",
      "model_name": "DescriptionStyleModel",
      "state": {
       "description_width": ""
      }
     },
     "1ee6a84d57564756a3f11cd4f02b9a01": {
      "model_module": "@jupyter-widgets/controls",
      "model_module_version": "1.5.0",
      "model_name": "DescriptionStyleModel",
      "state": {
       "description_width": ""
      }
     },
     "1fd86af81edf4112b6e1947670be5a32": {
      "model_module": "@jupyter-widgets/controls",
      "model_module_version": "1.5.0",
      "model_name": "DescriptionStyleModel",
      "state": {
       "description_width": ""
      }
     },
     "2050fe5ead274bd2be4a7b54accbfec2": {
      "model_module": "@jupyter-widgets/base",
      "model_module_version": "1.2.0",
      "model_name": "LayoutModel",
      "state": {}
     },
     "205114d069694a0b92743d0e83397e48": {
      "model_module": "@jupyter-widgets/controls",
      "model_module_version": "1.5.0",
      "model_name": "ProgressStyleModel",
      "state": {
       "description_width": ""
      }
     },
     "2065654ecb784db1ba2c0d38428784e5": {
      "model_module": "@jupyter-widgets/base",
      "model_module_version": "1.2.0",
      "model_name": "LayoutModel",
      "state": {}
     },
     "209660f778f14f1f9d840e57a3319952": {
      "model_module": "@jupyter-widgets/base",
      "model_module_version": "1.2.0",
      "model_name": "LayoutModel",
      "state": {}
     },
     "21c23bb0f9da4ca59134783d2d336623": {
      "model_module": "@jupyter-widgets/controls",
      "model_module_version": "1.5.0",
      "model_name": "ProgressStyleModel",
      "state": {
       "description_width": ""
      }
     },
     "225ac4b20f9c4aed852c49a0feb02363": {
      "model_module": "@jupyter-widgets/controls",
      "model_module_version": "1.5.0",
      "model_name": "HTMLModel",
      "state": {
       "layout": "IPY_MODEL_aeb38f1dd29e47d0beab34e0c6e82514",
       "style": "IPY_MODEL_895d20330bcc4955ad85af1dd1fd1eca",
       "value": "Epoch: 4. Validation. 0.61175: 100%"
      }
     },
     "22a0a5d140644257beba2c15dbf29711": {
      "model_module": "@jupyter-widgets/base",
      "model_module_version": "1.2.0",
      "model_name": "LayoutModel",
      "state": {}
     },
     "22b51cec8511412da9098968ed4c6a0c": {
      "model_module": "@jupyter-widgets/base",
      "model_module_version": "1.2.0",
      "model_name": "LayoutModel",
      "state": {}
     },
     "22b7e54887d84f32bd44a437eea5ff27": {
      "model_module": "@jupyter-widgets/base",
      "model_module_version": "1.2.0",
      "model_name": "LayoutModel",
      "state": {}
     },
     "22e4458fbf2146449294417488e3f950": {
      "model_module": "@jupyter-widgets/controls",
      "model_module_version": "1.5.0",
      "model_name": "HBoxModel",
      "state": {
       "children": [
        "IPY_MODEL_a7bbc4898e64428391ab0af580c3d362",
        "IPY_MODEL_bb214fd3fd9d40a788787e154135cc38",
        "IPY_MODEL_27c17a0693e048e3b4499b2aaee77236"
       ],
       "layout": "IPY_MODEL_a623887fbeb649799920d035d771dcb8"
      }
     },
     "2332318cfff841b8bb3d4d4748131bf8": {
      "model_module": "@jupyter-widgets/controls",
      "model_module_version": "1.5.0",
      "model_name": "DescriptionStyleModel",
      "state": {
       "description_width": ""
      }
     },
     "2385280e18364b25a5cf1f42a9e6f37a": {
      "model_module": "@jupyter-widgets/controls",
      "model_module_version": "1.5.0",
      "model_name": "DescriptionStyleModel",
      "state": {
       "description_width": ""
      }
     },
     "2432d1e1449346b68b38f06656123fb7": {
      "model_module": "@jupyter-widgets/base",
      "model_module_version": "1.2.0",
      "model_name": "LayoutModel",
      "state": {}
     },
     "24c912c74638446f86475631b98d6b0b": {
      "model_module": "@jupyter-widgets/controls",
      "model_module_version": "1.5.0",
      "model_name": "DescriptionStyleModel",
      "state": {
       "description_width": ""
      }
     },
     "2697abea377b4cf9acebf6b1dedac000": {
      "model_module": "@jupyter-widgets/controls",
      "model_module_version": "1.5.0",
      "model_name": "DescriptionStyleModel",
      "state": {
       "description_width": ""
      }
     },
     "26a5b92c913f4be7babf4fef54cdf0aa": {
      "model_module": "@jupyter-widgets/controls",
      "model_module_version": "1.5.0",
      "model_name": "DescriptionStyleModel",
      "state": {
       "description_width": ""
      }
     },
     "26b1e8c695424a9cbdaa56b2b3bcdbd4": {
      "model_module": "@jupyter-widgets/base",
      "model_module_version": "1.2.0",
      "model_name": "LayoutModel",
      "state": {}
     },
     "2747d4fd6cb94bc7bbaed152702bfd6c": {
      "model_module": "@jupyter-widgets/base",
      "model_module_version": "1.2.0",
      "model_name": "LayoutModel",
      "state": {}
     },
     "27a65774338d48a0bb4f728f96056360": {
      "model_module": "@jupyter-widgets/controls",
      "model_module_version": "1.5.0",
      "model_name": "HTMLModel",
      "state": {
       "layout": "IPY_MODEL_f565c6e9d5bc48cea78c645d1e306b70",
       "style": "IPY_MODEL_56936a1f24b243b28c2a2eb09e79d827",
       "value": "Epoch: 1. Train.    40.94196: 100%"
      }
     },
     "27c17a0693e048e3b4499b2aaee77236": {
      "model_module": "@jupyter-widgets/controls",
      "model_module_version": "1.5.0",
      "model_name": "HTMLModel",
      "state": {
       "layout": "IPY_MODEL_52d615b6a0ac42e4b376f0370d3f0775",
       "style": "IPY_MODEL_516fec9c63d74f8cbf281d82aa3bb41b",
       "value": " 38/38 [00:01&lt;00:00, 28.39it/s]"
      }
     },
     "28074c28fc684d59a07f2999bfccc537": {
      "model_module": "@jupyter-widgets/controls",
      "model_module_version": "1.5.0",
      "model_name": "HBoxModel",
      "state": {
       "children": [
        "IPY_MODEL_668c4ac5cfcd4a87a6223dca5e919ff2",
        "IPY_MODEL_d4c182050b144c4898bfdcb3b36c1d29",
        "IPY_MODEL_edbab21d7b07494ba8581b9a1422318a"
       ],
       "layout": "IPY_MODEL_286e293875cf4724b4d0953e49cc3806"
      }
     },
     "286e293875cf4724b4d0953e49cc3806": {
      "model_module": "@jupyter-widgets/base",
      "model_module_version": "1.2.0",
      "model_name": "LayoutModel",
      "state": {}
     },
     "28b231b7616943c490ddae3596f30f67": {
      "model_module": "@jupyter-widgets/base",
      "model_module_version": "1.2.0",
      "model_name": "LayoutModel",
      "state": {}
     },
     "29922cc926424d2a82af8a480a49e81e": {
      "model_module": "@jupyter-widgets/controls",
      "model_module_version": "1.5.0",
      "model_name": "DescriptionStyleModel",
      "state": {
       "description_width": ""
      }
     },
     "29a3e042341642f89d41543df43ef9ed": {
      "model_module": "@jupyter-widgets/controls",
      "model_module_version": "1.5.0",
      "model_name": "FloatProgressModel",
      "state": {
       "bar_style": "success",
       "layout": "IPY_MODEL_36287179b05349fd9b4bdcb52c8e5543",
       "max": 5,
       "style": "IPY_MODEL_ce73f71dc91a4c49abccc49496f99428",
       "value": 5
      }
     },
     "29d68b655b08423c8f5c99c15face079": {
      "model_module": "@jupyter-widgets/controls",
      "model_module_version": "1.5.0",
      "model_name": "FloatProgressModel",
      "state": {
       "bar_style": "success",
       "layout": "IPY_MODEL_aa249c51875d496a940a3b27ae294e0b",
       "max": 5,
       "style": "IPY_MODEL_784c6a82e36f447c8e5395e24a6e954c",
       "value": 5
      }
     },
     "29e41c1f7a744f298b7be8e82e1f6c82": {
      "model_module": "@jupyter-widgets/controls",
      "model_module_version": "1.5.0",
      "model_name": "ProgressStyleModel",
      "state": {
       "description_width": ""
      }
     },
     "29f7e5aa8c744b5d8656053f94cc8af0": {
      "model_module": "@jupyter-widgets/base",
      "model_module_version": "1.2.0",
      "model_name": "LayoutModel",
      "state": {}
     },
     "2a01939c06a34dd691224438f7bb4143": {
      "model_module": "@jupyter-widgets/controls",
      "model_module_version": "1.5.0",
      "model_name": "FloatProgressModel",
      "state": {
       "bar_style": "success",
       "layout": "IPY_MODEL_938b6026ad10495a8d50f63fe4300a49",
       "max": 5,
       "style": "IPY_MODEL_a8e92b6872304dfdad23e91d1be9511e",
       "value": 5
      }
     },
     "2a2a85e72a3f4012ac3c985f7229138d": {
      "model_module": "@jupyter-widgets/controls",
      "model_module_version": "1.5.0",
      "model_name": "ProgressStyleModel",
      "state": {
       "description_width": ""
      }
     },
     "2a68ebe9f9dc41e28db18f39d1d1b375": {
      "model_module": "@jupyter-widgets/controls",
      "model_module_version": "1.5.0",
      "model_name": "HTMLModel",
      "state": {
       "layout": "IPY_MODEL_2e81e89ba2b24944871600a588fb4913",
       "style": "IPY_MODEL_1de6c0cef5cd47628e8dc541e6b50434",
       "value": " 38/38 [00:01&lt;00:00, 27.27it/s]"
      }
     },
     "2a98b8dce816410eaf56502327522461": {
      "model_module": "@jupyter-widgets/base",
      "model_module_version": "1.2.0",
      "model_name": "LayoutModel",
      "state": {}
     },
     "2ab5456d155f4c378191da86fc5672bf": {
      "model_module": "@jupyter-widgets/base",
      "model_module_version": "1.2.0",
      "model_name": "LayoutModel",
      "state": {}
     },
     "2ab99754719c44b08eb35e5a3ce3a87a": {
      "model_module": "@jupyter-widgets/controls",
      "model_module_version": "1.5.0",
      "model_name": "HTMLModel",
      "state": {
       "layout": "IPY_MODEL_4b4eb4581fdc4e728724e7d307476044",
       "style": "IPY_MODEL_a8e9ccff355c4f5cbbf20935e5ad9c43",
       "value": "Epoch: 11. Train.    3.25772: 100%"
      }
     },
     "2aedb9c6ce0c42ae9949a9c452a2f81a": {
      "model_module": "@jupyter-widgets/base",
      "model_module_version": "1.2.0",
      "model_name": "LayoutModel",
      "state": {}
     },
     "2af53ea944324fabb97b848d8e26acc5": {
      "model_module": "@jupyter-widgets/base",
      "model_module_version": "1.2.0",
      "model_name": "LayoutModel",
      "state": {}
     },
     "2b96fd7a02fd48de81809ea0ce42f9d5": {
      "model_module": "@jupyter-widgets/controls",
      "model_module_version": "1.5.0",
      "model_name": "HTMLModel",
      "state": {
       "layout": "IPY_MODEL_fba36a23ab434ddebb35ea86f7b21fe7",
       "style": "IPY_MODEL_d93cf652a8df413a990ccd8717e5ef5f",
       "value": " 5/5 [00:00&lt;00:00, 15.62it/s]"
      }
     },
     "2c0a9595a37b41b0835eeb8e24aa545c": {
      "model_module": "@jupyter-widgets/base",
      "model_module_version": "1.2.0",
      "model_name": "LayoutModel",
      "state": {}
     },
     "2c14d580346547aab502ac3f389afbcd": {
      "model_module": "@jupyter-widgets/base",
      "model_module_version": "1.2.0",
      "model_name": "LayoutModel",
      "state": {}
     },
     "2ca54f3dbf5942c0afb4714db37a7f10": {
      "model_module": "@jupyter-widgets/controls",
      "model_module_version": "1.5.0",
      "model_name": "DescriptionStyleModel",
      "state": {
       "description_width": ""
      }
     },
     "2cd6637d697846bdae1316e6f5a94d1d": {
      "model_module": "@jupyter-widgets/controls",
      "model_module_version": "1.5.0",
      "model_name": "DescriptionStyleModel",
      "state": {
       "description_width": ""
      }
     },
     "2d23f526b8b54197a27dd1bcc0ef7fb2": {
      "model_module": "@jupyter-widgets/controls",
      "model_module_version": "1.5.0",
      "model_name": "HTMLModel",
      "state": {
       "layout": "IPY_MODEL_42d89a2e083d413d8332e9c3c5353498",
       "style": "IPY_MODEL_6d10b1b0c5b44724b9c047aa89fddbb1",
       "value": "Epoch: 25. Validation. 0.25446: 100%"
      }
     },
     "2d31250c4cf14804a541b8206561af03": {
      "model_module": "@jupyter-widgets/controls",
      "model_module_version": "1.5.0",
      "model_name": "HTMLModel",
      "state": {
       "layout": "IPY_MODEL_ccee1553869444588ecf8b35b4f8088c",
       "style": "IPY_MODEL_c30b70d7e23e44b7b711c319f1d21abc",
       "value": " 5/5 [00:00&lt;00:00, 15.84it/s]"
      }
     },
     "2dcaef7e3ff4419aa5fc2c9610510bc0": {
      "model_module": "@jupyter-widgets/controls",
      "model_module_version": "1.5.0",
      "model_name": "FloatProgressModel",
      "state": {
       "bar_style": "success",
       "layout": "IPY_MODEL_88db12ae90fc463db7d4c7a3ea005d92",
       "max": 5,
       "style": "IPY_MODEL_8b0660497cf445ec81cfe85eeb0d04df",
       "value": 5
      }
     },
     "2df42111e2c14f539c288920fde3a67a": {
      "model_module": "@jupyter-widgets/controls",
      "model_module_version": "1.5.0",
      "model_name": "HTMLModel",
      "state": {
       "layout": "IPY_MODEL_5cce5b4a125b4b6eabac21d8d1aad8f4",
       "style": "IPY_MODEL_055d051c340b4e3a9435dfa1727b3d2d",
       "value": " 5/5 [00:00&lt;00:00, 15.84it/s]"
      }
     },
     "2e3f65bf65a8404fbc9caf2b205a0ea1": {
      "model_module": "@jupyter-widgets/controls",
      "model_module_version": "1.5.0",
      "model_name": "DescriptionStyleModel",
      "state": {
       "description_width": ""
      }
     },
     "2e3fdc75abe548d9b7b8f5525aa5c782": {
      "model_module": "@jupyter-widgets/controls",
      "model_module_version": "1.5.0",
      "model_name": "ProgressStyleModel",
      "state": {
       "description_width": ""
      }
     },
     "2e81e89ba2b24944871600a588fb4913": {
      "model_module": "@jupyter-widgets/base",
      "model_module_version": "1.2.0",
      "model_name": "LayoutModel",
      "state": {}
     },
     "2ed52b1ab0524e35afe3571044ce6e34": {
      "model_module": "@jupyter-widgets/controls",
      "model_module_version": "1.5.0",
      "model_name": "HBoxModel",
      "state": {
       "children": [
        "IPY_MODEL_57081983278d4f7a999529100a924b06",
        "IPY_MODEL_8038bcc606c54e238699724d1118b744",
        "IPY_MODEL_a70c27c1ff7042269359b9bccfdbf136"
       ],
       "layout": "IPY_MODEL_57a1175b83674933ab650a403966959a"
      }
     },
     "30f19ed7af064ebe946fbb5e9e8756a1": {
      "model_module": "@jupyter-widgets/base",
      "model_module_version": "1.2.0",
      "model_name": "LayoutModel",
      "state": {}
     },
     "3157a7ee783d4e088226e933202f577e": {
      "model_module": "@jupyter-widgets/controls",
      "model_module_version": "1.5.0",
      "model_name": "HTMLModel",
      "state": {
       "layout": "IPY_MODEL_7e6ddaf9030b422a976caa5bdf583c78",
       "style": "IPY_MODEL_0171df77101e403eb637472a47ea67b4",
       "value": "Epoch: 13. Train.    4.03438: 100%"
      }
     },
     "317a3dffc6a64387b55dac238759bc78": {
      "model_module": "@jupyter-widgets/controls",
      "model_module_version": "1.5.0",
      "model_name": "DescriptionStyleModel",
      "state": {
       "description_width": ""
      }
     },
     "320a85d93c7a44c68914538f8ca2a2a3": {
      "model_module": "@jupyter-widgets/controls",
      "model_module_version": "1.5.0",
      "model_name": "DescriptionStyleModel",
      "state": {
       "description_width": ""
      }
     },
     "32c97bb3207f47bea664e6e472f6c521": {
      "model_module": "@jupyter-widgets/base",
      "model_module_version": "1.2.0",
      "model_name": "LayoutModel",
      "state": {}
     },
     "3320d280a4714effba9cfb88163e7ca6": {
      "model_module": "@jupyter-widgets/controls",
      "model_module_version": "1.5.0",
      "model_name": "ProgressStyleModel",
      "state": {
       "description_width": ""
      }
     },
     "3323f46b24934353aa5ddc09cc6408d2": {
      "model_module": "@jupyter-widgets/controls",
      "model_module_version": "1.5.0",
      "model_name": "HTMLModel",
      "state": {
       "layout": "IPY_MODEL_b7e7f6427bde49c3a3ccce8fc5b71ed3",
       "style": "IPY_MODEL_f3882c317bec4471a4581ea065f17ac6",
       "value": " 38/38 [00:01&lt;00:00, 27.80it/s]"
      }
     },
     "336cecbcc47a407e85174efeb9940365": {
      "model_module": "@jupyter-widgets/controls",
      "model_module_version": "1.5.0",
      "model_name": "HTMLModel",
      "state": {
       "layout": "IPY_MODEL_c65d18165dab4b47a7afee973e47af17",
       "style": "IPY_MODEL_44769d0bfb034c208da4828c6bcd2b39",
       "value": " 38/38 [00:01&lt;00:00, 27.20it/s]"
      }
     },
     "3386d10c77a34362b43d2e78ab70edc8": {
      "model_module": "@jupyter-widgets/base",
      "model_module_version": "1.2.0",
      "model_name": "LayoutModel",
      "state": {}
     },
     "339d050c788a4c4d86dce4fde34b5062": {
      "model_module": "@jupyter-widgets/base",
      "model_module_version": "1.2.0",
      "model_name": "LayoutModel",
      "state": {}
     },
     "347aaff019424f0ea571365705cc4ce2": {
      "model_module": "@jupyter-widgets/controls",
      "model_module_version": "1.5.0",
      "model_name": "HTMLModel",
      "state": {
       "layout": "IPY_MODEL_0fdbe33a6ad548adab07d752316f1a7e",
       "style": "IPY_MODEL_2332318cfff841b8bb3d4d4748131bf8",
       "value": " 5/5 [00:00&lt;00:00, 15.68it/s]"
      }
     },
     "348261f45b424721ad8c4ef7d39e09b6": {
      "model_module": "@jupyter-widgets/controls",
      "model_module_version": "1.5.0",
      "model_name": "FloatProgressModel",
      "state": {
       "bar_style": "success",
       "layout": "IPY_MODEL_9b786834da354c789510eddf16a1d98b",
       "max": 5,
       "style": "IPY_MODEL_14d3852de67b4ea786b7b4e22adcb4b5",
       "value": 5
      }
     },
     "34832429b38b4fb7800553d13b3fcb93": {
      "model_module": "@jupyter-widgets/controls",
      "model_module_version": "1.5.0",
      "model_name": "DescriptionStyleModel",
      "state": {
       "description_width": ""
      }
     },
     "34b6d507b9d041978904de7585992587": {
      "model_module": "@jupyter-widgets/controls",
      "model_module_version": "1.5.0",
      "model_name": "HBoxModel",
      "state": {
       "children": [
        "IPY_MODEL_225ac4b20f9c4aed852c49a0feb02363",
        "IPY_MODEL_d9cd5f6525dd486eb28a528de3c6c5dc",
        "IPY_MODEL_0726254562df4309aac506c5cffa434b"
       ],
       "layout": "IPY_MODEL_ebb8f71535fa47cebeeeef7d16d0b022"
      }
     },
     "34b86adffaea49cc8b189baeff85809d": {
      "model_module": "@jupyter-widgets/controls",
      "model_module_version": "1.5.0",
      "model_name": "ProgressStyleModel",
      "state": {
       "description_width": ""
      }
     },
     "34c3afd0e1ea45cda5b5a4632a2e2536": {
      "model_module": "@jupyter-widgets/controls",
      "model_module_version": "1.5.0",
      "model_name": "HBoxModel",
      "state": {
       "children": [
        "IPY_MODEL_49b39dc1ba4f4b9481e2fa229c2ff3e2",
        "IPY_MODEL_c66fddefbdf64e329e81e84ec5dd8331",
        "IPY_MODEL_1b2670762314484f927d727d1dcccd2a"
       ],
       "layout": "IPY_MODEL_4d694f65b7404a67abad79fad8f1313c"
      }
     },
     "3568d3e680d84d0b82d3cb96638e6a22": {
      "model_module": "@jupyter-widgets/controls",
      "model_module_version": "1.5.0",
      "model_name": "HBoxModel",
      "state": {
       "children": [
        "IPY_MODEL_2d23f526b8b54197a27dd1bcc0ef7fb2",
        "IPY_MODEL_7af0558bdf904837a47bc263a007e6a8",
        "IPY_MODEL_8a330e0789b3417b91f04498e54ba7f6"
       ],
       "layout": "IPY_MODEL_0d56830adfd94241a661a1310ec13fbe"
      }
     },
     "357ed7dfb199427bbb47578b9e69096d": {
      "model_module": "@jupyter-widgets/controls",
      "model_module_version": "1.5.0",
      "model_name": "FloatProgressModel",
      "state": {
       "bar_style": "success",
       "layout": "IPY_MODEL_723612705620405c9e4870fa38061fe0",
       "max": 5,
       "style": "IPY_MODEL_fc7df5fb09d646438a52fd167ae8dac3",
       "value": 5
      }
     },
     "35b16c4d37344a51ba603ee2e29259d0": {
      "model_module": "@jupyter-widgets/controls",
      "model_module_version": "1.5.0",
      "model_name": "HBoxModel",
      "state": {
       "children": [
        "IPY_MODEL_e0381dbe161f4ea4b34db84d0434b6b3",
        "IPY_MODEL_c0ee26387d314318a64b82da5a8cef60",
        "IPY_MODEL_9080a9853a0a45ab81428f0fc36f6611"
       ],
       "layout": "IPY_MODEL_2ab5456d155f4c378191da86fc5672bf"
      }
     },
     "35fd308c0b894dd7b66fe72ce7a5282d": {
      "model_module": "@jupyter-widgets/controls",
      "model_module_version": "1.5.0",
      "model_name": "HBoxModel",
      "state": {
       "children": [
        "IPY_MODEL_e3e9cb9252e542628aa409a67b33d541",
        "IPY_MODEL_a6aa890fd8c849ec847f8b4a89617b04",
        "IPY_MODEL_ee5a226b873046ee8dda1b7e0d764d07"
       ],
       "layout": "IPY_MODEL_eabba34b82114ceaaf4827e1b0c7865a"
      }
     },
     "36287179b05349fd9b4bdcb52c8e5543": {
      "model_module": "@jupyter-widgets/base",
      "model_module_version": "1.2.0",
      "model_name": "LayoutModel",
      "state": {}
     },
     "3645e253b7ad4fe7a003fa9a9708b023": {
      "model_module": "@jupyter-widgets/controls",
      "model_module_version": "1.5.0",
      "model_name": "DescriptionStyleModel",
      "state": {
       "description_width": ""
      }
     },
     "36517f73d92b4c1eab17babcd4f4d297": {
      "model_module": "@jupyter-widgets/controls",
      "model_module_version": "1.5.0",
      "model_name": "HTMLModel",
      "state": {
       "layout": "IPY_MODEL_3edfa9cf34d64efd97e604f7611bf682",
       "style": "IPY_MODEL_54d490ad43594da58095b849776273b4",
       "value": " 38/38 [00:01&lt;00:00, 27.49it/s]"
      }
     },
     "3674ea22066b4bdfa5045afd1f6e1acc": {
      "model_module": "@jupyter-widgets/controls",
      "model_module_version": "1.5.0",
      "model_name": "HTMLModel",
      "state": {
       "layout": "IPY_MODEL_fe70cba41169480f85497eb62c5c4af4",
       "style": "IPY_MODEL_bd0bd521b43840a486d928a9a90197e8",
       "value": " 38/38 [00:01&lt;00:00, 26.31it/s]"
      }
     },
     "36e650c2218142f0946efd8d63c7d6ea": {
      "model_module": "@jupyter-widgets/base",
      "model_module_version": "1.2.0",
      "model_name": "LayoutModel",
      "state": {}
     },
     "36f1ed3894a14f0fa19cdfc6d197c8f8": {
      "model_module": "@jupyter-widgets/controls",
      "model_module_version": "1.5.0",
      "model_name": "HBoxModel",
      "state": {
       "children": [
        "IPY_MODEL_5f224593b96a49b3b9f547571d44c3ff",
        "IPY_MODEL_357ed7dfb199427bbb47578b9e69096d",
        "IPY_MODEL_02269c5e27b94accb29c169bbf33b303"
       ],
       "layout": "IPY_MODEL_bec9f3d90afc47cc808ccdc44a8b7204"
      }
     },
     "3708fa690aa7449792b521a470d73504": {
      "model_module": "@jupyter-widgets/base",
      "model_module_version": "1.2.0",
      "model_name": "LayoutModel",
      "state": {}
     },
     "3712765647d74200af8c3ceb81e66694": {
      "model_module": "@jupyter-widgets/controls",
      "model_module_version": "1.5.0",
      "model_name": "HTMLModel",
      "state": {
       "layout": "IPY_MODEL_b3639bfb24dd4a76ac476e69520be6d8",
       "style": "IPY_MODEL_9fa07d388f764fcb91806f7c92c50b24",
       "value": "Epoch: 1. Validation. 2.77162: 100%"
      }
     },
     "37435352298446d48c8491285863df74": {
      "model_module": "@jupyter-widgets/controls",
      "model_module_version": "1.5.0",
      "model_name": "DescriptionStyleModel",
      "state": {
       "description_width": ""
      }
     },
     "37f8f3e4fea14ad5980ff9c868fbcd11": {
      "model_module": "@jupyter-widgets/controls",
      "model_module_version": "1.5.0",
      "model_name": "DescriptionStyleModel",
      "state": {
       "description_width": ""
      }
     },
     "37fec90c6dcd4e5fb25cb76353e4f665": {
      "model_module": "@jupyter-widgets/base",
      "model_module_version": "1.2.0",
      "model_name": "LayoutModel",
      "state": {}
     },
     "381c1884919c4f3b9eb89be4b21a1a8d": {
      "model_module": "@jupyter-widgets/controls",
      "model_module_version": "1.5.0",
      "model_name": "ProgressStyleModel",
      "state": {
       "description_width": ""
      }
     },
     "382e22b3f2a3498d9643309d894c5716": {
      "model_module": "@jupyter-widgets/base",
      "model_module_version": "1.2.0",
      "model_name": "LayoutModel",
      "state": {}
     },
     "383f3add3c564c41a73f44eba02fcd37": {
      "model_module": "@jupyter-widgets/controls",
      "model_module_version": "1.5.0",
      "model_name": "HTMLModel",
      "state": {
       "layout": "IPY_MODEL_74ef1c3ae4fa4fa88827fa024438de9b",
       "style": "IPY_MODEL_e3bed624a7904ab3a810e85c7839d3d2",
       "value": "Epoch: 20. Train.    3.55670: 100%"
      }
     },
     "39254a080301482db19b680b226ecf91": {
      "model_module": "@jupyter-widgets/controls",
      "model_module_version": "1.5.0",
      "model_name": "HTMLModel",
      "state": {
       "layout": "IPY_MODEL_c480b91aed6b4fbf89b15c043235394a",
       "style": "IPY_MODEL_19c9feb754da4b4881ff3ff2bc986769",
       "value": "Epoch: 29. Validation. 0.23538: 100%"
      }
     },
     "39b6804649294d8fa476aee2e860b6f7": {
      "model_module": "@jupyter-widgets/base",
      "model_module_version": "1.2.0",
      "model_name": "LayoutModel",
      "state": {}
     },
     "3a42ff6bc4454f2fa09d6e4cff8dd1a7": {
      "model_module": "@jupyter-widgets/base",
      "model_module_version": "1.2.0",
      "model_name": "LayoutModel",
      "state": {}
     },
     "3a762074c16148aa9c9519d9f94c3fea": {
      "model_module": "@jupyter-widgets/controls",
      "model_module_version": "1.5.0",
      "model_name": "DescriptionStyleModel",
      "state": {
       "description_width": ""
      }
     },
     "3a9bef725e5b4b5d8ca494546a7504ad": {
      "model_module": "@jupyter-widgets/controls",
      "model_module_version": "1.5.0",
      "model_name": "HTMLModel",
      "state": {
       "layout": "IPY_MODEL_8bca0cc16d134d1f84d2c41e39a6f3b1",
       "style": "IPY_MODEL_ec343d7ec9a241b890ea4bd5c09af43e",
       "value": " 5/5 [00:00&lt;00:00, 15.74it/s]"
      }
     },
     "3ac199bb018544b1aa8e1ac009662425": {
      "model_module": "@jupyter-widgets/base",
      "model_module_version": "1.2.0",
      "model_name": "LayoutModel",
      "state": {}
     },
     "3afb47b1086e48289b1a5def39abb2bc": {
      "model_module": "@jupyter-widgets/controls",
      "model_module_version": "1.5.0",
      "model_name": "DescriptionStyleModel",
      "state": {
       "description_width": ""
      }
     },
     "3ba94de645f844528e0b8bf53d0985f9": {
      "model_module": "@jupyter-widgets/controls",
      "model_module_version": "1.5.0",
      "model_name": "DescriptionStyleModel",
      "state": {
       "description_width": ""
      }
     },
     "3bad0f5850024a94886b1c73e3479395": {
      "model_module": "@jupyter-widgets/controls",
      "model_module_version": "1.5.0",
      "model_name": "HTMLModel",
      "state": {
       "layout": "IPY_MODEL_ddbefa5f3f6449d982baa15d07942dd5",
       "style": "IPY_MODEL_6d9ac46af24349be813a4c68097b00d9",
       "value": "Epoch: 5. Validation. 0.66958: 100%"
      }
     },
     "3bf457742a1a43e0843ca09e9b57a1b9": {
      "model_module": "@jupyter-widgets/base",
      "model_module_version": "1.2.0",
      "model_name": "LayoutModel",
      "state": {}
     },
     "3c553aa8038647e5ad1ae832f9e456e1": {
      "model_module": "@jupyter-widgets/base",
      "model_module_version": "1.2.0",
      "model_name": "LayoutModel",
      "state": {}
     },
     "3c5b9c6ffd96415d905b710b62926494": {
      "model_module": "@jupyter-widgets/controls",
      "model_module_version": "1.5.0",
      "model_name": "HTMLModel",
      "state": {
       "layout": "IPY_MODEL_49b29c2d403f4606a799a1130d116e14",
       "style": "IPY_MODEL_9d12df9e0d4849498e28d8dca55ae7fc",
       "value": " 5/5 [00:00&lt;00:00, 15.92it/s]"
      }
     },
     "3c98bd101eff454e98598b510b3b47d1": {
      "model_module": "@jupyter-widgets/controls",
      "model_module_version": "1.5.0",
      "model_name": "DescriptionStyleModel",
      "state": {
       "description_width": ""
      }
     },
     "3ca2f96cdce649028ee09e2e444b2f3e": {
      "model_module": "@jupyter-widgets/base",
      "model_module_version": "1.2.0",
      "model_name": "LayoutModel",
      "state": {}
     },
     "3cf8dab75c17414db72416852a6ceee9": {
      "model_module": "@jupyter-widgets/base",
      "model_module_version": "1.2.0",
      "model_name": "LayoutModel",
      "state": {}
     },
     "3d04a66f153d4e2a83d967e18662a208": {
      "model_module": "@jupyter-widgets/controls",
      "model_module_version": "1.5.0",
      "model_name": "HBoxModel",
      "state": {
       "children": [
        "IPY_MODEL_e8dbfab7dc0e45d68d49b22ddcd598af",
        "IPY_MODEL_a49cdcadd3e3460ba8d9958c97015214",
        "IPY_MODEL_91c057404d35426faf4b22e72250b3a1"
       ],
       "layout": "IPY_MODEL_0e23bbf1fe4947fb97933a3bc6f9fc97"
      }
     },
     "3d5aca888b51482b908e99fac476af8f": {
      "model_module": "@jupyter-widgets/base",
      "model_module_version": "1.2.0",
      "model_name": "LayoutModel",
      "state": {}
     },
     "3d8031c66ca2468ba2816b3f7c92d42b": {
      "model_module": "@jupyter-widgets/base",
      "model_module_version": "1.2.0",
      "model_name": "LayoutModel",
      "state": {}
     },
     "3dad295f9ce343bca6751dd6e19060d6": {
      "model_module": "@jupyter-widgets/base",
      "model_module_version": "1.2.0",
      "model_name": "LayoutModel",
      "state": {}
     },
     "3de30522df5248089ff2f64c81aa11d4": {
      "model_module": "@jupyter-widgets/controls",
      "model_module_version": "1.5.0",
      "model_name": "HTMLModel",
      "state": {
       "layout": "IPY_MODEL_fbe7642265384a26b7d3cc53b0c03b50",
       "style": "IPY_MODEL_3645e253b7ad4fe7a003fa9a9708b023",
       "value": "Epoch: 31. Validation. 0.22647: 100%"
      }
     },
     "3edfa9cf34d64efd97e604f7611bf682": {
      "model_module": "@jupyter-widgets/base",
      "model_module_version": "1.2.0",
      "model_name": "LayoutModel",
      "state": {}
     },
     "3ef3a7b812194a3dac167ea06925830d": {
      "model_module": "@jupyter-widgets/base",
      "model_module_version": "1.2.0",
      "model_name": "LayoutModel",
      "state": {}
     },
     "3fd2c8a450ff4f229b2b32eef2f0a04c": {
      "model_module": "@jupyter-widgets/controls",
      "model_module_version": "1.5.0",
      "model_name": "HBoxModel",
      "state": {
       "children": [
        "IPY_MODEL_ae64b2099de949969062da3a7b2bf5de",
        "IPY_MODEL_e9b31ccc139444cb8492e678ec6fb756",
        "IPY_MODEL_cc27d4f7fbc5455e8ec3e455e670e627"
       ],
       "layout": "IPY_MODEL_49ef113297e2411887107ebc805cda3c"
      }
     },
     "400cf262c5454f439cb0ce9a588627f7": {
      "model_module": "@jupyter-widgets/controls",
      "model_module_version": "1.5.0",
      "model_name": "HTMLModel",
      "state": {
       "layout": "IPY_MODEL_42bed0e0772f4cfa98c9e1f9656a6094",
       "style": "IPY_MODEL_16148399e86f405dba8d9ba1031f252a",
       "value": "Epoch: 40. Train.    1.74506: 100%"
      }
     },
     "402c536995744414a9199f3acdfafbcb": {
      "model_module": "@jupyter-widgets/controls",
      "model_module_version": "1.5.0",
      "model_name": "HTMLModel",
      "state": {
       "layout": "IPY_MODEL_92315b49afd24afdb7f4227e2f5a42df",
       "style": "IPY_MODEL_71912c25934c4d1186263dcf3c43813a",
       "value": " 5/5 [00:00&lt;00:00, 16.05it/s]"
      }
     },
     "4041803b2fff4be2b5cdd3e0bda17cb6": {
      "model_module": "@jupyter-widgets/controls",
      "model_module_version": "1.5.0",
      "model_name": "ProgressStyleModel",
      "state": {
       "description_width": ""
      }
     },
     "40abe9d7169a48f1a714119dabba6522": {
      "model_module": "@jupyter-widgets/controls",
      "model_module_version": "1.5.0",
      "model_name": "ProgressStyleModel",
      "state": {
       "description_width": ""
      }
     },
     "415a66a88f0441f5940a41fb90efb3e4": {
      "model_module": "@jupyter-widgets/base",
      "model_module_version": "1.2.0",
      "model_name": "LayoutModel",
      "state": {}
     },
     "415f29cfc9134b5d802009a7a71f2f04": {
      "model_module": "@jupyter-widgets/controls",
      "model_module_version": "1.5.0",
      "model_name": "HTMLModel",
      "state": {
       "layout": "IPY_MODEL_a4908286e3a74780bb23728faf74297f",
       "style": "IPY_MODEL_7803e4e7e470453fa8c2270bcbe3347e",
       "value": "Epoch: 14. Validation. 0.44018: 100%"
      }
     },
     "4162ef15ef674b3baaa754e8d5deb0b1": {
      "model_module": "@jupyter-widgets/base",
      "model_module_version": "1.2.0",
      "model_name": "LayoutModel",
      "state": {}
     },
     "41698fff80ca47f8bb70e4ca169199a7": {
      "model_module": "@jupyter-widgets/base",
      "model_module_version": "1.2.0",
      "model_name": "LayoutModel",
      "state": {}
     },
     "41d01f5508334f44999d5b1e7cc8979f": {
      "model_module": "@jupyter-widgets/controls",
      "model_module_version": "1.5.0",
      "model_name": "DescriptionStyleModel",
      "state": {
       "description_width": ""
      }
     },
     "42667222fa7047c9961726648c7c3beb": {
      "model_module": "@jupyter-widgets/controls",
      "model_module_version": "1.5.0",
      "model_name": "ProgressStyleModel",
      "state": {
       "description_width": ""
      }
     },
     "42bed0e0772f4cfa98c9e1f9656a6094": {
      "model_module": "@jupyter-widgets/base",
      "model_module_version": "1.2.0",
      "model_name": "LayoutModel",
      "state": {}
     },
     "42d89a2e083d413d8332e9c3c5353498": {
      "model_module": "@jupyter-widgets/base",
      "model_module_version": "1.2.0",
      "model_name": "LayoutModel",
      "state": {}
     },
     "42da995c6365486db3de109d578ed554": {
      "model_module": "@jupyter-widgets/controls",
      "model_module_version": "1.5.0",
      "model_name": "DescriptionStyleModel",
      "state": {
       "description_width": ""
      }
     },
     "435941ee4799405a8e3dd7ba28afd938": {
      "model_module": "@jupyter-widgets/controls",
      "model_module_version": "1.5.0",
      "model_name": "FloatProgressModel",
      "state": {
       "bar_style": "success",
       "layout": "IPY_MODEL_3cf8dab75c17414db72416852a6ceee9",
       "max": 38,
       "style": "IPY_MODEL_7dcea5ec81254a668c02e29f77546a68",
       "value": 38
      }
     },
     "4386ae035a284622bcd9f753e7a02a69": {
      "model_module": "@jupyter-widgets/base",
      "model_module_version": "1.2.0",
      "model_name": "LayoutModel",
      "state": {}
     },
     "43ac56a8531f4a12ae3336e29a4054f4": {
      "model_module": "@jupyter-widgets/base",
      "model_module_version": "1.2.0",
      "model_name": "LayoutModel",
      "state": {}
     },
     "44057f2aa46347b0bd458f2bffccddfd": {
      "model_module": "@jupyter-widgets/controls",
      "model_module_version": "1.5.0",
      "model_name": "DescriptionStyleModel",
      "state": {
       "description_width": ""
      }
     },
     "44769d0bfb034c208da4828c6bcd2b39": {
      "model_module": "@jupyter-widgets/controls",
      "model_module_version": "1.5.0",
      "model_name": "DescriptionStyleModel",
      "state": {
       "description_width": ""
      }
     },
     "44b3ab1d6f2946d287a5ee2e7d6d89bb": {
      "model_module": "@jupyter-widgets/controls",
      "model_module_version": "1.5.0",
      "model_name": "HTMLModel",
      "state": {
       "layout": "IPY_MODEL_c4f085fa8f3a4f79ad117d55b625cd09",
       "style": "IPY_MODEL_58cc056cf9d44f01adfeb5319763c089",
       "value": " 38/38 [00:01&lt;00:00, 26.80it/s]"
      }
     },
     "44d256eff12b41f3b716dc799960a3f7": {
      "model_module": "@jupyter-widgets/controls",
      "model_module_version": "1.5.0",
      "model_name": "HTMLModel",
      "state": {
       "layout": "IPY_MODEL_9b3cf497e1ea4ac9a870115027e058a5",
       "style": "IPY_MODEL_079a83256e4a48fe9ef6adfe876f17da",
       "value": "Epoch: 28. Validation. 0.26359: 100%"
      }
     },
     "455138dd5ecf45b79b59c48c54e82dbf": {
      "model_module": "@jupyter-widgets/controls",
      "model_module_version": "1.5.0",
      "model_name": "ProgressStyleModel",
      "state": {
       "description_width": ""
      }
     },
     "45bc3e856bb64730bf54b67f8a5cb4fa": {
      "model_module": "@jupyter-widgets/controls",
      "model_module_version": "1.5.0",
      "model_name": "HBoxModel",
      "state": {
       "children": [
        "IPY_MODEL_157ee9afa06e4122b177d67744af9526",
        "IPY_MODEL_4c13f9cec7cb436ca2f5feeba504e88b",
        "IPY_MODEL_3323f46b24934353aa5ddc09cc6408d2"
       ],
       "layout": "IPY_MODEL_46507d7c099844a2934e30fece04cf3b"
      }
     },
     "462368348b624e3598d09b089ba046b8": {
      "model_module": "@jupyter-widgets/base",
      "model_module_version": "1.2.0",
      "model_name": "LayoutModel",
      "state": {}
     },
     "46507d7c099844a2934e30fece04cf3b": {
      "model_module": "@jupyter-widgets/base",
      "model_module_version": "1.2.0",
      "model_name": "LayoutModel",
      "state": {}
     },
     "4666b24ee58f4b18b05c8dac9ec8c2af": {
      "model_module": "@jupyter-widgets/controls",
      "model_module_version": "1.5.0",
      "model_name": "FloatProgressModel",
      "state": {
       "bar_style": "success",
       "layout": "IPY_MODEL_c7b6b76c00f44ba589fc1200021c3cee",
       "max": 5,
       "style": "IPY_MODEL_c0631173cda04697b79b78d8579aedd2",
       "value": 5
      }
     },
     "467e5cd8661344e0809b58c0a86af08e": {
      "model_module": "@jupyter-widgets/base",
      "model_module_version": "1.2.0",
      "model_name": "LayoutModel",
      "state": {}
     },
     "46c80de0515949c9a7cf6a13820498df": {
      "model_module": "@jupyter-widgets/base",
      "model_module_version": "1.2.0",
      "model_name": "LayoutModel",
      "state": {}
     },
     "46d566c5ccb24ff694a954e465ce03aa": {
      "model_module": "@jupyter-widgets/controls",
      "model_module_version": "1.5.0",
      "model_name": "DescriptionStyleModel",
      "state": {
       "description_width": ""
      }
     },
     "47f258b2ddf3469d904407d6b32f8ab2": {
      "model_module": "@jupyter-widgets/controls",
      "model_module_version": "1.5.0",
      "model_name": "HTMLModel",
      "state": {
       "layout": "IPY_MODEL_556e0461d34449939582f8d5c6de5bf6",
       "style": "IPY_MODEL_a7c2c6ce015a40749cf981819d65b4ce",
       "value": "Epoch: 22. Validation. 0.28705: 100%"
      }
     },
     "48296c5691df4a12a29c5ea2ed496681": {
      "model_module": "@jupyter-widgets/base",
      "model_module_version": "1.2.0",
      "model_name": "LayoutModel",
      "state": {}
     },
     "4944c4a6086e48ce8d5660cfaa757f40": {
      "model_module": "@jupyter-widgets/base",
      "model_module_version": "1.2.0",
      "model_name": "LayoutModel",
      "state": {}
     },
     "494d4b445a7b483bbb87e4921a4065ca": {
      "model_module": "@jupyter-widgets/controls",
      "model_module_version": "1.5.0",
      "model_name": "DescriptionStyleModel",
      "state": {
       "description_width": ""
      }
     },
     "495dd4b7494e405c91899a161e2704ec": {
      "model_module": "@jupyter-widgets/base",
      "model_module_version": "1.2.0",
      "model_name": "LayoutModel",
      "state": {}
     },
     "4971b24f7c624b32bfd58dfe4dd536f2": {
      "model_module": "@jupyter-widgets/controls",
      "model_module_version": "1.5.0",
      "model_name": "ProgressStyleModel",
      "state": {
       "description_width": ""
      }
     },
     "497a9eb5eb704be880e834489d4aa71e": {
      "model_module": "@jupyter-widgets/controls",
      "model_module_version": "1.5.0",
      "model_name": "DescriptionStyleModel",
      "state": {
       "description_width": ""
      }
     },
     "49b29c2d403f4606a799a1130d116e14": {
      "model_module": "@jupyter-widgets/base",
      "model_module_version": "1.2.0",
      "model_name": "LayoutModel",
      "state": {}
     },
     "49b39dc1ba4f4b9481e2fa229c2ff3e2": {
      "model_module": "@jupyter-widgets/controls",
      "model_module_version": "1.5.0",
      "model_name": "HTMLModel",
      "state": {
       "layout": "IPY_MODEL_ac26ee29b6534435aea00c90f84916ee",
       "style": "IPY_MODEL_c087271977a24efab3de432c03a41fb7",
       "value": "Epoch: 6. Train.    4.75228: 100%"
      }
     },
     "49ef113297e2411887107ebc805cda3c": {
      "model_module": "@jupyter-widgets/base",
      "model_module_version": "1.2.0",
      "model_name": "LayoutModel",
      "state": {}
     },
     "4a3362eb98874e5ab2c6f0144f8d998b": {
      "model_module": "@jupyter-widgets/controls",
      "model_module_version": "1.5.0",
      "model_name": "HBoxModel",
      "state": {
       "children": [
        "IPY_MODEL_028840f540dd45fda577cb89a116400b",
        "IPY_MODEL_d3b119e6a8284a42a810782af15fc2e3",
        "IPY_MODEL_2d31250c4cf14804a541b8206561af03"
       ],
       "layout": "IPY_MODEL_f225070629e445dba2d35947e06765dd"
      }
     },
     "4a76e05e193740aba1a35844d872634c": {
      "model_module": "@jupyter-widgets/base",
      "model_module_version": "1.2.0",
      "model_name": "LayoutModel",
      "state": {}
     },
     "4b15be4d233248a1b7ac7dbb71722eee": {
      "model_module": "@jupyter-widgets/base",
      "model_module_version": "1.2.0",
      "model_name": "LayoutModel",
      "state": {}
     },
     "4b4eb4581fdc4e728724e7d307476044": {
      "model_module": "@jupyter-widgets/base",
      "model_module_version": "1.2.0",
      "model_name": "LayoutModel",
      "state": {}
     },
     "4c13f9cec7cb436ca2f5feeba504e88b": {
      "model_module": "@jupyter-widgets/controls",
      "model_module_version": "1.5.0",
      "model_name": "FloatProgressModel",
      "state": {
       "bar_style": "success",
       "layout": "IPY_MODEL_65aadcafa6734399a11a32a6ea256e7c",
       "max": 38,
       "style": "IPY_MODEL_1be03c2350fe4fd287905a8cc778e7cc",
       "value": 38
      }
     },
     "4c89acd2f1f54349bf708f18583b9d4d": {
      "model_module": "@jupyter-widgets/controls",
      "model_module_version": "1.5.0",
      "model_name": "DescriptionStyleModel",
      "state": {
       "description_width": ""
      }
     },
     "4d0ce801580e49c6a5edc088277e5b01": {
      "model_module": "@jupyter-widgets/controls",
      "model_module_version": "1.5.0",
      "model_name": "ProgressStyleModel",
      "state": {
       "description_width": ""
      }
     },
     "4d2c2a41e7a34592ac05211e108aa5e9": {
      "model_module": "@jupyter-widgets/base",
      "model_module_version": "1.2.0",
      "model_name": "LayoutModel",
      "state": {}
     },
     "4d2d5d3ec4be42d8b544fa7517a2ed4e": {
      "model_module": "@jupyter-widgets/controls",
      "model_module_version": "1.5.0",
      "model_name": "ProgressStyleModel",
      "state": {
       "description_width": ""
      }
     },
     "4d694f65b7404a67abad79fad8f1313c": {
      "model_module": "@jupyter-widgets/base",
      "model_module_version": "1.2.0",
      "model_name": "LayoutModel",
      "state": {}
     },
     "4d966ddea7404f82810628d98d3936f7": {
      "model_module": "@jupyter-widgets/controls",
      "model_module_version": "1.5.0",
      "model_name": "FloatProgressModel",
      "state": {
       "bar_style": "success",
       "layout": "IPY_MODEL_1e59ec9a29e144dc92fb581420ee3a49",
       "max": 38,
       "style": "IPY_MODEL_18fe8bd3b2f1442584c812303eda6b75",
       "value": 38
      }
     },
     "4d9ad00fdc7b49728ede5cd096ca96ba": {
      "model_module": "@jupyter-widgets/base",
      "model_module_version": "1.2.0",
      "model_name": "LayoutModel",
      "state": {}
     },
     "4e37916b64f94c3ab8da34f9e5d31e9d": {
      "model_module": "@jupyter-widgets/controls",
      "model_module_version": "1.5.0",
      "model_name": "HTMLModel",
      "state": {
       "layout": "IPY_MODEL_a696307386d94bd5a0f824acf0070423",
       "style": "IPY_MODEL_1bfffa5095774bcf971538d40732b12e",
       "value": "Epoch: 7. Validation. 0.40369: 100%"
      }
     },
     "4e5a5d4d58b74509a52fad1af142b0a2": {
      "model_module": "@jupyter-widgets/controls",
      "model_module_version": "1.5.0",
      "model_name": "ProgressStyleModel",
      "state": {
       "description_width": ""
      }
     },
     "4f53afa82e7041d9a4248e952cac727b": {
      "model_module": "@jupyter-widgets/controls",
      "model_module_version": "1.5.0",
      "model_name": "ProgressStyleModel",
      "state": {
       "description_width": ""
      }
     },
     "4f82c6756f144037bd3398fbc67415cf": {
      "model_module": "@jupyter-widgets/controls",
      "model_module_version": "1.5.0",
      "model_name": "ProgressStyleModel",
      "state": {
       "description_width": ""
      }
     },
     "4f84aeadf65e4e78936bb72ad95512b6": {
      "model_module": "@jupyter-widgets/controls",
      "model_module_version": "1.5.0",
      "model_name": "HBoxModel",
      "state": {
       "children": [
        "IPY_MODEL_1565b6be406f425ab9cdcc4550af8509",
        "IPY_MODEL_1cd0a643de1f4014accda558cdea29a5",
        "IPY_MODEL_693fb72a5283468ca4785ca031a93e2a"
       ],
       "layout": "IPY_MODEL_953035151f5442c9bcb9a650363faa30"
      }
     },
     "4fd3cebc0df7445085c1309616d04e40": {
      "model_module": "@jupyter-widgets/controls",
      "model_module_version": "1.5.0",
      "model_name": "DescriptionStyleModel",
      "state": {
       "description_width": ""
      }
     },
     "50174e8dd2ca41f3962860a75523bc34": {
      "model_module": "@jupyter-widgets/controls",
      "model_module_version": "1.5.0",
      "model_name": "ProgressStyleModel",
      "state": {
       "description_width": ""
      }
     },
     "50300e6244ea45ceb0391553324455bf": {
      "model_module": "@jupyter-widgets/controls",
      "model_module_version": "1.5.0",
      "model_name": "HBoxModel",
      "state": {
       "children": [
        "IPY_MODEL_0d887ce817ee48fda78364310dfb7b7d",
        "IPY_MODEL_7ff9338c5a694306919cb3cf79bd181c",
        "IPY_MODEL_cb92a0273a3141bc98933d167d45288d"
       ],
       "layout": "IPY_MODEL_11ca34fd632941ce917e1ed559f32338"
      }
     },
     "5088e5f8f092412f8770627d8b477b4e": {
      "model_module": "@jupyter-widgets/base",
      "model_module_version": "1.2.0",
      "model_name": "LayoutModel",
      "state": {}
     },
     "516fec9c63d74f8cbf281d82aa3bb41b": {
      "model_module": "@jupyter-widgets/controls",
      "model_module_version": "1.5.0",
      "model_name": "DescriptionStyleModel",
      "state": {
       "description_width": ""
      }
     },
     "5193ee41b2984505a6ba6778ef3dd401": {
      "model_module": "@jupyter-widgets/controls",
      "model_module_version": "1.5.0",
      "model_name": "DescriptionStyleModel",
      "state": {
       "description_width": ""
      }
     },
     "51dc467e728a476497c00ccc75effacb": {
      "model_module": "@jupyter-widgets/controls",
      "model_module_version": "1.5.0",
      "model_name": "HTMLModel",
      "state": {
       "layout": "IPY_MODEL_30f19ed7af064ebe946fbb5e9e8756a1",
       "style": "IPY_MODEL_3ba94de645f844528e0b8bf53d0985f9",
       "value": " 5/5 [00:00&lt;00:00, 15.53it/s]"
      }
     },
     "51f13dceb8244fb1a4419edfe04982c3": {
      "model_module": "@jupyter-widgets/base",
      "model_module_version": "1.2.0",
      "model_name": "LayoutModel",
      "state": {}
     },
     "5273116dec354bd19bb0eaec47f49b35": {
      "model_module": "@jupyter-widgets/base",
      "model_module_version": "1.2.0",
      "model_name": "LayoutModel",
      "state": {}
     },
     "52d615b6a0ac42e4b376f0370d3f0775": {
      "model_module": "@jupyter-widgets/base",
      "model_module_version": "1.2.0",
      "model_name": "LayoutModel",
      "state": {}
     },
     "52e5c1f466654aa69a3cad985f068552": {
      "model_module": "@jupyter-widgets/base",
      "model_module_version": "1.2.0",
      "model_name": "LayoutModel",
      "state": {}
     },
     "537e1c49bda34f9089e83b56c7a0ae34": {
      "model_module": "@jupyter-widgets/controls",
      "model_module_version": "1.5.0",
      "model_name": "DescriptionStyleModel",
      "state": {
       "description_width": ""
      }
     },
     "543b4898f91b45dcbaad7372050f824c": {
      "model_module": "@jupyter-widgets/base",
      "model_module_version": "1.2.0",
      "model_name": "LayoutModel",
      "state": {}
     },
     "545a207bbeef440b93605976b37a2ab8": {
      "model_module": "@jupyter-widgets/controls",
      "model_module_version": "1.5.0",
      "model_name": "DescriptionStyleModel",
      "state": {
       "description_width": ""
      }
     },
     "54710b09cab147bd95370e37b285d83d": {
      "model_module": "@jupyter-widgets/controls",
      "model_module_version": "1.5.0",
      "model_name": "DescriptionStyleModel",
      "state": {
       "description_width": ""
      }
     },
     "54d490ad43594da58095b849776273b4": {
      "model_module": "@jupyter-widgets/controls",
      "model_module_version": "1.5.0",
      "model_name": "DescriptionStyleModel",
      "state": {
       "description_width": ""
      }
     },
     "54f423e9e00d45b48ea0e1a3d51237df": {
      "model_module": "@jupyter-widgets/controls",
      "model_module_version": "1.5.0",
      "model_name": "DescriptionStyleModel",
      "state": {
       "description_width": ""
      }
     },
     "556e0461d34449939582f8d5c6de5bf6": {
      "model_module": "@jupyter-widgets/base",
      "model_module_version": "1.2.0",
      "model_name": "LayoutModel",
      "state": {}
     },
     "55715ae02b0c4d47a6488b5dcdbadd23": {
      "model_module": "@jupyter-widgets/controls",
      "model_module_version": "1.5.0",
      "model_name": "FloatProgressModel",
      "state": {
       "bar_style": "success",
       "layout": "IPY_MODEL_7eb3ae80359849cbba95a1cba0db0f1c",
       "max": 5,
       "style": "IPY_MODEL_6c69c32d06f3432d9d6a56d948887c42",
       "value": 5
      }
     },
     "55a60566c58c41ae87c77d3e753404b7": {
      "model_module": "@jupyter-widgets/base",
      "model_module_version": "1.2.0",
      "model_name": "LayoutModel",
      "state": {}
     },
     "55c83c12aa0f420e8007cc434b05b789": {
      "model_module": "@jupyter-widgets/controls",
      "model_module_version": "1.5.0",
      "model_name": "HTMLModel",
      "state": {
       "layout": "IPY_MODEL_70c196005a1e4815845451ce42b61a3b",
       "style": "IPY_MODEL_1fd86af81edf4112b6e1947670be5a32",
       "value": "Epoch: 7. Train.    4.43908: 100%"
      }
     },
     "56229309ce30443cabaac205c3db28aa": {
      "model_module": "@jupyter-widgets/controls",
      "model_module_version": "1.5.0",
      "model_name": "DescriptionStyleModel",
      "state": {
       "description_width": ""
      }
     },
     "56936a1f24b243b28c2a2eb09e79d827": {
      "model_module": "@jupyter-widgets/controls",
      "model_module_version": "1.5.0",
      "model_name": "DescriptionStyleModel",
      "state": {
       "description_width": ""
      }
     },
     "56d0e9a9a2744e589a1884622542245b": {
      "model_module": "@jupyter-widgets/controls",
      "model_module_version": "1.5.0",
      "model_name": "DescriptionStyleModel",
      "state": {
       "description_width": ""
      }
     },
     "56e7e3fbfa8d48fbaafe2d8e0cec02e5": {
      "model_module": "@jupyter-widgets/controls",
      "model_module_version": "1.5.0",
      "model_name": "DescriptionStyleModel",
      "state": {
       "description_width": ""
      }
     },
     "57081983278d4f7a999529100a924b06": {
      "model_module": "@jupyter-widgets/controls",
      "model_module_version": "1.5.0",
      "model_name": "HTMLModel",
      "state": {
       "layout": "IPY_MODEL_543b4898f91b45dcbaad7372050f824c",
       "style": "IPY_MODEL_3a762074c16148aa9c9519d9f94c3fea",
       "value": "Epoch: 18. Validation. 0.39285: 100%"
      }
     },
     "5736a76986124ac38ba75fe62a032882": {
      "model_module": "@jupyter-widgets/controls",
      "model_module_version": "1.5.0",
      "model_name": "HBoxModel",
      "state": {
       "children": [
        "IPY_MODEL_55c83c12aa0f420e8007cc434b05b789",
        "IPY_MODEL_8f0ca1f2c5784d279b7d3da84bae230f",
        "IPY_MODEL_cad26109654742188f5db9e144c8b13a"
       ],
       "layout": "IPY_MODEL_415a66a88f0441f5940a41fb90efb3e4"
      }
     },
     "578a2c7e07f64acbb78b0ea0739ca207": {
      "model_module": "@jupyter-widgets/controls",
      "model_module_version": "1.5.0",
      "model_name": "HTMLModel",
      "state": {
       "layout": "IPY_MODEL_d2e3546ee2764390bf91ea53c0ff665d",
       "style": "IPY_MODEL_c703d44a7a1f4c5ebcab84978b27a8d4",
       "value": " 38/38 [00:01&lt;00:00, 25.66it/s]"
      }
     },
     "578b22051b734b518c5a3aa264d51063": {
      "model_module": "@jupyter-widgets/controls",
      "model_module_version": "1.5.0",
      "model_name": "HBoxModel",
      "state": {
       "children": [
        "IPY_MODEL_a8c2dbb14b83488aab12fa43589062bd",
        "IPY_MODEL_acede2baf6bc422baf60f5a882969bc9",
        "IPY_MODEL_b8c223691a5b493bbd9f6c7a5cd85802"
       ],
       "layout": "IPY_MODEL_e3fa46398d134acbba0a8f2a169077d3"
      }
     },
     "57a1175b83674933ab650a403966959a": {
      "model_module": "@jupyter-widgets/base",
      "model_module_version": "1.2.0",
      "model_name": "LayoutModel",
      "state": {}
     },
     "580c86db94ca419ea91f6ce323ca2bd4": {
      "model_module": "@jupyter-widgets/controls",
      "model_module_version": "1.5.0",
      "model_name": "FloatProgressModel",
      "state": {
       "bar_style": "success",
       "layout": "IPY_MODEL_b6126681fe4147349720582ffd0c74e9",
       "max": 38,
       "style": "IPY_MODEL_14ac5f97b6f2480fb45bab2ce92e3b24",
       "value": 38
      }
     },
     "589845ac7f4c40219be61c3c83b803c6": {
      "model_module": "@jupyter-widgets/base",
      "model_module_version": "1.2.0",
      "model_name": "LayoutModel",
      "state": {}
     },
     "58cc056cf9d44f01adfeb5319763c089": {
      "model_module": "@jupyter-widgets/controls",
      "model_module_version": "1.5.0",
      "model_name": "DescriptionStyleModel",
      "state": {
       "description_width": ""
      }
     },
     "5942e01bafe841a4b11d4a9e152a1839": {
      "model_module": "@jupyter-widgets/controls",
      "model_module_version": "1.5.0",
      "model_name": "HTMLModel",
      "state": {
       "layout": "IPY_MODEL_52e5c1f466654aa69a3cad985f068552",
       "style": "IPY_MODEL_1bc350a2383e48d3888d5f2a2a0fdedd",
       "value": " 38/38 [00:01&lt;00:00, 26.99it/s]"
      }
     },
     "59833e93b517470093bff23103ee848e": {
      "model_module": "@jupyter-widgets/base",
      "model_module_version": "1.2.0",
      "model_name": "LayoutModel",
      "state": {}
     },
     "59ca203528d14d39ad363ffbc63d83b5": {
      "model_module": "@jupyter-widgets/controls",
      "model_module_version": "1.5.0",
      "model_name": "DescriptionStyleModel",
      "state": {
       "description_width": ""
      }
     },
     "59d0e509bce94902a0882be9b1faab0a": {
      "model_module": "@jupyter-widgets/controls",
      "model_module_version": "1.5.0",
      "model_name": "HTMLModel",
      "state": {
       "layout": "IPY_MODEL_5088e5f8f092412f8770627d8b477b4e",
       "style": "IPY_MODEL_3afb47b1086e48289b1a5def39abb2bc",
       "value": "Epoch: 10. Validation. 0.34970: 100%"
      }
     },
     "5a27dd03b68a4d688c96dec983e055a3": {
      "model_module": "@jupyter-widgets/controls",
      "model_module_version": "1.5.0",
      "model_name": "HTMLModel",
      "state": {
       "layout": "IPY_MODEL_879a78e543fb4bb39eb3e20c2b4eddce",
       "style": "IPY_MODEL_9a18f11bb07440fdbfded192f75c407e",
       "value": "Epoch: 33. Train.    1.99818: 100%"
      }
     },
     "5a6fc90b4d1e456ca08f8a74372ee155": {
      "model_module": "@jupyter-widgets/controls",
      "model_module_version": "1.5.0",
      "model_name": "HTMLModel",
      "state": {
       "layout": "IPY_MODEL_c8d9d8610782442b8e3fa3299eb7236d",
       "style": "IPY_MODEL_70251bc586314664af7cabf7a967dd7f",
       "value": " 38/38 [00:01&lt;00:00, 26.99it/s]"
      }
     },
     "5a817e48c67943e0ac6d3cd227be43d8": {
      "model_module": "@jupyter-widgets/controls",
      "model_module_version": "1.5.0",
      "model_name": "HTMLModel",
      "state": {
       "layout": "IPY_MODEL_b6cc2e13e66846a6b8eea7c9b41a36c1",
       "style": "IPY_MODEL_cf3ae98ea1804ae6821f09ab0861b288",
       "value": " 5/5 [00:00&lt;00:00, 15.48it/s]"
      }
     },
     "5b0a33ac0dea4ceaa29eb85cff1908ee": {
      "model_module": "@jupyter-widgets/controls",
      "model_module_version": "1.5.0",
      "model_name": "HBoxModel",
      "state": {
       "children": [
        "IPY_MODEL_400cf262c5454f439cb0ce9a588627f7",
        "IPY_MODEL_6bd9c5984e514fc98aca256618c8d6c0",
        "IPY_MODEL_44b3ab1d6f2946d287a5ee2e7d6d89bb"
       ],
       "layout": "IPY_MODEL_2432d1e1449346b68b38f06656123fb7"
      }
     },
     "5c3a35685449423c81b624d8064530a6": {
      "model_module": "@jupyter-widgets/controls",
      "model_module_version": "1.5.0",
      "model_name": "HBoxModel",
      "state": {
       "children": [
        "IPY_MODEL_01aff1c92c704ae4822c4f9687dcfaa1",
        "IPY_MODEL_72eeb08aeb7e4f42853c7dcac3589770",
        "IPY_MODEL_1d2b0f205d0b4983841d9f70ceaf25f9"
       ],
       "layout": "IPY_MODEL_7ce889223205452ea921f0df6396822f"
      }
     },
     "5c4b0856bed54092bf511b4bde620db7": {
      "model_module": "@jupyter-widgets/base",
      "model_module_version": "1.2.0",
      "model_name": "LayoutModel",
      "state": {}
     },
     "5c606acd345f4f2da642e8b212b67c3a": {
      "model_module": "@jupyter-widgets/controls",
      "model_module_version": "1.5.0",
      "model_name": "ProgressStyleModel",
      "state": {
       "description_width": ""
      }
     },
     "5c7859a338764b2bb001b84691951a86": {
      "model_module": "@jupyter-widgets/base",
      "model_module_version": "1.2.0",
      "model_name": "LayoutModel",
      "state": {}
     },
     "5cce5b4a125b4b6eabac21d8d1aad8f4": {
      "model_module": "@jupyter-widgets/base",
      "model_module_version": "1.2.0",
      "model_name": "LayoutModel",
      "state": {}
     },
     "5cda0d079ff94e038afe3d466272ccd2": {
      "model_module": "@jupyter-widgets/controls",
      "model_module_version": "1.5.0",
      "model_name": "DescriptionStyleModel",
      "state": {
       "description_width": ""
      }
     },
     "5d023a09b0db454b8419821fd4a4202a": {
      "model_module": "@jupyter-widgets/controls",
      "model_module_version": "1.5.0",
      "model_name": "HTMLModel",
      "state": {
       "layout": "IPY_MODEL_edb284e678854f2e9c7bcc84b73dda51",
       "style": "IPY_MODEL_716e7e446c0343acbae1951c3654f44b",
       "value": " 38/38 [00:01&lt;00:00, 28.49it/s]"
      }
     },
     "5d1267f6e0f14cfd94838e501733b839": {
      "model_module": "@jupyter-widgets/controls",
      "model_module_version": "1.5.0",
      "model_name": "DescriptionStyleModel",
      "state": {
       "description_width": ""
      }
     },
     "5d4d694cd3814747b5e0abfed1cefe1e": {
      "model_module": "@jupyter-widgets/controls",
      "model_module_version": "1.5.0",
      "model_name": "HTMLModel",
      "state": {
       "layout": "IPY_MODEL_3a42ff6bc4454f2fa09d6e4cff8dd1a7",
       "style": "IPY_MODEL_61512b81a99b4c35a90e9095c3be1665",
       "value": "Epoch: 39. Train.    1.94921: 100%"
      }
     },
     "5d58be29643245acac790c6e5d3473f7": {
      "model_module": "@jupyter-widgets/controls",
      "model_module_version": "1.5.0",
      "model_name": "HTMLModel",
      "state": {
       "layout": "IPY_MODEL_dd2a423221da439e9c9b32be257202e7",
       "style": "IPY_MODEL_0dc046d1e9c7422eb9e23ee0ff789d78",
       "value": " 5/5 [00:00&lt;00:00, 15.99it/s]"
      }
     },
     "5e1ca352d26a4ea19bcc1a2ae5eabbb5": {
      "model_module": "@jupyter-widgets/controls",
      "model_module_version": "1.5.0",
      "model_name": "HTMLModel",
      "state": {
       "layout": "IPY_MODEL_43ac56a8531f4a12ae3336e29a4054f4",
       "style": "IPY_MODEL_d918bd596229406e863cee81769b4dd7",
       "value": "Epoch: 20. Validation. 0.39709: 100%"
      }
     },
     "5e9c79ecca6a4c249827b38dfc3664fc": {
      "model_module": "@jupyter-widgets/controls",
      "model_module_version": "1.5.0",
      "model_name": "DescriptionStyleModel",
      "state": {
       "description_width": ""
      }
     },
     "5f1bd9cb711b4e26ada5ea5573070315": {
      "model_module": "@jupyter-widgets/base",
      "model_module_version": "1.2.0",
      "model_name": "LayoutModel",
      "state": {}
     },
     "5f224593b96a49b3b9f547571d44c3ff": {
      "model_module": "@jupyter-widgets/controls",
      "model_module_version": "1.5.0",
      "model_name": "HTMLModel",
      "state": {
       "layout": "IPY_MODEL_06d6a966b23f43daa3b171cf087bc3d0",
       "style": "IPY_MODEL_54710b09cab147bd95370e37b285d83d",
       "value": "Epoch: 6. Validation. 0.54484: 100%"
      }
     },
     "5f229c3896a14ed1a6c8199ccf2b7642": {
      "model_module": "@jupyter-widgets/base",
      "model_module_version": "1.2.0",
      "model_name": "LayoutModel",
      "state": {}
     },
     "5f4cd5de54674c2994226c0541b217af": {
      "model_module": "@jupyter-widgets/controls",
      "model_module_version": "1.5.0",
      "model_name": "DescriptionStyleModel",
      "state": {
       "description_width": ""
      }
     },
     "5f58dbb969ac424e9db9aa6f613a9d29": {
      "model_module": "@jupyter-widgets/base",
      "model_module_version": "1.2.0",
      "model_name": "LayoutModel",
      "state": {}
     },
     "5fdd6693a4d64142b407dd1759d20dcb": {
      "model_module": "@jupyter-widgets/controls",
      "model_module_version": "1.5.0",
      "model_name": "DescriptionStyleModel",
      "state": {
       "description_width": ""
      }
     },
     "5ffe6c0b063c4273bd493f2d93a511bf": {
      "model_module": "@jupyter-widgets/base",
      "model_module_version": "1.2.0",
      "model_name": "LayoutModel",
      "state": {}
     },
     "6094fe1748764f24b04a5c237c69c59e": {
      "model_module": "@jupyter-widgets/controls",
      "model_module_version": "1.5.0",
      "model_name": "ProgressStyleModel",
      "state": {
       "description_width": ""
      }
     },
     "60ae8395a1944712ae1f66b6821d5c2b": {
      "model_module": "@jupyter-widgets/base",
      "model_module_version": "1.2.0",
      "model_name": "LayoutModel",
      "state": {}
     },
     "6142c15dbe8c4296924c82fb15595288": {
      "model_module": "@jupyter-widgets/base",
      "model_module_version": "1.2.0",
      "model_name": "LayoutModel",
      "state": {}
     },
     "61512b81a99b4c35a90e9095c3be1665": {
      "model_module": "@jupyter-widgets/controls",
      "model_module_version": "1.5.0",
      "model_name": "DescriptionStyleModel",
      "state": {
       "description_width": ""
      }
     },
     "6163d09d733948438496152f230ecf30": {
      "model_module": "@jupyter-widgets/base",
      "model_module_version": "1.2.0",
      "model_name": "LayoutModel",
      "state": {}
     },
     "618bbaef7f344a2986cf7808f4a39ae7": {
      "model_module": "@jupyter-widgets/controls",
      "model_module_version": "1.5.0",
      "model_name": "DescriptionStyleModel",
      "state": {
       "description_width": ""
      }
     },
     "61df76e53173401b88de0bf36d8f97c3": {
      "model_module": "@jupyter-widgets/controls",
      "model_module_version": "1.5.0",
      "model_name": "HTMLModel",
      "state": {
       "layout": "IPY_MODEL_f8a498a426c74ae0ace95fbf27e04e0c",
       "style": "IPY_MODEL_c9f560cb8b47447b8a9583b03176ec51",
       "value": "Epoch: 13. Validation. 0.44750: 100%"
      }
     },
     "61e8165f14654f688168e68d3b3024cf": {
      "model_module": "@jupyter-widgets/controls",
      "model_module_version": "1.5.0",
      "model_name": "DescriptionStyleModel",
      "state": {
       "description_width": ""
      }
     },
     "61fb9579049f45fda729d01f388e0021": {
      "model_module": "@jupyter-widgets/controls",
      "model_module_version": "1.5.0",
      "model_name": "HTMLModel",
      "state": {
       "layout": "IPY_MODEL_197121d5436840b688e6e361026a05bd",
       "style": "IPY_MODEL_da13608264684e59bb4a2bf6abf3e3c9",
       "value": " 38/38 [00:01&lt;00:00, 28.85it/s]"
      }
     },
     "6206b572bb3f4cc08e72c5a2ca7b6c24": {
      "model_module": "@jupyter-widgets/base",
      "model_module_version": "1.2.0",
      "model_name": "LayoutModel",
      "state": {}
     },
     "620e552e6f8b45ce94611b5a2e05eebb": {
      "model_module": "@jupyter-widgets/base",
      "model_module_version": "1.2.0",
      "model_name": "LayoutModel",
      "state": {}
     },
     "6214fb5638d24be48425bc5cbfe35acd": {
      "model_module": "@jupyter-widgets/controls",
      "model_module_version": "1.5.0",
      "model_name": "HBoxModel",
      "state": {
       "children": [
        "IPY_MODEL_39254a080301482db19b680b226ecf91",
        "IPY_MODEL_7a9ed4397e9744d0b929e1ea4db80908",
        "IPY_MODEL_896b958b20b747e49032af224af186de"
       ],
       "layout": "IPY_MODEL_4a76e05e193740aba1a35844d872634c"
      }
     },
     "62159a1247cf4abbacc41fb82e4747cc": {
      "model_module": "@jupyter-widgets/controls",
      "model_module_version": "1.5.0",
      "model_name": "DescriptionStyleModel",
      "state": {
       "description_width": ""
      }
     },
     "62956d2cacc64b03ae0fe7fda2a0f744": {
      "model_module": "@jupyter-widgets/controls",
      "model_module_version": "1.5.0",
      "model_name": "FloatProgressModel",
      "state": {
       "bar_style": "success",
       "layout": "IPY_MODEL_63ea1564be6147f7a7e737abe8288abc",
       "max": 5,
       "style": "IPY_MODEL_a70a55a1b10c4d18a9b0a1a3a137693b",
       "value": 5
      }
     },
     "629b177723a74e9ebbd9dc83c46a90a9": {
      "model_module": "@jupyter-widgets/base",
      "model_module_version": "1.2.0",
      "model_name": "LayoutModel",
      "state": {}
     },
     "62d7135699ae4b7fb6e94c6b48a46872": {
      "model_module": "@jupyter-widgets/base",
      "model_module_version": "1.2.0",
      "model_name": "LayoutModel",
      "state": {}
     },
     "62f5575808ce431784147e9543aa1f34": {
      "model_module": "@jupyter-widgets/base",
      "model_module_version": "1.2.0",
      "model_name": "LayoutModel",
      "state": {}
     },
     "6340bb04960a4ea08a3ac4e0b1e942bf": {
      "model_module": "@jupyter-widgets/controls",
      "model_module_version": "1.5.0",
      "model_name": "HBoxModel",
      "state": {
       "children": [
        "IPY_MODEL_fa2e103be307417b8acc21531a400dfc",
        "IPY_MODEL_ad45104fa1bb455d9b30d0cf67416a37",
        "IPY_MODEL_efc81546a75b46a4bc3072d16c85434b"
       ],
       "layout": "IPY_MODEL_c5dff1b7857940e7876935975bb6ee70"
      }
     },
     "635135cedf7a408d99a9cc7f4ab01e2d": {
      "model_module": "@jupyter-widgets/controls",
      "model_module_version": "1.5.0",
      "model_name": "HTMLModel",
      "state": {
       "layout": "IPY_MODEL_48296c5691df4a12a29c5ea2ed496681",
       "style": "IPY_MODEL_e8511986ab9c40a796e1d7578a72fe76",
       "value": " 5/5 [00:00&lt;00:00, 15.39it/s]"
      }
     },
     "6389abdce0cb45f39f6199ea91a02796": {
      "model_module": "@jupyter-widgets/controls",
      "model_module_version": "1.5.0",
      "model_name": "HTMLModel",
      "state": {
       "layout": "IPY_MODEL_9eb35914e5ff47349980df8b1041e4e3",
       "style": "IPY_MODEL_0d74480a5e334485998c95a0f9ca6afa",
       "value": " 38/38 [00:01&lt;00:00, 26.93it/s]"
      }
     },
     "639891a2edac4cf080d305590d6be93a": {
      "model_module": "@jupyter-widgets/controls",
      "model_module_version": "1.5.0",
      "model_name": "DescriptionStyleModel",
      "state": {
       "description_width": ""
      }
     },
     "63abe92a0a18446f98fcf9bd37f46ab6": {
      "model_module": "@jupyter-widgets/base",
      "model_module_version": "1.2.0",
      "model_name": "LayoutModel",
      "state": {}
     },
     "63d52738d5d44d188d52a07bba6bff34": {
      "model_module": "@jupyter-widgets/base",
      "model_module_version": "1.2.0",
      "model_name": "LayoutModel",
      "state": {}
     },
     "63ea1564be6147f7a7e737abe8288abc": {
      "model_module": "@jupyter-widgets/base",
      "model_module_version": "1.2.0",
      "model_name": "LayoutModel",
      "state": {}
     },
     "643d922d23894175896467f57c490e7f": {
      "model_module": "@jupyter-widgets/controls",
      "model_module_version": "1.5.0",
      "model_name": "HBoxModel",
      "state": {
       "children": [
        "IPY_MODEL_0be00b2898c44b788cb0e20b33c3eb30",
        "IPY_MODEL_dc870d3089b74b03b9a6bb8ef56e6f21",
        "IPY_MODEL_6b42621a7faa4e1bb21e047c7f7c75be"
       ],
       "layout": "IPY_MODEL_6142c15dbe8c4296924c82fb15595288"
      }
     },
     "6449bf0344584e288ad7554a23dd03e0": {
      "model_module": "@jupyter-widgets/base",
      "model_module_version": "1.2.0",
      "model_name": "LayoutModel",
      "state": {}
     },
     "64f96cdd94724c21a03f3346e53c34f6": {
      "model_module": "@jupyter-widgets/controls",
      "model_module_version": "1.5.0",
      "model_name": "ProgressStyleModel",
      "state": {
       "description_width": ""
      }
     },
     "654f909e5eee40089183a4f62532b0bb": {
      "model_module": "@jupyter-widgets/base",
      "model_module_version": "1.2.0",
      "model_name": "LayoutModel",
      "state": {}
     },
     "65aadcafa6734399a11a32a6ea256e7c": {
      "model_module": "@jupyter-widgets/base",
      "model_module_version": "1.2.0",
      "model_name": "LayoutModel",
      "state": {}
     },
     "660ce0bf15474b7fbc235f8d24665c41": {
      "model_module": "@jupyter-widgets/controls",
      "model_module_version": "1.5.0",
      "model_name": "HBoxModel",
      "state": {
       "children": [
        "IPY_MODEL_5e1ca352d26a4ea19bcc1a2ae5eabbb5",
        "IPY_MODEL_0d57b22a19644dcdab965c853243c89a",
        "IPY_MODEL_5a817e48c67943e0ac6d3cd227be43d8"
       ],
       "layout": "IPY_MODEL_dbf4c88fa7d54aa7a17d7d1da6eee606"
      }
     },
     "66626bc5194249a38673380fd966c9d7": {
      "model_module": "@jupyter-widgets/controls",
      "model_module_version": "1.5.0",
      "model_name": "FloatProgressModel",
      "state": {
       "bar_style": "success",
       "layout": "IPY_MODEL_a09026f81d7c40218e9cfc2fb814369d",
       "max": 38,
       "style": "IPY_MODEL_1576d52c70464f3fa95def081f46302b",
       "value": 38
      }
     },
     "66838bbcc62d47e4aeb3330bc2b72473": {
      "model_module": "@jupyter-widgets/controls",
      "model_module_version": "1.5.0",
      "model_name": "HTMLModel",
      "state": {
       "layout": "IPY_MODEL_c7eb5791b4bb42ab858b6dcbee4f966b",
       "style": "IPY_MODEL_15b577f020ad4037992e40a06a1ac7c6",
       "value": "Epoch: 2. Validation. 0.79748: 100%"
      }
     },
     "668c4ac5cfcd4a87a6223dca5e919ff2": {
      "model_module": "@jupyter-widgets/controls",
      "model_module_version": "1.5.0",
      "model_name": "HTMLModel",
      "state": {
       "layout": "IPY_MODEL_67ab628897814fd4bbce24c9a944e504",
       "style": "IPY_MODEL_62159a1247cf4abbacc41fb82e4747cc",
       "value": "Epoch: 14. Train.    5.63117: 100%"
      }
     },
     "66f691cb8aab4e9ca88043ce7d18eaab": {
      "model_module": "@jupyter-widgets/controls",
      "model_module_version": "1.5.0",
      "model_name": "HBoxModel",
      "state": {
       "children": [
        "IPY_MODEL_1e314323b7034fdca2c447cbb3d67cae",
        "IPY_MODEL_7916a0a89a8b40019476168741c6192d",
        "IPY_MODEL_1611d0322a1b4746a0b89ba45513f8a8"
       ],
       "layout": "IPY_MODEL_1847b2ee58b64d9d993f9d4b5d8fae55"
      }
     },
     "679ccc774ffb4cf38da51bf861d57b10": {
      "model_module": "@jupyter-widgets/controls",
      "model_module_version": "1.5.0",
      "model_name": "HTMLModel",
      "state": {
       "layout": "IPY_MODEL_6e9361b7f459497e8e13d1c82b2d0f1c",
       "style": "IPY_MODEL_a7c687ecd9174bc5b597aecb764e45fa",
       "value": " 38/38 [00:01&lt;00:00, 26.45it/s]"
      }
     },
     "67ab628897814fd4bbce24c9a944e504": {
      "model_module": "@jupyter-widgets/base",
      "model_module_version": "1.2.0",
      "model_name": "LayoutModel",
      "state": {}
     },
     "67c4d2b136e94e52a1ec9746df3d1ba4": {
      "model_module": "@jupyter-widgets/controls",
      "model_module_version": "1.5.0",
      "model_name": "FloatProgressModel",
      "state": {
       "bar_style": "success",
       "layout": "IPY_MODEL_fbbad7b69a25431da1d10bf33d9acfa5",
       "max": 38,
       "style": "IPY_MODEL_205114d069694a0b92743d0e83397e48",
       "value": 38
      }
     },
     "67fc9a4d8b7a4da6944be285315a1c02": {
      "model_module": "@jupyter-widgets/controls",
      "model_module_version": "1.5.0",
      "model_name": "DescriptionStyleModel",
      "state": {
       "description_width": ""
      }
     },
     "67fd9f23ac8a499e9b4488311f1f0437": {
      "model_module": "@jupyter-widgets/controls",
      "model_module_version": "1.5.0",
      "model_name": "HTMLModel",
      "state": {
       "layout": "IPY_MODEL_6206b572bb3f4cc08e72c5a2ca7b6c24",
       "style": "IPY_MODEL_ef084f9597d14b3bb78012ab9b22c6f9",
       "value": " 5/5 [00:00&lt;00:00, 15.81it/s]"
      }
     },
     "6801a0b74ef94711808528bd34023e2e": {
      "model_module": "@jupyter-widgets/base",
      "model_module_version": "1.2.0",
      "model_name": "LayoutModel",
      "state": {}
     },
     "684adf37869e46359a169ccbcd376993": {
      "model_module": "@jupyter-widgets/base",
      "model_module_version": "1.2.0",
      "model_name": "LayoutModel",
      "state": {}
     },
     "684d369c1e504124ad4a221de55a4d30": {
      "model_module": "@jupyter-widgets/controls",
      "model_module_version": "1.5.0",
      "model_name": "HBoxModel",
      "state": {
       "children": [
        "IPY_MODEL_94eb30a82a9c42fe87a7e94480a3504c",
        "IPY_MODEL_794eaf7ebec34327bfa4700359770653",
        "IPY_MODEL_7c894af9da0f4bb2b8fd4084cb2b75e8"
       ],
       "layout": "IPY_MODEL_63abe92a0a18446f98fcf9bd37f46ab6"
      }
     },
     "68868565be594200822b66d8549d60aa": {
      "model_module": "@jupyter-widgets/controls",
      "model_module_version": "1.5.0",
      "model_name": "HTMLModel",
      "state": {
       "layout": "IPY_MODEL_1dc8748673f640f3a15151ee8a52b47c",
       "style": "IPY_MODEL_37f8f3e4fea14ad5980ff9c868fbcd11",
       "value": " 38/38 [00:01&lt;00:00, 25.91it/s]"
      }
     },
     "68c4200bad804f72b6a2c241d24b8028": {
      "model_module": "@jupyter-widgets/controls",
      "model_module_version": "1.5.0",
      "model_name": "HTMLModel",
      "state": {
       "layout": "IPY_MODEL_178e81c6ceca4474850f169eb536626f",
       "style": "IPY_MODEL_b05593c87d79444c977fe844d7e840ad",
       "value": "Epoch: 10. Train.    3.51232: 100%"
      }
     },
     "68dd298c95ba4fba90501589b0892a29": {
      "model_module": "@jupyter-widgets/base",
      "model_module_version": "1.2.0",
      "model_name": "LayoutModel",
      "state": {}
     },
     "6939677dc12042f9b7fedf2f88dec168": {
      "model_module": "@jupyter-widgets/base",
      "model_module_version": "1.2.0",
      "model_name": "LayoutModel",
      "state": {}
     },
     "693fb72a5283468ca4785ca031a93e2a": {
      "model_module": "@jupyter-widgets/controls",
      "model_module_version": "1.5.0",
      "model_name": "HTMLModel",
      "state": {
       "layout": "IPY_MODEL_4162ef15ef674b3baaa754e8d5deb0b1",
       "style": "IPY_MODEL_61e8165f14654f688168e68d3b3024cf",
       "value": " 38/38 [00:01&lt;00:00, 27.15it/s]"
      }
     },
     "6970fff11ff14272a36074b7a5c56562": {
      "model_module": "@jupyter-widgets/controls",
      "model_module_version": "1.5.0",
      "model_name": "HTMLModel",
      "state": {
       "layout": "IPY_MODEL_eb4079356451418dad88796021ec7447",
       "style": "IPY_MODEL_dd3a765b4e8847138102bc6e769392cc",
       "value": " 38/38 [00:01&lt;00:00, 27.21it/s]"
      }
     },
     "69d66d6ac438402d9babc8399e97087c": {
      "model_module": "@jupyter-widgets/controls",
      "model_module_version": "1.5.0",
      "model_name": "HBoxModel",
      "state": {
       "children": [
        "IPY_MODEL_ce8fde571bf94da9bdf568806fbc6021",
        "IPY_MODEL_580c86db94ca419ea91f6ce323ca2bd4",
        "IPY_MODEL_fbdf47888d14466a9040a49de198d4ef"
       ],
       "layout": "IPY_MODEL_ab0d8b258aab494bb4457c622ca7e4e2"
      }
     },
     "69eadf0632a642f38ccf6e62f8c3cb62": {
      "model_module": "@jupyter-widgets/controls",
      "model_module_version": "1.5.0",
      "model_name": "HBoxModel",
      "state": {
       "children": [
        "IPY_MODEL_3bad0f5850024a94886b1c73e3479395",
        "IPY_MODEL_9f4272dfd20e4392b9c2a06b831564a5",
        "IPY_MODEL_51dc467e728a476497c00ccc75effacb"
       ],
       "layout": "IPY_MODEL_fb727a9683df470cb2f10576966b5bce"
      }
     },
     "6a7f9f7e54b94b77b29ebf6e4fe0df8b": {
      "model_module": "@jupyter-widgets/controls",
      "model_module_version": "1.5.0",
      "model_name": "ProgressStyleModel",
      "state": {
       "description_width": ""
      }
     },
     "6b30c1ad84344806ae3427c0be22f1b0": {
      "model_module": "@jupyter-widgets/controls",
      "model_module_version": "1.5.0",
      "model_name": "HBoxModel",
      "state": {
       "children": [
        "IPY_MODEL_b118604d2b0943bd8552ab46c6fe3c82",
        "IPY_MODEL_67c4d2b136e94e52a1ec9746df3d1ba4",
        "IPY_MODEL_1597f22424d7438582d62e51976c2f74"
       ],
       "layout": "IPY_MODEL_60ae8395a1944712ae1f66b6821d5c2b"
      }
     },
     "6b42621a7faa4e1bb21e047c7f7c75be": {
      "model_module": "@jupyter-widgets/controls",
      "model_module_version": "1.5.0",
      "model_name": "HTMLModel",
      "state": {
       "layout": "IPY_MODEL_ae3a3a8226ad4bf1b9ff01809d548052",
       "style": "IPY_MODEL_3c98bd101eff454e98598b510b3b47d1",
       "value": " 38/38 [00:01&lt;00:00, 27.39it/s]"
      }
     },
     "6b94ae7fd314453983fcdc34d56f2286": {
      "model_module": "@jupyter-widgets/controls",
      "model_module_version": "1.5.0",
      "model_name": "ProgressStyleModel",
      "state": {
       "description_width": ""
      }
     },
     "6b9adeb042fa4773b4628a105e8ee332": {
      "model_module": "@jupyter-widgets/controls",
      "model_module_version": "1.5.0",
      "model_name": "DescriptionStyleModel",
      "state": {
       "description_width": ""
      }
     },
     "6bd9c5984e514fc98aca256618c8d6c0": {
      "model_module": "@jupyter-widgets/controls",
      "model_module_version": "1.5.0",
      "model_name": "FloatProgressModel",
      "state": {
       "bar_style": "success",
       "layout": "IPY_MODEL_9386c88e61dc4d66a0ebc8312897603d",
       "max": 38,
       "style": "IPY_MODEL_8cd71fc92ee2497e9a5e562a2e100621",
       "value": 38
      }
     },
     "6bd9cedb16944eb4914f66bec9338cab": {
      "model_module": "@jupyter-widgets/controls",
      "model_module_version": "1.5.0",
      "model_name": "HTMLModel",
      "state": {
       "layout": "IPY_MODEL_339d050c788a4c4d86dce4fde34b5062",
       "style": "IPY_MODEL_d1f758106b25461d87b69cc92db262b7",
       "value": "Epoch: 12. Train.    4.02617: 100%"
      }
     },
     "6c69c32d06f3432d9d6a56d948887c42": {
      "model_module": "@jupyter-widgets/controls",
      "model_module_version": "1.5.0",
      "model_name": "ProgressStyleModel",
      "state": {
       "description_width": ""
      }
     },
     "6cd8b30b6146439188dbd00698fe691f": {
      "model_module": "@jupyter-widgets/controls",
      "model_module_version": "1.5.0",
      "model_name": "DescriptionStyleModel",
      "state": {
       "description_width": ""
      }
     },
     "6d10b1b0c5b44724b9c047aa89fddbb1": {
      "model_module": "@jupyter-widgets/controls",
      "model_module_version": "1.5.0",
      "model_name": "DescriptionStyleModel",
      "state": {
       "description_width": ""
      }
     },
     "6d70ea4779d340919a7c27211008d749": {
      "model_module": "@jupyter-widgets/controls",
      "model_module_version": "1.5.0",
      "model_name": "HTMLModel",
      "state": {
       "layout": "IPY_MODEL_9d53938d1a7e43a9a9cd1bc7267c9e67",
       "style": "IPY_MODEL_9455114912fd4f8e959cc42a507b5fdb",
       "value": " 5/5 [00:00&lt;00:00, 16.14it/s]"
      }
     },
     "6d8ae95dc57347f7a988a38ec6d58c69": {
      "model_module": "@jupyter-widgets/controls",
      "model_module_version": "1.5.0",
      "model_name": "DescriptionStyleModel",
      "state": {
       "description_width": ""
      }
     },
     "6d9ac46af24349be813a4c68097b00d9": {
      "model_module": "@jupyter-widgets/controls",
      "model_module_version": "1.5.0",
      "model_name": "DescriptionStyleModel",
      "state": {
       "description_width": ""
      }
     },
     "6de74ef52f4849bcb87ab1664dd4d35c": {
      "model_module": "@jupyter-widgets/base",
      "model_module_version": "1.2.0",
      "model_name": "LayoutModel",
      "state": {}
     },
     "6e48c4ebc7b240f993e77b15317b6516": {
      "model_module": "@jupyter-widgets/controls",
      "model_module_version": "1.5.0",
      "model_name": "ProgressStyleModel",
      "state": {
       "description_width": ""
      }
     },
     "6e9361b7f459497e8e13d1c82b2d0f1c": {
      "model_module": "@jupyter-widgets/base",
      "model_module_version": "1.2.0",
      "model_name": "LayoutModel",
      "state": {}
     },
     "6f1ab74c5b0246a2ae9e81d1eff573f4": {
      "model_module": "@jupyter-widgets/controls",
      "model_module_version": "1.5.0",
      "model_name": "FloatProgressModel",
      "state": {
       "bar_style": "success",
       "layout": "IPY_MODEL_629b177723a74e9ebbd9dc83c46a90a9",
       "max": 5,
       "style": "IPY_MODEL_2a2a85e72a3f4012ac3c985f7229138d",
       "value": 5
      }
     },
     "6f26b2e56bcf45fa9f1f05dc068bbf79": {
      "model_module": "@jupyter-widgets/controls",
      "model_module_version": "1.5.0",
      "model_name": "DescriptionStyleModel",
      "state": {
       "description_width": ""
      }
     },
     "6f3d2fb020b343eca6a0061d5c4959a0": {
      "model_module": "@jupyter-widgets/controls",
      "model_module_version": "1.5.0",
      "model_name": "FloatProgressModel",
      "state": {
       "bar_style": "success",
       "layout": "IPY_MODEL_9c0d5a0843de45329946c85ce23c5d54",
       "max": 38,
       "style": "IPY_MODEL_4d0ce801580e49c6a5edc088277e5b01",
       "value": 38
      }
     },
     "6fd00f89d4734d3f8d509de80abc69ae": {
      "model_module": "@jupyter-widgets/base",
      "model_module_version": "1.2.0",
      "model_name": "LayoutModel",
      "state": {}
     },
     "70251bc586314664af7cabf7a967dd7f": {
      "model_module": "@jupyter-widgets/controls",
      "model_module_version": "1.5.0",
      "model_name": "DescriptionStyleModel",
      "state": {
       "description_width": ""
      }
     },
     "702cdda320254c6d95708bb133cdaf9e": {
      "model_module": "@jupyter-widgets/controls",
      "model_module_version": "1.5.0",
      "model_name": "DescriptionStyleModel",
      "state": {
       "description_width": ""
      }
     },
     "703581e7196f4d76ac560f9b49765be3": {
      "model_module": "@jupyter-widgets/controls",
      "model_module_version": "1.5.0",
      "model_name": "HTMLModel",
      "state": {
       "layout": "IPY_MODEL_41698fff80ca47f8bb70e4ca169199a7",
       "style": "IPY_MODEL_41d01f5508334f44999d5b1e7cc8979f",
       "value": " 38/38 [00:01&lt;00:00, 28.80it/s]"
      }
     },
     "704f1561ea9841968113ee4b795e0c46": {
      "model_module": "@jupyter-widgets/base",
      "model_module_version": "1.2.0",
      "model_name": "LayoutModel",
      "state": {}
     },
     "70ae6482100a4507a7b51bd5e64e73e2": {
      "model_module": "@jupyter-widgets/base",
      "model_module_version": "1.2.0",
      "model_name": "LayoutModel",
      "state": {}
     },
     "70c196005a1e4815845451ce42b61a3b": {
      "model_module": "@jupyter-widgets/base",
      "model_module_version": "1.2.0",
      "model_name": "LayoutModel",
      "state": {}
     },
     "70dad828e85948a4a2058f3273fe15b4": {
      "model_module": "@jupyter-widgets/controls",
      "model_module_version": "1.5.0",
      "model_name": "HTMLModel",
      "state": {
       "layout": "IPY_MODEL_1417de4ab7a5443d999a59bcfe9033d9",
       "style": "IPY_MODEL_5fdd6693a4d64142b407dd1759d20dcb",
       "value": "Epoch: 26. Train.    2.16575: 100%"
      }
     },
     "70dea9c60c364d3c83d33ade1b47c3e9": {
      "model_module": "@jupyter-widgets/controls",
      "model_module_version": "1.5.0",
      "model_name": "FloatProgressModel",
      "state": {
       "bar_style": "success",
       "layout": "IPY_MODEL_cb1cc2ccac8041d88190fb0942a5f4ca",
       "max": 5,
       "style": "IPY_MODEL_29e41c1f7a744f298b7be8e82e1f6c82",
       "value": 5
      }
     },
     "7128093e9ed446df9f624c689ad0a382": {
      "model_module": "@jupyter-widgets/controls",
      "model_module_version": "1.5.0",
      "model_name": "DescriptionStyleModel",
      "state": {
       "description_width": ""
      }
     },
     "712bdd189b10484cb17cb8e66905aa0c": {
      "model_module": "@jupyter-widgets/controls",
      "model_module_version": "1.5.0",
      "model_name": "HTMLModel",
      "state": {
       "layout": "IPY_MODEL_3ef3a7b812194a3dac167ea06925830d",
       "style": "IPY_MODEL_ca14e6a813bf496f8290636ec0a7ebbf",
       "value": "Epoch: 8. Validation. 0.42592: 100%"
      }
     },
     "716e7e446c0343acbae1951c3654f44b": {
      "model_module": "@jupyter-widgets/controls",
      "model_module_version": "1.5.0",
      "model_name": "DescriptionStyleModel",
      "state": {
       "description_width": ""
      }
     },
     "71912c25934c4d1186263dcf3c43813a": {
      "model_module": "@jupyter-widgets/controls",
      "model_module_version": "1.5.0",
      "model_name": "DescriptionStyleModel",
      "state": {
       "description_width": ""
      }
     },
     "722f72bce47c462c9da823454f58ef14": {
      "model_module": "@jupyter-widgets/base",
      "model_module_version": "1.2.0",
      "model_name": "LayoutModel",
      "state": {}
     },
     "723612705620405c9e4870fa38061fe0": {
      "model_module": "@jupyter-widgets/base",
      "model_module_version": "1.2.0",
      "model_name": "LayoutModel",
      "state": {}
     },
     "72ae8e4ca594442e82c3c18f0da6a67e": {
      "model_module": "@jupyter-widgets/base",
      "model_module_version": "1.2.0",
      "model_name": "LayoutModel",
      "state": {}
     },
     "72eeb08aeb7e4f42853c7dcac3589770": {
      "model_module": "@jupyter-widgets/controls",
      "model_module_version": "1.5.0",
      "model_name": "FloatProgressModel",
      "state": {
       "bar_style": "success",
       "layout": "IPY_MODEL_5c4b0856bed54092bf511b4bde620db7",
       "max": 5,
       "style": "IPY_MODEL_fa1b4dff2a6843e2bc91f65e33a3174e",
       "value": 5
      }
     },
     "732602d1b11c401c813c25ce1c140608": {
      "model_module": "@jupyter-widgets/controls",
      "model_module_version": "1.5.0",
      "model_name": "HBoxModel",
      "state": {
       "children": [
        "IPY_MODEL_70dad828e85948a4a2058f3273fe15b4",
        "IPY_MODEL_7f438032f2c747e099266da12722b5f4",
        "IPY_MODEL_af457663ed894bad80ca2408812f9b29"
       ],
       "layout": "IPY_MODEL_15d3c2dd92954d54b24c4581ee1b8d84"
      }
     },
     "735a39d62d8a45ff9f20bf93a06f6fdb": {
      "model_module": "@jupyter-widgets/base",
      "model_module_version": "1.2.0",
      "model_name": "LayoutModel",
      "state": {}
     },
     "735f46c86201437d8bb4f1a087fc3c84": {
      "model_module": "@jupyter-widgets/controls",
      "model_module_version": "1.5.0",
      "model_name": "HTMLModel",
      "state": {
       "layout": "IPY_MODEL_a16e3e8cfc9847eabc7f40aeba03367b",
       "style": "IPY_MODEL_639891a2edac4cf080d305590d6be93a",
       "value": " 5/5 [00:00&lt;00:00, 15.93it/s]"
      }
     },
     "73cf1173ef77442098ceec86697d1375": {
      "model_module": "@jupyter-widgets/controls",
      "model_module_version": "1.5.0",
      "model_name": "DescriptionStyleModel",
      "state": {
       "description_width": ""
      }
     },
     "747d3e4bedc64bf79f6b4b06785bed02": {
      "model_module": "@jupyter-widgets/controls",
      "model_module_version": "1.5.0",
      "model_name": "HBoxModel",
      "state": {
       "children": [
        "IPY_MODEL_d87b2f90cce14ecab3ce655e7e11286e",
        "IPY_MODEL_6f3d2fb020b343eca6a0061d5c4959a0",
        "IPY_MODEL_dd47404fe3d34639a60c329034bd5c6c"
       ],
       "layout": "IPY_MODEL_7cc1238326f94be78a5c05550b9c3206"
      }
     },
     "747ea85492cf4f43a087163c54279e86": {
      "model_module": "@jupyter-widgets/controls",
      "model_module_version": "1.5.0",
      "model_name": "DescriptionStyleModel",
      "state": {
       "description_width": ""
      }
     },
     "74ef1c3ae4fa4fa88827fa024438de9b": {
      "model_module": "@jupyter-widgets/base",
      "model_module_version": "1.2.0",
      "model_name": "LayoutModel",
      "state": {}
     },
     "750cc3260ea84dcc894f8ff43a1f71fe": {
      "model_module": "@jupyter-widgets/controls",
      "model_module_version": "1.5.0",
      "model_name": "DescriptionStyleModel",
      "state": {
       "description_width": ""
      }
     },
     "75c392a678b44b0090a9d7492e34d279": {
      "model_module": "@jupyter-widgets/controls",
      "model_module_version": "1.5.0",
      "model_name": "FloatProgressModel",
      "state": {
       "bar_style": "success",
       "layout": "IPY_MODEL_bc9d9eb49b50492ebca5e6036ec55f58",
       "max": 38,
       "style": "IPY_MODEL_01c468a0b8c1432da629fe369f1ecdda",
       "value": 38
      }
     },
     "75f76379cf344b9fae142cb8da63f51a": {
      "model_module": "@jupyter-widgets/base",
      "model_module_version": "1.2.0",
      "model_name": "LayoutModel",
      "state": {}
     },
     "768b27b636244dd9afaa5ee8eea22692": {
      "model_module": "@jupyter-widgets/controls",
      "model_module_version": "1.5.0",
      "model_name": "HTMLModel",
      "state": {
       "layout": "IPY_MODEL_f4dfb81e6ddf4915a8daf1c4c42dc6f5",
       "style": "IPY_MODEL_750cc3260ea84dcc894f8ff43a1f71fe",
       "value": "Epoch: 40. Validation. 0.20659: 100%"
      }
     },
     "76f9d597d863416a8461ae3877fff9d0": {
      "model_module": "@jupyter-widgets/controls",
      "model_module_version": "1.5.0",
      "model_name": "FloatProgressModel",
      "state": {
       "bar_style": "success",
       "layout": "IPY_MODEL_72ae8e4ca594442e82c3c18f0da6a67e",
       "max": 5,
       "style": "IPY_MODEL_ff914ce2428349a0a3737dc635199349",
       "value": 5
      }
     },
     "77e69ea510ca4ec18293acb6cac450db": {
      "model_module": "@jupyter-widgets/base",
      "model_module_version": "1.2.0",
      "model_name": "LayoutModel",
      "state": {}
     },
     "77f10783118b40f8812b2701c2694168": {
      "model_module": "@jupyter-widgets/controls",
      "model_module_version": "1.5.0",
      "model_name": "FloatProgressModel",
      "state": {
       "bar_style": "success",
       "layout": "IPY_MODEL_382e22b3f2a3498d9643309d894c5716",
       "max": 38,
       "style": "IPY_MODEL_9f95309b522343f68057cec5ee2bbf5d",
       "value": 38
      }
     },
     "7803e4e7e470453fa8c2270bcbe3347e": {
      "model_module": "@jupyter-widgets/controls",
      "model_module_version": "1.5.0",
      "model_name": "DescriptionStyleModel",
      "state": {
       "description_width": ""
      }
     },
     "784c6a82e36f447c8e5395e24a6e954c": {
      "model_module": "@jupyter-widgets/controls",
      "model_module_version": "1.5.0",
      "model_name": "ProgressStyleModel",
      "state": {
       "description_width": ""
      }
     },
     "78d3f1d2bc084690950af6b790436a35": {
      "model_module": "@jupyter-widgets/controls",
      "model_module_version": "1.5.0",
      "model_name": "DescriptionStyleModel",
      "state": {
       "description_width": ""
      }
     },
     "78f1458d2aa64cddada495151a8c309c": {
      "model_module": "@jupyter-widgets/controls",
      "model_module_version": "1.5.0",
      "model_name": "HBoxModel",
      "state": {
       "children": [
        "IPY_MODEL_1b268df61b8644f29e818a865c31e6f4",
        "IPY_MODEL_b478e3935793454a9fa668351915678b",
        "IPY_MODEL_aacdce4debc941f3b0ce0929284b8e31"
       ],
       "layout": "IPY_MODEL_88023cbd73184119acda0ca0d0926377"
      }
     },
     "78f41735f1ab49af90a21eb461f1f8ec": {
      "model_module": "@jupyter-widgets/controls",
      "model_module_version": "1.5.0",
      "model_name": "HTMLModel",
      "state": {
       "layout": "IPY_MODEL_ab887f02a2c84143b31f87e1c3060881",
       "style": "IPY_MODEL_c452d485c06c45b2af27763e6b3e7536",
       "value": "Epoch: 39. Validation. 0.20992: 100%"
      }
     },
     "7916a0a89a8b40019476168741c6192d": {
      "model_module": "@jupyter-widgets/controls",
      "model_module_version": "1.5.0",
      "model_name": "FloatProgressModel",
      "state": {
       "bar_style": "success",
       "layout": "IPY_MODEL_f4edd318000e4f03a1463d9343cfe181",
       "max": 5,
       "style": "IPY_MODEL_c1c0c56800234eb4a225863d1069b4e2",
       "value": 5
      }
     },
     "794eaf7ebec34327bfa4700359770653": {
      "model_module": "@jupyter-widgets/controls",
      "model_module_version": "1.5.0",
      "model_name": "FloatProgressModel",
      "state": {
       "bar_style": "success",
       "layout": "IPY_MODEL_9adc0719fa8a402daa2e447d4c6b5af2",
       "max": 38,
       "style": "IPY_MODEL_cf53352c6e694d3abd51f538b175018d",
       "value": 38
      }
     },
     "7a0a2051cb084925b23b0cb703f296f6": {
      "model_module": "@jupyter-widgets/base",
      "model_module_version": "1.2.0",
      "model_name": "LayoutModel",
      "state": {}
     },
     "7a0bcc4eecb84864b06175f511dbda4f": {
      "model_module": "@jupyter-widgets/base",
      "model_module_version": "1.2.0",
      "model_name": "LayoutModel",
      "state": {}
     },
     "7a1b2a52b15d40c48d27777b260f8993": {
      "model_module": "@jupyter-widgets/controls",
      "model_module_version": "1.5.0",
      "model_name": "DescriptionStyleModel",
      "state": {
       "description_width": ""
      }
     },
     "7a5ab5d776c841c1b5dbf58eff153d9e": {
      "model_module": "@jupyter-widgets/base",
      "model_module_version": "1.2.0",
      "model_name": "LayoutModel",
      "state": {}
     },
     "7a9ed4397e9744d0b929e1ea4db80908": {
      "model_module": "@jupyter-widgets/controls",
      "model_module_version": "1.5.0",
      "model_name": "FloatProgressModel",
      "state": {
       "bar_style": "success",
       "layout": "IPY_MODEL_ee86ee72f72d4911a4bc63607fdf139c",
       "max": 5,
       "style": "IPY_MODEL_4f82c6756f144037bd3398fbc67415cf",
       "value": 5
      }
     },
     "7aadc253e6164e5c9ec0b538242693c3": {
      "model_module": "@jupyter-widgets/base",
      "model_module_version": "1.2.0",
      "model_name": "LayoutModel",
      "state": {}
     },
     "7aca56084b524872980087c49e97c399": {
      "model_module": "@jupyter-widgets/controls",
      "model_module_version": "1.5.0",
      "model_name": "HBoxModel",
      "state": {
       "children": [
        "IPY_MODEL_f467de68f7de480caf41e6cc97a87f24",
        "IPY_MODEL_9460d2f4e48f4884b3fdae2475b824c1",
        "IPY_MODEL_6389abdce0cb45f39f6199ea91a02796"
       ],
       "layout": "IPY_MODEL_d0c737c3044344b0aaa6c62e71d9e98f"
      }
     },
     "7af0558bdf904837a47bc263a007e6a8": {
      "model_module": "@jupyter-widgets/controls",
      "model_module_version": "1.5.0",
      "model_name": "FloatProgressModel",
      "state": {
       "bar_style": "success",
       "layout": "IPY_MODEL_cdcffdb35a144c36b60348778ba8ad30",
       "max": 5,
       "style": "IPY_MODEL_64f96cdd94724c21a03f3346e53c34f6",
       "value": 5
      }
     },
     "7b0b5b95f0714548bf59bd4a8629098d": {
      "model_module": "@jupyter-widgets/base",
      "model_module_version": "1.2.0",
      "model_name": "LayoutModel",
      "state": {}
     },
     "7c7a6070583c49829b4025662b45ffe2": {
      "model_module": "@jupyter-widgets/controls",
      "model_module_version": "1.5.0",
      "model_name": "HBoxModel",
      "state": {
       "children": [
        "IPY_MODEL_68c4200bad804f72b6a2c241d24b8028",
        "IPY_MODEL_02a10b9dfe324f5e8188d66787df3df5",
        "IPY_MODEL_68868565be594200822b66d8549d60aa"
       ],
       "layout": "IPY_MODEL_d68407bdb0f1485d8f0f55ca33f06fe3"
      }
     },
     "7c894af9da0f4bb2b8fd4084cb2b75e8": {
      "model_module": "@jupyter-widgets/controls",
      "model_module_version": "1.5.0",
      "model_name": "HTMLModel",
      "state": {
       "layout": "IPY_MODEL_93cc08101e614365bb47f50cffb81dec",
       "style": "IPY_MODEL_34832429b38b4fb7800553d13b3fcb93",
       "value": " 38/38 [00:01&lt;00:00, 26.64it/s]"
      }
     },
     "7ca63a556e574fee87583a6eed9e52ea": {
      "model_module": "@jupyter-widgets/controls",
      "model_module_version": "1.5.0",
      "model_name": "HTMLModel",
      "state": {
       "layout": "IPY_MODEL_ab2528c9efd54d9b9d07f13a24a8b4f5",
       "style": "IPY_MODEL_4fd3cebc0df7445085c1309616d04e40",
       "value": " 38/38 [00:01&lt;00:00, 27.54it/s]"
      }
     },
     "7cbda9e4cc8049e4ad05ec3efbfdcc87": {
      "model_module": "@jupyter-widgets/base",
      "model_module_version": "1.2.0",
      "model_name": "LayoutModel",
      "state": {}
     },
     "7cc1238326f94be78a5c05550b9c3206": {
      "model_module": "@jupyter-widgets/base",
      "model_module_version": "1.2.0",
      "model_name": "LayoutModel",
      "state": {}
     },
     "7ce889223205452ea921f0df6396822f": {
      "model_module": "@jupyter-widgets/base",
      "model_module_version": "1.2.0",
      "model_name": "LayoutModel",
      "state": {}
     },
     "7d0b0eadd9964fd1a99794c90edfcea5": {
      "model_module": "@jupyter-widgets/controls",
      "model_module_version": "1.5.0",
      "model_name": "HTMLModel",
      "state": {
       "layout": "IPY_MODEL_806e23bcaa694a84b87d578aac030611",
       "style": "IPY_MODEL_26a5b92c913f4be7babf4fef54cdf0aa",
       "value": " 38/38 [00:01&lt;00:00, 26.08it/s]"
      }
     },
     "7db85148bd3542e591f795a00a98c50c": {
      "model_module": "@jupyter-widgets/controls",
      "model_module_version": "1.5.0",
      "model_name": "DescriptionStyleModel",
      "state": {
       "description_width": ""
      }
     },
     "7dcea5ec81254a668c02e29f77546a68": {
      "model_module": "@jupyter-widgets/controls",
      "model_module_version": "1.5.0",
      "model_name": "ProgressStyleModel",
      "state": {
       "description_width": ""
      }
     },
     "7e6ddaf9030b422a976caa5bdf583c78": {
      "model_module": "@jupyter-widgets/base",
      "model_module_version": "1.2.0",
      "model_name": "LayoutModel",
      "state": {}
     },
     "7e818340dec34e8b848ca9367a75da22": {
      "model_module": "@jupyter-widgets/controls",
      "model_module_version": "1.5.0",
      "model_name": "DescriptionStyleModel",
      "state": {
       "description_width": ""
      }
     },
     "7e81a43680ba40e0bc696223ccb9164d": {
      "model_module": "@jupyter-widgets/controls",
      "model_module_version": "1.5.0",
      "model_name": "FloatProgressModel",
      "state": {
       "bar_style": "success",
       "layout": "IPY_MODEL_bbcee25b123245a19df11c19845561cb",
       "max": 38,
       "style": "IPY_MODEL_4d2d5d3ec4be42d8b544fa7517a2ed4e",
       "value": 38
      }
     },
     "7e85d6b38d074101a1d3a4c6f8d55d1c": {
      "model_module": "@jupyter-widgets/base",
      "model_module_version": "1.2.0",
      "model_name": "LayoutModel",
      "state": {}
     },
     "7e8beaae1220402dbaeb84453bc518a2": {
      "model_module": "@jupyter-widgets/base",
      "model_module_version": "1.2.0",
      "model_name": "LayoutModel",
      "state": {}
     },
     "7eb3ae80359849cbba95a1cba0db0f1c": {
      "model_module": "@jupyter-widgets/base",
      "model_module_version": "1.2.0",
      "model_name": "LayoutModel",
      "state": {}
     },
     "7ec472499ad44e98a8d7c429e80ee908": {
      "model_module": "@jupyter-widgets/controls",
      "model_module_version": "1.5.0",
      "model_name": "HBoxModel",
      "state": {
       "children": [
        "IPY_MODEL_ff3cb1b6902e4a3099cfca926d7c93e7",
        "IPY_MODEL_f8d4a856d47144699178b2a1ff83896f",
        "IPY_MODEL_679ccc774ffb4cf38da51bf861d57b10"
       ],
       "layout": "IPY_MODEL_ebc6647b01de43198af511245d343cda"
      }
     },
     "7ec86012c5654efc905088e394548a18": {
      "model_module": "@jupyter-widgets/base",
      "model_module_version": "1.2.0",
      "model_name": "LayoutModel",
      "state": {}
     },
     "7ee3b7c652534f428c720f5fcd106251": {
      "model_module": "@jupyter-widgets/controls",
      "model_module_version": "1.5.0",
      "model_name": "DescriptionStyleModel",
      "state": {
       "description_width": ""
      }
     },
     "7f079ffd58ab4a67a8dab32b69b898ca": {
      "model_module": "@jupyter-widgets/controls",
      "model_module_version": "1.5.0",
      "model_name": "ProgressStyleModel",
      "state": {
       "description_width": ""
      }
     },
     "7f438032f2c747e099266da12722b5f4": {
      "model_module": "@jupyter-widgets/controls",
      "model_module_version": "1.5.0",
      "model_name": "FloatProgressModel",
      "state": {
       "bar_style": "success",
       "layout": "IPY_MODEL_e111329a237e469dacaff511b782a61d",
       "max": 38,
       "style": "IPY_MODEL_88dc1d628ca144a2ae932be463e2f23e",
       "value": 38
      }
     },
     "7f4fd2d7f17f47a68816807f2e8ff1bb": {
      "model_module": "@jupyter-widgets/controls",
      "model_module_version": "1.5.0",
      "model_name": "HBoxModel",
      "state": {
       "children": [
        "IPY_MODEL_383f3add3c564c41a73f44eba02fcd37",
        "IPY_MODEL_77f10783118b40f8812b2701c2694168",
        "IPY_MODEL_d4101157ccfc4f62bd982b409231e2c4"
       ],
       "layout": "IPY_MODEL_1a984e7ff4174c3385422ee5834b0c49"
      }
     },
     "7ff9338c5a694306919cb3cf79bd181c": {
      "model_module": "@jupyter-widgets/controls",
      "model_module_version": "1.5.0",
      "model_name": "FloatProgressModel",
      "state": {
       "bar_style": "success",
       "layout": "IPY_MODEL_495dd4b7494e405c91899a161e2704ec",
       "max": 38,
       "style": "IPY_MODEL_09da3563143446f0b6c09b7f49c17df1",
       "value": 38
      }
     },
     "8038bcc606c54e238699724d1118b744": {
      "model_module": "@jupyter-widgets/controls",
      "model_module_version": "1.5.0",
      "model_name": "FloatProgressModel",
      "state": {
       "bar_style": "success",
       "layout": "IPY_MODEL_e23833fa651d488486785b181c68f9fe",
       "max": 5,
       "style": "IPY_MODEL_f8d37b06948c40e6b04f96613b5b4b56",
       "value": 5
      }
     },
     "806e23bcaa694a84b87d578aac030611": {
      "model_module": "@jupyter-widgets/base",
      "model_module_version": "1.2.0",
      "model_name": "LayoutModel",
      "state": {}
     },
     "80c41f82a0d74da0a273506a5be98739": {
      "model_module": "@jupyter-widgets/base",
      "model_module_version": "1.2.0",
      "model_name": "LayoutModel",
      "state": {}
     },
     "80d9ab378cd04318bc4731dd06798867": {
      "model_module": "@jupyter-widgets/base",
      "model_module_version": "1.2.0",
      "model_name": "LayoutModel",
      "state": {}
     },
     "80e25103f35e415ba38dc062c13b84cb": {
      "model_module": "@jupyter-widgets/base",
      "model_module_version": "1.2.0",
      "model_name": "LayoutModel",
      "state": {}
     },
     "81273c17fb4e437e89c353ede7962929": {
      "model_module": "@jupyter-widgets/base",
      "model_module_version": "1.2.0",
      "model_name": "LayoutModel",
      "state": {}
     },
     "8242d30bb75443b2846952c682dfefac": {
      "model_module": "@jupyter-widgets/controls",
      "model_module_version": "1.5.0",
      "model_name": "ProgressStyleModel",
      "state": {
       "description_width": ""
      }
     },
     "82829905eb324ab4a6b01bdc99029c1b": {
      "model_module": "@jupyter-widgets/base",
      "model_module_version": "1.2.0",
      "model_name": "LayoutModel",
      "state": {}
     },
     "82a1795dbcfd49f79e1f80eab5f9e6b8": {
      "model_module": "@jupyter-widgets/controls",
      "model_module_version": "1.5.0",
      "model_name": "DescriptionStyleModel",
      "state": {
       "description_width": ""
      }
     },
     "83763e7e90fe40e2ba59984c896f0647": {
      "model_module": "@jupyter-widgets/base",
      "model_module_version": "1.2.0",
      "model_name": "LayoutModel",
      "state": {}
     },
     "837f1a55ce474f44859999424162c74a": {
      "model_module": "@jupyter-widgets/controls",
      "model_module_version": "1.5.0",
      "model_name": "HTMLModel",
      "state": {
       "layout": "IPY_MODEL_2af53ea944324fabb97b848d8e26acc5",
       "style": "IPY_MODEL_e2e631c4c66e4aadba7ac890b89e36ab",
       "value": " 5/5 [00:00&lt;00:00, 15.84it/s]"
      }
     },
     "84ea779f1299415d9de9e64aa2148a8f": {
      "model_module": "@jupyter-widgets/controls",
      "model_module_version": "1.5.0",
      "model_name": "HTMLModel",
      "state": {
       "layout": "IPY_MODEL_d43e4762816a480295309afaf45e827c",
       "style": "IPY_MODEL_bc638ae75696485080e46106b621e03e",
       "value": "Epoch: 25. Train.    2.15960: 100%"
      }
     },
     "84ed4e81aae54f7582c6135d6c62f200": {
      "model_module": "@jupyter-widgets/controls",
      "model_module_version": "1.5.0",
      "model_name": "DescriptionStyleModel",
      "state": {
       "description_width": ""
      }
     },
     "85350adaf14d4116818e02bba583272e": {
      "model_module": "@jupyter-widgets/controls",
      "model_module_version": "1.5.0",
      "model_name": "HBoxModel",
      "state": {
       "children": [
        "IPY_MODEL_1932a1904de244aba337c88a728da962",
        "IPY_MODEL_bc832c1579b7412486c27124614cf138",
        "IPY_MODEL_c22eb8eea85b49ff90c04a83d5a1e999"
       ],
       "layout": "IPY_MODEL_80d9ab378cd04318bc4731dd06798867"
      }
     },
     "85ac52c99a874b4db04bee83b5c727ea": {
      "model_module": "@jupyter-widgets/controls",
      "model_module_version": "1.5.0",
      "model_name": "HTMLModel",
      "state": {
       "layout": "IPY_MODEL_82829905eb324ab4a6b01bdc99029c1b",
       "style": "IPY_MODEL_a06bf0b0b9a94482b54141f9314dbd4e",
       "value": " 5/5 [00:00&lt;00:00, 15.39it/s]"
      }
     },
     "8665904098f0410296375b710e068def": {
      "model_module": "@jupyter-widgets/base",
      "model_module_version": "1.2.0",
      "model_name": "LayoutModel",
      "state": {}
     },
     "866883146aa8414e80125928b16d50ef": {
      "model_module": "@jupyter-widgets/controls",
      "model_module_version": "1.5.0",
      "model_name": "DescriptionStyleModel",
      "state": {
       "description_width": ""
      }
     },
     "8736b9630c18445b8fa3493ac763c092": {
      "model_module": "@jupyter-widgets/controls",
      "model_module_version": "1.5.0",
      "model_name": "HBoxModel",
      "state": {
       "children": [
        "IPY_MODEL_b8fca47a946f411e9c1734ea7266bb2c",
        "IPY_MODEL_9afb2ed714634ce09d356a0bbdd7179f",
        "IPY_MODEL_088394be91be473ba93282e63aeb9aa2"
       ],
       "layout": "IPY_MODEL_ece428575ff74cb7bda263658e794896"
      }
     },
     "876f40551a2449429e37187b4c80ffec": {
      "model_module": "@jupyter-widgets/controls",
      "model_module_version": "1.5.0",
      "model_name": "HTMLModel",
      "state": {
       "layout": "IPY_MODEL_036fdc550a89410b89a4ba9f838f530d",
       "style": "IPY_MODEL_44057f2aa46347b0bd458f2bffccddfd",
       "value": " 5/5 [00:00&lt;00:00, 15.84it/s]"
      }
     },
     "879a78e543fb4bb39eb3e20c2b4eddce": {
      "model_module": "@jupyter-widgets/base",
      "model_module_version": "1.2.0",
      "model_name": "LayoutModel",
      "state": {}
     },
     "88023cbd73184119acda0ca0d0926377": {
      "model_module": "@jupyter-widgets/base",
      "model_module_version": "1.2.0",
      "model_name": "LayoutModel",
      "state": {}
     },
     "886b82ba252c46e584721ad781862e26": {
      "model_module": "@jupyter-widgets/controls",
      "model_module_version": "1.5.0",
      "model_name": "DescriptionStyleModel",
      "state": {
       "description_width": ""
      }
     },
     "88db12ae90fc463db7d4c7a3ea005d92": {
      "model_module": "@jupyter-widgets/base",
      "model_module_version": "1.2.0",
      "model_name": "LayoutModel",
      "state": {}
     },
     "88dc1d628ca144a2ae932be463e2f23e": {
      "model_module": "@jupyter-widgets/controls",
      "model_module_version": "1.5.0",
      "model_name": "ProgressStyleModel",
      "state": {
       "description_width": ""
      }
     },
     "88e78084e9b94b0ebcf1307427bd97de": {
      "model_module": "@jupyter-widgets/controls",
      "model_module_version": "1.5.0",
      "model_name": "DescriptionStyleModel",
      "state": {
       "description_width": ""
      }
     },
     "88f800413a3541a7b4c27e4b5d422a1f": {
      "model_module": "@jupyter-widgets/base",
      "model_module_version": "1.2.0",
      "model_name": "LayoutModel",
      "state": {}
     },
     "88fe365381bb4ed1a2fc53a7383b286d": {
      "model_module": "@jupyter-widgets/controls",
      "model_module_version": "1.5.0",
      "model_name": "HBoxModel",
      "state": {
       "children": [
        "IPY_MODEL_66838bbcc62d47e4aeb3330bc2b72473",
        "IPY_MODEL_e032530d8e91443a97cdf4f492e3a656",
        "IPY_MODEL_07d6b5bc8af3412c8899467a769beb06"
       ],
       "layout": "IPY_MODEL_099b286248ca4368a89aebe061019701"
      }
     },
     "8914e5fe03974edd9cd8a8c0482a6cec": {
      "model_module": "@jupyter-widgets/controls",
      "model_module_version": "1.5.0",
      "model_name": "FloatProgressModel",
      "state": {
       "bar_style": "success",
       "layout": "IPY_MODEL_22b51cec8511412da9098968ed4c6a0c",
       "max": 38,
       "style": "IPY_MODEL_045943e591fb4e5bb9947d74182d98ed",
       "value": 38
      }
     },
     "893aaf5e96f14368860772533ec29572": {
      "model_module": "@jupyter-widgets/controls",
      "model_module_version": "1.5.0",
      "model_name": "HTMLModel",
      "state": {
       "layout": "IPY_MODEL_2aedb9c6ce0c42ae9949a9c452a2f81a",
       "style": "IPY_MODEL_702cdda320254c6d95708bb133cdaf9e",
       "value": "Epoch: 37. Validation. 0.20926: 100%"
      }
     },
     "895d20330bcc4955ad85af1dd1fd1eca": {
      "model_module": "@jupyter-widgets/controls",
      "model_module_version": "1.5.0",
      "model_name": "DescriptionStyleModel",
      "state": {
       "description_width": ""
      }
     },
     "896b958b20b747e49032af224af186de": {
      "model_module": "@jupyter-widgets/controls",
      "model_module_version": "1.5.0",
      "model_name": "HTMLModel",
      "state": {
       "layout": "IPY_MODEL_9e762e9130d242c6b3d9dba47f6b2803",
       "style": "IPY_MODEL_618bbaef7f344a2986cf7808f4a39ae7",
       "value": " 5/5 [00:00&lt;00:00, 15.61it/s]"
      }
     },
     "89aae00422574994b905bc8e5ae171e4": {
      "model_module": "@jupyter-widgets/controls",
      "model_module_version": "1.5.0",
      "model_name": "HBoxModel",
      "state": {
       "children": [
        "IPY_MODEL_415f29cfc9134b5d802009a7a71f2f04",
        "IPY_MODEL_c00f4b348cd245c592892531f9057add",
        "IPY_MODEL_11fc87c0447d4204ac6c17dea9480656"
       ],
       "layout": "IPY_MODEL_2065654ecb784db1ba2c0d38428784e5"
      }
     },
     "8a0e7a3147b64366ab33e8a03749dc84": {
      "model_module": "@jupyter-widgets/controls",
      "model_module_version": "1.5.0",
      "model_name": "FloatProgressModel",
      "state": {
       "bar_style": "success",
       "layout": "IPY_MODEL_51f13dceb8244fb1a4419edfe04982c3",
       "max": 5,
       "style": "IPY_MODEL_cc28a6c8148b42a1825a22954c2b2b0a",
       "value": 5
      }
     },
     "8a330e0789b3417b91f04498e54ba7f6": {
      "model_module": "@jupyter-widgets/controls",
      "model_module_version": "1.5.0",
      "model_name": "HTMLModel",
      "state": {
       "layout": "IPY_MODEL_28b231b7616943c490ddae3596f30f67",
       "style": "IPY_MODEL_545a207bbeef440b93605976b37a2ab8",
       "value": " 5/5 [00:00&lt;00:00, 15.50it/s]"
      }
     },
     "8a84a6e66391488f82283678feb6a99f": {
      "model_module": "@jupyter-widgets/base",
      "model_module_version": "1.2.0",
      "model_name": "LayoutModel",
      "state": {}
     },
     "8a9506b067c14606a7aebf0dd4071e0b": {
      "model_module": "@jupyter-widgets/controls",
      "model_module_version": "1.5.0",
      "model_name": "ProgressStyleModel",
      "state": {
       "description_width": ""
      }
     },
     "8acd811c3cb14f70bd7dcc5436eecb96": {
      "model_module": "@jupyter-widgets/base",
      "model_module_version": "1.2.0",
      "model_name": "LayoutModel",
      "state": {}
     },
     "8b0660497cf445ec81cfe85eeb0d04df": {
      "model_module": "@jupyter-widgets/controls",
      "model_module_version": "1.5.0",
      "model_name": "ProgressStyleModel",
      "state": {
       "description_width": ""
      }
     },
     "8bca0cc16d134d1f84d2c41e39a6f3b1": {
      "model_module": "@jupyter-widgets/base",
      "model_module_version": "1.2.0",
      "model_name": "LayoutModel",
      "state": {}
     },
     "8bee9135207e41b7a3611a47908b6358": {
      "model_module": "@jupyter-widgets/controls",
      "model_module_version": "1.5.0",
      "model_name": "HTMLModel",
      "state": {
       "layout": "IPY_MODEL_b45369000de44087b3871ef9d04cc9d0",
       "style": "IPY_MODEL_7ee3b7c652534f428c720f5fcd106251",
       "value": " 5/5 [00:00&lt;00:00, 15.94it/s]"
      }
     },
     "8c0df735804248a5bafab6f4fa640c0f": {
      "model_module": "@jupyter-widgets/base",
      "model_module_version": "1.2.0",
      "model_name": "LayoutModel",
      "state": {}
     },
     "8c346f8c88234fc6badbc646c96e5f5c": {
      "model_module": "@jupyter-widgets/controls",
      "model_module_version": "1.5.0",
      "model_name": "HTMLModel",
      "state": {
       "layout": "IPY_MODEL_6163d09d733948438496152f230ecf30",
       "style": "IPY_MODEL_6b9adeb042fa4773b4628a105e8ee332",
       "value": " 5/5 [00:00&lt;00:00, 16.10it/s]"
      }
     },
     "8cd71fc92ee2497e9a5e562a2e100621": {
      "model_module": "@jupyter-widgets/controls",
      "model_module_version": "1.5.0",
      "model_name": "ProgressStyleModel",
      "state": {
       "description_width": ""
      }
     },
     "8d500b4f671e489aa015cc4c940ed54f": {
      "model_module": "@jupyter-widgets/controls",
      "model_module_version": "1.5.0",
      "model_name": "DescriptionStyleModel",
      "state": {
       "description_width": ""
      }
     },
     "8dcb7e30d02a4cdfac8b6ea79a260311": {
      "model_module": "@jupyter-widgets/controls",
      "model_module_version": "1.5.0",
      "model_name": "HBoxModel",
      "state": {
       "children": [
        "IPY_MODEL_2ab99754719c44b08eb35e5a3ce3a87a",
        "IPY_MODEL_4d966ddea7404f82810628d98d3936f7",
        "IPY_MODEL_578a2c7e07f64acbb78b0ea0739ca207"
       ],
       "layout": "IPY_MODEL_62d7135699ae4b7fb6e94c6b48a46872"
      }
     },
     "8e2e6ad9273e4f4c83c2f31cdb87cf96": {
      "model_module": "@jupyter-widgets/base",
      "model_module_version": "1.2.0",
      "model_name": "LayoutModel",
      "state": {}
     },
     "8f0ca1f2c5784d279b7d3da84bae230f": {
      "model_module": "@jupyter-widgets/controls",
      "model_module_version": "1.5.0",
      "model_name": "FloatProgressModel",
      "state": {
       "bar_style": "success",
       "layout": "IPY_MODEL_d5ae15b4d3e249049fad319e73abfb48",
       "max": 38,
       "style": "IPY_MODEL_4e5a5d4d58b74509a52fad1af142b0a2",
       "value": 38
      }
     },
     "8fdeac86d71a4a53abf23c568ea6f039": {
      "model_module": "@jupyter-widgets/controls",
      "model_module_version": "1.5.0",
      "model_name": "DescriptionStyleModel",
      "state": {
       "description_width": ""
      }
     },
     "9080a9853a0a45ab81428f0fc36f6611": {
      "model_module": "@jupyter-widgets/controls",
      "model_module_version": "1.5.0",
      "model_name": "HTMLModel",
      "state": {
       "layout": "IPY_MODEL_d6197ac8ff204690be41f016e65ec04b",
       "style": "IPY_MODEL_88e78084e9b94b0ebcf1307427bd97de",
       "value": " 38/38 [00:01&lt;00:00, 26.22it/s]"
      }
     },
     "90c3465bbbcd4d8fbc169519ac0d0f7e": {
      "model_module": "@jupyter-widgets/controls",
      "model_module_version": "1.5.0",
      "model_name": "DescriptionStyleModel",
      "state": {
       "description_width": ""
      }
     },
     "91c057404d35426faf4b22e72250b3a1": {
      "model_module": "@jupyter-widgets/controls",
      "model_module_version": "1.5.0",
      "model_name": "HTMLModel",
      "state": {
       "layout": "IPY_MODEL_80e25103f35e415ba38dc062c13b84cb",
       "style": "IPY_MODEL_320a85d93c7a44c68914538f8ca2a2a3",
       "value": " 38/38 [00:01&lt;00:00, 27.01it/s]"
      }
     },
     "91d91d500d1741c99da2862b0f30cc60": {
      "model_module": "@jupyter-widgets/base",
      "model_module_version": "1.2.0",
      "model_name": "LayoutModel",
      "state": {}
     },
     "92315b49afd24afdb7f4227e2f5a42df": {
      "model_module": "@jupyter-widgets/base",
      "model_module_version": "1.2.0",
      "model_name": "LayoutModel",
      "state": {}
     },
     "9254cb405c1a42d5b437e5e136d5d93c": {
      "model_module": "@jupyter-widgets/controls",
      "model_module_version": "1.5.0",
      "model_name": "HBoxModel",
      "state": {
       "children": [
        "IPY_MODEL_b4bb0a5690424f9e95ff8e669ffe2069",
        "IPY_MODEL_1a8642d224aa452db7202ff05c86cc0f",
        "IPY_MODEL_5d023a09b0db454b8419821fd4a4202a"
       ],
       "layout": "IPY_MODEL_cd91355865ae44bda531b2dcab94064b"
      }
     },
     "926037163b284e2a85caf101ca69bd73": {
      "model_module": "@jupyter-widgets/base",
      "model_module_version": "1.2.0",
      "model_name": "LayoutModel",
      "state": {}
     },
     "92664f2c5a1c442cb736184c3316181b": {
      "model_module": "@jupyter-widgets/base",
      "model_module_version": "1.2.0",
      "model_name": "LayoutModel",
      "state": {}
     },
     "9386c88e61dc4d66a0ebc8312897603d": {
      "model_module": "@jupyter-widgets/base",
      "model_module_version": "1.2.0",
      "model_name": "LayoutModel",
      "state": {}
     },
     "938b6026ad10495a8d50f63fe4300a49": {
      "model_module": "@jupyter-widgets/base",
      "model_module_version": "1.2.0",
      "model_name": "LayoutModel",
      "state": {}
     },
     "93b28981ba2b49f4a3996c2e1c6e4a01": {
      "model_module": "@jupyter-widgets/controls",
      "model_module_version": "1.5.0",
      "model_name": "HBoxModel",
      "state": {
       "children": [
        "IPY_MODEL_a4acdbaa23574948b1ce06bf780852c5",
        "IPY_MODEL_76f9d597d863416a8461ae3877fff9d0",
        "IPY_MODEL_8c346f8c88234fc6badbc646c96e5f5c"
       ],
       "layout": "IPY_MODEL_1dc0501650d046c28aba17c0434823cf"
      }
     },
     "93cc08101e614365bb47f50cffb81dec": {
      "model_module": "@jupyter-widgets/base",
      "model_module_version": "1.2.0",
      "model_name": "LayoutModel",
      "state": {}
     },
     "9455114912fd4f8e959cc42a507b5fdb": {
      "model_module": "@jupyter-widgets/controls",
      "model_module_version": "1.5.0",
      "model_name": "DescriptionStyleModel",
      "state": {
       "description_width": ""
      }
     },
     "945c55a879ce4b9493b9947b8e67505c": {
      "model_module": "@jupyter-widgets/base",
      "model_module_version": "1.2.0",
      "model_name": "LayoutModel",
      "state": {}
     },
     "9460d2f4e48f4884b3fdae2475b824c1": {
      "model_module": "@jupyter-widgets/controls",
      "model_module_version": "1.5.0",
      "model_name": "FloatProgressModel",
      "state": {
       "bar_style": "success",
       "layout": "IPY_MODEL_80c41f82a0d74da0a273506a5be98739",
       "max": 38,
       "style": "IPY_MODEL_6a7f9f7e54b94b77b29ebf6e4fe0df8b",
       "value": 38
      }
     },
     "948532786e524cff9cd72bb082a5888f": {
      "model_module": "@jupyter-widgets/controls",
      "model_module_version": "1.5.0",
      "model_name": "HTMLModel",
      "state": {
       "layout": "IPY_MODEL_e9d5a9e25eb44bb0af2f0833a93b36e3",
       "style": "IPY_MODEL_54f423e9e00d45b48ea0e1a3d51237df",
       "value": "Epoch: 18. Train.    3.34968: 100%"
      }
     },
     "94d8414252314178966a37796a530764": {
      "model_module": "@jupyter-widgets/controls",
      "model_module_version": "1.5.0",
      "model_name": "ProgressStyleModel",
      "state": {
       "description_width": ""
      }
     },
     "94eb30a82a9c42fe87a7e94480a3504c": {
      "model_module": "@jupyter-widgets/controls",
      "model_module_version": "1.5.0",
      "model_name": "HTMLModel",
      "state": {
       "layout": "IPY_MODEL_26b1e8c695424a9cbdaa56b2b3bcdbd4",
       "style": "IPY_MODEL_bf1e3006786745caaa742eddadcb8daf",
       "value": "Epoch: 15. Train.    3.77982: 100%"
      }
     },
     "9504db6491374705b9ede172cf0daff2": {
      "model_module": "@jupyter-widgets/controls",
      "model_module_version": "1.5.0",
      "model_name": "DescriptionStyleModel",
      "state": {
       "description_width": ""
      }
     },
     "953035151f5442c9bcb9a650363faa30": {
      "model_module": "@jupyter-widgets/base",
      "model_module_version": "1.2.0",
      "model_name": "LayoutModel",
      "state": {}
     },
     "97d1934d17fa44baadafa0df0c67c90d": {
      "model_module": "@jupyter-widgets/base",
      "model_module_version": "1.2.0",
      "model_name": "LayoutModel",
      "state": {}
     },
     "9847b3f349194e1ab09159587ed291d6": {
      "model_module": "@jupyter-widgets/controls",
      "model_module_version": "1.5.0",
      "model_name": "HTMLModel",
      "state": {
       "layout": "IPY_MODEL_7a0bcc4eecb84864b06175f511dbda4f",
       "style": "IPY_MODEL_537e1c49bda34f9089e83b56c7a0ae34",
       "value": "Epoch: 11. Validation. 0.34963: 100%"
      }
     },
     "991c8c12de214e348e484630771c30a4": {
      "model_module": "@jupyter-widgets/controls",
      "model_module_version": "1.5.0",
      "model_name": "HTMLModel",
      "state": {
       "layout": "IPY_MODEL_efff9c6ffaa348ee9af51b3ec2d75ebf",
       "style": "IPY_MODEL_15e7aa80265043b38b26994f00164908",
       "value": " 38/38 [00:01&lt;00:00, 25.76it/s]"
      }
     },
     "99a06cadbb3545afa30f03763465edd9": {
      "model_module": "@jupyter-widgets/controls",
      "model_module_version": "1.5.0",
      "model_name": "HBoxModel",
      "state": {
       "children": [
        "IPY_MODEL_3712765647d74200af8c3ceb81e66694",
        "IPY_MODEL_2dcaef7e3ff4419aa5fc2c9610510bc0",
        "IPY_MODEL_85ac52c99a874b4db04bee83b5c727ea"
       ],
       "layout": "IPY_MODEL_3bf457742a1a43e0843ca09e9b57a1b9"
      }
     },
     "9a18f11bb07440fdbfded192f75c407e": {
      "model_module": "@jupyter-widgets/controls",
      "model_module_version": "1.5.0",
      "model_name": "DescriptionStyleModel",
      "state": {
       "description_width": ""
      }
     },
     "9adc0719fa8a402daa2e447d4c6b5af2": {
      "model_module": "@jupyter-widgets/base",
      "model_module_version": "1.2.0",
      "model_name": "LayoutModel",
      "state": {}
     },
     "9afb2ed714634ce09d356a0bbdd7179f": {
      "model_module": "@jupyter-widgets/controls",
      "model_module_version": "1.5.0",
      "model_name": "FloatProgressModel",
      "state": {
       "bar_style": "success",
       "layout": "IPY_MODEL_cfd229da48d94264ab4abc0acac43b5a",
       "max": 5,
       "style": "IPY_MODEL_8242d30bb75443b2846952c682dfefac",
       "value": 5
      }
     },
     "9b3cf497e1ea4ac9a870115027e058a5": {
      "model_module": "@jupyter-widgets/base",
      "model_module_version": "1.2.0",
      "model_name": "LayoutModel",
      "state": {}
     },
     "9b4a7a59e83d41f9873f128bd61b6b80": {
      "model_module": "@jupyter-widgets/base",
      "model_module_version": "1.2.0",
      "model_name": "LayoutModel",
      "state": {}
     },
     "9b4c9a5ec9614944bac050e051ddc847": {
      "model_module": "@jupyter-widgets/controls",
      "model_module_version": "1.5.0",
      "model_name": "DescriptionStyleModel",
      "state": {
       "description_width": ""
      }
     },
     "9b786834da354c789510eddf16a1d98b": {
      "model_module": "@jupyter-widgets/base",
      "model_module_version": "1.2.0",
      "model_name": "LayoutModel",
      "state": {}
     },
     "9ba17842ed8c4658902c90851c6221e6": {
      "model_module": "@jupyter-widgets/base",
      "model_module_version": "1.2.0",
      "model_name": "LayoutModel",
      "state": {}
     },
     "9bc7cb6fc00b4e30849ef15b24226337": {
      "model_module": "@jupyter-widgets/controls",
      "model_module_version": "1.5.0",
      "model_name": "ProgressStyleModel",
      "state": {
       "description_width": ""
      }
     },
     "9c0d5a0843de45329946c85ce23c5d54": {
      "model_module": "@jupyter-widgets/base",
      "model_module_version": "1.2.0",
      "model_name": "LayoutModel",
      "state": {}
     },
     "9d12df9e0d4849498e28d8dca55ae7fc": {
      "model_module": "@jupyter-widgets/controls",
      "model_module_version": "1.5.0",
      "model_name": "DescriptionStyleModel",
      "state": {
       "description_width": ""
      }
     },
     "9d53938d1a7e43a9a9cd1bc7267c9e67": {
      "model_module": "@jupyter-widgets/base",
      "model_module_version": "1.2.0",
      "model_name": "LayoutModel",
      "state": {}
     },
     "9e762e9130d242c6b3d9dba47f6b2803": {
      "model_module": "@jupyter-widgets/base",
      "model_module_version": "1.2.0",
      "model_name": "LayoutModel",
      "state": {}
     },
     "9eb35914e5ff47349980df8b1041e4e3": {
      "model_module": "@jupyter-widgets/base",
      "model_module_version": "1.2.0",
      "model_name": "LayoutModel",
      "state": {}
     },
     "9f4272dfd20e4392b9c2a06b831564a5": {
      "model_module": "@jupyter-widgets/controls",
      "model_module_version": "1.5.0",
      "model_name": "FloatProgressModel",
      "state": {
       "bar_style": "success",
       "layout": "IPY_MODEL_096db80c567c4ec68209b77d262a5b2b",
       "max": 5,
       "style": "IPY_MODEL_041a9928276e4e2e89ba62c0d591dc66",
       "value": 5
      }
     },
     "9f78f28dedaf4b248615fcd4ec40bbef": {
      "model_module": "@jupyter-widgets/controls",
      "model_module_version": "1.5.0",
      "model_name": "ProgressStyleModel",
      "state": {
       "description_width": ""
      }
     },
     "9f95309b522343f68057cec5ee2bbf5d": {
      "model_module": "@jupyter-widgets/controls",
      "model_module_version": "1.5.0",
      "model_name": "ProgressStyleModel",
      "state": {
       "description_width": ""
      }
     },
     "9fa07d388f764fcb91806f7c92c50b24": {
      "model_module": "@jupyter-widgets/controls",
      "model_module_version": "1.5.0",
      "model_name": "DescriptionStyleModel",
      "state": {
       "description_width": ""
      }
     },
     "a06bf0b0b9a94482b54141f9314dbd4e": {
      "model_module": "@jupyter-widgets/controls",
      "model_module_version": "1.5.0",
      "model_name": "DescriptionStyleModel",
      "state": {
       "description_width": ""
      }
     },
     "a07de316f7904fef90ae595d7fdb6fa1": {
      "model_module": "@jupyter-widgets/controls",
      "model_module_version": "1.5.0",
      "model_name": "HTMLModel",
      "state": {
       "layout": "IPY_MODEL_945c55a879ce4b9493b9947b8e67505c",
       "style": "IPY_MODEL_73cf1173ef77442098ceec86697d1375",
       "value": "Epoch: 3. Validation. 0.67068: 100%"
      }
     },
     "a07e21dd78e04b06bb8059ffb0be81ed": {
      "model_module": "@jupyter-widgets/controls",
      "model_module_version": "1.5.0",
      "model_name": "HTMLModel",
      "state": {
       "layout": "IPY_MODEL_5ffe6c0b063c4273bd493f2d93a511bf",
       "style": "IPY_MODEL_1ee6a84d57564756a3f11cd4f02b9a01",
       "value": " 5/5 [00:00&lt;00:00, 15.72it/s]"
      }
     },
     "a09026f81d7c40218e9cfc2fb814369d": {
      "model_module": "@jupyter-widgets/base",
      "model_module_version": "1.2.0",
      "model_name": "LayoutModel",
      "state": {}
     },
     "a16e3e8cfc9847eabc7f40aeba03367b": {
      "model_module": "@jupyter-widgets/base",
      "model_module_version": "1.2.0",
      "model_name": "LayoutModel",
      "state": {}
     },
     "a200f53782f04c0ea5691b8e7640cf6a": {
      "model_module": "@jupyter-widgets/controls",
      "model_module_version": "1.5.0",
      "model_name": "DescriptionStyleModel",
      "state": {
       "description_width": ""
      }
     },
     "a22c028d10db45ae8fd9c438131c0880": {
      "model_module": "@jupyter-widgets/base",
      "model_module_version": "1.2.0",
      "model_name": "LayoutModel",
      "state": {}
     },
     "a3a43ba392f347198e4e44f419dfb878": {
      "model_module": "@jupyter-widgets/controls",
      "model_module_version": "1.5.0",
      "model_name": "DescriptionStyleModel",
      "state": {
       "description_width": ""
      }
     },
     "a3e80670dd964a88b9e0455acb5b4fea": {
      "model_module": "@jupyter-widgets/base",
      "model_module_version": "1.2.0",
      "model_name": "LayoutModel",
      "state": {}
     },
     "a3f66b8051514db98b9c4cc03832c185": {
      "model_module": "@jupyter-widgets/base",
      "model_module_version": "1.2.0",
      "model_name": "LayoutModel",
      "state": {}
     },
     "a47facafedb64cb6b590ddcd587ac561": {
      "model_module": "@jupyter-widgets/controls",
      "model_module_version": "1.5.0",
      "model_name": "HTMLModel",
      "state": {
       "layout": "IPY_MODEL_f1f21aa928a748e881e8cd970dfb9545",
       "style": "IPY_MODEL_dff3e5e38ffa4fe0b8507156b6bbfe80",
       "value": "Epoch: 4. Train.    6.56822: 100%"
      }
     },
     "a489245f481b40389877afe471061d51": {
      "model_module": "@jupyter-widgets/base",
      "model_module_version": "1.2.0",
      "model_name": "LayoutModel",
      "state": {}
     },
     "a4908286e3a74780bb23728faf74297f": {
      "model_module": "@jupyter-widgets/base",
      "model_module_version": "1.2.0",
      "model_name": "LayoutModel",
      "state": {}
     },
     "a49cdcadd3e3460ba8d9958c97015214": {
      "model_module": "@jupyter-widgets/controls",
      "model_module_version": "1.5.0",
      "model_name": "FloatProgressModel",
      "state": {
       "bar_style": "success",
       "layout": "IPY_MODEL_22b7e54887d84f32bd44a437eea5ff27",
       "max": 38,
       "style": "IPY_MODEL_50174e8dd2ca41f3962860a75523bc34",
       "value": 38
      }
     },
     "a49fcf826e3846f6917ebaeace4b9e96": {
      "model_module": "@jupyter-widgets/controls",
      "model_module_version": "1.5.0",
      "model_name": "ProgressStyleModel",
      "state": {
       "description_width": ""
      }
     },
     "a4acdbaa23574948b1ce06bf780852c5": {
      "model_module": "@jupyter-widgets/controls",
      "model_module_version": "1.5.0",
      "model_name": "HTMLModel",
      "state": {
       "layout": "IPY_MODEL_c0219e285a724482a98cf260717bd49a",
       "style": "IPY_MODEL_9b4c9a5ec9614944bac050e051ddc847",
       "value": "Epoch: 23. Validation. 0.26850: 100%"
      }
     },
     "a512c62171e94a3d93ca6d07aeff64d3": {
      "model_module": "@jupyter-widgets/controls",
      "model_module_version": "1.5.0",
      "model_name": "HBoxModel",
      "state": {
       "children": [
        "IPY_MODEL_78f41735f1ab49af90a21eb461f1f8ec",
        "IPY_MODEL_70dea9c60c364d3c83d33ade1b47c3e9",
        "IPY_MODEL_aa07ae1e871944499fbfdd260c6ed37e"
       ],
       "layout": "IPY_MODEL_4d2c2a41e7a34592ac05211e108aa5e9"
      }
     },
     "a5178e5a1f7041ca867842bb8afb0fcd": {
      "model_module": "@jupyter-widgets/controls",
      "model_module_version": "1.5.0",
      "model_name": "HBoxModel",
      "state": {
       "children": [
        "IPY_MODEL_712bdd189b10484cb17cb8e66905aa0c",
        "IPY_MODEL_6f1ab74c5b0246a2ae9e81d1eff573f4",
        "IPY_MODEL_3a9bef725e5b4b5d8ca494546a7504ad"
       ],
       "layout": "IPY_MODEL_704f1561ea9841968113ee4b795e0c46"
      }
     },
     "a54bfce829bb4aef8ea0d3390bcc9141": {
      "model_module": "@jupyter-widgets/base",
      "model_module_version": "1.2.0",
      "model_name": "LayoutModel",
      "state": {}
     },
     "a5f4d7a99d3244fd94911a0aa29c9466": {
      "model_module": "@jupyter-widgets/controls",
      "model_module_version": "1.5.0",
      "model_name": "HBoxModel",
      "state": {
       "children": [
        "IPY_MODEL_61df76e53173401b88de0bf36d8f97c3",
        "IPY_MODEL_fd6bc80c0d0f4e2db74dcc8b517eb517",
        "IPY_MODEL_635135cedf7a408d99a9cc7f4ab01e2d"
       ],
       "layout": "IPY_MODEL_4944c4a6086e48ce8d5660cfaa757f40"
      }
     },
     "a623887fbeb649799920d035d771dcb8": {
      "model_module": "@jupyter-widgets/base",
      "model_module_version": "1.2.0",
      "model_name": "LayoutModel",
      "state": {}
     },
     "a696307386d94bd5a0f824acf0070423": {
      "model_module": "@jupyter-widgets/base",
      "model_module_version": "1.2.0",
      "model_name": "LayoutModel",
      "state": {}
     },
     "a6aa890fd8c849ec847f8b4a89617b04": {
      "model_module": "@jupyter-widgets/controls",
      "model_module_version": "1.5.0",
      "model_name": "FloatProgressModel",
      "state": {
       "bar_style": "success",
       "layout": "IPY_MODEL_467e5cd8661344e0809b58c0a86af08e",
       "max": 5,
       "style": "IPY_MODEL_6094fe1748764f24b04a5c237c69c59e",
       "value": 5
      }
     },
     "a6dc10a7fcca45c1be1da8630097ac65": {
      "model_module": "@jupyter-widgets/base",
      "model_module_version": "1.2.0",
      "model_name": "LayoutModel",
      "state": {}
     },
     "a70a55a1b10c4d18a9b0a1a3a137693b": {
      "model_module": "@jupyter-widgets/controls",
      "model_module_version": "1.5.0",
      "model_name": "ProgressStyleModel",
      "state": {
       "description_width": ""
      }
     },
     "a70c27c1ff7042269359b9bccfdbf136": {
      "model_module": "@jupyter-widgets/controls",
      "model_module_version": "1.5.0",
      "model_name": "HTMLModel",
      "state": {
       "layout": "IPY_MODEL_ff6a6e60a36a4fd986a3c3bedc9483db",
       "style": "IPY_MODEL_5193ee41b2984505a6ba6778ef3dd401",
       "value": " 5/5 [00:00&lt;00:00, 15.84it/s]"
      }
     },
     "a754fc081de04074af13b900048a7ffe": {
      "model_module": "@jupyter-widgets/base",
      "model_module_version": "1.2.0",
      "model_name": "LayoutModel",
      "state": {}
     },
     "a76ed247b33f488c81e389d8a052b38e": {
      "model_module": "@jupyter-widgets/controls",
      "model_module_version": "1.5.0",
      "model_name": "HBoxModel",
      "state": {
       "children": [
        "IPY_MODEL_01eb3000aef941bb8ee5675b0fce8fed",
        "IPY_MODEL_62956d2cacc64b03ae0fe7fda2a0f744",
        "IPY_MODEL_837f1a55ce474f44859999424162c74a"
       ],
       "layout": "IPY_MODEL_3ac199bb018544b1aa8e1ac009662425"
      }
     },
     "a78e042274ad4cc583f4117c2715c3fe": {
      "model_module": "@jupyter-widgets/controls",
      "model_module_version": "1.5.0",
      "model_name": "ProgressStyleModel",
      "state": {
       "description_width": ""
      }
     },
     "a7a8208f967344b9b89a04eefecb5e8d": {
      "model_module": "@jupyter-widgets/base",
      "model_module_version": "1.2.0",
      "model_name": "LayoutModel",
      "state": {}
     },
     "a7b7e816c05d4cc49e578e7e52226bf0": {
      "model_module": "@jupyter-widgets/controls",
      "model_module_version": "1.5.0",
      "model_name": "HTMLModel",
      "state": {
       "layout": "IPY_MODEL_e78d8d8a03be42a8baca478976df1ba1",
       "style": "IPY_MODEL_e6eaeabc7f124d79b6b1686bcbe93645",
       "value": "Epoch: 9. Train.    3.62628: 100%"
      }
     },
     "a7bbc4898e64428391ab0af580c3d362": {
      "model_module": "@jupyter-widgets/controls",
      "model_module_version": "1.5.0",
      "model_name": "HTMLModel",
      "state": {
       "layout": "IPY_MODEL_e309aff2be2c4351aa5efa2ba557ddec",
       "style": "IPY_MODEL_a8621d18df6241cf9c7baaee1939e622",
       "value": "Epoch: 21. Train.    3.88674: 100%"
      }
     },
     "a7c2c6ce015a40749cf981819d65b4ce": {
      "model_module": "@jupyter-widgets/controls",
      "model_module_version": "1.5.0",
      "model_name": "DescriptionStyleModel",
      "state": {
       "description_width": ""
      }
     },
     "a7c687ecd9174bc5b597aecb764e45fa": {
      "model_module": "@jupyter-widgets/controls",
      "model_module_version": "1.5.0",
      "model_name": "DescriptionStyleModel",
      "state": {
       "description_width": ""
      }
     },
     "a8621d18df6241cf9c7baaee1939e622": {
      "model_module": "@jupyter-widgets/controls",
      "model_module_version": "1.5.0",
      "model_name": "DescriptionStyleModel",
      "state": {
       "description_width": ""
      }
     },
     "a8a3b1f42c064caeb157ad5913f1ab1a": {
      "model_module": "@jupyter-widgets/controls",
      "model_module_version": "1.5.0",
      "model_name": "FloatProgressModel",
      "state": {
       "bar_style": "success",
       "layout": "IPY_MODEL_b97858354a0d426aa636dee185d5a768",
       "max": 5,
       "style": "IPY_MODEL_e90d59d1addb4acdbcc5da5b4c4aea02",
       "value": 5
      }
     },
     "a8c2dbb14b83488aab12fa43589062bd": {
      "model_module": "@jupyter-widgets/controls",
      "model_module_version": "1.5.0",
      "model_name": "HTMLModel",
      "state": {
       "layout": "IPY_MODEL_fcf8688c5633410ca5c90e03e0ec0192",
       "style": "IPY_MODEL_edd49028860b49a69895079e4b8da61f",
       "value": "Epoch: 22. Train.    2.70486: 100%"
      }
     },
     "a8e92b6872304dfdad23e91d1be9511e": {
      "model_module": "@jupyter-widgets/controls",
      "model_module_version": "1.5.0",
      "model_name": "ProgressStyleModel",
      "state": {
       "description_width": ""
      }
     },
     "a8e9ccff355c4f5cbbf20935e5ad9c43": {
      "model_module": "@jupyter-widgets/controls",
      "model_module_version": "1.5.0",
      "model_name": "DescriptionStyleModel",
      "state": {
       "description_width": ""
      }
     },
     "a8f2bf8ca3d844c9820242694343f6a4": {
      "model_module": "@jupyter-widgets/controls",
      "model_module_version": "1.5.0",
      "model_name": "HTMLModel",
      "state": {
       "layout": "IPY_MODEL_37fec90c6dcd4e5fb25cb76353e4f665",
       "style": "IPY_MODEL_05caf3928d164799905adfa0f9c163e0",
       "value": "Epoch: 32. Train.    1.88977: 100%"
      }
     },
     "a945c5cf60294947bb278956570b78f7": {
      "model_module": "@jupyter-widgets/controls",
      "model_module_version": "1.5.0",
      "model_name": "DescriptionStyleModel",
      "state": {
       "description_width": ""
      }
     },
     "a9a885cac7af48ecbee6e52a87db2b3b": {
      "model_module": "@jupyter-widgets/controls",
      "model_module_version": "1.5.0",
      "model_name": "FloatProgressModel",
      "state": {
       "bar_style": "success",
       "layout": "IPY_MODEL_92664f2c5a1c442cb736184c3316181b",
       "max": 5,
       "style": "IPY_MODEL_fe18889802114deaa865745dc502306f",
       "value": 5
      }
     },
     "a9db8d4847f946408f9a78d535e91974": {
      "model_module": "@jupyter-widgets/controls",
      "model_module_version": "1.5.0",
      "model_name": "ProgressStyleModel",
      "state": {
       "description_width": ""
      }
     },
     "aa07ae1e871944499fbfdd260c6ed37e": {
      "model_module": "@jupyter-widgets/controls",
      "model_module_version": "1.5.0",
      "model_name": "HTMLModel",
      "state": {
       "layout": "IPY_MODEL_dfbeeb53df4d4c6696e1341721512373",
       "style": "IPY_MODEL_7128093e9ed446df9f624c689ad0a382",
       "value": " 5/5 [00:00&lt;00:00, 16.04it/s]"
      }
     },
     "aa249c51875d496a940a3b27ae294e0b": {
      "model_module": "@jupyter-widgets/base",
      "model_module_version": "1.2.0",
      "model_name": "LayoutModel",
      "state": {}
     },
     "aacdce4debc941f3b0ce0929284b8e31": {
      "model_module": "@jupyter-widgets/controls",
      "model_module_version": "1.5.0",
      "model_name": "HTMLModel",
      "state": {
       "layout": "IPY_MODEL_05dfd6b9c0a145fc8e0b0bcbba0ad1ab",
       "style": "IPY_MODEL_37435352298446d48c8491285863df74",
       "value": " 5/5 [00:00&lt;00:00, 15.65it/s]"
      }
     },
     "ab0d8b258aab494bb4457c622ca7e4e2": {
      "model_module": "@jupyter-widgets/base",
      "model_module_version": "1.2.0",
      "model_name": "LayoutModel",
      "state": {}
     },
     "ab2528c9efd54d9b9d07f13a24a8b4f5": {
      "model_module": "@jupyter-widgets/base",
      "model_module_version": "1.2.0",
      "model_name": "LayoutModel",
      "state": {}
     },
     "ab5e498d52574922acffc4b3f5affd92": {
      "model_module": "@jupyter-widgets/controls",
      "model_module_version": "1.5.0",
      "model_name": "HBoxModel",
      "state": {
       "children": [
        "IPY_MODEL_f36457cf988d402e84e78b7b3155f00b",
        "IPY_MODEL_29d68b655b08423c8f5c99c15face079",
        "IPY_MODEL_fbb86584eead43d3bd7cad466518402a"
       ],
       "layout": "IPY_MODEL_beebe5ecec2e439ca4fa7030bb4045c6"
      }
     },
     "ab887f02a2c84143b31f87e1c3060881": {
      "model_module": "@jupyter-widgets/base",
      "model_module_version": "1.2.0",
      "model_name": "LayoutModel",
      "state": {}
     },
     "ac26ee29b6534435aea00c90f84916ee": {
      "model_module": "@jupyter-widgets/base",
      "model_module_version": "1.2.0",
      "model_name": "LayoutModel",
      "state": {}
     },
     "ac7039ec52db46e0a2f33e99e9b79b4d": {
      "model_module": "@jupyter-widgets/controls",
      "model_module_version": "1.5.0",
      "model_name": "HBoxModel",
      "state": {
       "children": [
        "IPY_MODEL_c31350239df745049f7328cb86bfee43",
        "IPY_MODEL_06bb738222c2406d83e03521a1aca35a",
        "IPY_MODEL_f1ca197268e947bbb69314a47e4094a8"
       ],
       "layout": "IPY_MODEL_d02d4b48df7e43adb1d8e3c4f7eb3a80"
      }
     },
     "acede2baf6bc422baf60f5a882969bc9": {
      "model_module": "@jupyter-widgets/controls",
      "model_module_version": "1.5.0",
      "model_name": "FloatProgressModel",
      "state": {
       "bar_style": "success",
       "layout": "IPY_MODEL_8e2e6ad9273e4f4c83c2f31cdb87cf96",
       "max": 38,
       "style": "IPY_MODEL_4971b24f7c624b32bfd58dfe4dd536f2",
       "value": 38
      }
     },
     "ad45104fa1bb455d9b30d0cf67416a37": {
      "model_module": "@jupyter-widgets/controls",
      "model_module_version": "1.5.0",
      "model_name": "FloatProgressModel",
      "state": {
       "bar_style": "success",
       "layout": "IPY_MODEL_55a60566c58c41ae87c77d3e753404b7",
       "max": 5,
       "style": "IPY_MODEL_a9db8d4847f946408f9a78d535e91974",
       "value": 5
      }
     },
     "ae3a3a8226ad4bf1b9ff01809d548052": {
      "model_module": "@jupyter-widgets/base",
      "model_module_version": "1.2.0",
      "model_name": "LayoutModel",
      "state": {}
     },
     "ae64b2099de949969062da3a7b2bf5de": {
      "model_module": "@jupyter-widgets/controls",
      "model_module_version": "1.5.0",
      "model_name": "HTMLModel",
      "state": {
       "layout": "IPY_MODEL_209660f778f14f1f9d840e57a3319952",
       "style": "IPY_MODEL_b9f9ccf06938457d88978829f28ba1a4",
       "value": "Epoch: 27. Train.    2.18399: 100%"
      }
     },
     "ae6e63c1a27049eab34b48b8d641d377": {
      "model_module": "@jupyter-widgets/controls",
      "model_module_version": "1.5.0",
      "model_name": "DescriptionStyleModel",
      "state": {
       "description_width": ""
      }
     },
     "ae7821f734c4476f827eb09defbfaf59": {
      "model_module": "@jupyter-widgets/controls",
      "model_module_version": "1.5.0",
      "model_name": "ProgressStyleModel",
      "state": {
       "description_width": ""
      }
     },
     "aeb38f1dd29e47d0beab34e0c6e82514": {
      "model_module": "@jupyter-widgets/base",
      "model_module_version": "1.2.0",
      "model_name": "LayoutModel",
      "state": {}
     },
     "aecabeb7f5324890b371da7f7ce5c3ce": {
      "model_module": "@jupyter-widgets/controls",
      "model_module_version": "1.5.0",
      "model_name": "HTMLModel",
      "state": {
       "layout": "IPY_MODEL_c5836cce80584ae199c4e6aa9f33380f",
       "style": "IPY_MODEL_7db85148bd3542e591f795a00a98c50c",
       "value": " 5/5 [00:00&lt;00:00, 15.65it/s]"
      }
     },
     "aedd5545587e418db1da54dd1a428878": {
      "model_module": "@jupyter-widgets/base",
      "model_module_version": "1.2.0",
      "model_name": "LayoutModel",
      "state": {}
     },
     "af457663ed894bad80ca2408812f9b29": {
      "model_module": "@jupyter-widgets/controls",
      "model_module_version": "1.5.0",
      "model_name": "HTMLModel",
      "state": {
       "layout": "IPY_MODEL_de2d4a619e8744a3bab0858ea04b5a05",
       "style": "IPY_MODEL_6f26b2e56bcf45fa9f1f05dc068bbf79",
       "value": " 38/38 [00:01&lt;00:00, 26.49it/s]"
      }
     },
     "b009ae7b3dbf4662a13a5b4a93589936": {
      "model_module": "@jupyter-widgets/controls",
      "model_module_version": "1.5.0",
      "model_name": "FloatProgressModel",
      "state": {
       "bar_style": "success",
       "layout": "IPY_MODEL_b40141a83a3c4a199d0eee2c60027ee0",
       "max": 38,
       "style": "IPY_MODEL_c0c96e06851a4965a49a2330a602c1ea",
       "value": 38
      }
     },
     "b043a326d9f7435d9467dc9c3933a05b": {
      "model_module": "@jupyter-widgets/controls",
      "model_module_version": "1.5.0",
      "model_name": "HBoxModel",
      "state": {
       "children": [
        "IPY_MODEL_768b27b636244dd9afaa5ee8eea22692",
        "IPY_MODEL_a9a885cac7af48ecbee6e52a87db2b3b",
        "IPY_MODEL_735f46c86201437d8bb4f1a087fc3c84"
       ],
       "layout": "IPY_MODEL_29f7e5aa8c744b5d8656053f94cc8af0"
      }
     },
     "b05530a60a5e4ea9bfc70b4ac9d807f8": {
      "model_module": "@jupyter-widgets/controls",
      "model_module_version": "1.5.0",
      "model_name": "HBoxModel",
      "state": {
       "children": [
        "IPY_MODEL_d2db490e5647449e9a2fb98791852ae3",
        "IPY_MODEL_1419302376b94bfeaa3b006175bd12d3",
        "IPY_MODEL_3c5b9c6ffd96415d905b710b62926494"
       ],
       "layout": "IPY_MODEL_6de74ef52f4849bcb87ab1664dd4d35c"
      }
     },
     "b05593c87d79444c977fe844d7e840ad": {
      "model_module": "@jupyter-widgets/controls",
      "model_module_version": "1.5.0",
      "model_name": "DescriptionStyleModel",
      "state": {
       "description_width": ""
      }
     },
     "b09d086d8cda42bab696cedc16469676": {
      "model_module": "@jupyter-widgets/controls",
      "model_module_version": "1.5.0",
      "model_name": "HBoxModel",
      "state": {
       "children": [
        "IPY_MODEL_c59221b7326c43e88ceca3e56fdbdd3a",
        "IPY_MODEL_fdf84a802efe4218a7acff00b1676df3",
        "IPY_MODEL_402c536995744414a9199f3acdfafbcb"
       ],
       "layout": "IPY_MODEL_b5ceac7bd9714cd288f6baa70b59ab86"
      }
     },
     "b118604d2b0943bd8552ab46c6fe3c82": {
      "model_module": "@jupyter-widgets/controls",
      "model_module_version": "1.5.0",
      "model_name": "HTMLModel",
      "state": {
       "layout": "IPY_MODEL_ce1be99226cf4c75950ff14b5a475cda",
       "style": "IPY_MODEL_4c89acd2f1f54349bf708f18583b9d4d",
       "value": "Epoch: 28. Train.    2.22878: 100%"
      }
     },
     "b18a831cffe243588184ca52608da4c9": {
      "model_module": "@jupyter-widgets/controls",
      "model_module_version": "1.5.0",
      "model_name": "HBoxModel",
      "state": {
       "children": [
        "IPY_MODEL_6bd9cedb16944eb4914f66bec9338cab",
        "IPY_MODEL_14df94f2def3401886bbfa125843b10b",
        "IPY_MODEL_61fb9579049f45fda729d01f388e0021"
       ],
       "layout": "IPY_MODEL_9ba17842ed8c4658902c90851c6221e6"
      }
     },
     "b203ba0aebf546e685b8a5d8e38acbb1": {
      "model_module": "@jupyter-widgets/base",
      "model_module_version": "1.2.0",
      "model_name": "LayoutModel",
      "state": {}
     },
     "b21fb7b060704709a8dce01b21e44f82": {
      "model_module": "@jupyter-widgets/base",
      "model_module_version": "1.2.0",
      "model_name": "LayoutModel",
      "state": {}
     },
     "b2642b44e33b48cc8aaa7cb2ff76b169": {
      "model_module": "@jupyter-widgets/base",
      "model_module_version": "1.2.0",
      "model_name": "LayoutModel",
      "state": {}
     },
     "b279110ded6a42c090d14160919a5ced": {
      "model_module": "@jupyter-widgets/controls",
      "model_module_version": "1.5.0",
      "model_name": "HBoxModel",
      "state": {
       "children": [
        "IPY_MODEL_44d256eff12b41f3b716dc799960a3f7",
        "IPY_MODEL_1ea2e56b607c445c8df00a8f1dd40f0e",
        "IPY_MODEL_5d58be29643245acac790c6e5d3473f7"
       ],
       "layout": "IPY_MODEL_c8eeed27d4a64c20a8ae6045dee3d0cb"
      }
     },
     "b3639bfb24dd4a76ac476e69520be6d8": {
      "model_module": "@jupyter-widgets/base",
      "model_module_version": "1.2.0",
      "model_name": "LayoutModel",
      "state": {}
     },
     "b40141a83a3c4a199d0eee2c60027ee0": {
      "model_module": "@jupyter-widgets/base",
      "model_module_version": "1.2.0",
      "model_name": "LayoutModel",
      "state": {}
     },
     "b438c6c78f284b9984837b449a20ac41": {
      "model_module": "@jupyter-widgets/controls",
      "model_module_version": "1.5.0",
      "model_name": "HTMLModel",
      "state": {
       "layout": "IPY_MODEL_70ae6482100a4507a7b51bd5e64e73e2",
       "style": "IPY_MODEL_5f4cd5de54674c2994226c0541b217af",
       "value": " 5/5 [00:00&lt;00:00, 15.18it/s]"
      }
     },
     "b442a870af6943c484d0270ea76969c5": {
      "model_module": "@jupyter-widgets/controls",
      "model_module_version": "1.5.0",
      "model_name": "FloatProgressModel",
      "state": {
       "bar_style": "success",
       "layout": "IPY_MODEL_a6dc10a7fcca45c1be1da8630097ac65",
       "max": 5,
       "style": "IPY_MODEL_381c1884919c4f3b9eb89be4b21a1a8d",
       "value": 5
      }
     },
     "b44e89dca4404239b1afebca686c8b49": {
      "model_module": "@jupyter-widgets/controls",
      "model_module_version": "1.5.0",
      "model_name": "HBoxModel",
      "state": {
       "children": [
        "IPY_MODEL_a07de316f7904fef90ae595d7fdb6fa1",
        "IPY_MODEL_55715ae02b0c4d47a6488b5dcdbadd23",
        "IPY_MODEL_347aaff019424f0ea571365705cc4ce2"
       ],
       "layout": "IPY_MODEL_654f909e5eee40089183a4f62532b0bb"
      }
     },
     "b45369000de44087b3871ef9d04cc9d0": {
      "model_module": "@jupyter-widgets/base",
      "model_module_version": "1.2.0",
      "model_name": "LayoutModel",
      "state": {}
     },
     "b46869993fd245e3bafb1a725e67ea64": {
      "model_module": "@jupyter-widgets/base",
      "model_module_version": "1.2.0",
      "model_name": "LayoutModel",
      "state": {}
     },
     "b478e3935793454a9fa668351915678b": {
      "model_module": "@jupyter-widgets/controls",
      "model_module_version": "1.5.0",
      "model_name": "FloatProgressModel",
      "state": {
       "bar_style": "success",
       "layout": "IPY_MODEL_62f5575808ce431784147e9543aa1f34",
       "max": 5,
       "style": "IPY_MODEL_4f53afa82e7041d9a4248e952cac727b",
       "value": 5
      }
     },
     "b4ae4fa9869746f3b46ac4d8eee06fb5": {
      "model_module": "@jupyter-widgets/base",
      "model_module_version": "1.2.0",
      "model_name": "LayoutModel",
      "state": {}
     },
     "b4bb0a5690424f9e95ff8e669ffe2069": {
      "model_module": "@jupyter-widgets/controls",
      "model_module_version": "1.5.0",
      "model_name": "HTMLModel",
      "state": {
       "layout": "IPY_MODEL_116578d90e444d6ea78407bacf143221",
       "style": "IPY_MODEL_5e9c79ecca6a4c249827b38dfc3664fc",
       "value": "Epoch: 24. Train.    2.40267: 100%"
      }
     },
     "b588831d5d144156b5b58da87c4dd72c": {
      "model_module": "@jupyter-widgets/base",
      "model_module_version": "1.2.0",
      "model_name": "LayoutModel",
      "state": {}
     },
     "b5ceac7bd9714cd288f6baa70b59ab86": {
      "model_module": "@jupyter-widgets/base",
      "model_module_version": "1.2.0",
      "model_name": "LayoutModel",
      "state": {}
     },
     "b6126681fe4147349720582ffd0c74e9": {
      "model_module": "@jupyter-widgets/base",
      "model_module_version": "1.2.0",
      "model_name": "LayoutModel",
      "state": {}
     },
     "b627c996366c410cb057d4bf1bab6e79": {
      "model_module": "@jupyter-widgets/controls",
      "model_module_version": "1.5.0",
      "model_name": "ProgressStyleModel",
      "state": {
       "description_width": ""
      }
     },
     "b6cc2e13e66846a6b8eea7c9b41a36c1": {
      "model_module": "@jupyter-widgets/base",
      "model_module_version": "1.2.0",
      "model_name": "LayoutModel",
      "state": {}
     },
     "b739ee6b20524cc997fcffa360333959": {
      "model_module": "@jupyter-widgets/controls",
      "model_module_version": "1.5.0",
      "model_name": "HBoxModel",
      "state": {
       "children": [
        "IPY_MODEL_5a27dd03b68a4d688c96dec983e055a3",
        "IPY_MODEL_75c392a678b44b0090a9d7492e34d279",
        "IPY_MODEL_3674ea22066b4bdfa5045afd1f6e1acc"
       ],
       "layout": "IPY_MODEL_ddc1a10f862345d38e47a287cb335edc"
      }
     },
     "b744f47e5e714193929df596b230fea5": {
      "model_module": "@jupyter-widgets/controls",
      "model_module_version": "1.5.0",
      "model_name": "DescriptionStyleModel",
      "state": {
       "description_width": ""
      }
     },
     "b753177ba9a34e00b2027ff6c98334f9": {
      "model_module": "@jupyter-widgets/controls",
      "model_module_version": "1.5.0",
      "model_name": "ProgressStyleModel",
      "state": {
       "description_width": ""
      }
     },
     "b7e7f6427bde49c3a3ccce8fc5b71ed3": {
      "model_module": "@jupyter-widgets/base",
      "model_module_version": "1.2.0",
      "model_name": "LayoutModel",
      "state": {}
     },
     "b81c22de331448469acd8ec6c1bbf2b0": {
      "model_module": "@jupyter-widgets/controls",
      "model_module_version": "1.5.0",
      "model_name": "HBoxModel",
      "state": {
       "children": [
        "IPY_MODEL_3de30522df5248089ff2f64c81aa11d4",
        "IPY_MODEL_29a3e042341642f89d41543df43ef9ed",
        "IPY_MODEL_18b6386f2eed4335b099c2d2bbfbd52d"
       ],
       "layout": "IPY_MODEL_7a0a2051cb084925b23b0cb703f296f6"
      }
     },
     "b849c3223f694322b9851bfd17e94292": {
      "model_module": "@jupyter-widgets/controls",
      "model_module_version": "1.5.0",
      "model_name": "HTMLModel",
      "state": {
       "layout": "IPY_MODEL_e9dfb8f6319543559294209e67c93747",
       "style": "IPY_MODEL_dfb8b1a239754872bc9bf98b8e28e790",
       "value": "Epoch: 2. Train.    10.23878: 100%"
      }
     },
     "b8a712b07a524062914e7cbfa66851d7": {
      "model_module": "@jupyter-widgets/controls",
      "model_module_version": "1.5.0",
      "model_name": "ProgressStyleModel",
      "state": {
       "description_width": ""
      }
     },
     "b8c223691a5b493bbd9f6c7a5cd85802": {
      "model_module": "@jupyter-widgets/controls",
      "model_module_version": "1.5.0",
      "model_name": "HTMLModel",
      "state": {
       "layout": "IPY_MODEL_15555de398014deea711ffe82a8f1f5e",
       "style": "IPY_MODEL_90c3465bbbcd4d8fbc169519ac0d0f7e",
       "value": " 38/38 [00:01&lt;00:00, 27.38it/s]"
      }
     },
     "b8c324a7b8c047768a979bd5069772f9": {
      "model_module": "@jupyter-widgets/controls",
      "model_module_version": "1.5.0",
      "model_name": "DescriptionStyleModel",
      "state": {
       "description_width": ""
      }
     },
     "b8f0c68067514ae1a0fb15550beb637f": {
      "model_module": "@jupyter-widgets/base",
      "model_module_version": "1.2.0",
      "model_name": "LayoutModel",
      "state": {}
     },
     "b8fca47a946f411e9c1734ea7266bb2c": {
      "model_module": "@jupyter-widgets/controls",
      "model_module_version": "1.5.0",
      "model_name": "HTMLModel",
      "state": {
       "layout": "IPY_MODEL_b2642b44e33b48cc8aaa7cb2ff76b169",
       "style": "IPY_MODEL_d5cecaa7b0f84c3aa33ee996a663a55f",
       "value": "Epoch: 38. Validation. 0.20934: 100%"
      }
     },
     "b97858354a0d426aa636dee185d5a768": {
      "model_module": "@jupyter-widgets/base",
      "model_module_version": "1.2.0",
      "model_name": "LayoutModel",
      "state": {}
     },
     "b9dd96562e674d3391e2f4dae4efb15d": {
      "model_module": "@jupyter-widgets/base",
      "model_module_version": "1.2.0",
      "model_name": "LayoutModel",
      "state": {}
     },
     "b9f9ccf06938457d88978829f28ba1a4": {
      "model_module": "@jupyter-widgets/controls",
      "model_module_version": "1.5.0",
      "model_name": "DescriptionStyleModel",
      "state": {
       "description_width": ""
      }
     },
     "bb214fd3fd9d40a788787e154135cc38": {
      "model_module": "@jupyter-widgets/controls",
      "model_module_version": "1.5.0",
      "model_name": "FloatProgressModel",
      "state": {
       "bar_style": "success",
       "layout": "IPY_MODEL_ecfa4041e11348419b2108e245049323",
       "max": 38,
       "style": "IPY_MODEL_455138dd5ecf45b79b59c48c54e82dbf",
       "value": 38
      }
     },
     "bb36dcc2df10490dae44cd455847e05e": {
      "model_module": "@jupyter-widgets/controls",
      "model_module_version": "1.5.0",
      "model_name": "FloatProgressModel",
      "state": {
       "bar_style": "success",
       "layout": "IPY_MODEL_1e7186ecbd544ae2b0fc3775cf887fba",
       "max": 5,
       "style": "IPY_MODEL_ae7821f734c4476f827eb09defbfaf59",
       "value": 5
      }
     },
     "bbcee25b123245a19df11c19845561cb": {
      "model_module": "@jupyter-widgets/base",
      "model_module_version": "1.2.0",
      "model_name": "LayoutModel",
      "state": {}
     },
     "bbd0fbf4fbec44a982a4e19546d0e14a": {
      "model_module": "@jupyter-widgets/controls",
      "model_module_version": "1.5.0",
      "model_name": "FloatProgressModel",
      "state": {
       "bar_style": "success",
       "layout": "IPY_MODEL_bf6dfe6bff784d2998dc508575b7d1b2",
       "max": 38,
       "style": "IPY_MODEL_1eaacc4fc03440e3a4f531fbe69ce16a",
       "value": 38
      }
     },
     "bc638ae75696485080e46106b621e03e": {
      "model_module": "@jupyter-widgets/controls",
      "model_module_version": "1.5.0",
      "model_name": "DescriptionStyleModel",
      "state": {
       "description_width": ""
      }
     },
     "bc69a71dba5d4bbaafd9af1a7e9da998": {
      "model_module": "@jupyter-widgets/controls",
      "model_module_version": "1.5.0",
      "model_name": "DescriptionStyleModel",
      "state": {
       "description_width": ""
      }
     },
     "bc7b83c1a9bf4975b08d2c912954e31f": {
      "model_module": "@jupyter-widgets/base",
      "model_module_version": "1.2.0",
      "model_name": "LayoutModel",
      "state": {}
     },
     "bc7e2b13b37d4c8da90ec535db742ed4": {
      "model_module": "@jupyter-widgets/controls",
      "model_module_version": "1.5.0",
      "model_name": "HBoxModel",
      "state": {
       "children": [
        "IPY_MODEL_a8f2bf8ca3d844c9820242694343f6a4",
        "IPY_MODEL_66626bc5194249a38673380fd966c9d7",
        "IPY_MODEL_36517f73d92b4c1eab17babcd4f4d297"
       ],
       "layout": "IPY_MODEL_e1d0c46263a24e4da1ec51937a7d6907"
      }
     },
     "bc832c1579b7412486c27124614cf138": {
      "model_module": "@jupyter-widgets/controls",
      "model_module_version": "1.5.0",
      "model_name": "FloatProgressModel",
      "state": {
       "bar_style": "success",
       "layout": "IPY_MODEL_16893ac0e73848359fac1489f2ecb8f7",
       "max": 5,
       "style": "IPY_MODEL_d28d068d97a141208309a67424e70c7d",
       "value": 5
      }
     },
     "bc9d9eb49b50492ebca5e6036ec55f58": {
      "model_module": "@jupyter-widgets/base",
      "model_module_version": "1.2.0",
      "model_name": "LayoutModel",
      "state": {}
     },
     "bd0bd521b43840a486d928a9a90197e8": {
      "model_module": "@jupyter-widgets/controls",
      "model_module_version": "1.5.0",
      "model_name": "DescriptionStyleModel",
      "state": {
       "description_width": ""
      }
     },
     "bd285350051f4f10acdff90ff12cb2a9": {
      "model_module": "@jupyter-widgets/base",
      "model_module_version": "1.2.0",
      "model_name": "LayoutModel",
      "state": {}
     },
     "bd36cfafccce4f6986e8df7bfb468ade": {
      "model_module": "@jupyter-widgets/controls",
      "model_module_version": "1.5.0",
      "model_name": "HTMLModel",
      "state": {
       "layout": "IPY_MODEL_a7a8208f967344b9b89a04eefecb5e8d",
       "style": "IPY_MODEL_6cd8b30b6146439188dbd00698fe691f",
       "value": "Epoch: 15. Validation. 0.34313: 100%"
      }
     },
     "bdcaf39b41014ff084a2912c3f8a2fc2": {
      "model_module": "@jupyter-widgets/controls",
      "model_module_version": "1.5.0",
      "model_name": "DescriptionStyleModel",
      "state": {
       "description_width": ""
      }
     },
     "bec9f3d90afc47cc808ccdc44a8b7204": {
      "model_module": "@jupyter-widgets/base",
      "model_module_version": "1.2.0",
      "model_name": "LayoutModel",
      "state": {}
     },
     "beebe5ecec2e439ca4fa7030bb4045c6": {
      "model_module": "@jupyter-widgets/base",
      "model_module_version": "1.2.0",
      "model_name": "LayoutModel",
      "state": {}
     },
     "bf1e3006786745caaa742eddadcb8daf": {
      "model_module": "@jupyter-widgets/controls",
      "model_module_version": "1.5.0",
      "model_name": "DescriptionStyleModel",
      "state": {
       "description_width": ""
      }
     },
     "bf2c498defb5412fb4a83b0ba72f0894": {
      "model_module": "@jupyter-widgets/controls",
      "model_module_version": "1.5.0",
      "model_name": "FloatProgressModel",
      "state": {
       "bar_style": "success",
       "layout": "IPY_MODEL_eaa075482cc547a4a6e4c78ae787a675",
       "max": 38,
       "style": "IPY_MODEL_a78e042274ad4cc583f4117c2715c3fe",
       "value": 38
      }
     },
     "bf6dfe6bff784d2998dc508575b7d1b2": {
      "model_module": "@jupyter-widgets/base",
      "model_module_version": "1.2.0",
      "model_name": "LayoutModel",
      "state": {}
     },
     "c00f4b348cd245c592892531f9057add": {
      "model_module": "@jupyter-widgets/controls",
      "model_module_version": "1.5.0",
      "model_name": "FloatProgressModel",
      "state": {
       "bar_style": "success",
       "layout": "IPY_MODEL_e27ddf558bec4ae3b75670251bc12ed4",
       "max": 5,
       "style": "IPY_MODEL_b627c996366c410cb057d4bf1bab6e79",
       "value": 5
      }
     },
     "c0219e285a724482a98cf260717bd49a": {
      "model_module": "@jupyter-widgets/base",
      "model_module_version": "1.2.0",
      "model_name": "LayoutModel",
      "state": {}
     },
     "c0631173cda04697b79b78d8579aedd2": {
      "model_module": "@jupyter-widgets/controls",
      "model_module_version": "1.5.0",
      "model_name": "ProgressStyleModel",
      "state": {
       "description_width": ""
      }
     },
     "c087271977a24efab3de432c03a41fb7": {
      "model_module": "@jupyter-widgets/controls",
      "model_module_version": "1.5.0",
      "model_name": "DescriptionStyleModel",
      "state": {
       "description_width": ""
      }
     },
     "c0c96e06851a4965a49a2330a602c1ea": {
      "model_module": "@jupyter-widgets/controls",
      "model_module_version": "1.5.0",
      "model_name": "ProgressStyleModel",
      "state": {
       "description_width": ""
      }
     },
     "c0ee26387d314318a64b82da5a8cef60": {
      "model_module": "@jupyter-widgets/controls",
      "model_module_version": "1.5.0",
      "model_name": "FloatProgressModel",
      "state": {
       "bar_style": "success",
       "layout": "IPY_MODEL_d15dc2a859954612973bdc2c166e1cd6",
       "max": 38,
       "style": "IPY_MODEL_2e3fdc75abe548d9b7b8f5525aa5c782",
       "value": 38
      }
     },
     "c18c9cdc222747acb60492ab3defab16": {
      "model_module": "@jupyter-widgets/controls",
      "model_module_version": "1.5.0",
      "model_name": "HBoxModel",
      "state": {
       "children": [
        "IPY_MODEL_e6017817b8c3420b8ae08e5dff1d48c5",
        "IPY_MODEL_0e008c82ebd046baa26fc7ef9a0d69b1",
        "IPY_MODEL_5942e01bafe841a4b11d4a9e152a1839"
       ],
       "layout": "IPY_MODEL_b8f0c68067514ae1a0fb15550beb637f"
      }
     },
     "c1c0c56800234eb4a225863d1069b4e2": {
      "model_module": "@jupyter-widgets/controls",
      "model_module_version": "1.5.0",
      "model_name": "ProgressStyleModel",
      "state": {
       "description_width": ""
      }
     },
     "c22eb8eea85b49ff90c04a83d5a1e999": {
      "model_module": "@jupyter-widgets/controls",
      "model_module_version": "1.5.0",
      "model_name": "HTMLModel",
      "state": {
       "layout": "IPY_MODEL_7b0b5b95f0714548bf59bd4a8629098d",
       "style": "IPY_MODEL_8d500b4f671e489aa015cc4c940ed54f",
       "value": " 5/5 [00:00&lt;00:00, 16.07it/s]"
      }
     },
     "c30b70d7e23e44b7b711c319f1d21abc": {
      "model_module": "@jupyter-widgets/controls",
      "model_module_version": "1.5.0",
      "model_name": "DescriptionStyleModel",
      "state": {
       "description_width": ""
      }
     },
     "c31350239df745049f7328cb86bfee43": {
      "model_module": "@jupyter-widgets/controls",
      "model_module_version": "1.5.0",
      "model_name": "HTMLModel",
      "state": {
       "layout": "IPY_MODEL_b4ae4fa9869746f3b46ac4d8eee06fb5",
       "style": "IPY_MODEL_bdcaf39b41014ff084a2912c3f8a2fc2",
       "value": "Epoch: 34. Train.    1.95824: 100%"
      }
     },
     "c452d485c06c45b2af27763e6b3e7536": {
      "model_module": "@jupyter-widgets/controls",
      "model_module_version": "1.5.0",
      "model_name": "DescriptionStyleModel",
      "state": {
       "description_width": ""
      }
     },
     "c46d0e6440f244338cfadb8e2b311f4c": {
      "model_module": "@jupyter-widgets/controls",
      "model_module_version": "1.5.0",
      "model_name": "HTMLModel",
      "state": {
       "layout": "IPY_MODEL_4386ae035a284622bcd9f753e7a02a69",
       "style": "IPY_MODEL_82a1795dbcfd49f79e1f80eab5f9e6b8",
       "value": " 38/38 [00:01&lt;00:00, 26.44it/s]"
      }
     },
     "c480b91aed6b4fbf89b15c043235394a": {
      "model_module": "@jupyter-widgets/base",
      "model_module_version": "1.2.0",
      "model_name": "LayoutModel",
      "state": {}
     },
     "c4f085fa8f3a4f79ad117d55b625cd09": {
      "model_module": "@jupyter-widgets/base",
      "model_module_version": "1.2.0",
      "model_name": "LayoutModel",
      "state": {}
     },
     "c5836cce80584ae199c4e6aa9f33380f": {
      "model_module": "@jupyter-widgets/base",
      "model_module_version": "1.2.0",
      "model_name": "LayoutModel",
      "state": {}
     },
     "c59221b7326c43e88ceca3e56fdbdd3a": {
      "model_module": "@jupyter-widgets/controls",
      "model_module_version": "1.5.0",
      "model_name": "HTMLModel",
      "state": {
       "layout": "IPY_MODEL_ed140a8a7cdf404fb1169f6b5f1717bf",
       "style": "IPY_MODEL_1ebaf765e83945c1bbffad18c0212c06",
       "value": "Epoch: 9. Validation. 0.43265: 100%"
      }
     },
     "c5dff1b7857940e7876935975bb6ee70": {
      "model_module": "@jupyter-widgets/base",
      "model_module_version": "1.2.0",
      "model_name": "LayoutModel",
      "state": {}
     },
     "c60bbbf3796f495f8fda5cd33c30cdb9": {
      "model_module": "@jupyter-widgets/controls",
      "model_module_version": "1.5.0",
      "model_name": "HTMLModel",
      "state": {
       "layout": "IPY_MODEL_eaf8209e590d43999f0a703a23d58e26",
       "style": "IPY_MODEL_317a3dffc6a64387b55dac238759bc78",
       "value": "Epoch: 33. Validation. 0.22020: 100%"
      }
     },
     "c63699fb6eec42f6b61b88dfd5098d0f": {
      "model_module": "@jupyter-widgets/controls",
      "model_module_version": "1.5.0",
      "model_name": "ProgressStyleModel",
      "state": {
       "description_width": ""
      }
     },
     "c65d18165dab4b47a7afee973e47af17": {
      "model_module": "@jupyter-widgets/base",
      "model_module_version": "1.2.0",
      "model_name": "LayoutModel",
      "state": {}
     },
     "c66fddefbdf64e329e81e84ec5dd8331": {
      "model_module": "@jupyter-widgets/controls",
      "model_module_version": "1.5.0",
      "model_name": "FloatProgressModel",
      "state": {
       "bar_style": "success",
       "layout": "IPY_MODEL_b203ba0aebf546e685b8a5d8e38acbb1",
       "max": 38,
       "style": "IPY_MODEL_b753177ba9a34e00b2027ff6c98334f9",
       "value": 38
      }
     },
     "c703d44a7a1f4c5ebcab84978b27a8d4": {
      "model_module": "@jupyter-widgets/controls",
      "model_module_version": "1.5.0",
      "model_name": "DescriptionStyleModel",
      "state": {
       "description_width": ""
      }
     },
     "c7b6b76c00f44ba589fc1200021c3cee": {
      "model_module": "@jupyter-widgets/base",
      "model_module_version": "1.2.0",
      "model_name": "LayoutModel",
      "state": {}
     },
     "c7eb5791b4bb42ab858b6dcbee4f966b": {
      "model_module": "@jupyter-widgets/base",
      "model_module_version": "1.2.0",
      "model_name": "LayoutModel",
      "state": {}
     },
     "c8d9d8610782442b8e3fa3299eb7236d": {
      "model_module": "@jupyter-widgets/base",
      "model_module_version": "1.2.0",
      "model_name": "LayoutModel",
      "state": {}
     },
     "c8eeed27d4a64c20a8ae6045dee3d0cb": {
      "model_module": "@jupyter-widgets/base",
      "model_module_version": "1.2.0",
      "model_name": "LayoutModel",
      "state": {}
     },
     "c92d4a46486f42058067696c22db9502": {
      "model_module": "@jupyter-widgets/controls",
      "model_module_version": "1.5.0",
      "model_name": "DescriptionStyleModel",
      "state": {
       "description_width": ""
      }
     },
     "c9f560cb8b47447b8a9583b03176ec51": {
      "model_module": "@jupyter-widgets/controls",
      "model_module_version": "1.5.0",
      "model_name": "DescriptionStyleModel",
      "state": {
       "description_width": ""
      }
     },
     "ca14e6a813bf496f8290636ec0a7ebbf": {
      "model_module": "@jupyter-widgets/controls",
      "model_module_version": "1.5.0",
      "model_name": "DescriptionStyleModel",
      "state": {
       "description_width": ""
      }
     },
     "ca92324f8473430ab259c4d15acf87d4": {
      "model_module": "@jupyter-widgets/base",
      "model_module_version": "1.2.0",
      "model_name": "LayoutModel",
      "state": {}
     },
     "cad26109654742188f5db9e144c8b13a": {
      "model_module": "@jupyter-widgets/controls",
      "model_module_version": "1.5.0",
      "model_name": "HTMLModel",
      "state": {
       "layout": "IPY_MODEL_04b097bedb904259a7cfed6e98d3aed2",
       "style": "IPY_MODEL_a945c5cf60294947bb278956570b78f7",
       "value": " 38/38 [00:01&lt;00:00, 26.80it/s]"
      }
     },
     "cb1cc2ccac8041d88190fb0942a5f4ca": {
      "model_module": "@jupyter-widgets/base",
      "model_module_version": "1.2.0",
      "model_name": "LayoutModel",
      "state": {}
     },
     "cb8a955145d440339d6582ebd053cc69": {
      "model_module": "@jupyter-widgets/controls",
      "model_module_version": "1.5.0",
      "model_name": "ProgressStyleModel",
      "state": {
       "description_width": ""
      }
     },
     "cb92a0273a3141bc98933d167d45288d": {
      "model_module": "@jupyter-widgets/controls",
      "model_module_version": "1.5.0",
      "model_name": "HTMLModel",
      "state": {
       "layout": "IPY_MODEL_6449bf0344584e288ad7554a23dd03e0",
       "style": "IPY_MODEL_59ca203528d14d39ad363ffbc63d83b5",
       "value": " 38/38 [00:01&lt;00:00, 26.65it/s]"
      }
     },
     "cc27d4f7fbc5455e8ec3e455e670e627": {
      "model_module": "@jupyter-widgets/controls",
      "model_module_version": "1.5.0",
      "model_name": "HTMLModel",
      "state": {
       "layout": "IPY_MODEL_8c0df735804248a5bafab6f4fa640c0f",
       "style": "IPY_MODEL_2385280e18364b25a5cf1f42a9e6f37a",
       "value": " 38/38 [00:01&lt;00:00, 28.71it/s]"
      }
     },
     "cc28a6c8148b42a1825a22954c2b2b0a": {
      "model_module": "@jupyter-widgets/controls",
      "model_module_version": "1.5.0",
      "model_name": "ProgressStyleModel",
      "state": {
       "description_width": ""
      }
     },
     "cc2cf925837649c2ad4bb6141cedab31": {
      "model_module": "@jupyter-widgets/controls",
      "model_module_version": "1.5.0",
      "model_name": "HTMLModel",
      "state": {
       "layout": "IPY_MODEL_fa32980d4b544f9c90a6027c310e856a",
       "style": "IPY_MODEL_c92d4a46486f42058067696c22db9502",
       "value": "Epoch: 35. Train.    2.12707: 100%"
      }
     },
     "ccee1553869444588ecf8b35b4f8088c": {
      "model_module": "@jupyter-widgets/base",
      "model_module_version": "1.2.0",
      "model_name": "LayoutModel",
      "state": {}
     },
     "cd0605b30e784935816dc0d4109843e6": {
      "model_module": "@jupyter-widgets/controls",
      "model_module_version": "1.5.0",
      "model_name": "DescriptionStyleModel",
      "state": {
       "description_width": ""
      }
     },
     "cd642b0d17ec4a12be2de7bc1b70de43": {
      "model_module": "@jupyter-widgets/controls",
      "model_module_version": "1.5.0",
      "model_name": "HBoxModel",
      "state": {
       "children": [
        "IPY_MODEL_4e37916b64f94c3ab8da34f9e5d31e9d",
        "IPY_MODEL_4666b24ee58f4b18b05c8dac9ec8c2af",
        "IPY_MODEL_876f40551a2449429e37187b4c80ffec"
       ],
       "layout": "IPY_MODEL_5f1bd9cb711b4e26ada5ea5573070315"
      }
     },
     "cd91355865ae44bda531b2dcab94064b": {
      "model_module": "@jupyter-widgets/base",
      "model_module_version": "1.2.0",
      "model_name": "LayoutModel",
      "state": {}
     },
     "cdcffdb35a144c36b60348778ba8ad30": {
      "model_module": "@jupyter-widgets/base",
      "model_module_version": "1.2.0",
      "model_name": "LayoutModel",
      "state": {}
     },
     "cdf2179684004895b67e49f07f23d704": {
      "model_module": "@jupyter-widgets/controls",
      "model_module_version": "1.5.0",
      "model_name": "HTMLModel",
      "state": {
       "layout": "IPY_MODEL_4b15be4d233248a1b7ac7dbb71722eee",
       "style": "IPY_MODEL_a3a43ba392f347198e4e44f419dfb878",
       "value": "Epoch: 16. Validation. 0.36331: 100%"
      }
     },
     "cdf5cbd545aa484a8688c6934ceaba77": {
      "model_module": "@jupyter-widgets/controls",
      "model_module_version": "1.5.0",
      "model_name": "FloatProgressModel",
      "state": {
       "bar_style": "success",
       "layout": "IPY_MODEL_5273116dec354bd19bb0eaec47f49b35",
       "max": 38,
       "style": "IPY_MODEL_6b94ae7fd314453983fcdc34d56f2286",
       "value": 38
      }
     },
     "ce1be99226cf4c75950ff14b5a475cda": {
      "model_module": "@jupyter-widgets/base",
      "model_module_version": "1.2.0",
      "model_name": "LayoutModel",
      "state": {}
     },
     "ce73f71dc91a4c49abccc49496f99428": {
      "model_module": "@jupyter-widgets/controls",
      "model_module_version": "1.5.0",
      "model_name": "ProgressStyleModel",
      "state": {
       "description_width": ""
      }
     },
     "ce8fde571bf94da9bdf568806fbc6021": {
      "model_module": "@jupyter-widgets/controls",
      "model_module_version": "1.5.0",
      "model_name": "HTMLModel",
      "state": {
       "layout": "IPY_MODEL_59833e93b517470093bff23103ee848e",
       "style": "IPY_MODEL_56e7e3fbfa8d48fbaafe2d8e0cec02e5",
       "value": "Epoch: 29. Train.    2.06009: 100%"
      }
     },
     "cf3ae98ea1804ae6821f09ab0861b288": {
      "model_module": "@jupyter-widgets/controls",
      "model_module_version": "1.5.0",
      "model_name": "DescriptionStyleModel",
      "state": {
       "description_width": ""
      }
     },
     "cf53352c6e694d3abd51f538b175018d": {
      "model_module": "@jupyter-widgets/controls",
      "model_module_version": "1.5.0",
      "model_name": "ProgressStyleModel",
      "state": {
       "description_width": ""
      }
     },
     "cfd229da48d94264ab4abc0acac43b5a": {
      "model_module": "@jupyter-widgets/base",
      "model_module_version": "1.2.0",
      "model_name": "LayoutModel",
      "state": {}
     },
     "d02d4b48df7e43adb1d8e3c4f7eb3a80": {
      "model_module": "@jupyter-widgets/base",
      "model_module_version": "1.2.0",
      "model_name": "LayoutModel",
      "state": {}
     },
     "d05282fb8d7946d8b66af4f004554bca": {
      "model_module": "@jupyter-widgets/controls",
      "model_module_version": "1.5.0",
      "model_name": "HBoxModel",
      "state": {
       "children": [
        "IPY_MODEL_948532786e524cff9cd72bb082a5888f",
        "IPY_MODEL_121e328e5ec548f69b3b24e3180fc72c",
        "IPY_MODEL_7ca63a556e574fee87583a6eed9e52ea"
       ],
       "layout": "IPY_MODEL_8a84a6e66391488f82283678feb6a99f"
      }
     },
     "d0c737c3044344b0aaa6c62e71d9e98f": {
      "model_module": "@jupyter-widgets/base",
      "model_module_version": "1.2.0",
      "model_name": "LayoutModel",
      "state": {}
     },
     "d0c7a94360a949eea723ce990ee00df6": {
      "model_module": "@jupyter-widgets/base",
      "model_module_version": "1.2.0",
      "model_name": "LayoutModel",
      "state": {}
     },
     "d15dc2a859954612973bdc2c166e1cd6": {
      "model_module": "@jupyter-widgets/base",
      "model_module_version": "1.2.0",
      "model_name": "LayoutModel",
      "state": {}
     },
     "d1f758106b25461d87b69cc92db262b7": {
      "model_module": "@jupyter-widgets/controls",
      "model_module_version": "1.5.0",
      "model_name": "DescriptionStyleModel",
      "state": {
       "description_width": ""
      }
     },
     "d1f8fb2a765b42a5981dc130883b7c77": {
      "model_module": "@jupyter-widgets/controls",
      "model_module_version": "1.5.0",
      "model_name": "HBoxModel",
      "state": {
       "children": [
        "IPY_MODEL_84ea779f1299415d9de9e64aa2148a8f",
        "IPY_MODEL_bbd0fbf4fbec44a982a4e19546d0e14a",
        "IPY_MODEL_703581e7196f4d76ac560f9b49765be3"
       ],
       "layout": "IPY_MODEL_056a2e65b9b3488e942cbd536bb28770"
      }
     },
     "d2064cd6d98a49e1b18d5cb6d35bf719": {
      "model_module": "@jupyter-widgets/controls",
      "model_module_version": "1.5.0",
      "model_name": "DescriptionStyleModel",
      "state": {
       "description_width": ""
      }
     },
     "d21bc478d48f4ca0860addfe48f7a163": {
      "model_module": "@jupyter-widgets/base",
      "model_module_version": "1.2.0",
      "model_name": "LayoutModel",
      "state": {}
     },
     "d28d068d97a141208309a67424e70c7d": {
      "model_module": "@jupyter-widgets/controls",
      "model_module_version": "1.5.0",
      "model_name": "ProgressStyleModel",
      "state": {
       "description_width": ""
      }
     },
     "d2db490e5647449e9a2fb98791852ae3": {
      "model_module": "@jupyter-widgets/controls",
      "model_module_version": "1.5.0",
      "model_name": "HTMLModel",
      "state": {
       "layout": "IPY_MODEL_b21fb7b060704709a8dce01b21e44f82",
       "style": "IPY_MODEL_1ac2db61905c4c14b67ee2592031928e",
       "value": "Epoch: 36. Validation. 0.20956: 100%"
      }
     },
     "d2e3546ee2764390bf91ea53c0ff665d": {
      "model_module": "@jupyter-widgets/base",
      "model_module_version": "1.2.0",
      "model_name": "LayoutModel",
      "state": {}
     },
     "d3b119e6a8284a42a810782af15fc2e3": {
      "model_module": "@jupyter-widgets/controls",
      "model_module_version": "1.5.0",
      "model_name": "FloatProgressModel",
      "state": {
       "bar_style": "success",
       "layout": "IPY_MODEL_7cbda9e4cc8049e4ad05ec3efbfdcc87",
       "max": 5,
       "style": "IPY_MODEL_1ca65b5de9c246e395cd24ec725648db",
       "value": 5
      }
     },
     "d4101157ccfc4f62bd982b409231e2c4": {
      "model_module": "@jupyter-widgets/controls",
      "model_module_version": "1.5.0",
      "model_name": "HTMLModel",
      "state": {
       "layout": "IPY_MODEL_926037163b284e2a85caf101ca69bd73",
       "style": "IPY_MODEL_46d566c5ccb24ff694a954e465ce03aa",
       "value": " 38/38 [00:01&lt;00:00, 26.43it/s]"
      }
     },
     "d414708674504ef09ebf14fed9aa33f6": {
      "model_module": "@jupyter-widgets/base",
      "model_module_version": "1.2.0",
      "model_name": "LayoutModel",
      "state": {}
     },
     "d43e4762816a480295309afaf45e827c": {
      "model_module": "@jupyter-widgets/base",
      "model_module_version": "1.2.0",
      "model_name": "LayoutModel",
      "state": {}
     },
     "d4c182050b144c4898bfdcb3b36c1d29": {
      "model_module": "@jupyter-widgets/controls",
      "model_module_version": "1.5.0",
      "model_name": "FloatProgressModel",
      "state": {
       "bar_style": "success",
       "layout": "IPY_MODEL_4d9ad00fdc7b49728ede5cd096ca96ba",
       "max": 38,
       "style": "IPY_MODEL_fed825d09ea641b980785fda54a593b9",
       "value": 38
      }
     },
     "d5ae15b4d3e249049fad319e73abfb48": {
      "model_module": "@jupyter-widgets/base",
      "model_module_version": "1.2.0",
      "model_name": "LayoutModel",
      "state": {}
     },
     "d5cecaa7b0f84c3aa33ee996a663a55f": {
      "model_module": "@jupyter-widgets/controls",
      "model_module_version": "1.5.0",
      "model_name": "DescriptionStyleModel",
      "state": {
       "description_width": ""
      }
     },
     "d5ff914826444658b737c567806af340": {
      "model_module": "@jupyter-widgets/controls",
      "model_module_version": "1.5.0",
      "model_name": "DescriptionStyleModel",
      "state": {
       "description_width": ""
      }
     },
     "d6197ac8ff204690be41f016e65ec04b": {
      "model_module": "@jupyter-widgets/base",
      "model_module_version": "1.2.0",
      "model_name": "LayoutModel",
      "state": {}
     },
     "d68407bdb0f1485d8f0f55ca33f06fe3": {
      "model_module": "@jupyter-widgets/base",
      "model_module_version": "1.2.0",
      "model_name": "LayoutModel",
      "state": {}
     },
     "d6a3688d949149c3ba794bdc944cf19e": {
      "model_module": "@jupyter-widgets/controls",
      "model_module_version": "1.5.0",
      "model_name": "FloatProgressModel",
      "state": {
       "bar_style": "success",
       "layout": "IPY_MODEL_77e69ea510ca4ec18293acb6cac450db",
       "max": 38,
       "style": "IPY_MODEL_1722980f84694942b16a029d2012f22c",
       "value": 38
      }
     },
     "d87b2f90cce14ecab3ce655e7e11286e": {
      "model_module": "@jupyter-widgets/controls",
      "model_module_version": "1.5.0",
      "model_name": "HTMLModel",
      "state": {
       "layout": "IPY_MODEL_63d52738d5d44d188d52a07bba6bff34",
       "style": "IPY_MODEL_017e4b4894964cdcaefe3cd4aeb7b76a",
       "value": "Epoch: 5. Train.    5.43859: 100%"
      }
     },
     "d8f3dcd2add747e4965c8e1d41eead52": {
      "model_module": "@jupyter-widgets/controls",
      "model_module_version": "1.5.0",
      "model_name": "HTMLModel",
      "state": {
       "layout": "IPY_MODEL_2c0a9595a37b41b0835eeb8e24aa545c",
       "style": "IPY_MODEL_494d4b445a7b483bbb87e4921a4065ca",
       "value": "Epoch: 37. Train.    1.77061: 100%"
      }
     },
     "d918bd596229406e863cee81769b4dd7": {
      "model_module": "@jupyter-widgets/controls",
      "model_module_version": "1.5.0",
      "model_name": "DescriptionStyleModel",
      "state": {
       "description_width": ""
      }
     },
     "d93cf652a8df413a990ccd8717e5ef5f": {
      "model_module": "@jupyter-widgets/controls",
      "model_module_version": "1.5.0",
      "model_name": "DescriptionStyleModel",
      "state": {
       "description_width": ""
      }
     },
     "d951e78b27a0448a83b8d1e4ffdb5aae": {
      "model_module": "@jupyter-widgets/base",
      "model_module_version": "1.2.0",
      "model_name": "LayoutModel",
      "state": {}
     },
     "d988614df90947b7b0b27d97411b14ef": {
      "model_module": "@jupyter-widgets/base",
      "model_module_version": "1.2.0",
      "model_name": "LayoutModel",
      "state": {}
     },
     "d9cd5f6525dd486eb28a528de3c6c5dc": {
      "model_module": "@jupyter-widgets/controls",
      "model_module_version": "1.5.0",
      "model_name": "FloatProgressModel",
      "state": {
       "bar_style": "success",
       "layout": "IPY_MODEL_97d1934d17fa44baadafa0df0c67c90d",
       "max": 5,
       "style": "IPY_MODEL_cb8a955145d440339d6582ebd053cc69",
       "value": 5
      }
     },
     "d9ed8f2b0cf34bc5a5cae669d5914bf0": {
      "model_module": "@jupyter-widgets/controls",
      "model_module_version": "1.5.0",
      "model_name": "HBoxModel",
      "state": {
       "children": [
        "IPY_MODEL_c60bbbf3796f495f8fda5cd33c30cdb9",
        "IPY_MODEL_2a01939c06a34dd691224438f7bb4143",
        "IPY_MODEL_a07e21dd78e04b06bb8059ffb0be81ed"
       ],
       "layout": "IPY_MODEL_aedd5545587e418db1da54dd1a428878"
      }
     },
     "da13608264684e59bb4a2bf6abf3e3c9": {
      "model_module": "@jupyter-widgets/controls",
      "model_module_version": "1.5.0",
      "model_name": "DescriptionStyleModel",
      "state": {
       "description_width": ""
      }
     },
     "db7d408cab4e4c39b00d25b7fcf62bea": {
      "model_module": "@jupyter-widgets/controls",
      "model_module_version": "1.5.0",
      "model_name": "HBoxModel",
      "state": {
       "children": [
        "IPY_MODEL_cc2cf925837649c2ad4bb6141cedab31",
        "IPY_MODEL_fe43bc7a37694cb09216a3f900d9a109",
        "IPY_MODEL_c46d0e6440f244338cfadb8e2b311f4c"
       ],
       "layout": "IPY_MODEL_684adf37869e46359a169ccbcd376993"
      }
     },
     "dbf4c88fa7d54aa7a17d7d1da6eee606": {
      "model_module": "@jupyter-widgets/base",
      "model_module_version": "1.2.0",
      "model_name": "LayoutModel",
      "state": {}
     },
     "dc870d3089b74b03b9a6bb8ef56e6f21": {
      "model_module": "@jupyter-widgets/controls",
      "model_module_version": "1.5.0",
      "model_name": "FloatProgressModel",
      "state": {
       "bar_style": "success",
       "layout": "IPY_MODEL_7ec86012c5654efc905088e394548a18",
       "max": 38,
       "style": "IPY_MODEL_0f009d41d5c343eb886772caff01c354",
       "value": 38
      }
     },
     "dd2a423221da439e9c9b32be257202e7": {
      "model_module": "@jupyter-widgets/base",
      "model_module_version": "1.2.0",
      "model_name": "LayoutModel",
      "state": {}
     },
     "dd3a765b4e8847138102bc6e769392cc": {
      "model_module": "@jupyter-widgets/controls",
      "model_module_version": "1.5.0",
      "model_name": "DescriptionStyleModel",
      "state": {
       "description_width": ""
      }
     },
     "dd47404fe3d34639a60c329034bd5c6c": {
      "model_module": "@jupyter-widgets/controls",
      "model_module_version": "1.5.0",
      "model_name": "HTMLModel",
      "state": {
       "layout": "IPY_MODEL_8acd811c3cb14f70bd7dcc5436eecb96",
       "style": "IPY_MODEL_67fc9a4d8b7a4da6944be285315a1c02",
       "value": " 38/38 [00:01&lt;00:00, 26.10it/s]"
      }
     },
     "ddbefa5f3f6449d982baa15d07942dd5": {
      "model_module": "@jupyter-widgets/base",
      "model_module_version": "1.2.0",
      "model_name": "LayoutModel",
      "state": {}
     },
     "ddc1a10f862345d38e47a287cb335edc": {
      "model_module": "@jupyter-widgets/base",
      "model_module_version": "1.2.0",
      "model_name": "LayoutModel",
      "state": {}
     },
     "de2d4a619e8744a3bab0858ea04b5a05": {
      "model_module": "@jupyter-widgets/base",
      "model_module_version": "1.2.0",
      "model_name": "LayoutModel",
      "state": {}
     },
     "dec2495897de4f2a9f2fd27f8ae982d7": {
      "model_module": "@jupyter-widgets/controls",
      "model_module_version": "1.5.0",
      "model_name": "HTMLModel",
      "state": {
       "layout": "IPY_MODEL_46c80de0515949c9a7cf6a13820498df",
       "style": "IPY_MODEL_2e3f65bf65a8404fbc9caf2b205a0ea1",
       "value": " 38/38 [00:02&lt;00:00, 23.86it/s]"
      }
     },
     "dfb8b1a239754872bc9bf98b8e28e790": {
      "model_module": "@jupyter-widgets/controls",
      "model_module_version": "1.5.0",
      "model_name": "DescriptionStyleModel",
      "state": {
       "description_width": ""
      }
     },
     "dfbeeb53df4d4c6696e1341721512373": {
      "model_module": "@jupyter-widgets/base",
      "model_module_version": "1.2.0",
      "model_name": "LayoutModel",
      "state": {}
     },
     "dff3e5e38ffa4fe0b8507156b6bbfe80": {
      "model_module": "@jupyter-widgets/controls",
      "model_module_version": "1.5.0",
      "model_name": "DescriptionStyleModel",
      "state": {
       "description_width": ""
      }
     },
     "e032530d8e91443a97cdf4f492e3a656": {
      "model_module": "@jupyter-widgets/controls",
      "model_module_version": "1.5.0",
      "model_name": "FloatProgressModel",
      "state": {
       "bar_style": "success",
       "layout": "IPY_MODEL_462368348b624e3598d09b089ba046b8",
       "max": 5,
       "style": "IPY_MODEL_3320d280a4714effba9cfb88163e7ca6",
       "value": 5
      }
     },
     "e0381dbe161f4ea4b34db84d0434b6b3": {
      "model_module": "@jupyter-widgets/controls",
      "model_module_version": "1.5.0",
      "model_name": "HTMLModel",
      "state": {
       "layout": "IPY_MODEL_bc7b83c1a9bf4975b08d2c912954e31f",
       "style": "IPY_MODEL_6d8ae95dc57347f7a988a38ec6d58c69",
       "value": "Epoch: 3. Train.    10.97328: 100%"
      }
     },
     "e089f60dc1824bd1be89b0b9f90b0fce": {
      "model_module": "@jupyter-widgets/base",
      "model_module_version": "1.2.0",
      "model_name": "LayoutModel",
      "state": {}
     },
     "e0cff24da3ce49b8823388fe5c5296a3": {
      "model_module": "@jupyter-widgets/controls",
      "model_module_version": "1.5.0",
      "model_name": "FloatProgressModel",
      "state": {
       "bar_style": "success",
       "layout": "IPY_MODEL_68dd298c95ba4fba90501589b0892a29",
       "max": 5,
       "style": "IPY_MODEL_9f78f28dedaf4b248615fcd4ec40bbef",
       "value": 5
      }
     },
     "e111329a237e469dacaff511b782a61d": {
      "model_module": "@jupyter-widgets/base",
      "model_module_version": "1.2.0",
      "model_name": "LayoutModel",
      "state": {}
     },
     "e117d8a1c77749238f75f9d080cd6a22": {
      "model_module": "@jupyter-widgets/controls",
      "model_module_version": "1.5.0",
      "model_name": "HBoxModel",
      "state": {
       "children": [
        "IPY_MODEL_cdf2179684004895b67e49f07f23d704",
        "IPY_MODEL_b442a870af6943c484d0270ea76969c5",
        "IPY_MODEL_aecabeb7f5324890b371da7f7ce5c3ce"
       ],
       "layout": "IPY_MODEL_a3f66b8051514db98b9c4cc03832c185"
      }
     },
     "e1380a9e5a314ee09f0d920fa1492227": {
      "model_module": "@jupyter-widgets/base",
      "model_module_version": "1.2.0",
      "model_name": "LayoutModel",
      "state": {}
     },
     "e14906dbd64948889dca68bfdfd7b8ce": {
      "model_module": "@jupyter-widgets/controls",
      "model_module_version": "1.5.0",
      "model_name": "DescriptionStyleModel",
      "state": {
       "description_width": ""
      }
     },
     "e14e81405e1f432ea3c2c1696af966f6": {
      "model_module": "@jupyter-widgets/controls",
      "model_module_version": "1.5.0",
      "model_name": "HBoxModel",
      "state": {
       "children": [
        "IPY_MODEL_a7b7e816c05d4cc49e578e7e52226bf0",
        "IPY_MODEL_8914e5fe03974edd9cd8a8c0482a6cec",
        "IPY_MODEL_991c8c12de214e348e484630771c30a4"
       ],
       "layout": "IPY_MODEL_a22c028d10db45ae8fd9c438131c0880"
      }
     },
     "e1d0c46263a24e4da1ec51937a7d6907": {
      "model_module": "@jupyter-widgets/base",
      "model_module_version": "1.2.0",
      "model_name": "LayoutModel",
      "state": {}
     },
     "e23833fa651d488486785b181c68f9fe": {
      "model_module": "@jupyter-widgets/base",
      "model_module_version": "1.2.0",
      "model_name": "LayoutModel",
      "state": {}
     },
     "e240458409c044d1a48906583bab13aa": {
      "model_module": "@jupyter-widgets/controls",
      "model_module_version": "1.5.0",
      "model_name": "HBoxModel",
      "state": {
       "children": [
        "IPY_MODEL_3157a7ee783d4e088226e933202f577e",
        "IPY_MODEL_435941ee4799405a8e3dd7ba28afd938",
        "IPY_MODEL_2a68ebe9f9dc41e28db18f39d1d1b375"
       ],
       "layout": "IPY_MODEL_9b4a7a59e83d41f9873f128bd61b6b80"
      }
     },
     "e27ddf558bec4ae3b75670251bc12ed4": {
      "model_module": "@jupyter-widgets/base",
      "model_module_version": "1.2.0",
      "model_name": "LayoutModel",
      "state": {}
     },
     "e2e631c4c66e4aadba7ac890b89e36ab": {
      "model_module": "@jupyter-widgets/controls",
      "model_module_version": "1.5.0",
      "model_name": "DescriptionStyleModel",
      "state": {
       "description_width": ""
      }
     },
     "e309aff2be2c4351aa5efa2ba557ddec": {
      "model_module": "@jupyter-widgets/base",
      "model_module_version": "1.2.0",
      "model_name": "LayoutModel",
      "state": {}
     },
     "e3bed624a7904ab3a810e85c7839d3d2": {
      "model_module": "@jupyter-widgets/controls",
      "model_module_version": "1.5.0",
      "model_name": "DescriptionStyleModel",
      "state": {
       "description_width": ""
      }
     },
     "e3cb9cd7723b4d069eea38b68545bd7e": {
      "model_module": "@jupyter-widgets/base",
      "model_module_version": "1.2.0",
      "model_name": "LayoutModel",
      "state": {}
     },
     "e3e9cb9252e542628aa409a67b33d541": {
      "model_module": "@jupyter-widgets/controls",
      "model_module_version": "1.5.0",
      "model_name": "HTMLModel",
      "state": {
       "layout": "IPY_MODEL_b588831d5d144156b5b58da87c4dd72c",
       "style": "IPY_MODEL_5cda0d079ff94e038afe3d466272ccd2",
       "value": "Epoch: 17. Validation. 0.30770: 100%"
      }
     },
     "e3fa46398d134acbba0a8f2a169077d3": {
      "model_module": "@jupyter-widgets/base",
      "model_module_version": "1.2.0",
      "model_name": "LayoutModel",
      "state": {}
     },
     "e6017817b8c3420b8ae08e5dff1d48c5": {
      "model_module": "@jupyter-widgets/controls",
      "model_module_version": "1.5.0",
      "model_name": "HTMLModel",
      "state": {
       "layout": "IPY_MODEL_7a5ab5d776c841c1b5dbf58eff153d9e",
       "style": "IPY_MODEL_84ed4e81aae54f7582c6135d6c62f200",
       "value": "Epoch: 30. Train.    2.04583: 100%"
      }
     },
     "e6b4becc3e714d009c14bb8cc5bfdf58": {
      "model_module": "@jupyter-widgets/controls",
      "model_module_version": "1.5.0",
      "model_name": "HBoxModel",
      "state": {
       "children": [
        "IPY_MODEL_bd36cfafccce4f6986e8df7bfb468ade",
        "IPY_MODEL_8a0e7a3147b64366ab33e8a03749dc84",
        "IPY_MODEL_8bee9135207e41b7a3611a47908b6358"
       ],
       "layout": "IPY_MODEL_88f800413a3541a7b4c27e4b5d422a1f"
      }
     },
     "e6c7ed23f7094f8594065756c8a52632": {
      "model_module": "@jupyter-widgets/controls",
      "model_module_version": "1.5.0",
      "model_name": "HBoxModel",
      "state": {
       "children": [
        "IPY_MODEL_f61de53bf64f4c08adbf1c1b0422e11d",
        "IPY_MODEL_0e3fb62c5a1d4967bc426c05763d6fae",
        "IPY_MODEL_b438c6c78f284b9984837b449a20ac41"
       ],
       "layout": "IPY_MODEL_7aadc253e6164e5c9ec0b538242693c3"
      }
     },
     "e6eaeabc7f124d79b6b1686bcbe93645": {
      "model_module": "@jupyter-widgets/controls",
      "model_module_version": "1.5.0",
      "model_name": "DescriptionStyleModel",
      "state": {
       "description_width": ""
      }
     },
     "e78d8d8a03be42a8baca478976df1ba1": {
      "model_module": "@jupyter-widgets/base",
      "model_module_version": "1.2.0",
      "model_name": "LayoutModel",
      "state": {}
     },
     "e8511986ab9c40a796e1d7578a72fe76": {
      "model_module": "@jupyter-widgets/controls",
      "model_module_version": "1.5.0",
      "model_name": "DescriptionStyleModel",
      "state": {
       "description_width": ""
      }
     },
     "e8dbfab7dc0e45d68d49b22ddcd598af": {
      "model_module": "@jupyter-widgets/controls",
      "model_module_version": "1.5.0",
      "model_name": "HTMLModel",
      "state": {
       "layout": "IPY_MODEL_8665904098f0410296375b710e068def",
       "style": "IPY_MODEL_cd0605b30e784935816dc0d4109843e6",
       "value": "Epoch: 38. Train.    1.66919: 100%"
      }
     },
     "e90d59d1addb4acdbcc5da5b4c4aea02": {
      "model_module": "@jupyter-widgets/controls",
      "model_module_version": "1.5.0",
      "model_name": "ProgressStyleModel",
      "state": {
       "description_width": ""
      }
     },
     "e990d843b4a045278e8c9d3ad8a60ebe": {
      "model_module": "@jupyter-widgets/controls",
      "model_module_version": "1.5.0",
      "model_name": "ProgressStyleModel",
      "state": {
       "description_width": ""
      }
     },
     "e9b31ccc139444cb8492e678ec6fb756": {
      "model_module": "@jupyter-widgets/controls",
      "model_module_version": "1.5.0",
      "model_name": "FloatProgressModel",
      "state": {
       "bar_style": "success",
       "layout": "IPY_MODEL_d414708674504ef09ebf14fed9aa33f6",
       "max": 38,
       "style": "IPY_MODEL_9bc7cb6fc00b4e30849ef15b24226337",
       "value": 38
      }
     },
     "e9c8887d83264b3bb52cc867745ff62c": {
      "model_module": "@jupyter-widgets/controls",
      "model_module_version": "1.5.0",
      "model_name": "DescriptionStyleModel",
      "state": {
       "description_width": ""
      }
     },
     "e9cfd660131d4ab48cec85873b2e8447": {
      "model_module": "@jupyter-widgets/base",
      "model_module_version": "1.2.0",
      "model_name": "LayoutModel",
      "state": {}
     },
     "e9d5a9e25eb44bb0af2f0833a93b36e3": {
      "model_module": "@jupyter-widgets/base",
      "model_module_version": "1.2.0",
      "model_name": "LayoutModel",
      "state": {}
     },
     "e9dfb8f6319543559294209e67c93747": {
      "model_module": "@jupyter-widgets/base",
      "model_module_version": "1.2.0",
      "model_name": "LayoutModel",
      "state": {}
     },
     "e9fd7162e3d241d38db786360556df36": {
      "model_module": "@jupyter-widgets/controls",
      "model_module_version": "1.5.0",
      "model_name": "HBoxModel",
      "state": {
       "children": [
        "IPY_MODEL_05d063ce661b40cebc1f594d7f424603",
        "IPY_MODEL_cdf5cbd545aa484a8688c6934ceaba77",
        "IPY_MODEL_6970fff11ff14272a36074b7a5c56562"
       ],
       "layout": "IPY_MODEL_3ca2f96cdce649028ee09e2e444b2f3e"
      }
     },
     "e9fe5b007a4b45abb3ee1e328a5c443d": {
      "model_module": "@jupyter-widgets/controls",
      "model_module_version": "1.5.0",
      "model_name": "DescriptionStyleModel",
      "state": {
       "description_width": ""
      }
     },
     "ea9852c9e476486b90fd12c7bf7a2dee": {
      "model_module": "@jupyter-widgets/base",
      "model_module_version": "1.2.0",
      "model_name": "LayoutModel",
      "state": {}
     },
     "eaa075482cc547a4a6e4c78ae787a675": {
      "model_module": "@jupyter-widgets/base",
      "model_module_version": "1.2.0",
      "model_name": "LayoutModel",
      "state": {}
     },
     "eabba34b82114ceaaf4827e1b0c7865a": {
      "model_module": "@jupyter-widgets/base",
      "model_module_version": "1.2.0",
      "model_name": "LayoutModel",
      "state": {}
     },
     "eaf8209e590d43999f0a703a23d58e26": {
      "model_module": "@jupyter-widgets/base",
      "model_module_version": "1.2.0",
      "model_name": "LayoutModel",
      "state": {}
     },
     "eb4079356451418dad88796021ec7447": {
      "model_module": "@jupyter-widgets/base",
      "model_module_version": "1.2.0",
      "model_name": "LayoutModel",
      "state": {}
     },
     "ebb8f71535fa47cebeeeef7d16d0b022": {
      "model_module": "@jupyter-widgets/base",
      "model_module_version": "1.2.0",
      "model_name": "LayoutModel",
      "state": {}
     },
     "ebc6647b01de43198af511245d343cda": {
      "model_module": "@jupyter-widgets/base",
      "model_module_version": "1.2.0",
      "model_name": "LayoutModel",
      "state": {}
     },
     "ec343d7ec9a241b890ea4bd5c09af43e": {
      "model_module": "@jupyter-widgets/controls",
      "model_module_version": "1.5.0",
      "model_name": "DescriptionStyleModel",
      "state": {
       "description_width": ""
      }
     },
     "ec8973bbcfa943629a0475326c6fc383": {
      "model_module": "@jupyter-widgets/controls",
      "model_module_version": "1.5.0",
      "model_name": "DescriptionStyleModel",
      "state": {
       "description_width": ""
      }
     },
     "ece428575ff74cb7bda263658e794896": {
      "model_module": "@jupyter-widgets/base",
      "model_module_version": "1.2.0",
      "model_name": "LayoutModel",
      "state": {}
     },
     "ecfa4041e11348419b2108e245049323": {
      "model_module": "@jupyter-widgets/base",
      "model_module_version": "1.2.0",
      "model_name": "LayoutModel",
      "state": {}
     },
     "ecfcd8c264dd4143ad36db9255bd3289": {
      "model_module": "@jupyter-widgets/controls",
      "model_module_version": "1.5.0",
      "model_name": "DescriptionStyleModel",
      "state": {
       "description_width": ""
      }
     },
     "ed140a8a7cdf404fb1169f6b5f1717bf": {
      "model_module": "@jupyter-widgets/base",
      "model_module_version": "1.2.0",
      "model_name": "LayoutModel",
      "state": {}
     },
     "edb284e678854f2e9c7bcc84b73dda51": {
      "model_module": "@jupyter-widgets/base",
      "model_module_version": "1.2.0",
      "model_name": "LayoutModel",
      "state": {}
     },
     "edbab21d7b07494ba8581b9a1422318a": {
      "model_module": "@jupyter-widgets/controls",
      "model_module_version": "1.5.0",
      "model_name": "HTMLModel",
      "state": {
       "layout": "IPY_MODEL_e9cfd660131d4ab48cec85873b2e8447",
       "style": "IPY_MODEL_78d3f1d2bc084690950af6b790436a35",
       "value": " 38/38 [00:01&lt;00:00, 26.81it/s]"
      }
     },
     "edd49028860b49a69895079e4b8da61f": {
      "model_module": "@jupyter-widgets/controls",
      "model_module_version": "1.5.0",
      "model_name": "DescriptionStyleModel",
      "state": {
       "description_width": ""
      }
     },
     "ee5a226b873046ee8dda1b7e0d764d07": {
      "model_module": "@jupyter-widgets/controls",
      "model_module_version": "1.5.0",
      "model_name": "HTMLModel",
      "state": {
       "layout": "IPY_MODEL_91d91d500d1741c99da2862b0f30cc60",
       "style": "IPY_MODEL_e9c8887d83264b3bb52cc867745ff62c",
       "value": " 5/5 [00:00&lt;00:00, 15.65it/s]"
      }
     },
     "ee86ee72f72d4911a4bc63607fdf139c": {
      "model_module": "@jupyter-widgets/base",
      "model_module_version": "1.2.0",
      "model_name": "LayoutModel",
      "state": {}
     },
     "eecf358ec7fc4d7aaaf8c74b24f79d3e": {
      "model_module": "@jupyter-widgets/base",
      "model_module_version": "1.2.0",
      "model_name": "LayoutModel",
      "state": {}
     },
     "ef084f9597d14b3bb78012ab9b22c6f9": {
      "model_module": "@jupyter-widgets/controls",
      "model_module_version": "1.5.0",
      "model_name": "DescriptionStyleModel",
      "state": {
       "description_width": ""
      }
     },
     "efc81546a75b46a4bc3072d16c85434b": {
      "model_module": "@jupyter-widgets/controls",
      "model_module_version": "1.5.0",
      "model_name": "HTMLModel",
      "state": {
       "layout": "IPY_MODEL_e089f60dc1824bd1be89b0b9f90b0fce",
       "style": "IPY_MODEL_497a9eb5eb704be880e834489d4aa71e",
       "value": " 5/5 [00:00&lt;00:00, 15.79it/s]"
      }
     },
     "efff9c6ffaa348ee9af51b3ec2d75ebf": {
      "model_module": "@jupyter-widgets/base",
      "model_module_version": "1.2.0",
      "model_name": "LayoutModel",
      "state": {}
     },
     "f06f9e6b7fe0479eb54f6ebf31d3f486": {
      "model_module": "@jupyter-widgets/base",
      "model_module_version": "1.2.0",
      "model_name": "LayoutModel",
      "state": {}
     },
     "f1ca197268e947bbb69314a47e4094a8": {
      "model_module": "@jupyter-widgets/controls",
      "model_module_version": "1.5.0",
      "model_name": "HTMLModel",
      "state": {
       "layout": "IPY_MODEL_ca92324f8473430ab259c4d15acf87d4",
       "style": "IPY_MODEL_0045fba86f704ea78c42c5ed183c2950",
       "value": " 38/38 [00:01&lt;00:00, 26.98it/s]"
      }
     },
     "f1f21aa928a748e881e8cd970dfb9545": {
      "model_module": "@jupyter-widgets/base",
      "model_module_version": "1.2.0",
      "model_name": "LayoutModel",
      "state": {}
     },
     "f225070629e445dba2d35947e06765dd": {
      "model_module": "@jupyter-widgets/base",
      "model_module_version": "1.2.0",
      "model_name": "LayoutModel",
      "state": {}
     },
     "f36457cf988d402e84e78b7b3155f00b": {
      "model_module": "@jupyter-widgets/controls",
      "model_module_version": "1.5.0",
      "model_name": "HTMLModel",
      "state": {
       "layout": "IPY_MODEL_a489245f481b40389877afe471061d51",
       "style": "IPY_MODEL_d5ff914826444658b737c567806af340",
       "value": "Epoch: 35. Validation. 0.22044: 100%"
      }
     },
     "f3882c317bec4471a4581ea065f17ac6": {
      "model_module": "@jupyter-widgets/controls",
      "model_module_version": "1.5.0",
      "model_name": "DescriptionStyleModel",
      "state": {
       "description_width": ""
      }
     },
     "f3ef290b4de6443e909aacf8e2fa37eb": {
      "model_module": "@jupyter-widgets/controls",
      "model_module_version": "1.5.0",
      "model_name": "HTMLModel",
      "state": {
       "layout": "IPY_MODEL_3708fa690aa7449792b521a470d73504",
       "style": "IPY_MODEL_0bf7bb38ef6749fd8dceab13d863ea43",
       "value": " 5/5 [00:00&lt;00:00, 15.55it/s]"
      }
     },
     "f467de68f7de480caf41e6cc97a87f24": {
      "model_module": "@jupyter-widgets/controls",
      "model_module_version": "1.5.0",
      "model_name": "HTMLModel",
      "state": {
       "layout": "IPY_MODEL_22a0a5d140644257beba2c15dbf29711",
       "style": "IPY_MODEL_ff3e4f10ab3542b88a9cc0e872be35f6",
       "value": "Epoch: 8. Train.    3.82694: 100%"
      }
     },
     "f4dfb81e6ddf4915a8daf1c4c42dc6f5": {
      "model_module": "@jupyter-widgets/base",
      "model_module_version": "1.2.0",
      "model_name": "LayoutModel",
      "state": {}
     },
     "f4edd318000e4f03a1463d9343cfe181": {
      "model_module": "@jupyter-widgets/base",
      "model_module_version": "1.2.0",
      "model_name": "LayoutModel",
      "state": {}
     },
     "f565c6e9d5bc48cea78c645d1e306b70": {
      "model_module": "@jupyter-widgets/base",
      "model_module_version": "1.2.0",
      "model_name": "LayoutModel",
      "state": {}
     },
     "f61de53bf64f4c08adbf1c1b0422e11d": {
      "model_module": "@jupyter-widgets/controls",
      "model_module_version": "1.5.0",
      "model_name": "HTMLModel",
      "state": {
       "layout": "IPY_MODEL_32c97bb3207f47bea664e6e472f6c521",
       "style": "IPY_MODEL_29922cc926424d2a82af8a480a49e81e",
       "value": "Epoch: 32. Validation. 0.23664: 100%"
      }
     },
     "f87729fe63e74dc9b58f3753321ffd35": {
      "model_module": "@jupyter-widgets/controls",
      "model_module_version": "1.5.0",
      "model_name": "HBoxModel",
      "state": {
       "children": [
        "IPY_MODEL_b849c3223f694322b9851bfd17e94292",
        "IPY_MODEL_bf2c498defb5412fb4a83b0ba72f0894",
        "IPY_MODEL_336cecbcc47a407e85174efeb9940365"
       ],
       "layout": "IPY_MODEL_83763e7e90fe40e2ba59984c896f0647"
      }
     },
     "f8a498a426c74ae0ace95fbf27e04e0c": {
      "model_module": "@jupyter-widgets/base",
      "model_module_version": "1.2.0",
      "model_name": "LayoutModel",
      "state": {}
     },
     "f8d37b06948c40e6b04f96613b5b4b56": {
      "model_module": "@jupyter-widgets/controls",
      "model_module_version": "1.5.0",
      "model_name": "ProgressStyleModel",
      "state": {
       "description_width": ""
      }
     },
     "f8d4a856d47144699178b2a1ff83896f": {
      "model_module": "@jupyter-widgets/controls",
      "model_module_version": "1.5.0",
      "model_name": "FloatProgressModel",
      "state": {
       "bar_style": "success",
       "layout": "IPY_MODEL_3dad295f9ce343bca6751dd6e19060d6",
       "max": 38,
       "style": "IPY_MODEL_40abe9d7169a48f1a714119dabba6522",
       "value": 38
      }
     },
     "f992c4ceff0f4652901a1dc71b5b9c0b": {
      "model_module": "@jupyter-widgets/controls",
      "model_module_version": "1.5.0",
      "model_name": "HBoxModel",
      "state": {
       "children": [
        "IPY_MODEL_04f768edb5d5492897da5d85123af635",
        "IPY_MODEL_348261f45b424721ad8c4ef7d39e09b6",
        "IPY_MODEL_2b96fd7a02fd48de81809ea0ce42f9d5"
       ],
       "layout": "IPY_MODEL_39b6804649294d8fa476aee2e860b6f7"
      }
     },
     "f9aaa5d125be44399709cbdde0ae11e1": {
      "model_module": "@jupyter-widgets/base",
      "model_module_version": "1.2.0",
      "model_name": "LayoutModel",
      "state": {}
     },
     "f9d98d0f370b4f7a943d7ec089f66ffe": {
      "model_module": "@jupyter-widgets/controls",
      "model_module_version": "1.5.0",
      "model_name": "HTMLModel",
      "state": {
       "layout": "IPY_MODEL_2747d4fd6cb94bc7bbaed152702bfd6c",
       "style": "IPY_MODEL_747ea85492cf4f43a087163c54279e86",
       "value": " 38/38 [00:01&lt;00:00, 26.55it/s]"
      }
     },
     "fa1b4dff2a6843e2bc91f65e33a3174e": {
      "model_module": "@jupyter-widgets/controls",
      "model_module_version": "1.5.0",
      "model_name": "ProgressStyleModel",
      "state": {
       "description_width": ""
      }
     },
     "fa2e103be307417b8acc21531a400dfc": {
      "model_module": "@jupyter-widgets/controls",
      "model_module_version": "1.5.0",
      "model_name": "HTMLModel",
      "state": {
       "layout": "IPY_MODEL_1acf3b923513435892456d550ddc004a",
       "style": "IPY_MODEL_5d1267f6e0f14cfd94838e501733b839",
       "value": "Epoch: 34. Validation. 0.22459: 100%"
      }
     },
     "fa32980d4b544f9c90a6027c310e856a": {
      "model_module": "@jupyter-widgets/base",
      "model_module_version": "1.2.0",
      "model_name": "LayoutModel",
      "state": {}
     },
     "fa77a058a1c34136ba039900067925e3": {
      "model_module": "@jupyter-widgets/controls",
      "model_module_version": "1.5.0",
      "model_name": "ProgressStyleModel",
      "state": {
       "description_width": ""
      }
     },
     "fad1b44d6d164200872b04a49b604620": {
      "model_module": "@jupyter-widgets/base",
      "model_module_version": "1.2.0",
      "model_name": "LayoutModel",
      "state": {}
     },
     "fb727a9683df470cb2f10576966b5bce": {
      "model_module": "@jupyter-widgets/base",
      "model_module_version": "1.2.0",
      "model_name": "LayoutModel",
      "state": {}
     },
     "fba36a23ab434ddebb35ea86f7b21fe7": {
      "model_module": "@jupyter-widgets/base",
      "model_module_version": "1.2.0",
      "model_name": "LayoutModel",
      "state": {}
     },
     "fbb86584eead43d3bd7cad466518402a": {
      "model_module": "@jupyter-widgets/controls",
      "model_module_version": "1.5.0",
      "model_name": "HTMLModel",
      "state": {
       "layout": "IPY_MODEL_d988614df90947b7b0b27d97411b14ef",
       "style": "IPY_MODEL_7a1b2a52b15d40c48d27777b260f8993",
       "value": " 5/5 [00:00&lt;00:00, 15.90it/s]"
      }
     },
     "fbbad7b69a25431da1d10bf33d9acfa5": {
      "model_module": "@jupyter-widgets/base",
      "model_module_version": "1.2.0",
      "model_name": "LayoutModel",
      "state": {}
     },
     "fbdf47888d14466a9040a49de198d4ef": {
      "model_module": "@jupyter-widgets/controls",
      "model_module_version": "1.5.0",
      "model_name": "HTMLModel",
      "state": {
       "layout": "IPY_MODEL_722f72bce47c462c9da823454f58ef14",
       "style": "IPY_MODEL_bc69a71dba5d4bbaafd9af1a7e9da998",
       "value": " 38/38 [00:01&lt;00:00, 26.39it/s]"
      }
     },
     "fbe7642265384a26b7d3cc53b0c03b50": {
      "model_module": "@jupyter-widgets/base",
      "model_module_version": "1.2.0",
      "model_name": "LayoutModel",
      "state": {}
     },
     "fc7df5fb09d646438a52fd167ae8dac3": {
      "model_module": "@jupyter-widgets/controls",
      "model_module_version": "1.5.0",
      "model_name": "ProgressStyleModel",
      "state": {
       "description_width": ""
      }
     },
     "fc9bd71b40cb4abc98c6736a7145bbc3": {
      "model_module": "@jupyter-widgets/base",
      "model_module_version": "1.2.0",
      "model_name": "LayoutModel",
      "state": {}
     },
     "fcf8688c5633410ca5c90e03e0ec0192": {
      "model_module": "@jupyter-widgets/base",
      "model_module_version": "1.2.0",
      "model_name": "LayoutModel",
      "state": {}
     },
     "fd04158958054afca2872b255fb76e2f": {
      "model_module": "@jupyter-widgets/controls",
      "model_module_version": "1.5.0",
      "model_name": "HBoxModel",
      "state": {
       "children": [
        "IPY_MODEL_893aaf5e96f14368860772533ec29572",
        "IPY_MODEL_fe5ec8aee5344fefa9bd03ca800fcea6",
        "IPY_MODEL_67fd9f23ac8a499e9b4488311f1f0437"
       ],
       "layout": "IPY_MODEL_d951e78b27a0448a83b8d1e4ffdb5aae"
      }
     },
     "fd6bc80c0d0f4e2db74dcc8b517eb517": {
      "model_module": "@jupyter-widgets/controls",
      "model_module_version": "1.5.0",
      "model_name": "FloatProgressModel",
      "state": {
       "bar_style": "success",
       "layout": "IPY_MODEL_13ee2f75c6034e2b9ca22c1134357bb2",
       "max": 5,
       "style": "IPY_MODEL_07dbfa45518b4f1cb30c84b8c37d05ad",
       "value": 5
      }
     },
     "fdf84a802efe4218a7acff00b1676df3": {
      "model_module": "@jupyter-widgets/controls",
      "model_module_version": "1.5.0",
      "model_name": "FloatProgressModel",
      "state": {
       "bar_style": "success",
       "layout": "IPY_MODEL_fe6f21cdd8b048afb7f667d4997a0f27",
       "max": 5,
       "style": "IPY_MODEL_fa77a058a1c34136ba039900067925e3",
       "value": 5
      }
     },
     "fe18889802114deaa865745dc502306f": {
      "model_module": "@jupyter-widgets/controls",
      "model_module_version": "1.5.0",
      "model_name": "ProgressStyleModel",
      "state": {
       "description_width": ""
      }
     },
     "fe43bc7a37694cb09216a3f900d9a109": {
      "model_module": "@jupyter-widgets/controls",
      "model_module_version": "1.5.0",
      "model_name": "FloatProgressModel",
      "state": {
       "bar_style": "success",
       "layout": "IPY_MODEL_1d7b072c4e7442089c83a5c06a9ddecc",
       "max": 38,
       "style": "IPY_MODEL_6e48c4ebc7b240f993e77b15317b6516",
       "value": 38
      }
     },
     "fe5ec8aee5344fefa9bd03ca800fcea6": {
      "model_module": "@jupyter-widgets/controls",
      "model_module_version": "1.5.0",
      "model_name": "FloatProgressModel",
      "state": {
       "bar_style": "success",
       "layout": "IPY_MODEL_7e8beaae1220402dbaeb84453bc518a2",
       "max": 5,
       "style": "IPY_MODEL_4041803b2fff4be2b5cdd3e0bda17cb6",
       "value": 5
      }
     },
     "fe6f21cdd8b048afb7f667d4997a0f27": {
      "model_module": "@jupyter-widgets/base",
      "model_module_version": "1.2.0",
      "model_name": "LayoutModel",
      "state": {}
     },
     "fe70cba41169480f85497eb62c5c4af4": {
      "model_module": "@jupyter-widgets/base",
      "model_module_version": "1.2.0",
      "model_name": "LayoutModel",
      "state": {}
     },
     "fed825d09ea641b980785fda54a593b9": {
      "model_module": "@jupyter-widgets/controls",
      "model_module_version": "1.5.0",
      "model_name": "ProgressStyleModel",
      "state": {
       "description_width": ""
      }
     },
     "ff319c3d720242b082dd03382cca9651": {
      "model_module": "@jupyter-widgets/controls",
      "model_module_version": "1.5.0",
      "model_name": "ProgressStyleModel",
      "state": {
       "description_width": ""
      }
     },
     "ff3cb1b6902e4a3099cfca926d7c93e7": {
      "model_module": "@jupyter-widgets/controls",
      "model_module_version": "1.5.0",
      "model_name": "HTMLModel",
      "state": {
       "layout": "IPY_MODEL_6801a0b74ef94711808528bd34023e2e",
       "style": "IPY_MODEL_ec8973bbcfa943629a0475326c6fc383",
       "value": "Epoch: 16. Train.    3.09986: 100%"
      }
     },
     "ff3e4f10ab3542b88a9cc0e872be35f6": {
      "model_module": "@jupyter-widgets/controls",
      "model_module_version": "1.5.0",
      "model_name": "DescriptionStyleModel",
      "state": {
       "description_width": ""
      }
     },
     "ff6a6e60a36a4fd986a3c3bedc9483db": {
      "model_module": "@jupyter-widgets/base",
      "model_module_version": "1.2.0",
      "model_name": "LayoutModel",
      "state": {}
     },
     "ff914ce2428349a0a3737dc635199349": {
      "model_module": "@jupyter-widgets/controls",
      "model_module_version": "1.5.0",
      "model_name": "ProgressStyleModel",
      "state": {
       "description_width": ""
      }
     },
     "ffca04d91edf45b6ac4fe1eea9e18de7": {
      "model_module": "@jupyter-widgets/base",
      "model_module_version": "1.2.0",
      "model_name": "LayoutModel",
      "state": {}
     }
    },
    "version_major": 2,
    "version_minor": 0
   }
  }
 },
 "nbformat": 4,
 "nbformat_minor": 4
}
